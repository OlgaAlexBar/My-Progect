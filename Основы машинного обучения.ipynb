{
 "cells": [
  {
   "cell_type": "markdown",
   "metadata": {},
   "source": [
    "# Анализ оттока клиентов из сети фитнес центров"
   ]
  },
  {
   "cell_type": "markdown",
   "metadata": {},
   "source": [
    "**Описание проекта**\n",
    "\n",
    "Сеть фитнес-центров «Культурист-датасаентист» разрабатывает стратегию взаимодействия с клиентами на основе аналитических данных.\n",
    "\n",
    "Задача — провести анализ и подготовить план действий по удержанию клиентов.\n",
    "\n",
    "А именно:\n",
    "научиться прогнозировать вероятность оттока (на уровне следующего месяца) для каждого клиента;\n",
    "\n",
    "сформировать типичные портреты клиентов: выделить несколько наиболее ярких групп и охарактеризовать их основные свойства; \n",
    "\n",
    "проанализировать основные признаки, наиболее сильно влияющие на отток; \n",
    "\n",
    "сформулировать основные выводы и разработать рекомендации по повышению качества работы с клиентами:\n",
    "\n",
    "**Описание данных**\n",
    "\n",
    " - 'Churn' — факт оттока в текущем месяце;\n",
    "\n",
    "Текущие поля в датасете:\n",
    "\n",
    "Данные клиента за предыдущий до проверки факта оттока месяц:\n",
    "\n",
    " - 'gender' — пол;\n",
    "\n",
    " - 'Near_Location' — проживание или работа в районе, где находится фитнес-центр;\n",
    "\n",
    " - 'Partner' — сотрудник компании-партнёра клуба (сотрудничество с компаниями, чьи сотрудники могут получать скидки на абонемент — в таком случае фитнес-центр хранит информацию о работодателе клиента);\n",
    " \n",
    " - 'Promo_friends' — факт первоначальной записи в рамках акции «приведи друга» (использовал промо-код от знакомого при оплате первого абонемента);\n",
    "\n",
    " - 'Phone' — наличие контактного телефона;\n",
    " \n",
    " - 'Age' — возраст;\n",
    " \n",
    " - 'Lifetime' — время с момента первого обращения в фитнес-центр (в месяцах).\n",
    "Информация на основе журнала посещений, покупок и информация о текущем статусе абонемента клиента:\n",
    "\n",
    " \n",
    " - 'Contract_period' — длительность текущего действующего абонемента (месяц, 3 месяца, 6 месяцев, год);\n",
    " \n",
    " - 'Month_to_end_contract' — срок до окончания текущего действующего абонемента (в месяцах);\n",
    " \n",
    " - 'Group_visits' — факт посещения групповых занятий;\n",
    " \n",
    " - 'Avg_class_frequency_total' — средняя частота посещений в неделю за все время с начала действия абонемента;\n",
    " \n",
    " - 'Avg_class_frequency_current_month' — средняя частота посещений в неделю за предыдущий месяц;\n",
    " \n",
    " - 'Avg_additional_charges_total' — суммарная выручка от других услуг фитнес-центра: кафе, спорт-товары, косметический и массажный салон."
   ]
  },
  {
   "cell_type": "markdown",
   "metadata": {},
   "source": [
    "## Загрузим данные"
   ]
  },
  {
   "cell_type": "code",
   "execution_count": 359,
   "metadata": {},
   "outputs": [],
   "source": [
    "#импортируем необходимые библиотеки\n",
    "import pandas as pd\n",
    "\n",
    "import seaborn as sns\n",
    "import numpy as np\n",
    "import matplotlib\n",
    "import matplotlib.pyplot as plt\n",
    "import re\n",
    "from plotly import graph_objects as go\n",
    "\n",
    "from sklearn.model_selection import train_test_split\n",
    "from sklearn.linear_model import LogisticRegression\n",
    "from sklearn.ensemble import RandomForestClassifier\n",
    "from sklearn.preprocessing import StandardScaler\n",
    "from sklearn.metrics import accuracy_score, precision_score, recall_score, f1_score\n",
    "from scipy.cluster.hierarchy import dendrogram, linkage\n",
    "from sklearn.cluster import KMeans\n",
    "from sklearn.ensemble import RandomForestRegressor, GradientBoostingClassifier\n",
    "from sklearn.model_selection import RandomizedSearchCV\n",
    "from sklearn.model_selection import cross_val_score"
   ]
  },
  {
   "cell_type": "code",
   "execution_count": 360,
   "metadata": {},
   "outputs": [],
   "source": [
    "#прочитаем таблицу и сохраним ее в переменную df\n",
    "\n",
    "df = pd.read_csv('/datasets/gym_churn.csv')"
   ]
  },
  {
   "cell_type": "code",
   "execution_count": 361,
   "metadata": {},
   "outputs": [
    {
     "data": {
      "text/html": [
       "<div>\n",
       "<style scoped>\n",
       "    .dataframe tbody tr th:only-of-type {\n",
       "        vertical-align: middle;\n",
       "    }\n",
       "\n",
       "    .dataframe tbody tr th {\n",
       "        vertical-align: top;\n",
       "    }\n",
       "\n",
       "    .dataframe thead th {\n",
       "        text-align: right;\n",
       "    }\n",
       "</style>\n",
       "<table border=\"1\" class=\"dataframe\">\n",
       "  <thead>\n",
       "    <tr style=\"text-align: right;\">\n",
       "      <th></th>\n",
       "      <th>gender</th>\n",
       "      <th>Near_Location</th>\n",
       "      <th>Partner</th>\n",
       "      <th>Promo_friends</th>\n",
       "      <th>Phone</th>\n",
       "      <th>Contract_period</th>\n",
       "      <th>Group_visits</th>\n",
       "      <th>Age</th>\n",
       "      <th>Avg_additional_charges_total</th>\n",
       "      <th>Month_to_end_contract</th>\n",
       "      <th>Lifetime</th>\n",
       "      <th>Avg_class_frequency_total</th>\n",
       "      <th>Avg_class_frequency_current_month</th>\n",
       "      <th>Churn</th>\n",
       "    </tr>\n",
       "  </thead>\n",
       "  <tbody>\n",
       "    <tr>\n",
       "      <th>0</th>\n",
       "      <td>1</td>\n",
       "      <td>1</td>\n",
       "      <td>1</td>\n",
       "      <td>1</td>\n",
       "      <td>0</td>\n",
       "      <td>6</td>\n",
       "      <td>1</td>\n",
       "      <td>29</td>\n",
       "      <td>14.227470</td>\n",
       "      <td>5.0</td>\n",
       "      <td>3</td>\n",
       "      <td>0.020398</td>\n",
       "      <td>0.000000</td>\n",
       "      <td>0</td>\n",
       "    </tr>\n",
       "    <tr>\n",
       "      <th>1</th>\n",
       "      <td>0</td>\n",
       "      <td>1</td>\n",
       "      <td>0</td>\n",
       "      <td>0</td>\n",
       "      <td>1</td>\n",
       "      <td>12</td>\n",
       "      <td>1</td>\n",
       "      <td>31</td>\n",
       "      <td>113.202938</td>\n",
       "      <td>12.0</td>\n",
       "      <td>7</td>\n",
       "      <td>1.922936</td>\n",
       "      <td>1.910244</td>\n",
       "      <td>0</td>\n",
       "    </tr>\n",
       "    <tr>\n",
       "      <th>2</th>\n",
       "      <td>0</td>\n",
       "      <td>1</td>\n",
       "      <td>1</td>\n",
       "      <td>0</td>\n",
       "      <td>1</td>\n",
       "      <td>1</td>\n",
       "      <td>0</td>\n",
       "      <td>28</td>\n",
       "      <td>129.448479</td>\n",
       "      <td>1.0</td>\n",
       "      <td>2</td>\n",
       "      <td>1.859098</td>\n",
       "      <td>1.736502</td>\n",
       "      <td>0</td>\n",
       "    </tr>\n",
       "    <tr>\n",
       "      <th>3</th>\n",
       "      <td>0</td>\n",
       "      <td>1</td>\n",
       "      <td>1</td>\n",
       "      <td>1</td>\n",
       "      <td>1</td>\n",
       "      <td>12</td>\n",
       "      <td>1</td>\n",
       "      <td>33</td>\n",
       "      <td>62.669863</td>\n",
       "      <td>12.0</td>\n",
       "      <td>2</td>\n",
       "      <td>3.205633</td>\n",
       "      <td>3.357215</td>\n",
       "      <td>0</td>\n",
       "    </tr>\n",
       "    <tr>\n",
       "      <th>4</th>\n",
       "      <td>1</td>\n",
       "      <td>1</td>\n",
       "      <td>1</td>\n",
       "      <td>1</td>\n",
       "      <td>1</td>\n",
       "      <td>1</td>\n",
       "      <td>0</td>\n",
       "      <td>26</td>\n",
       "      <td>198.362265</td>\n",
       "      <td>1.0</td>\n",
       "      <td>3</td>\n",
       "      <td>1.113884</td>\n",
       "      <td>1.120078</td>\n",
       "      <td>0</td>\n",
       "    </tr>\n",
       "  </tbody>\n",
       "</table>\n",
       "</div>"
      ],
      "text/plain": [
       "   gender  Near_Location  Partner  Promo_friends  Phone  Contract_period  \\\n",
       "0       1              1        1              1      0                6   \n",
       "1       0              1        0              0      1               12   \n",
       "2       0              1        1              0      1                1   \n",
       "3       0              1        1              1      1               12   \n",
       "4       1              1        1              1      1                1   \n",
       "\n",
       "   Group_visits  Age  Avg_additional_charges_total  Month_to_end_contract  \\\n",
       "0             1   29                     14.227470                    5.0   \n",
       "1             1   31                    113.202938                   12.0   \n",
       "2             0   28                    129.448479                    1.0   \n",
       "3             1   33                     62.669863                   12.0   \n",
       "4             0   26                    198.362265                    1.0   \n",
       "\n",
       "   Lifetime  Avg_class_frequency_total  Avg_class_frequency_current_month  \\\n",
       "0         3                   0.020398                           0.000000   \n",
       "1         7                   1.922936                           1.910244   \n",
       "2         2                   1.859098                           1.736502   \n",
       "3         2                   3.205633                           3.357215   \n",
       "4         3                   1.113884                           1.120078   \n",
       "\n",
       "   Churn  \n",
       "0      0  \n",
       "1      0  \n",
       "2      0  \n",
       "3      0  \n",
       "4      0  "
      ]
     },
     "execution_count": 361,
     "metadata": {},
     "output_type": "execute_result"
    }
   ],
   "source": [
    "df.head()"
   ]
  },
  {
   "cell_type": "code",
   "execution_count": 362,
   "metadata": {},
   "outputs": [],
   "source": [
    "#Преведем названия столбцов к нижнему регистру \n",
    "df.columns = df.columns.str.lower()"
   ]
  },
  {
   "cell_type": "markdown",
   "metadata": {},
   "source": [
    "## Проведем исследовательский анализ данных (EDA)"
   ]
  },
  {
   "cell_type": "code",
   "execution_count": 363,
   "metadata": {
    "scrolled": true
   },
   "outputs": [
    {
     "name": "stdout",
     "output_type": "stream",
     "text": [
      "<class 'pandas.core.frame.DataFrame'>\n",
      "RangeIndex: 4000 entries, 0 to 3999\n",
      "Data columns (total 14 columns):\n",
      " #   Column                             Non-Null Count  Dtype  \n",
      "---  ------                             --------------  -----  \n",
      " 0   gender                             4000 non-null   int64  \n",
      " 1   near_location                      4000 non-null   int64  \n",
      " 2   partner                            4000 non-null   int64  \n",
      " 3   promo_friends                      4000 non-null   int64  \n",
      " 4   phone                              4000 non-null   int64  \n",
      " 5   contract_period                    4000 non-null   int64  \n",
      " 6   group_visits                       4000 non-null   int64  \n",
      " 7   age                                4000 non-null   int64  \n",
      " 8   avg_additional_charges_total       4000 non-null   float64\n",
      " 9   month_to_end_contract              4000 non-null   float64\n",
      " 10  lifetime                           4000 non-null   int64  \n",
      " 11  avg_class_frequency_total          4000 non-null   float64\n",
      " 12  avg_class_frequency_current_month  4000 non-null   float64\n",
      " 13  churn                              4000 non-null   int64  \n",
      "dtypes: float64(4), int64(10)\n",
      "memory usage: 437.6 KB\n"
     ]
    }
   ],
   "source": [
    "df.info()"
   ]
  },
  {
   "cell_type": "code",
   "execution_count": 364,
   "metadata": {},
   "outputs": [
    {
     "data": {
      "text/plain": [
       "0"
      ]
     },
     "execution_count": 364,
     "metadata": {},
     "output_type": "execute_result"
    }
   ],
   "source": [
    "#проверим на дубликаты\n",
    "df.duplicated().sum()"
   ]
  },
  {
   "cell_type": "markdown",
   "metadata": {},
   "source": [
    "Дубликатов и пропусков нет."
   ]
  },
  {
   "cell_type": "markdown",
   "metadata": {},
   "source": [
    "### Посмотрим на датасет: есть ли в нем отсутствующие признаки, изучим средние значения и стандартные отклонения"
   ]
  },
  {
   "cell_type": "code",
   "execution_count": 365,
   "metadata": {
    "scrolled": true
   },
   "outputs": [
    {
     "data": {
      "text/html": [
       "<div>\n",
       "<style scoped>\n",
       "    .dataframe tbody tr th:only-of-type {\n",
       "        vertical-align: middle;\n",
       "    }\n",
       "\n",
       "    .dataframe tbody tr th {\n",
       "        vertical-align: top;\n",
       "    }\n",
       "\n",
       "    .dataframe thead th {\n",
       "        text-align: right;\n",
       "    }\n",
       "</style>\n",
       "<table border=\"1\" class=\"dataframe\">\n",
       "  <thead>\n",
       "    <tr style=\"text-align: right;\">\n",
       "      <th></th>\n",
       "      <th>count</th>\n",
       "      <th>mean</th>\n",
       "      <th>std</th>\n",
       "      <th>min</th>\n",
       "      <th>25%</th>\n",
       "      <th>50%</th>\n",
       "      <th>75%</th>\n",
       "      <th>max</th>\n",
       "    </tr>\n",
       "  </thead>\n",
       "  <tbody>\n",
       "    <tr>\n",
       "      <th>gender</th>\n",
       "      <td>4000.0</td>\n",
       "      <td>0.510250</td>\n",
       "      <td>0.499957</td>\n",
       "      <td>0.000000</td>\n",
       "      <td>0.000000</td>\n",
       "      <td>1.000000</td>\n",
       "      <td>1.000000</td>\n",
       "      <td>1.000000</td>\n",
       "    </tr>\n",
       "    <tr>\n",
       "      <th>near_location</th>\n",
       "      <td>4000.0</td>\n",
       "      <td>0.845250</td>\n",
       "      <td>0.361711</td>\n",
       "      <td>0.000000</td>\n",
       "      <td>1.000000</td>\n",
       "      <td>1.000000</td>\n",
       "      <td>1.000000</td>\n",
       "      <td>1.000000</td>\n",
       "    </tr>\n",
       "    <tr>\n",
       "      <th>partner</th>\n",
       "      <td>4000.0</td>\n",
       "      <td>0.486750</td>\n",
       "      <td>0.499887</td>\n",
       "      <td>0.000000</td>\n",
       "      <td>0.000000</td>\n",
       "      <td>0.000000</td>\n",
       "      <td>1.000000</td>\n",
       "      <td>1.000000</td>\n",
       "    </tr>\n",
       "    <tr>\n",
       "      <th>promo_friends</th>\n",
       "      <td>4000.0</td>\n",
       "      <td>0.308500</td>\n",
       "      <td>0.461932</td>\n",
       "      <td>0.000000</td>\n",
       "      <td>0.000000</td>\n",
       "      <td>0.000000</td>\n",
       "      <td>1.000000</td>\n",
       "      <td>1.000000</td>\n",
       "    </tr>\n",
       "    <tr>\n",
       "      <th>phone</th>\n",
       "      <td>4000.0</td>\n",
       "      <td>0.903500</td>\n",
       "      <td>0.295313</td>\n",
       "      <td>0.000000</td>\n",
       "      <td>1.000000</td>\n",
       "      <td>1.000000</td>\n",
       "      <td>1.000000</td>\n",
       "      <td>1.000000</td>\n",
       "    </tr>\n",
       "    <tr>\n",
       "      <th>contract_period</th>\n",
       "      <td>4000.0</td>\n",
       "      <td>4.681250</td>\n",
       "      <td>4.549706</td>\n",
       "      <td>1.000000</td>\n",
       "      <td>1.000000</td>\n",
       "      <td>1.000000</td>\n",
       "      <td>6.000000</td>\n",
       "      <td>12.000000</td>\n",
       "    </tr>\n",
       "    <tr>\n",
       "      <th>group_visits</th>\n",
       "      <td>4000.0</td>\n",
       "      <td>0.412250</td>\n",
       "      <td>0.492301</td>\n",
       "      <td>0.000000</td>\n",
       "      <td>0.000000</td>\n",
       "      <td>0.000000</td>\n",
       "      <td>1.000000</td>\n",
       "      <td>1.000000</td>\n",
       "    </tr>\n",
       "    <tr>\n",
       "      <th>age</th>\n",
       "      <td>4000.0</td>\n",
       "      <td>29.184250</td>\n",
       "      <td>3.258367</td>\n",
       "      <td>18.000000</td>\n",
       "      <td>27.000000</td>\n",
       "      <td>29.000000</td>\n",
       "      <td>31.000000</td>\n",
       "      <td>41.000000</td>\n",
       "    </tr>\n",
       "    <tr>\n",
       "      <th>avg_additional_charges_total</th>\n",
       "      <td>4000.0</td>\n",
       "      <td>146.943728</td>\n",
       "      <td>96.355602</td>\n",
       "      <td>0.148205</td>\n",
       "      <td>68.868830</td>\n",
       "      <td>136.220159</td>\n",
       "      <td>210.949625</td>\n",
       "      <td>552.590740</td>\n",
       "    </tr>\n",
       "    <tr>\n",
       "      <th>month_to_end_contract</th>\n",
       "      <td>4000.0</td>\n",
       "      <td>4.322750</td>\n",
       "      <td>4.191297</td>\n",
       "      <td>1.000000</td>\n",
       "      <td>1.000000</td>\n",
       "      <td>1.000000</td>\n",
       "      <td>6.000000</td>\n",
       "      <td>12.000000</td>\n",
       "    </tr>\n",
       "    <tr>\n",
       "      <th>lifetime</th>\n",
       "      <td>4000.0</td>\n",
       "      <td>3.724750</td>\n",
       "      <td>3.749267</td>\n",
       "      <td>0.000000</td>\n",
       "      <td>1.000000</td>\n",
       "      <td>3.000000</td>\n",
       "      <td>5.000000</td>\n",
       "      <td>31.000000</td>\n",
       "    </tr>\n",
       "    <tr>\n",
       "      <th>avg_class_frequency_total</th>\n",
       "      <td>4000.0</td>\n",
       "      <td>1.879020</td>\n",
       "      <td>0.972245</td>\n",
       "      <td>0.000000</td>\n",
       "      <td>1.180875</td>\n",
       "      <td>1.832768</td>\n",
       "      <td>2.536078</td>\n",
       "      <td>6.023668</td>\n",
       "    </tr>\n",
       "    <tr>\n",
       "      <th>avg_class_frequency_current_month</th>\n",
       "      <td>4000.0</td>\n",
       "      <td>1.767052</td>\n",
       "      <td>1.052906</td>\n",
       "      <td>0.000000</td>\n",
       "      <td>0.963003</td>\n",
       "      <td>1.719574</td>\n",
       "      <td>2.510336</td>\n",
       "      <td>6.146783</td>\n",
       "    </tr>\n",
       "    <tr>\n",
       "      <th>churn</th>\n",
       "      <td>4000.0</td>\n",
       "      <td>0.265250</td>\n",
       "      <td>0.441521</td>\n",
       "      <td>0.000000</td>\n",
       "      <td>0.000000</td>\n",
       "      <td>0.000000</td>\n",
       "      <td>1.000000</td>\n",
       "      <td>1.000000</td>\n",
       "    </tr>\n",
       "  </tbody>\n",
       "</table>\n",
       "</div>"
      ],
      "text/plain": [
       "                                    count        mean        std        min  \\\n",
       "gender                             4000.0    0.510250   0.499957   0.000000   \n",
       "near_location                      4000.0    0.845250   0.361711   0.000000   \n",
       "partner                            4000.0    0.486750   0.499887   0.000000   \n",
       "promo_friends                      4000.0    0.308500   0.461932   0.000000   \n",
       "phone                              4000.0    0.903500   0.295313   0.000000   \n",
       "contract_period                    4000.0    4.681250   4.549706   1.000000   \n",
       "group_visits                       4000.0    0.412250   0.492301   0.000000   \n",
       "age                                4000.0   29.184250   3.258367  18.000000   \n",
       "avg_additional_charges_total       4000.0  146.943728  96.355602   0.148205   \n",
       "month_to_end_contract              4000.0    4.322750   4.191297   1.000000   \n",
       "lifetime                           4000.0    3.724750   3.749267   0.000000   \n",
       "avg_class_frequency_total          4000.0    1.879020   0.972245   0.000000   \n",
       "avg_class_frequency_current_month  4000.0    1.767052   1.052906   0.000000   \n",
       "churn                              4000.0    0.265250   0.441521   0.000000   \n",
       "\n",
       "                                         25%         50%         75%  \\\n",
       "gender                              0.000000    1.000000    1.000000   \n",
       "near_location                       1.000000    1.000000    1.000000   \n",
       "partner                             0.000000    0.000000    1.000000   \n",
       "promo_friends                       0.000000    0.000000    1.000000   \n",
       "phone                               1.000000    1.000000    1.000000   \n",
       "contract_period                     1.000000    1.000000    6.000000   \n",
       "group_visits                        0.000000    0.000000    1.000000   \n",
       "age                                27.000000   29.000000   31.000000   \n",
       "avg_additional_charges_total       68.868830  136.220159  210.949625   \n",
       "month_to_end_contract               1.000000    1.000000    6.000000   \n",
       "lifetime                            1.000000    3.000000    5.000000   \n",
       "avg_class_frequency_total           1.180875    1.832768    2.536078   \n",
       "avg_class_frequency_current_month   0.963003    1.719574    2.510336   \n",
       "churn                               0.000000    0.000000    1.000000   \n",
       "\n",
       "                                          max  \n",
       "gender                               1.000000  \n",
       "near_location                        1.000000  \n",
       "partner                              1.000000  \n",
       "promo_friends                        1.000000  \n",
       "phone                                1.000000  \n",
       "contract_period                     12.000000  \n",
       "group_visits                         1.000000  \n",
       "age                                 41.000000  \n",
       "avg_additional_charges_total       552.590740  \n",
       "month_to_end_contract               12.000000  \n",
       "lifetime                            31.000000  \n",
       "avg_class_frequency_total            6.023668  \n",
       "avg_class_frequency_current_month    6.146783  \n",
       "churn                                1.000000  "
      ]
     },
     "execution_count": 365,
     "metadata": {},
     "output_type": "execute_result"
    }
   ],
   "source": [
    "df.describe().T"
   ]
  },
  {
   "cell_type": "markdown",
   "metadata": {},
   "source": [
    "Из таблицы видим, что: \n",
    "\n",
    "Почти у 85% клиентов фитнес центр находится рядом с работой или домом, \n",
    "\n",
    "примерно 41% клиентов посещают групповые занятия, \n",
    "\n",
    "31% пришли по рекомендации друзей. \n",
    "\n",
    "Средний возраст клиентов - 29 лет,зал посещают люди от 18 до 41 года и в гендерном соотношении разделены практически одинаково. \n",
    "\n",
    "Почти половина клиентов - сотрудники компании-партнёра клуба. \n",
    "\n",
    "Факт оттока в текущем месяце зафиксирован у 27% клиентов."
   ]
  },
  {
   "cell_type": "markdown",
   "metadata": {},
   "source": [
    "###  Посмотрим на средние значения признаков в двух группах — тех, кто ушел в отток и тех, кто остался"
   ]
  },
  {
   "cell_type": "code",
   "execution_count": 366,
   "metadata": {
    "scrolled": false
   },
   "outputs": [
    {
     "data": {
      "text/html": [
       "<div>\n",
       "<style scoped>\n",
       "    .dataframe tbody tr th:only-of-type {\n",
       "        vertical-align: middle;\n",
       "    }\n",
       "\n",
       "    .dataframe tbody tr th {\n",
       "        vertical-align: top;\n",
       "    }\n",
       "\n",
       "    .dataframe thead th {\n",
       "        text-align: right;\n",
       "    }\n",
       "</style>\n",
       "<table border=\"1\" class=\"dataframe\">\n",
       "  <thead>\n",
       "    <tr style=\"text-align: right;\">\n",
       "      <th>churn</th>\n",
       "      <th>0</th>\n",
       "      <th>1</th>\n",
       "    </tr>\n",
       "  </thead>\n",
       "  <tbody>\n",
       "    <tr>\n",
       "      <th>gender</th>\n",
       "      <td>0.510037</td>\n",
       "      <td>0.510839</td>\n",
       "    </tr>\n",
       "    <tr>\n",
       "      <th>near_location</th>\n",
       "      <td>0.873086</td>\n",
       "      <td>0.768143</td>\n",
       "    </tr>\n",
       "    <tr>\n",
       "      <th>partner</th>\n",
       "      <td>0.534195</td>\n",
       "      <td>0.355325</td>\n",
       "    </tr>\n",
       "    <tr>\n",
       "      <th>promo_friends</th>\n",
       "      <td>0.353522</td>\n",
       "      <td>0.183789</td>\n",
       "    </tr>\n",
       "    <tr>\n",
       "      <th>phone</th>\n",
       "      <td>0.903709</td>\n",
       "      <td>0.902922</td>\n",
       "    </tr>\n",
       "    <tr>\n",
       "      <th>contract_period</th>\n",
       "      <td>5.747193</td>\n",
       "      <td>1.728558</td>\n",
       "    </tr>\n",
       "    <tr>\n",
       "      <th>group_visits</th>\n",
       "      <td>0.464103</td>\n",
       "      <td>0.268615</td>\n",
       "    </tr>\n",
       "    <tr>\n",
       "      <th>age</th>\n",
       "      <td>29.976523</td>\n",
       "      <td>26.989632</td>\n",
       "    </tr>\n",
       "    <tr>\n",
       "      <th>avg_additional_charges_total</th>\n",
       "      <td>158.445715</td>\n",
       "      <td>115.082899</td>\n",
       "    </tr>\n",
       "    <tr>\n",
       "      <th>month_to_end_contract</th>\n",
       "      <td>5.283089</td>\n",
       "      <td>1.662582</td>\n",
       "    </tr>\n",
       "    <tr>\n",
       "      <th>lifetime</th>\n",
       "      <td>4.711807</td>\n",
       "      <td>0.990575</td>\n",
       "    </tr>\n",
       "    <tr>\n",
       "      <th>avg_class_frequency_total</th>\n",
       "      <td>2.024876</td>\n",
       "      <td>1.474995</td>\n",
       "    </tr>\n",
       "    <tr>\n",
       "      <th>avg_class_frequency_current_month</th>\n",
       "      <td>2.027882</td>\n",
       "      <td>1.044546</td>\n",
       "    </tr>\n",
       "  </tbody>\n",
       "</table>\n",
       "</div>"
      ],
      "text/plain": [
       "churn                                       0           1\n",
       "gender                               0.510037    0.510839\n",
       "near_location                        0.873086    0.768143\n",
       "partner                              0.534195    0.355325\n",
       "promo_friends                        0.353522    0.183789\n",
       "phone                                0.903709    0.902922\n",
       "contract_period                      5.747193    1.728558\n",
       "group_visits                         0.464103    0.268615\n",
       "age                                 29.976523   26.989632\n",
       "avg_additional_charges_total       158.445715  115.082899\n",
       "month_to_end_contract                5.283089    1.662582\n",
       "lifetime                             4.711807    0.990575\n",
       "avg_class_frequency_total            2.024876    1.474995\n",
       "avg_class_frequency_current_month    2.027882    1.044546"
      ]
     },
     "execution_count": 366,
     "metadata": {},
     "output_type": "execute_result"
    }
   ],
   "source": [
    "df.groupby('churn').mean().T"
   ]
  },
  {
   "cell_type": "markdown",
   "metadata": {},
   "source": [
    "Клиенты в оттоке это те, кто живут не очень близко, пришли на пробный период-месяц,не имели каких-либо предложений по скидкам/партнерским программам,почти не посещали групповых занятий."
   ]
  },
  {
   "cell_type": "markdown",
   "metadata": {},
   "source": [
    "### Построим столбчатые гистограммы и распределения признаков для тех, кто ушёл (отток) и тех, кто остался (не попали в отток)"
   ]
  },
  {
   "cell_type": "code",
   "execution_count": 367,
   "metadata": {},
   "outputs": [
    {
     "data": {
      "image/png": "[encoded data removed]",
      "text/plain": [
       "<Figure size 576x288 with 1 Axes>"
      ]
     },
     "metadata": {
      "needs_background": "light"
     },
     "output_type": "display_data"
    },
    {
     "data": {
      "image/png": "[encoded data removed]",
      "text/plain": [
       "<Figure size 576x288 with 1 Axes>"
      ]
     },
     "metadata": {
      "needs_background": "light"
     },
     "output_type": "display_data"
    },
    {
     "data": {
      "image/png": "[encoded data removed]",
      "text/plain": [
       "<Figure size 576x288 with 1 Axes>"
      ]
     },
     "metadata": {
      "needs_background": "light"
     },
     "output_type": "display_data"
    },
    {
     "data": {
      "image/png": "[encoded data removed]",
      "text/plain": [
       "<Figure size 576x288 with 1 Axes>"
      ]
     },
     "metadata": {
      "needs_background": "light"
     },
     "output_type": "display_data"
    },
    {
     "data": {
      "image/png": "[encoded data removed]",
      "text/plain": [
       "<Figure size 576x288 with 1 Axes>"
      ]
     },
     "metadata": {
      "needs_background": "light"
     },
     "output_type": "display_data"
    },
    {
     "data": {
      "image/png": "[encoded data removed]",
      "text/plain": [
       "<Figure size 576x288 with 1 Axes>"
      ]
     },
     "metadata": {
      "needs_background": "light"
     },
     "output_type": "display_data"
    }
   ],
   "source": [
    "# Изучим гистограммы небинарных признаков\n",
    "for col in ['age',\n",
    "     'avg_additional_charges_total',\n",
    "     'month_to_end_contract',\n",
    "     'lifetime',\n",
    "     'avg_class_frequency_total',\n",
    "     'avg_class_frequency_current_month']:\n",
    "    df.groupby('churn')[col].plot.hist(alpha=0.5, legend=True, bins=20, figsize=(8,4))\n",
    "    plt.legend(['Остался', 'Ушел'])\n",
    "    plt.title(col)\n",
    "    plt.show()       \n"
   ]
  },
  {
   "cell_type": "code",
   "execution_count": 368,
   "metadata": {
    "scrolled": true
   },
   "outputs": [
    {
     "data": {
      "image/png": "[encoded data removed]",
      "text/plain": [
       "<Figure size 360x360 with 1 Axes>"
      ]
     },
     "metadata": {
      "needs_background": "light"
     },
     "output_type": "display_data"
    },
    {
     "data": {
      "image/png": "[encoded data removed]",
      "text/plain": [
       "<Figure size 360x360 with 1 Axes>"
      ]
     },
     "metadata": {
      "needs_background": "light"
     },
     "output_type": "display_data"
    },
    {
     "data": {
      "image/png": "[encoded data removed]",
      "text/plain": [
       "<Figure size 360x360 with 1 Axes>"
      ]
     },
     "metadata": {
      "needs_background": "light"
     },
     "output_type": "display_data"
    },
    {
     "data": {
      "image/png": "[encoded data removed]",
      "text/plain": [
       "<Figure size 360x360 with 1 Axes>"
      ]
     },
     "metadata": {
      "needs_background": "light"
     },
     "output_type": "display_data"
    },
    {
     "data": {
      "image/png": "[encoded data removed]",
      "text/plain": [
       "<Figure size 360x360 with 1 Axes>"
      ]
     },
     "metadata": {
      "needs_background": "light"
     },
     "output_type": "display_data"
    }
   ],
   "source": [
    "# Изучим гистограммы бинарных признаков\n",
    "for column in ['gender', 'near_location', 'partner', 'promo_friends', 'contract_period']:\n",
    "    plt.figure(figsize=(5, 5))\n",
    "    sns.countplot(x = df[column], hue='churn', data=df)\n",
    "    plt.legend(['Остался', 'Ушел']);\n",
    "    plt.title(column)\n",
    "    plt.show()"
   ]
  },
  {
   "cell_type": "markdown",
   "metadata": {},
   "source": [
    "Выводы:\n",
    "\n",
    "phone, gender - по данным категориям нет видимых отличий.\n",
    "\n",
    "near_location - доля ушедших посетителей из соседних районов выше, чем тех кто остался.\n",
    "\n",
    "partner - доля ушедших посетителей-партнеров меньше, чем у посетителей не партнеров.\n",
    "\n",
    "promo_friends - график показывает,что пришедших по акции уходит меньше,тех кто пришел сам - уходит больше.\n",
    "\n",
    "contract_period - В графике есть закономерность - чем больше период посещения, тем меньше уходят клиеты.\n",
    "\n",
    "group_visits - Из групповых занятий клиенты уходят меньше.\n",
    "\n",
    "age -  Посетители которые уходят немного моложе. \n",
    "\n",
    "avg_additional_charges_total - Ушедшие клиенты тратят меньше, чем те кто остался.\n",
    "\n",
    "lifetime -Больше клиентов уходит после первых месяцев посещений.\n",
    "\n",
    "month_to_end_contract -Чем дольше клиет остаётся, тем меньше шансов у него уйти.\n",
    "\n",
    "avg_class_frequency_total - График подтверждает, что ушедшие посетители реже (в неделю) посещают спорт зал. \n",
    "\n",
    "avg_class_frequency_current_month - у ушедших клиентов смещение в сторону 0-1 раза в неделю,за прошдый месяц."
   ]
  },
  {
   "cell_type": "code",
   "execution_count": 369,
   "metadata": {
    "scrolled": true
   },
   "outputs": [
    {
     "data": {
      "image/png": "[encoded data removed]",
      "text/plain": [
       "<Figure size 1440x720 with 2 Axes>"
      ]
     },
     "metadata": {
      "needs_background": "light"
     },
     "output_type": "display_data"
    }
   ],
   "source": [
    "# построим матрицу корреляций\n",
    "plt.figure(figsize=(20,10))\n",
    "sns.heatmap(df.corr().round(2), annot=True, square=True, cmap='coolwarm')\n",
    "plt.title('Матрица корреляций', fontsize=14)\n",
    "plt.show()"
   ]
  },
  {
   "cell_type": "markdown",
   "metadata": {},
   "source": [
    "по матрице коррелиции сильную зависимость наблюдаем только у \n",
    "\n",
    "'contract_period' - 'month_to_end_contract' и 'avg_class_frequency_total' - 'avg_class_frequency_current_month'.\n",
    "\n",
    "Во избежание мультиколлинеарности, удалим из датафрейма один из них- 'month_to_end_contract' и 'avg_class_frequency_current_month'."
   ]
  },
  {
   "cell_type": "code",
   "execution_count": 370,
   "metadata": {},
   "outputs": [
    {
     "data": {
      "text/html": [
       "<div>\n",
       "<style scoped>\n",
       "    .dataframe tbody tr th:only-of-type {\n",
       "        vertical-align: middle;\n",
       "    }\n",
       "\n",
       "    .dataframe tbody tr th {\n",
       "        vertical-align: top;\n",
       "    }\n",
       "\n",
       "    .dataframe thead th {\n",
       "        text-align: right;\n",
       "    }\n",
       "</style>\n",
       "<table border=\"1\" class=\"dataframe\">\n",
       "  <thead>\n",
       "    <tr style=\"text-align: right;\">\n",
       "      <th></th>\n",
       "      <th>0</th>\n",
       "      <th>1</th>\n",
       "      <th>2</th>\n",
       "      <th>3</th>\n",
       "      <th>4</th>\n",
       "    </tr>\n",
       "  </thead>\n",
       "  <tbody>\n",
       "    <tr>\n",
       "      <th>gender</th>\n",
       "      <td>1.000000</td>\n",
       "      <td>0.000000</td>\n",
       "      <td>0.000000</td>\n",
       "      <td>0.000000</td>\n",
       "      <td>1.000000</td>\n",
       "    </tr>\n",
       "    <tr>\n",
       "      <th>near_location</th>\n",
       "      <td>1.000000</td>\n",
       "      <td>1.000000</td>\n",
       "      <td>1.000000</td>\n",
       "      <td>1.000000</td>\n",
       "      <td>1.000000</td>\n",
       "    </tr>\n",
       "    <tr>\n",
       "      <th>partner</th>\n",
       "      <td>1.000000</td>\n",
       "      <td>0.000000</td>\n",
       "      <td>1.000000</td>\n",
       "      <td>1.000000</td>\n",
       "      <td>1.000000</td>\n",
       "    </tr>\n",
       "    <tr>\n",
       "      <th>promo_friends</th>\n",
       "      <td>1.000000</td>\n",
       "      <td>0.000000</td>\n",
       "      <td>0.000000</td>\n",
       "      <td>1.000000</td>\n",
       "      <td>1.000000</td>\n",
       "    </tr>\n",
       "    <tr>\n",
       "      <th>phone</th>\n",
       "      <td>0.000000</td>\n",
       "      <td>1.000000</td>\n",
       "      <td>1.000000</td>\n",
       "      <td>1.000000</td>\n",
       "      <td>1.000000</td>\n",
       "    </tr>\n",
       "    <tr>\n",
       "      <th>contract_period</th>\n",
       "      <td>6.000000</td>\n",
       "      <td>12.000000</td>\n",
       "      <td>1.000000</td>\n",
       "      <td>12.000000</td>\n",
       "      <td>1.000000</td>\n",
       "    </tr>\n",
       "    <tr>\n",
       "      <th>group_visits</th>\n",
       "      <td>1.000000</td>\n",
       "      <td>1.000000</td>\n",
       "      <td>0.000000</td>\n",
       "      <td>1.000000</td>\n",
       "      <td>0.000000</td>\n",
       "    </tr>\n",
       "    <tr>\n",
       "      <th>age</th>\n",
       "      <td>29.000000</td>\n",
       "      <td>31.000000</td>\n",
       "      <td>28.000000</td>\n",
       "      <td>33.000000</td>\n",
       "      <td>26.000000</td>\n",
       "    </tr>\n",
       "    <tr>\n",
       "      <th>avg_additional_charges_total</th>\n",
       "      <td>14.227470</td>\n",
       "      <td>113.202938</td>\n",
       "      <td>129.448479</td>\n",
       "      <td>62.669863</td>\n",
       "      <td>198.362265</td>\n",
       "    </tr>\n",
       "    <tr>\n",
       "      <th>lifetime</th>\n",
       "      <td>3.000000</td>\n",
       "      <td>7.000000</td>\n",
       "      <td>2.000000</td>\n",
       "      <td>2.000000</td>\n",
       "      <td>3.000000</td>\n",
       "    </tr>\n",
       "    <tr>\n",
       "      <th>avg_class_frequency_total</th>\n",
       "      <td>0.020398</td>\n",
       "      <td>1.922936</td>\n",
       "      <td>1.859098</td>\n",
       "      <td>3.205633</td>\n",
       "      <td>1.113884</td>\n",
       "    </tr>\n",
       "    <tr>\n",
       "      <th>churn</th>\n",
       "      <td>0.000000</td>\n",
       "      <td>0.000000</td>\n",
       "      <td>0.000000</td>\n",
       "      <td>0.000000</td>\n",
       "      <td>0.000000</td>\n",
       "    </tr>\n",
       "  </tbody>\n",
       "</table>\n",
       "</div>"
      ],
      "text/plain": [
       "                                      0           1           2          3  \\\n",
       "gender                         1.000000    0.000000    0.000000   0.000000   \n",
       "near_location                  1.000000    1.000000    1.000000   1.000000   \n",
       "partner                        1.000000    0.000000    1.000000   1.000000   \n",
       "promo_friends                  1.000000    0.000000    0.000000   1.000000   \n",
       "phone                          0.000000    1.000000    1.000000   1.000000   \n",
       "contract_period                6.000000   12.000000    1.000000  12.000000   \n",
       "group_visits                   1.000000    1.000000    0.000000   1.000000   \n",
       "age                           29.000000   31.000000   28.000000  33.000000   \n",
       "avg_additional_charges_total  14.227470  113.202938  129.448479  62.669863   \n",
       "lifetime                       3.000000    7.000000    2.000000   2.000000   \n",
       "avg_class_frequency_total      0.020398    1.922936    1.859098   3.205633   \n",
       "churn                          0.000000    0.000000    0.000000   0.000000   \n",
       "\n",
       "                                       4  \n",
       "gender                          1.000000  \n",
       "near_location                   1.000000  \n",
       "partner                         1.000000  \n",
       "promo_friends                   1.000000  \n",
       "phone                           1.000000  \n",
       "contract_period                 1.000000  \n",
       "group_visits                    0.000000  \n",
       "age                            26.000000  \n",
       "avg_additional_charges_total  198.362265  \n",
       "lifetime                        3.000000  \n",
       "avg_class_frequency_total       1.113884  \n",
       "churn                           0.000000  "
      ]
     },
     "execution_count": 370,
     "metadata": {},
     "output_type": "execute_result"
    }
   ],
   "source": [
    "df.drop(['month_to_end_contract', 'avg_class_frequency_current_month'], axis=1, inplace=True)\n",
    "df.head().T"
   ]
  },
  {
   "cell_type": "markdown",
   "metadata": {},
   "source": [
    "##  Построим модель прогнозирования оттока клиентов"
   ]
  },
  {
   "cell_type": "markdown",
   "metadata": {},
   "source": [
    "### Разобьем данные на обучающую и валидационную выборку"
   ]
  },
  {
   "cell_type": "code",
   "execution_count": 371,
   "metadata": {},
   "outputs": [],
   "source": [
    "# разделим наши данные на признаки (матрица X) и целевую переменную (y)\n",
    "X = df.drop(columns=['churn'], axis=1)\n",
    "y = df['churn']"
   ]
  },
  {
   "cell_type": "code",
   "execution_count": 372,
   "metadata": {},
   "outputs": [],
   "source": [
    "# разделяем модель на обучающую и валидационную выборку\n",
    "X_train, X_test, y_train, y_test = train_test_split(X, y, test_size=0.2,random_state=0)\n",
    "\n",
    "# определим функцию, которая будет выводить наши метрики\n",
    "def all_metrics(y_true, y_pred, y_proba, title='Метрики классификации'):\n",
    "    print(title)\n",
    "    print('\\tДоля правильных ответов- Accuracy: {:.2f}'.format(accuracy_score(y_true, y_pred)))\n",
    "    print('\\tТочность- Precision: {:.2f}'.format(precision_score(y_true, y_pred)))\n",
    "    print('\\tПолнота- Recall: {:.2f}'.format(recall_score(y_true, y_pred)))\n",
    "   "
   ]
  },
  {
   "cell_type": "code",
   "execution_count": 373,
   "metadata": {},
   "outputs": [],
   "source": [
    "# стандартизируем данные методом StandartScaler\n",
    "scaler = StandardScaler()\n",
    "X_train_st = scaler.fit_transform(X_train)\n",
    "X_test_st = scaler.transform(X_test)"
   ]
  },
  {
   "cell_type": "markdown",
   "metadata": {},
   "source": [
    "### Обучим модель на train-выборке двумя способами: логистической регрессией, случайным лесом."
   ]
  },
  {
   "cell_type": "code",
   "execution_count": 374,
   "metadata": {},
   "outputs": [
    {
     "name": "stdout",
     "output_type": "stream",
     "text": [
      "Метрики для модели логистической регрессии:\n",
      "\tДоля правильных ответов- Accuracy: 0.90\n",
      "\tТочность- Precision: 0.79\n",
      "\tПолнота- Recall: 0.81\n"
     ]
    }
   ],
   "source": [
    "# зададим алгоритм для модели логистической регрессии\n",
    "model_reg = LogisticRegression(random_state=0)\n",
    "# обучим модель\n",
    "model_reg.fit(X_train_st, y_train)\n",
    "# воспользуемся уже обученной моделью, чтобы сделать прогнозы\n",
    "predictions_reg = model_reg.predict(X_test_st)\n",
    "probabilities_reg = model_reg.predict_proba(X_test_st)[:, 1]\n",
    "# Выведем метрики для полученного прогноза\n",
    "all_metrics(\n",
    "    y_test,\n",
    "    predictions_reg,\n",
    "    probabilities_reg,\n",
    "    title='Метрики для модели логистической регрессии:',\n",
    ")"
   ]
  },
  {
   "cell_type": "code",
   "execution_count": 375,
   "metadata": {},
   "outputs": [
    {
     "name": "stdout",
     "output_type": "stream",
     "text": [
      "Метрики для модели случайного леса:\n",
      "\tДоля правильных ответов- Accuracy: 0.89\n",
      "\tТочность- Precision: 0.79\n",
      "\tПолнота- Recall: 0.76\n"
     ]
    }
   ],
   "source": [
    "# обучим модель методом случайного леса\n",
    "model_rf = RandomForestClassifier(n_estimators = 100, random_state = 0)\n",
    "model_rf.fit(X_train_st, y_train)\n",
    "predictions_rf = model_rf.predict(X_test_st)\n",
    "probabilities_rf = model_rf.predict_proba(X_test_st)[:, 1]\n",
    "# выведем все метрики\n",
    "all_metrics(\n",
    "    y_test,\n",
    "    predictions_rf,\n",
    "    probabilities_rf,\n",
    "    title='Метрики для модели случайного леса:'\n",
    ")"
   ]
  },
  {
   "cell_type": "markdown",
   "metadata": {},
   "source": [
    "### Оценка метрик двух алгоритмов\n",
    "\n",
    "Доля правильных ответов(Accuracy), у модели логистической регрессии - 0.90,у модели случайного леса - 0.89 ;\n",
    "\n",
    "Точность(Precision) у модели логистической регрессии 0.79, у модели случайного леса - 0.79;\n",
    "\n",
    "Полнота (Recall) у модели логистической регрессии 0.81, у модели случайного леса - 0.76;\n",
    "\n",
    "\n",
    "Точность(precision)обоих алгоритмов одинаковая.Однако доля правильных ответов(accuracy) и полнота (recall) выше у модели логистической регрессии,cледовательно, модель логистической регрессии на основании метрик показала себя лучше."
   ]
  },
  {
   "cell_type": "markdown",
   "metadata": {},
   "source": [
    "## Кластеризация клиентов."
   ]
  },
  {
   "cell_type": "markdown",
   "metadata": {},
   "source": [
    "### Стандартизируем данные."
   ]
  },
  {
   "cell_type": "code",
   "execution_count": 376,
   "metadata": {},
   "outputs": [],
   "source": [
    "sc = StandardScaler()\n",
    "X_sc = sc.fit_transform(X)"
   ]
  },
  {
   "cell_type": "markdown",
   "metadata": {},
   "source": [
    "### Нарисуем дендрограмму."
   ]
  },
  {
   "cell_type": "code",
   "execution_count": 377,
   "metadata": {
    "scrolled": true
   },
   "outputs": [
    {
     "data": {
      "image/png": "[encoded data removed]",
      "text/plain": [
       "<Figure size 1080x720 with 1 Axes>"
      ]
     },
     "metadata": {
      "needs_background": "light"
     },
     "output_type": "display_data"
    }
   ],
   "source": [
    "#Построение матрицы расстояний\n",
    "linked = linkage(X_sc, method = 'ward')\n",
    "# Визуализация дендограммы\n",
    "plt.figure(figsize=(15, 10))  \n",
    "dendrogram(linked, orientation='top')\n",
    "plt.title('Дерево ')\n",
    "plt.show() "
   ]
  },
  {
   "cell_type": "markdown",
   "metadata": {},
   "source": [
    "На основании графика можно выделить 4 кластера. По заданию примем число кластеров = 5."
   ]
  },
  {
   "cell_type": "markdown",
   "metadata": {},
   "source": [
    "### На основании алгоритма K-Means спрогнозируем кластеры клиентов."
   ]
  },
  {
   "cell_type": "code",
   "execution_count": 378,
   "metadata": {},
   "outputs": [],
   "source": [
    "# обучим модель кластеризации \n",
    "km = KMeans(n_clusters=5, random_state=0)\n",
    "labels = km.fit_predict(X_sc)\n",
    "df['cluster'] = labels"
   ]
  },
  {
   "cell_type": "markdown",
   "metadata": {},
   "source": [
    "### Посмотрим на средние значения признаков для кластеров"
   ]
  },
  {
   "cell_type": "code",
   "execution_count": 379,
   "metadata": {},
   "outputs": [
    {
     "data": {
      "text/html": [
       "<div>\n",
       "<style scoped>\n",
       "    .dataframe tbody tr th:only-of-type {\n",
       "        vertical-align: middle;\n",
       "    }\n",
       "\n",
       "    .dataframe tbody tr th {\n",
       "        vertical-align: top;\n",
       "    }\n",
       "\n",
       "    .dataframe thead th {\n",
       "        text-align: right;\n",
       "    }\n",
       "</style>\n",
       "<table border=\"1\" class=\"dataframe\">\n",
       "  <thead>\n",
       "    <tr style=\"text-align: right;\">\n",
       "      <th>cluster</th>\n",
       "      <th>0</th>\n",
       "      <th>1</th>\n",
       "      <th>2</th>\n",
       "      <th>3</th>\n",
       "      <th>4</th>\n",
       "    </tr>\n",
       "  </thead>\n",
       "  <tbody>\n",
       "    <tr>\n",
       "      <th>gender</th>\n",
       "      <td>0.499109</td>\n",
       "      <td>0.488571</td>\n",
       "      <td>0.505300</td>\n",
       "      <td>0.544202</td>\n",
       "      <td>0.523316</td>\n",
       "    </tr>\n",
       "    <tr>\n",
       "      <th>near_location</th>\n",
       "      <td>0.000000</td>\n",
       "      <td>0.995238</td>\n",
       "      <td>1.000000</td>\n",
       "      <td>1.000000</td>\n",
       "      <td>0.862694</td>\n",
       "    </tr>\n",
       "    <tr>\n",
       "      <th>partner</th>\n",
       "      <td>0.488414</td>\n",
       "      <td>0.955238</td>\n",
       "      <td>0.238516</td>\n",
       "      <td>0.250287</td>\n",
       "      <td>0.471503</td>\n",
       "    </tr>\n",
       "    <tr>\n",
       "      <th>promo_friends</th>\n",
       "      <td>0.076649</td>\n",
       "      <td>0.892381</td>\n",
       "      <td>0.059187</td>\n",
       "      <td>0.079219</td>\n",
       "      <td>0.305699</td>\n",
       "    </tr>\n",
       "    <tr>\n",
       "      <th>phone</th>\n",
       "      <td>1.000000</td>\n",
       "      <td>1.000000</td>\n",
       "      <td>1.000000</td>\n",
       "      <td>1.000000</td>\n",
       "      <td>0.000000</td>\n",
       "    </tr>\n",
       "    <tr>\n",
       "      <th>contract_period</th>\n",
       "      <td>3.032086</td>\n",
       "      <td>7.660952</td>\n",
       "      <td>2.819788</td>\n",
       "      <td>4.528129</td>\n",
       "      <td>4.777202</td>\n",
       "    </tr>\n",
       "    <tr>\n",
       "      <th>group_visits</th>\n",
       "      <td>0.235294</td>\n",
       "      <td>0.458095</td>\n",
       "      <td>0.000000</td>\n",
       "      <td>1.000000</td>\n",
       "      <td>0.427461</td>\n",
       "    </tr>\n",
       "    <tr>\n",
       "      <th>age</th>\n",
       "      <td>28.721925</td>\n",
       "      <td>29.543810</td>\n",
       "      <td>28.770318</td>\n",
       "      <td>29.536165</td>\n",
       "      <td>29.297927</td>\n",
       "    </tr>\n",
       "    <tr>\n",
       "      <th>avg_additional_charges_total</th>\n",
       "      <td>137.540009</td>\n",
       "      <td>155.861428</td>\n",
       "      <td>143.383993</td>\n",
       "      <td>148.088897</td>\n",
       "      <td>144.208179</td>\n",
       "    </tr>\n",
       "    <tr>\n",
       "      <th>lifetime</th>\n",
       "      <td>3.060606</td>\n",
       "      <td>4.380952</td>\n",
       "      <td>3.343640</td>\n",
       "      <td>3.761194</td>\n",
       "      <td>3.940415</td>\n",
       "    </tr>\n",
       "    <tr>\n",
       "      <th>avg_class_frequency_total</th>\n",
       "      <td>1.770413</td>\n",
       "      <td>1.978963</td>\n",
       "      <td>1.800647</td>\n",
       "      <td>1.941342</td>\n",
       "      <td>1.854211</td>\n",
       "    </tr>\n",
       "    <tr>\n",
       "      <th>churn</th>\n",
       "      <td>0.399287</td>\n",
       "      <td>0.120952</td>\n",
       "      <td>0.381625</td>\n",
       "      <td>0.200918</td>\n",
       "      <td>0.266839</td>\n",
       "    </tr>\n",
       "  </tbody>\n",
       "</table>\n",
       "</div>"
      ],
      "text/plain": [
       "cluster                                0           1           2           3  \\\n",
       "gender                          0.499109    0.488571    0.505300    0.544202   \n",
       "near_location                   0.000000    0.995238    1.000000    1.000000   \n",
       "partner                         0.488414    0.955238    0.238516    0.250287   \n",
       "promo_friends                   0.076649    0.892381    0.059187    0.079219   \n",
       "phone                           1.000000    1.000000    1.000000    1.000000   \n",
       "contract_period                 3.032086    7.660952    2.819788    4.528129   \n",
       "group_visits                    0.235294    0.458095    0.000000    1.000000   \n",
       "age                            28.721925   29.543810   28.770318   29.536165   \n",
       "avg_additional_charges_total  137.540009  155.861428  143.383993  148.088897   \n",
       "lifetime                        3.060606    4.380952    3.343640    3.761194   \n",
       "avg_class_frequency_total       1.770413    1.978963    1.800647    1.941342   \n",
       "churn                           0.399287    0.120952    0.381625    0.200918   \n",
       "\n",
       "cluster                                4  \n",
       "gender                          0.523316  \n",
       "near_location                   0.862694  \n",
       "partner                         0.471503  \n",
       "promo_friends                   0.305699  \n",
       "phone                           0.000000  \n",
       "contract_period                 4.777202  \n",
       "group_visits                    0.427461  \n",
       "age                            29.297927  \n",
       "avg_additional_charges_total  144.208179  \n",
       "lifetime                        3.940415  \n",
       "avg_class_frequency_total       1.854211  \n",
       "churn                           0.266839  "
      ]
     },
     "execution_count": 379,
     "metadata": {},
     "output_type": "execute_result"
    }
   ],
   "source": [
    "# посмотрим на средние значения признаков для кластеров\n",
    "df.groupby('cluster').mean().T"
   ]
  },
  {
   "cell_type": "markdown",
   "metadata": {},
   "source": [
    "Можно сказать,что во всех кластерах:\n",
    "\n",
    "гендерное деление примерно 50/50;\n",
    "\n",
    "средний возраст 28-30 лет;\n",
    "\n",
    "суммарная выручка от других услуг фитнес-центра 131-161 у.е.;\n",
    "\n",
    "время с момента первого обращения в фитнес-центр (lifetime) от 2,5 до 5 месяцев;\n",
    "\n",
    "средняя частота посещений в неделю за все время с начала действия абонемента около 1-2 раза.;"
   ]
  },
  {
   "cell_type": "markdown",
   "metadata": {},
   "source": [
    "###  Построим распределения признаков для кластеров."
   ]
  },
  {
   "cell_type": "code",
   "execution_count": 380,
   "metadata": {
    "scrolled": true
   },
   "outputs": [
    {
     "data": {
      "image/png": "[encoded data removed]",
      "text/plain": [
       "<Figure size 432x288 with 1 Axes>"
      ]
     },
     "metadata": {
      "needs_background": "light"
     },
     "output_type": "display_data"
    },
    {
     "data": {
      "image/png": "[encoded data removed]",
      "text/plain": [
       "<Figure size 432x288 with 1 Axes>"
      ]
     },
     "metadata": {
      "needs_background": "light"
     },
     "output_type": "display_data"
    },
    {
     "data": {
      "image/png": "[encoded data removed]",
      "text/plain": [
       "<Figure size 432x288 with 1 Axes>"
      ]
     },
     "metadata": {
      "needs_background": "light"
     },
     "output_type": "display_data"
    },
    {
     "data": {
      "image/png": "[encoded data removed]",
      "text/plain": [
       "<Figure size 432x288 with 1 Axes>"
      ]
     },
     "metadata": {
      "needs_background": "light"
     },
     "output_type": "display_data"
    },
    {
     "data": {
      "image/png": "[encoded data removed]",
      "text/plain": [
       "<Figure size 432x288 with 1 Axes>"
      ]
     },
     "metadata": {
      "needs_background": "light"
     },
     "output_type": "display_data"
    },
    {
     "data": {
      "image/png": "[encoded data removed]",
      "text/plain": [
       "<Figure size 432x288 with 1 Axes>"
      ]
     },
     "metadata": {
      "needs_background": "light"
     },
     "output_type": "display_data"
    },
    {
     "data": {
      "image/png": "[encoded data removed]",
      "text/plain": [
       "<Figure size 432x288 with 1 Axes>"
      ]
     },
     "metadata": {
      "needs_background": "light"
     },
     "output_type": "display_data"
    },
    {
     "data": {
      "image/png": "[encoded data removed]",
      "text/plain": [
       "<Figure size 432x288 with 1 Axes>"
      ]
     },
     "metadata": {
      "needs_background": "light"
     },
     "output_type": "display_data"
    },
    {
     "data": {
      "image/png": "[encoded data removed]",
      "text/plain": [
       "<Figure size 432x288 with 1 Axes>"
      ]
     },
     "metadata": {
      "needs_background": "light"
     },
     "output_type": "display_data"
    },
    {
     "data": {
      "image/png": "[encoded data removed]",
      "text/plain": [
       "<Figure size 432x288 with 1 Axes>"
      ]
     },
     "metadata": {
      "needs_background": "light"
     },
     "output_type": "display_data"
    },
    {
     "data": {
      "image/png": "[encoded data removed]",
      "text/plain": [
       "<Figure size 432x288 with 1 Axes>"
      ]
     },
     "metadata": {
      "needs_background": "light"
     },
     "output_type": "display_data"
    },
    {
     "data": {
      "image/png": "[encoded data removed]",
      "text/plain": [
       "<Figure size 432x288 with 1 Axes>"
      ]
     },
     "metadata": {
      "needs_background": "light"
     },
     "output_type": "display_data"
    }
   ],
   "source": [
    "for i in df.groupby('cluster').mean().reset_index().drop('cluster', axis=1):\n",
    "    sns.barplot(x='cluster', y=i, data=df.groupby('cluster').mean().reset_index());\n",
    "    plt.title(i)\n",
    "    plt.show();"
   ]
  },
  {
   "cell_type": "markdown",
   "metadata": {},
   "source": [
    "В нулевой кластер вошли только клиенты которые проживают или работают в другом районе;\n",
    "\n",
    "В четвертом клиенты которые не указали телефон;\n",
    "\n",
    "Во втором те кто не посещает групповые занятия;\n",
    "\n",
    "В первом кластере почти все клиенты сотрудник компании-партнёра клуба и пришли в рамках акции «приведи друга»;\n",
    "\n",
    "В третьем все клиенты посещают групповые занятия."
   ]
  },
  {
   "cell_type": "markdown",
   "metadata": {},
   "source": [
    "### Для каждого полученного кластера посчитаем долю оттока"
   ]
  },
  {
   "cell_type": "code",
   "execution_count": 381,
   "metadata": {
    "scrolled": true
   },
   "outputs": [
    {
     "data": {
      "text/plain": [
       "cluster\n",
       "0    0.399287\n",
       "2    0.381625\n",
       "4    0.266839\n",
       "3    0.200918\n",
       "1    0.120952\n",
       "Name: churn, dtype: float64"
      ]
     },
     "execution_count": 381,
     "metadata": {},
     "output_type": "execute_result"
    }
   ],
   "source": [
    "parts=df.groupby('cluster')['churn'].mean()\n",
    "parts.sort_values(ascending=False)"
   ]
  },
  {
   "cell_type": "code",
   "execution_count": 382,
   "metadata": {},
   "outputs": [
    {
     "data": {
      "application/vnd.plotly.v1+json": {
       "config": {
        "plotlyServerURL": "https://plot.ly"
       },
       "data": [
        {
         "labels": [
          0,
          1,
          2,
          3,
          4
         ],
         "title": {
          "text": "Доля оттока для кластеров"
         },
         "type": "pie",
         "values": [
          0.39928698752228164,
          0.12095238095238095,
          0.38162544169611307,
          0.20091848450057406,
          0.266839378238342
         ]
        }
       ],
       "layout": {
        "template": {
         "data": {
          "bar": [
           {
            "error_x": {
             "color": "#2a3f5f"
            },
            "error_y": {
             "color": "#2a3f5f"
            },
            "marker": {
             "line": {
              "color": "#E5ECF6",
              "width": 0.5
             },
             "pattern": {
              "fillmode": "overlay",
              "size": 10,
              "solidity": 0.2
             }
            },
            "type": "bar"
           }
          ],
          "barpolar": [
           {
            "marker": {
             "line": {
              "color": "#E5ECF6",
              "width": 0.5
             },
             "pattern": {
              "fillmode": "overlay",
              "size": 10,
              "solidity": 0.2
             }
            },
            "type": "barpolar"
           }
          ],
          "carpet": [
           {
            "aaxis": {
             "endlinecolor": "#2a3f5f",
             "gridcolor": "white",
             "linecolor": "white",
             "minorgridcolor": "white",
             "startlinecolor": "#2a3f5f"
            },
            "baxis": {
             "endlinecolor": "#2a3f5f",
             "gridcolor": "white",
             "linecolor": "white",
             "minorgridcolor": "white",
             "startlinecolor": "#2a3f5f"
            },
            "type": "carpet"
           }
          ],
          "choropleth": [
           {
            "colorbar": {
             "outlinewidth": 0,
             "ticks": ""
            },
            "type": "choropleth"
           }
          ],
          "contour": [
           {
            "colorbar": {
             "outlinewidth": 0,
             "ticks": ""
            },
            "colorscale": [
             [
              0,
              "#0d0887"
             ],
             [
              0.1111111111111111,
              "#46039f"
             ],
             [
              0.2222222222222222,
              "#7201a8"
             ],
             [
              0.3333333333333333,
              "#9c179e"
             ],
             [
              0.4444444444444444,
              "#bd3786"
             ],
             [
              0.5555555555555556,
              "#d8576b"
             ],
             [
              0.6666666666666666,
              "#ed7953"
             ],
             [
              0.7777777777777778,
              "#fb9f3a"
             ],
             [
              0.8888888888888888,
              "#fdca26"
             ],
             [
              1,
              "#f0f921"
             ]
            ],
            "type": "contour"
           }
          ],
          "contourcarpet": [
           {
            "colorbar": {
             "outlinewidth": 0,
             "ticks": ""
            },
            "type": "contourcarpet"
           }
          ],
          "heatmap": [
           {
            "colorbar": {
             "outlinewidth": 0,
             "ticks": ""
            },
            "colorscale": [
             [
              0,
              "#0d0887"
             ],
             [
              0.1111111111111111,
              "#46039f"
             ],
             [
              0.2222222222222222,
              "#7201a8"
             ],
             [
              0.3333333333333333,
              "#9c179e"
             ],
             [
              0.4444444444444444,
              "#bd3786"
             ],
             [
              0.5555555555555556,
              "#d8576b"
             ],
             [
              0.6666666666666666,
              "#ed7953"
             ],
             [
              0.7777777777777778,
              "#fb9f3a"
             ],
             [
              0.8888888888888888,
              "#fdca26"
             ],
             [
              1,
              "#f0f921"
             ]
            ],
            "type": "heatmap"
           }
          ],
          "heatmapgl": [
           {
            "colorbar": {
             "outlinewidth": 0,
             "ticks": ""
            },
            "colorscale": [
             [
              0,
              "#0d0887"
             ],
             [
              0.1111111111111111,
              "#46039f"
             ],
             [
              0.2222222222222222,
              "#7201a8"
             ],
             [
              0.3333333333333333,
              "#9c179e"
             ],
             [
              0.4444444444444444,
              "#bd3786"
             ],
             [
              0.5555555555555556,
              "#d8576b"
             ],
             [
              0.6666666666666666,
              "#ed7953"
             ],
             [
              0.7777777777777778,
              "#fb9f3a"
             ],
             [
              0.8888888888888888,
              "#fdca26"
             ],
             [
              1,
              "#f0f921"
             ]
            ],
            "type": "heatmapgl"
           }
          ],
          "histogram": [
           {
            "marker": {
             "pattern": {
              "fillmode": "overlay",
              "size": 10,
              "solidity": 0.2
             }
            },
            "type": "histogram"
           }
          ],
          "histogram2d": [
           {
            "colorbar": {
             "outlinewidth": 0,
             "ticks": ""
            },
            "colorscale": [
             [
              0,
              "#0d0887"
             ],
             [
              0.1111111111111111,
              "#46039f"
             ],
             [
              0.2222222222222222,
              "#7201a8"
             ],
             [
              0.3333333333333333,
              "#9c179e"
             ],
             [
              0.4444444444444444,
              "#bd3786"
             ],
             [
              0.5555555555555556,
              "#d8576b"
             ],
             [
              0.6666666666666666,
              "#ed7953"
             ],
             [
              0.7777777777777778,
              "#fb9f3a"
             ],
             [
              0.8888888888888888,
              "#fdca26"
             ],
             [
              1,
              "#f0f921"
             ]
            ],
            "type": "histogram2d"
           }
          ],
          "histogram2dcontour": [
           {
            "colorbar": {
             "outlinewidth": 0,
             "ticks": ""
            },
            "colorscale": [
             [
              0,
              "#0d0887"
             ],
             [
              0.1111111111111111,
              "#46039f"
             ],
             [
              0.2222222222222222,
              "#7201a8"
             ],
             [
              0.3333333333333333,
              "#9c179e"
             ],
             [
              0.4444444444444444,
              "#bd3786"
             ],
             [
              0.5555555555555556,
              "#d8576b"
             ],
             [
              0.6666666666666666,
              "#ed7953"
             ],
             [
              0.7777777777777778,
              "#fb9f3a"
             ],
             [
              0.8888888888888888,
              "#fdca26"
             ],
             [
              1,
              "#f0f921"
             ]
            ],
            "type": "histogram2dcontour"
           }
          ],
          "mesh3d": [
           {
            "colorbar": {
             "outlinewidth": 0,
             "ticks": ""
            },
            "type": "mesh3d"
           }
          ],
          "parcoords": [
           {
            "line": {
             "colorbar": {
              "outlinewidth": 0,
              "ticks": ""
             }
            },
            "type": "parcoords"
           }
          ],
          "pie": [
           {
            "automargin": true,
            "type": "pie"
           }
          ],
          "scatter": [
           {
            "marker": {
             "colorbar": {
              "outlinewidth": 0,
              "ticks": ""
             }
            },
            "type": "scatter"
           }
          ],
          "scatter3d": [
           {
            "line": {
             "colorbar": {
              "outlinewidth": 0,
              "ticks": ""
             }
            },
            "marker": {
             "colorbar": {
              "outlinewidth": 0,
              "ticks": ""
             }
            },
            "type": "scatter3d"
           }
          ],
          "scattercarpet": [
           {
            "marker": {
             "colorbar": {
              "outlinewidth": 0,
              "ticks": ""
             }
            },
            "type": "scattercarpet"
           }
          ],
          "scattergeo": [
           {
            "marker": {
             "colorbar": {
              "outlinewidth": 0,
              "ticks": ""
             }
            },
            "type": "scattergeo"
           }
          ],
          "scattergl": [
           {
            "marker": {
             "colorbar": {
              "outlinewidth": 0,
              "ticks": ""
             }
            },
            "type": "scattergl"
           }
          ],
          "scattermapbox": [
           {
            "marker": {
             "colorbar": {
              "outlinewidth": 0,
              "ticks": ""
             }
            },
            "type": "scattermapbox"
           }
          ],
          "scatterpolar": [
           {
            "marker": {
             "colorbar": {
              "outlinewidth": 0,
              "ticks": ""
             }
            },
            "type": "scatterpolar"
           }
          ],
          "scatterpolargl": [
           {
            "marker": {
             "colorbar": {
              "outlinewidth": 0,
              "ticks": ""
             }
            },
            "type": "scatterpolargl"
           }
          ],
          "scatterternary": [
           {
            "marker": {
             "colorbar": {
              "outlinewidth": 0,
              "ticks": ""
             }
            },
            "type": "scatterternary"
           }
          ],
          "surface": [
           {
            "colorbar": {
             "outlinewidth": 0,
             "ticks": ""
            },
            "colorscale": [
             [
              0,
              "#0d0887"
             ],
             [
              0.1111111111111111,
              "#46039f"
             ],
             [
              0.2222222222222222,
              "#7201a8"
             ],
             [
              0.3333333333333333,
              "#9c179e"
             ],
             [
              0.4444444444444444,
              "#bd3786"
             ],
             [
              0.5555555555555556,
              "#d8576b"
             ],
             [
              0.6666666666666666,
              "#ed7953"
             ],
             [
              0.7777777777777778,
              "#fb9f3a"
             ],
             [
              0.8888888888888888,
              "#fdca26"
             ],
             [
              1,
              "#f0f921"
             ]
            ],
            "type": "surface"
           }
          ],
          "table": [
           {
            "cells": {
             "fill": {
              "color": "#EBF0F8"
             },
             "line": {
              "color": "white"
             }
            },
            "header": {
             "fill": {
              "color": "#C8D4E3"
             },
             "line": {
              "color": "white"
             }
            },
            "type": "table"
           }
          ]
         },
         "layout": {
          "annotationdefaults": {
           "arrowcolor": "#2a3f5f",
           "arrowhead": 0,
           "arrowwidth": 1
          },
          "autotypenumbers": "strict",
          "coloraxis": {
           "colorbar": {
            "outlinewidth": 0,
            "ticks": ""
           }
          },
          "colorscale": {
           "diverging": [
            [
             0,
             "#8e0152"
            ],
            [
             0.1,
             "#c51b7d"
            ],
            [
             0.2,
             "#de77ae"
            ],
            [
             0.3,
             "#f1b6da"
            ],
            [
             0.4,
             "#fde0ef"
            ],
            [
             0.5,
             "#f7f7f7"
            ],
            [
             0.6,
             "#e6f5d0"
            ],
            [
             0.7,
             "#b8e186"
            ],
            [
             0.8,
             "#7fbc41"
            ],
            [
             0.9,
             "#4d9221"
            ],
            [
             1,
             "#276419"
            ]
           ],
           "sequential": [
            [
             0,
             "#0d0887"
            ],
            [
             0.1111111111111111,
             "#46039f"
            ],
            [
             0.2222222222222222,
             "#7201a8"
            ],
            [
             0.3333333333333333,
             "#9c179e"
            ],
            [
             0.4444444444444444,
             "#bd3786"
            ],
            [
             0.5555555555555556,
             "#d8576b"
            ],
            [
             0.6666666666666666,
             "#ed7953"
            ],
            [
             0.7777777777777778,
             "#fb9f3a"
            ],
            [
             0.8888888888888888,
             "#fdca26"
            ],
            [
             1,
             "#f0f921"
            ]
           ],
           "sequentialminus": [
            [
             0,
             "#0d0887"
            ],
            [
             0.1111111111111111,
             "#46039f"
            ],
            [
             0.2222222222222222,
             "#7201a8"
            ],
            [
             0.3333333333333333,
             "#9c179e"
            ],
            [
             0.4444444444444444,
             "#bd3786"
            ],
            [
             0.5555555555555556,
             "#d8576b"
            ],
            [
             0.6666666666666666,
             "#ed7953"
            ],
            [
             0.7777777777777778,
             "#fb9f3a"
            ],
            [
             0.8888888888888888,
             "#fdca26"
            ],
            [
             1,
             "#f0f921"
            ]
           ]
          },
          "colorway": [
           "#636efa",
           "#EF553B",
           "#00cc96",
           "#ab63fa",
           "#FFA15A",
           "#19d3f3",
           "#FF6692",
           "#B6E880",
           "#FF97FF",
           "#FECB52"
          ],
          "font": {
           "color": "#2a3f5f"
          },
          "geo": {
           "bgcolor": "white",
           "lakecolor": "white",
           "landcolor": "#E5ECF6",
           "showlakes": true,
           "showland": true,
           "subunitcolor": "white"
          },
          "hoverlabel": {
           "align": "left"
          },
          "hovermode": "closest",
          "mapbox": {
           "style": "light"
          },
          "paper_bgcolor": "white",
          "plot_bgcolor": "#E5ECF6",
          "polar": {
           "angularaxis": {
            "gridcolor": "white",
            "linecolor": "white",
            "ticks": ""
           },
           "bgcolor": "#E5ECF6",
           "radialaxis": {
            "gridcolor": "white",
            "linecolor": "white",
            "ticks": ""
           }
          },
          "scene": {
           "xaxis": {
            "backgroundcolor": "#E5ECF6",
            "gridcolor": "white",
            "gridwidth": 2,
            "linecolor": "white",
            "showbackground": true,
            "ticks": "",
            "zerolinecolor": "white"
           },
           "yaxis": {
            "backgroundcolor": "#E5ECF6",
            "gridcolor": "white",
            "gridwidth": 2,
            "linecolor": "white",
            "showbackground": true,
            "ticks": "",
            "zerolinecolor": "white"
           },
           "zaxis": {
            "backgroundcolor": "#E5ECF6",
            "gridcolor": "white",
            "gridwidth": 2,
            "linecolor": "white",
            "showbackground": true,
            "ticks": "",
            "zerolinecolor": "white"
           }
          },
          "shapedefaults": {
           "line": {
            "color": "#2a3f5f"
           }
          },
          "ternary": {
           "aaxis": {
            "gridcolor": "white",
            "linecolor": "white",
            "ticks": ""
           },
           "baxis": {
            "gridcolor": "white",
            "linecolor": "white",
            "ticks": ""
           },
           "bgcolor": "#E5ECF6",
           "caxis": {
            "gridcolor": "white",
            "linecolor": "white",
            "ticks": ""
           }
          },
          "title": {
           "x": 0.05
          },
          "xaxis": {
           "automargin": true,
           "gridcolor": "white",
           "linecolor": "white",
           "ticks": "",
           "title": {
            "standoff": 15
           },
           "zerolinecolor": "white",
           "zerolinewidth": 2
          },
          "yaxis": {
           "automargin": true,
           "gridcolor": "white",
           "linecolor": "white",
           "ticks": "",
           "title": {
            "standoff": 15
           },
           "zerolinecolor": "white",
           "zerolinewidth": 2
          }
         }
        }
       }
      },
      "text/html": [
       "<div>                            <div id=\"346f2cd1-d19c-4e41-a36a-64992ada084b\" class=\"plotly-graph-div\" style=\"height:525px; width:100%;\"></div>            <script type=\"text/javascript\">                require([\"plotly\"], function(Plotly) {                    window.PLOTLYENV=window.PLOTLYENV || {};                                    if (document.getElementById(\"346f2cd1-d19c-4e41-a36a-64992ada084b\")) {                    Plotly.newPlot(                        \"346f2cd1-d19c-4e41-a36a-64992ada084b\",                        [{\"labels\":[0,1,2,3,4],\"title\":{\"text\":\"\\u0414\\u043e\\u043b\\u044f \\u043e\\u0442\\u0442\\u043e\\u043a\\u0430 \\u0434\\u043b\\u044f \\u043a\\u043b\\u0430\\u0441\\u0442\\u0435\\u0440\\u043e\\u0432\"},\"values\":[0.39928698752228164,0.12095238095238095,0.38162544169611307,0.20091848450057406,0.266839378238342],\"type\":\"pie\"}],                        {\"template\":{\"data\":{\"bar\":[{\"error_x\":{\"color\":\"#2a3f5f\"},\"error_y\":{\"color\":\"#2a3f5f\"},\"marker\":{\"line\":{\"color\":\"#E5ECF6\",\"width\":0.5},\"pattern\":{\"fillmode\":\"overlay\",\"size\":10,\"solidity\":0.2}},\"type\":\"bar\"}],\"barpolar\":[{\"marker\":{\"line\":{\"color\":\"#E5ECF6\",\"width\":0.5},\"pattern\":{\"fillmode\":\"overlay\",\"size\":10,\"solidity\":0.2}},\"type\":\"barpolar\"}],\"carpet\":[{\"aaxis\":{\"endlinecolor\":\"#2a3f5f\",\"gridcolor\":\"white\",\"linecolor\":\"white\",\"minorgridcolor\":\"white\",\"startlinecolor\":\"#2a3f5f\"},\"baxis\":{\"endlinecolor\":\"#2a3f5f\",\"gridcolor\":\"white\",\"linecolor\":\"white\",\"minorgridcolor\":\"white\",\"startlinecolor\":\"#2a3f5f\"},\"type\":\"carpet\"}],\"choropleth\":[{\"colorbar\":{\"outlinewidth\":0,\"ticks\":\"\"},\"type\":\"choropleth\"}],\"contour\":[{\"colorbar\":{\"outlinewidth\":0,\"ticks\":\"\"},\"colorscale\":[[0.0,\"#0d0887\"],[0.1111111111111111,\"#46039f\"],[0.2222222222222222,\"#7201a8\"],[0.3333333333333333,\"#9c179e\"],[0.4444444444444444,\"#bd3786\"],[0.5555555555555556,\"#d8576b\"],[0.6666666666666666,\"#ed7953\"],[0.7777777777777778,\"#fb9f3a\"],[0.8888888888888888,\"#fdca26\"],[1.0,\"#f0f921\"]],\"type\":\"contour\"}],\"contourcarpet\":[{\"colorbar\":{\"outlinewidth\":0,\"ticks\":\"\"},\"type\":\"contourcarpet\"}],\"heatmap\":[{\"colorbar\":{\"outlinewidth\":0,\"ticks\":\"\"},\"colorscale\":[[0.0,\"#0d0887\"],[0.1111111111111111,\"#46039f\"],[0.2222222222222222,\"#7201a8\"],[0.3333333333333333,\"#9c179e\"],[0.4444444444444444,\"#bd3786\"],[0.5555555555555556,\"#d8576b\"],[0.6666666666666666,\"#ed7953\"],[0.7777777777777778,\"#fb9f3a\"],[0.8888888888888888,\"#fdca26\"],[1.0,\"#f0f921\"]],\"type\":\"heatmap\"}],\"heatmapgl\":[{\"colorbar\":{\"outlinewidth\":0,\"ticks\":\"\"},\"colorscale\":[[0.0,\"#0d0887\"],[0.1111111111111111,\"#46039f\"],[0.2222222222222222,\"#7201a8\"],[0.3333333333333333,\"#9c179e\"],[0.4444444444444444,\"#bd3786\"],[0.5555555555555556,\"#d8576b\"],[0.6666666666666666,\"#ed7953\"],[0.7777777777777778,\"#fb9f3a\"],[0.8888888888888888,\"#fdca26\"],[1.0,\"#f0f921\"]],\"type\":\"heatmapgl\"}],\"histogram\":[{\"marker\":{\"pattern\":{\"fillmode\":\"overlay\",\"size\":10,\"solidity\":0.2}},\"type\":\"histogram\"}],\"histogram2d\":[{\"colorbar\":{\"outlinewidth\":0,\"ticks\":\"\"},\"colorscale\":[[0.0,\"#0d0887\"],[0.1111111111111111,\"#46039f\"],[0.2222222222222222,\"#7201a8\"],[0.3333333333333333,\"#9c179e\"],[0.4444444444444444,\"#bd3786\"],[0.5555555555555556,\"#d8576b\"],[0.6666666666666666,\"#ed7953\"],[0.7777777777777778,\"#fb9f3a\"],[0.8888888888888888,\"#fdca26\"],[1.0,\"#f0f921\"]],\"type\":\"histogram2d\"}],\"histogram2dcontour\":[{\"colorbar\":{\"outlinewidth\":0,\"ticks\":\"\"},\"colorscale\":[[0.0,\"#0d0887\"],[0.1111111111111111,\"#46039f\"],[0.2222222222222222,\"#7201a8\"],[0.3333333333333333,\"#9c179e\"],[0.4444444444444444,\"#bd3786\"],[0.5555555555555556,\"#d8576b\"],[0.6666666666666666,\"#ed7953\"],[0.7777777777777778,\"#fb9f3a\"],[0.8888888888888888,\"#fdca26\"],[1.0,\"#f0f921\"]],\"type\":\"histogram2dcontour\"}],\"mesh3d\":[{\"colorbar\":{\"outlinewidth\":0,\"ticks\":\"\"},\"type\":\"mesh3d\"}],\"parcoords\":[{\"line\":{\"colorbar\":{\"outlinewidth\":0,\"ticks\":\"\"}},\"type\":\"parcoords\"}],\"pie\":[{\"automargin\":true,\"type\":\"pie\"}],\"scatter\":[{\"marker\":{\"colorbar\":{\"outlinewidth\":0,\"ticks\":\"\"}},\"type\":\"scatter\"}],\"scatter3d\":[{\"line\":{\"colorbar\":{\"outlinewidth\":0,\"ticks\":\"\"}},\"marker\":{\"colorbar\":{\"outlinewidth\":0,\"ticks\":\"\"}},\"type\":\"scatter3d\"}],\"scattercarpet\":[{\"marker\":{\"colorbar\":{\"outlinewidth\":0,\"ticks\":\"\"}},\"type\":\"scattercarpet\"}],\"scattergeo\":[{\"marker\":{\"colorbar\":{\"outlinewidth\":0,\"ticks\":\"\"}},\"type\":\"scattergeo\"}],\"scattergl\":[{\"marker\":{\"colorbar\":{\"outlinewidth\":0,\"ticks\":\"\"}},\"type\":\"scattergl\"}],\"scattermapbox\":[{\"marker\":{\"colorbar\":{\"outlinewidth\":0,\"ticks\":\"\"}},\"type\":\"scattermapbox\"}],\"scatterpolar\":[{\"marker\":{\"colorbar\":{\"outlinewidth\":0,\"ticks\":\"\"}},\"type\":\"scatterpolar\"}],\"scatterpolargl\":[{\"marker\":{\"colorbar\":{\"outlinewidth\":0,\"ticks\":\"\"}},\"type\":\"scatterpolargl\"}],\"scatterternary\":[{\"marker\":{\"colorbar\":{\"outlinewidth\":0,\"ticks\":\"\"}},\"type\":\"scatterternary\"}],\"surface\":[{\"colorbar\":{\"outlinewidth\":0,\"ticks\":\"\"},\"colorscale\":[[0.0,\"#0d0887\"],[0.1111111111111111,\"#46039f\"],[0.2222222222222222,\"#7201a8\"],[0.3333333333333333,\"#9c179e\"],[0.4444444444444444,\"#bd3786\"],[0.5555555555555556,\"#d8576b\"],[0.6666666666666666,\"#ed7953\"],[0.7777777777777778,\"#fb9f3a\"],[0.8888888888888888,\"#fdca26\"],[1.0,\"#f0f921\"]],\"type\":\"surface\"}],\"table\":[{\"cells\":{\"fill\":{\"color\":\"#EBF0F8\"},\"line\":{\"color\":\"white\"}},\"header\":{\"fill\":{\"color\":\"#C8D4E3\"},\"line\":{\"color\":\"white\"}},\"type\":\"table\"}]},\"layout\":{\"annotationdefaults\":{\"arrowcolor\":\"#2a3f5f\",\"arrowhead\":0,\"arrowwidth\":1},\"autotypenumbers\":\"strict\",\"coloraxis\":{\"colorbar\":{\"outlinewidth\":0,\"ticks\":\"\"}},\"colorscale\":{\"diverging\":[[0,\"#8e0152\"],[0.1,\"#c51b7d\"],[0.2,\"#de77ae\"],[0.3,\"#f1b6da\"],[0.4,\"#fde0ef\"],[0.5,\"#f7f7f7\"],[0.6,\"#e6f5d0\"],[0.7,\"#b8e186\"],[0.8,\"#7fbc41\"],[0.9,\"#4d9221\"],[1,\"#276419\"]],\"sequential\":[[0.0,\"#0d0887\"],[0.1111111111111111,\"#46039f\"],[0.2222222222222222,\"#7201a8\"],[0.3333333333333333,\"#9c179e\"],[0.4444444444444444,\"#bd3786\"],[0.5555555555555556,\"#d8576b\"],[0.6666666666666666,\"#ed7953\"],[0.7777777777777778,\"#fb9f3a\"],[0.8888888888888888,\"#fdca26\"],[1.0,\"#f0f921\"]],\"sequentialminus\":[[0.0,\"#0d0887\"],[0.1111111111111111,\"#46039f\"],[0.2222222222222222,\"#7201a8\"],[0.3333333333333333,\"#9c179e\"],[0.4444444444444444,\"#bd3786\"],[0.5555555555555556,\"#d8576b\"],[0.6666666666666666,\"#ed7953\"],[0.7777777777777778,\"#fb9f3a\"],[0.8888888888888888,\"#fdca26\"],[1.0,\"#f0f921\"]]},\"colorway\":[\"#636efa\",\"#EF553B\",\"#00cc96\",\"#ab63fa\",\"#FFA15A\",\"#19d3f3\",\"#FF6692\",\"#B6E880\",\"#FF97FF\",\"#FECB52\"],\"font\":{\"color\":\"#2a3f5f\"},\"geo\":{\"bgcolor\":\"white\",\"lakecolor\":\"white\",\"landcolor\":\"#E5ECF6\",\"showlakes\":true,\"showland\":true,\"subunitcolor\":\"white\"},\"hoverlabel\":{\"align\":\"left\"},\"hovermode\":\"closest\",\"mapbox\":{\"style\":\"light\"},\"paper_bgcolor\":\"white\",\"plot_bgcolor\":\"#E5ECF6\",\"polar\":{\"angularaxis\":{\"gridcolor\":\"white\",\"linecolor\":\"white\",\"ticks\":\"\"},\"bgcolor\":\"#E5ECF6\",\"radialaxis\":{\"gridcolor\":\"white\",\"linecolor\":\"white\",\"ticks\":\"\"}},\"scene\":{\"xaxis\":{\"backgroundcolor\":\"#E5ECF6\",\"gridcolor\":\"white\",\"gridwidth\":2,\"linecolor\":\"white\",\"showbackground\":true,\"ticks\":\"\",\"zerolinecolor\":\"white\"},\"yaxis\":{\"backgroundcolor\":\"#E5ECF6\",\"gridcolor\":\"white\",\"gridwidth\":2,\"linecolor\":\"white\",\"showbackground\":true,\"ticks\":\"\",\"zerolinecolor\":\"white\"},\"zaxis\":{\"backgroundcolor\":\"#E5ECF6\",\"gridcolor\":\"white\",\"gridwidth\":2,\"linecolor\":\"white\",\"showbackground\":true,\"ticks\":\"\",\"zerolinecolor\":\"white\"}},\"shapedefaults\":{\"line\":{\"color\":\"#2a3f5f\"}},\"ternary\":{\"aaxis\":{\"gridcolor\":\"white\",\"linecolor\":\"white\",\"ticks\":\"\"},\"baxis\":{\"gridcolor\":\"white\",\"linecolor\":\"white\",\"ticks\":\"\"},\"bgcolor\":\"#E5ECF6\",\"caxis\":{\"gridcolor\":\"white\",\"linecolor\":\"white\",\"ticks\":\"\"}},\"title\":{\"x\":0.05},\"xaxis\":{\"automargin\":true,\"gridcolor\":\"white\",\"linecolor\":\"white\",\"ticks\":\"\",\"title\":{\"standoff\":15},\"zerolinecolor\":\"white\",\"zerolinewidth\":2},\"yaxis\":{\"automargin\":true,\"gridcolor\":\"white\",\"linecolor\":\"white\",\"ticks\":\"\",\"title\":{\"standoff\":15},\"zerolinecolor\":\"white\",\"zerolinewidth\":2}}}},                        {\"responsive\": true}                    ).then(function(){\n",
       "                            \n",
       "var gd = document.getElementById('346f2cd1-d19c-4e41-a36a-64992ada084b');\n",
       "var x = new MutationObserver(function (mutations, observer) {{\n",
       "        var display = window.getComputedStyle(gd).display;\n",
       "        if (!display || display === 'none') {{\n",
       "            console.log([gd, 'removed!']);\n",
       "            Plotly.purge(gd);\n",
       "            observer.disconnect();\n",
       "        }}\n",
       "}});\n",
       "\n",
       "// Listen for the removal of the full notebook cells\n",
       "var notebookContainer = gd.closest('#notebook-container');\n",
       "if (notebookContainer) {{\n",
       "    x.observe(notebookContainer, {childList: true});\n",
       "}}\n",
       "\n",
       "// Listen for the clearing of the current output cell\n",
       "var outputEl = gd.closest('.output');\n",
       "if (outputEl) {{\n",
       "    x.observe(outputEl, {childList: true});\n",
       "}}\n",
       "\n",
       "                        })                };                });            </script>        </div>"
      ]
     },
     "metadata": {},
     "output_type": "display_data"
    }
   ],
   "source": [
    "fig = go.Figure(data=[go.Pie(labels=parts.index, values=parts.values, title='Доля оттока для кластеров')]);\n",
    "fig.show() ;"
   ]
  },
  {
   "cell_type": "markdown",
   "metadata": {},
   "source": [
    "## Выводы:"
   ]
  },
  {
   "cell_type": "markdown",
   "metadata": {},
   "source": [
    " **Портрет идеального среднестатистического клиента:**\n",
    " \n",
    " около 30 лет, \n",
    " живет неподалеку от фитнес-центра, \n",
    " регулярно ( 1-2 раза в неделю) посещает зал,\n",
    " посещает групповые занятия, \n",
    " у него есть друзья, которые хотят в тот же фитнес-центр и есть скидки/бонусы по каким-то программам.\n",
    " есть абонемент на пол года или более."
   ]
  },
  {
   "cell_type": "markdown",
   "metadata": {},
   "source": [
    "**Факторы риска**\n",
    "\n",
    "Чаще всего в отток попадают те, кто приходит попробовать позаниматься в зале, но что-то их не устраивет. \n",
    "Это клиенты либо живут не так близко, либо не посещают групповые занятия или пришли не по клиентской бонусной программе. \n",
    "Они берут абонемент на месяц, редко посещают тренировки.Не оставляют контактов т.е. изначально не стремятся стать постоянными клиентами."
   ]
  },
  {
   "cell_type": "markdown",
   "metadata": {},
   "source": [
    "**Рекомендации:**\n",
    " - Устанавливать сотрудничество с новыми компаниями;\n",
    " - Привлекать клиентов на групповые занятия, проводить открытые уроки.\n",
    " - Сделать бонусную программу: те кто больше занимается имеет большую скидку на последующий абонмент;\n",
    " - Провести рекламную компанию внутри района, где находится фитнес-центр.\n",
    " - Необходимо найти способы держать обратную связь с посетителями."
   ]
  }
 ],
 "metadata": {
  "ExecuteTimeLog": [
   {
    "duration": 1854,
    "start_time": "2022-10-14T10:38:00.788Z"
   },
   {
    "duration": 49,
    "start_time": "2022-10-14T10:40:02.145Z"
   },
   {
    "duration": 18,
    "start_time": "2022-10-14T10:40:33.441Z"
   },
   {
    "duration": 14,
    "start_time": "2022-10-14T10:40:49.717Z"
   },
   {
    "duration": 4,
    "start_time": "2022-10-14T10:42:37.105Z"
   },
   {
    "duration": 5,
    "start_time": "2022-10-14T10:42:55.530Z"
   },
   {
    "duration": 33,
    "start_time": "2022-10-14T10:42:55.541Z"
   },
   {
    "duration": 16,
    "start_time": "2022-10-14T10:42:55.577Z"
   },
   {
    "duration": 19,
    "start_time": "2022-10-14T10:42:55.595Z"
   },
   {
    "duration": 17,
    "start_time": "2022-10-14T10:42:55.616Z"
   },
   {
    "duration": 7,
    "start_time": "2022-10-14T10:56:38.075Z"
   },
   {
    "duration": 47,
    "start_time": "2022-10-14T10:56:59.067Z"
   },
   {
    "duration": 43,
    "start_time": "2022-10-14T10:57:45.935Z"
   },
   {
    "duration": 13,
    "start_time": "2022-10-14T11:02:28.180Z"
   },
   {
    "duration": 12,
    "start_time": "2022-10-14T11:05:38.797Z"
   },
   {
    "duration": 13,
    "start_time": "2022-10-14T11:11:14.521Z"
   },
   {
    "duration": 147,
    "start_time": "2022-10-14T11:29:36.305Z"
   },
   {
    "duration": 4141,
    "start_time": "2022-10-14T11:32:28.644Z"
   },
   {
    "duration": 122,
    "start_time": "2022-10-14T11:37:00.845Z"
   },
   {
    "duration": 4,
    "start_time": "2022-10-14T11:39:06.426Z"
   },
   {
    "duration": 16,
    "start_time": "2022-10-14T11:40:35.286Z"
   },
   {
    "duration": 10,
    "start_time": "2022-10-14T11:41:07.895Z"
   },
   {
    "duration": 11,
    "start_time": "2022-10-14T11:41:57.853Z"
   },
   {
    "duration": 330,
    "start_time": "2022-10-14T11:42:09.017Z"
   },
   {
    "duration": 227,
    "start_time": "2022-10-14T11:42:19.564Z"
   },
   {
    "duration": 5,
    "start_time": "2022-10-14T11:43:18.502Z"
   },
   {
    "duration": 24,
    "start_time": "2022-10-14T11:43:18.509Z"
   },
   {
    "duration": 11,
    "start_time": "2022-10-14T11:43:18.535Z"
   },
   {
    "duration": 4,
    "start_time": "2022-10-14T11:43:18.548Z"
   },
   {
    "duration": 13,
    "start_time": "2022-10-14T11:43:18.554Z"
   },
   {
    "duration": 7,
    "start_time": "2022-10-14T11:43:18.569Z"
   },
   {
    "duration": 67,
    "start_time": "2022-10-14T11:43:18.577Z"
   },
   {
    "duration": 11,
    "start_time": "2022-10-14T11:43:18.646Z"
   },
   {
    "duration": 3,
    "start_time": "2022-10-14T11:43:18.659Z"
   },
   {
    "duration": 1332,
    "start_time": "2022-10-14T11:43:18.664Z"
   },
   {
    "duration": 15,
    "start_time": "2022-10-14T11:46:31.672Z"
   },
   {
    "duration": 143,
    "start_time": "2022-10-14T11:46:45.422Z"
   },
   {
    "duration": 158,
    "start_time": "2022-10-14T11:47:06.387Z"
   },
   {
    "duration": 5,
    "start_time": "2022-10-14T11:48:04.445Z"
   },
   {
    "duration": 51,
    "start_time": "2022-10-14T11:48:04.451Z"
   },
   {
    "duration": 22,
    "start_time": "2022-10-14T11:48:04.504Z"
   },
   {
    "duration": 26,
    "start_time": "2022-10-14T11:48:04.527Z"
   },
   {
    "duration": 19,
    "start_time": "2022-10-14T11:48:04.555Z"
   },
   {
    "duration": 11,
    "start_time": "2022-10-14T11:48:04.575Z"
   },
   {
    "duration": 61,
    "start_time": "2022-10-14T11:48:04.588Z"
   },
   {
    "duration": 11,
    "start_time": "2022-10-14T11:48:04.651Z"
   },
   {
    "duration": 9,
    "start_time": "2022-10-14T11:48:04.664Z"
   },
   {
    "duration": 1397,
    "start_time": "2022-10-14T11:48:04.674Z"
   },
   {
    "duration": 966,
    "start_time": "2022-10-14T11:48:06.073Z"
   },
   {
    "duration": 1001,
    "start_time": "2022-10-14T11:48:52.035Z"
   },
   {
    "duration": 620,
    "start_time": "2022-10-14T11:52:52.221Z"
   },
   {
    "duration": 1222,
    "start_time": "2022-10-14T11:54:11.639Z"
   },
   {
    "duration": 5,
    "start_time": "2022-10-14T11:54:22.758Z"
   },
   {
    "duration": 22,
    "start_time": "2022-10-14T11:54:22.766Z"
   },
   {
    "duration": 12,
    "start_time": "2022-10-14T11:54:22.790Z"
   },
   {
    "duration": 6,
    "start_time": "2022-10-14T11:54:22.803Z"
   },
   {
    "duration": 25,
    "start_time": "2022-10-14T11:54:22.811Z"
   },
   {
    "duration": 8,
    "start_time": "2022-10-14T11:54:22.838Z"
   },
   {
    "duration": 45,
    "start_time": "2022-10-14T11:54:22.848Z"
   },
   {
    "duration": 12,
    "start_time": "2022-10-14T11:54:22.894Z"
   },
   {
    "duration": 1399,
    "start_time": "2022-10-14T11:54:22.908Z"
   },
   {
    "duration": 619,
    "start_time": "2022-10-14T11:54:24.308Z"
   },
   {
    "duration": 1614,
    "start_time": "2022-10-14T12:04:08.911Z"
   },
   {
    "duration": 1786,
    "start_time": "2022-10-14T12:04:20.437Z"
   },
   {
    "duration": 162,
    "start_time": "2022-10-14T12:09:03.950Z"
   },
   {
    "duration": 1499,
    "start_time": "2022-10-14T12:09:37.650Z"
   },
   {
    "duration": 1448,
    "start_time": "2022-10-14T12:12:33.463Z"
   },
   {
    "duration": 4,
    "start_time": "2022-10-14T12:16:55.740Z"
   },
   {
    "duration": 5,
    "start_time": "2022-10-14T12:17:52.729Z"
   },
   {
    "duration": 11,
    "start_time": "2022-10-14T12:35:37.513Z"
   },
   {
    "duration": 4,
    "start_time": "2022-10-14T12:36:01.514Z"
   },
   {
    "duration": 52,
    "start_time": "2022-10-14T12:36:01.521Z"
   },
   {
    "duration": 17,
    "start_time": "2022-10-14T12:36:01.574Z"
   },
   {
    "duration": 20,
    "start_time": "2022-10-14T12:36:01.593Z"
   },
   {
    "duration": 56,
    "start_time": "2022-10-14T12:36:01.615Z"
   },
   {
    "duration": 7,
    "start_time": "2022-10-14T12:36:01.673Z"
   },
   {
    "duration": 45,
    "start_time": "2022-10-14T12:36:01.681Z"
   },
   {
    "duration": 20,
    "start_time": "2022-10-14T12:36:01.728Z"
   },
   {
    "duration": 1641,
    "start_time": "2022-10-14T12:36:01.750Z"
   },
   {
    "duration": 693,
    "start_time": "2022-10-14T12:36:03.393Z"
   },
   {
    "duration": 1638,
    "start_time": "2022-10-14T12:36:04.089Z"
   },
   {
    "duration": 12,
    "start_time": "2022-10-14T12:36:05.737Z"
   },
   {
    "duration": 23,
    "start_time": "2022-10-14T12:36:05.751Z"
   },
   {
    "duration": 21,
    "start_time": "2022-10-14T12:36:05.776Z"
   },
   {
    "duration": 743,
    "start_time": "2022-10-14T12:36:05.799Z"
   },
   {
    "duration": 367,
    "start_time": "2022-10-14T12:39:37.670Z"
   },
   {
    "duration": 335,
    "start_time": "2022-10-14T12:40:32.799Z"
   },
   {
    "duration": 362,
    "start_time": "2022-10-14T12:42:29.588Z"
   },
   {
    "duration": 439,
    "start_time": "2022-10-14T12:46:16.013Z"
   },
   {
    "duration": 407,
    "start_time": "2022-10-14T12:46:40.658Z"
   },
   {
    "duration": 367,
    "start_time": "2022-10-14T13:19:07.375Z"
   },
   {
    "duration": 8,
    "start_time": "2022-10-14T13:25:55.608Z"
   },
   {
    "duration": 5,
    "start_time": "2022-10-14T13:27:53.045Z"
   },
   {
    "duration": 22,
    "start_time": "2022-10-14T13:27:53.052Z"
   },
   {
    "duration": 11,
    "start_time": "2022-10-14T13:27:53.075Z"
   },
   {
    "duration": 7,
    "start_time": "2022-10-14T13:27:53.088Z"
   },
   {
    "duration": 11,
    "start_time": "2022-10-14T13:27:53.097Z"
   },
   {
    "duration": 7,
    "start_time": "2022-10-14T13:27:53.110Z"
   },
   {
    "duration": 45,
    "start_time": "2022-10-14T13:27:53.119Z"
   },
   {
    "duration": 11,
    "start_time": "2022-10-14T13:27:53.166Z"
   },
   {
    "duration": 1413,
    "start_time": "2022-10-14T13:27:53.178Z"
   },
   {
    "duration": 631,
    "start_time": "2022-10-14T13:27:54.592Z"
   },
   {
    "duration": 1547,
    "start_time": "2022-10-14T13:27:55.224Z"
   },
   {
    "duration": 4,
    "start_time": "2022-10-14T13:27:56.773Z"
   },
   {
    "duration": 23,
    "start_time": "2022-10-14T13:27:56.779Z"
   },
   {
    "duration": 12,
    "start_time": "2022-10-14T13:27:56.804Z"
   },
   {
    "duration": 217,
    "start_time": "2022-10-14T13:27:56.818Z"
   },
   {
    "duration": 463,
    "start_time": "2022-10-14T13:27:57.038Z"
   },
   {
    "duration": 8,
    "start_time": "2022-10-14T13:27:57.503Z"
   },
   {
    "duration": 113282,
    "start_time": "2022-10-14T13:27:57.512Z"
   },
   {
    "duration": 1774,
    "start_time": "2022-10-14T13:56:50.865Z"
   },
   {
    "duration": 14,
    "start_time": "2022-10-14T14:00:00.606Z"
   },
   {
    "duration": 1683,
    "start_time": "2022-10-14T14:47:01.844Z"
   },
   {
    "duration": 20,
    "start_time": "2022-10-14T14:50:00.709Z"
   },
   {
    "duration": 17,
    "start_time": "2022-10-14T14:51:31.128Z"
   },
   {
    "duration": 17,
    "start_time": "2022-10-14T14:53:01.485Z"
   },
   {
    "duration": 17,
    "start_time": "2022-10-14T14:53:06.572Z"
   },
   {
    "duration": 6,
    "start_time": "2022-10-14T14:53:42.762Z"
   },
   {
    "duration": 27,
    "start_time": "2022-10-14T14:53:42.770Z"
   },
   {
    "duration": 11,
    "start_time": "2022-10-14T14:53:42.798Z"
   },
   {
    "duration": 5,
    "start_time": "2022-10-14T14:53:42.810Z"
   },
   {
    "duration": 14,
    "start_time": "2022-10-14T14:53:42.817Z"
   },
   {
    "duration": 6,
    "start_time": "2022-10-14T14:53:42.833Z"
   },
   {
    "duration": 45,
    "start_time": "2022-10-14T14:53:42.841Z"
   },
   {
    "duration": 11,
    "start_time": "2022-10-14T14:53:42.888Z"
   },
   {
    "duration": 1684,
    "start_time": "2022-10-14T14:53:42.901Z"
   },
   {
    "duration": 671,
    "start_time": "2022-10-14T14:53:44.587Z"
   },
   {
    "duration": 1595,
    "start_time": "2022-10-14T14:53:45.259Z"
   },
   {
    "duration": 4,
    "start_time": "2022-10-14T14:53:46.856Z"
   },
   {
    "duration": 8,
    "start_time": "2022-10-14T14:53:46.863Z"
   },
   {
    "duration": 10,
    "start_time": "2022-10-14T14:53:46.874Z"
   },
   {
    "duration": 556,
    "start_time": "2022-10-14T14:53:46.886Z"
   },
   {
    "duration": 481,
    "start_time": "2022-10-14T14:53:47.444Z"
   },
   {
    "duration": 10,
    "start_time": "2022-10-14T14:53:47.927Z"
   },
   {
    "duration": 116517,
    "start_time": "2022-10-14T14:53:47.938Z"
   },
   {
    "duration": 1382,
    "start_time": "2022-10-14T14:55:44.456Z"
   },
   {
    "duration": 101,
    "start_time": "2022-10-14T14:55:45.841Z"
   },
   {
    "duration": 1731,
    "start_time": "2022-10-14T14:55:45.944Z"
   },
   {
    "duration": 173,
    "start_time": "2022-10-14T14:55:47.677Z"
   },
   {
    "duration": 5,
    "start_time": "2022-10-14T15:04:25.562Z"
   },
   {
    "duration": 21,
    "start_time": "2022-10-14T15:04:25.573Z"
   },
   {
    "duration": 12,
    "start_time": "2022-10-14T15:04:25.596Z"
   },
   {
    "duration": 5,
    "start_time": "2022-10-14T15:04:25.610Z"
   },
   {
    "duration": 14,
    "start_time": "2022-10-14T15:04:25.616Z"
   },
   {
    "duration": 9,
    "start_time": "2022-10-14T15:04:25.631Z"
   },
   {
    "duration": 45,
    "start_time": "2022-10-14T15:04:25.642Z"
   },
   {
    "duration": 12,
    "start_time": "2022-10-14T15:04:25.689Z"
   },
   {
    "duration": 1406,
    "start_time": "2022-10-14T15:04:25.703Z"
   },
   {
    "duration": 985,
    "start_time": "2022-10-14T15:04:27.111Z"
   },
   {
    "duration": 1523,
    "start_time": "2022-10-14T15:04:28.098Z"
   },
   {
    "duration": 11,
    "start_time": "2022-10-14T15:04:29.623Z"
   },
   {
    "duration": 9,
    "start_time": "2022-10-14T15:04:29.636Z"
   },
   {
    "duration": 11,
    "start_time": "2022-10-14T15:04:29.646Z"
   },
   {
    "duration": 177,
    "start_time": "2022-10-14T15:04:29.658Z"
   },
   {
    "duration": 469,
    "start_time": "2022-10-14T15:04:29.838Z"
   },
   {
    "duration": 8,
    "start_time": "2022-10-14T15:04:30.308Z"
   },
   {
    "duration": 113243,
    "start_time": "2022-10-14T15:04:30.318Z"
   },
   {
    "duration": 1474,
    "start_time": "2022-10-14T15:06:23.563Z"
   },
   {
    "duration": 106,
    "start_time": "2022-10-14T15:06:25.039Z"
   },
   {
    "duration": 1941,
    "start_time": "2022-10-14T15:06:25.146Z"
   },
   {
    "duration": 15,
    "start_time": "2022-10-14T15:06:27.089Z"
   },
   {
    "duration": 4,
    "start_time": "2022-10-14T15:34:06.868Z"
   },
   {
    "duration": 32,
    "start_time": "2022-10-14T15:34:06.874Z"
   },
   {
    "duration": 11,
    "start_time": "2022-10-14T15:34:06.908Z"
   },
   {
    "duration": 10,
    "start_time": "2022-10-14T15:34:06.922Z"
   },
   {
    "duration": 13,
    "start_time": "2022-10-14T15:34:06.933Z"
   },
   {
    "duration": 7,
    "start_time": "2022-10-14T15:34:06.948Z"
   },
   {
    "duration": 40,
    "start_time": "2022-10-14T15:34:06.957Z"
   },
   {
    "duration": 36,
    "start_time": "2022-10-14T15:34:06.999Z"
   },
   {
    "duration": 1300,
    "start_time": "2022-10-14T15:34:07.037Z"
   },
   {
    "duration": 800,
    "start_time": "2022-10-14T15:34:08.341Z"
   },
   {
    "duration": 1454,
    "start_time": "2022-10-14T15:34:09.143Z"
   },
   {
    "duration": 4,
    "start_time": "2022-10-14T15:34:10.599Z"
   },
   {
    "duration": 10,
    "start_time": "2022-10-14T15:34:10.604Z"
   },
   {
    "duration": 18,
    "start_time": "2022-10-14T15:34:10.615Z"
   },
   {
    "duration": 208,
    "start_time": "2022-10-14T15:34:10.635Z"
   },
   {
    "duration": 439,
    "start_time": "2022-10-14T15:34:10.935Z"
   },
   {
    "duration": 8,
    "start_time": "2022-10-14T15:34:11.375Z"
   },
   {
    "duration": 112099,
    "start_time": "2022-10-14T15:34:11.384Z"
   },
   {
    "duration": 1453,
    "start_time": "2022-10-14T15:36:03.485Z"
   },
   {
    "duration": 104,
    "start_time": "2022-10-14T15:36:04.941Z"
   },
   {
    "duration": 1927,
    "start_time": "2022-10-14T15:36:05.047Z"
   },
   {
    "duration": 14,
    "start_time": "2022-10-14T15:36:06.976Z"
   },
   {
    "duration": 4,
    "start_time": "2022-10-14T15:37:57.938Z"
   },
   {
    "duration": 27,
    "start_time": "2022-10-14T15:37:57.943Z"
   },
   {
    "duration": 11,
    "start_time": "2022-10-14T15:37:57.972Z"
   },
   {
    "duration": 5,
    "start_time": "2022-10-14T15:37:57.984Z"
   },
   {
    "duration": 13,
    "start_time": "2022-10-14T15:37:57.991Z"
   },
   {
    "duration": 7,
    "start_time": "2022-10-14T15:37:58.006Z"
   },
   {
    "duration": 58,
    "start_time": "2022-10-14T15:37:58.014Z"
   },
   {
    "duration": 10,
    "start_time": "2022-10-14T15:37:58.074Z"
   },
   {
    "duration": 1309,
    "start_time": "2022-10-14T15:37:58.086Z"
   },
   {
    "duration": 789,
    "start_time": "2022-10-14T15:37:59.397Z"
   },
   {
    "duration": 1471,
    "start_time": "2022-10-14T15:38:00.187Z"
   },
   {
    "duration": 4,
    "start_time": "2022-10-14T15:38:01.660Z"
   },
   {
    "duration": 9,
    "start_time": "2022-10-14T15:38:01.665Z"
   },
   {
    "duration": 10,
    "start_time": "2022-10-14T15:38:01.675Z"
   },
   {
    "duration": 358,
    "start_time": "2022-10-14T15:38:01.686Z"
   },
   {
    "duration": 405,
    "start_time": "2022-10-14T15:38:02.134Z"
   },
   {
    "duration": 8,
    "start_time": "2022-10-14T15:38:02.541Z"
   },
   {
    "duration": 113443,
    "start_time": "2022-10-14T15:38:02.551Z"
   },
   {
    "duration": 1243,
    "start_time": "2022-10-14T15:39:55.996Z"
   },
   {
    "duration": 101,
    "start_time": "2022-10-14T15:39:57.242Z"
   },
   {
    "duration": 1914,
    "start_time": "2022-10-14T15:39:57.345Z"
   },
   {
    "duration": 15,
    "start_time": "2022-10-14T15:39:59.261Z"
   },
   {
    "duration": 5,
    "start_time": "2022-10-14T15:40:58.718Z"
   },
   {
    "duration": 27,
    "start_time": "2022-10-14T15:40:58.728Z"
   },
   {
    "duration": 12,
    "start_time": "2022-10-14T15:40:58.757Z"
   },
   {
    "duration": 9,
    "start_time": "2022-10-14T15:40:58.770Z"
   },
   {
    "duration": 14,
    "start_time": "2022-10-14T15:40:58.781Z"
   },
   {
    "duration": 8,
    "start_time": "2022-10-14T15:40:58.797Z"
   },
   {
    "duration": 54,
    "start_time": "2022-10-14T15:40:58.807Z"
   },
   {
    "duration": 10,
    "start_time": "2022-10-14T15:40:58.862Z"
   },
   {
    "duration": 1207,
    "start_time": "2022-10-14T15:40:58.874Z"
   },
   {
    "duration": 804,
    "start_time": "2022-10-14T15:41:00.083Z"
   },
   {
    "duration": 1488,
    "start_time": "2022-10-14T15:41:00.889Z"
   },
   {
    "duration": 4,
    "start_time": "2022-10-14T15:41:02.379Z"
   },
   {
    "duration": 16,
    "start_time": "2022-10-14T15:41:02.385Z"
   },
   {
    "duration": 26,
    "start_time": "2022-10-14T15:41:02.402Z"
   },
   {
    "duration": 305,
    "start_time": "2022-10-14T15:41:02.429Z"
   },
   {
    "duration": 462,
    "start_time": "2022-10-14T15:41:02.736Z"
   },
   {
    "duration": 7,
    "start_time": "2022-10-14T15:41:03.199Z"
   },
   {
    "duration": 113415,
    "start_time": "2022-10-14T15:41:03.208Z"
   },
   {
    "duration": 1314,
    "start_time": "2022-10-14T15:42:56.626Z"
   },
   {
    "duration": 104,
    "start_time": "2022-10-14T15:42:57.942Z"
   },
   {
    "duration": 1871,
    "start_time": "2022-10-14T15:42:58.047Z"
   },
   {
    "duration": 19,
    "start_time": "2022-10-14T15:42:59.920Z"
   },
   {
    "duration": 1677,
    "start_time": "2022-10-16T06:54:01.703Z"
   },
   {
    "duration": 41,
    "start_time": "2022-10-16T06:54:03.382Z"
   },
   {
    "duration": 28,
    "start_time": "2022-10-16T06:54:03.424Z"
   },
   {
    "duration": 19,
    "start_time": "2022-10-16T06:54:03.454Z"
   },
   {
    "duration": 43,
    "start_time": "2022-10-16T06:54:03.474Z"
   },
   {
    "duration": 34,
    "start_time": "2022-10-16T06:54:03.518Z"
   },
   {
    "duration": 63,
    "start_time": "2022-10-16T06:54:03.553Z"
   },
   {
    "duration": 11,
    "start_time": "2022-10-16T06:54:03.618Z"
   },
   {
    "duration": 1281,
    "start_time": "2022-10-16T06:54:03.630Z"
   },
   {
    "duration": 626,
    "start_time": "2022-10-16T06:54:04.913Z"
   },
   {
    "duration": 1416,
    "start_time": "2022-10-16T06:54:05.541Z"
   },
   {
    "duration": 4,
    "start_time": "2022-10-16T06:54:06.959Z"
   },
   {
    "duration": 29,
    "start_time": "2022-10-16T06:54:06.965Z"
   },
   {
    "duration": 39,
    "start_time": "2022-10-16T06:54:06.996Z"
   },
   {
    "duration": 177,
    "start_time": "2022-10-16T06:54:07.037Z"
   },
   {
    "duration": 486,
    "start_time": "2022-10-16T06:54:07.216Z"
   },
   {
    "duration": 10,
    "start_time": "2022-10-16T06:54:07.703Z"
   },
   {
    "duration": 98261,
    "start_time": "2022-10-16T06:54:07.715Z"
   },
   {
    "duration": 940,
    "start_time": "2022-10-16T06:55:45.978Z"
   },
   {
    "duration": 15,
    "start_time": "2022-10-16T06:55:47.008Z"
   },
   {
    "duration": 1722,
    "start_time": "2022-10-16T06:55:47.025Z"
   },
   {
    "duration": 157,
    "start_time": "2022-10-16T06:55:48.749Z"
   },
   {
    "duration": 1611,
    "start_time": "2022-10-17T09:38:36.486Z"
   },
   {
    "duration": 144,
    "start_time": "2022-10-17T09:38:38.099Z"
   },
   {
    "duration": 16,
    "start_time": "2022-10-17T09:38:38.245Z"
   },
   {
    "duration": 6,
    "start_time": "2022-10-17T09:38:38.263Z"
   },
   {
    "duration": 36,
    "start_time": "2022-10-17T09:38:38.270Z"
   },
   {
    "duration": 17,
    "start_time": "2022-10-17T09:38:38.308Z"
   },
   {
    "duration": 65,
    "start_time": "2022-10-17T09:38:38.327Z"
   },
   {
    "duration": 11,
    "start_time": "2022-10-17T09:38:38.394Z"
   },
   {
    "duration": 1430,
    "start_time": "2022-10-17T09:38:38.407Z"
   },
   {
    "duration": 649,
    "start_time": "2022-10-17T09:38:39.840Z"
   },
   {
    "duration": 1417,
    "start_time": "2022-10-17T09:38:40.490Z"
   },
   {
    "duration": 12,
    "start_time": "2022-10-17T09:38:41.909Z"
   },
   {
    "duration": 24,
    "start_time": "2022-10-17T09:38:41.923Z"
   },
   {
    "duration": 28,
    "start_time": "2022-10-17T09:38:41.949Z"
   },
   {
    "duration": 30,
    "start_time": "2022-10-17T09:38:41.979Z"
   },
   {
    "duration": 77,
    "start_time": "2022-10-17T09:38:42.011Z"
   },
   {
    "duration": 456,
    "start_time": "2022-10-17T09:38:42.090Z"
   },
   {
    "duration": 7,
    "start_time": "2022-10-17T09:38:42.548Z"
   },
   {
    "duration": 102459,
    "start_time": "2022-10-17T09:38:42.556Z"
   },
   {
    "duration": 1179,
    "start_time": "2022-10-17T09:40:25.016Z"
   },
   {
    "duration": 14,
    "start_time": "2022-10-17T09:40:26.285Z"
   },
   {
    "duration": 1404,
    "start_time": "2022-10-17T09:40:26.300Z"
   },
   {
    "duration": 156,
    "start_time": "2022-10-17T09:40:27.706Z"
   },
   {
    "duration": 4,
    "start_time": "2022-10-17T10:06:04.843Z"
   },
   {
    "duration": 61,
    "start_time": "2022-10-17T10:06:04.850Z"
   },
   {
    "duration": 13,
    "start_time": "2022-10-17T10:06:04.913Z"
   },
   {
    "duration": 30,
    "start_time": "2022-10-17T10:06:04.927Z"
   },
   {
    "duration": 22,
    "start_time": "2022-10-17T10:06:04.959Z"
   },
   {
    "duration": 26,
    "start_time": "2022-10-17T10:06:04.982Z"
   },
   {
    "duration": 49,
    "start_time": "2022-10-17T10:06:05.009Z"
   },
   {
    "duration": 10,
    "start_time": "2022-10-17T10:06:05.059Z"
   },
   {
    "duration": 1391,
    "start_time": "2022-10-17T10:06:05.070Z"
   },
   {
    "duration": 644,
    "start_time": "2022-10-17T10:06:06.463Z"
   },
   {
    "duration": 1333,
    "start_time": "2022-10-17T10:06:07.110Z"
   },
   {
    "duration": 10,
    "start_time": "2022-10-17T10:06:08.444Z"
   },
   {
    "duration": 24,
    "start_time": "2022-10-17T10:06:08.455Z"
   },
   {
    "duration": 9,
    "start_time": "2022-10-17T10:06:08.481Z"
   },
   {
    "duration": 18,
    "start_time": "2022-10-17T10:06:08.492Z"
   },
   {
    "duration": 309,
    "start_time": "2022-10-17T10:06:08.511Z"
   },
   {
    "duration": 0,
    "start_time": "2022-10-17T10:06:08.822Z"
   },
   {
    "duration": 0,
    "start_time": "2022-10-17T10:06:08.823Z"
   },
   {
    "duration": 0,
    "start_time": "2022-10-17T10:06:08.824Z"
   },
   {
    "duration": 0,
    "start_time": "2022-10-17T10:06:08.825Z"
   },
   {
    "duration": 0,
    "start_time": "2022-10-17T10:06:08.826Z"
   },
   {
    "duration": 0,
    "start_time": "2022-10-17T10:06:08.827Z"
   },
   {
    "duration": 0,
    "start_time": "2022-10-17T10:06:08.827Z"
   },
   {
    "duration": 4,
    "start_time": "2022-10-17T10:09:26.431Z"
   },
   {
    "duration": 40,
    "start_time": "2022-10-17T10:09:26.441Z"
   },
   {
    "duration": 11,
    "start_time": "2022-10-17T10:09:26.483Z"
   },
   {
    "duration": 10,
    "start_time": "2022-10-17T10:09:26.496Z"
   },
   {
    "duration": 14,
    "start_time": "2022-10-17T10:09:26.508Z"
   },
   {
    "duration": 7,
    "start_time": "2022-10-17T10:09:26.524Z"
   },
   {
    "duration": 63,
    "start_time": "2022-10-17T10:09:26.533Z"
   },
   {
    "duration": 10,
    "start_time": "2022-10-17T10:09:26.599Z"
   },
   {
    "duration": 1369,
    "start_time": "2022-10-17T10:09:26.611Z"
   },
   {
    "duration": 594,
    "start_time": "2022-10-17T10:09:27.984Z"
   },
   {
    "duration": 1472,
    "start_time": "2022-10-17T10:09:28.580Z"
   },
   {
    "duration": 10,
    "start_time": "2022-10-17T10:09:30.053Z"
   },
   {
    "duration": 8,
    "start_time": "2022-10-17T10:09:30.064Z"
   },
   {
    "duration": 11,
    "start_time": "2022-10-17T10:09:30.074Z"
   },
   {
    "duration": 13,
    "start_time": "2022-10-17T10:09:30.087Z"
   },
   {
    "duration": 184,
    "start_time": "2022-10-17T10:09:30.103Z"
   },
   {
    "duration": 430,
    "start_time": "2022-10-17T10:09:30.289Z"
   },
   {
    "duration": 7,
    "start_time": "2022-10-17T10:09:30.721Z"
   },
   {
    "duration": 105987,
    "start_time": "2022-10-17T10:09:30.730Z"
   },
   {
    "duration": 1170,
    "start_time": "2022-10-17T10:11:16.719Z"
   },
   {
    "duration": 97,
    "start_time": "2022-10-17T10:11:17.891Z"
   },
   {
    "duration": 1384,
    "start_time": "2022-10-17T10:11:17.990Z"
   },
   {
    "duration": 19,
    "start_time": "2022-10-17T10:11:19.375Z"
   },
   {
    "duration": 20,
    "start_time": "2022-10-17T10:11:37.666Z"
   },
   {
    "duration": 4,
    "start_time": "2022-10-17T10:11:43.990Z"
   },
   {
    "duration": 32,
    "start_time": "2022-10-17T10:11:43.998Z"
   },
   {
    "duration": 11,
    "start_time": "2022-10-17T10:11:44.032Z"
   },
   {
    "duration": 39,
    "start_time": "2022-10-17T10:11:44.044Z"
   },
   {
    "duration": 24,
    "start_time": "2022-10-17T10:11:44.086Z"
   },
   {
    "duration": 25,
    "start_time": "2022-10-17T10:11:44.112Z"
   },
   {
    "duration": 61,
    "start_time": "2022-10-17T10:11:44.138Z"
   },
   {
    "duration": 10,
    "start_time": "2022-10-17T10:11:44.200Z"
   },
   {
    "duration": 1397,
    "start_time": "2022-10-17T10:11:44.211Z"
   },
   {
    "duration": 598,
    "start_time": "2022-10-17T10:11:45.609Z"
   },
   {
    "duration": 1493,
    "start_time": "2022-10-17T10:11:46.210Z"
   },
   {
    "duration": 12,
    "start_time": "2022-10-17T10:11:47.704Z"
   },
   {
    "duration": 13,
    "start_time": "2022-10-17T10:11:47.717Z"
   },
   {
    "duration": 29,
    "start_time": "2022-10-17T10:11:47.732Z"
   },
   {
    "duration": 18,
    "start_time": "2022-10-17T10:11:47.762Z"
   },
   {
    "duration": 106,
    "start_time": "2022-10-17T10:11:47.782Z"
   },
   {
    "duration": 425,
    "start_time": "2022-10-17T10:11:47.890Z"
   },
   {
    "duration": 7,
    "start_time": "2022-10-17T10:11:48.317Z"
   },
   {
    "duration": 105326,
    "start_time": "2022-10-17T10:11:48.325Z"
   },
   {
    "duration": 1232,
    "start_time": "2022-10-17T10:13:33.653Z"
   },
   {
    "duration": 19,
    "start_time": "2022-10-17T10:13:34.887Z"
   },
   {
    "duration": 1448,
    "start_time": "2022-10-17T10:13:34.908Z"
   },
   {
    "duration": 15,
    "start_time": "2022-10-17T10:13:36.357Z"
   },
   {
    "duration": 10,
    "start_time": "2022-10-17T10:30:50.121Z"
   },
   {
    "duration": 11,
    "start_time": "2022-10-17T10:31:58.967Z"
   },
   {
    "duration": 10,
    "start_time": "2022-10-17T10:32:17.166Z"
   },
   {
    "duration": 8,
    "start_time": "2022-10-17T10:32:26.272Z"
   },
   {
    "duration": 10,
    "start_time": "2022-10-17T10:47:47.392Z"
   },
   {
    "duration": 9,
    "start_time": "2022-10-17T10:47:55.859Z"
   },
   {
    "duration": 12,
    "start_time": "2022-10-17T10:48:39.489Z"
   },
   {
    "duration": 8,
    "start_time": "2022-10-17T10:48:41.340Z"
   },
   {
    "duration": 11,
    "start_time": "2022-10-17T11:07:27.638Z"
   },
   {
    "duration": 9,
    "start_time": "2022-10-17T11:07:29.053Z"
   },
   {
    "duration": 11,
    "start_time": "2022-10-17T11:08:01.852Z"
   },
   {
    "duration": 9,
    "start_time": "2022-10-17T11:08:03.137Z"
   },
   {
    "duration": 10,
    "start_time": "2022-10-17T11:22:20.635Z"
   },
   {
    "duration": 10,
    "start_time": "2022-10-17T11:22:36.201Z"
   },
   {
    "duration": 12,
    "start_time": "2022-10-17T11:25:12.678Z"
   },
   {
    "duration": 13,
    "start_time": "2022-10-17T11:26:05.096Z"
   },
   {
    "duration": 12,
    "start_time": "2022-10-17T11:26:50.189Z"
   },
   {
    "duration": 9,
    "start_time": "2022-10-17T11:26:57.927Z"
   },
   {
    "duration": 14,
    "start_time": "2022-10-17T11:29:03.542Z"
   },
   {
    "duration": 4,
    "start_time": "2022-10-17T11:29:55.922Z"
   },
   {
    "duration": 7,
    "start_time": "2022-10-17T11:30:05.727Z"
   },
   {
    "duration": 9,
    "start_time": "2022-10-17T11:30:31.244Z"
   },
   {
    "duration": 6,
    "start_time": "2022-10-17T11:33:19.572Z"
   },
   {
    "duration": 9,
    "start_time": "2022-10-17T11:33:21.100Z"
   },
   {
    "duration": 6,
    "start_time": "2022-10-17T11:39:02.341Z"
   },
   {
    "duration": 7,
    "start_time": "2022-10-17T11:40:12.532Z"
   },
   {
    "duration": 10,
    "start_time": "2022-10-17T11:41:10.946Z"
   },
   {
    "duration": 6,
    "start_time": "2022-10-17T11:41:30.830Z"
   },
   {
    "duration": 7,
    "start_time": "2022-10-17T11:42:16.732Z"
   },
   {
    "duration": 7,
    "start_time": "2022-10-17T11:42:25.902Z"
   },
   {
    "duration": 1262,
    "start_time": "2022-10-17T12:08:57.223Z"
   },
   {
    "duration": 13,
    "start_time": "2022-10-17T12:09:01.658Z"
   },
   {
    "duration": 1036,
    "start_time": "2022-10-17T12:09:09.049Z"
   },
   {
    "duration": 12,
    "start_time": "2022-10-17T12:09:11.845Z"
   },
   {
    "duration": 108,
    "start_time": "2022-10-17T12:52:19.817Z"
   },
   {
    "duration": 3,
    "start_time": "2022-10-17T12:59:14.908Z"
   },
   {
    "duration": 6,
    "start_time": "2022-10-17T13:03:26.478Z"
   },
   {
    "duration": 9,
    "start_time": "2022-10-17T13:03:28.053Z"
   },
   {
    "duration": 52,
    "start_time": "2022-10-17T13:03:30.739Z"
   },
   {
    "duration": 8,
    "start_time": "2022-10-17T13:03:47.931Z"
   },
   {
    "duration": 8,
    "start_time": "2022-10-17T13:03:48.704Z"
   },
   {
    "duration": 47,
    "start_time": "2022-10-17T13:03:51.339Z"
   },
   {
    "duration": 6,
    "start_time": "2022-10-17T13:06:03.469Z"
   },
   {
    "duration": 38,
    "start_time": "2022-10-17T13:06:03.481Z"
   },
   {
    "duration": 11,
    "start_time": "2022-10-17T13:06:03.521Z"
   },
   {
    "duration": 25,
    "start_time": "2022-10-17T13:06:03.534Z"
   },
   {
    "duration": 26,
    "start_time": "2022-10-17T13:06:03.561Z"
   },
   {
    "duration": 17,
    "start_time": "2022-10-17T13:06:03.588Z"
   },
   {
    "duration": 62,
    "start_time": "2022-10-17T13:06:03.607Z"
   },
   {
    "duration": 11,
    "start_time": "2022-10-17T13:06:03.671Z"
   },
   {
    "duration": 1531,
    "start_time": "2022-10-17T13:06:03.684Z"
   },
   {
    "duration": 593,
    "start_time": "2022-10-17T13:06:05.216Z"
   },
   {
    "duration": 1329,
    "start_time": "2022-10-17T13:06:05.810Z"
   },
   {
    "duration": 12,
    "start_time": "2022-10-17T13:06:07.140Z"
   },
   {
    "duration": 13,
    "start_time": "2022-10-17T13:06:07.154Z"
   },
   {
    "duration": 9,
    "start_time": "2022-10-17T13:06:07.169Z"
   },
   {
    "duration": 11,
    "start_time": "2022-10-17T13:06:07.184Z"
   },
   {
    "duration": 96,
    "start_time": "2022-10-17T13:06:07.197Z"
   },
   {
    "duration": 650,
    "start_time": "2022-10-17T13:06:07.294Z"
   },
   {
    "duration": 8,
    "start_time": "2022-10-17T13:06:07.946Z"
   },
   {
    "duration": 103796,
    "start_time": "2022-10-17T13:06:07.956Z"
   },
   {
    "duration": 1135,
    "start_time": "2022-10-17T13:07:51.754Z"
   },
   {
    "duration": 103,
    "start_time": "2022-10-17T13:07:52.890Z"
   },
   {
    "duration": 1335,
    "start_time": "2022-10-17T13:07:52.994Z"
   },
   {
    "duration": 7,
    "start_time": "2022-10-17T13:07:54.331Z"
   },
   {
    "duration": 31,
    "start_time": "2022-10-17T13:07:54.340Z"
   },
   {
    "duration": 1622,
    "start_time": "2022-10-18T09:04:52.251Z"
   },
   {
    "duration": 50,
    "start_time": "2022-10-18T09:04:53.875Z"
   },
   {
    "duration": 18,
    "start_time": "2022-10-18T09:04:53.927Z"
   },
   {
    "duration": 5,
    "start_time": "2022-10-18T09:04:53.947Z"
   },
   {
    "duration": 21,
    "start_time": "2022-10-18T09:04:53.953Z"
   },
   {
    "duration": 19,
    "start_time": "2022-10-18T09:04:53.976Z"
   },
   {
    "duration": 38,
    "start_time": "2022-10-18T09:04:53.997Z"
   },
   {
    "duration": 10,
    "start_time": "2022-10-18T09:04:54.036Z"
   },
   {
    "duration": 1329,
    "start_time": "2022-10-18T09:04:54.048Z"
   },
   {
    "duration": 587,
    "start_time": "2022-10-18T09:04:55.379Z"
   },
   {
    "duration": 1289,
    "start_time": "2022-10-18T09:04:55.967Z"
   },
   {
    "duration": 13,
    "start_time": "2022-10-18T09:04:57.258Z"
   },
   {
    "duration": 14,
    "start_time": "2022-10-18T09:04:57.272Z"
   },
   {
    "duration": 32,
    "start_time": "2022-10-18T09:04:57.287Z"
   },
   {
    "duration": 14,
    "start_time": "2022-10-18T09:04:57.320Z"
   },
   {
    "duration": 75,
    "start_time": "2022-10-18T09:04:57.335Z"
   },
   {
    "duration": 458,
    "start_time": "2022-10-18T09:04:57.412Z"
   },
   {
    "duration": 8,
    "start_time": "2022-10-18T09:04:57.872Z"
   },
   {
    "duration": 13,
    "start_time": "2022-10-18T09:11:45.596Z"
   },
   {
    "duration": 19,
    "start_time": "2022-10-18T09:11:45.610Z"
   },
   {
    "duration": 11,
    "start_time": "2022-10-18T09:11:45.630Z"
   },
   {
    "duration": 6,
    "start_time": "2022-10-18T09:11:45.642Z"
   },
   {
    "duration": 15,
    "start_time": "2022-10-18T09:11:45.649Z"
   },
   {
    "duration": 6,
    "start_time": "2022-10-18T09:11:45.665Z"
   },
   {
    "duration": 55,
    "start_time": "2022-10-18T09:11:45.673Z"
   },
   {
    "duration": 10,
    "start_time": "2022-10-18T09:11:45.730Z"
   },
   {
    "duration": 1196,
    "start_time": "2022-10-18T09:11:45.741Z"
   },
   {
    "duration": 701,
    "start_time": "2022-10-18T09:11:46.939Z"
   },
   {
    "duration": 1286,
    "start_time": "2022-10-18T09:11:47.641Z"
   },
   {
    "duration": 12,
    "start_time": "2022-10-18T09:11:48.929Z"
   },
   {
    "duration": 14,
    "start_time": "2022-10-18T09:11:48.943Z"
   },
   {
    "duration": 21,
    "start_time": "2022-10-18T09:11:48.958Z"
   },
   {
    "duration": 13,
    "start_time": "2022-10-18T09:11:48.981Z"
   },
   {
    "duration": 119,
    "start_time": "2022-10-18T09:11:48.996Z"
   },
   {
    "duration": 452,
    "start_time": "2022-10-18T09:11:49.119Z"
   },
   {
    "duration": 7,
    "start_time": "2022-10-18T09:11:49.573Z"
   },
   {
    "duration": 96636,
    "start_time": "2022-10-18T09:11:49.581Z"
   },
   {
    "duration": 1194,
    "start_time": "2022-10-18T09:13:26.219Z"
   },
   {
    "duration": 13,
    "start_time": "2022-10-18T09:13:27.415Z"
   },
   {
    "duration": 1526,
    "start_time": "2022-10-18T09:13:27.429Z"
   },
   {
    "duration": 7,
    "start_time": "2022-10-18T09:13:28.957Z"
   },
   {
    "duration": 9,
    "start_time": "2022-10-18T09:13:28.966Z"
   },
   {
    "duration": 4,
    "start_time": "2022-10-18T09:17:21.075Z"
   },
   {
    "duration": 25,
    "start_time": "2022-10-18T09:17:21.088Z"
   },
   {
    "duration": 11,
    "start_time": "2022-10-18T09:17:21.137Z"
   },
   {
    "duration": 3,
    "start_time": "2022-10-18T09:17:21.213Z"
   },
   {
    "duration": 21,
    "start_time": "2022-10-18T09:17:21.264Z"
   },
   {
    "duration": 7,
    "start_time": "2022-10-18T09:17:21.318Z"
   },
   {
    "duration": 50,
    "start_time": "2022-10-18T09:17:21.334Z"
   },
   {
    "duration": 10,
    "start_time": "2022-10-18T09:17:21.386Z"
   },
   {
    "duration": 1378,
    "start_time": "2022-10-18T09:17:21.398Z"
   },
   {
    "duration": 622,
    "start_time": "2022-10-18T09:17:22.779Z"
   },
   {
    "duration": 1421,
    "start_time": "2022-10-18T09:17:23.403Z"
   },
   {
    "duration": 12,
    "start_time": "2022-10-18T09:17:24.826Z"
   },
   {
    "duration": 10,
    "start_time": "2022-10-18T09:17:24.840Z"
   },
   {
    "duration": 7,
    "start_time": "2022-10-18T09:17:24.852Z"
   },
   {
    "duration": 9,
    "start_time": "2022-10-18T09:17:24.862Z"
   },
   {
    "duration": 46,
    "start_time": "2022-10-18T09:17:24.873Z"
   },
   {
    "duration": 469,
    "start_time": "2022-10-18T09:17:25.010Z"
   },
   {
    "duration": 8,
    "start_time": "2022-10-18T09:17:25.480Z"
   },
   {
    "duration": 4,
    "start_time": "2022-10-18T09:19:05.229Z"
   },
   {
    "duration": 36,
    "start_time": "2022-10-18T09:19:05.234Z"
   },
   {
    "duration": 12,
    "start_time": "2022-10-18T09:19:05.272Z"
   },
   {
    "duration": 15,
    "start_time": "2022-10-18T09:19:05.286Z"
   },
   {
    "duration": 15,
    "start_time": "2022-10-18T09:19:05.302Z"
   },
   {
    "duration": 7,
    "start_time": "2022-10-18T09:19:05.318Z"
   },
   {
    "duration": 36,
    "start_time": "2022-10-18T09:19:05.327Z"
   },
   {
    "duration": 10,
    "start_time": "2022-10-18T09:19:05.364Z"
   },
   {
    "duration": 1401,
    "start_time": "2022-10-18T09:19:05.376Z"
   },
   {
    "duration": 586,
    "start_time": "2022-10-18T09:19:06.778Z"
   },
   {
    "duration": 1308,
    "start_time": "2022-10-18T09:19:07.365Z"
   },
   {
    "duration": 12,
    "start_time": "2022-10-18T09:19:08.675Z"
   },
   {
    "duration": 21,
    "start_time": "2022-10-18T09:19:08.688Z"
   },
   {
    "duration": 9,
    "start_time": "2022-10-18T09:19:08.710Z"
   },
   {
    "duration": 10,
    "start_time": "2022-10-18T09:19:08.721Z"
   },
   {
    "duration": 189,
    "start_time": "2022-10-18T09:19:08.733Z"
   },
   {
    "duration": 447,
    "start_time": "2022-10-18T09:19:08.924Z"
   },
   {
    "duration": 7,
    "start_time": "2022-10-18T09:19:09.372Z"
   },
   {
    "duration": 95901,
    "start_time": "2022-10-18T09:19:09.381Z"
   },
   {
    "duration": 929,
    "start_time": "2022-10-18T09:20:45.284Z"
   },
   {
    "duration": 95,
    "start_time": "2022-10-18T09:20:46.215Z"
   },
   {
    "duration": 1405,
    "start_time": "2022-10-18T09:20:46.312Z"
   },
   {
    "duration": 8,
    "start_time": "2022-10-18T09:20:47.720Z"
   },
   {
    "duration": 12,
    "start_time": "2022-10-18T09:20:47.730Z"
   },
   {
    "duration": 4,
    "start_time": "2022-10-18T09:28:27.022Z"
   },
   {
    "duration": 18,
    "start_time": "2022-10-18T09:28:27.042Z"
   },
   {
    "duration": 11,
    "start_time": "2022-10-18T09:28:27.094Z"
   },
   {
    "duration": 3,
    "start_time": "2022-10-18T09:28:27.112Z"
   },
   {
    "duration": 11,
    "start_time": "2022-10-18T09:28:27.161Z"
   },
   {
    "duration": 8,
    "start_time": "2022-10-18T09:28:27.173Z"
   },
   {
    "duration": 41,
    "start_time": "2022-10-18T09:28:27.193Z"
   },
   {
    "duration": 12,
    "start_time": "2022-10-18T09:28:27.236Z"
   },
   {
    "duration": 1138,
    "start_time": "2022-10-18T09:28:27.251Z"
   },
   {
    "duration": 863,
    "start_time": "2022-10-18T09:28:28.391Z"
   },
   {
    "duration": 1271,
    "start_time": "2022-10-18T09:28:29.256Z"
   },
   {
    "duration": 4,
    "start_time": "2022-10-18T09:28:30.529Z"
   },
   {
    "duration": 26,
    "start_time": "2022-10-18T09:28:30.534Z"
   },
   {
    "duration": 21,
    "start_time": "2022-10-18T09:28:30.562Z"
   },
   {
    "duration": 128,
    "start_time": "2022-10-18T09:28:30.585Z"
   },
   {
    "duration": 475,
    "start_time": "2022-10-18T09:28:30.715Z"
   },
   {
    "duration": 12,
    "start_time": "2022-10-18T09:28:31.192Z"
   },
   {
    "duration": 29,
    "start_time": "2022-10-18T09:28:31.209Z"
   },
   {
    "duration": 95830,
    "start_time": "2022-10-18T09:28:31.239Z"
   },
   {
    "duration": 1139,
    "start_time": "2022-10-18T09:30:07.070Z"
   },
   {
    "duration": 103,
    "start_time": "2022-10-18T09:30:08.211Z"
   },
   {
    "duration": 1495,
    "start_time": "2022-10-18T09:30:08.316Z"
   },
   {
    "duration": 8,
    "start_time": "2022-10-18T09:30:09.813Z"
   },
   {
    "duration": 44,
    "start_time": "2022-10-18T09:30:09.822Z"
   },
   {
    "duration": 131,
    "start_time": "2022-10-18T09:33:11.051Z"
   },
   {
    "duration": 4,
    "start_time": "2022-10-18T09:33:21.782Z"
   },
   {
    "duration": 27,
    "start_time": "2022-10-18T09:33:21.791Z"
   },
   {
    "duration": 13,
    "start_time": "2022-10-18T09:33:21.821Z"
   },
   {
    "duration": 5,
    "start_time": "2022-10-18T09:33:21.836Z"
   },
   {
    "duration": 15,
    "start_time": "2022-10-18T09:33:21.843Z"
   },
   {
    "duration": 8,
    "start_time": "2022-10-18T09:33:21.860Z"
   },
   {
    "duration": 62,
    "start_time": "2022-10-18T09:33:21.870Z"
   },
   {
    "duration": 11,
    "start_time": "2022-10-18T09:33:21.934Z"
   },
   {
    "duration": 1219,
    "start_time": "2022-10-18T09:33:21.948Z"
   },
   {
    "duration": 711,
    "start_time": "2022-10-18T09:33:23.169Z"
   },
   {
    "duration": 1373,
    "start_time": "2022-10-18T09:33:23.882Z"
   },
   {
    "duration": 6,
    "start_time": "2022-10-18T09:33:25.257Z"
   },
   {
    "duration": 7,
    "start_time": "2022-10-18T09:33:25.265Z"
   },
   {
    "duration": 13,
    "start_time": "2022-10-18T09:33:25.275Z"
   },
   {
    "duration": 319,
    "start_time": "2022-10-18T09:33:25.291Z"
   },
   {
    "duration": 480,
    "start_time": "2022-10-18T09:33:25.612Z"
   },
   {
    "duration": 26,
    "start_time": "2022-10-18T09:33:26.093Z"
   },
   {
    "duration": 9,
    "start_time": "2022-10-18T09:33:26.121Z"
   },
   {
    "duration": 100985,
    "start_time": "2022-10-18T09:33:26.132Z"
   },
   {
    "duration": 905,
    "start_time": "2022-10-18T09:35:07.118Z"
   },
   {
    "duration": 92,
    "start_time": "2022-10-18T09:35:08.028Z"
   },
   {
    "duration": 1590,
    "start_time": "2022-10-18T09:35:08.121Z"
   },
   {
    "duration": 9,
    "start_time": "2022-10-18T09:35:09.714Z"
   },
   {
    "duration": 21,
    "start_time": "2022-10-18T09:35:09.725Z"
   },
   {
    "duration": 5,
    "start_time": "2022-10-18T09:35:12.872Z"
   },
   {
    "duration": 25,
    "start_time": "2022-10-18T09:35:12.880Z"
   },
   {
    "duration": 17,
    "start_time": "2022-10-18T09:35:12.908Z"
   },
   {
    "duration": 5,
    "start_time": "2022-10-18T09:35:12.928Z"
   },
   {
    "duration": 21,
    "start_time": "2022-10-18T09:35:12.935Z"
   },
   {
    "duration": 11,
    "start_time": "2022-10-18T09:35:12.958Z"
   },
   {
    "duration": 74,
    "start_time": "2022-10-18T09:35:12.971Z"
   },
   {
    "duration": 13,
    "start_time": "2022-10-18T09:35:13.047Z"
   },
   {
    "duration": 1491,
    "start_time": "2022-10-18T09:35:13.062Z"
   },
   {
    "duration": 686,
    "start_time": "2022-10-18T09:35:14.557Z"
   },
   {
    "duration": 1399,
    "start_time": "2022-10-18T09:35:15.245Z"
   },
   {
    "duration": 5,
    "start_time": "2022-10-18T09:35:16.647Z"
   },
   {
    "duration": 12,
    "start_time": "2022-10-18T09:35:16.654Z"
   },
   {
    "duration": 11,
    "start_time": "2022-10-18T09:35:16.668Z"
   },
   {
    "duration": 47,
    "start_time": "2022-10-18T09:35:16.681Z"
   },
   {
    "duration": 635,
    "start_time": "2022-10-18T09:35:16.812Z"
   },
   {
    "duration": 19,
    "start_time": "2022-10-18T09:35:17.449Z"
   },
   {
    "duration": 24,
    "start_time": "2022-10-18T09:35:17.470Z"
   },
   {
    "duration": 20,
    "start_time": "2022-10-18T09:35:17.496Z"
   },
   {
    "duration": 5,
    "start_time": "2022-10-18T09:36:58.861Z"
   },
   {
    "duration": 21,
    "start_time": "2022-10-18T09:36:58.867Z"
   },
   {
    "duration": 22,
    "start_time": "2022-10-18T09:36:58.889Z"
   },
   {
    "duration": 7,
    "start_time": "2022-10-18T09:36:58.913Z"
   },
   {
    "duration": 15,
    "start_time": "2022-10-18T09:36:58.922Z"
   },
   {
    "duration": 10,
    "start_time": "2022-10-18T09:36:58.938Z"
   },
   {
    "duration": 39,
    "start_time": "2022-10-18T09:36:58.949Z"
   },
   {
    "duration": 31,
    "start_time": "2022-10-18T09:36:58.989Z"
   },
   {
    "duration": 1393,
    "start_time": "2022-10-18T09:36:59.022Z"
   },
   {
    "duration": 608,
    "start_time": "2022-10-18T09:37:00.417Z"
   },
   {
    "duration": 1314,
    "start_time": "2022-10-18T09:37:01.026Z"
   },
   {
    "duration": 5,
    "start_time": "2022-10-18T09:37:02.342Z"
   },
   {
    "duration": 22,
    "start_time": "2022-10-18T09:37:02.349Z"
   },
   {
    "duration": 39,
    "start_time": "2022-10-18T09:37:02.372Z"
   },
   {
    "duration": 98,
    "start_time": "2022-10-18T09:37:02.412Z"
   },
   {
    "duration": 484,
    "start_time": "2022-10-18T09:37:02.512Z"
   },
   {
    "duration": 14,
    "start_time": "2022-10-18T09:37:02.998Z"
   },
   {
    "duration": 570,
    "start_time": "2022-10-18T09:37:03.013Z"
   },
   {
    "duration": 8,
    "start_time": "2022-10-18T09:37:03.585Z"
   },
   {
    "duration": 98532,
    "start_time": "2022-10-18T09:37:03.594Z"
   },
   {
    "duration": 691,
    "start_time": "2022-10-18T09:38:42.128Z"
   },
   {
    "duration": 105,
    "start_time": "2022-10-18T09:38:42.821Z"
   },
   {
    "duration": 1388,
    "start_time": "2022-10-18T09:38:42.928Z"
   },
   {
    "duration": 9,
    "start_time": "2022-10-18T09:38:44.318Z"
   },
   {
    "duration": 30,
    "start_time": "2022-10-18T09:38:44.329Z"
   },
   {
    "duration": 5,
    "start_time": "2022-10-18T09:39:49.135Z"
   },
   {
    "duration": 19,
    "start_time": "2022-10-18T09:39:49.148Z"
   },
   {
    "duration": 11,
    "start_time": "2022-10-18T09:39:49.169Z"
   },
   {
    "duration": 6,
    "start_time": "2022-10-18T09:39:49.181Z"
   },
   {
    "duration": 12,
    "start_time": "2022-10-18T09:39:49.188Z"
   },
   {
    "duration": 7,
    "start_time": "2022-10-18T09:39:49.202Z"
   },
   {
    "duration": 38,
    "start_time": "2022-10-18T09:39:49.211Z"
   },
   {
    "duration": 13,
    "start_time": "2022-10-18T09:39:49.252Z"
   },
   {
    "duration": 1252,
    "start_time": "2022-10-18T09:39:49.267Z"
   },
   {
    "duration": 911,
    "start_time": "2022-10-18T09:39:50.521Z"
   },
   {
    "duration": 1260,
    "start_time": "2022-10-18T09:39:51.433Z"
   },
   {
    "duration": 17,
    "start_time": "2022-10-18T09:39:52.695Z"
   },
   {
    "duration": 9,
    "start_time": "2022-10-18T09:39:52.713Z"
   },
   {
    "duration": 7,
    "start_time": "2022-10-18T09:39:52.725Z"
   },
   {
    "duration": 10,
    "start_time": "2022-10-18T09:39:52.734Z"
   },
   {
    "duration": 71,
    "start_time": "2022-10-18T09:39:52.745Z"
   },
   {
    "duration": 601,
    "start_time": "2022-10-18T09:39:52.818Z"
   },
   {
    "duration": 9,
    "start_time": "2022-10-18T09:39:53.421Z"
   },
   {
    "duration": 99420,
    "start_time": "2022-10-18T09:39:53.432Z"
   },
   {
    "duration": 859,
    "start_time": "2022-10-18T09:41:32.854Z"
   },
   {
    "duration": 98,
    "start_time": "2022-10-18T09:41:33.715Z"
   },
   {
    "duration": 1739,
    "start_time": "2022-10-18T09:41:33.814Z"
   },
   {
    "duration": 7,
    "start_time": "2022-10-18T09:41:35.554Z"
   },
   {
    "duration": 15,
    "start_time": "2022-10-18T09:41:35.563Z"
   },
   {
    "duration": 8028,
    "start_time": "2022-10-18T09:50:55.628Z"
   },
   {
    "duration": 56,
    "start_time": "2022-10-18T09:51:25.240Z"
   },
   {
    "duration": 73,
    "start_time": "2022-10-18T09:51:36.075Z"
   },
   {
    "duration": 43,
    "start_time": "2022-10-18T09:51:54.748Z"
   },
   {
    "duration": 847,
    "start_time": "2022-10-18T09:52:05.191Z"
   },
   {
    "duration": 811,
    "start_time": "2022-10-18T09:54:14.323Z"
   },
   {
    "duration": 665,
    "start_time": "2022-10-18T09:54:43.061Z"
   },
   {
    "duration": 1134,
    "start_time": "2022-10-18T10:08:20.134Z"
   },
   {
    "duration": 1209,
    "start_time": "2022-10-18T10:09:41.583Z"
   },
   {
    "duration": 1158,
    "start_time": "2022-10-18T10:11:37.532Z"
   },
   {
    "duration": 2180,
    "start_time": "2022-10-18T10:12:06.866Z"
   },
   {
    "duration": 1503,
    "start_time": "2022-10-18T10:19:51.348Z"
   },
   {
    "duration": 1332,
    "start_time": "2022-10-18T10:20:21.698Z"
   },
   {
    "duration": 1399,
    "start_time": "2022-10-18T10:20:35.042Z"
   },
   {
    "duration": 122,
    "start_time": "2022-10-18T10:22:05.282Z"
   },
   {
    "duration": 4,
    "start_time": "2022-10-18T10:22:20.488Z"
   },
   {
    "duration": 42,
    "start_time": "2022-10-18T10:22:20.497Z"
   },
   {
    "duration": 13,
    "start_time": "2022-10-18T10:22:20.541Z"
   },
   {
    "duration": 18,
    "start_time": "2022-10-18T10:22:20.556Z"
   },
   {
    "duration": 26,
    "start_time": "2022-10-18T10:22:20.576Z"
   },
   {
    "duration": 9,
    "start_time": "2022-10-18T10:22:20.604Z"
   },
   {
    "duration": 49,
    "start_time": "2022-10-18T10:22:20.615Z"
   },
   {
    "duration": 11,
    "start_time": "2022-10-18T10:22:20.665Z"
   },
   {
    "duration": 1295,
    "start_time": "2022-10-18T10:22:20.678Z"
   },
   {
    "duration": 592,
    "start_time": "2022-10-18T10:22:21.974Z"
   },
   {
    "duration": 1334,
    "start_time": "2022-10-18T10:22:22.568Z"
   },
   {
    "duration": 13,
    "start_time": "2022-10-18T10:22:23.909Z"
   },
   {
    "duration": 12,
    "start_time": "2022-10-18T10:22:23.924Z"
   },
   {
    "duration": 11,
    "start_time": "2022-10-18T10:22:23.937Z"
   },
   {
    "duration": 25,
    "start_time": "2022-10-18T10:22:23.950Z"
   },
   {
    "duration": 44,
    "start_time": "2022-10-18T10:22:23.977Z"
   },
   {
    "duration": 502,
    "start_time": "2022-10-18T10:22:24.111Z"
   },
   {
    "duration": 10,
    "start_time": "2022-10-18T10:22:24.616Z"
   },
   {
    "duration": 95582,
    "start_time": "2022-10-18T10:22:24.628Z"
   },
   {
    "duration": 1198,
    "start_time": "2022-10-18T10:24:00.211Z"
   },
   {
    "duration": 12,
    "start_time": "2022-10-18T10:24:01.411Z"
   },
   {
    "duration": 0,
    "start_time": "2022-10-18T10:24:01.563Z"
   },
   {
    "duration": 0,
    "start_time": "2022-10-18T10:24:01.564Z"
   },
   {
    "duration": 0,
    "start_time": "2022-10-18T10:24:01.565Z"
   },
   {
    "duration": 116,
    "start_time": "2022-10-18T10:24:03.340Z"
   },
   {
    "duration": 1503,
    "start_time": "2022-10-18T10:24:25.663Z"
   },
   {
    "duration": 4,
    "start_time": "2022-10-18T10:44:15.199Z"
   },
   {
    "duration": 19,
    "start_time": "2022-10-18T10:44:15.211Z"
   },
   {
    "duration": 10,
    "start_time": "2022-10-18T10:44:15.231Z"
   },
   {
    "duration": 6,
    "start_time": "2022-10-18T10:44:15.243Z"
   },
   {
    "duration": 16,
    "start_time": "2022-10-18T10:44:15.251Z"
   },
   {
    "duration": 6,
    "start_time": "2022-10-18T10:44:15.269Z"
   },
   {
    "duration": 43,
    "start_time": "2022-10-18T10:44:15.279Z"
   },
   {
    "duration": 10,
    "start_time": "2022-10-18T10:44:15.323Z"
   },
   {
    "duration": 1150,
    "start_time": "2022-10-18T10:44:15.335Z"
   },
   {
    "duration": 685,
    "start_time": "2022-10-18T10:44:16.487Z"
   },
   {
    "duration": 1323,
    "start_time": "2022-10-18T10:44:17.173Z"
   },
   {
    "duration": 22,
    "start_time": "2022-10-18T10:44:18.497Z"
   },
   {
    "duration": 7,
    "start_time": "2022-10-18T10:44:18.520Z"
   },
   {
    "duration": 16,
    "start_time": "2022-10-18T10:44:18.529Z"
   },
   {
    "duration": 10,
    "start_time": "2022-10-18T10:44:18.546Z"
   },
   {
    "duration": 59,
    "start_time": "2022-10-18T10:44:18.558Z"
   },
   {
    "duration": 443,
    "start_time": "2022-10-18T10:44:18.709Z"
   },
   {
    "duration": 6,
    "start_time": "2022-10-18T10:44:19.154Z"
   },
   {
    "duration": 95096,
    "start_time": "2022-10-18T10:44:19.162Z"
   },
   {
    "duration": 1149,
    "start_time": "2022-10-18T10:45:54.260Z"
   },
   {
    "duration": 14,
    "start_time": "2022-10-18T10:45:55.411Z"
   },
   {
    "duration": 1312,
    "start_time": "2022-10-18T10:45:55.427Z"
   },
   {
    "duration": 6,
    "start_time": "2022-10-18T10:45:56.741Z"
   },
   {
    "duration": 10,
    "start_time": "2022-10-18T10:45:56.749Z"
   },
   {
    "duration": 4,
    "start_time": "2022-10-18T10:55:49.819Z"
   },
   {
    "duration": 22,
    "start_time": "2022-10-18T10:55:49.826Z"
   },
   {
    "duration": 11,
    "start_time": "2022-10-18T10:55:49.850Z"
   },
   {
    "duration": 9,
    "start_time": "2022-10-18T10:55:49.863Z"
   },
   {
    "duration": 26,
    "start_time": "2022-10-18T10:55:49.873Z"
   },
   {
    "duration": 8,
    "start_time": "2022-10-18T10:55:49.900Z"
   },
   {
    "duration": 39,
    "start_time": "2022-10-18T10:55:49.910Z"
   },
   {
    "duration": 12,
    "start_time": "2022-10-18T10:55:49.951Z"
   },
   {
    "duration": 1511,
    "start_time": "2022-10-18T10:55:49.964Z"
   },
   {
    "duration": 589,
    "start_time": "2022-10-18T10:55:51.477Z"
   },
   {
    "duration": 1302,
    "start_time": "2022-10-18T10:55:52.068Z"
   },
   {
    "duration": 16,
    "start_time": "2022-10-18T10:55:53.372Z"
   },
   {
    "duration": 29,
    "start_time": "2022-10-18T10:55:53.389Z"
   },
   {
    "duration": 20,
    "start_time": "2022-10-18T10:55:53.419Z"
   },
   {
    "duration": 29,
    "start_time": "2022-10-18T10:55:53.440Z"
   },
   {
    "duration": 44,
    "start_time": "2022-10-18T10:55:53.471Z"
   },
   {
    "duration": 556,
    "start_time": "2022-10-18T10:55:53.517Z"
   },
   {
    "duration": 8,
    "start_time": "2022-10-18T10:55:54.076Z"
   },
   {
    "duration": 98320,
    "start_time": "2022-10-18T10:55:54.085Z"
   },
   {
    "duration": 1405,
    "start_time": "2022-10-18T10:57:32.408Z"
   },
   {
    "duration": 100,
    "start_time": "2022-10-18T10:57:33.815Z"
   },
   {
    "duration": 1450,
    "start_time": "2022-10-18T10:57:33.917Z"
   },
   {
    "duration": 7,
    "start_time": "2022-10-18T10:57:35.368Z"
   },
   {
    "duration": 11,
    "start_time": "2022-10-18T10:57:35.376Z"
   }
  ],
  "kernelspec": {
   "display_name": "Python 3 (ipykernel)",
   "language": "python",
   "name": "python3"
  },
  "language_info": {
   "codemirror_mode": {
    "name": "ipython",
    "version": 3
   },
   "file_extension": ".py",
   "mimetype": "text/x-python",
   "name": "python",
   "nbconvert_exporter": "python",
   "pygments_lexer": "ipython3",
   "version": "3.9.5"
  },
  "toc": {
   "base_numbering": 1,
   "nav_menu": {},
   "number_sections": true,
   "sideBar": true,
   "skip_h1_title": true,
   "title_cell": "Table of Contents",
   "title_sidebar": "Contents",
   "toc_cell": false,
   "toc_position": {},
   "toc_section_display": true,
   "toc_window_display": false
  }
 },
 "nbformat": 4,
 "nbformat_minor": 2
}
