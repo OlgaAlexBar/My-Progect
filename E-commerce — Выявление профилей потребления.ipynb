{
 "cells": [
  {
   "cell_type": "markdown",
   "metadata": {},
   "source": [
    "# E-commerce — Выявление профилей потребления"
   ]
  },
  {
   "cell_type": "markdown",
   "metadata": {},
   "source": [
    "**Задача: Сегментировать покупателей по профилю потребления**"
   ]
  },
  {
   "cell_type": "markdown",
   "metadata": {},
   "source": [
    "**Описание данных:**\n",
    "\n",
    "Датасет описывает транзакции интернет-магазина товаров для дома и быта «Пока все ещё тут».\n",
    "\n",
    "Колонки в  *ecommerce_dataset.csv* :\n",
    "\n",
    "- `date` — дата заказа;\n",
    "- `customer_id` — идентификатор покупателя;\n",
    "- `order_id` — идентификатор заказа;\n",
    "- `product` — наименование товара;\n",
    "- `quantity` — количество товара в заказе;\n",
    "- `price` — цена товара."
   ]
  },
  {
   "cell_type": "markdown",
   "metadata": {},
   "source": [
    "# Материалы:презентация\n",
    "https://drive.google.com/file/d/1Fb9deFH27nvNn4HeNuYsH0nIOsf94Sn4/view?usp=sharing"
   ]
  },
  {
   "cell_type": "markdown",
   "metadata": {
    "toc": true
   },
   "source": [
    "<h1>Содержание<span class=\"tocSkip\"></span></h1>\n",
    "<div class=\"toc\"><ul class=\"toc-item\"><li><span><a href=\"#Загрузка-файла-с-данными-и-изучение-общей-информации\" data-toc-modified-id=\"Загрузка-файла-с-данными-и-изучение-общей-информации-1\"><span class=\"toc-item-num\">1&nbsp;&nbsp;</span>Загрузка файла с данными и изучение общей информации</a></span></li><li><span><a href=\"#Предобработка-данных\" data-toc-modified-id=\"Предобработка-данных-2\"><span class=\"toc-item-num\">2&nbsp;&nbsp;</span>Предобработка данных</a></span><ul class=\"toc-item\"><li><span><a href=\"#Обработка-строковых-данных\" data-toc-modified-id=\"Обработка-строковых-данных-2.1\"><span class=\"toc-item-num\">2.1&nbsp;&nbsp;</span>Обработка строковых данных</a></span></li><li><span><a href=\"#Замена-типа-данных\" data-toc-modified-id=\"Замена-типа-данных-2.2\"><span class=\"toc-item-num\">2.2&nbsp;&nbsp;</span>Замена типа данных</a></span></li><li><span><a href=\"#Проверка-на-пропуски.Заполнение-или-удаление-пропусков-(если-необходимо)\" data-toc-modified-id=\"Проверка-на-пропуски.Заполнение-или-удаление-пропусков-(если-необходимо)-2.3\"><span class=\"toc-item-num\">2.3&nbsp;&nbsp;</span>Проверка на пропуски.Заполнение или удаление пропусков (если необходимо)</a></span></li><li><span><a href=\"#Проверка-дубликатов.Удаление-дубликатов\" data-toc-modified-id=\"Проверка-дубликатов.Удаление-дубликатов-2.4\"><span class=\"toc-item-num\">2.4&nbsp;&nbsp;</span>Проверка дубликатов.Удаление дубликатов</a></span></li><li><span><a href=\"#Добавление-нужных-столбцов.\" data-toc-modified-id=\"Добавление-нужных-столбцов.-2.5\"><span class=\"toc-item-num\">2.5&nbsp;&nbsp;</span>Добавление нужных столбцов.</a></span></li><li><span><a href=\"#Выводы:\" data-toc-modified-id=\"Выводы:-2.6\"><span class=\"toc-item-num\">2.6&nbsp;&nbsp;</span>Выводы:</a></span></li></ul></li><li><span><a href=\"#Исследовательский-анализ-данных\" data-toc-modified-id=\"Исследовательский-анализ-данных-3\"><span class=\"toc-item-num\">3&nbsp;&nbsp;</span>Исследовательский анализ данных</a></span><ul class=\"toc-item\"><li><span><a href=\"#Изучение-покупок\" data-toc-modified-id=\"Изучение-покупок-3.1\"><span class=\"toc-item-num\">3.1&nbsp;&nbsp;</span>Изучение покупок</a></span></li><li><span><a href=\"#Категоризация-наименования-товара\" data-toc-modified-id=\"Категоризация-наименования-товара-3.2\"><span class=\"toc-item-num\">3.2&nbsp;&nbsp;</span>Категоризация наименования товара</a></span></li><li><span><a href=\"#Анализ-товарного-ассортимента\" data-toc-modified-id=\"Анализ-товарного-ассортимента-3.3\"><span class=\"toc-item-num\">3.3&nbsp;&nbsp;</span>Анализ товарного ассортимента</a></span></li><li><span><a href=\"#Выводы:\" data-toc-modified-id=\"Выводы:-3.4\"><span class=\"toc-item-num\">3.4&nbsp;&nbsp;</span>Выводы:</a></span></li></ul></li><li><span><a href=\"#Сегментация-покупателей-на-основе-данных-о-покупках\" data-toc-modified-id=\"Сегментация-покупателей-на-основе-данных-о-покупках-4\"><span class=\"toc-item-num\">4&nbsp;&nbsp;</span>Сегментация покупателей на основе данных о покупках</a></span><ul class=\"toc-item\"><li><span><a href=\"#Построим-матрицу-расстояний-функцией-linkage()-на-стандартизованной-матрице-признаков-и-нарисуем-дендрограмму.\" data-toc-modified-id=\"Построим-матрицу-расстояний-функцией-linkage()-на-стандартизованной-матрице-признаков-и-нарисуем-дендрограмму.-4.1\"><span class=\"toc-item-num\">4.1&nbsp;&nbsp;</span>Построим матрицу расстояний функцией linkage() на стандартизованной матрице признаков и нарисуем дендрограмму.</a></span></li><li><span><a href=\"#Обучим-модель-кластеризации-на-основании-алгоритма-K-Means-и-спрогнозируем-сегменты-покупателей.\" data-toc-modified-id=\"Обучим-модель-кластеризации-на-основании-алгоритма-K-Means-и-спрогнозируем-сегменты-покупателей.-4.2\"><span class=\"toc-item-num\">4.2&nbsp;&nbsp;</span>Обучим модель кластеризации на основании алгоритма K-Means и спрогнозируем сегменты покупателей.</a></span></li><li><span><a href=\"#Посмотрим-на-статистику-по-сегментам-покупателей.\" data-toc-modified-id=\"Посмотрим-на-статистику-по-сегментам-покупателей.-4.3\"><span class=\"toc-item-num\">4.3&nbsp;&nbsp;</span>Посмотрим на статистику по сегментам покупателей.</a></span></li><li><span><a href=\"#Выводы:\" data-toc-modified-id=\"Выводы:-4.4\"><span class=\"toc-item-num\">4.4&nbsp;&nbsp;</span>Выводы:</a></span></li></ul></li><li><span><a href=\"#Проверка-статистических-гипотез\" data-toc-modified-id=\"Проверка-статистических-гипотез-5\"><span class=\"toc-item-num\">5&nbsp;&nbsp;</span>Проверка статистических гипотез</a></span><ul class=\"toc-item\"><li><span><a href=\"#Гипотеза-№1-:С-помощью-теста-Уилкоксона-Манна-Уитни-подсчитаем-статистическую-значимость-различий-в-средней-выручке-между-группами.\" data-toc-modified-id=\"Гипотеза-№1-:С-помощью-теста-Уилкоксона-Манна-Уитни-подсчитаем-статистическую-значимость-различий-в-средней-выручке-между-группами.-5.1\"><span class=\"toc-item-num\">5.1&nbsp;&nbsp;</span>Гипотеза №1 :С помощью теста Уилкоксона-Манна-Уитни подсчитаем статистическую значимость различий в средней выручке между группами.</a></span></li><li><span><a href=\"#Гипотеза-№2-:-Количество-проданного-товара-в-выходные-и-будни-дни\" data-toc-modified-id=\"Гипотеза-№2-:-Количество-проданного-товара-в-выходные-и-будни-дни-5.2\"><span class=\"toc-item-num\">5.2&nbsp;&nbsp;</span>Гипотеза №2 : Количество проданного товара в выходные и будни дни</a></span></li></ul></li><li><span><a href=\"#Выводы\" data-toc-modified-id=\"Выводы-6\"><span class=\"toc-item-num\">6&nbsp;&nbsp;</span>Выводы</a></span></li><li><span><a href=\"#Подготовка-дашборда/презентации.\" data-toc-modified-id=\"Подготовка-дашборда/презентации.-7\"><span class=\"toc-item-num\">7&nbsp;&nbsp;</span>Подготовка дашборда/презентации.</a></span></li></ul></div>"
   ]
  },
  {
   "cell_type": "markdown",
   "metadata": {},
   "source": [
    "## Загрузка файла с данными и изучение общей информации"
   ]
  },
  {
   "cell_type": "code",
   "execution_count": 64,
   "metadata": {},
   "outputs": [],
   "source": [
    "import pandas as pd\n",
    "import numpy as np\n",
    "from scipy import stats as st\n",
    "import math as mth\n",
    "from pymystem3 import Mystem\n",
    "m = Mystem()\n",
    "from collections import Counter\n",
    "import matplotlib.pyplot as plt\n",
    "import seaborn as sns\n",
    "import datetime as dt\n",
    "import plotly.graph_objects as go\n",
    "from sklearn.preprocessing import StandardScaler\n",
    "from sklearn.model_selection import train_test_split\n",
    "from sklearn.cluster import KMeans\n",
    "from scipy.cluster.hierarchy import dendrogram, linkage \n",
    "import scipy.stats as stats"
   ]
  },
  {
   "cell_type": "code",
   "execution_count": 65,
   "metadata": {},
   "outputs": [],
   "source": [
    "try:\n",
    "    df = pd.read_csv('/datasets/ecommerce_dataset.csv')\n",
    "except:\n",
    "    df = pd.read_csv('ecommerce_dataset.csv')"
   ]
  },
  {
   "cell_type": "code",
   "execution_count": 66,
   "metadata": {},
   "outputs": [
    {
     "name": "stdout",
     "output_type": "stream",
     "text": [
      "<class 'pandas.core.frame.DataFrame'>\n",
      "RangeIndex: 6737 entries, 0 to 6736\n",
      "Data columns (total 6 columns):\n",
      " #   Column       Non-Null Count  Dtype  \n",
      "---  ------       --------------  -----  \n",
      " 0   date         6737 non-null   int64  \n",
      " 1   customer_id  6737 non-null   object \n",
      " 2   order_id     6737 non-null   int64  \n",
      " 3   product      6737 non-null   object \n",
      " 4   quantity     6737 non-null   int64  \n",
      " 5   price        6737 non-null   float64\n",
      "dtypes: float64(1), int64(3), object(2)\n",
      "memory usage: 315.9+ KB\n"
     ]
    }
   ],
   "source": [
    "df.info()"
   ]
  },
  {
   "cell_type": "code",
   "execution_count": 67,
   "metadata": {
    "scrolled": true
   },
   "outputs": [
    {
     "data": {
      "text/html": [
       "<div>\n",
       "<style scoped>\n",
       "    .dataframe tbody tr th:only-of-type {\n",
       "        vertical-align: middle;\n",
       "    }\n",
       "\n",
       "    .dataframe tbody tr th {\n",
       "        vertical-align: top;\n",
       "    }\n",
       "\n",
       "    .dataframe thead th {\n",
       "        text-align: right;\n",
       "    }\n",
       "</style>\n",
       "<table border=\"1\" class=\"dataframe\">\n",
       "  <thead>\n",
       "    <tr style=\"text-align: right;\">\n",
       "      <th></th>\n",
       "      <th>date</th>\n",
       "      <th>customer_id</th>\n",
       "      <th>order_id</th>\n",
       "      <th>product</th>\n",
       "      <th>quantity</th>\n",
       "      <th>price</th>\n",
       "    </tr>\n",
       "  </thead>\n",
       "  <tbody>\n",
       "    <tr>\n",
       "      <th>0</th>\n",
       "      <td>2018100100</td>\n",
       "      <td>ee47d746-6d2f-4d3c-9622-c31412542920</td>\n",
       "      <td>68477</td>\n",
       "      <td>Комнатное растение в горшке Алое Вера, d12, h30</td>\n",
       "      <td>1</td>\n",
       "      <td>142.0</td>\n",
       "    </tr>\n",
       "    <tr>\n",
       "      <th>1</th>\n",
       "      <td>2018100100</td>\n",
       "      <td>ee47d746-6d2f-4d3c-9622-c31412542920</td>\n",
       "      <td>68477</td>\n",
       "      <td>Комнатное растение в горшке Кофе Арабика, d12,...</td>\n",
       "      <td>1</td>\n",
       "      <td>194.0</td>\n",
       "    </tr>\n",
       "    <tr>\n",
       "      <th>2</th>\n",
       "      <td>2018100100</td>\n",
       "      <td>ee47d746-6d2f-4d3c-9622-c31412542920</td>\n",
       "      <td>68477</td>\n",
       "      <td>Радермахера d-12 см h-20 см</td>\n",
       "      <td>1</td>\n",
       "      <td>112.0</td>\n",
       "    </tr>\n",
       "    <tr>\n",
       "      <th>3</th>\n",
       "      <td>2018100100</td>\n",
       "      <td>ee47d746-6d2f-4d3c-9622-c31412542920</td>\n",
       "      <td>68477</td>\n",
       "      <td>Хризолидокарпус Лутесценс d-9 см</td>\n",
       "      <td>1</td>\n",
       "      <td>179.0</td>\n",
       "    </tr>\n",
       "    <tr>\n",
       "      <th>4</th>\n",
       "      <td>2018100100</td>\n",
       "      <td>ee47d746-6d2f-4d3c-9622-c31412542920</td>\n",
       "      <td>68477</td>\n",
       "      <td>Циперус Зумула d-12 см h-25 см</td>\n",
       "      <td>1</td>\n",
       "      <td>112.0</td>\n",
       "    </tr>\n",
       "  </tbody>\n",
       "</table>\n",
       "</div>"
      ],
      "text/plain": [
       "         date                           customer_id  order_id  \\\n",
       "0  2018100100  ee47d746-6d2f-4d3c-9622-c31412542920     68477   \n",
       "1  2018100100  ee47d746-6d2f-4d3c-9622-c31412542920     68477   \n",
       "2  2018100100  ee47d746-6d2f-4d3c-9622-c31412542920     68477   \n",
       "3  2018100100  ee47d746-6d2f-4d3c-9622-c31412542920     68477   \n",
       "4  2018100100  ee47d746-6d2f-4d3c-9622-c31412542920     68477   \n",
       "\n",
       "                                             product  quantity  price  \n",
       "0    Комнатное растение в горшке Алое Вера, d12, h30         1  142.0  \n",
       "1  Комнатное растение в горшке Кофе Арабика, d12,...         1  194.0  \n",
       "2                        Радермахера d-12 см h-20 см         1  112.0  \n",
       "3                   Хризолидокарпус Лутесценс d-9 см         1  179.0  \n",
       "4                     Циперус Зумула d-12 см h-25 см         1  112.0  "
      ]
     },
     "execution_count": 67,
     "metadata": {},
     "output_type": "execute_result"
    }
   ],
   "source": [
    "df.head()"
   ]
  },
  {
   "cell_type": "code",
   "execution_count": 68,
   "metadata": {
    "scrolled": true
   },
   "outputs": [
    {
     "data": {
      "text/plain": [
       "customer_id    2451\n",
       "product        2343\n",
       "dtype: int64"
      ]
     },
     "execution_count": 68,
     "metadata": {},
     "output_type": "execute_result"
    }
   ],
   "source": [
    "df[['customer_id', 'product']].nunique()"
   ]
  },
  {
   "cell_type": "markdown",
   "metadata": {},
   "source": [
    "Всего в базе 2451 уникальных пользователя и 2343 уникальных наименования товаров. "
   ]
  },
  {
   "cell_type": "markdown",
   "metadata": {},
   "source": [
    "## Предобработка данных"
   ]
  },
  {
   "cell_type": "markdown",
   "metadata": {},
   "source": [
    "### Обработка строковых данных"
   ]
  },
  {
   "cell_type": "code",
   "execution_count": 69,
   "metadata": {},
   "outputs": [],
   "source": [
    "#Приведем данные в столбце product к нижнему регистру.\n",
    "df['product'] = df['product'].str.lower()"
   ]
  },
  {
   "cell_type": "markdown",
   "metadata": {},
   "source": [
    "### Замена типа данных"
   ]
  },
  {
   "cell_type": "code",
   "execution_count": 70,
   "metadata": {},
   "outputs": [
    {
     "data": {
      "text/html": [
       "<div>\n",
       "<style scoped>\n",
       "    .dataframe tbody tr th:only-of-type {\n",
       "        vertical-align: middle;\n",
       "    }\n",
       "\n",
       "    .dataframe tbody tr th {\n",
       "        vertical-align: top;\n",
       "    }\n",
       "\n",
       "    .dataframe thead th {\n",
       "        text-align: right;\n",
       "    }\n",
       "</style>\n",
       "<table border=\"1\" class=\"dataframe\">\n",
       "  <thead>\n",
       "    <tr style=\"text-align: right;\">\n",
       "      <th></th>\n",
       "      <th>date</th>\n",
       "      <th>customer_id</th>\n",
       "      <th>order_id</th>\n",
       "      <th>product</th>\n",
       "      <th>quantity</th>\n",
       "      <th>price</th>\n",
       "    </tr>\n",
       "  </thead>\n",
       "  <tbody>\n",
       "    <tr>\n",
       "      <th>0</th>\n",
       "      <td>2018-10-01</td>\n",
       "      <td>ee47d746-6d2f-4d3c-9622-c31412542920</td>\n",
       "      <td>68477</td>\n",
       "      <td>комнатное растение в горшке алое вера, d12, h30</td>\n",
       "      <td>1</td>\n",
       "      <td>142.0</td>\n",
       "    </tr>\n",
       "    <tr>\n",
       "      <th>1</th>\n",
       "      <td>2018-10-01</td>\n",
       "      <td>ee47d746-6d2f-4d3c-9622-c31412542920</td>\n",
       "      <td>68477</td>\n",
       "      <td>комнатное растение в горшке кофе арабика, d12,...</td>\n",
       "      <td>1</td>\n",
       "      <td>194.0</td>\n",
       "    </tr>\n",
       "    <tr>\n",
       "      <th>2</th>\n",
       "      <td>2018-10-01</td>\n",
       "      <td>ee47d746-6d2f-4d3c-9622-c31412542920</td>\n",
       "      <td>68477</td>\n",
       "      <td>радермахера d-12 см h-20 см</td>\n",
       "      <td>1</td>\n",
       "      <td>112.0</td>\n",
       "    </tr>\n",
       "    <tr>\n",
       "      <th>3</th>\n",
       "      <td>2018-10-01</td>\n",
       "      <td>ee47d746-6d2f-4d3c-9622-c31412542920</td>\n",
       "      <td>68477</td>\n",
       "      <td>хризолидокарпус лутесценс d-9 см</td>\n",
       "      <td>1</td>\n",
       "      <td>179.0</td>\n",
       "    </tr>\n",
       "    <tr>\n",
       "      <th>4</th>\n",
       "      <td>2018-10-01</td>\n",
       "      <td>ee47d746-6d2f-4d3c-9622-c31412542920</td>\n",
       "      <td>68477</td>\n",
       "      <td>циперус зумула d-12 см h-25 см</td>\n",
       "      <td>1</td>\n",
       "      <td>112.0</td>\n",
       "    </tr>\n",
       "  </tbody>\n",
       "</table>\n",
       "</div>"
      ],
      "text/plain": [
       "        date                           customer_id  order_id  \\\n",
       "0 2018-10-01  ee47d746-6d2f-4d3c-9622-c31412542920     68477   \n",
       "1 2018-10-01  ee47d746-6d2f-4d3c-9622-c31412542920     68477   \n",
       "2 2018-10-01  ee47d746-6d2f-4d3c-9622-c31412542920     68477   \n",
       "3 2018-10-01  ee47d746-6d2f-4d3c-9622-c31412542920     68477   \n",
       "4 2018-10-01  ee47d746-6d2f-4d3c-9622-c31412542920     68477   \n",
       "\n",
       "                                             product  quantity  price  \n",
       "0    комнатное растение в горшке алое вера, d12, h30         1  142.0  \n",
       "1  комнатное растение в горшке кофе арабика, d12,...         1  194.0  \n",
       "2                        радермахера d-12 см h-20 см         1  112.0  \n",
       "3                   хризолидокарпус лутесценс d-9 см         1  179.0  \n",
       "4                     циперус зумула d-12 см h-25 см         1  112.0  "
      ]
     },
     "execution_count": 70,
     "metadata": {},
     "output_type": "execute_result"
    }
   ],
   "source": [
    "#Переведем данные колонке date в формат даты.\n",
    "df['date']=pd.to_datetime(df['date'], format='%Y%m%d%H')\n",
    "df.head()"
   ]
  },
  {
   "cell_type": "markdown",
   "metadata": {},
   "source": [
    "### Проверка на пропуски.Заполнение или удаление пропусков (если необходимо)"
   ]
  },
  {
   "cell_type": "code",
   "execution_count": 71,
   "metadata": {},
   "outputs": [
    {
     "data": {
      "text/plain": [
       "date           0\n",
       "customer_id    0\n",
       "order_id       0\n",
       "product        0\n",
       "quantity       0\n",
       "price          0\n",
       "dtype: int64"
      ]
     },
     "execution_count": 71,
     "metadata": {},
     "output_type": "execute_result"
    }
   ],
   "source": [
    "df.isna().sum()"
   ]
  },
  {
   "cell_type": "markdown",
   "metadata": {},
   "source": [
    "### Проверка дубликатов.Удаление дубликатов"
   ]
  },
  {
   "cell_type": "code",
   "execution_count": 72,
   "metadata": {},
   "outputs": [
    {
     "data": {
      "text/plain": [
       "0"
      ]
     },
     "execution_count": 72,
     "metadata": {},
     "output_type": "execute_result"
    }
   ],
   "source": [
    "df.duplicated().sum() "
   ]
  },
  {
   "cell_type": "markdown",
   "metadata": {},
   "source": [
    "Посмотрим неявные дубликаты"
   ]
  },
  {
   "cell_type": "code",
   "execution_count": 73,
   "metadata": {},
   "outputs": [
    {
     "data": {
      "text/plain": [
       "1886"
      ]
     },
     "execution_count": 73,
     "metadata": {},
     "output_type": "execute_result"
    }
   ],
   "source": [
    "df_dup = len(df[df[['product', 'customer_id', 'order_id']].duplicated() == True])\n",
    "\n",
    "df_dup"
   ]
  },
  {
   "cell_type": "markdown",
   "metadata": {},
   "source": [
    "Получили 1886 значений, различающихся только временем покупки. Возможно, что это ошибки возникли при выгрузке из БД"
   ]
  },
  {
   "cell_type": "code",
   "execution_count": 74,
   "metadata": {},
   "outputs": [
    {
     "data": {
      "text/html": [
       "<div>\n",
       "<style scoped>\n",
       "    .dataframe tbody tr th:only-of-type {\n",
       "        vertical-align: middle;\n",
       "    }\n",
       "\n",
       "    .dataframe tbody tr th {\n",
       "        vertical-align: top;\n",
       "    }\n",
       "\n",
       "    .dataframe thead th {\n",
       "        text-align: right;\n",
       "    }\n",
       "</style>\n",
       "<table border=\"1\" class=\"dataframe\">\n",
       "  <thead>\n",
       "    <tr style=\"text-align: right;\">\n",
       "      <th></th>\n",
       "      <th>date</th>\n",
       "      <th>customer_id</th>\n",
       "      <th>order_id</th>\n",
       "      <th>product</th>\n",
       "      <th>quantity</th>\n",
       "      <th>price</th>\n",
       "    </tr>\n",
       "  </thead>\n",
       "  <tbody>\n",
       "    <tr>\n",
       "      <th>58</th>\n",
       "      <td>2018-10-02 18:00:00</td>\n",
       "      <td>b731df05-98fa-4610-8496-716ec530a02c</td>\n",
       "      <td>68474</td>\n",
       "      <td>доска гладильная eurogold professional 130х48 ...</td>\n",
       "      <td>1</td>\n",
       "      <td>3299.0</td>\n",
       "    </tr>\n",
       "    <tr>\n",
       "      <th>59</th>\n",
       "      <td>2018-10-02 19:00:00</td>\n",
       "      <td>b731df05-98fa-4610-8496-716ec530a02c</td>\n",
       "      <td>68474</td>\n",
       "      <td>доска гладильная eurogold professional 130х48 ...</td>\n",
       "      <td>1</td>\n",
       "      <td>3299.0</td>\n",
       "    </tr>\n",
       "    <tr>\n",
       "      <th>60</th>\n",
       "      <td>2018-10-02 20:00:00</td>\n",
       "      <td>b731df05-98fa-4610-8496-716ec530a02c</td>\n",
       "      <td>68474</td>\n",
       "      <td>доска гладильная eurogold professional 130х48 ...</td>\n",
       "      <td>1</td>\n",
       "      <td>3299.0</td>\n",
       "    </tr>\n",
       "    <tr>\n",
       "      <th>63</th>\n",
       "      <td>2018-10-03 04:00:00</td>\n",
       "      <td>b731df05-98fa-4610-8496-716ec530a02c</td>\n",
       "      <td>68474</td>\n",
       "      <td>доска гладильная eurogold professional 130х48 ...</td>\n",
       "      <td>1</td>\n",
       "      <td>3299.0</td>\n",
       "    </tr>\n",
       "    <tr>\n",
       "      <th>94</th>\n",
       "      <td>2018-10-04 13:00:00</td>\n",
       "      <td>32de7df8-8d4f-4c84-a7b9-c41d00dd83ba</td>\n",
       "      <td>68522</td>\n",
       "      <td>эвкалипт гунни d-17 см h-60 см</td>\n",
       "      <td>1</td>\n",
       "      <td>1409.0</td>\n",
       "    </tr>\n",
       "    <tr>\n",
       "      <th>126</th>\n",
       "      <td>2018-10-07 17:00:00</td>\n",
       "      <td>ce0e0c29-8c8b-4714-84bd-80957224d4cf</td>\n",
       "      <td>68557</td>\n",
       "      <td>сумка-тележка хозяйственная gimi market синяя</td>\n",
       "      <td>1</td>\n",
       "      <td>1874.0</td>\n",
       "    </tr>\n",
       "    <tr>\n",
       "      <th>147</th>\n",
       "      <td>2018-10-08 19:00:00</td>\n",
       "      <td>3de09660-90bc-4a28-aaf1-34c8435fe59c</td>\n",
       "      <td>68574</td>\n",
       "      <td>таз пластмассовый 15,0 л пищевой овальный \"ekk...</td>\n",
       "      <td>1</td>\n",
       "      <td>209.0</td>\n",
       "    </tr>\n",
       "    <tr>\n",
       "      <th>148</th>\n",
       "      <td>2018-10-08 19:00:00</td>\n",
       "      <td>3de09660-90bc-4a28-aaf1-34c8435fe59c</td>\n",
       "      <td>68574</td>\n",
       "      <td>таз пластмассовый 18,0 л пищевой (иж), 1404047</td>\n",
       "      <td>1</td>\n",
       "      <td>194.0</td>\n",
       "    </tr>\n",
       "    <tr>\n",
       "      <th>149</th>\n",
       "      <td>2018-10-08 19:00:00</td>\n",
       "      <td>3de09660-90bc-4a28-aaf1-34c8435fe59c</td>\n",
       "      <td>68574</td>\n",
       "      <td>таз пластмассовый 20,0 л пищевой (минеральные ...</td>\n",
       "      <td>1</td>\n",
       "      <td>277.0</td>\n",
       "    </tr>\n",
       "    <tr>\n",
       "      <th>150</th>\n",
       "      <td>2018-10-08 19:00:00</td>\n",
       "      <td>3de09660-90bc-4a28-aaf1-34c8435fe59c</td>\n",
       "      <td>68574</td>\n",
       "      <td>таз пластмассовый 24,0 л пищевой круглый (иж),...</td>\n",
       "      <td>1</td>\n",
       "      <td>239.0</td>\n",
       "    </tr>\n",
       "  </tbody>\n",
       "</table>\n",
       "</div>"
      ],
      "text/plain": [
       "                   date                           customer_id  order_id  \\\n",
       "58  2018-10-02 18:00:00  b731df05-98fa-4610-8496-716ec530a02c     68474   \n",
       "59  2018-10-02 19:00:00  b731df05-98fa-4610-8496-716ec530a02c     68474   \n",
       "60  2018-10-02 20:00:00  b731df05-98fa-4610-8496-716ec530a02c     68474   \n",
       "63  2018-10-03 04:00:00  b731df05-98fa-4610-8496-716ec530a02c     68474   \n",
       "94  2018-10-04 13:00:00  32de7df8-8d4f-4c84-a7b9-c41d00dd83ba     68522   \n",
       "126 2018-10-07 17:00:00  ce0e0c29-8c8b-4714-84bd-80957224d4cf     68557   \n",
       "147 2018-10-08 19:00:00  3de09660-90bc-4a28-aaf1-34c8435fe59c     68574   \n",
       "148 2018-10-08 19:00:00  3de09660-90bc-4a28-aaf1-34c8435fe59c     68574   \n",
       "149 2018-10-08 19:00:00  3de09660-90bc-4a28-aaf1-34c8435fe59c     68574   \n",
       "150 2018-10-08 19:00:00  3de09660-90bc-4a28-aaf1-34c8435fe59c     68574   \n",
       "\n",
       "                                               product  quantity   price  \n",
       "58   доска гладильная eurogold professional 130х48 ...         1  3299.0  \n",
       "59   доска гладильная eurogold professional 130х48 ...         1  3299.0  \n",
       "60   доска гладильная eurogold professional 130х48 ...         1  3299.0  \n",
       "63   доска гладильная eurogold professional 130х48 ...         1  3299.0  \n",
       "94                      эвкалипт гунни d-17 см h-60 см         1  1409.0  \n",
       "126      сумка-тележка хозяйственная gimi market синяя         1  1874.0  \n",
       "147  таз пластмассовый 15,0 л пищевой овальный \"ekk...         1   209.0  \n",
       "148     таз пластмассовый 18,0 л пищевой (иж), 1404047         1   194.0  \n",
       "149  таз пластмассовый 20,0 л пищевой (минеральные ...         1   277.0  \n",
       "150  таз пластмассовый 24,0 л пищевой круглый (иж),...         1   239.0  "
      ]
     },
     "execution_count": 74,
     "metadata": {},
     "output_type": "execute_result"
    }
   ],
   "source": [
    "df[df[['product', 'customer_id', 'order_id']].duplicated() == True].head(10)"
   ]
  },
  {
   "cell_type": "code",
   "execution_count": 75,
   "metadata": {},
   "outputs": [
    {
     "name": "stdout",
     "output_type": "stream",
     "text": [
      "Доля неявных дубликатов: 28%\n"
     ]
    }
   ],
   "source": [
    "print('Доля неявных дубликатов: {:.0%}'.format(df_dup/len(df)))"
   ]
  },
  {
   "cell_type": "code",
   "execution_count": 76,
   "metadata": {},
   "outputs": [],
   "source": [
    "#Удалим дубликаты\n",
    "df = df.drop_duplicates(subset = ['customer_id','order_id', 'product'])"
   ]
  },
  {
   "cell_type": "code",
   "execution_count": 77,
   "metadata": {},
   "outputs": [
    {
     "data": {
      "text/html": [
       "<div>\n",
       "<style scoped>\n",
       "    .dataframe tbody tr th:only-of-type {\n",
       "        vertical-align: middle;\n",
       "    }\n",
       "\n",
       "    .dataframe tbody tr th {\n",
       "        vertical-align: top;\n",
       "    }\n",
       "\n",
       "    .dataframe thead th {\n",
       "        text-align: right;\n",
       "    }\n",
       "</style>\n",
       "<table border=\"1\" class=\"dataframe\">\n",
       "  <thead>\n",
       "    <tr style=\"text-align: right;\">\n",
       "      <th></th>\n",
       "      <th>date</th>\n",
       "      <th>customer_id</th>\n",
       "      <th>order_id</th>\n",
       "      <th>product</th>\n",
       "      <th>quantity</th>\n",
       "      <th>price</th>\n",
       "    </tr>\n",
       "  </thead>\n",
       "  <tbody>\n",
       "    <tr>\n",
       "      <th>19</th>\n",
       "      <td>2018-10-01 21:00:00</td>\n",
       "      <td>b731df05-98fa-4610-8496-716ec530a02c</td>\n",
       "      <td>68474</td>\n",
       "      <td>доска гладильная eurogold professional 130х48 ...</td>\n",
       "      <td>1</td>\n",
       "      <td>3299.0</td>\n",
       "    </tr>\n",
       "  </tbody>\n",
       "</table>\n",
       "</div>"
      ],
      "text/plain": [
       "                  date                           customer_id  order_id  \\\n",
       "19 2018-10-01 21:00:00  b731df05-98fa-4610-8496-716ec530a02c     68474   \n",
       "\n",
       "                                              product  quantity   price  \n",
       "19  доска гладильная eurogold professional 130х48 ...         1  3299.0  "
      ]
     },
     "execution_count": 77,
     "metadata": {},
     "output_type": "execute_result"
    }
   ],
   "source": [
    "df[df['order_id'] == 68474]"
   ]
  },
  {
   "cell_type": "code",
   "execution_count": 78,
   "metadata": {
    "scrolled": true
   },
   "outputs": [
    {
     "data": {
      "text/plain": [
       "29"
      ]
     },
     "execution_count": 78,
     "metadata": {},
     "output_type": "execute_result"
    }
   ],
   "source": [
    "# Проверим наличие заказов, совершенных более чем одним покупателем.\n",
    "doubles = df.groupby('order_id')['customer_id'].nunique().reset_index()\n",
    "doubles = doubles[doubles['customer_id'] > 1]\n",
    "doubles = list(doubles['order_id'])\n",
    "len(doubles)"
   ]
  },
  {
   "cell_type": "markdown",
   "metadata": {},
   "source": [
    "29 заказов совершено более чем 1 покупателем.Эты данные надо удалять, т.к.  у одного покупателя может быть много заказов но не может быть много покупателей у одного заказа."
   ]
  },
  {
   "cell_type": "code",
   "execution_count": 79,
   "metadata": {},
   "outputs": [
    {
     "data": {
      "text/plain": [
       "(4785, 6)"
      ]
     },
     "execution_count": 79,
     "metadata": {},
     "output_type": "execute_result"
    }
   ],
   "source": [
    "# Удалим аномальные заказы-покупатели.\n",
    "df = df.query('order_id not in @doubles')\n",
    "df.shape"
   ]
  },
  {
   "cell_type": "markdown",
   "metadata": {},
   "source": [
    "### Добавление нужных столбцов."
   ]
  },
  {
   "cell_type": "code",
   "execution_count": 80,
   "metadata": {},
   "outputs": [],
   "source": [
    "#Добавим столбец с итоговой суммой.\n",
    "df['revenue'] = df['quantity'] * df['price']"
   ]
  },
  {
   "cell_type": "code",
   "execution_count": 81,
   "metadata": {},
   "outputs": [],
   "source": [
    "#Столбец с месяцем и годом\n",
    "df['month'] = df['date'].dt.month\n",
    "df['year'] = df['date'].dt.year"
   ]
  },
  {
   "cell_type": "code",
   "execution_count": 82,
   "metadata": {},
   "outputs": [
    {
     "data": {
      "text/html": [
       "<div>\n",
       "<style scoped>\n",
       "    .dataframe tbody tr th:only-of-type {\n",
       "        vertical-align: middle;\n",
       "    }\n",
       "\n",
       "    .dataframe tbody tr th {\n",
       "        vertical-align: top;\n",
       "    }\n",
       "\n",
       "    .dataframe thead th {\n",
       "        text-align: right;\n",
       "    }\n",
       "</style>\n",
       "<table border=\"1\" class=\"dataframe\">\n",
       "  <thead>\n",
       "    <tr style=\"text-align: right;\">\n",
       "      <th></th>\n",
       "      <th>date</th>\n",
       "      <th>customer_id</th>\n",
       "      <th>order_id</th>\n",
       "      <th>product</th>\n",
       "      <th>quantity</th>\n",
       "      <th>price</th>\n",
       "      <th>revenue</th>\n",
       "      <th>month</th>\n",
       "      <th>year</th>\n",
       "      <th>day</th>\n",
       "      <th>day_of_week</th>\n",
       "    </tr>\n",
       "  </thead>\n",
       "  <tbody>\n",
       "    <tr>\n",
       "      <th>0</th>\n",
       "      <td>2018-10-01</td>\n",
       "      <td>ee47d746-6d2f-4d3c-9622-c31412542920</td>\n",
       "      <td>68477</td>\n",
       "      <td>комнатное растение в горшке алое вера, d12, h30</td>\n",
       "      <td>1</td>\n",
       "      <td>142.0</td>\n",
       "      <td>142.0</td>\n",
       "      <td>10</td>\n",
       "      <td>2018</td>\n",
       "      <td>1</td>\n",
       "      <td>Monday</td>\n",
       "    </tr>\n",
       "    <tr>\n",
       "      <th>1</th>\n",
       "      <td>2018-10-01</td>\n",
       "      <td>ee47d746-6d2f-4d3c-9622-c31412542920</td>\n",
       "      <td>68477</td>\n",
       "      <td>комнатное растение в горшке кофе арабика, d12,...</td>\n",
       "      <td>1</td>\n",
       "      <td>194.0</td>\n",
       "      <td>194.0</td>\n",
       "      <td>10</td>\n",
       "      <td>2018</td>\n",
       "      <td>1</td>\n",
       "      <td>Monday</td>\n",
       "    </tr>\n",
       "    <tr>\n",
       "      <th>2</th>\n",
       "      <td>2018-10-01</td>\n",
       "      <td>ee47d746-6d2f-4d3c-9622-c31412542920</td>\n",
       "      <td>68477</td>\n",
       "      <td>радермахера d-12 см h-20 см</td>\n",
       "      <td>1</td>\n",
       "      <td>112.0</td>\n",
       "      <td>112.0</td>\n",
       "      <td>10</td>\n",
       "      <td>2018</td>\n",
       "      <td>1</td>\n",
       "      <td>Monday</td>\n",
       "    </tr>\n",
       "    <tr>\n",
       "      <th>3</th>\n",
       "      <td>2018-10-01</td>\n",
       "      <td>ee47d746-6d2f-4d3c-9622-c31412542920</td>\n",
       "      <td>68477</td>\n",
       "      <td>хризолидокарпус лутесценс d-9 см</td>\n",
       "      <td>1</td>\n",
       "      <td>179.0</td>\n",
       "      <td>179.0</td>\n",
       "      <td>10</td>\n",
       "      <td>2018</td>\n",
       "      <td>1</td>\n",
       "      <td>Monday</td>\n",
       "    </tr>\n",
       "    <tr>\n",
       "      <th>4</th>\n",
       "      <td>2018-10-01</td>\n",
       "      <td>ee47d746-6d2f-4d3c-9622-c31412542920</td>\n",
       "      <td>68477</td>\n",
       "      <td>циперус зумула d-12 см h-25 см</td>\n",
       "      <td>1</td>\n",
       "      <td>112.0</td>\n",
       "      <td>112.0</td>\n",
       "      <td>10</td>\n",
       "      <td>2018</td>\n",
       "      <td>1</td>\n",
       "      <td>Monday</td>\n",
       "    </tr>\n",
       "  </tbody>\n",
       "</table>\n",
       "</div>"
      ],
      "text/plain": [
       "        date                           customer_id  order_id  \\\n",
       "0 2018-10-01  ee47d746-6d2f-4d3c-9622-c31412542920     68477   \n",
       "1 2018-10-01  ee47d746-6d2f-4d3c-9622-c31412542920     68477   \n",
       "2 2018-10-01  ee47d746-6d2f-4d3c-9622-c31412542920     68477   \n",
       "3 2018-10-01  ee47d746-6d2f-4d3c-9622-c31412542920     68477   \n",
       "4 2018-10-01  ee47d746-6d2f-4d3c-9622-c31412542920     68477   \n",
       "\n",
       "                                             product  quantity  price  \\\n",
       "0    комнатное растение в горшке алое вера, d12, h30         1  142.0   \n",
       "1  комнатное растение в горшке кофе арабика, d12,...         1  194.0   \n",
       "2                        радермахера d-12 см h-20 см         1  112.0   \n",
       "3                   хризолидокарпус лутесценс d-9 см         1  179.0   \n",
       "4                     циперус зумула d-12 см h-25 см         1  112.0   \n",
       "\n",
       "   revenue  month  year  day day_of_week  \n",
       "0    142.0     10  2018    1      Monday  \n",
       "1    194.0     10  2018    1      Monday  \n",
       "2    112.0     10  2018    1      Monday  \n",
       "3    179.0     10  2018    1      Monday  \n",
       "4    112.0     10  2018    1      Monday  "
      ]
     },
     "execution_count": 82,
     "metadata": {},
     "output_type": "execute_result"
    }
   ],
   "source": [
    "#Столбец с днем недели\n",
    "df['day'] = (df['date'].dt.dayofweek) + 1\n",
    "df['day_of_week'] = df['date'].dt.day_name()\n",
    "df.head()"
   ]
  },
  {
   "cell_type": "markdown",
   "metadata": {},
   "source": [
    "### Выводы:\n",
    "\n",
    "При первом ознакомлении пропуски и явные дубликаты не обнаружили. Выполнили предобработку данных для дальнейшего анализа:\n",
    "\n",
    "столбец с датой привели к формату даты;\n",
    "\n",
    "столбец с наименованием продукта привели к нижнему регистру.\n",
    "\n",
    "Нашли и удалили неяные дубликаты. \n",
    "\n",
    "Добавили новые колонки с датой, неделей, месяцем и годом заказа, а также выручку по транзакции."
   ]
  },
  {
   "cell_type": "markdown",
   "metadata": {},
   "source": [
    "## Исследовательский анализ данных"
   ]
  },
  {
   "cell_type": "markdown",
   "metadata": {},
   "source": [
    "### Изучение покупок"
   ]
  },
  {
   "cell_type": "code",
   "execution_count": 83,
   "metadata": {},
   "outputs": [
    {
     "name": "stdout",
     "output_type": "stream",
     "text": [
      "Дата первой покупки: 2018-10-01 00:00:00 \n",
      "Дата последней покупки: 2019-10-31 14:00:00 \n"
     ]
    }
   ],
   "source": [
    "# Найдем минимальную и максимальную дату.\n",
    "min_date = df['date'].min()\n",
    "max_date = df['date'].max()\n",
    "print(\"Дата первой покупки: {} \".format(min_date))\n",
    "print(\"Дата последней покупки: {} \".format(max_date))"
   ]
  },
  {
   "cell_type": "code",
   "execution_count": 84,
   "metadata": {
    "scrolled": true
   },
   "outputs": [
    {
     "data": {
      "text/html": [
       "<div>\n",
       "<style scoped>\n",
       "    .dataframe tbody tr th:only-of-type {\n",
       "        vertical-align: middle;\n",
       "    }\n",
       "\n",
       "    .dataframe tbody tr th {\n",
       "        vertical-align: top;\n",
       "    }\n",
       "\n",
       "    .dataframe thead th {\n",
       "        text-align: right;\n",
       "    }\n",
       "</style>\n",
       "<table border=\"1\" class=\"dataframe\">\n",
       "  <thead>\n",
       "    <tr style=\"text-align: right;\">\n",
       "      <th></th>\n",
       "      <th>customer_id</th>\n",
       "      <th>orders</th>\n",
       "      <th>avg_products</th>\n",
       "      <th>avg_quantity</th>\n",
       "      <th>avg_price</th>\n",
       "      <th>sum_revenue</th>\n",
       "    </tr>\n",
       "  </thead>\n",
       "  <tbody>\n",
       "    <tr>\n",
       "      <th>0</th>\n",
       "      <td>000d6849-084e-4d9f-ac03-37174eaf60c4</td>\n",
       "      <td>1</td>\n",
       "      <td>4.0</td>\n",
       "      <td>1.0</td>\n",
       "      <td>138.75</td>\n",
       "      <td>555.0</td>\n",
       "    </tr>\n",
       "    <tr>\n",
       "      <th>1</th>\n",
       "      <td>001cee7f-0b29-4716-b202-0042213ab038</td>\n",
       "      <td>1</td>\n",
       "      <td>1.0</td>\n",
       "      <td>1.0</td>\n",
       "      <td>442.00</td>\n",
       "      <td>442.0</td>\n",
       "    </tr>\n",
       "    <tr>\n",
       "      <th>2</th>\n",
       "      <td>00299f34-5385-4d13-9aea-c80b81658e1b</td>\n",
       "      <td>1</td>\n",
       "      <td>1.0</td>\n",
       "      <td>2.0</td>\n",
       "      <td>457.00</td>\n",
       "      <td>914.0</td>\n",
       "    </tr>\n",
       "    <tr>\n",
       "      <th>3</th>\n",
       "      <td>002d4d3a-4a59-406b-86ec-c3314357e498</td>\n",
       "      <td>1</td>\n",
       "      <td>1.0</td>\n",
       "      <td>1.0</td>\n",
       "      <td>1649.00</td>\n",
       "      <td>1649.0</td>\n",
       "    </tr>\n",
       "    <tr>\n",
       "      <th>4</th>\n",
       "      <td>003bbd39-0000-41ff-b7f9-2ddaec152037</td>\n",
       "      <td>1</td>\n",
       "      <td>1.0</td>\n",
       "      <td>2.0</td>\n",
       "      <td>1162.00</td>\n",
       "      <td>2324.0</td>\n",
       "    </tr>\n",
       "  </tbody>\n",
       "</table>\n",
       "</div>"
      ],
      "text/plain": [
       "                            customer_id  orders  avg_products  avg_quantity  \\\n",
       "0  000d6849-084e-4d9f-ac03-37174eaf60c4       1           4.0           1.0   \n",
       "1  001cee7f-0b29-4716-b202-0042213ab038       1           1.0           1.0   \n",
       "2  00299f34-5385-4d13-9aea-c80b81658e1b       1           1.0           2.0   \n",
       "3  002d4d3a-4a59-406b-86ec-c3314357e498       1           1.0           1.0   \n",
       "4  003bbd39-0000-41ff-b7f9-2ddaec152037       1           1.0           2.0   \n",
       "\n",
       "   avg_price  sum_revenue  \n",
       "0     138.75        555.0  \n",
       "1     442.00        442.0  \n",
       "2     457.00        914.0  \n",
       "3    1649.00       1649.0  \n",
       "4    1162.00       2324.0  "
      ]
     },
     "execution_count": 84,
     "metadata": {},
     "output_type": "execute_result"
    }
   ],
   "source": [
    "df_grouped = df.groupby(['customer_id', 'order_id']).agg({'product':'nunique', 'quantity':'mean', 'price':'mean', 'revenue':'sum', }).reset_index()\n",
    "df_grouped = df_grouped.groupby('customer_id').agg({'order_id':'count', 'product':'mean', 'quantity':'mean', 'price':'mean', 'revenue':'sum', }).reset_index()\n",
    "df_grouped.columns = ['customer_id', 'orders', 'avg_products', 'avg_quantity', 'avg_price', 'sum_revenue']\n",
    "df_grouped.head()"
   ]
  },
  {
   "cell_type": "code",
   "execution_count": 85,
   "metadata": {},
   "outputs": [
    {
     "data": {
      "text/html": [
       "<div>\n",
       "<style scoped>\n",
       "    .dataframe tbody tr th:only-of-type {\n",
       "        vertical-align: middle;\n",
       "    }\n",
       "\n",
       "    .dataframe tbody tr th {\n",
       "        vertical-align: top;\n",
       "    }\n",
       "\n",
       "    .dataframe thead th {\n",
       "        text-align: right;\n",
       "    }\n",
       "</style>\n",
       "<table border=\"1\" class=\"dataframe\">\n",
       "  <thead>\n",
       "    <tr style=\"text-align: right;\">\n",
       "      <th></th>\n",
       "      <th>orders</th>\n",
       "      <th>avg_products</th>\n",
       "      <th>avg_quantity</th>\n",
       "      <th>avg_price</th>\n",
       "      <th>sum_revenue</th>\n",
       "    </tr>\n",
       "  </thead>\n",
       "  <tbody>\n",
       "    <tr>\n",
       "      <th>count</th>\n",
       "      <td>2394.000000</td>\n",
       "      <td>2394.000000</td>\n",
       "      <td>2394.000000</td>\n",
       "      <td>2394.000000</td>\n",
       "      <td>2394.000000</td>\n",
       "    </tr>\n",
       "    <tr>\n",
       "      <th>mean</th>\n",
       "      <td>1.150794</td>\n",
       "      <td>1.753130</td>\n",
       "      <td>3.818532</td>\n",
       "      <td>778.991813</td>\n",
       "      <td>1705.543860</td>\n",
       "    </tr>\n",
       "    <tr>\n",
       "      <th>std</th>\n",
       "      <td>2.686314</td>\n",
       "      <td>2.904479</td>\n",
       "      <td>24.560950</td>\n",
       "      <td>1159.112933</td>\n",
       "      <td>14423.218859</td>\n",
       "    </tr>\n",
       "    <tr>\n",
       "      <th>min</th>\n",
       "      <td>1.000000</td>\n",
       "      <td>1.000000</td>\n",
       "      <td>1.000000</td>\n",
       "      <td>14.000000</td>\n",
       "      <td>14.000000</td>\n",
       "    </tr>\n",
       "    <tr>\n",
       "      <th>25%</th>\n",
       "      <td>1.000000</td>\n",
       "      <td>1.000000</td>\n",
       "      <td>1.000000</td>\n",
       "      <td>134.000000</td>\n",
       "      <td>299.000000</td>\n",
       "    </tr>\n",
       "    <tr>\n",
       "      <th>50%</th>\n",
       "      <td>1.000000</td>\n",
       "      <td>1.000000</td>\n",
       "      <td>1.000000</td>\n",
       "      <td>352.000000</td>\n",
       "      <td>712.000000</td>\n",
       "    </tr>\n",
       "    <tr>\n",
       "      <th>75%</th>\n",
       "      <td>1.000000</td>\n",
       "      <td>1.000000</td>\n",
       "      <td>1.500000</td>\n",
       "      <td>974.000000</td>\n",
       "      <td>1574.000000</td>\n",
       "    </tr>\n",
       "    <tr>\n",
       "      <th>max</th>\n",
       "      <td>126.000000</td>\n",
       "      <td>51.000000</td>\n",
       "      <td>1000.000000</td>\n",
       "      <td>14917.000000</td>\n",
       "      <td>675000.000000</td>\n",
       "    </tr>\n",
       "  </tbody>\n",
       "</table>\n",
       "</div>"
      ],
      "text/plain": [
       "            orders  avg_products  avg_quantity     avg_price    sum_revenue\n",
       "count  2394.000000   2394.000000   2394.000000   2394.000000    2394.000000\n",
       "mean      1.150794      1.753130      3.818532    778.991813    1705.543860\n",
       "std       2.686314      2.904479     24.560950   1159.112933   14423.218859\n",
       "min       1.000000      1.000000      1.000000     14.000000      14.000000\n",
       "25%       1.000000      1.000000      1.000000    134.000000     299.000000\n",
       "50%       1.000000      1.000000      1.000000    352.000000     712.000000\n",
       "75%       1.000000      1.000000      1.500000    974.000000    1574.000000\n",
       "max     126.000000     51.000000   1000.000000  14917.000000  675000.000000"
      ]
     },
     "execution_count": 85,
     "metadata": {},
     "output_type": "execute_result"
    }
   ],
   "source": [
    "df_grouped.describe()"
   ]
  },
  {
   "cell_type": "code",
   "execution_count": 86,
   "metadata": {
    "scrolled": true
   },
   "outputs": [
    {
     "data": {
      "text/html": [
       "<div>\n",
       "<style scoped>\n",
       "    .dataframe tbody tr th:only-of-type {\n",
       "        vertical-align: middle;\n",
       "    }\n",
       "\n",
       "    .dataframe tbody tr th {\n",
       "        vertical-align: top;\n",
       "    }\n",
       "\n",
       "    .dataframe thead th {\n",
       "        text-align: right;\n",
       "    }\n",
       "</style>\n",
       "<table border=\"1\" class=\"dataframe\">\n",
       "  <thead>\n",
       "    <tr style=\"text-align: right;\">\n",
       "      <th></th>\n",
       "      <th>product</th>\n",
       "      <th>quantity</th>\n",
       "    </tr>\n",
       "  </thead>\n",
       "  <tbody>\n",
       "    <tr>\n",
       "      <th>211</th>\n",
       "      <td>крепеж для пружины дверной, 1107055</td>\n",
       "      <td>150</td>\n",
       "    </tr>\n",
       "    <tr>\n",
       "      <th>212</th>\n",
       "      <td>пружина дверная 240 мм оцинкованная (д-19 мм) ...</td>\n",
       "      <td>150</td>\n",
       "    </tr>\n",
       "    <tr>\n",
       "      <th>568</th>\n",
       "      <td>муляж яблоко 9 см красное</td>\n",
       "      <td>170</td>\n",
       "    </tr>\n",
       "    <tr>\n",
       "      <th>586</th>\n",
       "      <td>муляж яблоко 9 см красное</td>\n",
       "      <td>140</td>\n",
       "    </tr>\n",
       "    <tr>\n",
       "      <th>1158</th>\n",
       "      <td>ручка-скоба рс-100 белая *трибатрон*, 1108035</td>\n",
       "      <td>200</td>\n",
       "    </tr>\n",
       "    <tr>\n",
       "      <th>2431</th>\n",
       "      <td>плечики пластмассовые размер 52 - 54 тула 1205158</td>\n",
       "      <td>150</td>\n",
       "    </tr>\n",
       "    <tr>\n",
       "      <th>3961</th>\n",
       "      <td>муляж яблоко 9 см красное</td>\n",
       "      <td>300</td>\n",
       "    </tr>\n",
       "    <tr>\n",
       "      <th>5071</th>\n",
       "      <td>вешалки мягкие для деликатных вещей 3 шт шоколад</td>\n",
       "      <td>334</td>\n",
       "    </tr>\n",
       "    <tr>\n",
       "      <th>5456</th>\n",
       "      <td>вантуз с деревянной ручкой d14 см красный, bur...</td>\n",
       "      <td>1000</td>\n",
       "    </tr>\n",
       "  </tbody>\n",
       "</table>\n",
       "</div>"
      ],
      "text/plain": [
       "                                                product  quantity\n",
       "211                 крепеж для пружины дверной, 1107055       150\n",
       "212   пружина дверная 240 мм оцинкованная (д-19 мм) ...       150\n",
       "568                           муляж яблоко 9 см красное       170\n",
       "586                           муляж яблоко 9 см красное       140\n",
       "1158      ручка-скоба рс-100 белая *трибатрон*, 1108035       200\n",
       "2431  плечики пластмассовые размер 52 - 54 тула 1205158       150\n",
       "3961                          муляж яблоко 9 см красное       300\n",
       "5071   вешалки мягкие для деликатных вещей 3 шт шоколад       334\n",
       "5456  вантуз с деревянной ручкой d14 см красный, bur...      1000"
      ]
     },
     "execution_count": 86,
     "metadata": {},
     "output_type": "execute_result"
    }
   ],
   "source": [
    "#товары, которые заказывают оптом\n",
    "df.query('quantity>100')[['product','quantity']]"
   ]
  },
  {
   "cell_type": "markdown",
   "metadata": {},
   "source": [
    "Сочтем заказы с количеством больше 100 оптовыми и не будем рассматривать в этом исследовании."
   ]
  },
  {
   "cell_type": "code",
   "execution_count": 87,
   "metadata": {},
   "outputs": [],
   "source": [
    "df= df.query('quantity<100')"
   ]
  },
  {
   "cell_type": "code",
   "execution_count": 88,
   "metadata": {
    "scrolled": true
   },
   "outputs": [
    {
     "data": {
      "text/html": [
       "<div>\n",
       "<style scoped>\n",
       "    .dataframe tbody tr th:only-of-type {\n",
       "        vertical-align: middle;\n",
       "    }\n",
       "\n",
       "    .dataframe tbody tr th {\n",
       "        vertical-align: top;\n",
       "    }\n",
       "\n",
       "    .dataframe thead th {\n",
       "        text-align: right;\n",
       "    }\n",
       "</style>\n",
       "<table border=\"1\" class=\"dataframe\">\n",
       "  <thead>\n",
       "    <tr style=\"text-align: right;\">\n",
       "      <th></th>\n",
       "      <th>customer_id</th>\n",
       "      <th>orders</th>\n",
       "    </tr>\n",
       "  </thead>\n",
       "  <tbody>\n",
       "    <tr>\n",
       "      <th>1860</th>\n",
       "      <td>c971fb21-d54c-4134-938f-16b62ee86d3b</td>\n",
       "      <td>126</td>\n",
       "    </tr>\n",
       "    <tr>\n",
       "      <th>723</th>\n",
       "      <td>4d93d3f6-8b24-403b-a74b-f5173e40d7db</td>\n",
       "      <td>35</td>\n",
       "    </tr>\n",
       "    <tr>\n",
       "      <th>1068</th>\n",
       "      <td>73d1cd35-5e5f-4629-8cf2-3fda829d4e58</td>\n",
       "      <td>17</td>\n",
       "    </tr>\n",
       "    <tr>\n",
       "      <th>1696</th>\n",
       "      <td>b7b865ab-0735-407f-8d0c-31f74d2806cc</td>\n",
       "      <td>7</td>\n",
       "    </tr>\n",
       "    <tr>\n",
       "      <th>16</th>\n",
       "      <td>0184f535-b60a-4914-a982-231e3f615206</td>\n",
       "      <td>5</td>\n",
       "    </tr>\n",
       "    <tr>\n",
       "      <th>1766</th>\n",
       "      <td>bea7a833-2074-42db-bc49-4457abd3c930</td>\n",
       "      <td>4</td>\n",
       "    </tr>\n",
       "    <tr>\n",
       "      <th>681</th>\n",
       "      <td>498f12a4-6a62-4725-8516-cf5dc9ab8a3a</td>\n",
       "      <td>4</td>\n",
       "    </tr>\n",
       "    <tr>\n",
       "      <th>2082</th>\n",
       "      <td>e0535076-6270-4df2-8621-cb06264a94fa</td>\n",
       "      <td>4</td>\n",
       "    </tr>\n",
       "    <tr>\n",
       "      <th>1922</th>\n",
       "      <td>d02429ab-22e0-4ff2-9465-3082befde444</td>\n",
       "      <td>3</td>\n",
       "    </tr>\n",
       "    <tr>\n",
       "      <th>980</th>\n",
       "      <td>6b0c6cfb-7717-4c34-8535-bbc6e2b2c758</td>\n",
       "      <td>3</td>\n",
       "    </tr>\n",
       "  </tbody>\n",
       "</table>\n",
       "</div>"
      ],
      "text/plain": [
       "                               customer_id  orders\n",
       "1860  c971fb21-d54c-4134-938f-16b62ee86d3b     126\n",
       "723   4d93d3f6-8b24-403b-a74b-f5173e40d7db      35\n",
       "1068  73d1cd35-5e5f-4629-8cf2-3fda829d4e58      17\n",
       "1696  b7b865ab-0735-407f-8d0c-31f74d2806cc       7\n",
       "16    0184f535-b60a-4914-a982-231e3f615206       5\n",
       "1766  bea7a833-2074-42db-bc49-4457abd3c930       4\n",
       "681   498f12a4-6a62-4725-8516-cf5dc9ab8a3a       4\n",
       "2082  e0535076-6270-4df2-8621-cb06264a94fa       4\n",
       "1922  d02429ab-22e0-4ff2-9465-3082befde444       3\n",
       "980   6b0c6cfb-7717-4c34-8535-bbc6e2b2c758       3"
      ]
     },
     "execution_count": 88,
     "metadata": {},
     "output_type": "execute_result"
    }
   ],
   "source": [
    "# Подсчитаем количество заказов по покупателелям и посмотрим на результат.\n",
    "orders = df.groupby('customer_id', as_index=False).agg({'order_id':'nunique'})\n",
    "orders.columns = ['customer_id','orders']\n",
    "orders.sort_values(by='orders',ascending=False).head(10)"
   ]
  },
  {
   "cell_type": "code",
   "execution_count": 89,
   "metadata": {},
   "outputs": [
    {
     "name": "stdout",
     "output_type": "stream",
     "text": [
      " Не более 5% покупателей сделали более 2.0 заказов\n",
      " Не более 1% покупателей сделали более 3.0 заказов\n"
     ]
    }
   ],
   "source": [
    "print(f' Не более 5% покупателей сделали более {np.percentile(df_grouped[\"orders\"], 95)} заказов')\n",
    "print(f' Не более 1% покупателей сделали более {np.percentile(df_grouped[\"orders\"], 99)} заказов')"
   ]
  },
  {
   "cell_type": "markdown",
   "metadata": {},
   "source": [
    "Выберем 3 заказа на одного клиента за нижнюю границу числа заказов, и отсеем аномальных клиентов по ней."
   ]
  },
  {
   "cell_type": "code",
   "execution_count": 90,
   "metadata": {},
   "outputs": [],
   "source": [
    "abnormal_customers = pd.concat([orders[orders['orders']>3]['customer_id']], axis = 0)"
   ]
  },
  {
   "cell_type": "code",
   "execution_count": 91,
   "metadata": {},
   "outputs": [],
   "source": [
    "# Отсеем аномальных пользователей.\n",
    "df = df.query('customer_id not in @abnormal_customers')"
   ]
  },
  {
   "cell_type": "code",
   "execution_count": 92,
   "metadata": {},
   "outputs": [
    {
     "data": {
      "text/plain": [
       "Monday       760\n",
       "Tuesday      730\n",
       "Thursday     728\n",
       "Wednesday    661\n",
       "Friday       579\n",
       "Sunday       575\n",
       "Saturday     464\n",
       "Name: day_of_week, dtype: int64"
      ]
     },
     "execution_count": 92,
     "metadata": {},
     "output_type": "execute_result"
    }
   ],
   "source": [
    "df['day_of_week'].value_counts()"
   ]
  },
  {
   "cell_type": "markdown",
   "metadata": {},
   "source": [
    "В понедельник и вторник чаще делают покупки,реже всего по субботам."
   ]
  },
  {
   "cell_type": "code",
   "execution_count": 93,
   "metadata": {},
   "outputs": [
    {
     "data": {
      "image/png": "[encoded data removed]",
      "text/plain": [
       "<Figure size 1080x576 with 1 Axes>"
      ]
     },
     "metadata": {},
     "output_type": "display_data"
    }
   ],
   "source": [
    "# Посмотрим распределение количества заказов и выручки по месяцам\n",
    "month_df= df.pivot_table(index={'month', 'year'}, values='revenue', aggfunc={'count', 'sum'}).reset_index()\n",
    "\n",
    "# Количество заказов по месяцам\n",
    "plt.figure(figsize=(15,8))\n",
    "sns.barplot(data=month_df, x = 'month', y = 'count', hue = 'year')\n",
    "plt.title('Количество заказов по месяцам', fontsize=18)\n",
    "plt.xlabel('Месяц')\n",
    "plt.ylabel('Количество заказов')\n",
    "plt.xticks(np.arange(12), [\n",
    "    'Январь', 'Февраль', 'Март', 'Апрель', 'Май', 'Июнь', 'Июль', 'Август', 'Сентябрь', 'Октябрь', 'Ноябрь', 'Декабрь'\n",
    "], rotation=20)\n",
    "plt.legend(title='Год')\n",
    "plt.show()"
   ]
  },
  {
   "cell_type": "code",
   "execution_count": 94,
   "metadata": {},
   "outputs": [
    {
     "data": {
      "image/png": "[encoded data removed]",
      "text/plain": [
       "<Figure size 1080x576 with 1 Axes>"
      ]
     },
     "metadata": {},
     "output_type": "display_data"
    }
   ],
   "source": [
    "# Количество выручки по месяцам\n",
    "plt.figure(figsize=(15,8))\n",
    "sns.barplot(data=month_df, x = 'month', y = 'sum', hue = 'year')\n",
    "plt.title('Выручка по месяцам', fontsize=18)\n",
    "plt.xlabel('Месяц')\n",
    "plt.ylabel('Выручка')\n",
    "plt.xticks(np.arange(12), [\n",
    "    'Январь', 'Февраль', 'Март', 'Апрель', 'Май', 'Июнь', 'Июль', 'Август', 'Сентябрь', 'Октябрь', 'Ноябрь', 'Декабрь'\n",
    "], rotation=20)\n",
    "plt.legend(title='Год')\n",
    "plt.show()"
   ]
  },
  {
   "cell_type": "markdown",
   "metadata": {},
   "source": [
    "### Категоризация наименования товара"
   ]
  },
  {
   "cell_type": "code",
   "execution_count": 95,
   "metadata": {},
   "outputs": [
    {
     "data": {
      "text/html": [
       "<div>\n",
       "<style scoped>\n",
       "    .dataframe tbody tr th:only-of-type {\n",
       "        vertical-align: middle;\n",
       "    }\n",
       "\n",
       "    .dataframe tbody tr th {\n",
       "        vertical-align: top;\n",
       "    }\n",
       "\n",
       "    .dataframe thead th {\n",
       "        text-align: right;\n",
       "    }\n",
       "</style>\n",
       "<table border=\"1\" class=\"dataframe\">\n",
       "  <thead>\n",
       "    <tr style=\"text-align: right;\">\n",
       "      <th></th>\n",
       "      <th>product_lemmas</th>\n",
       "    </tr>\n",
       "  </thead>\n",
       "  <tbody>\n",
       "    <tr>\n",
       "      <th>3192</th>\n",
       "      <td>сумка-тележка</td>\n",
       "    </tr>\n",
       "    <tr>\n",
       "      <th>1426</th>\n",
       "      <td>сушилка</td>\n",
       "    </tr>\n",
       "    <tr>\n",
       "      <th>3232</th>\n",
       "      <td>томата</td>\n",
       "    </tr>\n",
       "    <tr>\n",
       "      <th>2769</th>\n",
       "      <td>вербена</td>\n",
       "    </tr>\n",
       "    <tr>\n",
       "      <th>30</th>\n",
       "      <td>муляж</td>\n",
       "    </tr>\n",
       "    <tr>\n",
       "      <th>3491</th>\n",
       "      <td>петуния</td>\n",
       "    </tr>\n",
       "    <tr>\n",
       "      <th>1612</th>\n",
       "      <td>кружка</td>\n",
       "    </tr>\n",
       "    <tr>\n",
       "      <th>2988</th>\n",
       "      <td>искусственный</td>\n",
       "    </tr>\n",
       "    <tr>\n",
       "      <th>1369</th>\n",
       "      <td>тарелка</td>\n",
       "    </tr>\n",
       "    <tr>\n",
       "      <th>2385</th>\n",
       "      <td>пеларгония</td>\n",
       "    </tr>\n",
       "  </tbody>\n",
       "</table>\n",
       "</div>"
      ],
      "text/plain": [
       "     product_lemmas\n",
       "3192  сумка-тележка\n",
       "1426        сушилка\n",
       "3232         томата\n",
       "2769        вербена\n",
       "30            муляж\n",
       "3491        петуния\n",
       "1612         кружка\n",
       "2988  искусственный\n",
       "1369        тарелка\n",
       "2385     пеларгония"
      ]
     },
     "execution_count": 95,
     "metadata": {},
     "output_type": "execute_result"
    }
   ],
   "source": [
    "#Сформируем выборку для словарей\n",
    "df['product_lemmas'] = df['product'].apply(lambda x: x.split()[:1]).str.join(', ')\n",
    "df['product_lemmas'].to_frame().sample(10)"
   ]
  },
  {
   "cell_type": "code",
   "execution_count": 96,
   "metadata": {},
   "outputs": [
    {
     "data": {
      "text/plain": [
       "447"
      ]
     },
     "execution_count": 96,
     "metadata": {},
     "output_type": "execute_result"
    }
   ],
   "source": [
    "df['product_lemmas'].nunique()"
   ]
  },
  {
   "cell_type": "code",
   "execution_count": 97,
   "metadata": {},
   "outputs": [
    {
     "name": "stdout",
     "output_type": "stream",
     "text": [
      "[(' ', 4491), ('пеларгония', 684), ('рассада', 454), ('тележка', 301), ('-', 253), ('сушилка', 236), ('сумка', 223), ('муляж', 160), ('томат', 144), ('петуния', 135), ('гладильный', 108), ('коврик', 100), ('герань', 97), ('чехол', 76), ('штора', 69), ('искусственный', 63), ('однолетний', 59), ('таз', 56), ('роза', 56), ('вешалка', 49), ('калибрахоа', 44), ('стремянка', 43), ('тарелка', 39), ('набор', 36), ('цветок', 34), ('корзина', 32), ('бакоп', 32), ('скатерть', 30), ('салатник', 21), ('полка', 21), ('подвесной', 21), ('базилик', 19), ('фуксия', 19), ('щетка', 18), ('мята', 17), ('банк', 16), ('флокс', 16), ('декабрист', 16), ('ерш', 15), ('цикламен', 15), ('примула', 15), ('вербена', 15), ('эвкалипт', 14), ('карниз', 14), ('дыня', 14), ('подкладка', 13), ('нож', 13), ('фиалка', 13), ('швабра', 13), ('чайник', 13), ('комнатный', 12), ('контейнер', 12), ('кружка', 12), ('капуста', 12), ('лобелия', 12), ('лестница', 11), ('ведро', 11), ('сковорода', 10), ('подрукавник', 10), ('бегония', 10), ('новогодний', 10), ('пуансеттия', 10), ('циперус', 9), ('перчатка', 9), ('плечики', 9), ('антуриум', 9), ('бальзамин', 9), ('колокольчик', 9), ('арбуз', 9), ('кувшин', 8), ('салфетка', 8), ('термокружок', 8), ('тимьян', 8), ('штанга', 8), ('газание', 8), ('ложка', 7), ('ковер', 7), ('комплект', 7), ('хлорофитум', 7), ('насадка', 7), ('сметка', 7), ('декоративный', 7), ('косметь', 7), ('огурец', 7), ('алиссум', 7), ('виола', 7), ('крючок', 6), ('эхеверие', 6), ('вилка', 6), ('хризантема', 6), ('кофр', 6), ('корыто', 6), ('чайный', 6), ('стакан', 6), ('лаванда', 6), ('подставка', 6), ('кастрюля', 6), ('сидение', 6), ('окномойка', 6), ('настенный', 5), ('стяжка', 5), ('мирт', 5), (', ', 5), ('урна', 5), ('средство', 5), ('гвоздик', 5), ('жестяной', 5), ('весы', 5), ('этажерка', 5), ('термос', 5), ('махровый', 5), ('кофе', 5), ('подарочный', 5), ('рукав', 5), ('лавр', 5), ('табак', 5), ('камнеломка', 5), ('петрушка', 5), ('многолетний', 4), ('плед', 4), ('полотенце', 4), ('азалия', 4), ('tepмокружка', 4), ('зубной', 4), ('ящик', 4), ('коробка', 4), ('шнур', 4), ('мыло', 4), ('терка', 4), ('измельчитель', 4), ('лоток', 4), ('мимоза', 4), ('комод', 4), ('львиный', 4), ('покрывало', 4), ('фаленопсис', 4), ('простыня', 4), ('спатифиллум', 4), ('хлебница', 4), ('седум', 4), ('овсянница', 4), ('цинния', 4), ('патиссон', 4), ('мединилла', 4), ('покрытие', 4), ('стеклянный', 3), ('дозатор', 3), ('калатея', 3), ('гортензия', 3), ('сверло', 3), ('розмарин', 3), ('холодный', 3), ('овощеварка', 3), ('столовая', 3), ('паста', 3), ('петля', 3), ('стойка', 3), ('каланхое', 3), ('дендробиум', 3), ('термометр', 3), ('настурция', 3), ('ковш', 3), ('кухонный', 3), ('календула', 3), ('кореопсис', 3), ('лапчатка', 3), ('аптение', 3), ('разделочный', 3), ('емкость', 3), ('совок', 3), ('веник', 3), ('форма', 3), ('аквилегия', 3), ('земляника', 3), ('чабер', 3), ('миска', 3), ('вербейник', 3), ('котовник', 3), ('ясколка', 3), ('ткань', 3), ('гардения', 3), ('тагетис', 3), ('астра', 3), ('клубника', 3), ('нивянник', 3), ('стеллаж', 3), ('зверобой', 3), ('шеффлер', 2), ('доска', 2), ('толкушка', 2), ('подушка', 2), ('миксер', 2), ('цветущий', 2), ('кориандр', 2), ('аспарагус', 2), ('афеляндр', 2), ('фреза', 2), ('мусорный', 2), ('молодило', 2), ('гербера', 2), ('душица', 2), ('подголовник', 2), ('короб', 2), ('утюг', 2), ('сервировочный', 2), ('измерительный', 2), ('лопатка', 2), ('крассула', 2), ('бензин', 2), ('универсальный', 2), ('мантоварка', 2), ('сменный', 2), ('цинерария', 2), ('сетка', 2), ('диффенбахий', 2), ('кружок', 2), ('термостакан', 2), ('защитный', 2), ('табурет', 2), ('чайная', 2), ('вантуз', 2), ('столовый', 2), ('блюдце', 2), ('алоэ', 2), ('складной', 2), ('просеиватель', 2), ('отжим', 2), ('пылесос', 2), ('эхинокактус', 2), ('гипсофил', 2), ('укроп', 2), ('мять', 2), ('блюдо', 2), ('полк', 2), ('пепельница', 2), ('папоротник', 2), ('моп', 2), ('тряпкодержатель', 2), ('девичий', 2), ('бельевой', 2), ('колеус', 2), ('портулак', 2), ('аргирантерум', 2), ('вероника', 2), ('сальвия', 2), ('фатсия', 2), ('монард', 2), ('осина', 2), ('лен', 2), ('шпагат', 2), ('бидон', 2), ('лантан', 2), ('сельдерей', 2), ('крышка', 2), ('мешок', 2), ('сахарница', 2), ('соковарка', 2), ('салат', 2), ('радермахер', 1), ('хризолидокарпус', 1), ('юкка', 1), ('мини', 1), ('котел', 1), ('суккулент', 1), ('адиантум', 1), ('кампануть', 1), ('противень', 1), ('нолина', 1), ('глоксиния', 1), ('вкладыш', 1), ('стиральный', 1), ('чистить', 1), ('жидкий', 1), ('пена', 1), ('мелисса', 1), ('наматрасник', 1), ('наматрицник', 1), ('ножеточка', 1), ('настольный', 1), ('масленка', 1), ('халат', 1), ('линейка', 1), ('салфетница', 1), ('альбук', 1), ('овощечистка', 1), ('артемизия', 1), ('стрела', 1), ('держатель', 1), ('пробка', 1), ('губка', 1), ('фен', 1), ('калоцефалус', 1), ('антижир', 1), ('каллун', 1), ('капсикум', 1), ('соланум', 1), ('ролик', 1), ('бархатцы', 1), ('морковь', 1), ('шило', 1), ('рыбочистка', 1), ('картофелемялка', 1), ('ароматизированный', 1), ('бальзам', 1), ('годеция', 1), ('эшшольция', 1), ('рассекатель', 1), ('ополаскиватель', 1), ('подсолнечник', 1), ('пуансетия', 1), ('пресс', 1), ('гиностемма', 1), ('ель', 1), ('кипарисовик', 1), ('аптения', 1), ('мыльница', 1), ('кольцо', 1), ('фоторамка', 1), ('кондиционер', 1), ('фарфоровый', 1), ('электроштопор', 1), ('фиттоний', 1), ('бульонница', 1), ('ключница', 1), ('пароварка', 1), ('фикус', 1), ('гипоаллергенный', 1), ('перекладина', 1), ('модульный', 1), ('кодонант', 1), ('гимнокалициум', 1), ('крепеж', 1), ('нетканый', 1), ('фал', 1), ('орехоколка', 1), ('увлажнять', 1), ('крокус', 1), ('эпипремнум', 1), ('горох', 1), ('незабудка', 1), ('тюльпан', 1), ('штангенциркуль', 1), ('скраб', 1), ('гиацинт', 1), ('скалка', 1), ('ранункулус', 1), ('венчик', 1), ('сито', 1), ('бак', 1), ('концентрат', 1), ('тортница', 1), ('георгин', 1), ('смолевка', 1), ('эхинацея', 1), ('лилейник', 1), ('платикодон', 1), ('энотера', 1), ('цитрофортунелла', 1), ('пеперомия', 1), ('циния', 1), ('синнингия', 1), ('автоматический', 1), ('фиксатор', 1), ('шар', 1), ('мускарь', 1), ('пиретрум', 1), ('агератум', 1), ('цинерания', 1), ('муррайя', 1), ('калла', 1), ('левка', 1), ('баклажан', 1), ('маттиола', 1), ('лук', 1), ('целозия', 1), ('джункус', 1), ('драцена', 1), ('хост', 1), ('наволочка', 1), ('гайлардий', 1), ('рудбекия', 1), ('обувница', 1), ('3', 1), ('барвинок', 1), ('скребок', 1), ('пододеяльник', 1), ('сциндапсус', 1), ('пряный', 1), ('бузульник', 1), ('солидаго', 1), ('физостегия', 1), ('бадан', 1), ('антинакипин', 1), ('сотейник', 1), ('лаватер', 1), ('ванна', 1), ('анемон', 1), ('буддлей', 1), ('валериана', 1), ('змееголовник', 1), ('любисток', 1), ('шалфей', 1), ('корзинка', 1), ('ваза', 1), ('вигна', 1), ('кабачок', 1), ('тыква', 1), ('хамедорей', 1), ('прищепок', 1), ('отделитель', 1), ('шприц', 1), ('импатиенс', 1), ('клен', 1), ('веревка', 1), ('замиокулькас', 1), ('отбеливатель', 1), ('завертка', 1), ('ручка', 1), ('амариллис', 1), ('пьезозажигалка', 1), ('соковыжималка', 1), ('решетка', 1), ('запасный', 1), ('уголок', 1), ('вакуумный', 1), ('тряпка', 1), ('половник', 1), ('двуспальный', 1), ('пахира', 1), ('одеяло', 1), ('основание', 1), ('мерный', 1), ('литопс', 1), ('\\n', 1)]\n"
     ]
    }
   ],
   "source": [
    "m = Mystem()\n",
    "product_unique = m.lemmatize(' '.join(df['product_lemmas'].str.lower()))\n",
    "\n",
    "lemma_cnt = Counter(product_unique)\n",
    "print(lemma_cnt.most_common(460))"
   ]
  },
  {
   "cell_type": "markdown",
   "metadata": {},
   "source": [
    "На основании списка полученных лемм выделим следующие товарные категории:\n",
    "\n",
    "- мебель и декор\n",
    "- хозтовары \n",
    "- текстиль\n",
    "- растения\n",
    "- кухня\n",
    "- ремонт"
   ]
  },
  {
   "cell_type": "code",
   "execution_count": 98,
   "metadata": {
    "scrolled": true
   },
   "outputs": [
    {
     "data": {
      "text/html": [
       "<div>\n",
       "<style scoped>\n",
       "    .dataframe tbody tr th:only-of-type {\n",
       "        vertical-align: middle;\n",
       "    }\n",
       "\n",
       "    .dataframe tbody tr th {\n",
       "        vertical-align: top;\n",
       "    }\n",
       "\n",
       "    .dataframe thead th {\n",
       "        text-align: right;\n",
       "    }\n",
       "</style>\n",
       "<table border=\"1\" class=\"dataframe\">\n",
       "  <thead>\n",
       "    <tr style=\"text-align: right;\">\n",
       "      <th></th>\n",
       "      <th>date</th>\n",
       "      <th>customer_id</th>\n",
       "      <th>order_id</th>\n",
       "      <th>product</th>\n",
       "      <th>quantity</th>\n",
       "      <th>price</th>\n",
       "      <th>revenue</th>\n",
       "      <th>month</th>\n",
       "      <th>year</th>\n",
       "      <th>day</th>\n",
       "      <th>day_of_week</th>\n",
       "      <th>category</th>\n",
       "    </tr>\n",
       "  </thead>\n",
       "  <tbody>\n",
       "    <tr>\n",
       "      <th>0</th>\n",
       "      <td>2018-10-01</td>\n",
       "      <td>ee47d746-6d2f-4d3c-9622-c31412542920</td>\n",
       "      <td>68477</td>\n",
       "      <td>комнатное растение в горшке алое вера, d12, h30</td>\n",
       "      <td>1</td>\n",
       "      <td>142.0</td>\n",
       "      <td>142.0</td>\n",
       "      <td>10</td>\n",
       "      <td>2018</td>\n",
       "      <td>1</td>\n",
       "      <td>Monday</td>\n",
       "      <td>растения</td>\n",
       "    </tr>\n",
       "    <tr>\n",
       "      <th>1</th>\n",
       "      <td>2018-10-01</td>\n",
       "      <td>ee47d746-6d2f-4d3c-9622-c31412542920</td>\n",
       "      <td>68477</td>\n",
       "      <td>комнатное растение в горшке кофе арабика, d12,...</td>\n",
       "      <td>1</td>\n",
       "      <td>194.0</td>\n",
       "      <td>194.0</td>\n",
       "      <td>10</td>\n",
       "      <td>2018</td>\n",
       "      <td>1</td>\n",
       "      <td>Monday</td>\n",
       "      <td>растения</td>\n",
       "    </tr>\n",
       "    <tr>\n",
       "      <th>2</th>\n",
       "      <td>2018-10-01</td>\n",
       "      <td>ee47d746-6d2f-4d3c-9622-c31412542920</td>\n",
       "      <td>68477</td>\n",
       "      <td>радермахера d-12 см h-20 см</td>\n",
       "      <td>1</td>\n",
       "      <td>112.0</td>\n",
       "      <td>112.0</td>\n",
       "      <td>10</td>\n",
       "      <td>2018</td>\n",
       "      <td>1</td>\n",
       "      <td>Monday</td>\n",
       "      <td>растения</td>\n",
       "    </tr>\n",
       "    <tr>\n",
       "      <th>3</th>\n",
       "      <td>2018-10-01</td>\n",
       "      <td>ee47d746-6d2f-4d3c-9622-c31412542920</td>\n",
       "      <td>68477</td>\n",
       "      <td>хризолидокарпус лутесценс d-9 см</td>\n",
       "      <td>1</td>\n",
       "      <td>179.0</td>\n",
       "      <td>179.0</td>\n",
       "      <td>10</td>\n",
       "      <td>2018</td>\n",
       "      <td>1</td>\n",
       "      <td>Monday</td>\n",
       "      <td>растения</td>\n",
       "    </tr>\n",
       "    <tr>\n",
       "      <th>4</th>\n",
       "      <td>2018-10-01</td>\n",
       "      <td>ee47d746-6d2f-4d3c-9622-c31412542920</td>\n",
       "      <td>68477</td>\n",
       "      <td>циперус зумула d-12 см h-25 см</td>\n",
       "      <td>1</td>\n",
       "      <td>112.0</td>\n",
       "      <td>112.0</td>\n",
       "      <td>10</td>\n",
       "      <td>2018</td>\n",
       "      <td>1</td>\n",
       "      <td>Monday</td>\n",
       "      <td>растения</td>\n",
       "    </tr>\n",
       "  </tbody>\n",
       "</table>\n",
       "</div>"
      ],
      "text/plain": [
       "        date                           customer_id  order_id  \\\n",
       "0 2018-10-01  ee47d746-6d2f-4d3c-9622-c31412542920     68477   \n",
       "1 2018-10-01  ee47d746-6d2f-4d3c-9622-c31412542920     68477   \n",
       "2 2018-10-01  ee47d746-6d2f-4d3c-9622-c31412542920     68477   \n",
       "3 2018-10-01  ee47d746-6d2f-4d3c-9622-c31412542920     68477   \n",
       "4 2018-10-01  ee47d746-6d2f-4d3c-9622-c31412542920     68477   \n",
       "\n",
       "                                             product  quantity  price  \\\n",
       "0    комнатное растение в горшке алое вера, d12, h30         1  142.0   \n",
       "1  комнатное растение в горшке кофе арабика, d12,...         1  194.0   \n",
       "2                        радермахера d-12 см h-20 см         1  112.0   \n",
       "3                   хризолидокарпус лутесценс d-9 см         1  179.0   \n",
       "4                     циперус зумула d-12 см h-25 см         1  112.0   \n",
       "\n",
       "   revenue  month  year  day day_of_week  category  \n",
       "0    142.0     10  2018    1      Monday  растения  \n",
       "1    194.0     10  2018    1      Monday  растения  \n",
       "2    112.0     10  2018    1      Monday  растения  \n",
       "3    179.0     10  2018    1      Monday  растения  \n",
       "4    112.0     10  2018    1      Monday  растения  "
      ]
     },
     "execution_count": 98,
     "metadata": {},
     "output_type": "execute_result"
    }
   ],
   "source": [
    "# Cоздадим словарь с категориями и списком слов из лемм.\n",
    "\n",
    "category_dictionary = {\n",
    "    'мебель и декор':['бак','вакуумный','весы','петля','вешалка','вешалки','вкладыши','корзина','короб','коробка','кофр', \n",
    "                'крючок','обувная','лоток','мусора','монетчатый','мусорный','набор вешалок','петля', \n",
    "                'сумка','тележ','плечики','полки','решетка','складная','стеллаж','сумка','тележка',\n",
    "                'хозяйственная','урна','этажерка','ящик','подставка','стеллаж','комод','этажерка','пуф','обувниц',\n",
    "               'для обув','комод','защитный','обувница','обуви','искусственная', 'искусственный', 'декоративная', 'муляж', 'новогоднее', 'подарочный',\n",
    "            'фоторамка', 'муляж баклажан','карниз','светиль','фото',\n",
    "               'светильник'],\n",
    "    \n",
    "    'кухня':['банка','бидон','блюдо','блюдце','ваза','вилка','разделочная','емкость','жестяная','измельчитель',\n",
    "             'картофелемялка','кастрюля','кипятильник','кисточка','хлебница','интерьерный','кружка',\n",
    "             'крышка', 'кувшин', 'кухонное','кухонные','столовая','чайная','холодца','мантоварка',\n",
    "             'пароварка','масленка','мерный','стакан','миксер','мини-сковорода','миска','модульная', \n",
    "             'набор бокалов','набор для пикника','набор ножей','webber','набор стаканов','набор столовых приборов',\n",
    "             'набор фужеров','фужер','стакан','салатник','нож','ножеточка','овощеварка','овощечистка',\n",
    "             'просеиватель','противень','разделочная','салатник','салфетка','сковорода',\n",
    "             'скребок','соковарка','соковыжималка','стакан','стеклянная','тepмокружка','тарелка', 'терка',\n",
    "             'термокружка','толкушка','фал','форма','хлебница','ложка','чайная','чайник','электроштопор','сито', \n",
    "             'подставка для яйца'],\n",
    "    \n",
    "    'текстиль':['скатерть','подушка','покрывало','двуспальное','постельное','белье', 'ковер', 'кольца', 'штор', 'полотенце','штора', \n",
    "                'ковер', 'махровое','халат','набор ковров', 'наволочка', 'наматрасник', 'одеяло', 'плед', \n",
    "                'подкладка', 'чехол','полотенце','простыня','скатерть','халат','чехол','штора',\n",
    "                'простынь вафельная 200х180 см wellness', 'наматрацник natures бархатный', 'покрывало жаккард шенилл birhome',\n",
    "                'покрывало жаккард шенилл'],\n",
    "    \n",
    "    'растения':['а патио','седум','мирт','котовник','бакопа ','адиантум','азалия','аквилегия','алиссум','амариллис','альбука','андесса','антижир',\n",
    "           'арбуз','артемизия','аспарагус','астра','ахарница','бадан','базилик','баклажан',\n",
    "           'бакопа','бальза','барвинок','бархатцы','бегония','буддлея', 'бузульник', 'валериана', 'вербена',\n",
    "           'виола', 'газания', 'гвоздика','гардения', 'георгина', 'герань', 'гербера', 'гимнокалициум', 'гиностемма',\n",
    "           'гипсофила','годеция','горох','гортензия', 'декабрист','дендробиум', \n",
    "           'джункус', 'томата', 'диффенбахия','дыня', 'ель', 'чабер', 'замиокулькас', 'зверобой', 'земляника', \n",
    "           'змееголовник', 'импатиенс','иссоп','сантолина', 'кабачок', 'каланхое', 'календула', 'калибрахоа', \n",
    "           'калла', 'калоцефалус', 'камнеломка','кампанула', 'капуста', 'кипарисовик', 'клен', 'клубника',\n",
    "           'колокольчик', 'растение', 'кориандр','космея', 'крассула', 'крокусы','лаванда', 'мята', 'лантана', \n",
    "           'лапчатка','лен', 'литопс', 'порей', 'львиный', 'зев','любисток','мединилла','мелисса','многолетнее', 'молодило',\n",
    "           'петрушка','морковь', 'мята', 'настурция','незабудка','нолина', 'огурец', 'растение','однолетнее', 'осина',\n",
    "           'орехоколка','патиссон','пахира', 'пеларгония', 'пеларгония', 'петрушка', 'петуни',\n",
    "           'цветов','портулак', 'примула', 'пуансеттия','радермахера', 'роза','розмарин','рудбекия','скиммия', \n",
    "           'спатифиллум','суккулент','сциндапсус', 'тимьян','томат', 'томата', 'тюльпан', 'рассада', \n",
    "           'ранункулус','тыква', 'фаленопсис','фиалка', 'фикус', 'фиттония', 'флокс', 'фуксия', 'хризантема', \n",
    "           'целозия', 'цикламен', 'шалфей','эвкалипт','эпипремнум', 'эхеверия', 'эшшольция', 'ясколка', 'шеффлера',\n",
    "           'хризолидокарпус', 'циперус', 'юкка нитчатая', 'рассада зелени для кухни', 'нефролепис', 'овсянница сизая серый',\n",
    "           'хлорофитум'],\n",
    "    \n",
    "    'хозтовары':['ароматизиро','сушилка для белья','сушилка','белье', 'прищепки','веник','гипоаллергенный','гель','гладильная','набор vileda', \n",
    "              'набор прищепок','доска','губка','гладильная','защитная','соль','кондиционер','контейнер','стирки', \n",
    "              'насадка', 'насадка','швабры','мытья','швабре','сушилка','настенная','настурция','ведра', \n",
    "              'пена','перчатки','тряп','швабр','совок','гладил','глажен','прищеп','налет','антижир','пылесос','крем', \n",
    "              'стир', 'щетка','сушилк','веник','подрукавник','совком', 'для чистки','стирки','мыть', 'средство',\n",
    "              'мойк', 'утюг', 'покрытие','гладильной', 'пылесос','гладильной','совок','щетка','средство', \n",
    "              'таз','тряпка','корзина','швабра','щетка','средство', 'таз', 'корыто', 'паста для полировки', \n",
    "              'вантуз', 'швабр','губка','веник','сменный','дозатор', 'насадка', 'сметка', 'скребок', 'окномойка',\n",
    "              'совок','чистящий','чистки','антижир','ведр','ерш','тряпка','отбеливатель','для стирки','стиральный',\n",
    "              'сушилка для белья', 'настенная сушилка для', 'чехол для гладильной доски', 'сушилка для белья',\n",
    "              'ароматизированное средство дудаления', 'чехол для гладильной доски', 'сушилка для белья', 'attribute', 'gimi',\n",
    "              'сушилка для белья потолочная лиана люкс', 'сушилка для белья потолочная лиана люкс', \n",
    "              'сушилка для белья потолочная zalger lift basic', 'linomatic', 'сушилка уличная', 'leifheit','ванна','вантуз','ведро','держатель','дозатор','ерш','запасная','ванной','коврик','ванной', \n",
    "              'ковш','мыльница','ванн','подголовник','пробка','унитаза', 'сушилка уличная leifheit 85210 linomatic v 400 40 м 175х237х237','зубная','мыло','жидкое','мыло-скраб','увлажняющая','маска','фен'],\n",
    "\n",
    "    \n",
    "    'ремонт':['инструмент','сверел','сверло','напильник','стремянк','стяжк','шпингалет','сварка',\n",
    "                   'миксер','крепеж','пружин','петл','линейк','гои','бензин','завертка','крепеж','лестница',\n",
    "                   'линейка','лопатка','шнур','строительного','многофункциональный','набор прецизионных','полировки',\n",
    "                   'пьезозажигалка', 'ручка','сверло','сетка','сметка','стремянка','стяжка','термометр',\n",
    "                   'уголок','фарфоровая','сварка','шило','шнур','шпагат','штангенциркуль', 'чехол eurogold reflector' ],\n",
    "    \n",
    "    \n",
    "}\n",
    "# Напишем функцию которая вернет категорию по значению ‘product’.\n",
    "def categorize_product(product):\n",
    "    for category, items_of_list in category_dictionary.items():\n",
    "        for item in items_of_list:\n",
    "            if item in product:\n",
    "                return category\n",
    "    return category\n",
    "# создадим отдельный столбец с категориями по наименованию товара.\n",
    "df['category'] = df['product'].apply(categorize_product)\n",
    "df= df.drop('product_lemmas', axis=1)\n",
    "df.head()"
   ]
  },
  {
   "cell_type": "code",
   "execution_count": 99,
   "metadata": {},
   "outputs": [
    {
     "data": {
      "text/html": [
       "<div>\n",
       "<style scoped>\n",
       "    .dataframe tbody tr th:only-of-type {\n",
       "        vertical-align: middle;\n",
       "    }\n",
       "\n",
       "    .dataframe tbody tr th {\n",
       "        vertical-align: top;\n",
       "    }\n",
       "\n",
       "    .dataframe thead th {\n",
       "        text-align: right;\n",
       "    }\n",
       "</style>\n",
       "<table border=\"1\" class=\"dataframe\">\n",
       "  <thead>\n",
       "    <tr style=\"text-align: right;\">\n",
       "      <th></th>\n",
       "      <th>date</th>\n",
       "      <th>customer_id</th>\n",
       "      <th>order_id</th>\n",
       "      <th>product</th>\n",
       "      <th>quantity</th>\n",
       "      <th>price</th>\n",
       "      <th>revenue</th>\n",
       "      <th>month</th>\n",
       "      <th>year</th>\n",
       "      <th>day</th>\n",
       "      <th>day_of_week</th>\n",
       "      <th>category</th>\n",
       "    </tr>\n",
       "  </thead>\n",
       "  <tbody>\n",
       "  </tbody>\n",
       "</table>\n",
       "</div>"
      ],
      "text/plain": [
       "Empty DataFrame\n",
       "Columns: [date, customer_id, order_id, product, quantity, price, revenue, month, year, day, day_of_week, category]\n",
       "Index: []"
      ]
     },
     "execution_count": 99,
     "metadata": {},
     "output_type": "execute_result"
    }
   ],
   "source": [
    "# Проверяем, есть ли еще продукты без категории\n",
    "df.query('category == 0')"
   ]
  },
  {
   "cell_type": "code",
   "execution_count": 100,
   "metadata": {},
   "outputs": [
    {
     "data": {
      "text/html": [
       "<div>\n",
       "<style scoped>\n",
       "    .dataframe tbody tr th:only-of-type {\n",
       "        vertical-align: middle;\n",
       "    }\n",
       "\n",
       "    .dataframe tbody tr th {\n",
       "        vertical-align: top;\n",
       "    }\n",
       "\n",
       "    .dataframe thead th {\n",
       "        text-align: right;\n",
       "    }\n",
       "</style>\n",
       "<table border=\"1\" class=\"dataframe\">\n",
       "  <thead>\n",
       "    <tr style=\"text-align: right;\">\n",
       "      <th></th>\n",
       "      <th>date</th>\n",
       "      <th>customer_id</th>\n",
       "      <th>order_id</th>\n",
       "      <th>product</th>\n",
       "      <th>quantity</th>\n",
       "      <th>price</th>\n",
       "      <th>revenue</th>\n",
       "      <th>month</th>\n",
       "      <th>year</th>\n",
       "      <th>day</th>\n",
       "      <th>day_of_week</th>\n",
       "      <th>category</th>\n",
       "      <th>season</th>\n",
       "    </tr>\n",
       "  </thead>\n",
       "  <tbody>\n",
       "    <tr>\n",
       "      <th>2933</th>\n",
       "      <td>2019-04-17 20:00:00</td>\n",
       "      <td>f83eedd3-aaad-48ed-9977-55f6046477a3</td>\n",
       "      <td>14655</td>\n",
       "      <td>настурция лунный свет 1 г 4660010779660</td>\n",
       "      <td>1</td>\n",
       "      <td>12.0</td>\n",
       "      <td>12.0</td>\n",
       "      <td>4</td>\n",
       "      <td>2019</td>\n",
       "      <td>3</td>\n",
       "      <td>Wednesday</td>\n",
       "      <td>растения</td>\n",
       "      <td>весна</td>\n",
       "    </tr>\n",
       "  </tbody>\n",
       "</table>\n",
       "</div>"
      ],
      "text/plain": [
       "                    date                           customer_id  order_id  \\\n",
       "2933 2019-04-17 20:00:00  f83eedd3-aaad-48ed-9977-55f6046477a3     14655   \n",
       "\n",
       "                                      product  quantity  price  revenue  \\\n",
       "2933  настурция лунный свет 1 г 4660010779660         1   12.0     12.0   \n",
       "\n",
       "      month  year  day day_of_week  category season  \n",
       "2933      4  2019    3   Wednesday  растения  весна  "
      ]
     },
     "execution_count": 100,
     "metadata": {},
     "output_type": "execute_result"
    }
   ],
   "source": [
    "#Выделим сезоны\n",
    "def season_p(num):\n",
    "    for month in range(1,12,1):\n",
    "        if num in (1,2,12):\n",
    "            return 'зима'\n",
    "        if num in (3,4,5):\n",
    "            return 'весна'\n",
    "        if num in (6,7,8):\n",
    "            return 'лето'        \n",
    "        else:\n",
    "            return 'осень'\n",
    "df['season']= df['month'].apply(season_p)        \n",
    "df.sample()"
   ]
  },
  {
   "cell_type": "markdown",
   "metadata": {},
   "source": [
    "### Анализ товарного ассортимента"
   ]
  },
  {
   "cell_type": "code",
   "execution_count": 101,
   "metadata": {},
   "outputs": [
    {
     "data": {
      "text/html": [
       "<div>\n",
       "<style scoped>\n",
       "    .dataframe tbody tr th:only-of-type {\n",
       "        vertical-align: middle;\n",
       "    }\n",
       "\n",
       "    .dataframe tbody tr th {\n",
       "        vertical-align: top;\n",
       "    }\n",
       "\n",
       "    .dataframe thead th {\n",
       "        text-align: right;\n",
       "    }\n",
       "</style>\n",
       "<table border=\"1\" class=\"dataframe\">\n",
       "  <thead>\n",
       "    <tr style=\"text-align: right;\">\n",
       "      <th></th>\n",
       "      <th>order_id</th>\n",
       "      <th>customer_id</th>\n",
       "      <th>quantity</th>\n",
       "      <th>revenue</th>\n",
       "    </tr>\n",
       "    <tr>\n",
       "      <th>category</th>\n",
       "      <th></th>\n",
       "      <th></th>\n",
       "      <th></th>\n",
       "      <th></th>\n",
       "    </tr>\n",
       "  </thead>\n",
       "  <tbody>\n",
       "    <tr>\n",
       "      <th>кухня</th>\n",
       "      <td>247</td>\n",
       "      <td>239</td>\n",
       "      <td>1080</td>\n",
       "      <td>229912.0</td>\n",
       "    </tr>\n",
       "    <tr>\n",
       "      <th>мебель и декор</th>\n",
       "      <td>746</td>\n",
       "      <td>707</td>\n",
       "      <td>3093</td>\n",
       "      <td>1092069.0</td>\n",
       "    </tr>\n",
       "    <tr>\n",
       "      <th>растения</th>\n",
       "      <td>924</td>\n",
       "      <td>854</td>\n",
       "      <td>3639</td>\n",
       "      <td>726456.0</td>\n",
       "    </tr>\n",
       "    <tr>\n",
       "      <th>ремонт</th>\n",
       "      <td>161</td>\n",
       "      <td>156</td>\n",
       "      <td>418</td>\n",
       "      <td>167338.0</td>\n",
       "    </tr>\n",
       "    <tr>\n",
       "      <th>текстиль</th>\n",
       "      <td>209</td>\n",
       "      <td>200</td>\n",
       "      <td>343</td>\n",
       "      <td>291938.0</td>\n",
       "    </tr>\n",
       "    <tr>\n",
       "      <th>хозтовары</th>\n",
       "      <td>382</td>\n",
       "      <td>370</td>\n",
       "      <td>954</td>\n",
       "      <td>494285.0</td>\n",
       "    </tr>\n",
       "  </tbody>\n",
       "</table>\n",
       "</div>"
      ],
      "text/plain": [
       "                order_id  customer_id  quantity    revenue\n",
       "category                                                  \n",
       "кухня                247          239      1080   229912.0\n",
       "мебель и декор       746          707      3093  1092069.0\n",
       "растения             924          854      3639   726456.0\n",
       "ремонт               161          156       418   167338.0\n",
       "текстиль             209          200       343   291938.0\n",
       "хозтовары            382          370       954   494285.0"
      ]
     },
     "metadata": {},
     "output_type": "display_data"
    }
   ],
   "source": [
    "# Сгруппируем данные по категориям.\n",
    "groupby_category = df.groupby('category').agg({ 'order_id':'nunique',\n",
    "                                                      'customer_id':'nunique', 'quantity':'sum','revenue':'sum'})\n",
    "\n",
    "display(groupby_category)"
   ]
  },
  {
   "cell_type": "code",
   "execution_count": 102,
   "metadata": {},
   "outputs": [
    {
     "data": {
      "image/png": "[encoded data removed]",
      "text/plain": [
       "<Figure size 720x504 with 1 Axes>"
      ]
     },
     "metadata": {},
     "output_type": "display_data"
    }
   ],
   "source": [
    "# Построим график по сумме выручки по категориям.\n",
    "groupby_category.plot(kind='bar', y=['revenue'], figsize=(10,7), grid=True, \n",
    "                      fontsize=10, legend=False)\n",
    "plt.xticks(rotation=45)\n",
    "plt.title('Сумма выручки по категориям.', fontsize=10)\n",
    "plt.xlabel('Категории')\n",
    "plt.ylabel('Cумма выручки')\n",
    "plt.show()"
   ]
  },
  {
   "cell_type": "code",
   "execution_count": 103,
   "metadata": {},
   "outputs": [
    {
     "data": {
      "image/png": "[encoded data removed]",
      "text/plain": [
       "<Figure size 720x504 with 1 Axes>"
      ]
     },
     "metadata": {},
     "output_type": "display_data"
    }
   ],
   "source": [
    "# Построим график по кол-ву заказов по категориям.\n",
    "groupby_category.plot(kind='bar', y=['order_id'], figsize=(10,7), grid=True, \n",
    "                      fontsize=16, legend=False)\n",
    "plt.xticks(rotation=45)\n",
    "plt.title('Кол-во заказов по категориям.', fontsize=10)\n",
    "plt.xlabel('Категории')\n",
    "plt.ylabel('Кол-во заказов')\n",
    "plt.show()"
   ]
  },
  {
   "cell_type": "code",
   "execution_count": 104,
   "metadata": {},
   "outputs": [
    {
     "data": {
      "image/png": "[encoded data removed]",
      "text/plain": [
       "<Figure size 1440x720 with 1 Axes>"
      ]
     },
     "metadata": {},
     "output_type": "display_data"
    }
   ],
   "source": [
    "#Построим график выручки по сезонам\n",
    "sns.set(rc = {'figure.figsize':(20,10)})\n",
    "sns.barplot(x='season', y='revenue', hue='category', data=df, estimator=sum)\n",
    "plt.title('Распределение выручки по сезонам',fontsize =20)\n",
    "plt.show()"
   ]
  },
  {
   "cell_type": "markdown",
   "metadata": {},
   "source": [
    "### Выводы: \n",
    "\n",
    "Наибольшая выручка с продаж осенью и зимой,летом выручка минимальна.\n",
    "\n",
    "Разделили товары на категории:мебель и декор,хозтовары,текстиль,растения,кухня,ремонт.\n",
    "\n",
    "По сумме выручки с продаж лидирует категория - \"мебель и декор\", на втором месте- \"растения\", минимум у \n",
    "\n",
    "категории \"ремонт\".\n",
    "\n",
    "По количеству продаж лидирует категория - \"растения\", на втором месте- \"мебель и декор\", минимум у \n",
    "\n",
    "категории \"ремонт\"."
   ]
  },
  {
   "cell_type": "markdown",
   "metadata": {},
   "source": [
    "## Сегментация покупателей на основе данных о покупках"
   ]
  },
  {
   "cell_type": "markdown",
   "metadata": {},
   "source": [
    "###  Построим матрицу расстояний функцией linkage() на стандартизованной матрице признаков и нарисуем дендрограмму.\n"
   ]
  },
  {
   "cell_type": "code",
   "execution_count": 105,
   "metadata": {
    "scrolled": true
   },
   "outputs": [
    {
     "data": {
      "text/html": [
       "<div>\n",
       "<style scoped>\n",
       "    .dataframe tbody tr th:only-of-type {\n",
       "        vertical-align: middle;\n",
       "    }\n",
       "\n",
       "    .dataframe tbody tr th {\n",
       "        vertical-align: top;\n",
       "    }\n",
       "\n",
       "    .dataframe thead th {\n",
       "        text-align: right;\n",
       "    }\n",
       "</style>\n",
       "<table border=\"1\" class=\"dataframe\">\n",
       "  <thead>\n",
       "    <tr style=\"text-align: right;\">\n",
       "      <th></th>\n",
       "      <th>customer_id</th>\n",
       "      <th>orders</th>\n",
       "      <th>avg_products</th>\n",
       "      <th>avg_quantity</th>\n",
       "      <th>avg_price</th>\n",
       "      <th>sum_revenue</th>\n",
       "    </tr>\n",
       "  </thead>\n",
       "  <tbody>\n",
       "    <tr>\n",
       "      <th>0</th>\n",
       "      <td>000d6849-084e-4d9f-ac03-37174eaf60c4</td>\n",
       "      <td>1</td>\n",
       "      <td>4.0</td>\n",
       "      <td>1.0</td>\n",
       "      <td>138.75</td>\n",
       "      <td>555.0</td>\n",
       "    </tr>\n",
       "    <tr>\n",
       "      <th>1</th>\n",
       "      <td>001cee7f-0b29-4716-b202-0042213ab038</td>\n",
       "      <td>1</td>\n",
       "      <td>1.0</td>\n",
       "      <td>1.0</td>\n",
       "      <td>442.00</td>\n",
       "      <td>442.0</td>\n",
       "    </tr>\n",
       "    <tr>\n",
       "      <th>2</th>\n",
       "      <td>00299f34-5385-4d13-9aea-c80b81658e1b</td>\n",
       "      <td>1</td>\n",
       "      <td>1.0</td>\n",
       "      <td>2.0</td>\n",
       "      <td>457.00</td>\n",
       "      <td>914.0</td>\n",
       "    </tr>\n",
       "    <tr>\n",
       "      <th>3</th>\n",
       "      <td>002d4d3a-4a59-406b-86ec-c3314357e498</td>\n",
       "      <td>1</td>\n",
       "      <td>1.0</td>\n",
       "      <td>1.0</td>\n",
       "      <td>1649.00</td>\n",
       "      <td>1649.0</td>\n",
       "    </tr>\n",
       "    <tr>\n",
       "      <th>4</th>\n",
       "      <td>003bbd39-0000-41ff-b7f9-2ddaec152037</td>\n",
       "      <td>1</td>\n",
       "      <td>1.0</td>\n",
       "      <td>2.0</td>\n",
       "      <td>1162.00</td>\n",
       "      <td>2324.0</td>\n",
       "    </tr>\n",
       "  </tbody>\n",
       "</table>\n",
       "</div>"
      ],
      "text/plain": [
       "                            customer_id  orders  avg_products  avg_quantity  \\\n",
       "0  000d6849-084e-4d9f-ac03-37174eaf60c4       1           4.0           1.0   \n",
       "1  001cee7f-0b29-4716-b202-0042213ab038       1           1.0           1.0   \n",
       "2  00299f34-5385-4d13-9aea-c80b81658e1b       1           1.0           2.0   \n",
       "3  002d4d3a-4a59-406b-86ec-c3314357e498       1           1.0           1.0   \n",
       "4  003bbd39-0000-41ff-b7f9-2ddaec152037       1           1.0           2.0   \n",
       "\n",
       "   avg_price  sum_revenue  \n",
       "0     138.75        555.0  \n",
       "1     442.00        442.0  \n",
       "2     457.00        914.0  \n",
       "3    1649.00       1649.0  \n",
       "4    1162.00       2324.0  "
      ]
     },
     "execution_count": 105,
     "metadata": {},
     "output_type": "execute_result"
    }
   ],
   "source": [
    "# Проведем кластеризацию пользователей\n",
    "clusters = df.groupby(['customer_id', 'order_id']).agg({'product':'nunique', 'quantity':'mean', 'price':'mean', 'revenue':'sum', }).reset_index()\n",
    "clusters = clusters.groupby('customer_id').agg({'order_id':'count', 'product':'mean', 'quantity':'mean', 'price':'mean', 'revenue':'sum', }).reset_index()\n",
    "clusters.columns = ['customer_id', 'orders', 'avg_products', 'avg_quantity', 'avg_price', 'sum_revenue']\n",
    "clusters.head()"
   ]
  },
  {
   "cell_type": "code",
   "execution_count": 106,
   "metadata": {},
   "outputs": [
    {
     "data": {
      "image/png": "[encoded data removed]",
      "text/plain": [
       "<Figure size 1152x648 with 1 Axes>"
      ]
     },
     "metadata": {},
     "output_type": "display_data"
    }
   ],
   "source": [
    "# Стандартизируем данные\n",
    "sc = StandardScaler()\n",
    "X_sc = sc.fit_transform(clusters.drop('customer_id', axis = 1))\n",
    "\n",
    "# Строим матрицу расстояний и визуализируем ее дендограммой\n",
    "linked = linkage(X_sc, method = 'ward')\n",
    "plt.figure(figsize=(16, 9))\n",
    "dendrogram(linked, orientation='top', no_labels=True)\n",
    "\n",
    "plt.title('Иерархическая кластеризация- дендрограмма', fontsize=14)\n",
    "plt.show()"
   ]
  },
  {
   "cell_type": "markdown",
   "metadata": {},
   "source": [
    "### Обучим модель кластеризации на основании алгоритма K-Means и спрогнозируем сегменты покупателей."
   ]
  },
  {
   "cell_type": "code",
   "execution_count": 107,
   "metadata": {},
   "outputs": [
    {
     "data": {
      "text/html": [
       "<div>\n",
       "<style scoped>\n",
       "    .dataframe tbody tr th:only-of-type {\n",
       "        vertical-align: middle;\n",
       "    }\n",
       "\n",
       "    .dataframe tbody tr th {\n",
       "        vertical-align: top;\n",
       "    }\n",
       "\n",
       "    .dataframe thead th {\n",
       "        text-align: right;\n",
       "    }\n",
       "</style>\n",
       "<table border=\"1\" class=\"dataframe\">\n",
       "  <thead>\n",
       "    <tr style=\"text-align: right;\">\n",
       "      <th></th>\n",
       "      <th>customer_id</th>\n",
       "      <th>orders</th>\n",
       "      <th>avg_products</th>\n",
       "      <th>avg_quantity</th>\n",
       "      <th>avg_price</th>\n",
       "      <th>sum_revenue</th>\n",
       "      <th>cluster_km</th>\n",
       "    </tr>\n",
       "  </thead>\n",
       "  <tbody>\n",
       "    <tr>\n",
       "      <th>0</th>\n",
       "      <td>000d6849-084e-4d9f-ac03-37174eaf60c4</td>\n",
       "      <td>1</td>\n",
       "      <td>4.0</td>\n",
       "      <td>1.0</td>\n",
       "      <td>138.75</td>\n",
       "      <td>555.0</td>\n",
       "      <td>1</td>\n",
       "    </tr>\n",
       "    <tr>\n",
       "      <th>1</th>\n",
       "      <td>001cee7f-0b29-4716-b202-0042213ab038</td>\n",
       "      <td>1</td>\n",
       "      <td>1.0</td>\n",
       "      <td>1.0</td>\n",
       "      <td>442.00</td>\n",
       "      <td>442.0</td>\n",
       "      <td>1</td>\n",
       "    </tr>\n",
       "    <tr>\n",
       "      <th>2</th>\n",
       "      <td>00299f34-5385-4d13-9aea-c80b81658e1b</td>\n",
       "      <td>1</td>\n",
       "      <td>1.0</td>\n",
       "      <td>2.0</td>\n",
       "      <td>457.00</td>\n",
       "      <td>914.0</td>\n",
       "      <td>1</td>\n",
       "    </tr>\n",
       "    <tr>\n",
       "      <th>3</th>\n",
       "      <td>002d4d3a-4a59-406b-86ec-c3314357e498</td>\n",
       "      <td>1</td>\n",
       "      <td>1.0</td>\n",
       "      <td>1.0</td>\n",
       "      <td>1649.00</td>\n",
       "      <td>1649.0</td>\n",
       "      <td>1</td>\n",
       "    </tr>\n",
       "    <tr>\n",
       "      <th>4</th>\n",
       "      <td>003bbd39-0000-41ff-b7f9-2ddaec152037</td>\n",
       "      <td>1</td>\n",
       "      <td>1.0</td>\n",
       "      <td>2.0</td>\n",
       "      <td>1162.00</td>\n",
       "      <td>2324.0</td>\n",
       "      <td>1</td>\n",
       "    </tr>\n",
       "    <tr>\n",
       "      <th>...</th>\n",
       "      <td>...</td>\n",
       "      <td>...</td>\n",
       "      <td>...</td>\n",
       "      <td>...</td>\n",
       "      <td>...</td>\n",
       "      <td>...</td>\n",
       "      <td>...</td>\n",
       "    </tr>\n",
       "    <tr>\n",
       "      <th>2369</th>\n",
       "      <td>ff601403-b094-4b86-9ac6-264d725b9277</td>\n",
       "      <td>1</td>\n",
       "      <td>1.0</td>\n",
       "      <td>1.0</td>\n",
       "      <td>1649.00</td>\n",
       "      <td>1649.0</td>\n",
       "      <td>1</td>\n",
       "    </tr>\n",
       "    <tr>\n",
       "      <th>2370</th>\n",
       "      <td>ffaeab76-3a8d-49ee-860f-17273b2fc8a2</td>\n",
       "      <td>1</td>\n",
       "      <td>1.0</td>\n",
       "      <td>1.0</td>\n",
       "      <td>397.00</td>\n",
       "      <td>397.0</td>\n",
       "      <td>1</td>\n",
       "    </tr>\n",
       "    <tr>\n",
       "      <th>2371</th>\n",
       "      <td>ffb5976a-7a4d-460b-95c4-5ffaba31cb24</td>\n",
       "      <td>1</td>\n",
       "      <td>1.0</td>\n",
       "      <td>1.0</td>\n",
       "      <td>389.00</td>\n",
       "      <td>389.0</td>\n",
       "      <td>1</td>\n",
       "    </tr>\n",
       "    <tr>\n",
       "      <th>2372</th>\n",
       "      <td>ffb80538-3fda-4351-8ea9-9d2bec58bb07</td>\n",
       "      <td>1</td>\n",
       "      <td>1.0</td>\n",
       "      <td>1.0</td>\n",
       "      <td>974.00</td>\n",
       "      <td>974.0</td>\n",
       "      <td>1</td>\n",
       "    </tr>\n",
       "    <tr>\n",
       "      <th>2373</th>\n",
       "      <td>ffe82299-3f5b-4214-87fe-3d36ecccfac3</td>\n",
       "      <td>1</td>\n",
       "      <td>1.0</td>\n",
       "      <td>1.0</td>\n",
       "      <td>577.00</td>\n",
       "      <td>577.0</td>\n",
       "      <td>1</td>\n",
       "    </tr>\n",
       "  </tbody>\n",
       "</table>\n",
       "<p>2374 rows × 7 columns</p>\n",
       "</div>"
      ],
      "text/plain": [
       "                               customer_id  orders  avg_products  \\\n",
       "0     000d6849-084e-4d9f-ac03-37174eaf60c4       1           4.0   \n",
       "1     001cee7f-0b29-4716-b202-0042213ab038       1           1.0   \n",
       "2     00299f34-5385-4d13-9aea-c80b81658e1b       1           1.0   \n",
       "3     002d4d3a-4a59-406b-86ec-c3314357e498       1           1.0   \n",
       "4     003bbd39-0000-41ff-b7f9-2ddaec152037       1           1.0   \n",
       "...                                    ...     ...           ...   \n",
       "2369  ff601403-b094-4b86-9ac6-264d725b9277       1           1.0   \n",
       "2370  ffaeab76-3a8d-49ee-860f-17273b2fc8a2       1           1.0   \n",
       "2371  ffb5976a-7a4d-460b-95c4-5ffaba31cb24       1           1.0   \n",
       "2372  ffb80538-3fda-4351-8ea9-9d2bec58bb07       1           1.0   \n",
       "2373  ffe82299-3f5b-4214-87fe-3d36ecccfac3       1           1.0   \n",
       "\n",
       "      avg_quantity  avg_price  sum_revenue  cluster_km  \n",
       "0              1.0     138.75        555.0           1  \n",
       "1              1.0     442.00        442.0           1  \n",
       "2              2.0     457.00        914.0           1  \n",
       "3              1.0    1649.00       1649.0           1  \n",
       "4              2.0    1162.00       2324.0           1  \n",
       "...            ...        ...          ...         ...  \n",
       "2369           1.0    1649.00       1649.0           1  \n",
       "2370           1.0     397.00        397.0           1  \n",
       "2371           1.0     389.00        389.0           1  \n",
       "2372           1.0     974.00        974.0           1  \n",
       "2373           1.0     577.00        577.0           1  \n",
       "\n",
       "[2374 rows x 7 columns]"
      ]
     },
     "execution_count": 107,
     "metadata": {},
     "output_type": "execute_result"
    }
   ],
   "source": [
    "km = KMeans(n_clusters = 4, random_state = 0)\n",
    "labels = km.fit_predict(X_sc)\n",
    "clusters['cluster_km'] = labels\n",
    "clusters"
   ]
  },
  {
   "cell_type": "code",
   "execution_count": 108,
   "metadata": {},
   "outputs": [
    {
     "data": {
      "text/html": [
       "<div>\n",
       "<style scoped>\n",
       "    .dataframe tbody tr th:only-of-type {\n",
       "        vertical-align: middle;\n",
       "    }\n",
       "\n",
       "    .dataframe tbody tr th {\n",
       "        vertical-align: top;\n",
       "    }\n",
       "\n",
       "    .dataframe thead th {\n",
       "        text-align: right;\n",
       "    }\n",
       "</style>\n",
       "<table border=\"1\" class=\"dataframe\">\n",
       "  <thead>\n",
       "    <tr style=\"text-align: right;\">\n",
       "      <th>cluster_km</th>\n",
       "      <th>0</th>\n",
       "      <th>1</th>\n",
       "      <th>2</th>\n",
       "      <th>3</th>\n",
       "    </tr>\n",
       "  </thead>\n",
       "  <tbody>\n",
       "    <tr>\n",
       "      <th>orders</th>\n",
       "      <td>2.0</td>\n",
       "      <td>1.0</td>\n",
       "      <td>1.0</td>\n",
       "      <td>1.0</td>\n",
       "    </tr>\n",
       "    <tr>\n",
       "      <th>avg_products</th>\n",
       "      <td>2.0</td>\n",
       "      <td>2.0</td>\n",
       "      <td>1.0</td>\n",
       "      <td>1.0</td>\n",
       "    </tr>\n",
       "    <tr>\n",
       "      <th>avg_quantity</th>\n",
       "      <td>2.0</td>\n",
       "      <td>2.0</td>\n",
       "      <td>1.0</td>\n",
       "      <td>32.0</td>\n",
       "    </tr>\n",
       "    <tr>\n",
       "      <th>avg_price</th>\n",
       "      <td>477.0</td>\n",
       "      <td>521.0</td>\n",
       "      <td>3766.0</td>\n",
       "      <td>103.0</td>\n",
       "    </tr>\n",
       "    <tr>\n",
       "      <th>sum_revenue</th>\n",
       "      <td>1576.0</td>\n",
       "      <td>794.0</td>\n",
       "      <td>5008.0</td>\n",
       "      <td>3235.0</td>\n",
       "    </tr>\n",
       "  </tbody>\n",
       "</table>\n",
       "</div>"
      ],
      "text/plain": [
       "cluster_km         0      1       2       3\n",
       "orders           2.0    1.0     1.0     1.0\n",
       "avg_products     2.0    2.0     1.0     1.0\n",
       "avg_quantity     2.0    2.0     1.0    32.0\n",
       "avg_price      477.0  521.0  3766.0   103.0\n",
       "sum_revenue   1576.0  794.0  5008.0  3235.0"
      ]
     },
     "execution_count": 108,
     "metadata": {},
     "output_type": "execute_result"
    }
   ],
   "source": [
    "round(clusters.groupby('cluster_km').mean().T)"
   ]
  },
  {
   "cell_type": "markdown",
   "metadata": {},
   "source": [
    "### Посмотрим на статистику по сегментам покупателей."
   ]
  },
  {
   "cell_type": "code",
   "execution_count": 127,
   "metadata": {
    "scrolled": true
   },
   "outputs": [
    {
     "data": {
      "text/html": [
       "<div>\n",
       "<style scoped>\n",
       "    .dataframe tbody tr th:only-of-type {\n",
       "        vertical-align: middle;\n",
       "    }\n",
       "\n",
       "    .dataframe tbody tr th {\n",
       "        vertical-align: top;\n",
       "    }\n",
       "\n",
       "    .dataframe thead th {\n",
       "        text-align: right;\n",
       "    }\n",
       "</style>\n",
       "<table border=\"1\" class=\"dataframe\">\n",
       "  <thead>\n",
       "    <tr style=\"text-align: right;\">\n",
       "      <th></th>\n",
       "      <th>date</th>\n",
       "      <th>customer_id</th>\n",
       "      <th>order_id</th>\n",
       "      <th>product</th>\n",
       "      <th>quantity</th>\n",
       "      <th>price</th>\n",
       "      <th>revenue</th>\n",
       "      <th>month</th>\n",
       "      <th>year</th>\n",
       "      <th>day</th>\n",
       "      <th>day_of_week</th>\n",
       "      <th>category</th>\n",
       "      <th>season</th>\n",
       "      <th>cluster_km</th>\n",
       "    </tr>\n",
       "  </thead>\n",
       "  <tbody>\n",
       "    <tr>\n",
       "      <th>0</th>\n",
       "      <td>2018-10-01 00:00:00</td>\n",
       "      <td>ee47d746-6d2f-4d3c-9622-c31412542920</td>\n",
       "      <td>68477</td>\n",
       "      <td>комнатное растение в горшке алое вера, d12, h30</td>\n",
       "      <td>1</td>\n",
       "      <td>142.0</td>\n",
       "      <td>142.0</td>\n",
       "      <td>10</td>\n",
       "      <td>2018</td>\n",
       "      <td>1</td>\n",
       "      <td>Monday</td>\n",
       "      <td>растения</td>\n",
       "      <td>осень</td>\n",
       "      <td>1</td>\n",
       "    </tr>\n",
       "    <tr>\n",
       "      <th>1</th>\n",
       "      <td>2018-10-01 00:00:00</td>\n",
       "      <td>ee47d746-6d2f-4d3c-9622-c31412542920</td>\n",
       "      <td>68477</td>\n",
       "      <td>комнатное растение в горшке кофе арабика, d12,...</td>\n",
       "      <td>1</td>\n",
       "      <td>194.0</td>\n",
       "      <td>194.0</td>\n",
       "      <td>10</td>\n",
       "      <td>2018</td>\n",
       "      <td>1</td>\n",
       "      <td>Monday</td>\n",
       "      <td>растения</td>\n",
       "      <td>осень</td>\n",
       "      <td>1</td>\n",
       "    </tr>\n",
       "    <tr>\n",
       "      <th>2</th>\n",
       "      <td>2018-10-01 00:00:00</td>\n",
       "      <td>ee47d746-6d2f-4d3c-9622-c31412542920</td>\n",
       "      <td>68477</td>\n",
       "      <td>радермахера d-12 см h-20 см</td>\n",
       "      <td>1</td>\n",
       "      <td>112.0</td>\n",
       "      <td>112.0</td>\n",
       "      <td>10</td>\n",
       "      <td>2018</td>\n",
       "      <td>1</td>\n",
       "      <td>Monday</td>\n",
       "      <td>растения</td>\n",
       "      <td>осень</td>\n",
       "      <td>1</td>\n",
       "    </tr>\n",
       "    <tr>\n",
       "      <th>3</th>\n",
       "      <td>2018-10-01 00:00:00</td>\n",
       "      <td>ee47d746-6d2f-4d3c-9622-c31412542920</td>\n",
       "      <td>68477</td>\n",
       "      <td>хризолидокарпус лутесценс d-9 см</td>\n",
       "      <td>1</td>\n",
       "      <td>179.0</td>\n",
       "      <td>179.0</td>\n",
       "      <td>10</td>\n",
       "      <td>2018</td>\n",
       "      <td>1</td>\n",
       "      <td>Monday</td>\n",
       "      <td>растения</td>\n",
       "      <td>осень</td>\n",
       "      <td>1</td>\n",
       "    </tr>\n",
       "    <tr>\n",
       "      <th>4</th>\n",
       "      <td>2018-10-01 00:00:00</td>\n",
       "      <td>ee47d746-6d2f-4d3c-9622-c31412542920</td>\n",
       "      <td>68477</td>\n",
       "      <td>циперус зумула d-12 см h-25 см</td>\n",
       "      <td>1</td>\n",
       "      <td>112.0</td>\n",
       "      <td>112.0</td>\n",
       "      <td>10</td>\n",
       "      <td>2018</td>\n",
       "      <td>1</td>\n",
       "      <td>Monday</td>\n",
       "      <td>растения</td>\n",
       "      <td>осень</td>\n",
       "      <td>1</td>\n",
       "    </tr>\n",
       "    <tr>\n",
       "      <th>5</th>\n",
       "      <td>2018-10-01 00:00:00</td>\n",
       "      <td>ee47d746-6d2f-4d3c-9622-c31412542920</td>\n",
       "      <td>68477</td>\n",
       "      <td>шеффлера лузеана d-9 см</td>\n",
       "      <td>1</td>\n",
       "      <td>164.0</td>\n",
       "      <td>164.0</td>\n",
       "      <td>10</td>\n",
       "      <td>2018</td>\n",
       "      <td>1</td>\n",
       "      <td>Monday</td>\n",
       "      <td>растения</td>\n",
       "      <td>осень</td>\n",
       "      <td>1</td>\n",
       "    </tr>\n",
       "    <tr>\n",
       "      <th>6</th>\n",
       "      <td>2018-10-01 00:00:00</td>\n",
       "      <td>ee47d746-6d2f-4d3c-9622-c31412542920</td>\n",
       "      <td>68477</td>\n",
       "      <td>юкка нитчатая d-12 см h-25-35 см</td>\n",
       "      <td>1</td>\n",
       "      <td>134.0</td>\n",
       "      <td>134.0</td>\n",
       "      <td>10</td>\n",
       "      <td>2018</td>\n",
       "      <td>1</td>\n",
       "      <td>Monday</td>\n",
       "      <td>растения</td>\n",
       "      <td>осень</td>\n",
       "      <td>1</td>\n",
       "    </tr>\n",
       "    <tr>\n",
       "      <th>7</th>\n",
       "      <td>2018-10-01 08:00:00</td>\n",
       "      <td>375e0724-f033-4c76-b579-84969cf38ee2</td>\n",
       "      <td>68479</td>\n",
       "      <td>настенная сушилка для белья gimi brio super 100</td>\n",
       "      <td>1</td>\n",
       "      <td>824.0</td>\n",
       "      <td>824.0</td>\n",
       "      <td>10</td>\n",
       "      <td>2018</td>\n",
       "      <td>1</td>\n",
       "      <td>Monday</td>\n",
       "      <td>растения</td>\n",
       "      <td>осень</td>\n",
       "      <td>1</td>\n",
       "    </tr>\n",
       "    <tr>\n",
       "      <th>8</th>\n",
       "      <td>2018-10-01 08:00:00</td>\n",
       "      <td>6644e5b4-9934-4863-9778-aaa125207701</td>\n",
       "      <td>68478</td>\n",
       "      <td>таз пластмассовый 21,0 л круглый \"водолей\" с61...</td>\n",
       "      <td>1</td>\n",
       "      <td>269.0</td>\n",
       "      <td>269.0</td>\n",
       "      <td>10</td>\n",
       "      <td>2018</td>\n",
       "      <td>1</td>\n",
       "      <td>Monday</td>\n",
       "      <td>хозтовары</td>\n",
       "      <td>осень</td>\n",
       "      <td>1</td>\n",
       "    </tr>\n",
       "    <tr>\n",
       "      <th>9</th>\n",
       "      <td>2018-10-01 11:00:00</td>\n",
       "      <td>161e1b98-45ba-4b4e-8236-e6e3e70f6f7c</td>\n",
       "      <td>68483</td>\n",
       "      <td>вешалка для брюк металлическая с резиновым пок...</td>\n",
       "      <td>10</td>\n",
       "      <td>82.0</td>\n",
       "      <td>820.0</td>\n",
       "      <td>10</td>\n",
       "      <td>2018</td>\n",
       "      <td>1</td>\n",
       "      <td>Monday</td>\n",
       "      <td>мебель и декор</td>\n",
       "      <td>осень</td>\n",
       "      <td>1</td>\n",
       "    </tr>\n",
       "  </tbody>\n",
       "</table>\n",
       "</div>"
      ],
      "text/plain": [
       "                 date                           customer_id  order_id  \\\n",
       "0 2018-10-01 00:00:00  ee47d746-6d2f-4d3c-9622-c31412542920     68477   \n",
       "1 2018-10-01 00:00:00  ee47d746-6d2f-4d3c-9622-c31412542920     68477   \n",
       "2 2018-10-01 00:00:00  ee47d746-6d2f-4d3c-9622-c31412542920     68477   \n",
       "3 2018-10-01 00:00:00  ee47d746-6d2f-4d3c-9622-c31412542920     68477   \n",
       "4 2018-10-01 00:00:00  ee47d746-6d2f-4d3c-9622-c31412542920     68477   \n",
       "5 2018-10-01 00:00:00  ee47d746-6d2f-4d3c-9622-c31412542920     68477   \n",
       "6 2018-10-01 00:00:00  ee47d746-6d2f-4d3c-9622-c31412542920     68477   \n",
       "7 2018-10-01 08:00:00  375e0724-f033-4c76-b579-84969cf38ee2     68479   \n",
       "8 2018-10-01 08:00:00  6644e5b4-9934-4863-9778-aaa125207701     68478   \n",
       "9 2018-10-01 11:00:00  161e1b98-45ba-4b4e-8236-e6e3e70f6f7c     68483   \n",
       "\n",
       "                                             product  quantity  price  \\\n",
       "0    комнатное растение в горшке алое вера, d12, h30         1  142.0   \n",
       "1  комнатное растение в горшке кофе арабика, d12,...         1  194.0   \n",
       "2                        радермахера d-12 см h-20 см         1  112.0   \n",
       "3                   хризолидокарпус лутесценс d-9 см         1  179.0   \n",
       "4                     циперус зумула d-12 см h-25 см         1  112.0   \n",
       "5                            шеффлера лузеана d-9 см         1  164.0   \n",
       "6                   юкка нитчатая d-12 см h-25-35 см         1  134.0   \n",
       "7    настенная сушилка для белья gimi brio super 100         1  824.0   \n",
       "8  таз пластмассовый 21,0 л круглый \"водолей\" с61...         1  269.0   \n",
       "9  вешалка для брюк металлическая с резиновым пок...        10   82.0   \n",
       "\n",
       "   revenue  month  year  day day_of_week        category season  cluster_km  \n",
       "0    142.0     10  2018    1      Monday        растения  осень           1  \n",
       "1    194.0     10  2018    1      Monday        растения  осень           1  \n",
       "2    112.0     10  2018    1      Monday        растения  осень           1  \n",
       "3    179.0     10  2018    1      Monday        растения  осень           1  \n",
       "4    112.0     10  2018    1      Monday        растения  осень           1  \n",
       "5    164.0     10  2018    1      Monday        растения  осень           1  \n",
       "6    134.0     10  2018    1      Monday        растения  осень           1  \n",
       "7    824.0     10  2018    1      Monday        растения  осень           1  \n",
       "8    269.0     10  2018    1      Monday       хозтовары  осень           1  \n",
       "9    820.0     10  2018    1      Monday  мебель и декор  осень           1  "
      ]
     },
     "execution_count": 127,
     "metadata": {},
     "output_type": "execute_result"
    }
   ],
   "source": [
    "df_clusters = df.merge(clusters[['customer_id', 'cluster_km']], on='customer_id')\n",
    "df_clusters.head(10)"
   ]
  },
  {
   "cell_type": "markdown",
   "metadata": {},
   "source": [
    "Посмотрим на количество заказов в кластерах."
   ]
  },
  {
   "cell_type": "code",
   "execution_count": 110,
   "metadata": {
    "scrolled": true
   },
   "outputs": [
    {
     "data": {
      "text/html": [
       "<div>\n",
       "<style scoped>\n",
       "    .dataframe tbody tr th:only-of-type {\n",
       "        vertical-align: middle;\n",
       "    }\n",
       "\n",
       "    .dataframe tbody tr th {\n",
       "        vertical-align: top;\n",
       "    }\n",
       "\n",
       "    .dataframe thead th {\n",
       "        text-align: right;\n",
       "    }\n",
       "</style>\n",
       "<table border=\"1\" class=\"dataframe\">\n",
       "  <thead>\n",
       "    <tr style=\"text-align: right;\">\n",
       "      <th></th>\n",
       "      <th>customer_id</th>\n",
       "    </tr>\n",
       "    <tr>\n",
       "      <th>cluster_km</th>\n",
       "      <th></th>\n",
       "    </tr>\n",
       "  </thead>\n",
       "  <tbody>\n",
       "    <tr>\n",
       "      <th>0</th>\n",
       "      <td>588</td>\n",
       "    </tr>\n",
       "    <tr>\n",
       "      <th>1</th>\n",
       "      <td>3590</td>\n",
       "    </tr>\n",
       "    <tr>\n",
       "      <th>2</th>\n",
       "      <td>248</td>\n",
       "    </tr>\n",
       "    <tr>\n",
       "      <th>3</th>\n",
       "      <td>71</td>\n",
       "    </tr>\n",
       "  </tbody>\n",
       "</table>\n",
       "</div>"
      ],
      "text/plain": [
       "            customer_id\n",
       "cluster_km             \n",
       "0                   588\n",
       "1                  3590\n",
       "2                   248\n",
       "3                    71"
      ]
     },
     "execution_count": 110,
     "metadata": {},
     "output_type": "execute_result"
    }
   ],
   "source": [
    "df_clusters.groupby('cluster_km')['customer_id'].count().to_frame()"
   ]
  },
  {
   "cell_type": "code",
   "execution_count": 111,
   "metadata": {},
   "outputs": [
    {
     "data": {
      "text/plain": [
       "cluster_km  category      \n",
       "0           растения           405\n",
       "            мебель и декор      82\n",
       "            хозтовары           45\n",
       "            кухня               28\n",
       "            текстиль            19\n",
       "            ремонт               9\n",
       "1           растения          2047\n",
       "            мебель и декор     636\n",
       "            хозтовары          307\n",
       "            кухня              254\n",
       "            текстиль           188\n",
       "            ремонт             158\n",
       "2           мебель и декор     122\n",
       "            хозтовары           52\n",
       "            растения            30\n",
       "            ремонт              21\n",
       "            текстиль            15\n",
       "            кухня                8\n",
       "3           мебель и декор      40\n",
       "            хозтовары           13\n",
       "            растения             8\n",
       "            кухня                6\n",
       "            ремонт               3\n",
       "            текстиль             1\n",
       "Name: category, dtype: int64"
      ]
     },
     "execution_count": 111,
     "metadata": {},
     "output_type": "execute_result"
    }
   ],
   "source": [
    "df_clusters.groupby('cluster_km')['category'].value_counts()"
   ]
  },
  {
   "cell_type": "code",
   "execution_count": 112,
   "metadata": {},
   "outputs": [
    {
     "data": {
      "image/png": "[encoded data removed]",
      "text/plain": [
       "<Figure size 720x360 with 1 Axes>"
      ]
     },
     "metadata": {},
     "output_type": "display_data"
    }
   ],
   "source": [
    "plt.figure(figsize=(10,5))\n",
    "ax = sns.barplot(x= 'category', y='revenue', hue='cluster_km', ci=None, data=df_clusters)\n",
    "plt.xticks(rotation=45)\n",
    "ax.set_xlabel('Категория товара')\n",
    "ax.set_ylabel('Выручка')\n",
    "ax.set_title('Распределение выручки по категорям товаров по кластерам', fontsize=25)\n",
    "plt.show()"
   ]
  },
  {
   "cell_type": "code",
   "execution_count": 113,
   "metadata": {},
   "outputs": [
    {
     "data": {
      "image/png": "[encoded data removed]",
      "text/plain": [
       "<Figure size 720x360 with 1 Axes>"
      ]
     },
     "metadata": {},
     "output_type": "display_data"
    },
    {
     "data": {
      "image/png": "[encoded data removed]",
      "text/plain": [
       "<Figure size 720x360 with 1 Axes>"
      ]
     },
     "metadata": {},
     "output_type": "display_data"
    },
    {
     "data": {
      "image/png": "[encoded data removed]",
      "text/plain": [
       "<Figure size 720x360 with 1 Axes>"
      ]
     },
     "metadata": {},
     "output_type": "display_data"
    },
    {
     "data": {
      "image/png": "[encoded data removed]",
      "text/plain": [
       "<Figure size 720x360 with 1 Axes>"
      ]
     },
     "metadata": {},
     "output_type": "display_data"
    }
   ],
   "source": [
    "#Посмотрим на выручку в разбивке по месяцу и кластеру\n",
    "top_cluster = df_clusters.groupby('cluster_km').agg({'revenue':'sum'}).sort_values(by='revenue', ascending=False).index\n",
    "for cluster in top_cluster:\n",
    "    df_ecom = df_clusters[df_clusters['cluster_km'] == cluster]   \n",
    "    plt.figure(figsize=(10,5))\n",
    "    sns.barplot(x ='month', y = 'revenue', hue = 'year',ci=None, data = df_ecom)\n",
    "    plt.title(cluster,fontsize=25)\n",
    "    plt.xlabel('Месяц', fontsize = 12)\n",
    "    plt.ylabel('Выручка в месяц', fontsize = 12)\n",
    "    plt.xticks(rotation=45)\n",
    "    plt.show()"
   ]
  },
  {
   "cell_type": "code",
   "execution_count": 114,
   "metadata": {},
   "outputs": [
    {
     "data": {
      "image/png": "[encoded data removed]",
      "text/plain": [
       "<Figure size 360x360 with 1 Axes>"
      ]
     },
     "metadata": {},
     "output_type": "display_data"
    }
   ],
   "source": [
    "plt.figure(figsize=(5,5))\n",
    "ax = sns.barplot(x= 'season', y='revenue', hue='cluster_km', ci=None, data=df_clusters)\n",
    "plt.xticks(rotation=45)\n",
    "ax.set_xlabel('Категория товара')\n",
    "ax.set_ylabel('Выручка')\n",
    "ax.set_title('Распределение выручки по сезонам и кластерам', fontsize=25)\n",
    "plt.show()"
   ]
  },
  {
   "cell_type": "markdown",
   "metadata": {},
   "source": [
    "### Выводы:"
   ]
  },
  {
   "cell_type": "markdown",
   "metadata": {},
   "source": [
    "**Нулевой кластер** покупает во всех категориях, но в основном  растения,активнее всего осенью-зимой.\n",
    "\n",
    "**Первый кластер** покупает в основном растения,мебель и декор,активность исключительно с августа по март. \n",
    "\n",
    "**Второй кластер** Активный в течение всего года,особенно зимой и летом.Так же покупает в основном хозтовары,мебель и декор,но основная прибыль с покупки текстиля.\n",
    "\n",
    "**Третий кластер** Активней в зимний период.Покупает в основном мебель и декор,хозтовары."
   ]
  },
  {
   "cell_type": "markdown",
   "metadata": {},
   "source": [
    "##  Проверка статистических гипотез"
   ]
  },
  {
   "cell_type": "markdown",
   "metadata": {},
   "source": [
    "### Гипотеза №1 :С помощью теста Уилкоксона-Манна-Уитни подсчитаем статистическую значимость различий в средней выручке между группами.\n",
    "\n",
    "\n",
    "**Нулевая гипотеза Н0: Нет статистически значимых различий в средней выручке между сегментами покупателей.**\n",
    "\n",
    "**Альтернативная гипотеза Н1: Есть статистически значимое различие в средней выручке между сегментами покупателей.**\n",
    "\n",
    "Пороговое значение alpha зададим на уровне 5%.\n",
    "\n",
    "Сделаем выборки по кластерам."
   ]
  },
  {
   "cell_type": "code",
   "execution_count": 115,
   "metadata": {},
   "outputs": [],
   "source": [
    "cluster0 = df_clusters.query('cluster_km == 0')['revenue']\n",
    "cluster1 =df_clusters .query('cluster_km == 1')['revenue']\n",
    "cluster2 = df_clusters.query('cluster_km == 2')['revenue']"
   ]
  },
  {
   "cell_type": "code",
   "execution_count": 116,
   "metadata": {},
   "outputs": [],
   "source": [
    "alpha = 0.05\n",
    "\n",
    "def test_mnw(cl1, cl2, alpha):\n",
    "       \n",
    "    a = alpha\n",
    "    \n",
    "    results = stats.mannwhitneyu(cl1, cl2, alternative = 'two-sided')\n",
    "\n",
    "    print('p-значение: ',\"{0:.3f}\".format(results.pvalue))\n",
    "\n",
    "    if results.pvalue < a:\n",
    "        print('Отвергаем нулевую гипотезу: разница статистически значима')\n",
    "    else:\n",
    "        print(\n",
    "            'Не получилось отвергнуть нулевую гипотезу, вывод о различии сделать нельзя'\n",
    "        ) "
   ]
  },
  {
   "cell_type": "code",
   "execution_count": 117,
   "metadata": {},
   "outputs": [
    {
     "name": "stdout",
     "output_type": "stream",
     "text": [
      "Тест  для cluster0 и cluster1\n",
      "p-значение:  0.002\n",
      "Отвергаем нулевую гипотезу: разница статистически значима\n"
     ]
    }
   ],
   "source": [
    "print('Тест  для cluster0 и cluster1')\n",
    "test_mnw(cluster0, cluster1, alpha)"
   ]
  },
  {
   "cell_type": "code",
   "execution_count": 118,
   "metadata": {},
   "outputs": [
    {
     "name": "stdout",
     "output_type": "stream",
     "text": [
      "Тест для cluster0 и cluster2\n",
      "p-значение:  0.000\n",
      "Отвергаем нулевую гипотезу: разница статистически значима\n"
     ]
    }
   ],
   "source": [
    "print('Тест для cluster0 и cluster2')\n",
    "test_mnw(cluster0, cluster2, alpha)"
   ]
  },
  {
   "cell_type": "code",
   "execution_count": 119,
   "metadata": {},
   "outputs": [
    {
     "name": "stdout",
     "output_type": "stream",
     "text": [
      "Тест для cluster1 и cluster2\n",
      "p-значение:  0.000\n",
      "Отвергаем нулевую гипотезу: разница статистически значима\n"
     ]
    }
   ],
   "source": [
    "print('Тест для cluster1 и cluster2')\n",
    "test_mnw(cluster1, cluster2, alpha)"
   ]
  },
  {
   "cell_type": "markdown",
   "metadata": {},
   "source": [
    "### Гипотеза №2 : Количество проданного товара в выходные и будни дни \n",
    "\n",
    "**Нулевая гипотеза H0: количество проданного товара в выходные и будни дни одинаковое.**\n",
    "\n",
    "**Альтернативная гипотеза Н1: количество проданного товара в выходные и будни дни различается.**"
   ]
  },
  {
   "cell_type": "code",
   "execution_count": 120,
   "metadata": {},
   "outputs": [],
   "source": [
    "weekdays = df.query('day <= 5')['quantity']\n",
    "weekends = df.query('day > 5')['quantity']"
   ]
  },
  {
   "cell_type": "code",
   "execution_count": 121,
   "metadata": {},
   "outputs": [
    {
     "name": "stdout",
     "output_type": "stream",
     "text": [
      "p-значение:  0.00017165830569935273\n",
      "Принимаем альтернативную гипотезу, количество проданного товара в выходные и будни дни различается\n"
     ]
    }
   ],
   "source": [
    "alpha = 0.05 # критический уровень статистической значимости, если pvalue окажется меньше него - отвергнем гипотезу.\n",
    "\n",
    "results = st.ttest_ind(\n",
    "    weekdays, \n",
    "    weekends,\n",
    "    equal_var = False\n",
    ")\n",
    "    \n",
    "print('p-значение: ', results.pvalue)\n",
    "    \n",
    "if (results.pvalue < alpha):\n",
    "    print(\"Принимаем альтернативную гипотезу, количество проданного товара в выходные и будни дни различается\")\n",
    "else:\n",
    "    print(\"Оставляем нулевую гипотезу, количество проданного товара в выходные и будни дни одинаковое\")\n",
    "    "
   ]
  },
  {
   "cell_type": "markdown",
   "metadata": {},
   "source": [
    "## Выводы"
   ]
  },
  {
   "cell_type": "markdown",
   "metadata": {},
   "source": [
    "\n",
    "\n",
    "**Выполнили кластеризацию клиентов. В результате получили следующие группы покупателей:**\n",
    "\n",
    "**Кластер 0**\n",
    "\n",
    "количество покупок 588\n",
    "покупатели делают по 2 заказа.\n",
    "покупали в среднем по 2 наименования,товара с ценой 500 ед.\n",
    "Чаще всего растения,мебель и декор.\n",
    "Наиболее активно в осенне-зимний период.\n",
    "Для таких покупателей необходимо запускать весенне-летнюю рекламную кампанию с выгодными предложениями. \n",
    "\n",
    "\n",
    "**Кластер 1**\n",
    "\n",
    "самый многочисленный,количество покупок - 3590\n",
    "покупают в среднем 2 наименования,но делают не больше 1 заказа.\n",
    "наиболее активно растения\n",
    "стоимость купленных товаров ниже средней, показатель выручки самый низкий среди кластеров.\n",
    "Задача подтолкнуть к совершению повторной покупки и увеличить средний чек.\n",
    " Для товаров с сезонным характером перед началом и в сезон запускать рекламу и акции с уникальными предложениями, не в сезон - запускать рекламу и акции с выгодными предложениями.\n",
    "\n",
    "**Кластер 2**\n",
    "\n",
    "количество покупок - 248\n",
    "любимые категории товаров: мебель и декор\n",
    "высокий уровень средней выручки с покупателя,\n",
    "дорогой средний чек заказа,покупают более дорогие товары\n",
    "Активны в течение всего года.\n",
    "Задача подтолкнуть к совершению повторной покупки за счет расширения номенклатуры товаров в премиум сегменте. Запускать акции и рекламу, мотивирующую к покупке.\n",
    "\n",
    "\n",
    "**Кластер 3**\n",
    "\n",
    "количество покупок - 71\n",
    "покупали в среднем 1 раз, но в большом количестве. Возможно, для нужд частного бизнеса.\n",
    "покупали дешевые товары, но за счет количества,высокие показатели выручки.\n",
    "закупали чаще мебель и декор,хозтовары.\n",
    "Запускать рекламу и акции с уникальными предложениями для оптовых покупателей.\n",
    "\n",
    "\n"
   ]
  },
  {
   "cell_type": "code",
   "execution_count": 122,
   "metadata": {
    "scrolled": true
   },
   "outputs": [
    {
     "data": {
      "text/html": [
       "<div>\n",
       "<style scoped>\n",
       "    .dataframe tbody tr th:only-of-type {\n",
       "        vertical-align: middle;\n",
       "    }\n",
       "\n",
       "    .dataframe tbody tr th {\n",
       "        vertical-align: top;\n",
       "    }\n",
       "\n",
       "    .dataframe thead th {\n",
       "        text-align: right;\n",
       "    }\n",
       "</style>\n",
       "<table border=\"1\" class=\"dataframe\">\n",
       "  <thead>\n",
       "    <tr style=\"text-align: right;\">\n",
       "      <th></th>\n",
       "      <th>order_id</th>\n",
       "      <th>quantity</th>\n",
       "      <th>price</th>\n",
       "      <th>revenue</th>\n",
       "      <th>month</th>\n",
       "      <th>year</th>\n",
       "      <th>day</th>\n",
       "    </tr>\n",
       "  </thead>\n",
       "  <tbody>\n",
       "    <tr>\n",
       "      <th>count</th>\n",
       "      <td>4497.000000</td>\n",
       "      <td>4497.000000</td>\n",
       "      <td>4497.000000</td>\n",
       "      <td>4497.000000</td>\n",
       "      <td>4497.000000</td>\n",
       "      <td>4497.000000</td>\n",
       "      <td>4497.000000</td>\n",
       "    </tr>\n",
       "    <tr>\n",
       "      <th>mean</th>\n",
       "      <td>47397.441183</td>\n",
       "      <td>2.118523</td>\n",
       "      <td>505.483433</td>\n",
       "      <td>667.555704</td>\n",
       "      <td>6.438070</td>\n",
       "      <td>2018.763398</td>\n",
       "      <td>3.740049</td>\n",
       "    </tr>\n",
       "    <tr>\n",
       "      <th>std</th>\n",
       "      <td>27535.015796</td>\n",
       "      <td>4.780173</td>\n",
       "      <td>942.460346</td>\n",
       "      <td>1507.175117</td>\n",
       "      <td>3.248494</td>\n",
       "      <td>0.425043</td>\n",
       "      <td>1.985665</td>\n",
       "    </tr>\n",
       "    <tr>\n",
       "      <th>min</th>\n",
       "      <td>12624.000000</td>\n",
       "      <td>1.000000</td>\n",
       "      <td>9.000000</td>\n",
       "      <td>9.000000</td>\n",
       "      <td>1.000000</td>\n",
       "      <td>2018.000000</td>\n",
       "      <td>1.000000</td>\n",
       "    </tr>\n",
       "    <tr>\n",
       "      <th>25%</th>\n",
       "      <td>14766.000000</td>\n",
       "      <td>1.000000</td>\n",
       "      <td>90.000000</td>\n",
       "      <td>120.000000</td>\n",
       "      <td>4.000000</td>\n",
       "      <td>2019.000000</td>\n",
       "      <td>2.000000</td>\n",
       "    </tr>\n",
       "    <tr>\n",
       "      <th>50%</th>\n",
       "      <td>68844.000000</td>\n",
       "      <td>1.000000</td>\n",
       "      <td>150.000000</td>\n",
       "      <td>188.000000</td>\n",
       "      <td>6.000000</td>\n",
       "      <td>2019.000000</td>\n",
       "      <td>4.000000</td>\n",
       "    </tr>\n",
       "    <tr>\n",
       "      <th>75%</th>\n",
       "      <td>70876.000000</td>\n",
       "      <td>1.000000</td>\n",
       "      <td>487.000000</td>\n",
       "      <td>697.000000</td>\n",
       "      <td>10.000000</td>\n",
       "      <td>2019.000000</td>\n",
       "      <td>5.000000</td>\n",
       "    </tr>\n",
       "    <tr>\n",
       "      <th>max</th>\n",
       "      <td>73162.000000</td>\n",
       "      <td>96.000000</td>\n",
       "      <td>14917.000000</td>\n",
       "      <td>47385.000000</td>\n",
       "      <td>12.000000</td>\n",
       "      <td>2019.000000</td>\n",
       "      <td>7.000000</td>\n",
       "    </tr>\n",
       "  </tbody>\n",
       "</table>\n",
       "</div>"
      ],
      "text/plain": [
       "           order_id     quantity         price       revenue        month  \\\n",
       "count   4497.000000  4497.000000   4497.000000   4497.000000  4497.000000   \n",
       "mean   47397.441183     2.118523    505.483433    667.555704     6.438070   \n",
       "std    27535.015796     4.780173    942.460346   1507.175117     3.248494   \n",
       "min    12624.000000     1.000000      9.000000      9.000000     1.000000   \n",
       "25%    14766.000000     1.000000     90.000000    120.000000     4.000000   \n",
       "50%    68844.000000     1.000000    150.000000    188.000000     6.000000   \n",
       "75%    70876.000000     1.000000    487.000000    697.000000    10.000000   \n",
       "max    73162.000000    96.000000  14917.000000  47385.000000    12.000000   \n",
       "\n",
       "              year          day  \n",
       "count  4497.000000  4497.000000  \n",
       "mean   2018.763398     3.740049  \n",
       "std       0.425043     1.985665  \n",
       "min    2018.000000     1.000000  \n",
       "25%    2019.000000     2.000000  \n",
       "50%    2019.000000     4.000000  \n",
       "75%    2019.000000     5.000000  \n",
       "max    2019.000000     7.000000  "
      ]
     },
     "execution_count": 122,
     "metadata": {},
     "output_type": "execute_result"
    }
   ],
   "source": [
    "df.describe()"
   ]
  },
  {
   "cell_type": "code",
   "execution_count": null,
   "metadata": {
    "scrolled": true
   },
   "outputs": [],
   "source": [
    "df.to_csv(r'C:Users\\user\\Desktop\\df.csv', index= False )\n",
    "df.head(30)"
   ]
  }
 ],
 "metadata": {
  "ExecuteTimeLog": [
   {
    "duration": 3,
    "start_time": "2022-11-06T08:35:36.169Z"
   },
   {
    "duration": 2,
    "start_time": "2022-11-06T08:35:44.312Z"
   },
   {
    "duration": 1456,
    "start_time": "2022-11-06T08:37:41.060Z"
   },
   {
    "duration": 214,
    "start_time": "2022-11-06T08:37:52.919Z"
   },
   {
    "duration": 11,
    "start_time": "2022-11-06T08:38:06.112Z"
   },
   {
    "duration": 12,
    "start_time": "2022-11-06T08:38:19.513Z"
   },
   {
    "duration": 9,
    "start_time": "2022-11-06T08:39:11.338Z"
   },
   {
    "duration": 17,
    "start_time": "2022-11-06T08:39:38.338Z"
   },
   {
    "duration": 7,
    "start_time": "2022-11-06T08:40:06.873Z"
   },
   {
    "duration": 11,
    "start_time": "2022-11-06T08:40:37.494Z"
   },
   {
    "duration": 11,
    "start_time": "2022-11-06T08:41:03.038Z"
   },
   {
    "duration": 15,
    "start_time": "2022-11-06T08:41:30.766Z"
   },
   {
    "duration": 3,
    "start_time": "2022-11-06T08:41:44.387Z"
   },
   {
    "duration": 7,
    "start_time": "2022-11-06T08:41:57.124Z"
   },
   {
    "duration": 10,
    "start_time": "2022-11-06T08:42:10.123Z"
   },
   {
    "duration": 4,
    "start_time": "2022-11-06T08:42:41.579Z"
   },
   {
    "duration": 4,
    "start_time": "2022-11-06T08:42:53.239Z"
   },
   {
    "duration": 14,
    "start_time": "2022-11-06T08:43:07.128Z"
   },
   {
    "duration": 4,
    "start_time": "2022-11-06T08:44:10.172Z"
   },
   {
    "duration": 11,
    "start_time": "2022-11-06T08:44:23.057Z"
   },
   {
    "duration": 6,
    "start_time": "2022-11-06T08:44:53.543Z"
   },
   {
    "duration": 6,
    "start_time": "2022-11-06T08:45:04.173Z"
   },
   {
    "duration": 346,
    "start_time": "2022-11-06T08:45:36.377Z"
   },
   {
    "duration": 325,
    "start_time": "2022-11-06T08:45:57.145Z"
   },
   {
    "duration": 15,
    "start_time": "2022-11-06T08:46:26.418Z"
   },
   {
    "duration": 6,
    "start_time": "2022-11-06T08:46:39.549Z"
   },
   {
    "duration": 822,
    "start_time": "2022-11-06T08:46:54.145Z"
   },
   {
    "duration": 123,
    "start_time": "2022-11-06T08:47:35.683Z"
   },
   {
    "duration": 17,
    "start_time": "2022-11-06T08:47:51.964Z"
   },
   {
    "duration": 16,
    "start_time": "2022-11-06T08:48:21.776Z"
   },
   {
    "duration": 153,
    "start_time": "2022-11-06T08:48:34.514Z"
   },
   {
    "duration": 189,
    "start_time": "2022-11-06T08:48:50.104Z"
   },
   {
    "duration": 898,
    "start_time": "2022-11-06T08:49:04.797Z"
   },
   {
    "duration": 29,
    "start_time": "2022-11-06T08:50:05.580Z"
   },
   {
    "duration": 544,
    "start_time": "2022-11-06T08:50:18.695Z"
   },
   {
    "duration": 575,
    "start_time": "2022-11-06T08:50:52.653Z"
   },
   {
    "duration": 17,
    "start_time": "2022-11-06T08:51:09.040Z"
   },
   {
    "duration": 23,
    "start_time": "2022-11-06T08:51:53.049Z"
   },
   {
    "duration": 9,
    "start_time": "2022-11-06T08:52:06.268Z"
   },
   {
    "duration": 216,
    "start_time": "2022-11-06T08:52:24.776Z"
   },
   {
    "duration": 252,
    "start_time": "2022-11-06T08:52:40.283Z"
   },
   {
    "duration": 247,
    "start_time": "2022-11-06T08:52:55.152Z"
   },
   {
    "duration": 11,
    "start_time": "2022-11-06T08:54:12.120Z"
   },
   {
    "duration": 3,
    "start_time": "2022-11-06T08:54:22.464Z"
   },
   {
    "duration": 8,
    "start_time": "2022-11-06T08:54:34.423Z"
   },
   {
    "duration": 6,
    "start_time": "2022-11-06T08:54:45.849Z"
   },
   {
    "duration": 6,
    "start_time": "2022-11-06T08:54:59.276Z"
   },
   {
    "duration": 9,
    "start_time": "2022-11-06T08:55:28.261Z"
   },
   {
    "duration": 7,
    "start_time": "2022-11-06T08:55:40.209Z"
   },
   {
    "duration": 20,
    "start_time": "2022-11-06T09:00:14.451Z"
   },
   {
    "duration": 41,
    "start_time": "2022-11-06T09:00:14.473Z"
   },
   {
    "duration": 11,
    "start_time": "2022-11-06T09:00:14.556Z"
   },
   {
    "duration": 11,
    "start_time": "2022-11-06T09:00:14.568Z"
   },
   {
    "duration": 9,
    "start_time": "2022-11-06T09:00:14.580Z"
   },
   {
    "duration": 32,
    "start_time": "2022-11-06T09:00:14.591Z"
   },
   {
    "duration": 7,
    "start_time": "2022-11-06T09:00:14.625Z"
   },
   {
    "duration": 28,
    "start_time": "2022-11-06T09:00:14.633Z"
   },
   {
    "duration": 9,
    "start_time": "2022-11-06T09:00:14.662Z"
   },
   {
    "duration": 15,
    "start_time": "2022-11-06T09:00:14.672Z"
   },
   {
    "duration": 3,
    "start_time": "2022-11-06T09:00:14.689Z"
   },
   {
    "duration": 8,
    "start_time": "2022-11-06T09:00:14.694Z"
   },
   {
    "duration": 10,
    "start_time": "2022-11-06T09:00:14.722Z"
   },
   {
    "duration": 6,
    "start_time": "2022-11-06T09:00:14.734Z"
   },
   {
    "duration": 7,
    "start_time": "2022-11-06T09:00:14.741Z"
   },
   {
    "duration": 14,
    "start_time": "2022-11-06T09:00:14.751Z"
   },
   {
    "duration": 4,
    "start_time": "2022-11-06T09:00:14.767Z"
   },
   {
    "duration": 18,
    "start_time": "2022-11-06T09:00:14.773Z"
   },
   {
    "duration": 32,
    "start_time": "2022-11-06T09:00:14.792Z"
   },
   {
    "duration": 8,
    "start_time": "2022-11-06T09:00:14.826Z"
   },
   {
    "duration": 379,
    "start_time": "2022-11-06T09:00:14.835Z"
   },
   {
    "duration": 334,
    "start_time": "2022-11-06T09:00:15.215Z"
   },
   {
    "duration": 14,
    "start_time": "2022-11-06T09:00:15.551Z"
   },
   {
    "duration": 9,
    "start_time": "2022-11-06T09:00:15.566Z"
   },
   {
    "duration": 753,
    "start_time": "2022-11-06T09:00:15.576Z"
   },
   {
    "duration": 125,
    "start_time": "2022-11-06T09:00:16.331Z"
   },
   {
    "duration": 15,
    "start_time": "2022-11-06T09:00:16.457Z"
   },
   {
    "duration": 38,
    "start_time": "2022-11-06T09:00:16.474Z"
   },
   {
    "duration": 165,
    "start_time": "2022-11-06T09:00:16.514Z"
   },
   {
    "duration": 168,
    "start_time": "2022-11-06T09:00:16.681Z"
   },
   {
    "duration": 922,
    "start_time": "2022-11-06T09:00:16.850Z"
   },
   {
    "duration": 27,
    "start_time": "2022-11-06T09:00:17.774Z"
   },
   {
    "duration": 605,
    "start_time": "2022-11-06T09:00:17.802Z"
   },
   {
    "duration": 422,
    "start_time": "2022-11-06T09:00:18.408Z"
   },
   {
    "duration": 100,
    "start_time": "2022-11-06T09:00:18.832Z"
   },
   {
    "duration": 23,
    "start_time": "2022-11-06T09:00:18.934Z"
   },
   {
    "duration": 9,
    "start_time": "2022-11-06T09:00:18.959Z"
   },
   {
    "duration": 299,
    "start_time": "2022-11-06T09:00:18.970Z"
   },
   {
    "duration": 281,
    "start_time": "2022-11-06T09:00:19.271Z"
   },
   {
    "duration": 186,
    "start_time": "2022-11-06T09:00:19.553Z"
   },
   {
    "duration": 11,
    "start_time": "2022-11-06T09:00:19.740Z"
   },
   {
    "duration": 8,
    "start_time": "2022-11-06T09:00:19.753Z"
   },
   {
    "duration": 13,
    "start_time": "2022-11-06T09:00:19.764Z"
   },
   {
    "duration": 6,
    "start_time": "2022-11-06T09:00:19.779Z"
   },
   {
    "duration": 9,
    "start_time": "2022-11-06T09:00:19.786Z"
   },
   {
    "duration": 26,
    "start_time": "2022-11-06T09:00:19.796Z"
   },
   {
    "duration": 6,
    "start_time": "2022-11-06T09:00:19.823Z"
   },
   {
    "duration": 21,
    "start_time": "2022-11-06T09:04:14.757Z"
   },
   {
    "duration": 40,
    "start_time": "2022-11-06T09:04:14.780Z"
   },
   {
    "duration": 10,
    "start_time": "2022-11-06T09:04:14.822Z"
   },
   {
    "duration": 14,
    "start_time": "2022-11-06T09:04:14.833Z"
   },
   {
    "duration": 9,
    "start_time": "2022-11-06T09:04:14.849Z"
   },
   {
    "duration": 15,
    "start_time": "2022-11-06T09:04:14.860Z"
   },
   {
    "duration": 6,
    "start_time": "2022-11-06T09:04:14.877Z"
   },
   {
    "duration": 16,
    "start_time": "2022-11-06T09:04:14.884Z"
   },
   {
    "duration": 9,
    "start_time": "2022-11-06T09:04:14.922Z"
   },
   {
    "duration": 14,
    "start_time": "2022-11-06T09:04:14.932Z"
   },
   {
    "duration": 4,
    "start_time": "2022-11-06T09:04:14.947Z"
   },
   {
    "duration": 11,
    "start_time": "2022-11-06T09:04:14.952Z"
   },
   {
    "duration": 14,
    "start_time": "2022-11-06T09:04:14.964Z"
   },
   {
    "duration": 14,
    "start_time": "2022-11-06T09:04:14.980Z"
   },
   {
    "duration": 7,
    "start_time": "2022-11-06T09:04:14.995Z"
   },
   {
    "duration": 19,
    "start_time": "2022-11-06T09:04:15.023Z"
   },
   {
    "duration": 4,
    "start_time": "2022-11-06T09:04:15.043Z"
   },
   {
    "duration": 15,
    "start_time": "2022-11-06T09:04:15.049Z"
   },
   {
    "duration": 8,
    "start_time": "2022-11-06T09:04:15.065Z"
   },
   {
    "duration": 14,
    "start_time": "2022-11-06T09:04:15.074Z"
   },
   {
    "duration": 365,
    "start_time": "2022-11-06T09:04:15.090Z"
   },
   {
    "duration": 353,
    "start_time": "2022-11-06T09:04:15.457Z"
   },
   {
    "duration": 21,
    "start_time": "2022-11-06T09:04:15.811Z"
   },
   {
    "duration": 7,
    "start_time": "2022-11-06T09:04:15.834Z"
   },
   {
    "duration": 859,
    "start_time": "2022-11-06T09:04:15.842Z"
   },
   {
    "duration": 119,
    "start_time": "2022-11-06T09:04:16.704Z"
   },
   {
    "duration": 15,
    "start_time": "2022-11-06T09:04:16.825Z"
   },
   {
    "duration": 13,
    "start_time": "2022-11-06T09:04:16.842Z"
   },
   {
    "duration": 192,
    "start_time": "2022-11-06T09:04:16.857Z"
   },
   {
    "duration": 178,
    "start_time": "2022-11-06T09:04:17.053Z"
   },
   {
    "duration": 978,
    "start_time": "2022-11-06T09:04:17.232Z"
   },
   {
    "duration": 38,
    "start_time": "2022-11-06T09:04:18.212Z"
   },
   {
    "duration": 459,
    "start_time": "2022-11-06T09:04:18.252Z"
   },
   {
    "duration": 411,
    "start_time": "2022-11-06T09:04:18.713Z"
   },
   {
    "duration": 17,
    "start_time": "2022-11-06T09:04:19.127Z"
   },
   {
    "duration": 26,
    "start_time": "2022-11-06T09:04:19.146Z"
   },
   {
    "duration": 7,
    "start_time": "2022-11-06T09:04:19.174Z"
   },
   {
    "duration": 241,
    "start_time": "2022-11-06T09:04:19.183Z"
   },
   {
    "duration": 337,
    "start_time": "2022-11-06T09:04:19.426Z"
   },
   {
    "duration": 184,
    "start_time": "2022-11-06T09:04:19.765Z"
   },
   {
    "duration": 10,
    "start_time": "2022-11-06T09:04:19.951Z"
   },
   {
    "duration": 3,
    "start_time": "2022-11-06T09:04:19.962Z"
   },
   {
    "duration": 9,
    "start_time": "2022-11-06T09:04:19.967Z"
   },
   {
    "duration": 6,
    "start_time": "2022-11-06T09:04:19.977Z"
   },
   {
    "duration": 5,
    "start_time": "2022-11-06T09:04:19.985Z"
   },
   {
    "duration": 35,
    "start_time": "2022-11-06T09:04:19.992Z"
   },
   {
    "duration": 5,
    "start_time": "2022-11-06T09:04:20.028Z"
   },
   {
    "duration": 1756,
    "start_time": "2022-11-06T16:18:12.373Z"
   },
   {
    "duration": 183,
    "start_time": "2022-11-06T16:18:14.131Z"
   },
   {
    "duration": 13,
    "start_time": "2022-11-06T16:18:14.315Z"
   },
   {
    "duration": 18,
    "start_time": "2022-11-06T16:18:14.330Z"
   },
   {
    "duration": 15,
    "start_time": "2022-11-06T16:18:14.350Z"
   },
   {
    "duration": 34,
    "start_time": "2022-11-06T16:18:14.366Z"
   },
   {
    "duration": 10,
    "start_time": "2022-11-06T16:18:14.402Z"
   },
   {
    "duration": 24,
    "start_time": "2022-11-06T16:18:14.413Z"
   },
   {
    "duration": 24,
    "start_time": "2022-11-06T16:18:14.439Z"
   },
   {
    "duration": 27,
    "start_time": "2022-11-06T16:18:14.465Z"
   },
   {
    "duration": 17,
    "start_time": "2022-11-06T16:18:14.494Z"
   },
   {
    "duration": 14,
    "start_time": "2022-11-06T16:18:14.513Z"
   },
   {
    "duration": 34,
    "start_time": "2022-11-06T16:18:14.529Z"
   },
   {
    "duration": 16,
    "start_time": "2022-11-06T16:18:14.566Z"
   },
   {
    "duration": 33,
    "start_time": "2022-11-06T16:18:14.584Z"
   },
   {
    "duration": 26,
    "start_time": "2022-11-06T16:18:14.619Z"
   },
   {
    "duration": 12,
    "start_time": "2022-11-06T16:18:14.646Z"
   },
   {
    "duration": 35,
    "start_time": "2022-11-06T16:18:14.659Z"
   },
   {
    "duration": 18,
    "start_time": "2022-11-06T16:18:14.696Z"
   },
   {
    "duration": 11,
    "start_time": "2022-11-06T16:18:14.716Z"
   },
   {
    "duration": 354,
    "start_time": "2022-11-06T16:18:14.728Z"
   },
   {
    "duration": 319,
    "start_time": "2022-11-06T16:18:15.083Z"
   },
   {
    "duration": 14,
    "start_time": "2022-11-06T16:18:15.404Z"
   },
   {
    "duration": 16,
    "start_time": "2022-11-06T16:18:15.420Z"
   },
   {
    "duration": 825,
    "start_time": "2022-11-06T16:18:15.438Z"
   },
   {
    "duration": 115,
    "start_time": "2022-11-06T16:18:16.264Z"
   },
   {
    "duration": 21,
    "start_time": "2022-11-06T16:18:16.381Z"
   },
   {
    "duration": 17,
    "start_time": "2022-11-06T16:18:16.403Z"
   },
   {
    "duration": 152,
    "start_time": "2022-11-06T16:18:16.421Z"
   },
   {
    "duration": 147,
    "start_time": "2022-11-06T16:18:16.574Z"
   },
   {
    "duration": 867,
    "start_time": "2022-11-06T16:18:16.723Z"
   },
   {
    "duration": 34,
    "start_time": "2022-11-06T16:18:17.591Z"
   },
   {
    "duration": 488,
    "start_time": "2022-11-06T16:18:17.626Z"
   },
   {
    "duration": 388,
    "start_time": "2022-11-06T16:18:18.115Z"
   },
   {
    "duration": 14,
    "start_time": "2022-11-06T16:18:18.505Z"
   },
   {
    "duration": 20,
    "start_time": "2022-11-06T16:18:18.521Z"
   },
   {
    "duration": 6,
    "start_time": "2022-11-06T16:18:18.542Z"
   },
   {
    "duration": 244,
    "start_time": "2022-11-06T16:18:18.550Z"
   },
   {
    "duration": 278,
    "start_time": "2022-11-06T16:18:18.796Z"
   },
   {
    "duration": 250,
    "start_time": "2022-11-06T16:18:19.075Z"
   },
   {
    "duration": 10,
    "start_time": "2022-11-06T16:18:19.329Z"
   },
   {
    "duration": 4,
    "start_time": "2022-11-06T16:18:19.340Z"
   },
   {
    "duration": 9,
    "start_time": "2022-11-06T16:18:19.345Z"
   },
   {
    "duration": 7,
    "start_time": "2022-11-06T16:18:19.355Z"
   },
   {
    "duration": 4,
    "start_time": "2022-11-06T16:18:19.363Z"
   },
   {
    "duration": 35,
    "start_time": "2022-11-06T16:18:19.369Z"
   },
   {
    "duration": 6,
    "start_time": "2022-11-06T16:18:19.405Z"
   },
   {
    "duration": 10,
    "start_time": "2022-11-06T16:28:50.981Z"
   },
   {
    "duration": 10,
    "start_time": "2022-11-06T16:29:21.490Z"
   },
   {
    "duration": 4,
    "start_time": "2022-11-06T16:29:22.029Z"
   },
   {
    "duration": 8,
    "start_time": "2022-11-06T16:29:27.155Z"
   },
   {
    "duration": 4,
    "start_time": "2022-11-06T16:29:32.795Z"
   },
   {
    "duration": 1566,
    "start_time": "2022-11-07T07:45:22.328Z"
   },
   {
    "duration": 101,
    "start_time": "2022-11-07T07:45:23.896Z"
   },
   {
    "duration": 14,
    "start_time": "2022-11-07T07:45:23.999Z"
   },
   {
    "duration": 18,
    "start_time": "2022-11-07T07:45:24.016Z"
   },
   {
    "duration": 8,
    "start_time": "2022-11-07T07:45:24.035Z"
   },
   {
    "duration": 29,
    "start_time": "2022-11-07T07:45:24.044Z"
   },
   {
    "duration": 7,
    "start_time": "2022-11-07T07:45:24.075Z"
   },
   {
    "duration": 19,
    "start_time": "2022-11-07T07:45:24.084Z"
   },
   {
    "duration": 14,
    "start_time": "2022-11-07T07:45:24.105Z"
   },
   {
    "duration": 22,
    "start_time": "2022-11-07T07:45:24.122Z"
   },
   {
    "duration": 3,
    "start_time": "2022-11-07T07:45:24.145Z"
   },
   {
    "duration": 11,
    "start_time": "2022-11-07T07:45:24.149Z"
   },
   {
    "duration": 14,
    "start_time": "2022-11-07T07:45:24.161Z"
   },
   {
    "duration": 17,
    "start_time": "2022-11-07T07:45:24.176Z"
   },
   {
    "duration": 3,
    "start_time": "2022-11-07T07:45:24.194Z"
   },
   {
    "duration": 6,
    "start_time": "2022-11-07T07:45:24.204Z"
   },
   {
    "duration": 23,
    "start_time": "2022-11-07T07:45:24.212Z"
   },
   {
    "duration": 8,
    "start_time": "2022-11-07T07:45:24.236Z"
   },
   {
    "duration": 25,
    "start_time": "2022-11-07T07:45:24.245Z"
   },
   {
    "duration": 5,
    "start_time": "2022-11-07T07:45:24.272Z"
   },
   {
    "duration": 13,
    "start_time": "2022-11-07T07:45:24.278Z"
   },
   {
    "duration": 342,
    "start_time": "2022-11-07T07:45:24.292Z"
   },
   {
    "duration": 322,
    "start_time": "2022-11-07T07:45:24.635Z"
   },
   {
    "duration": 15,
    "start_time": "2022-11-07T07:45:24.959Z"
   },
   {
    "duration": 26,
    "start_time": "2022-11-07T07:45:24.975Z"
   },
   {
    "duration": 842,
    "start_time": "2022-11-07T07:45:25.002Z"
   },
   {
    "duration": 114,
    "start_time": "2022-11-07T07:45:25.846Z"
   },
   {
    "duration": 16,
    "start_time": "2022-11-07T07:45:25.963Z"
   },
   {
    "duration": 26,
    "start_time": "2022-11-07T07:45:25.981Z"
   },
   {
    "duration": 155,
    "start_time": "2022-11-07T07:45:26.009Z"
   },
   {
    "duration": 164,
    "start_time": "2022-11-07T07:45:26.165Z"
   },
   {
    "duration": 961,
    "start_time": "2022-11-07T07:45:26.331Z"
   },
   {
    "duration": 42,
    "start_time": "2022-11-07T07:45:27.294Z"
   },
   {
    "duration": 585,
    "start_time": "2022-11-07T07:45:27.338Z"
   },
   {
    "duration": 591,
    "start_time": "2022-11-07T07:45:27.926Z"
   },
   {
    "duration": 14,
    "start_time": "2022-11-07T07:45:28.519Z"
   },
   {
    "duration": 21,
    "start_time": "2022-11-07T07:45:28.535Z"
   },
   {
    "duration": 7,
    "start_time": "2022-11-07T07:45:28.557Z"
   },
   {
    "duration": 245,
    "start_time": "2022-11-07T07:45:28.565Z"
   },
   {
    "duration": 276,
    "start_time": "2022-11-07T07:45:28.812Z"
   },
   {
    "duration": 256,
    "start_time": "2022-11-07T07:45:29.089Z"
   },
   {
    "duration": 11,
    "start_time": "2022-11-07T07:45:29.346Z"
   },
   {
    "duration": 4,
    "start_time": "2022-11-07T07:45:29.358Z"
   },
   {
    "duration": 8,
    "start_time": "2022-11-07T07:45:29.363Z"
   },
   {
    "duration": 7,
    "start_time": "2022-11-07T07:45:29.373Z"
   },
   {
    "duration": 29,
    "start_time": "2022-11-07T07:45:29.381Z"
   },
   {
    "duration": 20,
    "start_time": "2022-11-07T07:45:29.411Z"
   },
   {
    "duration": 5,
    "start_time": "2022-11-07T07:45:29.433Z"
   },
   {
    "duration": 10,
    "start_time": "2022-11-07T07:47:10.284Z"
   },
   {
    "duration": 10,
    "start_time": "2022-11-07T07:48:38.893Z"
   },
   {
    "duration": 11,
    "start_time": "2022-11-07T07:48:55.225Z"
   },
   {
    "duration": 13,
    "start_time": "2022-11-07T07:49:18.390Z"
   },
   {
    "duration": 10,
    "start_time": "2022-11-07T07:49:38.836Z"
   },
   {
    "duration": 118,
    "start_time": "2022-11-07T07:50:10.125Z"
   },
   {
    "duration": 10,
    "start_time": "2022-11-07T07:50:19.624Z"
   },
   {
    "duration": 14,
    "start_time": "2022-11-07T07:50:26.225Z"
   },
   {
    "duration": 10,
    "start_time": "2022-11-07T07:53:46.729Z"
   },
   {
    "duration": 12,
    "start_time": "2022-11-07T07:54:04.765Z"
   },
   {
    "duration": 12,
    "start_time": "2022-11-07T07:54:24.618Z"
   },
   {
    "duration": 9,
    "start_time": "2022-11-07T07:55:32.022Z"
   },
   {
    "duration": 10,
    "start_time": "2022-11-07T07:56:12.432Z"
   },
   {
    "duration": 11,
    "start_time": "2022-11-07T07:56:24.463Z"
   },
   {
    "duration": 12,
    "start_time": "2022-11-07T07:57:14.272Z"
   },
   {
    "duration": 27,
    "start_time": "2022-11-07T07:59:35.348Z"
   },
   {
    "duration": 21,
    "start_time": "2022-11-07T08:02:34.659Z"
   },
   {
    "duration": 41,
    "start_time": "2022-11-07T08:02:34.690Z"
   },
   {
    "duration": 10,
    "start_time": "2022-11-07T08:02:34.733Z"
   },
   {
    "duration": 12,
    "start_time": "2022-11-07T08:02:34.745Z"
   },
   {
    "duration": 7,
    "start_time": "2022-11-07T08:02:34.771Z"
   },
   {
    "duration": 16,
    "start_time": "2022-11-07T08:02:34.817Z"
   },
   {
    "duration": 6,
    "start_time": "2022-11-07T08:02:34.840Z"
   },
   {
    "duration": 9,
    "start_time": "2022-11-07T08:02:34.878Z"
   },
   {
    "duration": 18,
    "start_time": "2022-11-07T08:02:34.906Z"
   },
   {
    "duration": 13,
    "start_time": "2022-11-07T08:02:34.934Z"
   },
   {
    "duration": 4,
    "start_time": "2022-11-07T08:02:34.953Z"
   },
   {
    "duration": 6,
    "start_time": "2022-11-07T08:02:34.970Z"
   },
   {
    "duration": 9,
    "start_time": "2022-11-07T08:02:34.991Z"
   },
   {
    "duration": 11,
    "start_time": "2022-11-07T08:02:35.017Z"
   },
   {
    "duration": 26,
    "start_time": "2022-11-07T08:02:36.375Z"
   },
   {
    "duration": 4,
    "start_time": "2022-11-07T08:02:36.402Z"
   },
   {
    "duration": 25,
    "start_time": "2022-11-07T08:02:36.407Z"
   },
   {
    "duration": 19,
    "start_time": "2022-11-07T08:02:36.434Z"
   },
   {
    "duration": 8,
    "start_time": "2022-11-07T08:02:36.455Z"
   },
   {
    "duration": 13,
    "start_time": "2022-11-07T08:02:36.464Z"
   },
   {
    "duration": 5,
    "start_time": "2022-11-07T08:02:36.484Z"
   },
   {
    "duration": 8,
    "start_time": "2022-11-07T08:02:36.520Z"
   },
   {
    "duration": 370,
    "start_time": "2022-11-07T08:02:36.535Z"
   },
   {
    "duration": 356,
    "start_time": "2022-11-07T08:02:36.908Z"
   },
   {
    "duration": 12,
    "start_time": "2022-11-07T08:02:37.266Z"
   },
   {
    "duration": 7,
    "start_time": "2022-11-07T08:02:37.280Z"
   },
   {
    "duration": 790,
    "start_time": "2022-11-07T08:02:37.289Z"
   },
   {
    "duration": 81,
    "start_time": "2022-11-07T08:02:38.081Z"
   },
   {
    "duration": 19,
    "start_time": "2022-11-07T08:02:38.164Z"
   },
   {
    "duration": 46,
    "start_time": "2022-11-07T08:02:38.184Z"
   },
   {
    "duration": 184,
    "start_time": "2022-11-07T08:02:38.232Z"
   },
   {
    "duration": 172,
    "start_time": "2022-11-07T08:02:38.419Z"
   },
   {
    "duration": 763,
    "start_time": "2022-11-07T08:02:38.592Z"
   },
   {
    "duration": 28,
    "start_time": "2022-11-07T08:02:39.356Z"
   },
   {
    "duration": 509,
    "start_time": "2022-11-07T08:02:39.385Z"
   },
   {
    "duration": 325,
    "start_time": "2022-11-07T08:02:39.895Z"
   },
   {
    "duration": 13,
    "start_time": "2022-11-07T08:02:40.221Z"
   },
   {
    "duration": 40,
    "start_time": "2022-11-07T08:02:40.235Z"
   },
   {
    "duration": 12,
    "start_time": "2022-11-07T08:02:40.277Z"
   },
   {
    "duration": 228,
    "start_time": "2022-11-07T08:02:40.291Z"
   },
   {
    "duration": 279,
    "start_time": "2022-11-07T08:02:40.521Z"
   },
   {
    "duration": 194,
    "start_time": "2022-11-07T08:02:40.801Z"
   },
   {
    "duration": 14,
    "start_time": "2022-11-07T08:02:40.996Z"
   },
   {
    "duration": 41,
    "start_time": "2022-11-07T08:02:41.012Z"
   },
   {
    "duration": 31,
    "start_time": "2022-11-07T08:02:41.055Z"
   },
   {
    "duration": 35,
    "start_time": "2022-11-07T08:02:41.087Z"
   },
   {
    "duration": 18,
    "start_time": "2022-11-07T08:02:41.123Z"
   },
   {
    "duration": 21,
    "start_time": "2022-11-07T08:02:41.142Z"
   },
   {
    "duration": 20,
    "start_time": "2022-11-07T08:02:41.165Z"
   },
   {
    "duration": 9,
    "start_time": "2022-11-07T09:21:36.484Z"
   },
   {
    "duration": 23,
    "start_time": "2022-11-07T09:21:39.451Z"
   },
   {
    "duration": 40,
    "start_time": "2022-11-07T09:21:39.476Z"
   },
   {
    "duration": 11,
    "start_time": "2022-11-07T09:21:39.517Z"
   },
   {
    "duration": 17,
    "start_time": "2022-11-07T09:21:39.530Z"
   },
   {
    "duration": 11,
    "start_time": "2022-11-07T09:21:39.548Z"
   },
   {
    "duration": 23,
    "start_time": "2022-11-07T09:21:39.560Z"
   },
   {
    "duration": 21,
    "start_time": "2022-11-07T09:21:39.585Z"
   },
   {
    "duration": 10,
    "start_time": "2022-11-07T09:21:39.608Z"
   },
   {
    "duration": 9,
    "start_time": "2022-11-07T09:21:39.620Z"
   },
   {
    "duration": 22,
    "start_time": "2022-11-07T09:21:39.630Z"
   },
   {
    "duration": 3,
    "start_time": "2022-11-07T09:21:39.654Z"
   },
   {
    "duration": 10,
    "start_time": "2022-11-07T09:21:39.658Z"
   },
   {
    "duration": 39,
    "start_time": "2022-11-07T09:21:39.669Z"
   },
   {
    "duration": 12,
    "start_time": "2022-11-07T09:21:39.709Z"
   },
   {
    "duration": 26,
    "start_time": "2022-11-07T09:21:40.471Z"
   },
   {
    "duration": 4,
    "start_time": "2022-11-07T09:21:40.500Z"
   },
   {
    "duration": 11,
    "start_time": "2022-11-07T09:21:40.505Z"
   },
   {
    "duration": 15,
    "start_time": "2022-11-07T09:21:40.518Z"
   },
   {
    "duration": 4,
    "start_time": "2022-11-07T09:21:40.537Z"
   },
   {
    "duration": 13,
    "start_time": "2022-11-07T09:21:40.551Z"
   },
   {
    "duration": 7,
    "start_time": "2022-11-07T09:21:40.569Z"
   },
   {
    "duration": 5,
    "start_time": "2022-11-07T09:21:40.584Z"
   },
   {
    "duration": 356,
    "start_time": "2022-11-07T09:21:40.608Z"
   },
   {
    "duration": 366,
    "start_time": "2022-11-07T09:21:40.966Z"
   },
   {
    "duration": 12,
    "start_time": "2022-11-07T09:21:41.334Z"
   },
   {
    "duration": 13,
    "start_time": "2022-11-07T09:21:41.348Z"
   },
   {
    "duration": 768,
    "start_time": "2022-11-07T09:21:41.363Z"
   },
   {
    "duration": 77,
    "start_time": "2022-11-07T09:21:42.133Z"
   },
   {
    "duration": 16,
    "start_time": "2022-11-07T09:21:42.212Z"
   },
   {
    "duration": 23,
    "start_time": "2022-11-07T09:21:42.229Z"
   },
   {
    "duration": 178,
    "start_time": "2022-11-07T09:21:42.254Z"
   },
   {
    "duration": 182,
    "start_time": "2022-11-07T09:21:42.434Z"
   },
   {
    "duration": 732,
    "start_time": "2022-11-07T09:21:42.617Z"
   },
   {
    "duration": 27,
    "start_time": "2022-11-07T09:21:43.350Z"
   },
   {
    "duration": 406,
    "start_time": "2022-11-07T09:21:43.379Z"
   },
   {
    "duration": 221,
    "start_time": "2022-11-07T09:21:43.786Z"
   },
   {
    "duration": 102,
    "start_time": "2022-11-07T09:21:44.009Z"
   },
   {
    "duration": 19,
    "start_time": "2022-11-07T09:21:44.113Z"
   },
   {
    "duration": 7,
    "start_time": "2022-11-07T09:21:44.133Z"
   },
   {
    "duration": 249,
    "start_time": "2022-11-07T09:21:44.141Z"
   },
   {
    "duration": 289,
    "start_time": "2022-11-07T09:21:44.392Z"
   },
   {
    "duration": 204,
    "start_time": "2022-11-07T09:21:44.683Z"
   },
   {
    "duration": 19,
    "start_time": "2022-11-07T09:21:44.889Z"
   },
   {
    "duration": 4,
    "start_time": "2022-11-07T09:21:44.909Z"
   },
   {
    "duration": 9,
    "start_time": "2022-11-07T09:21:44.914Z"
   },
   {
    "duration": 6,
    "start_time": "2022-11-07T09:21:44.925Z"
   },
   {
    "duration": 7,
    "start_time": "2022-11-07T09:21:44.933Z"
   },
   {
    "duration": 16,
    "start_time": "2022-11-07T09:21:44.941Z"
   },
   {
    "duration": 6,
    "start_time": "2022-11-07T09:21:44.958Z"
   },
   {
    "duration": 12,
    "start_time": "2022-11-07T09:23:17.893Z"
   },
   {
    "duration": 29,
    "start_time": "2022-11-07T09:23:21.589Z"
   },
   {
    "duration": 38,
    "start_time": "2022-11-07T09:23:21.619Z"
   },
   {
    "duration": 10,
    "start_time": "2022-11-07T09:23:21.659Z"
   },
   {
    "duration": 11,
    "start_time": "2022-11-07T09:23:21.671Z"
   },
   {
    "duration": 10,
    "start_time": "2022-11-07T09:23:21.684Z"
   },
   {
    "duration": 20,
    "start_time": "2022-11-07T09:23:21.695Z"
   },
   {
    "duration": 7,
    "start_time": "2022-11-07T09:23:21.717Z"
   },
   {
    "duration": 13,
    "start_time": "2022-11-07T09:23:21.725Z"
   },
   {
    "duration": 9,
    "start_time": "2022-11-07T09:23:21.739Z"
   },
   {
    "duration": 16,
    "start_time": "2022-11-07T09:23:21.749Z"
   },
   {
    "duration": 4,
    "start_time": "2022-11-07T09:23:21.766Z"
   },
   {
    "duration": 39,
    "start_time": "2022-11-07T09:23:21.772Z"
   },
   {
    "duration": 10,
    "start_time": "2022-11-07T09:23:21.813Z"
   },
   {
    "duration": 10,
    "start_time": "2022-11-07T09:23:21.825Z"
   },
   {
    "duration": 25,
    "start_time": "2022-11-07T09:23:21.837Z"
   },
   {
    "duration": 3,
    "start_time": "2022-11-07T09:23:21.864Z"
   },
   {
    "duration": 41,
    "start_time": "2022-11-07T09:23:21.868Z"
   },
   {
    "duration": 14,
    "start_time": "2022-11-07T09:23:21.911Z"
   },
   {
    "duration": 5,
    "start_time": "2022-11-07T09:23:21.927Z"
   },
   {
    "duration": 13,
    "start_time": "2022-11-07T09:23:21.934Z"
   },
   {
    "duration": 5,
    "start_time": "2022-11-07T09:23:21.948Z"
   },
   {
    "duration": 7,
    "start_time": "2022-11-07T09:23:21.955Z"
   },
   {
    "duration": 472,
    "start_time": "2022-11-07T09:23:21.964Z"
   },
   {
    "duration": 338,
    "start_time": "2022-11-07T09:23:22.438Z"
   },
   {
    "duration": 12,
    "start_time": "2022-11-07T09:23:22.777Z"
   },
   {
    "duration": 16,
    "start_time": "2022-11-07T09:23:22.791Z"
   },
   {
    "duration": 657,
    "start_time": "2022-11-07T09:23:22.809Z"
   },
   {
    "duration": 84,
    "start_time": "2022-11-07T09:23:23.468Z"
   },
   {
    "duration": 18,
    "start_time": "2022-11-07T09:23:23.554Z"
   },
   {
    "duration": 30,
    "start_time": "2022-11-07T09:23:23.575Z"
   },
   {
    "duration": 172,
    "start_time": "2022-11-07T09:23:23.607Z"
   },
   {
    "duration": 178,
    "start_time": "2022-11-07T09:23:23.781Z"
   },
   {
    "duration": 751,
    "start_time": "2022-11-07T09:23:23.961Z"
   },
   {
    "duration": 25,
    "start_time": "2022-11-07T09:23:24.713Z"
   },
   {
    "duration": 437,
    "start_time": "2022-11-07T09:23:24.740Z"
   },
   {
    "duration": 327,
    "start_time": "2022-11-07T09:23:25.179Z"
   },
   {
    "duration": 15,
    "start_time": "2022-11-07T09:23:25.508Z"
   },
   {
    "duration": 19,
    "start_time": "2022-11-07T09:23:25.524Z"
   },
   {
    "duration": 6,
    "start_time": "2022-11-07T09:23:25.545Z"
   },
   {
    "duration": 241,
    "start_time": "2022-11-07T09:23:25.552Z"
   },
   {
    "duration": 374,
    "start_time": "2022-11-07T09:23:25.796Z"
   },
   {
    "duration": 193,
    "start_time": "2022-11-07T09:23:26.171Z"
   },
   {
    "duration": 14,
    "start_time": "2022-11-07T09:23:26.365Z"
   },
   {
    "duration": 4,
    "start_time": "2022-11-07T09:23:26.380Z"
   },
   {
    "duration": 23,
    "start_time": "2022-11-07T09:23:26.386Z"
   },
   {
    "duration": 7,
    "start_time": "2022-11-07T09:23:26.410Z"
   },
   {
    "duration": 7,
    "start_time": "2022-11-07T09:23:26.419Z"
   },
   {
    "duration": 12,
    "start_time": "2022-11-07T09:23:26.428Z"
   },
   {
    "duration": 10,
    "start_time": "2022-11-07T09:23:26.441Z"
   },
   {
    "duration": 23,
    "start_time": "2022-11-07T09:24:36.195Z"
   },
   {
    "duration": 39,
    "start_time": "2022-11-07T09:24:36.220Z"
   },
   {
    "duration": 16,
    "start_time": "2022-11-07T09:24:36.261Z"
   },
   {
    "duration": 24,
    "start_time": "2022-11-07T09:24:36.279Z"
   },
   {
    "duration": 13,
    "start_time": "2022-11-07T09:24:36.305Z"
   },
   {
    "duration": 23,
    "start_time": "2022-11-07T09:24:36.320Z"
   },
   {
    "duration": 10,
    "start_time": "2022-11-07T09:24:36.345Z"
   },
   {
    "duration": 21,
    "start_time": "2022-11-07T09:24:36.358Z"
   },
   {
    "duration": 26,
    "start_time": "2022-11-07T09:24:36.382Z"
   },
   {
    "duration": 26,
    "start_time": "2022-11-07T09:24:36.410Z"
   },
   {
    "duration": 4,
    "start_time": "2022-11-07T09:24:36.439Z"
   },
   {
    "duration": 16,
    "start_time": "2022-11-07T09:24:36.445Z"
   },
   {
    "duration": 42,
    "start_time": "2022-11-07T09:24:36.463Z"
   },
   {
    "duration": 19,
    "start_time": "2022-11-07T09:24:36.509Z"
   },
   {
    "duration": 30,
    "start_time": "2022-11-07T09:24:36.530Z"
   },
   {
    "duration": 5,
    "start_time": "2022-11-07T09:24:36.562Z"
   },
   {
    "duration": 37,
    "start_time": "2022-11-07T09:24:36.569Z"
   },
   {
    "duration": 20,
    "start_time": "2022-11-07T09:24:36.608Z"
   },
   {
    "duration": 6,
    "start_time": "2022-11-07T09:24:36.631Z"
   },
   {
    "duration": 17,
    "start_time": "2022-11-07T09:24:36.639Z"
   },
   {
    "duration": 9,
    "start_time": "2022-11-07T09:24:36.657Z"
   },
   {
    "duration": 42,
    "start_time": "2022-11-07T09:24:36.668Z"
   },
   {
    "duration": 383,
    "start_time": "2022-11-07T09:24:36.712Z"
   },
   {
    "duration": 362,
    "start_time": "2022-11-07T09:24:37.096Z"
   },
   {
    "duration": 17,
    "start_time": "2022-11-07T09:24:37.460Z"
   },
   {
    "duration": 16,
    "start_time": "2022-11-07T09:24:37.480Z"
   },
   {
    "duration": 738,
    "start_time": "2022-11-07T09:24:37.498Z"
   },
   {
    "duration": 79,
    "start_time": "2022-11-07T09:24:38.240Z"
   },
   {
    "duration": 17,
    "start_time": "2022-11-07T09:24:38.321Z"
   },
   {
    "duration": 15,
    "start_time": "2022-11-07T09:24:38.340Z"
   },
   {
    "duration": 200,
    "start_time": "2022-11-07T09:24:38.358Z"
   },
   {
    "duration": 179,
    "start_time": "2022-11-07T09:24:38.560Z"
   },
   {
    "duration": 733,
    "start_time": "2022-11-07T09:24:38.740Z"
   },
   {
    "duration": 36,
    "start_time": "2022-11-07T09:24:39.475Z"
   },
   {
    "duration": 564,
    "start_time": "2022-11-07T09:24:39.514Z"
   },
   {
    "duration": 430,
    "start_time": "2022-11-07T09:24:40.079Z"
   },
   {
    "duration": 100,
    "start_time": "2022-11-07T09:24:40.511Z"
   },
   {
    "duration": 19,
    "start_time": "2022-11-07T09:24:40.613Z"
   },
   {
    "duration": 8,
    "start_time": "2022-11-07T09:24:40.633Z"
   },
   {
    "duration": 254,
    "start_time": "2022-11-07T09:24:40.642Z"
   },
   {
    "duration": 282,
    "start_time": "2022-11-07T09:24:40.897Z"
   },
   {
    "duration": 183,
    "start_time": "2022-11-07T09:24:41.181Z"
   },
   {
    "duration": 11,
    "start_time": "2022-11-07T09:24:41.365Z"
   },
   {
    "duration": 5,
    "start_time": "2022-11-07T09:24:41.377Z"
   },
   {
    "duration": 24,
    "start_time": "2022-11-07T09:24:41.384Z"
   },
   {
    "duration": 7,
    "start_time": "2022-11-07T09:24:41.409Z"
   },
   {
    "duration": 6,
    "start_time": "2022-11-07T09:24:41.417Z"
   },
   {
    "duration": 16,
    "start_time": "2022-11-07T09:24:41.424Z"
   },
   {
    "duration": 9,
    "start_time": "2022-11-07T09:24:41.442Z"
   },
   {
    "duration": 9,
    "start_time": "2022-11-07T09:27:04.183Z"
   },
   {
    "duration": 21,
    "start_time": "2022-11-07T09:27:08.107Z"
   },
   {
    "duration": 44,
    "start_time": "2022-11-07T09:27:08.130Z"
   },
   {
    "duration": 11,
    "start_time": "2022-11-07T09:27:08.175Z"
   },
   {
    "duration": 38,
    "start_time": "2022-11-07T09:27:08.189Z"
   },
   {
    "duration": 31,
    "start_time": "2022-11-07T09:27:08.229Z"
   },
   {
    "duration": 44,
    "start_time": "2022-11-07T09:27:08.262Z"
   },
   {
    "duration": 28,
    "start_time": "2022-11-07T09:27:08.309Z"
   },
   {
    "duration": 28,
    "start_time": "2022-11-07T09:27:08.339Z"
   },
   {
    "duration": 29,
    "start_time": "2022-11-07T09:27:08.368Z"
   },
   {
    "duration": 40,
    "start_time": "2022-11-07T09:27:08.398Z"
   },
   {
    "duration": 8,
    "start_time": "2022-11-07T09:27:08.440Z"
   },
   {
    "duration": 35,
    "start_time": "2022-11-07T09:27:08.449Z"
   },
   {
    "duration": 29,
    "start_time": "2022-11-07T09:27:08.485Z"
   },
   {
    "duration": 34,
    "start_time": "2022-11-07T09:27:08.515Z"
   },
   {
    "duration": 36,
    "start_time": "2022-11-07T09:27:08.552Z"
   },
   {
    "duration": 3,
    "start_time": "2022-11-07T09:27:08.590Z"
   },
   {
    "duration": 32,
    "start_time": "2022-11-07T09:27:08.594Z"
   },
   {
    "duration": 27,
    "start_time": "2022-11-07T09:27:08.627Z"
   },
   {
    "duration": 22,
    "start_time": "2022-11-07T09:27:08.655Z"
   },
   {
    "duration": 30,
    "start_time": "2022-11-07T09:27:08.679Z"
   },
   {
    "duration": 11,
    "start_time": "2022-11-07T09:27:08.710Z"
   },
   {
    "duration": 25,
    "start_time": "2022-11-07T09:27:08.723Z"
   },
   {
    "duration": 352,
    "start_time": "2022-11-07T09:27:08.749Z"
   },
   {
    "duration": 357,
    "start_time": "2022-11-07T09:27:09.102Z"
   },
   {
    "duration": 12,
    "start_time": "2022-11-07T09:27:09.461Z"
   },
   {
    "duration": 20,
    "start_time": "2022-11-07T09:27:09.474Z"
   },
   {
    "duration": 795,
    "start_time": "2022-11-07T09:27:09.496Z"
   },
   {
    "duration": 84,
    "start_time": "2022-11-07T09:27:10.292Z"
   },
   {
    "duration": 35,
    "start_time": "2022-11-07T09:27:10.378Z"
   },
   {
    "duration": 17,
    "start_time": "2022-11-07T09:27:10.415Z"
   },
   {
    "duration": 172,
    "start_time": "2022-11-07T09:27:10.433Z"
   },
   {
    "duration": 171,
    "start_time": "2022-11-07T09:27:10.608Z"
   },
   {
    "duration": 742,
    "start_time": "2022-11-07T09:27:10.780Z"
   },
   {
    "duration": 26,
    "start_time": "2022-11-07T09:27:11.523Z"
   },
   {
    "duration": 434,
    "start_time": "2022-11-07T09:27:11.552Z"
   },
   {
    "duration": 218,
    "start_time": "2022-11-07T09:27:11.988Z"
   },
   {
    "duration": 98,
    "start_time": "2022-11-07T09:27:12.208Z"
   },
   {
    "duration": 22,
    "start_time": "2022-11-07T09:27:12.308Z"
   },
   {
    "duration": 6,
    "start_time": "2022-11-07T09:27:12.332Z"
   },
   {
    "duration": 237,
    "start_time": "2022-11-07T09:27:12.340Z"
   },
   {
    "duration": 287,
    "start_time": "2022-11-07T09:27:12.579Z"
   },
   {
    "duration": 188,
    "start_time": "2022-11-07T09:27:12.868Z"
   },
   {
    "duration": 12,
    "start_time": "2022-11-07T09:27:13.058Z"
   },
   {
    "duration": 3,
    "start_time": "2022-11-07T09:27:13.071Z"
   },
   {
    "duration": 11,
    "start_time": "2022-11-07T09:27:13.076Z"
   },
   {
    "duration": 22,
    "start_time": "2022-11-07T09:27:13.088Z"
   },
   {
    "duration": 7,
    "start_time": "2022-11-07T09:27:13.112Z"
   },
   {
    "duration": 9,
    "start_time": "2022-11-07T09:27:13.121Z"
   },
   {
    "duration": 9,
    "start_time": "2022-11-07T09:27:13.132Z"
   },
   {
    "duration": 10,
    "start_time": "2022-11-07T09:28:44.208Z"
   },
   {
    "duration": 15,
    "start_time": "2022-11-07T09:29:15.685Z"
   },
   {
    "duration": 23,
    "start_time": "2022-11-07T09:29:34.470Z"
   },
   {
    "duration": 45,
    "start_time": "2022-11-07T09:29:34.496Z"
   },
   {
    "duration": 16,
    "start_time": "2022-11-07T09:29:34.543Z"
   },
   {
    "duration": 11,
    "start_time": "2022-11-07T09:29:34.562Z"
   },
   {
    "duration": 9,
    "start_time": "2022-11-07T09:29:34.575Z"
   },
   {
    "duration": 21,
    "start_time": "2022-11-07T09:29:34.585Z"
   },
   {
    "duration": 7,
    "start_time": "2022-11-07T09:29:34.607Z"
   },
   {
    "duration": 14,
    "start_time": "2022-11-07T09:29:34.616Z"
   },
   {
    "duration": 9,
    "start_time": "2022-11-07T09:29:34.631Z"
   },
   {
    "duration": 15,
    "start_time": "2022-11-07T09:29:34.642Z"
   },
   {
    "duration": 9,
    "start_time": "2022-11-07T09:29:34.658Z"
   },
   {
    "duration": 14,
    "start_time": "2022-11-07T09:29:34.668Z"
   },
   {
    "duration": 14,
    "start_time": "2022-11-07T09:29:34.706Z"
   },
   {
    "duration": 11,
    "start_time": "2022-11-07T09:29:34.722Z"
   },
   {
    "duration": 22,
    "start_time": "2022-11-07T09:29:35.752Z"
   },
   {
    "duration": 4,
    "start_time": "2022-11-07T09:29:35.794Z"
   },
   {
    "duration": 6,
    "start_time": "2022-11-07T09:29:35.804Z"
   },
   {
    "duration": 22,
    "start_time": "2022-11-07T09:29:35.816Z"
   },
   {
    "duration": 5,
    "start_time": "2022-11-07T09:29:35.840Z"
   },
   {
    "duration": 11,
    "start_time": "2022-11-07T09:29:35.852Z"
   },
   {
    "duration": 7,
    "start_time": "2022-11-07T09:29:35.869Z"
   },
   {
    "duration": 10,
    "start_time": "2022-11-07T09:29:35.878Z"
   },
   {
    "duration": 368,
    "start_time": "2022-11-07T09:29:35.907Z"
   },
   {
    "duration": 444,
    "start_time": "2022-11-07T09:29:36.277Z"
   },
   {
    "duration": 19,
    "start_time": "2022-11-07T09:29:36.724Z"
   },
   {
    "duration": 7,
    "start_time": "2022-11-07T09:29:36.745Z"
   },
   {
    "duration": 762,
    "start_time": "2022-11-07T09:29:36.754Z"
   },
   {
    "duration": 134,
    "start_time": "2022-11-07T09:29:37.518Z"
   },
   {
    "duration": 17,
    "start_time": "2022-11-07T09:29:37.653Z"
   },
   {
    "duration": 13,
    "start_time": "2022-11-07T09:29:37.671Z"
   },
   {
    "duration": 192,
    "start_time": "2022-11-07T09:29:37.685Z"
   },
   {
    "duration": 183,
    "start_time": "2022-11-07T09:29:37.878Z"
   },
   {
    "duration": 892,
    "start_time": "2022-11-07T09:29:38.063Z"
   },
   {
    "duration": 30,
    "start_time": "2022-11-07T09:29:38.956Z"
   },
   {
    "duration": 502,
    "start_time": "2022-11-07T09:29:38.987Z"
   },
   {
    "duration": 419,
    "start_time": "2022-11-07T09:29:39.492Z"
   },
   {
    "duration": 13,
    "start_time": "2022-11-07T09:29:39.913Z"
   },
   {
    "duration": 21,
    "start_time": "2022-11-07T09:29:39.928Z"
   },
   {
    "duration": 8,
    "start_time": "2022-11-07T09:29:39.950Z"
   },
   {
    "duration": 255,
    "start_time": "2022-11-07T09:29:39.960Z"
   },
   {
    "duration": 428,
    "start_time": "2022-11-07T09:29:40.217Z"
   },
   {
    "duration": 183,
    "start_time": "2022-11-07T09:29:40.647Z"
   },
   {
    "duration": 12,
    "start_time": "2022-11-07T09:29:40.832Z"
   },
   {
    "duration": 4,
    "start_time": "2022-11-07T09:29:40.845Z"
   },
   {
    "duration": 11,
    "start_time": "2022-11-07T09:29:40.850Z"
   },
   {
    "duration": 7,
    "start_time": "2022-11-07T09:29:40.863Z"
   },
   {
    "duration": 34,
    "start_time": "2022-11-07T09:29:40.871Z"
   },
   {
    "duration": 11,
    "start_time": "2022-11-07T09:29:40.907Z"
   },
   {
    "duration": 6,
    "start_time": "2022-11-07T09:29:40.920Z"
   },
   {
    "duration": 28,
    "start_time": "2022-11-07T09:30:44.040Z"
   },
   {
    "duration": 41,
    "start_time": "2022-11-07T09:30:44.070Z"
   },
   {
    "duration": 11,
    "start_time": "2022-11-07T09:30:44.113Z"
   },
   {
    "duration": 9,
    "start_time": "2022-11-07T09:30:44.126Z"
   },
   {
    "duration": 10,
    "start_time": "2022-11-07T09:30:44.136Z"
   },
   {
    "duration": 18,
    "start_time": "2022-11-07T09:30:44.147Z"
   },
   {
    "duration": 7,
    "start_time": "2022-11-07T09:30:44.167Z"
   },
   {
    "duration": 12,
    "start_time": "2022-11-07T09:30:44.204Z"
   },
   {
    "duration": 9,
    "start_time": "2022-11-07T09:30:44.217Z"
   },
   {
    "duration": 18,
    "start_time": "2022-11-07T09:30:44.228Z"
   },
   {
    "duration": 3,
    "start_time": "2022-11-07T09:30:44.248Z"
   },
   {
    "duration": 13,
    "start_time": "2022-11-07T09:30:44.253Z"
   },
   {
    "duration": 45,
    "start_time": "2022-11-07T09:30:44.268Z"
   },
   {
    "duration": 15,
    "start_time": "2022-11-07T09:30:44.315Z"
   },
   {
    "duration": 17,
    "start_time": "2022-11-07T09:30:45.377Z"
   },
   {
    "duration": 4,
    "start_time": "2022-11-07T09:30:45.396Z"
   },
   {
    "duration": 6,
    "start_time": "2022-11-07T09:30:45.402Z"
   },
   {
    "duration": 15,
    "start_time": "2022-11-07T09:30:45.423Z"
   },
   {
    "duration": 4,
    "start_time": "2022-11-07T09:30:45.475Z"
   },
   {
    "duration": 11,
    "start_time": "2022-11-07T09:30:45.488Z"
   },
   {
    "duration": 5,
    "start_time": "2022-11-07T09:30:45.502Z"
   },
   {
    "duration": 5,
    "start_time": "2022-11-07T09:30:45.511Z"
   },
   {
    "duration": 403,
    "start_time": "2022-11-07T09:30:45.527Z"
   },
   {
    "duration": 361,
    "start_time": "2022-11-07T09:30:45.932Z"
   },
   {
    "duration": 18,
    "start_time": "2022-11-07T09:30:46.294Z"
   },
   {
    "duration": 7,
    "start_time": "2022-11-07T09:30:46.314Z"
   },
   {
    "duration": 745,
    "start_time": "2022-11-07T09:30:46.322Z"
   },
   {
    "duration": 121,
    "start_time": "2022-11-07T09:30:47.069Z"
   },
   {
    "duration": 25,
    "start_time": "2022-11-07T09:30:47.192Z"
   },
   {
    "duration": 15,
    "start_time": "2022-11-07T09:30:47.218Z"
   },
   {
    "duration": 250,
    "start_time": "2022-11-07T09:30:47.235Z"
   },
   {
    "duration": 183,
    "start_time": "2022-11-07T09:30:47.488Z"
   },
   {
    "duration": 1069,
    "start_time": "2022-11-07T09:30:47.672Z"
   },
   {
    "duration": 29,
    "start_time": "2022-11-07T09:30:48.743Z"
   },
   {
    "duration": 516,
    "start_time": "2022-11-07T09:30:48.774Z"
   },
   {
    "duration": 320,
    "start_time": "2022-11-07T09:30:49.292Z"
   },
   {
    "duration": 107,
    "start_time": "2022-11-07T09:30:49.614Z"
   },
   {
    "duration": 28,
    "start_time": "2022-11-07T09:30:49.723Z"
   },
   {
    "duration": 9,
    "start_time": "2022-11-07T09:30:49.753Z"
   },
   {
    "duration": 274,
    "start_time": "2022-11-07T09:30:49.764Z"
   },
   {
    "duration": 294,
    "start_time": "2022-11-07T09:30:50.040Z"
   },
   {
    "duration": 189,
    "start_time": "2022-11-07T09:30:50.336Z"
   },
   {
    "duration": 12,
    "start_time": "2022-11-07T09:30:50.526Z"
   },
   {
    "duration": 3,
    "start_time": "2022-11-07T09:30:50.540Z"
   },
   {
    "duration": 13,
    "start_time": "2022-11-07T09:30:50.544Z"
   },
   {
    "duration": 7,
    "start_time": "2022-11-07T09:30:50.558Z"
   },
   {
    "duration": 6,
    "start_time": "2022-11-07T09:30:50.566Z"
   },
   {
    "duration": 34,
    "start_time": "2022-11-07T09:30:50.573Z"
   },
   {
    "duration": 6,
    "start_time": "2022-11-07T09:30:50.609Z"
   },
   {
    "duration": 10,
    "start_time": "2022-11-07T09:31:52.915Z"
   },
   {
    "duration": 24,
    "start_time": "2022-11-07T09:33:28.791Z"
   },
   {
    "duration": 9,
    "start_time": "2022-11-07T09:33:35.020Z"
   },
   {
    "duration": 21,
    "start_time": "2022-11-07T09:33:38.649Z"
   },
   {
    "duration": 1700,
    "start_time": "2022-11-08T06:33:27.182Z"
   },
   {
    "duration": 88,
    "start_time": "2022-11-08T06:33:28.885Z"
   },
   {
    "duration": 14,
    "start_time": "2022-11-08T06:33:28.975Z"
   },
   {
    "duration": 16,
    "start_time": "2022-11-08T06:33:28.991Z"
   },
   {
    "duration": 9,
    "start_time": "2022-11-08T06:33:29.009Z"
   },
   {
    "duration": 25,
    "start_time": "2022-11-08T06:33:29.020Z"
   },
   {
    "duration": 6,
    "start_time": "2022-11-08T06:33:29.047Z"
   },
   {
    "duration": 12,
    "start_time": "2022-11-08T06:33:29.055Z"
   },
   {
    "duration": 29,
    "start_time": "2022-11-08T06:33:29.069Z"
   },
   {
    "duration": 18,
    "start_time": "2022-11-08T06:33:29.101Z"
   },
   {
    "duration": 3,
    "start_time": "2022-11-08T06:33:29.121Z"
   },
   {
    "duration": 13,
    "start_time": "2022-11-08T06:33:29.126Z"
   },
   {
    "duration": 9,
    "start_time": "2022-11-08T06:33:29.141Z"
   },
   {
    "duration": 47,
    "start_time": "2022-11-08T06:33:29.152Z"
   },
   {
    "duration": 20,
    "start_time": "2022-11-08T06:33:29.201Z"
   },
   {
    "duration": 4,
    "start_time": "2022-11-08T06:33:29.223Z"
   },
   {
    "duration": 15,
    "start_time": "2022-11-08T06:33:29.228Z"
   },
   {
    "duration": 26,
    "start_time": "2022-11-08T06:33:29.245Z"
   },
   {
    "duration": 25,
    "start_time": "2022-11-08T06:33:29.273Z"
   },
   {
    "duration": 15,
    "start_time": "2022-11-08T06:33:29.300Z"
   },
   {
    "duration": 8,
    "start_time": "2022-11-08T06:33:29.317Z"
   },
   {
    "duration": 9,
    "start_time": "2022-11-08T06:33:29.326Z"
   },
   {
    "duration": 395,
    "start_time": "2022-11-08T06:33:29.337Z"
   },
   {
    "duration": 335,
    "start_time": "2022-11-08T06:33:29.734Z"
   },
   {
    "duration": 14,
    "start_time": "2022-11-08T06:33:30.071Z"
   },
   {
    "duration": 26,
    "start_time": "2022-11-08T06:33:30.087Z"
   },
   {
    "duration": 1128,
    "start_time": "2022-11-08T06:33:30.115Z"
   },
   {
    "duration": 121,
    "start_time": "2022-11-08T06:33:31.246Z"
   },
   {
    "duration": 16,
    "start_time": "2022-11-08T06:33:31.369Z"
   },
   {
    "duration": 46,
    "start_time": "2022-11-08T06:33:31.387Z"
   },
   {
    "duration": 195,
    "start_time": "2022-11-08T06:33:31.434Z"
   },
   {
    "duration": 153,
    "start_time": "2022-11-08T06:33:31.630Z"
   },
   {
    "duration": 937,
    "start_time": "2022-11-08T06:33:31.784Z"
   },
   {
    "duration": 28,
    "start_time": "2022-11-08T06:33:32.722Z"
   },
   {
    "duration": 535,
    "start_time": "2022-11-08T06:33:32.752Z"
   },
   {
    "duration": 407,
    "start_time": "2022-11-08T06:33:33.297Z"
   },
   {
    "duration": 12,
    "start_time": "2022-11-08T06:33:33.706Z"
   },
   {
    "duration": 28,
    "start_time": "2022-11-08T06:33:33.719Z"
   },
   {
    "duration": 51,
    "start_time": "2022-11-08T06:33:33.749Z"
   },
   {
    "duration": 233,
    "start_time": "2022-11-08T06:33:33.802Z"
   },
   {
    "duration": 312,
    "start_time": "2022-11-08T06:33:34.036Z"
   },
   {
    "duration": 287,
    "start_time": "2022-11-08T06:33:34.350Z"
   },
   {
    "duration": 11,
    "start_time": "2022-11-08T06:33:34.639Z"
   },
   {
    "duration": 4,
    "start_time": "2022-11-08T06:33:34.651Z"
   },
   {
    "duration": 11,
    "start_time": "2022-11-08T06:33:34.656Z"
   },
   {
    "duration": 29,
    "start_time": "2022-11-08T06:33:34.669Z"
   },
   {
    "duration": 6,
    "start_time": "2022-11-08T06:33:34.700Z"
   },
   {
    "duration": 13,
    "start_time": "2022-11-08T06:33:34.708Z"
   },
   {
    "duration": 6,
    "start_time": "2022-11-08T06:33:34.722Z"
   },
   {
    "duration": 17,
    "start_time": "2022-11-08T06:35:06.788Z"
   },
   {
    "duration": 17,
    "start_time": "2022-11-08T06:35:21.841Z"
   },
   {
    "duration": 79,
    "start_time": "2022-11-08T06:36:34.116Z"
   },
   {
    "duration": 67,
    "start_time": "2022-11-08T06:37:35.347Z"
   },
   {
    "duration": 79,
    "start_time": "2022-11-08T06:37:43.046Z"
   },
   {
    "duration": 12,
    "start_time": "2022-11-08T07:44:58.579Z"
   },
   {
    "duration": 10,
    "start_time": "2022-11-08T07:45:51.523Z"
   },
   {
    "duration": 9,
    "start_time": "2022-11-08T07:46:11.967Z"
   },
   {
    "duration": 9,
    "start_time": "2022-11-08T07:46:23.305Z"
   },
   {
    "duration": 10,
    "start_time": "2022-11-08T07:46:39.775Z"
   },
   {
    "duration": 10,
    "start_time": "2022-11-08T07:47:24.488Z"
   },
   {
    "duration": 9,
    "start_time": "2022-11-08T07:47:46.303Z"
   },
   {
    "duration": 10,
    "start_time": "2022-11-08T07:47:58.492Z"
   },
   {
    "duration": 21,
    "start_time": "2022-11-08T07:49:08.687Z"
   },
   {
    "duration": 15,
    "start_time": "2022-11-08T07:49:17.427Z"
   },
   {
    "duration": 36,
    "start_time": "2022-11-08T07:49:17.444Z"
   },
   {
    "duration": 11,
    "start_time": "2022-11-08T07:49:17.482Z"
   },
   {
    "duration": 10,
    "start_time": "2022-11-08T07:49:17.495Z"
   },
   {
    "duration": 10,
    "start_time": "2022-11-08T07:49:17.507Z"
   },
   {
    "duration": 19,
    "start_time": "2022-11-08T07:49:17.518Z"
   },
   {
    "duration": 7,
    "start_time": "2022-11-08T07:49:17.539Z"
   },
   {
    "duration": 13,
    "start_time": "2022-11-08T07:49:17.547Z"
   },
   {
    "duration": 39,
    "start_time": "2022-11-08T07:49:17.561Z"
   },
   {
    "duration": 18,
    "start_time": "2022-11-08T07:49:17.603Z"
   },
   {
    "duration": 2,
    "start_time": "2022-11-08T07:49:17.623Z"
   },
   {
    "duration": 15,
    "start_time": "2022-11-08T07:49:17.627Z"
   },
   {
    "duration": 9,
    "start_time": "2022-11-08T07:49:17.644Z"
   },
   {
    "duration": 15,
    "start_time": "2022-11-08T07:49:17.655Z"
   },
   {
    "duration": 43,
    "start_time": "2022-11-08T07:49:17.672Z"
   },
   {
    "duration": 6,
    "start_time": "2022-11-08T07:49:17.717Z"
   },
   {
    "duration": 13,
    "start_time": "2022-11-08T07:49:17.724Z"
   },
   {
    "duration": 20,
    "start_time": "2022-11-08T07:49:17.738Z"
   },
   {
    "duration": 13,
    "start_time": "2022-11-08T07:49:17.760Z"
   },
   {
    "duration": 24,
    "start_time": "2022-11-08T07:49:17.777Z"
   },
   {
    "duration": 6,
    "start_time": "2022-11-08T07:49:17.803Z"
   },
   {
    "duration": 11,
    "start_time": "2022-11-08T07:49:17.811Z"
   },
   {
    "duration": 411,
    "start_time": "2022-11-08T07:49:17.824Z"
   },
   {
    "duration": 379,
    "start_time": "2022-11-08T07:49:18.237Z"
   },
   {
    "duration": 11,
    "start_time": "2022-11-08T07:49:18.618Z"
   },
   {
    "duration": 6,
    "start_time": "2022-11-08T07:49:18.632Z"
   },
   {
    "duration": 699,
    "start_time": "2022-11-08T07:49:18.640Z"
   },
   {
    "duration": 83,
    "start_time": "2022-11-08T07:49:19.341Z"
   },
   {
    "duration": 18,
    "start_time": "2022-11-08T07:49:19.425Z"
   },
   {
    "duration": 17,
    "start_time": "2022-11-08T07:49:19.444Z"
   },
   {
    "duration": 194,
    "start_time": "2022-11-08T07:49:19.463Z"
   },
   {
    "duration": 202,
    "start_time": "2022-11-08T07:49:19.658Z"
   },
   {
    "duration": 775,
    "start_time": "2022-11-08T07:49:19.862Z"
   },
   {
    "duration": 27,
    "start_time": "2022-11-08T07:49:20.639Z"
   },
   {
    "duration": 535,
    "start_time": "2022-11-08T07:49:20.668Z"
   },
   {
    "duration": 393,
    "start_time": "2022-11-08T07:49:21.205Z"
   },
   {
    "duration": 14,
    "start_time": "2022-11-08T07:49:21.600Z"
   },
   {
    "duration": 20,
    "start_time": "2022-11-08T07:49:21.615Z"
   },
   {
    "duration": 8,
    "start_time": "2022-11-08T07:49:21.636Z"
   },
   {
    "duration": 277,
    "start_time": "2022-11-08T07:49:21.646Z"
   },
   {
    "duration": 305,
    "start_time": "2022-11-08T07:49:21.925Z"
   },
   {
    "duration": 203,
    "start_time": "2022-11-08T07:49:22.232Z"
   },
   {
    "duration": 10,
    "start_time": "2022-11-08T07:49:22.437Z"
   },
   {
    "duration": 4,
    "start_time": "2022-11-08T07:49:22.449Z"
   },
   {
    "duration": 9,
    "start_time": "2022-11-08T07:49:22.454Z"
   },
   {
    "duration": 8,
    "start_time": "2022-11-08T07:49:22.465Z"
   },
   {
    "duration": 24,
    "start_time": "2022-11-08T07:49:22.474Z"
   },
   {
    "duration": 12,
    "start_time": "2022-11-08T07:49:22.500Z"
   },
   {
    "duration": 6,
    "start_time": "2022-11-08T07:49:22.514Z"
   },
   {
    "duration": 31,
    "start_time": "2022-11-08T07:50:30.137Z"
   },
   {
    "duration": 22,
    "start_time": "2022-11-08T07:51:10.344Z"
   },
   {
    "duration": 11,
    "start_time": "2022-11-08T07:54:52.966Z"
   },
   {
    "duration": 13,
    "start_time": "2022-11-08T08:38:13.537Z"
   },
   {
    "duration": 17,
    "start_time": "2022-11-08T08:38:16.331Z"
   },
   {
    "duration": 34,
    "start_time": "2022-11-08T08:38:16.350Z"
   },
   {
    "duration": 13,
    "start_time": "2022-11-08T08:38:16.386Z"
   },
   {
    "duration": 21,
    "start_time": "2022-11-08T08:38:16.400Z"
   },
   {
    "duration": 15,
    "start_time": "2022-11-08T08:38:16.424Z"
   },
   {
    "duration": 20,
    "start_time": "2022-11-08T08:38:16.441Z"
   },
   {
    "duration": 9,
    "start_time": "2022-11-08T08:38:16.463Z"
   },
   {
    "duration": 24,
    "start_time": "2022-11-08T08:38:16.474Z"
   },
   {
    "duration": 11,
    "start_time": "2022-11-08T08:38:16.501Z"
   },
   {
    "duration": 22,
    "start_time": "2022-11-08T08:38:16.515Z"
   },
   {
    "duration": 6,
    "start_time": "2022-11-08T08:38:16.539Z"
   },
   {
    "duration": 18,
    "start_time": "2022-11-08T08:38:16.547Z"
   },
   {
    "duration": 35,
    "start_time": "2022-11-08T08:38:16.567Z"
   },
   {
    "duration": 17,
    "start_time": "2022-11-08T08:38:16.603Z"
   },
   {
    "duration": 25,
    "start_time": "2022-11-08T08:38:17.367Z"
   },
   {
    "duration": 79,
    "start_time": "2022-11-08T08:38:17.400Z"
   },
   {
    "duration": 12,
    "start_time": "2022-11-08T08:38:17.484Z"
   },
   {
    "duration": 24,
    "start_time": "2022-11-08T08:38:17.498Z"
   },
   {
    "duration": 6,
    "start_time": "2022-11-08T08:38:17.525Z"
   },
   {
    "duration": 21,
    "start_time": "2022-11-08T08:38:17.532Z"
   },
   {
    "duration": 7,
    "start_time": "2022-11-08T08:38:17.555Z"
   },
   {
    "duration": 36,
    "start_time": "2022-11-08T08:38:17.563Z"
   },
   {
    "duration": 499,
    "start_time": "2022-11-08T08:38:17.601Z"
   },
   {
    "duration": 411,
    "start_time": "2022-11-08T08:38:18.102Z"
   },
   {
    "duration": 16,
    "start_time": "2022-11-08T08:38:18.515Z"
   },
   {
    "duration": 16,
    "start_time": "2022-11-08T08:38:18.534Z"
   },
   {
    "duration": 785,
    "start_time": "2022-11-08T08:38:18.552Z"
   },
   {
    "duration": 173,
    "start_time": "2022-11-08T08:38:19.339Z"
   },
   {
    "duration": 91,
    "start_time": "2022-11-08T08:38:19.514Z"
   },
   {
    "duration": 44,
    "start_time": "2022-11-08T08:38:19.608Z"
   },
   {
    "duration": 16,
    "start_time": "2022-11-08T08:38:19.654Z"
   },
   {
    "duration": 222,
    "start_time": "2022-11-08T08:38:19.671Z"
   },
   {
    "duration": 203,
    "start_time": "2022-11-08T08:38:19.895Z"
   },
   {
    "duration": 948,
    "start_time": "2022-11-08T08:38:20.100Z"
   },
   {
    "duration": 50,
    "start_time": "2022-11-08T08:38:21.051Z"
   },
   {
    "duration": 473,
    "start_time": "2022-11-08T08:38:21.104Z"
   },
   {
    "duration": 230,
    "start_time": "2022-11-08T08:38:21.579Z"
   },
   {
    "duration": 98,
    "start_time": "2022-11-08T08:38:21.811Z"
   },
   {
    "duration": 24,
    "start_time": "2022-11-08T08:38:21.912Z"
   },
   {
    "duration": 9,
    "start_time": "2022-11-08T08:38:21.937Z"
   },
   {
    "duration": 272,
    "start_time": "2022-11-08T08:38:21.948Z"
   },
   {
    "duration": 375,
    "start_time": "2022-11-08T08:38:22.222Z"
   },
   {
    "duration": 210,
    "start_time": "2022-11-08T08:38:22.601Z"
   },
   {
    "duration": 13,
    "start_time": "2022-11-08T08:38:22.813Z"
   },
   {
    "duration": 4,
    "start_time": "2022-11-08T08:38:22.830Z"
   },
   {
    "duration": 12,
    "start_time": "2022-11-08T08:38:22.836Z"
   },
   {
    "duration": 10,
    "start_time": "2022-11-08T08:38:22.852Z"
   },
   {
    "duration": 33,
    "start_time": "2022-11-08T08:38:22.864Z"
   },
   {
    "duration": 8,
    "start_time": "2022-11-08T08:38:22.900Z"
   },
   {
    "duration": 25,
    "start_time": "2022-11-08T08:38:22.911Z"
   },
   {
    "duration": 8,
    "start_time": "2022-11-08T08:40:39.830Z"
   },
   {
    "duration": 16,
    "start_time": "2022-11-08T08:40:49.324Z"
   },
   {
    "duration": 33,
    "start_time": "2022-11-08T08:40:49.342Z"
   },
   {
    "duration": 12,
    "start_time": "2022-11-08T08:40:49.377Z"
   },
   {
    "duration": 11,
    "start_time": "2022-11-08T08:40:49.428Z"
   },
   {
    "duration": 15,
    "start_time": "2022-11-08T08:40:49.441Z"
   },
   {
    "duration": 22,
    "start_time": "2022-11-08T08:40:49.458Z"
   },
   {
    "duration": 6,
    "start_time": "2022-11-08T08:40:49.482Z"
   },
   {
    "duration": 31,
    "start_time": "2022-11-08T08:40:49.491Z"
   },
   {
    "duration": 13,
    "start_time": "2022-11-08T08:40:49.523Z"
   },
   {
    "duration": 17,
    "start_time": "2022-11-08T08:40:49.556Z"
   },
   {
    "duration": 3,
    "start_time": "2022-11-08T08:40:49.578Z"
   },
   {
    "duration": 8,
    "start_time": "2022-11-08T08:40:49.600Z"
   },
   {
    "duration": 10,
    "start_time": "2022-11-08T08:40:49.644Z"
   },
   {
    "duration": 18,
    "start_time": "2022-11-08T08:40:49.660Z"
   },
   {
    "duration": 12,
    "start_time": "2022-11-08T08:40:49.725Z"
   },
   {
    "duration": 24,
    "start_time": "2022-11-08T08:40:49.751Z"
   },
   {
    "duration": 4,
    "start_time": "2022-11-08T08:40:49.783Z"
   },
   {
    "duration": 6,
    "start_time": "2022-11-08T08:40:49.798Z"
   },
   {
    "duration": 16,
    "start_time": "2022-11-08T08:40:49.816Z"
   },
   {
    "duration": 4,
    "start_time": "2022-11-08T08:40:49.841Z"
   },
   {
    "duration": 10,
    "start_time": "2022-11-08T08:40:49.857Z"
   },
   {
    "duration": 6,
    "start_time": "2022-11-08T08:40:49.875Z"
   },
   {
    "duration": 6,
    "start_time": "2022-11-08T08:40:49.957Z"
   },
   {
    "duration": 428,
    "start_time": "2022-11-08T08:40:49.970Z"
   },
   {
    "duration": 466,
    "start_time": "2022-11-08T08:40:50.401Z"
   },
   {
    "duration": 12,
    "start_time": "2022-11-08T08:40:50.868Z"
   },
   {
    "duration": 6,
    "start_time": "2022-11-08T08:40:50.897Z"
   },
   {
    "duration": 743,
    "start_time": "2022-11-08T08:40:50.904Z"
   },
   {
    "duration": 96,
    "start_time": "2022-11-08T08:40:51.650Z"
   },
   {
    "duration": 12,
    "start_time": "2022-11-08T08:40:51.748Z"
   },
   {
    "duration": 36,
    "start_time": "2022-11-08T08:40:51.761Z"
   },
   {
    "duration": 18,
    "start_time": "2022-11-08T08:40:51.800Z"
   },
   {
    "duration": 195,
    "start_time": "2022-11-08T08:40:51.821Z"
   },
   {
    "duration": 194,
    "start_time": "2022-11-08T08:40:52.017Z"
   },
   {
    "duration": 803,
    "start_time": "2022-11-08T08:40:52.213Z"
   },
   {
    "duration": 28,
    "start_time": "2022-11-08T08:40:53.017Z"
   },
   {
    "duration": 451,
    "start_time": "2022-11-08T08:40:53.047Z"
   },
   {
    "duration": 500,
    "start_time": "2022-11-08T08:40:53.499Z"
   },
   {
    "duration": 19,
    "start_time": "2022-11-08T08:40:54.000Z"
   },
   {
    "duration": 46,
    "start_time": "2022-11-08T08:40:54.021Z"
   },
   {
    "duration": 10,
    "start_time": "2022-11-08T08:40:54.069Z"
   },
   {
    "duration": 323,
    "start_time": "2022-11-08T08:40:54.098Z"
   },
   {
    "duration": 479,
    "start_time": "2022-11-08T08:40:54.423Z"
   },
   {
    "duration": 209,
    "start_time": "2022-11-08T08:40:54.903Z"
   },
   {
    "duration": 11,
    "start_time": "2022-11-08T08:40:55.114Z"
   },
   {
    "duration": 4,
    "start_time": "2022-11-08T08:40:55.126Z"
   },
   {
    "duration": 9,
    "start_time": "2022-11-08T08:40:55.131Z"
   },
   {
    "duration": 8,
    "start_time": "2022-11-08T08:40:55.142Z"
   },
   {
    "duration": 7,
    "start_time": "2022-11-08T08:40:55.151Z"
   },
   {
    "duration": 41,
    "start_time": "2022-11-08T08:40:55.160Z"
   },
   {
    "duration": 6,
    "start_time": "2022-11-08T08:40:55.204Z"
   },
   {
    "duration": 16,
    "start_time": "2022-11-08T10:01:06.714Z"
   },
   {
    "duration": 33,
    "start_time": "2022-11-08T10:01:06.732Z"
   },
   {
    "duration": 11,
    "start_time": "2022-11-08T10:01:06.766Z"
   },
   {
    "duration": 12,
    "start_time": "2022-11-08T10:01:06.779Z"
   },
   {
    "duration": 10,
    "start_time": "2022-11-08T10:01:06.793Z"
   },
   {
    "duration": 21,
    "start_time": "2022-11-08T10:01:06.804Z"
   },
   {
    "duration": 7,
    "start_time": "2022-11-08T10:01:06.826Z"
   },
   {
    "duration": 11,
    "start_time": "2022-11-08T10:01:06.835Z"
   },
   {
    "duration": 10,
    "start_time": "2022-11-08T10:01:06.847Z"
   },
   {
    "duration": 48,
    "start_time": "2022-11-08T10:01:06.858Z"
   },
   {
    "duration": 4,
    "start_time": "2022-11-08T10:01:06.907Z"
   },
   {
    "duration": 12,
    "start_time": "2022-11-08T10:01:06.912Z"
   },
   {
    "duration": 21,
    "start_time": "2022-11-08T10:01:06.926Z"
   },
   {
    "duration": 15,
    "start_time": "2022-11-08T10:01:06.948Z"
   },
   {
    "duration": 47,
    "start_time": "2022-11-08T10:01:06.965Z"
   },
   {
    "duration": 4,
    "start_time": "2022-11-08T10:01:07.014Z"
   },
   {
    "duration": 9,
    "start_time": "2022-11-08T10:01:07.019Z"
   },
   {
    "duration": 17,
    "start_time": "2022-11-08T10:01:07.030Z"
   },
   {
    "duration": 5,
    "start_time": "2022-11-08T10:01:07.049Z"
   },
   {
    "duration": 14,
    "start_time": "2022-11-08T10:01:07.055Z"
   },
   {
    "duration": 6,
    "start_time": "2022-11-08T10:01:07.098Z"
   },
   {
    "duration": 10,
    "start_time": "2022-11-08T10:01:07.106Z"
   },
   {
    "duration": 413,
    "start_time": "2022-11-08T10:01:07.118Z"
   },
   {
    "duration": 368,
    "start_time": "2022-11-08T10:01:07.533Z"
   },
   {
    "duration": 13,
    "start_time": "2022-11-08T10:01:07.903Z"
   },
   {
    "duration": 7,
    "start_time": "2022-11-08T10:01:07.917Z"
   },
   {
    "duration": 736,
    "start_time": "2022-11-08T10:01:07.926Z"
   },
   {
    "duration": 79,
    "start_time": "2022-11-08T10:01:08.664Z"
   },
   {
    "duration": 11,
    "start_time": "2022-11-08T10:01:08.744Z"
   },
   {
    "duration": 26,
    "start_time": "2022-11-08T10:01:08.757Z"
   },
   {
    "duration": 26,
    "start_time": "2022-11-08T10:01:08.785Z"
   },
   {
    "duration": 191,
    "start_time": "2022-11-08T10:01:08.813Z"
   },
   {
    "duration": 187,
    "start_time": "2022-11-08T10:01:09.007Z"
   },
   {
    "duration": 766,
    "start_time": "2022-11-08T10:01:09.197Z"
   },
   {
    "duration": 34,
    "start_time": "2022-11-08T10:01:09.964Z"
   },
   {
    "duration": 587,
    "start_time": "2022-11-08T10:01:10.000Z"
   },
   {
    "duration": 408,
    "start_time": "2022-11-08T10:01:10.589Z"
   },
   {
    "duration": 17,
    "start_time": "2022-11-08T10:01:11.000Z"
   },
   {
    "duration": 29,
    "start_time": "2022-11-08T10:01:11.019Z"
   },
   {
    "duration": 8,
    "start_time": "2022-11-08T10:01:11.049Z"
   },
   {
    "duration": 277,
    "start_time": "2022-11-08T10:01:11.059Z"
   },
   {
    "duration": 325,
    "start_time": "2022-11-08T10:01:11.338Z"
   },
   {
    "duration": 210,
    "start_time": "2022-11-08T10:01:11.665Z"
   },
   {
    "duration": 11,
    "start_time": "2022-11-08T10:01:11.876Z"
   },
   {
    "duration": 13,
    "start_time": "2022-11-08T10:01:11.896Z"
   },
   {
    "duration": 24,
    "start_time": "2022-11-08T10:01:11.911Z"
   },
   {
    "duration": 20,
    "start_time": "2022-11-08T10:01:11.937Z"
   },
   {
    "duration": 15,
    "start_time": "2022-11-08T10:01:11.958Z"
   },
   {
    "duration": 45,
    "start_time": "2022-11-08T10:01:11.975Z"
   },
   {
    "duration": 23,
    "start_time": "2022-11-08T10:01:12.022Z"
   },
   {
    "duration": 13,
    "start_time": "2022-11-08T10:04:02.035Z"
   },
   {
    "duration": 16,
    "start_time": "2022-11-08T10:06:35.874Z"
   },
   {
    "duration": 32,
    "start_time": "2022-11-08T10:06:35.892Z"
   },
   {
    "duration": 13,
    "start_time": "2022-11-08T10:06:35.925Z"
   },
   {
    "duration": 9,
    "start_time": "2022-11-08T10:06:35.940Z"
   },
   {
    "duration": 14,
    "start_time": "2022-11-08T10:06:35.951Z"
   },
   {
    "duration": 22,
    "start_time": "2022-11-08T10:06:35.966Z"
   },
   {
    "duration": 7,
    "start_time": "2022-11-08T10:06:35.998Z"
   },
   {
    "duration": 11,
    "start_time": "2022-11-08T10:06:36.030Z"
   },
   {
    "duration": 10,
    "start_time": "2022-11-08T10:06:36.052Z"
   },
   {
    "duration": 18,
    "start_time": "2022-11-08T10:06:36.064Z"
   },
   {
    "duration": 9,
    "start_time": "2022-11-08T10:06:36.084Z"
   },
   {
    "duration": 9,
    "start_time": "2022-11-08T10:06:36.098Z"
   },
   {
    "duration": 10,
    "start_time": "2022-11-08T10:06:36.109Z"
   },
   {
    "duration": 135,
    "start_time": "2022-11-08T10:06:36.120Z"
   },
   {
    "duration": 0,
    "start_time": "2022-11-08T10:06:36.257Z"
   },
   {
    "duration": 0,
    "start_time": "2022-11-08T10:06:36.258Z"
   },
   {
    "duration": 0,
    "start_time": "2022-11-08T10:06:36.259Z"
   },
   {
    "duration": 0,
    "start_time": "2022-11-08T10:06:36.262Z"
   },
   {
    "duration": 0,
    "start_time": "2022-11-08T10:06:36.263Z"
   },
   {
    "duration": 0,
    "start_time": "2022-11-08T10:06:36.264Z"
   },
   {
    "duration": 0,
    "start_time": "2022-11-08T10:06:36.265Z"
   },
   {
    "duration": 0,
    "start_time": "2022-11-08T10:06:36.267Z"
   },
   {
    "duration": 0,
    "start_time": "2022-11-08T10:06:36.268Z"
   },
   {
    "duration": 462,
    "start_time": "2022-11-08T10:06:36.270Z"
   },
   {
    "duration": 16,
    "start_time": "2022-11-08T10:06:36.735Z"
   },
   {
    "duration": 12,
    "start_time": "2022-11-08T10:06:36.752Z"
   },
   {
    "duration": 762,
    "start_time": "2022-11-08T10:06:36.766Z"
   },
   {
    "duration": 211,
    "start_time": "2022-11-08T10:06:37.530Z"
   },
   {
    "duration": 9,
    "start_time": "2022-11-08T10:06:37.743Z"
   },
   {
    "duration": 1288,
    "start_time": "2022-11-08T10:06:37.754Z"
   },
   {
    "duration": 0,
    "start_time": "2022-11-08T10:06:39.044Z"
   },
   {
    "duration": 0,
    "start_time": "2022-11-08T10:06:39.045Z"
   },
   {
    "duration": 0,
    "start_time": "2022-11-08T10:06:39.047Z"
   },
   {
    "duration": 0,
    "start_time": "2022-11-08T10:06:39.048Z"
   },
   {
    "duration": 0,
    "start_time": "2022-11-08T10:06:39.049Z"
   },
   {
    "duration": 0,
    "start_time": "2022-11-08T10:06:39.050Z"
   },
   {
    "duration": 0,
    "start_time": "2022-11-08T10:06:39.052Z"
   },
   {
    "duration": 0,
    "start_time": "2022-11-08T10:06:39.053Z"
   },
   {
    "duration": 0,
    "start_time": "2022-11-08T10:06:39.054Z"
   },
   {
    "duration": 0,
    "start_time": "2022-11-08T10:06:39.055Z"
   },
   {
    "duration": 0,
    "start_time": "2022-11-08T10:06:39.057Z"
   },
   {
    "duration": 0,
    "start_time": "2022-11-08T10:06:39.057Z"
   },
   {
    "duration": 0,
    "start_time": "2022-11-08T10:06:39.058Z"
   },
   {
    "duration": 0,
    "start_time": "2022-11-08T10:06:39.060Z"
   },
   {
    "duration": 0,
    "start_time": "2022-11-08T10:06:39.061Z"
   },
   {
    "duration": 0,
    "start_time": "2022-11-08T10:06:39.062Z"
   },
   {
    "duration": 0,
    "start_time": "2022-11-08T10:06:39.063Z"
   },
   {
    "duration": 0,
    "start_time": "2022-11-08T10:06:39.064Z"
   },
   {
    "duration": 0,
    "start_time": "2022-11-08T10:06:39.064Z"
   },
   {
    "duration": 0,
    "start_time": "2022-11-08T10:06:39.065Z"
   },
   {
    "duration": 9,
    "start_time": "2022-11-08T10:09:43.028Z"
   },
   {
    "duration": 7,
    "start_time": "2022-11-08T10:20:51.152Z"
   },
   {
    "duration": 23,
    "start_time": "2022-11-08T10:20:56.115Z"
   },
   {
    "duration": 33,
    "start_time": "2022-11-08T10:20:56.140Z"
   },
   {
    "duration": 13,
    "start_time": "2022-11-08T10:20:56.175Z"
   },
   {
    "duration": 10,
    "start_time": "2022-11-08T10:20:56.209Z"
   },
   {
    "duration": 9,
    "start_time": "2022-11-08T10:20:56.229Z"
   },
   {
    "duration": 24,
    "start_time": "2022-11-08T10:20:56.240Z"
   },
   {
    "duration": 8,
    "start_time": "2022-11-08T10:20:56.266Z"
   },
   {
    "duration": 20,
    "start_time": "2022-11-08T10:20:56.276Z"
   },
   {
    "duration": 11,
    "start_time": "2022-11-08T10:20:56.298Z"
   },
   {
    "duration": 15,
    "start_time": "2022-11-08T10:20:56.310Z"
   },
   {
    "duration": 3,
    "start_time": "2022-11-08T10:20:56.327Z"
   },
   {
    "duration": 10,
    "start_time": "2022-11-08T10:20:56.332Z"
   },
   {
    "duration": 9,
    "start_time": "2022-11-08T10:20:56.344Z"
   },
   {
    "duration": 9,
    "start_time": "2022-11-08T10:20:56.355Z"
   },
   {
    "duration": 24,
    "start_time": "2022-11-08T10:20:56.397Z"
   },
   {
    "duration": 3,
    "start_time": "2022-11-08T10:20:56.423Z"
   },
   {
    "duration": 10,
    "start_time": "2022-11-08T10:20:56.429Z"
   },
   {
    "duration": 19,
    "start_time": "2022-11-08T10:20:56.441Z"
   },
   {
    "duration": 5,
    "start_time": "2022-11-08T10:20:56.461Z"
   },
   {
    "duration": 12,
    "start_time": "2022-11-08T10:20:56.498Z"
   },
   {
    "duration": 6,
    "start_time": "2022-11-08T10:20:56.512Z"
   },
   {
    "duration": 9,
    "start_time": "2022-11-08T10:20:56.521Z"
   },
   {
    "duration": 415,
    "start_time": "2022-11-08T10:20:56.532Z"
   },
   {
    "duration": 361,
    "start_time": "2022-11-08T10:20:56.949Z"
   },
   {
    "duration": 13,
    "start_time": "2022-11-08T10:20:57.312Z"
   },
   {
    "duration": 7,
    "start_time": "2022-11-08T10:20:57.327Z"
   },
   {
    "duration": 721,
    "start_time": "2022-11-08T10:20:57.335Z"
   },
   {
    "duration": 91,
    "start_time": "2022-11-08T10:20:58.060Z"
   },
   {
    "duration": 11,
    "start_time": "2022-11-08T10:20:58.152Z"
   },
   {
    "duration": 36,
    "start_time": "2022-11-08T10:20:58.165Z"
   },
   {
    "duration": 19,
    "start_time": "2022-11-08T10:20:58.203Z"
   },
   {
    "duration": 187,
    "start_time": "2022-11-08T10:20:58.224Z"
   },
   {
    "duration": 204,
    "start_time": "2022-11-08T10:20:58.413Z"
   },
   {
    "duration": 788,
    "start_time": "2022-11-08T10:20:58.619Z"
   },
   {
    "duration": 28,
    "start_time": "2022-11-08T10:20:59.408Z"
   },
   {
    "duration": 464,
    "start_time": "2022-11-08T10:20:59.438Z"
   },
   {
    "duration": 296,
    "start_time": "2022-11-08T10:20:59.904Z"
   },
   {
    "duration": 97,
    "start_time": "2022-11-08T10:21:00.202Z"
   },
   {
    "duration": 23,
    "start_time": "2022-11-08T10:21:00.300Z"
   },
   {
    "duration": 12,
    "start_time": "2022-11-08T10:21:00.324Z"
   },
   {
    "duration": 361,
    "start_time": "2022-11-08T10:21:00.338Z"
   },
   {
    "duration": 316,
    "start_time": "2022-11-08T10:21:00.701Z"
   },
   {
    "duration": 197,
    "start_time": "2022-11-08T10:21:01.019Z"
   },
   {
    "duration": 11,
    "start_time": "2022-11-08T10:21:01.219Z"
   },
   {
    "duration": 30,
    "start_time": "2022-11-08T10:21:01.232Z"
   },
   {
    "duration": 54,
    "start_time": "2022-11-08T10:21:01.263Z"
   },
   {
    "duration": 29,
    "start_time": "2022-11-08T10:21:01.319Z"
   },
   {
    "duration": 28,
    "start_time": "2022-11-08T10:21:01.349Z"
   },
   {
    "duration": 28,
    "start_time": "2022-11-08T10:21:01.378Z"
   },
   {
    "duration": 25,
    "start_time": "2022-11-08T10:21:01.408Z"
   },
   {
    "duration": 7,
    "start_time": "2022-11-08T10:26:47.486Z"
   },
   {
    "duration": 12,
    "start_time": "2022-11-08T10:27:07.410Z"
   },
   {
    "duration": 22,
    "start_time": "2022-11-08T10:27:12.461Z"
   },
   {
    "duration": 34,
    "start_time": "2022-11-08T10:27:12.485Z"
   },
   {
    "duration": 14,
    "start_time": "2022-11-08T10:27:12.521Z"
   },
   {
    "duration": 16,
    "start_time": "2022-11-08T10:27:12.537Z"
   },
   {
    "duration": 15,
    "start_time": "2022-11-08T10:27:12.555Z"
   },
   {
    "duration": 26,
    "start_time": "2022-11-08T10:27:12.572Z"
   },
   {
    "duration": 6,
    "start_time": "2022-11-08T10:27:12.600Z"
   },
   {
    "duration": 11,
    "start_time": "2022-11-08T10:27:12.608Z"
   },
   {
    "duration": 9,
    "start_time": "2022-11-08T10:27:12.621Z"
   },
   {
    "duration": 15,
    "start_time": "2022-11-08T10:27:12.632Z"
   },
   {
    "duration": 3,
    "start_time": "2022-11-08T10:27:12.648Z"
   },
   {
    "duration": 113,
    "start_time": "2022-11-08T10:27:12.653Z"
   },
   {
    "duration": 20,
    "start_time": "2022-11-08T10:27:12.768Z"
   },
   {
    "duration": 15,
    "start_time": "2022-11-08T10:27:12.790Z"
   },
   {
    "duration": 20,
    "start_time": "2022-11-08T10:27:12.807Z"
   },
   {
    "duration": 4,
    "start_time": "2022-11-08T10:27:12.828Z"
   },
   {
    "duration": 8,
    "start_time": "2022-11-08T10:27:12.833Z"
   },
   {
    "duration": 16,
    "start_time": "2022-11-08T10:27:12.843Z"
   },
   {
    "duration": 4,
    "start_time": "2022-11-08T10:27:12.861Z"
   },
   {
    "duration": 37,
    "start_time": "2022-11-08T10:27:12.867Z"
   },
   {
    "duration": 6,
    "start_time": "2022-11-08T10:27:12.906Z"
   },
   {
    "duration": 9,
    "start_time": "2022-11-08T10:27:12.914Z"
   },
   {
    "duration": 397,
    "start_time": "2022-11-08T10:27:12.924Z"
   },
   {
    "duration": 376,
    "start_time": "2022-11-08T10:27:13.324Z"
   },
   {
    "duration": 13,
    "start_time": "2022-11-08T10:27:13.703Z"
   },
   {
    "duration": 15,
    "start_time": "2022-11-08T10:27:13.717Z"
   },
   {
    "duration": 761,
    "start_time": "2022-11-08T10:27:13.733Z"
   },
   {
    "duration": 85,
    "start_time": "2022-11-08T10:27:14.496Z"
   },
   {
    "duration": 23,
    "start_time": "2022-11-08T10:27:14.583Z"
   },
   {
    "duration": 18,
    "start_time": "2022-11-08T10:27:14.608Z"
   },
   {
    "duration": 18,
    "start_time": "2022-11-08T10:27:14.627Z"
   },
   {
    "duration": 198,
    "start_time": "2022-11-08T10:27:14.647Z"
   },
   {
    "duration": 186,
    "start_time": "2022-11-08T10:27:14.847Z"
   },
   {
    "duration": 882,
    "start_time": "2022-11-08T10:27:15.035Z"
   },
   {
    "duration": 27,
    "start_time": "2022-11-08T10:27:15.919Z"
   },
   {
    "duration": 439,
    "start_time": "2022-11-08T10:27:15.948Z"
   },
   {
    "duration": 305,
    "start_time": "2022-11-08T10:27:16.398Z"
   },
   {
    "duration": 102,
    "start_time": "2022-11-08T10:27:16.705Z"
   },
   {
    "duration": 28,
    "start_time": "2022-11-08T10:27:16.809Z"
   },
   {
    "duration": 8,
    "start_time": "2022-11-08T10:27:16.839Z"
   },
   {
    "duration": 271,
    "start_time": "2022-11-08T10:27:16.848Z"
   },
   {
    "duration": 310,
    "start_time": "2022-11-08T10:27:17.120Z"
   },
   {
    "duration": 204,
    "start_time": "2022-11-08T10:27:17.432Z"
   },
   {
    "duration": 12,
    "start_time": "2022-11-08T10:27:17.638Z"
   },
   {
    "duration": 13,
    "start_time": "2022-11-08T10:27:17.652Z"
   },
   {
    "duration": 15,
    "start_time": "2022-11-08T10:27:17.666Z"
   },
   {
    "duration": 15,
    "start_time": "2022-11-08T10:27:17.683Z"
   },
   {
    "duration": 9,
    "start_time": "2022-11-08T10:27:17.700Z"
   },
   {
    "duration": 13,
    "start_time": "2022-11-08T10:27:17.711Z"
   },
   {
    "duration": 12,
    "start_time": "2022-11-08T10:27:17.726Z"
   },
   {
    "duration": 12,
    "start_time": "2022-11-08T10:29:04.326Z"
   },
   {
    "duration": 22,
    "start_time": "2022-11-08T10:29:06.692Z"
   },
   {
    "duration": 32,
    "start_time": "2022-11-08T10:29:06.716Z"
   },
   {
    "duration": 10,
    "start_time": "2022-11-08T10:29:06.750Z"
   },
   {
    "duration": 8,
    "start_time": "2022-11-08T10:29:06.762Z"
   },
   {
    "duration": 16,
    "start_time": "2022-11-08T10:29:06.771Z"
   },
   {
    "duration": 26,
    "start_time": "2022-11-08T10:29:06.789Z"
   },
   {
    "duration": 7,
    "start_time": "2022-11-08T10:29:06.816Z"
   },
   {
    "duration": 17,
    "start_time": "2022-11-08T10:29:06.825Z"
   },
   {
    "duration": 10,
    "start_time": "2022-11-08T10:29:06.843Z"
   },
   {
    "duration": 16,
    "start_time": "2022-11-08T10:29:06.859Z"
   },
   {
    "duration": 23,
    "start_time": "2022-11-08T10:29:06.876Z"
   },
   {
    "duration": 26,
    "start_time": "2022-11-08T10:29:06.901Z"
   },
   {
    "duration": 17,
    "start_time": "2022-11-08T10:29:06.929Z"
   },
   {
    "duration": 13,
    "start_time": "2022-11-08T10:29:06.948Z"
   },
   {
    "duration": 22,
    "start_time": "2022-11-08T10:29:06.963Z"
   },
   {
    "duration": 11,
    "start_time": "2022-11-08T10:29:06.987Z"
   },
   {
    "duration": 11,
    "start_time": "2022-11-08T10:29:07.000Z"
   },
   {
    "duration": 19,
    "start_time": "2022-11-08T10:29:07.013Z"
   },
   {
    "duration": 15,
    "start_time": "2022-11-08T10:29:07.034Z"
   },
   {
    "duration": 15,
    "start_time": "2022-11-08T10:29:07.051Z"
   },
   {
    "duration": 8,
    "start_time": "2022-11-08T10:29:07.068Z"
   },
   {
    "duration": 21,
    "start_time": "2022-11-08T10:29:07.077Z"
   },
   {
    "duration": 412,
    "start_time": "2022-11-08T10:29:07.100Z"
   },
   {
    "duration": 400,
    "start_time": "2022-11-08T10:29:07.514Z"
   },
   {
    "duration": 122,
    "start_time": "2022-11-08T10:29:07.917Z"
   },
   {
    "duration": 8,
    "start_time": "2022-11-08T10:29:08.041Z"
   },
   {
    "duration": 766,
    "start_time": "2022-11-08T10:29:08.050Z"
   },
   {
    "duration": 86,
    "start_time": "2022-11-08T10:29:08.819Z"
   },
   {
    "duration": 12,
    "start_time": "2022-11-08T10:29:08.908Z"
   },
   {
    "duration": 18,
    "start_time": "2022-11-08T10:29:08.923Z"
   },
   {
    "duration": 18,
    "start_time": "2022-11-08T10:29:08.945Z"
   },
   {
    "duration": 234,
    "start_time": "2022-11-08T10:29:08.965Z"
   },
   {
    "duration": 248,
    "start_time": "2022-11-08T10:29:09.200Z"
   },
   {
    "duration": 910,
    "start_time": "2022-11-08T10:29:09.451Z"
   },
   {
    "duration": 39,
    "start_time": "2022-11-08T10:29:10.363Z"
   },
   {
    "duration": 504,
    "start_time": "2022-11-08T10:29:10.403Z"
   },
   {
    "duration": 400,
    "start_time": "2022-11-08T10:29:10.909Z"
   },
   {
    "duration": 16,
    "start_time": "2022-11-08T10:29:11.398Z"
   },
   {
    "duration": 21,
    "start_time": "2022-11-08T10:29:11.416Z"
   },
   {
    "duration": 7,
    "start_time": "2022-11-08T10:29:11.439Z"
   },
   {
    "duration": 268,
    "start_time": "2022-11-08T10:29:11.448Z"
   },
   {
    "duration": 314,
    "start_time": "2022-11-08T10:29:11.718Z"
   },
   {
    "duration": 206,
    "start_time": "2022-11-08T10:29:12.034Z"
   },
   {
    "duration": 12,
    "start_time": "2022-11-08T10:29:12.243Z"
   },
   {
    "duration": 4,
    "start_time": "2022-11-08T10:29:12.258Z"
   },
   {
    "duration": 11,
    "start_time": "2022-11-08T10:29:12.264Z"
   },
   {
    "duration": 23,
    "start_time": "2022-11-08T10:29:12.277Z"
   },
   {
    "duration": 5,
    "start_time": "2022-11-08T10:29:12.302Z"
   },
   {
    "duration": 13,
    "start_time": "2022-11-08T10:29:12.309Z"
   },
   {
    "duration": 8,
    "start_time": "2022-11-08T10:29:12.324Z"
   },
   {
    "duration": 27,
    "start_time": "2022-11-08T10:30:20.892Z"
   },
   {
    "duration": 32,
    "start_time": "2022-11-08T10:30:20.921Z"
   },
   {
    "duration": 11,
    "start_time": "2022-11-08T10:30:20.955Z"
   },
   {
    "duration": 12,
    "start_time": "2022-11-08T10:30:20.968Z"
   },
   {
    "duration": 24,
    "start_time": "2022-11-08T10:30:20.981Z"
   },
   {
    "duration": 24,
    "start_time": "2022-11-08T10:30:21.007Z"
   },
   {
    "duration": 7,
    "start_time": "2022-11-08T10:30:21.033Z"
   },
   {
    "duration": 11,
    "start_time": "2022-11-08T10:30:21.042Z"
   },
   {
    "duration": 10,
    "start_time": "2022-11-08T10:30:21.054Z"
   },
   {
    "duration": 40,
    "start_time": "2022-11-08T10:30:21.066Z"
   },
   {
    "duration": 3,
    "start_time": "2022-11-08T10:30:21.108Z"
   },
   {
    "duration": 13,
    "start_time": "2022-11-08T10:30:21.113Z"
   },
   {
    "duration": 10,
    "start_time": "2022-11-08T10:30:21.129Z"
   },
   {
    "duration": 10,
    "start_time": "2022-11-08T10:30:21.141Z"
   },
   {
    "duration": 139,
    "start_time": "2022-11-08T10:30:21.152Z"
   },
   {
    "duration": 6,
    "start_time": "2022-11-08T10:30:21.293Z"
   },
   {
    "duration": 7,
    "start_time": "2022-11-08T10:30:21.301Z"
   },
   {
    "duration": 17,
    "start_time": "2022-11-08T10:30:21.309Z"
   },
   {
    "duration": 4,
    "start_time": "2022-11-08T10:30:21.328Z"
   },
   {
    "duration": 13,
    "start_time": "2022-11-08T10:30:21.334Z"
   },
   {
    "duration": 6,
    "start_time": "2022-11-08T10:30:21.376Z"
   },
   {
    "duration": 6,
    "start_time": "2022-11-08T10:30:21.389Z"
   },
   {
    "duration": 389,
    "start_time": "2022-11-08T10:30:21.478Z"
   },
   {
    "duration": 395,
    "start_time": "2022-11-08T10:30:21.870Z"
   },
   {
    "duration": 13,
    "start_time": "2022-11-08T10:30:22.266Z"
   },
   {
    "duration": 17,
    "start_time": "2022-11-08T10:30:22.281Z"
   },
   {
    "duration": 739,
    "start_time": "2022-11-08T10:30:22.300Z"
   },
   {
    "duration": 80,
    "start_time": "2022-11-08T10:30:23.041Z"
   },
   {
    "duration": 10,
    "start_time": "2022-11-08T10:30:23.123Z"
   },
   {
    "duration": 17,
    "start_time": "2022-11-08T10:30:23.135Z"
   },
   {
    "duration": 14,
    "start_time": "2022-11-08T10:30:23.153Z"
   },
   {
    "duration": 196,
    "start_time": "2022-11-08T10:30:23.169Z"
   },
   {
    "duration": 196,
    "start_time": "2022-11-08T10:30:23.366Z"
   },
   {
    "duration": 866,
    "start_time": "2022-11-08T10:30:23.564Z"
   },
   {
    "duration": 28,
    "start_time": "2022-11-08T10:30:24.432Z"
   },
   {
    "duration": 543,
    "start_time": "2022-11-08T10:30:24.464Z"
   },
   {
    "duration": 397,
    "start_time": "2022-11-08T10:30:25.009Z"
   },
   {
    "duration": 90,
    "start_time": "2022-11-08T10:30:25.408Z"
   },
   {
    "duration": 20,
    "start_time": "2022-11-08T10:30:25.500Z"
   },
   {
    "duration": 8,
    "start_time": "2022-11-08T10:30:25.522Z"
   },
   {
    "duration": 260,
    "start_time": "2022-11-08T10:30:25.531Z"
   },
   {
    "duration": 304,
    "start_time": "2022-11-08T10:30:25.793Z"
   },
   {
    "duration": 206,
    "start_time": "2022-11-08T10:30:26.098Z"
   },
   {
    "duration": 11,
    "start_time": "2022-11-08T10:30:26.305Z"
   },
   {
    "duration": 3,
    "start_time": "2022-11-08T10:30:26.318Z"
   },
   {
    "duration": 10,
    "start_time": "2022-11-08T10:30:26.323Z"
   },
   {
    "duration": 6,
    "start_time": "2022-11-08T10:30:26.335Z"
   },
   {
    "duration": 8,
    "start_time": "2022-11-08T10:30:26.342Z"
   },
   {
    "duration": 9,
    "start_time": "2022-11-08T10:30:26.352Z"
   },
   {
    "duration": 34,
    "start_time": "2022-11-08T10:30:26.363Z"
   },
   {
    "duration": 10,
    "start_time": "2022-11-08T10:31:22.708Z"
   },
   {
    "duration": 23,
    "start_time": "2022-11-08T10:31:25.776Z"
   },
   {
    "duration": 34,
    "start_time": "2022-11-08T10:31:25.801Z"
   },
   {
    "duration": 12,
    "start_time": "2022-11-08T10:31:25.840Z"
   },
   {
    "duration": 9,
    "start_time": "2022-11-08T10:31:25.855Z"
   },
   {
    "duration": 8,
    "start_time": "2022-11-08T10:31:25.871Z"
   },
   {
    "duration": 18,
    "start_time": "2022-11-08T10:31:25.902Z"
   },
   {
    "duration": 8,
    "start_time": "2022-11-08T10:31:25.923Z"
   },
   {
    "duration": 11,
    "start_time": "2022-11-08T10:31:25.937Z"
   },
   {
    "duration": 10,
    "start_time": "2022-11-08T10:31:25.955Z"
   },
   {
    "duration": 28,
    "start_time": "2022-11-08T10:31:25.974Z"
   },
   {
    "duration": 3,
    "start_time": "2022-11-08T10:31:26.004Z"
   },
   {
    "duration": 13,
    "start_time": "2022-11-08T10:31:26.012Z"
   },
   {
    "duration": 10,
    "start_time": "2022-11-08T10:31:26.068Z"
   },
   {
    "duration": 10,
    "start_time": "2022-11-08T10:31:26.118Z"
   },
   {
    "duration": 20,
    "start_time": "2022-11-08T10:31:26.129Z"
   },
   {
    "duration": 3,
    "start_time": "2022-11-08T10:31:26.156Z"
   },
   {
    "duration": 5,
    "start_time": "2022-11-08T10:31:26.202Z"
   },
   {
    "duration": 16,
    "start_time": "2022-11-08T10:31:26.250Z"
   },
   {
    "duration": 5,
    "start_time": "2022-11-08T10:31:26.267Z"
   },
   {
    "duration": 14,
    "start_time": "2022-11-08T10:31:26.275Z"
   },
   {
    "duration": 5,
    "start_time": "2022-11-08T10:31:26.291Z"
   },
   {
    "duration": 8,
    "start_time": "2022-11-08T10:31:26.300Z"
   },
   {
    "duration": 413,
    "start_time": "2022-11-08T10:31:26.313Z"
   },
   {
    "duration": 375,
    "start_time": "2022-11-08T10:31:26.728Z"
   },
   {
    "duration": 11,
    "start_time": "2022-11-08T10:31:27.105Z"
   },
   {
    "duration": 7,
    "start_time": "2022-11-08T10:31:27.119Z"
   },
   {
    "duration": 746,
    "start_time": "2022-11-08T10:31:27.128Z"
   },
   {
    "duration": 83,
    "start_time": "2022-11-08T10:31:27.877Z"
   },
   {
    "duration": 16,
    "start_time": "2022-11-08T10:31:27.962Z"
   },
   {
    "duration": 33,
    "start_time": "2022-11-08T10:31:27.980Z"
   },
   {
    "duration": 43,
    "start_time": "2022-11-08T10:31:28.015Z"
   },
   {
    "duration": 193,
    "start_time": "2022-11-08T10:31:28.062Z"
   },
   {
    "duration": 205,
    "start_time": "2022-11-08T10:31:28.256Z"
   },
   {
    "duration": 946,
    "start_time": "2022-11-08T10:31:28.463Z"
   },
   {
    "duration": 28,
    "start_time": "2022-11-08T10:31:29.410Z"
   },
   {
    "duration": 475,
    "start_time": "2022-11-08T10:31:29.440Z"
   },
   {
    "duration": 289,
    "start_time": "2022-11-08T10:31:29.917Z"
   },
   {
    "duration": 17,
    "start_time": "2022-11-08T10:31:30.296Z"
   },
   {
    "duration": 53,
    "start_time": "2022-11-08T10:31:30.316Z"
   },
   {
    "duration": 10,
    "start_time": "2022-11-08T10:31:30.371Z"
   },
   {
    "duration": 296,
    "start_time": "2022-11-08T10:31:30.383Z"
   },
   {
    "duration": 338,
    "start_time": "2022-11-08T10:31:30.681Z"
   },
   {
    "duration": 223,
    "start_time": "2022-11-08T10:31:31.021Z"
   },
   {
    "duration": 16,
    "start_time": "2022-11-08T10:31:31.247Z"
   },
   {
    "duration": 34,
    "start_time": "2022-11-08T10:31:31.264Z"
   },
   {
    "duration": 52,
    "start_time": "2022-11-08T10:31:31.299Z"
   },
   {
    "duration": 25,
    "start_time": "2022-11-08T10:31:31.353Z"
   },
   {
    "duration": 40,
    "start_time": "2022-11-08T10:31:31.380Z"
   },
   {
    "duration": 51,
    "start_time": "2022-11-08T10:31:31.422Z"
   },
   {
    "duration": 28,
    "start_time": "2022-11-08T10:31:31.476Z"
   },
   {
    "duration": 8,
    "start_time": "2022-11-08T10:34:20.912Z"
   },
   {
    "duration": 30,
    "start_time": "2022-11-08T10:34:59.309Z"
   },
   {
    "duration": 30,
    "start_time": "2022-11-08T10:34:59.341Z"
   },
   {
    "duration": 12,
    "start_time": "2022-11-08T10:34:59.373Z"
   },
   {
    "duration": 18,
    "start_time": "2022-11-08T10:34:59.386Z"
   },
   {
    "duration": 18,
    "start_time": "2022-11-08T10:34:59.405Z"
   },
   {
    "duration": 20,
    "start_time": "2022-11-08T10:34:59.425Z"
   },
   {
    "duration": 7,
    "start_time": "2022-11-08T10:34:59.448Z"
   },
   {
    "duration": 19,
    "start_time": "2022-11-08T10:34:59.456Z"
   },
   {
    "duration": 26,
    "start_time": "2022-11-08T10:34:59.477Z"
   },
   {
    "duration": 18,
    "start_time": "2022-11-08T10:34:59.505Z"
   },
   {
    "duration": 3,
    "start_time": "2022-11-08T10:34:59.525Z"
   },
   {
    "duration": 12,
    "start_time": "2022-11-08T10:34:59.530Z"
   },
   {
    "duration": 11,
    "start_time": "2022-11-08T10:34:59.544Z"
   },
   {
    "duration": 11,
    "start_time": "2022-11-08T10:34:59.557Z"
   },
   {
    "duration": 4,
    "start_time": "2022-11-08T10:34:59.599Z"
   },
   {
    "duration": 7,
    "start_time": "2022-11-08T10:34:59.618Z"
   },
   {
    "duration": 4,
    "start_time": "2022-11-08T10:34:59.656Z"
   },
   {
    "duration": 6,
    "start_time": "2022-11-08T10:34:59.686Z"
   },
   {
    "duration": 18,
    "start_time": "2022-11-08T10:34:59.700Z"
   },
   {
    "duration": 4,
    "start_time": "2022-11-08T10:34:59.722Z"
   },
   {
    "duration": 12,
    "start_time": "2022-11-08T10:34:59.735Z"
   },
   {
    "duration": 8,
    "start_time": "2022-11-08T10:34:59.753Z"
   },
   {
    "duration": 10,
    "start_time": "2022-11-08T10:34:59.769Z"
   },
   {
    "duration": 433,
    "start_time": "2022-11-08T10:34:59.789Z"
   },
   {
    "duration": 404,
    "start_time": "2022-11-08T10:35:00.224Z"
   },
   {
    "duration": 120,
    "start_time": "2022-11-08T10:35:00.629Z"
   },
   {
    "duration": 29,
    "start_time": "2022-11-08T10:35:00.752Z"
   },
   {
    "duration": 804,
    "start_time": "2022-11-08T10:35:00.783Z"
   },
   {
    "duration": 130,
    "start_time": "2022-11-08T10:35:01.589Z"
   },
   {
    "duration": 32,
    "start_time": "2022-11-08T10:35:01.721Z"
   },
   {
    "duration": 30,
    "start_time": "2022-11-08T10:35:01.754Z"
   },
   {
    "duration": 38,
    "start_time": "2022-11-08T10:35:01.786Z"
   },
   {
    "duration": 264,
    "start_time": "2022-11-08T10:35:01.826Z"
   },
   {
    "duration": 224,
    "start_time": "2022-11-08T10:35:02.092Z"
   },
   {
    "duration": 1044,
    "start_time": "2022-11-08T10:35:02.318Z"
   },
   {
    "duration": 46,
    "start_time": "2022-11-08T10:35:03.364Z"
   },
   {
    "duration": 504,
    "start_time": "2022-11-08T10:35:03.412Z"
   },
   {
    "duration": 481,
    "start_time": "2022-11-08T10:35:03.917Z"
   },
   {
    "duration": 15,
    "start_time": "2022-11-08T10:35:04.400Z"
   },
   {
    "duration": 22,
    "start_time": "2022-11-08T10:35:04.417Z"
   },
   {
    "duration": 9,
    "start_time": "2022-11-08T10:35:04.441Z"
   },
   {
    "duration": 299,
    "start_time": "2022-11-08T10:35:04.452Z"
   },
   {
    "duration": 311,
    "start_time": "2022-11-08T10:35:04.753Z"
   },
   {
    "duration": 297,
    "start_time": "2022-11-08T10:35:05.066Z"
   },
   {
    "duration": 17,
    "start_time": "2022-11-08T10:35:05.365Z"
   },
   {
    "duration": 14,
    "start_time": "2022-11-08T10:35:05.384Z"
   },
   {
    "duration": 34,
    "start_time": "2022-11-08T10:35:05.400Z"
   },
   {
    "duration": 8,
    "start_time": "2022-11-08T10:35:05.436Z"
   },
   {
    "duration": 8,
    "start_time": "2022-11-08T10:35:05.446Z"
   },
   {
    "duration": 11,
    "start_time": "2022-11-08T10:35:05.455Z"
   },
   {
    "duration": 5,
    "start_time": "2022-11-08T10:35:05.471Z"
   },
   {
    "duration": 39,
    "start_time": "2022-11-08T10:39:15.617Z"
   },
   {
    "duration": 14,
    "start_time": "2022-11-08T10:39:31.164Z"
   },
   {
    "duration": 32,
    "start_time": "2022-11-08T11:23:04.622Z"
   },
   {
    "duration": 27,
    "start_time": "2022-11-08T11:23:37.880Z"
   },
   {
    "duration": 5,
    "start_time": "2022-11-08T11:23:51.607Z"
   },
   {
    "duration": 43,
    "start_time": "2022-11-08T11:23:51.618Z"
   },
   {
    "duration": 12,
    "start_time": "2022-11-08T11:23:51.662Z"
   },
   {
    "duration": 9,
    "start_time": "2022-11-08T11:23:51.675Z"
   },
   {
    "duration": 11,
    "start_time": "2022-11-08T11:23:51.687Z"
   },
   {
    "duration": 21,
    "start_time": "2022-11-08T11:23:51.700Z"
   },
   {
    "duration": 7,
    "start_time": "2022-11-08T11:23:51.726Z"
   },
   {
    "duration": 11,
    "start_time": "2022-11-08T11:23:51.742Z"
   },
   {
    "duration": 11,
    "start_time": "2022-11-08T11:23:51.761Z"
   },
   {
    "duration": 25,
    "start_time": "2022-11-08T11:23:51.780Z"
   },
   {
    "duration": 4,
    "start_time": "2022-11-08T11:23:51.806Z"
   },
   {
    "duration": 12,
    "start_time": "2022-11-08T11:23:51.813Z"
   },
   {
    "duration": 11,
    "start_time": "2022-11-08T11:23:51.827Z"
   },
   {
    "duration": 9,
    "start_time": "2022-11-08T11:23:51.846Z"
   },
   {
    "duration": 7,
    "start_time": "2022-11-08T11:23:51.863Z"
   },
   {
    "duration": 4,
    "start_time": "2022-11-08T11:23:51.899Z"
   },
   {
    "duration": 8,
    "start_time": "2022-11-08T11:23:51.905Z"
   },
   {
    "duration": 24,
    "start_time": "2022-11-08T11:23:51.915Z"
   },
   {
    "duration": 5,
    "start_time": "2022-11-08T11:23:51.941Z"
   },
   {
    "duration": 72,
    "start_time": "2022-11-08T11:23:51.948Z"
   },
   {
    "duration": 28,
    "start_time": "2022-11-08T11:23:52.022Z"
   },
   {
    "duration": 14,
    "start_time": "2022-11-08T11:23:52.052Z"
   },
   {
    "duration": 32,
    "start_time": "2022-11-08T11:23:52.068Z"
   },
   {
    "duration": 8,
    "start_time": "2022-11-08T11:23:52.102Z"
   },
   {
    "duration": 443,
    "start_time": "2022-11-08T11:23:52.112Z"
   },
   {
    "duration": 401,
    "start_time": "2022-11-08T11:23:52.557Z"
   },
   {
    "duration": 16,
    "start_time": "2022-11-08T11:23:52.960Z"
   },
   {
    "duration": 23,
    "start_time": "2022-11-08T11:23:52.977Z"
   },
   {
    "duration": 779,
    "start_time": "2022-11-08T11:23:53.002Z"
   },
   {
    "duration": 132,
    "start_time": "2022-11-08T11:23:53.783Z"
   },
   {
    "duration": 13,
    "start_time": "2022-11-08T11:23:53.918Z"
   },
   {
    "duration": 19,
    "start_time": "2022-11-08T11:23:53.932Z"
   },
   {
    "duration": 15,
    "start_time": "2022-11-08T11:23:53.953Z"
   },
   {
    "duration": 270,
    "start_time": "2022-11-08T11:23:53.970Z"
   },
   {
    "duration": 210,
    "start_time": "2022-11-08T11:23:54.243Z"
   },
   {
    "duration": 1052,
    "start_time": "2022-11-08T11:23:54.454Z"
   },
   {
    "duration": 31,
    "start_time": "2022-11-08T11:23:55.508Z"
   },
   {
    "duration": 620,
    "start_time": "2022-11-08T11:23:55.541Z"
   },
   {
    "duration": 536,
    "start_time": "2022-11-08T11:23:56.163Z"
   },
   {
    "duration": 15,
    "start_time": "2022-11-08T11:23:56.701Z"
   },
   {
    "duration": 29,
    "start_time": "2022-11-08T11:23:56.718Z"
   },
   {
    "duration": 8,
    "start_time": "2022-11-08T11:23:56.749Z"
   },
   {
    "duration": 296,
    "start_time": "2022-11-08T11:23:56.759Z"
   },
   {
    "duration": 312,
    "start_time": "2022-11-08T11:23:57.057Z"
   },
   {
    "duration": 209,
    "start_time": "2022-11-08T11:23:57.370Z"
   },
   {
    "duration": 20,
    "start_time": "2022-11-08T11:23:57.581Z"
   },
   {
    "duration": 3,
    "start_time": "2022-11-08T11:23:57.603Z"
   },
   {
    "duration": 9,
    "start_time": "2022-11-08T11:23:57.610Z"
   },
   {
    "duration": 7,
    "start_time": "2022-11-08T11:23:57.621Z"
   },
   {
    "duration": 6,
    "start_time": "2022-11-08T11:23:57.630Z"
   },
   {
    "duration": 14,
    "start_time": "2022-11-08T11:23:57.637Z"
   },
   {
    "duration": 12,
    "start_time": "2022-11-08T11:23:57.653Z"
   },
   {
    "duration": 16,
    "start_time": "2022-11-08T11:25:19.722Z"
   },
   {
    "duration": 34,
    "start_time": "2022-11-08T11:25:19.740Z"
   },
   {
    "duration": 11,
    "start_time": "2022-11-08T11:25:19.776Z"
   },
   {
    "duration": 22,
    "start_time": "2022-11-08T11:25:19.789Z"
   },
   {
    "duration": 13,
    "start_time": "2022-11-08T11:25:19.812Z"
   },
   {
    "duration": 23,
    "start_time": "2022-11-08T11:25:19.826Z"
   },
   {
    "duration": 9,
    "start_time": "2022-11-08T11:25:19.851Z"
   },
   {
    "duration": 12,
    "start_time": "2022-11-08T11:25:19.861Z"
   },
   {
    "duration": 26,
    "start_time": "2022-11-08T11:25:19.874Z"
   },
   {
    "duration": 19,
    "start_time": "2022-11-08T11:25:19.902Z"
   },
   {
    "duration": 4,
    "start_time": "2022-11-08T11:25:19.923Z"
   },
   {
    "duration": 11,
    "start_time": "2022-11-08T11:25:19.928Z"
   },
   {
    "duration": 11,
    "start_time": "2022-11-08T11:25:19.940Z"
   },
   {
    "duration": 16,
    "start_time": "2022-11-08T11:25:19.953Z"
   },
   {
    "duration": 32,
    "start_time": "2022-11-08T11:25:19.971Z"
   },
   {
    "duration": 10,
    "start_time": "2022-11-08T11:25:20.005Z"
   },
   {
    "duration": 22,
    "start_time": "2022-11-08T11:25:20.016Z"
   },
   {
    "duration": 17,
    "start_time": "2022-11-08T11:25:20.040Z"
   },
   {
    "duration": 5,
    "start_time": "2022-11-08T11:25:20.059Z"
   },
   {
    "duration": 49,
    "start_time": "2022-11-08T11:25:20.065Z"
   },
   {
    "duration": 25,
    "start_time": "2022-11-08T11:25:20.116Z"
   },
   {
    "duration": 13,
    "start_time": "2022-11-08T11:25:20.143Z"
   },
   {
    "duration": 5,
    "start_time": "2022-11-08T11:25:20.159Z"
   },
   {
    "duration": 37,
    "start_time": "2022-11-08T11:25:20.166Z"
   },
   {
    "duration": 18,
    "start_time": "2022-11-08T11:25:20.204Z"
   },
   {
    "duration": 455,
    "start_time": "2022-11-08T11:25:20.224Z"
   },
   {
    "duration": 391,
    "start_time": "2022-11-08T11:25:20.680Z"
   },
   {
    "duration": 16,
    "start_time": "2022-11-08T11:25:21.072Z"
   },
   {
    "duration": 9,
    "start_time": "2022-11-08T11:25:21.098Z"
   },
   {
    "duration": 896,
    "start_time": "2022-11-08T11:25:21.109Z"
   },
   {
    "duration": 134,
    "start_time": "2022-11-08T11:25:22.008Z"
   },
   {
    "duration": 11,
    "start_time": "2022-11-08T11:25:22.143Z"
   },
   {
    "duration": 21,
    "start_time": "2022-11-08T11:25:22.156Z"
   },
   {
    "duration": 16,
    "start_time": "2022-11-08T11:25:22.199Z"
   },
   {
    "duration": 194,
    "start_time": "2022-11-08T11:25:22.217Z"
   },
   {
    "duration": 203,
    "start_time": "2022-11-08T11:25:22.413Z"
   },
   {
    "duration": 988,
    "start_time": "2022-11-08T11:25:22.617Z"
   },
   {
    "duration": 37,
    "start_time": "2022-11-08T11:25:23.607Z"
   },
   {
    "duration": 570,
    "start_time": "2022-11-08T11:25:23.646Z"
   },
   {
    "duration": 479,
    "start_time": "2022-11-08T11:25:24.219Z"
   },
   {
    "duration": 14,
    "start_time": "2022-11-08T11:25:24.700Z"
   },
   {
    "duration": 22,
    "start_time": "2022-11-08T11:25:24.716Z"
   },
   {
    "duration": 9,
    "start_time": "2022-11-08T11:25:24.740Z"
   },
   {
    "duration": 281,
    "start_time": "2022-11-08T11:25:24.751Z"
   },
   {
    "duration": 317,
    "start_time": "2022-11-08T11:25:25.035Z"
   },
   {
    "duration": 204,
    "start_time": "2022-11-08T11:25:25.354Z"
   },
   {
    "duration": 14,
    "start_time": "2022-11-08T11:25:25.559Z"
   },
   {
    "duration": 3,
    "start_time": "2022-11-08T11:25:25.575Z"
   },
   {
    "duration": 26,
    "start_time": "2022-11-08T11:25:25.580Z"
   },
   {
    "duration": 8,
    "start_time": "2022-11-08T11:25:25.608Z"
   },
   {
    "duration": 6,
    "start_time": "2022-11-08T11:25:25.618Z"
   },
   {
    "duration": 10,
    "start_time": "2022-11-08T11:25:25.625Z"
   },
   {
    "duration": 5,
    "start_time": "2022-11-08T11:25:25.638Z"
   },
   {
    "duration": 17,
    "start_time": "2022-11-08T11:42:16.565Z"
   },
   {
    "duration": 39,
    "start_time": "2022-11-08T11:42:16.584Z"
   },
   {
    "duration": 13,
    "start_time": "2022-11-08T11:42:16.624Z"
   },
   {
    "duration": 23,
    "start_time": "2022-11-08T11:42:16.639Z"
   },
   {
    "duration": 12,
    "start_time": "2022-11-08T11:42:16.664Z"
   },
   {
    "duration": 25,
    "start_time": "2022-11-08T11:42:16.678Z"
   },
   {
    "duration": 9,
    "start_time": "2022-11-08T11:42:16.705Z"
   },
   {
    "duration": 18,
    "start_time": "2022-11-08T11:42:16.716Z"
   },
   {
    "duration": 13,
    "start_time": "2022-11-08T11:42:16.736Z"
   },
   {
    "duration": 49,
    "start_time": "2022-11-08T11:42:16.751Z"
   },
   {
    "duration": 3,
    "start_time": "2022-11-08T11:42:16.802Z"
   },
   {
    "duration": 16,
    "start_time": "2022-11-08T11:42:16.806Z"
   },
   {
    "duration": 10,
    "start_time": "2022-11-08T11:42:16.824Z"
   },
   {
    "duration": 16,
    "start_time": "2022-11-08T11:42:16.837Z"
   },
   {
    "duration": 8,
    "start_time": "2022-11-08T11:42:16.855Z"
   },
   {
    "duration": 34,
    "start_time": "2022-11-08T11:42:16.864Z"
   },
   {
    "duration": 13,
    "start_time": "2022-11-08T11:42:16.901Z"
   },
   {
    "duration": 24,
    "start_time": "2022-11-08T11:42:16.916Z"
   },
   {
    "duration": 5,
    "start_time": "2022-11-08T11:42:16.942Z"
   },
   {
    "duration": 47,
    "start_time": "2022-11-08T11:42:16.950Z"
   },
   {
    "duration": 27,
    "start_time": "2022-11-08T11:42:16.999Z"
   },
   {
    "duration": 12,
    "start_time": "2022-11-08T11:42:17.028Z"
   },
   {
    "duration": 7,
    "start_time": "2022-11-08T11:42:18.306Z"
   },
   {
    "duration": 9,
    "start_time": "2022-11-08T11:42:18.317Z"
   },
   {
    "duration": 8,
    "start_time": "2022-11-08T11:42:18.330Z"
   },
   {
    "duration": 530,
    "start_time": "2022-11-08T11:42:18.349Z"
   },
   {
    "duration": 410,
    "start_time": "2022-11-08T11:42:18.882Z"
   },
   {
    "duration": 16,
    "start_time": "2022-11-08T11:42:19.294Z"
   },
   {
    "duration": 15,
    "start_time": "2022-11-08T11:42:19.312Z"
   },
   {
    "duration": 784,
    "start_time": "2022-11-08T11:42:19.328Z"
   },
   {
    "duration": 159,
    "start_time": "2022-11-08T11:42:20.115Z"
   },
   {
    "duration": 21,
    "start_time": "2022-11-08T11:42:20.276Z"
   },
   {
    "duration": 85,
    "start_time": "2022-11-08T11:42:20.299Z"
   },
   {
    "duration": 41,
    "start_time": "2022-11-08T11:42:20.386Z"
   },
   {
    "duration": 216,
    "start_time": "2022-11-08T11:42:20.431Z"
   },
   {
    "duration": 195,
    "start_time": "2022-11-08T11:42:20.649Z"
   },
   {
    "duration": 1043,
    "start_time": "2022-11-08T11:42:20.846Z"
   },
   {
    "duration": 39,
    "start_time": "2022-11-08T11:42:21.891Z"
   },
   {
    "duration": 475,
    "start_time": "2022-11-08T11:42:21.932Z"
   },
   {
    "duration": 490,
    "start_time": "2022-11-08T11:42:22.409Z"
   },
   {
    "duration": 16,
    "start_time": "2022-11-08T11:42:22.900Z"
   },
   {
    "duration": 28,
    "start_time": "2022-11-08T11:42:22.919Z"
   },
   {
    "duration": 9,
    "start_time": "2022-11-08T11:42:22.949Z"
   },
   {
    "duration": 412,
    "start_time": "2022-11-08T11:42:22.960Z"
   },
   {
    "duration": 328,
    "start_time": "2022-11-08T11:42:23.374Z"
   },
   {
    "duration": 212,
    "start_time": "2022-11-08T11:42:23.704Z"
   },
   {
    "duration": 12,
    "start_time": "2022-11-08T11:42:23.918Z"
   },
   {
    "duration": 25,
    "start_time": "2022-11-08T11:42:23.932Z"
   },
   {
    "duration": 28,
    "start_time": "2022-11-08T11:42:23.959Z"
   },
   {
    "duration": 15,
    "start_time": "2022-11-08T11:42:23.988Z"
   },
   {
    "duration": 21,
    "start_time": "2022-11-08T11:42:24.006Z"
   },
   {
    "duration": 29,
    "start_time": "2022-11-08T11:42:24.029Z"
   },
   {
    "duration": 35,
    "start_time": "2022-11-08T11:42:24.062Z"
   },
   {
    "duration": 17,
    "start_time": "2022-11-08T11:50:32.204Z"
   },
   {
    "duration": 46,
    "start_time": "2022-11-08T11:50:32.223Z"
   },
   {
    "duration": 12,
    "start_time": "2022-11-08T11:50:32.271Z"
   },
   {
    "duration": 35,
    "start_time": "2022-11-08T11:50:32.285Z"
   },
   {
    "duration": 32,
    "start_time": "2022-11-08T11:50:32.323Z"
   },
   {
    "duration": 44,
    "start_time": "2022-11-08T11:50:32.357Z"
   },
   {
    "duration": 22,
    "start_time": "2022-11-08T11:50:32.404Z"
   },
   {
    "duration": 68,
    "start_time": "2022-11-08T11:50:32.428Z"
   },
   {
    "duration": 26,
    "start_time": "2022-11-08T11:50:32.498Z"
   },
   {
    "duration": 30,
    "start_time": "2022-11-08T11:50:32.527Z"
   },
   {
    "duration": 42,
    "start_time": "2022-11-08T11:50:32.559Z"
   },
   {
    "duration": 28,
    "start_time": "2022-11-08T11:50:32.604Z"
   },
   {
    "duration": 34,
    "start_time": "2022-11-08T11:50:32.634Z"
   },
   {
    "duration": 30,
    "start_time": "2022-11-08T11:50:32.670Z"
   },
   {
    "duration": 25,
    "start_time": "2022-11-08T11:50:32.702Z"
   },
   {
    "duration": 23,
    "start_time": "2022-11-08T11:50:32.729Z"
   },
   {
    "duration": 26,
    "start_time": "2022-11-08T11:50:32.754Z"
   },
   {
    "duration": 54,
    "start_time": "2022-11-08T11:50:32.782Z"
   },
   {
    "duration": 16,
    "start_time": "2022-11-08T11:50:32.838Z"
   },
   {
    "duration": 62,
    "start_time": "2022-11-08T11:50:32.856Z"
   },
   {
    "duration": 33,
    "start_time": "2022-11-08T11:50:32.921Z"
   },
   {
    "duration": 40,
    "start_time": "2022-11-08T11:50:32.957Z"
   },
   {
    "duration": 17,
    "start_time": "2022-11-08T11:50:32.999Z"
   },
   {
    "duration": 14,
    "start_time": "2022-11-08T11:50:33.017Z"
   },
   {
    "duration": 40,
    "start_time": "2022-11-08T11:50:33.033Z"
   },
   {
    "duration": 5,
    "start_time": "2022-11-08T11:50:33.076Z"
   },
   {
    "duration": 10,
    "start_time": "2022-11-08T11:50:33.084Z"
   },
   {
    "duration": 402,
    "start_time": "2022-11-08T11:50:33.096Z"
   },
   {
    "duration": 405,
    "start_time": "2022-11-08T11:50:33.500Z"
   },
   {
    "duration": 16,
    "start_time": "2022-11-08T11:50:33.907Z"
   },
   {
    "duration": 7,
    "start_time": "2022-11-08T11:50:33.925Z"
   },
   {
    "duration": 886,
    "start_time": "2022-11-08T11:50:33.934Z"
   },
   {
    "duration": 132,
    "start_time": "2022-11-08T11:50:34.823Z"
   },
   {
    "duration": 12,
    "start_time": "2022-11-08T11:50:34.957Z"
   },
   {
    "duration": 35,
    "start_time": "2022-11-08T11:50:34.972Z"
   },
   {
    "duration": 18,
    "start_time": "2022-11-08T11:50:35.009Z"
   },
   {
    "duration": 199,
    "start_time": "2022-11-08T11:50:35.029Z"
   },
   {
    "duration": 196,
    "start_time": "2022-11-08T11:50:35.230Z"
   },
   {
    "duration": 1113,
    "start_time": "2022-11-08T11:50:35.428Z"
   },
   {
    "duration": 34,
    "start_time": "2022-11-08T11:50:36.543Z"
   },
   {
    "duration": 528,
    "start_time": "2022-11-08T11:50:36.578Z"
   },
   {
    "duration": 399,
    "start_time": "2022-11-08T11:50:37.108Z"
   },
   {
    "duration": 15,
    "start_time": "2022-11-08T11:50:37.597Z"
   },
   {
    "duration": 323,
    "start_time": "2022-11-08T11:50:37.613Z"
   },
   {
    "duration": 8,
    "start_time": "2022-11-08T11:50:37.938Z"
   },
   {
    "duration": 243,
    "start_time": "2022-11-08T11:50:37.948Z"
   },
   {
    "duration": 317,
    "start_time": "2022-11-08T11:50:38.193Z"
   },
   {
    "duration": 226,
    "start_time": "2022-11-08T11:50:38.512Z"
   },
   {
    "duration": 13,
    "start_time": "2022-11-08T11:50:38.740Z"
   },
   {
    "duration": 4,
    "start_time": "2022-11-08T11:50:38.755Z"
   },
   {
    "duration": 11,
    "start_time": "2022-11-08T11:50:38.761Z"
   },
   {
    "duration": 27,
    "start_time": "2022-11-08T11:50:38.774Z"
   },
   {
    "duration": 6,
    "start_time": "2022-11-08T11:50:38.805Z"
   },
   {
    "duration": 10,
    "start_time": "2022-11-08T11:50:38.813Z"
   },
   {
    "duration": 7,
    "start_time": "2022-11-08T11:50:38.825Z"
   },
   {
    "duration": 19,
    "start_time": "2022-11-08T11:52:28.535Z"
   },
   {
    "duration": 5,
    "start_time": "2022-11-08T11:52:35.414Z"
   },
   {
    "duration": 15,
    "start_time": "2022-11-08T11:52:55.504Z"
   },
   {
    "duration": 14,
    "start_time": "2022-11-08T11:53:12.340Z"
   },
   {
    "duration": 6,
    "start_time": "2022-11-08T11:53:23.101Z"
   },
   {
    "duration": 18,
    "start_time": "2022-11-08T11:56:33.975Z"
   },
   {
    "duration": 40,
    "start_time": "2022-11-08T11:56:33.995Z"
   },
   {
    "duration": 11,
    "start_time": "2022-11-08T11:56:34.037Z"
   },
   {
    "duration": 13,
    "start_time": "2022-11-08T11:56:34.050Z"
   },
   {
    "duration": 21,
    "start_time": "2022-11-08T11:56:34.065Z"
   },
   {
    "duration": 29,
    "start_time": "2022-11-08T11:56:34.090Z"
   },
   {
    "duration": 24,
    "start_time": "2022-11-08T11:56:34.121Z"
   },
   {
    "duration": 19,
    "start_time": "2022-11-08T11:56:34.149Z"
   },
   {
    "duration": 27,
    "start_time": "2022-11-08T11:56:34.170Z"
   },
   {
    "duration": 21,
    "start_time": "2022-11-08T11:56:34.200Z"
   },
   {
    "duration": 11,
    "start_time": "2022-11-08T11:56:34.224Z"
   },
   {
    "duration": 16,
    "start_time": "2022-11-08T11:56:34.237Z"
   },
   {
    "duration": 23,
    "start_time": "2022-11-08T11:56:34.255Z"
   },
   {
    "duration": 29,
    "start_time": "2022-11-08T11:56:34.279Z"
   },
   {
    "duration": 12,
    "start_time": "2022-11-08T11:56:34.310Z"
   },
   {
    "duration": 11,
    "start_time": "2022-11-08T11:56:34.326Z"
   },
   {
    "duration": 18,
    "start_time": "2022-11-08T11:56:34.340Z"
   },
   {
    "duration": 19,
    "start_time": "2022-11-08T11:56:34.360Z"
   },
   {
    "duration": 19,
    "start_time": "2022-11-08T11:56:34.381Z"
   },
   {
    "duration": 32,
    "start_time": "2022-11-08T11:56:34.403Z"
   },
   {
    "duration": 24,
    "start_time": "2022-11-08T11:56:34.437Z"
   },
   {
    "duration": 43,
    "start_time": "2022-11-08T11:56:34.463Z"
   },
   {
    "duration": 9,
    "start_time": "2022-11-08T11:56:34.508Z"
   },
   {
    "duration": 18,
    "start_time": "2022-11-08T11:56:34.519Z"
   },
   {
    "duration": 5,
    "start_time": "2022-11-08T11:56:34.539Z"
   },
   {
    "duration": 9,
    "start_time": "2022-11-08T11:56:35.139Z"
   },
   {
    "duration": 13,
    "start_time": "2022-11-08T11:56:35.150Z"
   },
   {
    "duration": 432,
    "start_time": "2022-11-08T11:56:35.165Z"
   },
   {
    "duration": 386,
    "start_time": "2022-11-08T11:56:35.599Z"
   },
   {
    "duration": 124,
    "start_time": "2022-11-08T11:56:35.987Z"
   },
   {
    "duration": 6,
    "start_time": "2022-11-08T11:56:36.113Z"
   },
   {
    "duration": 788,
    "start_time": "2022-11-08T11:56:36.121Z"
   },
   {
    "duration": 139,
    "start_time": "2022-11-08T11:56:36.912Z"
   },
   {
    "duration": 13,
    "start_time": "2022-11-08T11:56:37.053Z"
   },
   {
    "duration": 31,
    "start_time": "2022-11-08T11:56:37.068Z"
   },
   {
    "duration": 14,
    "start_time": "2022-11-08T11:56:37.101Z"
   },
   {
    "duration": 192,
    "start_time": "2022-11-08T11:56:37.118Z"
   },
   {
    "duration": 188,
    "start_time": "2022-11-08T11:56:37.312Z"
   },
   {
    "duration": 977,
    "start_time": "2022-11-08T11:56:37.501Z"
   },
   {
    "duration": 42,
    "start_time": "2022-11-08T11:56:38.480Z"
   },
   {
    "duration": 509,
    "start_time": "2022-11-08T11:56:38.524Z"
   },
   {
    "duration": 564,
    "start_time": "2022-11-08T11:56:39.034Z"
   },
   {
    "duration": 13,
    "start_time": "2022-11-08T11:56:39.600Z"
   },
   {
    "duration": 21,
    "start_time": "2022-11-08T11:56:39.615Z"
   },
   {
    "duration": 8,
    "start_time": "2022-11-08T11:56:39.637Z"
   },
   {
    "duration": 281,
    "start_time": "2022-11-08T11:56:39.647Z"
   },
   {
    "duration": 335,
    "start_time": "2022-11-08T11:56:39.930Z"
   },
   {
    "duration": 320,
    "start_time": "2022-11-08T11:56:40.267Z"
   },
   {
    "duration": 17,
    "start_time": "2022-11-08T11:56:40.589Z"
   },
   {
    "duration": 4,
    "start_time": "2022-11-08T11:56:40.608Z"
   },
   {
    "duration": 10,
    "start_time": "2022-11-08T11:56:40.613Z"
   },
   {
    "duration": 17,
    "start_time": "2022-11-08T11:56:40.625Z"
   },
   {
    "duration": 7,
    "start_time": "2022-11-08T11:56:40.644Z"
   },
   {
    "duration": 14,
    "start_time": "2022-11-08T11:56:40.652Z"
   },
   {
    "duration": 29,
    "start_time": "2022-11-08T11:56:40.669Z"
   },
   {
    "duration": 4,
    "start_time": "2022-11-08T11:58:48.804Z"
   },
   {
    "duration": 17,
    "start_time": "2022-11-08T11:58:51.760Z"
   },
   {
    "duration": 36,
    "start_time": "2022-11-08T11:58:51.779Z"
   },
   {
    "duration": 16,
    "start_time": "2022-11-08T11:58:51.818Z"
   },
   {
    "duration": 20,
    "start_time": "2022-11-08T11:58:51.837Z"
   },
   {
    "duration": 83,
    "start_time": "2022-11-08T11:58:51.861Z"
   },
   {
    "duration": 113,
    "start_time": "2022-11-08T11:58:51.946Z"
   },
   {
    "duration": 10,
    "start_time": "2022-11-08T11:58:52.062Z"
   },
   {
    "duration": 27,
    "start_time": "2022-11-08T11:58:52.074Z"
   },
   {
    "duration": 12,
    "start_time": "2022-11-08T11:58:52.104Z"
   },
   {
    "duration": 32,
    "start_time": "2022-11-08T11:58:52.118Z"
   },
   {
    "duration": 5,
    "start_time": "2022-11-08T11:58:52.152Z"
   },
   {
    "duration": 19,
    "start_time": "2022-11-08T11:58:52.159Z"
   },
   {
    "duration": 31,
    "start_time": "2022-11-08T11:58:52.180Z"
   },
   {
    "duration": 22,
    "start_time": "2022-11-08T11:58:52.213Z"
   },
   {
    "duration": 16,
    "start_time": "2022-11-08T11:58:52.237Z"
   },
   {
    "duration": 238,
    "start_time": "2022-11-08T11:58:52.255Z"
   },
   {
    "duration": 11,
    "start_time": "2022-11-08T11:58:52.495Z"
   },
   {
    "duration": 22,
    "start_time": "2022-11-08T11:58:52.508Z"
   },
   {
    "duration": 5,
    "start_time": "2022-11-08T11:58:52.533Z"
   },
   {
    "duration": 34,
    "start_time": "2022-11-08T11:58:52.541Z"
   },
   {
    "duration": 39,
    "start_time": "2022-11-08T11:58:52.577Z"
   },
   {
    "duration": 12,
    "start_time": "2022-11-08T11:58:52.618Z"
   },
   {
    "duration": 8,
    "start_time": "2022-11-08T11:58:52.632Z"
   },
   {
    "duration": 23,
    "start_time": "2022-11-08T11:58:52.642Z"
   },
   {
    "duration": 33,
    "start_time": "2022-11-08T11:58:52.668Z"
   },
   {
    "duration": 9,
    "start_time": "2022-11-08T11:58:52.703Z"
   },
   {
    "duration": 12,
    "start_time": "2022-11-08T11:58:52.714Z"
   },
   {
    "duration": 9,
    "start_time": "2022-11-08T11:58:52.728Z"
   },
   {
    "duration": 426,
    "start_time": "2022-11-08T11:58:52.740Z"
   },
   {
    "duration": 390,
    "start_time": "2022-11-08T11:58:53.168Z"
   },
   {
    "duration": 15,
    "start_time": "2022-11-08T11:58:53.560Z"
   },
   {
    "duration": 21,
    "start_time": "2022-11-08T11:58:53.577Z"
   },
   {
    "duration": 848,
    "start_time": "2022-11-08T11:58:53.599Z"
   },
   {
    "duration": 158,
    "start_time": "2022-11-08T11:58:54.449Z"
   },
   {
    "duration": 15,
    "start_time": "2022-11-08T11:58:54.609Z"
   },
   {
    "duration": 24,
    "start_time": "2022-11-08T11:58:54.627Z"
   },
   {
    "duration": 15,
    "start_time": "2022-11-08T11:58:54.654Z"
   },
   {
    "duration": 193,
    "start_time": "2022-11-08T11:58:54.698Z"
   },
   {
    "duration": 196,
    "start_time": "2022-11-08T11:58:54.893Z"
   },
   {
    "duration": 1120,
    "start_time": "2022-11-08T11:58:55.091Z"
   },
   {
    "duration": 42,
    "start_time": "2022-11-08T11:58:56.215Z"
   },
   {
    "duration": 747,
    "start_time": "2022-11-08T11:58:56.259Z"
   },
   {
    "duration": 303,
    "start_time": "2022-11-08T11:58:57.008Z"
   },
   {
    "duration": 16,
    "start_time": "2022-11-08T11:58:57.398Z"
   },
   {
    "duration": 25,
    "start_time": "2022-11-08T11:58:57.416Z"
   },
   {
    "duration": 9,
    "start_time": "2022-11-08T11:58:57.443Z"
   },
   {
    "duration": 331,
    "start_time": "2022-11-08T11:58:57.454Z"
   },
   {
    "duration": 344,
    "start_time": "2022-11-08T11:58:57.787Z"
   },
   {
    "duration": 249,
    "start_time": "2022-11-08T11:58:58.134Z"
   },
   {
    "duration": 17,
    "start_time": "2022-11-08T11:58:58.386Z"
   },
   {
    "duration": 4,
    "start_time": "2022-11-08T11:58:58.405Z"
   },
   {
    "duration": 12,
    "start_time": "2022-11-08T11:58:58.411Z"
   },
   {
    "duration": 8,
    "start_time": "2022-11-08T11:58:58.425Z"
   },
   {
    "duration": 7,
    "start_time": "2022-11-08T11:58:58.435Z"
   },
   {
    "duration": 10,
    "start_time": "2022-11-08T11:58:58.444Z"
   },
   {
    "duration": 46,
    "start_time": "2022-11-08T11:58:58.457Z"
   },
   {
    "duration": 18,
    "start_time": "2022-11-08T12:03:19.908Z"
   },
   {
    "duration": 43,
    "start_time": "2022-11-08T12:03:19.928Z"
   },
   {
    "duration": 12,
    "start_time": "2022-11-08T12:03:19.973Z"
   },
   {
    "duration": 21,
    "start_time": "2022-11-08T12:03:19.987Z"
   },
   {
    "duration": 33,
    "start_time": "2022-11-08T12:03:20.010Z"
   },
   {
    "duration": 24,
    "start_time": "2022-11-08T12:03:20.049Z"
   },
   {
    "duration": 19,
    "start_time": "2022-11-08T12:03:20.075Z"
   },
   {
    "duration": 16,
    "start_time": "2022-11-08T12:03:20.097Z"
   },
   {
    "duration": 23,
    "start_time": "2022-11-08T12:03:20.115Z"
   },
   {
    "duration": 40,
    "start_time": "2022-11-08T12:03:20.140Z"
   },
   {
    "duration": 3,
    "start_time": "2022-11-08T12:03:20.182Z"
   },
   {
    "duration": 14,
    "start_time": "2022-11-08T12:03:20.187Z"
   },
   {
    "duration": 20,
    "start_time": "2022-11-08T12:03:20.202Z"
   },
   {
    "duration": 15,
    "start_time": "2022-11-08T12:03:20.224Z"
   },
   {
    "duration": 7,
    "start_time": "2022-11-08T12:03:20.241Z"
   },
   {
    "duration": 14,
    "start_time": "2022-11-08T12:03:20.250Z"
   },
   {
    "duration": 8,
    "start_time": "2022-11-08T12:03:20.266Z"
   },
   {
    "duration": 23,
    "start_time": "2022-11-08T12:03:20.276Z"
   },
   {
    "duration": 5,
    "start_time": "2022-11-08T12:03:20.301Z"
   },
   {
    "duration": 52,
    "start_time": "2022-11-08T12:03:20.309Z"
   },
   {
    "duration": 43,
    "start_time": "2022-11-08T12:03:20.364Z"
   },
   {
    "duration": 11,
    "start_time": "2022-11-08T12:03:20.409Z"
   },
   {
    "duration": 10,
    "start_time": "2022-11-08T12:03:20.422Z"
   },
   {
    "duration": 36,
    "start_time": "2022-11-08T12:03:20.434Z"
   },
   {
    "duration": 5,
    "start_time": "2022-11-08T12:03:20.473Z"
   },
   {
    "duration": 10,
    "start_time": "2022-11-08T12:03:20.479Z"
   },
   {
    "duration": 8,
    "start_time": "2022-11-08T12:03:20.498Z"
   },
   {
    "duration": 16,
    "start_time": "2022-11-08T12:03:20.508Z"
   },
   {
    "duration": 414,
    "start_time": "2022-11-08T12:03:20.526Z"
   },
   {
    "duration": 388,
    "start_time": "2022-11-08T12:03:20.942Z"
   },
   {
    "duration": 17,
    "start_time": "2022-11-08T12:03:21.332Z"
   },
   {
    "duration": 47,
    "start_time": "2022-11-08T12:03:21.351Z"
   },
   {
    "duration": 767,
    "start_time": "2022-11-08T12:03:21.399Z"
   },
   {
    "duration": 130,
    "start_time": "2022-11-08T12:03:22.168Z"
   },
   {
    "duration": 12,
    "start_time": "2022-11-08T12:03:22.300Z"
   },
   {
    "duration": 19,
    "start_time": "2022-11-08T12:03:22.314Z"
   },
   {
    "duration": 15,
    "start_time": "2022-11-08T12:03:22.335Z"
   },
   {
    "duration": 204,
    "start_time": "2022-11-08T12:03:22.353Z"
   },
   {
    "duration": 293,
    "start_time": "2022-11-08T12:03:22.558Z"
   },
   {
    "duration": 956,
    "start_time": "2022-11-08T12:03:22.853Z"
   },
   {
    "duration": 30,
    "start_time": "2022-11-08T12:03:23.811Z"
   },
   {
    "duration": 537,
    "start_time": "2022-11-08T12:03:23.842Z"
   },
   {
    "duration": 718,
    "start_time": "2022-11-08T12:03:24.384Z"
   },
   {
    "duration": 16,
    "start_time": "2022-11-08T12:03:25.104Z"
   },
   {
    "duration": 23,
    "start_time": "2022-11-08T12:03:25.122Z"
   },
   {
    "duration": 11,
    "start_time": "2022-11-08T12:03:25.146Z"
   },
   {
    "duration": 313,
    "start_time": "2022-11-08T12:03:25.158Z"
   },
   {
    "duration": 381,
    "start_time": "2022-11-08T12:03:25.473Z"
   },
   {
    "duration": 242,
    "start_time": "2022-11-08T12:03:25.856Z"
   },
   {
    "duration": 12,
    "start_time": "2022-11-08T12:03:26.100Z"
   },
   {
    "duration": 5,
    "start_time": "2022-11-08T12:03:26.113Z"
   },
   {
    "duration": 12,
    "start_time": "2022-11-08T12:03:26.120Z"
   },
   {
    "duration": 8,
    "start_time": "2022-11-08T12:03:26.134Z"
   },
   {
    "duration": 14,
    "start_time": "2022-11-08T12:03:26.144Z"
   },
   {
    "duration": 12,
    "start_time": "2022-11-08T12:03:26.160Z"
   },
   {
    "duration": 26,
    "start_time": "2022-11-08T12:03:26.174Z"
   },
   {
    "duration": 591,
    "start_time": "2022-11-08T12:05:35.706Z"
   },
   {
    "duration": 19,
    "start_time": "2022-11-08T12:05:38.073Z"
   },
   {
    "duration": 32,
    "start_time": "2022-11-08T12:05:38.094Z"
   },
   {
    "duration": 11,
    "start_time": "2022-11-08T12:05:38.128Z"
   },
   {
    "duration": 9,
    "start_time": "2022-11-08T12:05:38.141Z"
   },
   {
    "duration": 10,
    "start_time": "2022-11-08T12:05:38.152Z"
   },
   {
    "duration": 22,
    "start_time": "2022-11-08T12:05:38.163Z"
   },
   {
    "duration": 8,
    "start_time": "2022-11-08T12:05:38.197Z"
   },
   {
    "duration": 13,
    "start_time": "2022-11-08T12:05:38.206Z"
   },
   {
    "duration": 10,
    "start_time": "2022-11-08T12:05:38.221Z"
   },
   {
    "duration": 17,
    "start_time": "2022-11-08T12:05:38.233Z"
   },
   {
    "duration": 3,
    "start_time": "2022-11-08T12:05:38.252Z"
   },
   {
    "duration": 47,
    "start_time": "2022-11-08T12:05:38.257Z"
   },
   {
    "duration": 25,
    "start_time": "2022-11-08T12:05:38.306Z"
   },
   {
    "duration": 16,
    "start_time": "2022-11-08T12:05:38.333Z"
   },
   {
    "duration": 7,
    "start_time": "2022-11-08T12:05:38.351Z"
   },
   {
    "duration": 10,
    "start_time": "2022-11-08T12:05:38.360Z"
   },
   {
    "duration": 10,
    "start_time": "2022-11-08T12:05:38.372Z"
   },
   {
    "duration": 22,
    "start_time": "2022-11-08T12:05:38.384Z"
   },
   {
    "duration": 4,
    "start_time": "2022-11-08T12:05:38.408Z"
   },
   {
    "duration": 30,
    "start_time": "2022-11-08T12:05:38.421Z"
   },
   {
    "duration": 23,
    "start_time": "2022-11-08T12:05:38.468Z"
   },
   {
    "duration": 12,
    "start_time": "2022-11-08T12:05:38.497Z"
   },
   {
    "duration": 6,
    "start_time": "2022-11-08T12:05:38.511Z"
   },
   {
    "duration": 15,
    "start_time": "2022-11-08T12:05:38.528Z"
   },
   {
    "duration": 5,
    "start_time": "2022-11-08T12:05:38.555Z"
   },
   {
    "duration": 5,
    "start_time": "2022-11-08T12:05:38.581Z"
   },
   {
    "duration": 11,
    "start_time": "2022-11-08T12:05:38.593Z"
   },
   {
    "duration": 6,
    "start_time": "2022-11-08T12:05:38.606Z"
   },
   {
    "duration": 415,
    "start_time": "2022-11-08T12:05:38.620Z"
   },
   {
    "duration": 520,
    "start_time": "2022-11-08T12:05:39.038Z"
   },
   {
    "duration": 16,
    "start_time": "2022-11-08T12:05:39.560Z"
   },
   {
    "duration": 21,
    "start_time": "2022-11-08T12:05:39.579Z"
   },
   {
    "duration": 851,
    "start_time": "2022-11-08T12:05:39.601Z"
   },
   {
    "duration": 132,
    "start_time": "2022-11-08T12:05:40.455Z"
   },
   {
    "duration": 21,
    "start_time": "2022-11-08T12:05:40.589Z"
   },
   {
    "duration": 19,
    "start_time": "2022-11-08T12:05:40.612Z"
   },
   {
    "duration": 15,
    "start_time": "2022-11-08T12:05:40.633Z"
   },
   {
    "duration": 217,
    "start_time": "2022-11-08T12:05:40.651Z"
   },
   {
    "duration": 188,
    "start_time": "2022-11-08T12:05:40.870Z"
   },
   {
    "duration": 999,
    "start_time": "2022-11-08T12:05:41.061Z"
   },
   {
    "duration": 45,
    "start_time": "2022-11-08T12:05:42.062Z"
   },
   {
    "duration": 500,
    "start_time": "2022-11-08T12:05:42.109Z"
   },
   {
    "duration": 893,
    "start_time": "2022-11-08T12:05:42.611Z"
   },
   {
    "duration": 16,
    "start_time": "2022-11-08T12:05:43.506Z"
   },
   {
    "duration": 30,
    "start_time": "2022-11-08T12:05:43.524Z"
   },
   {
    "duration": 10,
    "start_time": "2022-11-08T12:05:43.557Z"
   },
   {
    "duration": 314,
    "start_time": "2022-11-08T12:05:43.569Z"
   },
   {
    "duration": 582,
    "start_time": "2022-11-08T12:05:43.886Z"
   },
   {
    "duration": 260,
    "start_time": "2022-11-08T12:05:44.470Z"
   },
   {
    "duration": 14,
    "start_time": "2022-11-08T12:05:44.732Z"
   },
   {
    "duration": 4,
    "start_time": "2022-11-08T12:05:44.748Z"
   },
   {
    "duration": 11,
    "start_time": "2022-11-08T12:05:44.754Z"
   },
   {
    "duration": 33,
    "start_time": "2022-11-08T12:05:44.767Z"
   },
   {
    "duration": 12,
    "start_time": "2022-11-08T12:05:44.803Z"
   },
   {
    "duration": 10,
    "start_time": "2022-11-08T12:05:44.817Z"
   },
   {
    "duration": 8,
    "start_time": "2022-11-08T12:05:44.831Z"
   },
   {
    "duration": 25,
    "start_time": "2022-11-08T12:08:27.592Z"
   },
   {
    "duration": 36,
    "start_time": "2022-11-08T12:08:27.619Z"
   },
   {
    "duration": 12,
    "start_time": "2022-11-08T12:08:27.657Z"
   },
   {
    "duration": 11,
    "start_time": "2022-11-08T12:08:27.671Z"
   },
   {
    "duration": 20,
    "start_time": "2022-11-08T12:08:27.684Z"
   },
   {
    "duration": 21,
    "start_time": "2022-11-08T12:08:27.706Z"
   },
   {
    "duration": 9,
    "start_time": "2022-11-08T12:08:27.729Z"
   },
   {
    "duration": 11,
    "start_time": "2022-11-08T12:08:27.741Z"
   },
   {
    "duration": 47,
    "start_time": "2022-11-08T12:08:27.754Z"
   },
   {
    "duration": 23,
    "start_time": "2022-11-08T12:08:27.803Z"
   },
   {
    "duration": 4,
    "start_time": "2022-11-08T12:08:27.828Z"
   },
   {
    "duration": 13,
    "start_time": "2022-11-08T12:08:27.834Z"
   },
   {
    "duration": 12,
    "start_time": "2022-11-08T12:08:27.850Z"
   },
   {
    "duration": 46,
    "start_time": "2022-11-08T12:08:27.863Z"
   },
   {
    "duration": 11,
    "start_time": "2022-11-08T12:08:27.911Z"
   },
   {
    "duration": 5,
    "start_time": "2022-11-08T12:08:27.925Z"
   },
   {
    "duration": 9,
    "start_time": "2022-11-08T12:08:27.933Z"
   },
   {
    "duration": 58,
    "start_time": "2022-11-08T12:08:27.945Z"
   },
   {
    "duration": 6,
    "start_time": "2022-11-08T12:08:28.006Z"
   },
   {
    "duration": 44,
    "start_time": "2022-11-08T12:08:28.016Z"
   },
   {
    "duration": 50,
    "start_time": "2022-11-08T12:08:28.062Z"
   },
   {
    "duration": 12,
    "start_time": "2022-11-08T12:08:28.114Z"
   },
   {
    "duration": 6,
    "start_time": "2022-11-08T12:08:28.128Z"
   },
   {
    "duration": 19,
    "start_time": "2022-11-08T12:08:28.136Z"
   },
   {
    "duration": 5,
    "start_time": "2022-11-08T12:08:28.156Z"
   },
   {
    "duration": 39,
    "start_time": "2022-11-08T12:08:28.163Z"
   },
   {
    "duration": 14,
    "start_time": "2022-11-08T12:08:28.203Z"
   },
   {
    "duration": 8,
    "start_time": "2022-11-08T12:08:28.219Z"
   },
   {
    "duration": 440,
    "start_time": "2022-11-08T12:08:28.229Z"
   },
   {
    "duration": 408,
    "start_time": "2022-11-08T12:08:28.673Z"
   },
   {
    "duration": 26,
    "start_time": "2022-11-08T12:08:29.083Z"
   },
   {
    "duration": 6,
    "start_time": "2022-11-08T12:08:29.110Z"
   },
   {
    "duration": 774,
    "start_time": "2022-11-08T12:08:29.118Z"
   },
   {
    "duration": 130,
    "start_time": "2022-11-08T12:08:29.897Z"
   },
   {
    "duration": 14,
    "start_time": "2022-11-08T12:08:30.029Z"
   },
   {
    "duration": 22,
    "start_time": "2022-11-08T12:08:30.045Z"
   },
   {
    "duration": 31,
    "start_time": "2022-11-08T12:08:30.070Z"
   },
   {
    "duration": 202,
    "start_time": "2022-11-08T12:08:30.103Z"
   },
   {
    "duration": 190,
    "start_time": "2022-11-08T12:08:30.307Z"
   },
   {
    "duration": 1084,
    "start_time": "2022-11-08T12:08:30.499Z"
   },
   {
    "duration": 34,
    "start_time": "2022-11-08T12:08:31.585Z"
   },
   {
    "duration": 482,
    "start_time": "2022-11-08T12:08:31.621Z"
   },
   {
    "duration": 601,
    "start_time": "2022-11-08T12:08:32.105Z"
   },
   {
    "duration": 100,
    "start_time": "2022-11-08T12:08:32.709Z"
   },
   {
    "duration": 27,
    "start_time": "2022-11-08T12:08:32.811Z"
   },
   {
    "duration": 8,
    "start_time": "2022-11-08T12:08:32.840Z"
   },
   {
    "duration": 295,
    "start_time": "2022-11-08T12:08:32.850Z"
   },
   {
    "duration": 401,
    "start_time": "2022-11-08T12:08:33.147Z"
   },
   {
    "duration": 249,
    "start_time": "2022-11-08T12:08:33.550Z"
   },
   {
    "duration": 13,
    "start_time": "2022-11-08T12:08:33.801Z"
   },
   {
    "duration": 4,
    "start_time": "2022-11-08T12:08:33.815Z"
   },
   {
    "duration": 11,
    "start_time": "2022-11-08T12:08:33.820Z"
   },
   {
    "duration": 9,
    "start_time": "2022-11-08T12:08:33.832Z"
   },
   {
    "duration": 10,
    "start_time": "2022-11-08T12:08:33.842Z"
   },
   {
    "duration": 9,
    "start_time": "2022-11-08T12:08:33.854Z"
   },
   {
    "duration": 34,
    "start_time": "2022-11-08T12:08:33.866Z"
   },
   {
    "duration": 32,
    "start_time": "2022-11-08T12:11:26.518Z"
   },
   {
    "duration": 399,
    "start_time": "2022-11-08T12:11:46.807Z"
   },
   {
    "duration": 1110,
    "start_time": "2022-11-08T12:22:50.148Z"
   },
   {
    "duration": 14,
    "start_time": "2022-11-08T12:23:03.412Z"
   },
   {
    "duration": 25,
    "start_time": "2022-11-08T12:23:31.374Z"
   },
   {
    "duration": 58,
    "start_time": "2022-11-08T12:23:31.401Z"
   },
   {
    "duration": 19,
    "start_time": "2022-11-08T12:23:31.461Z"
   },
   {
    "duration": 45,
    "start_time": "2022-11-08T12:23:31.483Z"
   },
   {
    "duration": 85,
    "start_time": "2022-11-08T12:23:31.529Z"
   },
   {
    "duration": 40,
    "start_time": "2022-11-08T12:23:31.616Z"
   },
   {
    "duration": 33,
    "start_time": "2022-11-08T12:23:31.657Z"
   },
   {
    "duration": 20,
    "start_time": "2022-11-08T12:23:31.691Z"
   },
   {
    "duration": 113,
    "start_time": "2022-11-08T12:23:31.714Z"
   },
   {
    "duration": 70,
    "start_time": "2022-11-08T12:23:31.829Z"
   },
   {
    "duration": 16,
    "start_time": "2022-11-08T12:23:31.901Z"
   },
   {
    "duration": 35,
    "start_time": "2022-11-08T12:23:31.919Z"
   },
   {
    "duration": 19,
    "start_time": "2022-11-08T12:23:31.956Z"
   },
   {
    "duration": 31,
    "start_time": "2022-11-08T12:23:31.977Z"
   },
   {
    "duration": 216,
    "start_time": "2022-11-08T12:23:32.010Z"
   },
   {
    "duration": 23,
    "start_time": "2022-11-08T12:23:32.228Z"
   },
   {
    "duration": 9,
    "start_time": "2022-11-08T12:23:32.252Z"
   },
   {
    "duration": 16,
    "start_time": "2022-11-08T12:23:32.263Z"
   },
   {
    "duration": 5,
    "start_time": "2022-11-08T12:23:32.281Z"
   },
   {
    "duration": 33,
    "start_time": "2022-11-08T12:23:32.287Z"
   },
   {
    "duration": 23,
    "start_time": "2022-11-08T12:23:32.321Z"
   },
   {
    "duration": 11,
    "start_time": "2022-11-08T12:23:32.346Z"
   },
   {
    "duration": 6,
    "start_time": "2022-11-08T12:23:32.359Z"
   },
   {
    "duration": 39,
    "start_time": "2022-11-08T12:23:32.368Z"
   },
   {
    "duration": 4,
    "start_time": "2022-11-08T12:23:32.409Z"
   },
   {
    "duration": 16,
    "start_time": "2022-11-08T12:23:32.415Z"
   },
   {
    "duration": 12,
    "start_time": "2022-11-08T12:23:32.432Z"
   },
   {
    "duration": 13,
    "start_time": "2022-11-08T12:23:32.445Z"
   },
   {
    "duration": 400,
    "start_time": "2022-11-08T12:23:32.460Z"
   },
   {
    "duration": 369,
    "start_time": "2022-11-08T12:23:32.862Z"
   },
   {
    "duration": 15,
    "start_time": "2022-11-08T12:23:33.233Z"
   },
   {
    "duration": 9,
    "start_time": "2022-11-08T12:23:33.250Z"
   },
   {
    "duration": 779,
    "start_time": "2022-11-08T12:23:33.261Z"
   },
   {
    "duration": 152,
    "start_time": "2022-11-08T12:23:34.042Z"
   },
   {
    "duration": 18,
    "start_time": "2022-11-08T12:23:34.198Z"
   },
   {
    "duration": 33,
    "start_time": "2022-11-08T12:23:34.218Z"
   },
   {
    "duration": 20,
    "start_time": "2022-11-08T12:23:34.253Z"
   },
   {
    "duration": 216,
    "start_time": "2022-11-08T12:23:34.276Z"
   },
   {
    "duration": 223,
    "start_time": "2022-11-08T12:23:34.498Z"
   },
   {
    "duration": 949,
    "start_time": "2022-11-08T12:23:34.723Z"
   },
   {
    "duration": 40,
    "start_time": "2022-11-08T12:23:35.674Z"
   },
   {
    "duration": 620,
    "start_time": "2022-11-08T12:23:35.716Z"
   },
   {
    "duration": 561,
    "start_time": "2022-11-08T12:23:36.337Z"
   },
   {
    "duration": 17,
    "start_time": "2022-11-08T12:23:36.900Z"
   },
   {
    "duration": 21,
    "start_time": "2022-11-08T12:23:36.919Z"
   },
   {
    "duration": 8,
    "start_time": "2022-11-08T12:23:36.942Z"
   },
   {
    "duration": 314,
    "start_time": "2022-11-08T12:23:36.951Z"
   },
   {
    "duration": 392,
    "start_time": "2022-11-08T12:23:37.266Z"
   },
   {
    "duration": 18,
    "start_time": "2022-11-08T12:23:37.659Z"
   },
   {
    "duration": 0,
    "start_time": "2022-11-08T12:23:37.679Z"
   },
   {
    "duration": 0,
    "start_time": "2022-11-08T12:23:37.680Z"
   },
   {
    "duration": 0,
    "start_time": "2022-11-08T12:23:37.681Z"
   },
   {
    "duration": 0,
    "start_time": "2022-11-08T12:23:37.697Z"
   },
   {
    "duration": 0,
    "start_time": "2022-11-08T12:23:37.698Z"
   },
   {
    "duration": 0,
    "start_time": "2022-11-08T12:23:37.700Z"
   },
   {
    "duration": 0,
    "start_time": "2022-11-08T12:23:37.701Z"
   },
   {
    "duration": 0,
    "start_time": "2022-11-08T12:23:37.702Z"
   },
   {
    "duration": 15,
    "start_time": "2022-11-08T12:25:43.834Z"
   },
   {
    "duration": 1273,
    "start_time": "2022-11-08T12:26:03.924Z"
   },
   {
    "duration": 3165,
    "start_time": "2022-11-08T12:26:54.205Z"
   },
   {
    "duration": 3058,
    "start_time": "2022-11-08T12:28:01.565Z"
   },
   {
    "duration": 76,
    "start_time": "2022-11-08T12:29:39.147Z"
   },
   {
    "duration": 70,
    "start_time": "2022-11-08T12:29:48.096Z"
   },
   {
    "duration": 2823,
    "start_time": "2022-11-08T12:30:17.059Z"
   },
   {
    "duration": 740,
    "start_time": "2022-11-08T12:32:11.096Z"
   },
   {
    "duration": 2779,
    "start_time": "2022-11-08T12:32:27.109Z"
   },
   {
    "duration": 1450,
    "start_time": "2022-11-08T12:33:08.977Z"
   },
   {
    "duration": 20,
    "start_time": "2022-11-08T13:49:11.915Z"
   },
   {
    "duration": 33,
    "start_time": "2022-11-08T13:49:11.937Z"
   },
   {
    "duration": 13,
    "start_time": "2022-11-08T13:49:11.973Z"
   },
   {
    "duration": 9,
    "start_time": "2022-11-08T13:49:11.988Z"
   },
   {
    "duration": 10,
    "start_time": "2022-11-08T13:49:12.001Z"
   },
   {
    "duration": 23,
    "start_time": "2022-11-08T13:49:12.013Z"
   },
   {
    "duration": 7,
    "start_time": "2022-11-08T13:49:12.038Z"
   },
   {
    "duration": 11,
    "start_time": "2022-11-08T13:49:12.047Z"
   },
   {
    "duration": 38,
    "start_time": "2022-11-08T13:49:12.060Z"
   },
   {
    "duration": 18,
    "start_time": "2022-11-08T13:49:12.101Z"
   },
   {
    "duration": 4,
    "start_time": "2022-11-08T13:49:12.120Z"
   },
   {
    "duration": 12,
    "start_time": "2022-11-08T13:49:12.127Z"
   },
   {
    "duration": 11,
    "start_time": "2022-11-08T13:49:12.141Z"
   },
   {
    "duration": 47,
    "start_time": "2022-11-08T13:49:12.154Z"
   },
   {
    "duration": 16,
    "start_time": "2022-11-08T13:49:12.203Z"
   },
   {
    "duration": 4,
    "start_time": "2022-11-08T13:49:12.221Z"
   },
   {
    "duration": 8,
    "start_time": "2022-11-08T13:49:12.227Z"
   },
   {
    "duration": 21,
    "start_time": "2022-11-08T13:49:12.236Z"
   },
   {
    "duration": 4,
    "start_time": "2022-11-08T13:49:12.259Z"
   },
   {
    "duration": 59,
    "start_time": "2022-11-08T13:49:12.265Z"
   },
   {
    "duration": 25,
    "start_time": "2022-11-08T13:49:12.326Z"
   },
   {
    "duration": 12,
    "start_time": "2022-11-08T13:49:12.354Z"
   },
   {
    "duration": 37,
    "start_time": "2022-11-08T13:49:12.368Z"
   },
   {
    "duration": 20,
    "start_time": "2022-11-08T13:49:12.407Z"
   },
   {
    "duration": 5,
    "start_time": "2022-11-08T13:49:12.430Z"
   },
   {
    "duration": 8,
    "start_time": "2022-11-08T13:49:12.437Z"
   },
   {
    "duration": 9,
    "start_time": "2022-11-08T13:49:12.447Z"
   },
   {
    "duration": 40,
    "start_time": "2022-11-08T13:49:12.459Z"
   },
   {
    "duration": 428,
    "start_time": "2022-11-08T13:49:12.501Z"
   },
   {
    "duration": 379,
    "start_time": "2022-11-08T13:49:12.931Z"
   },
   {
    "duration": 16,
    "start_time": "2022-11-08T13:49:13.312Z"
   },
   {
    "duration": 8,
    "start_time": "2022-11-08T13:49:13.330Z"
   },
   {
    "duration": 867,
    "start_time": "2022-11-08T13:49:13.340Z"
   },
   {
    "duration": 148,
    "start_time": "2022-11-08T13:49:14.210Z"
   },
   {
    "duration": 14,
    "start_time": "2022-11-08T13:49:14.360Z"
   },
   {
    "duration": 32,
    "start_time": "2022-11-08T13:49:14.376Z"
   },
   {
    "duration": 15,
    "start_time": "2022-11-08T13:49:14.409Z"
   },
   {
    "duration": 206,
    "start_time": "2022-11-08T13:49:14.426Z"
   },
   {
    "duration": 301,
    "start_time": "2022-11-08T13:49:14.634Z"
   },
   {
    "duration": 965,
    "start_time": "2022-11-08T13:49:14.940Z"
   },
   {
    "duration": 41,
    "start_time": "2022-11-08T13:49:15.906Z"
   },
   {
    "duration": 502,
    "start_time": "2022-11-08T13:49:15.949Z"
   },
   {
    "duration": 552,
    "start_time": "2022-11-08T13:49:16.452Z"
   },
   {
    "duration": 15,
    "start_time": "2022-11-08T13:49:17.006Z"
   },
   {
    "duration": 24,
    "start_time": "2022-11-08T13:49:17.023Z"
   },
   {
    "duration": 56,
    "start_time": "2022-11-08T13:49:17.048Z"
   },
   {
    "duration": 291,
    "start_time": "2022-11-08T13:49:17.105Z"
   },
   {
    "duration": 1131,
    "start_time": "2022-11-08T13:49:17.398Z"
   },
   {
    "duration": 227,
    "start_time": "2022-11-08T13:49:18.531Z"
   },
   {
    "duration": 13,
    "start_time": "2022-11-08T13:49:18.760Z"
   },
   {
    "duration": 9,
    "start_time": "2022-11-08T13:49:18.774Z"
   },
   {
    "duration": 26,
    "start_time": "2022-11-08T13:49:18.784Z"
   },
   {
    "duration": 6,
    "start_time": "2022-11-08T13:49:18.812Z"
   },
   {
    "duration": 7,
    "start_time": "2022-11-08T13:49:18.820Z"
   },
   {
    "duration": 20,
    "start_time": "2022-11-08T13:49:18.828Z"
   },
   {
    "duration": 5,
    "start_time": "2022-11-08T13:49:18.850Z"
   },
   {
    "duration": 14,
    "start_time": "2022-11-08T14:03:51.909Z"
   },
   {
    "duration": 14,
    "start_time": "2022-11-08T14:04:03.564Z"
   },
   {
    "duration": 12,
    "start_time": "2022-11-08T14:04:47.309Z"
   },
   {
    "duration": 13,
    "start_time": "2022-11-08T14:05:00.940Z"
   },
   {
    "duration": 8,
    "start_time": "2022-11-08T15:48:56.323Z"
   },
   {
    "duration": 8,
    "start_time": "2022-11-08T15:49:21.985Z"
   },
   {
    "duration": 14,
    "start_time": "2022-11-08T15:49:43.261Z"
   },
   {
    "duration": 22,
    "start_time": "2022-11-08T17:51:16.536Z"
   },
   {
    "duration": 37,
    "start_time": "2022-11-08T17:51:16.576Z"
   },
   {
    "duration": 12,
    "start_time": "2022-11-08T17:51:16.616Z"
   },
   {
    "duration": 11,
    "start_time": "2022-11-08T17:51:16.630Z"
   },
   {
    "duration": 15,
    "start_time": "2022-11-08T17:51:16.643Z"
   },
   {
    "duration": 37,
    "start_time": "2022-11-08T17:51:16.660Z"
   },
   {
    "duration": 9,
    "start_time": "2022-11-08T17:51:16.699Z"
   },
   {
    "duration": 18,
    "start_time": "2022-11-08T17:51:16.710Z"
   },
   {
    "duration": 10,
    "start_time": "2022-11-08T17:51:16.729Z"
   },
   {
    "duration": 15,
    "start_time": "2022-11-08T17:51:16.741Z"
   },
   {
    "duration": 3,
    "start_time": "2022-11-08T17:51:16.758Z"
   },
   {
    "duration": 41,
    "start_time": "2022-11-08T17:51:16.763Z"
   },
   {
    "duration": 24,
    "start_time": "2022-11-08T17:51:16.805Z"
   },
   {
    "duration": 13,
    "start_time": "2022-11-08T17:51:16.831Z"
   },
   {
    "duration": 135,
    "start_time": "2022-11-08T17:51:16.846Z"
   },
   {
    "duration": 16,
    "start_time": "2022-11-08T17:51:16.983Z"
   },
   {
    "duration": 23,
    "start_time": "2022-11-08T17:51:17.001Z"
   },
   {
    "duration": 15,
    "start_time": "2022-11-08T17:51:17.026Z"
   },
   {
    "duration": 4,
    "start_time": "2022-11-08T17:51:17.043Z"
   },
   {
    "duration": 33,
    "start_time": "2022-11-08T17:51:17.049Z"
   },
   {
    "duration": 51,
    "start_time": "2022-11-08T17:51:17.084Z"
   },
   {
    "duration": 14,
    "start_time": "2022-11-08T17:51:17.137Z"
   },
   {
    "duration": 6,
    "start_time": "2022-11-08T17:51:17.153Z"
   },
   {
    "duration": 16,
    "start_time": "2022-11-08T17:51:17.161Z"
   },
   {
    "duration": 21,
    "start_time": "2022-11-08T17:51:17.179Z"
   },
   {
    "duration": 20,
    "start_time": "2022-11-08T17:51:17.201Z"
   },
   {
    "duration": 10,
    "start_time": "2022-11-08T17:51:17.222Z"
   },
   {
    "duration": 24,
    "start_time": "2022-11-08T17:51:17.234Z"
   },
   {
    "duration": 402,
    "start_time": "2022-11-08T17:51:17.259Z"
   },
   {
    "duration": 460,
    "start_time": "2022-11-08T17:51:17.663Z"
   },
   {
    "duration": 20,
    "start_time": "2022-11-08T17:51:18.128Z"
   },
   {
    "duration": 9,
    "start_time": "2022-11-08T17:51:18.150Z"
   },
   {
    "duration": 846,
    "start_time": "2022-11-08T17:51:18.161Z"
   },
   {
    "duration": 148,
    "start_time": "2022-11-08T17:51:19.012Z"
   },
   {
    "duration": 14,
    "start_time": "2022-11-08T17:51:19.162Z"
   },
   {
    "duration": 54,
    "start_time": "2022-11-08T17:51:19.178Z"
   },
   {
    "duration": 14,
    "start_time": "2022-11-08T17:51:19.234Z"
   },
   {
    "duration": 198,
    "start_time": "2022-11-08T17:51:19.249Z"
   },
   {
    "duration": 193,
    "start_time": "2022-11-08T17:51:19.448Z"
   },
   {
    "duration": 1084,
    "start_time": "2022-11-08T17:51:19.643Z"
   },
   {
    "duration": 37,
    "start_time": "2022-11-08T17:51:20.729Z"
   },
   {
    "duration": 639,
    "start_time": "2022-11-08T17:51:20.768Z"
   },
   {
    "duration": 415,
    "start_time": "2022-11-08T17:51:21.408Z"
   },
   {
    "duration": 17,
    "start_time": "2022-11-08T17:51:21.898Z"
   },
   {
    "duration": 41,
    "start_time": "2022-11-08T17:51:21.916Z"
   },
   {
    "duration": 49,
    "start_time": "2022-11-08T17:51:21.958Z"
   },
   {
    "duration": 68,
    "start_time": "2022-11-08T17:51:22.009Z"
   },
   {
    "duration": 343,
    "start_time": "2022-11-08T17:51:22.078Z"
   },
   {
    "duration": 1205,
    "start_time": "2022-11-08T17:51:22.423Z"
   },
   {
    "duration": 253,
    "start_time": "2022-11-08T17:51:23.630Z"
   },
   {
    "duration": 23,
    "start_time": "2022-11-08T17:51:23.885Z"
   },
   {
    "duration": 22,
    "start_time": "2022-11-08T17:51:23.909Z"
   },
   {
    "duration": 80,
    "start_time": "2022-11-08T17:51:23.933Z"
   },
   {
    "duration": 21,
    "start_time": "2022-11-08T17:51:24.015Z"
   },
   {
    "duration": 25,
    "start_time": "2022-11-08T17:51:24.038Z"
   },
   {
    "duration": 27,
    "start_time": "2022-11-08T17:51:24.065Z"
   },
   {
    "duration": 30,
    "start_time": "2022-11-08T17:51:24.098Z"
   },
   {
    "duration": 26,
    "start_time": "2022-11-08T17:51:24.133Z"
   },
   {
    "duration": 29,
    "start_time": "2022-11-08T17:51:24.161Z"
   },
   {
    "duration": 36,
    "start_time": "2022-11-08T17:51:24.192Z"
   },
   {
    "duration": 21,
    "start_time": "2022-11-08T18:07:06.415Z"
   },
   {
    "duration": 33,
    "start_time": "2022-11-08T18:07:06.438Z"
   },
   {
    "duration": 20,
    "start_time": "2022-11-08T18:07:06.473Z"
   },
   {
    "duration": 39,
    "start_time": "2022-11-08T18:07:06.495Z"
   },
   {
    "duration": 34,
    "start_time": "2022-11-08T18:07:06.536Z"
   },
   {
    "duration": 23,
    "start_time": "2022-11-08T18:07:06.571Z"
   },
   {
    "duration": 8,
    "start_time": "2022-11-08T18:07:06.596Z"
   },
   {
    "duration": 25,
    "start_time": "2022-11-08T18:07:06.606Z"
   },
   {
    "duration": 22,
    "start_time": "2022-11-08T18:07:06.633Z"
   },
   {
    "duration": 26,
    "start_time": "2022-11-08T18:07:06.658Z"
   },
   {
    "duration": 4,
    "start_time": "2022-11-08T18:07:06.686Z"
   },
   {
    "duration": 36,
    "start_time": "2022-11-08T18:07:06.692Z"
   },
   {
    "duration": 12,
    "start_time": "2022-11-08T18:07:06.730Z"
   },
   {
    "duration": 12,
    "start_time": "2022-11-08T18:07:06.744Z"
   },
   {
    "duration": 14,
    "start_time": "2022-11-08T18:07:06.758Z"
   },
   {
    "duration": 13,
    "start_time": "2022-11-08T18:07:06.774Z"
   },
   {
    "duration": 11,
    "start_time": "2022-11-08T18:07:06.789Z"
   },
   {
    "duration": 32,
    "start_time": "2022-11-08T18:07:06.802Z"
   },
   {
    "duration": 5,
    "start_time": "2022-11-08T18:07:06.837Z"
   },
   {
    "duration": 35,
    "start_time": "2022-11-08T18:07:06.844Z"
   },
   {
    "duration": 35,
    "start_time": "2022-11-08T18:07:06.881Z"
   },
   {
    "duration": 13,
    "start_time": "2022-11-08T18:07:06.919Z"
   },
   {
    "duration": 6,
    "start_time": "2022-11-08T18:07:06.934Z"
   },
   {
    "duration": 21,
    "start_time": "2022-11-08T18:07:06.942Z"
   },
   {
    "duration": 5,
    "start_time": "2022-11-08T18:07:06.964Z"
   },
   {
    "duration": 5,
    "start_time": "2022-11-08T18:07:06.998Z"
   },
   {
    "duration": 27,
    "start_time": "2022-11-08T18:07:07.006Z"
   },
   {
    "duration": 20,
    "start_time": "2022-11-08T18:07:07.035Z"
   },
   {
    "duration": 444,
    "start_time": "2022-11-08T18:07:07.057Z"
   },
   {
    "duration": 426,
    "start_time": "2022-11-08T18:07:07.503Z"
   },
   {
    "duration": 134,
    "start_time": "2022-11-08T18:07:07.931Z"
   },
   {
    "duration": 29,
    "start_time": "2022-11-08T18:07:08.067Z"
   },
   {
    "duration": 894,
    "start_time": "2022-11-08T18:07:08.098Z"
   },
   {
    "duration": 138,
    "start_time": "2022-11-08T18:07:08.997Z"
   },
   {
    "duration": 20,
    "start_time": "2022-11-08T18:07:09.137Z"
   },
   {
    "duration": 46,
    "start_time": "2022-11-08T18:07:09.159Z"
   },
   {
    "duration": 32,
    "start_time": "2022-11-08T18:07:09.209Z"
   },
   {
    "duration": 198,
    "start_time": "2022-11-08T18:07:09.243Z"
   },
   {
    "duration": 200,
    "start_time": "2022-11-08T18:07:09.443Z"
   },
   {
    "duration": 1221,
    "start_time": "2022-11-08T18:07:09.646Z"
   },
   {
    "duration": 37,
    "start_time": "2022-11-08T18:07:10.869Z"
   },
   {
    "duration": 505,
    "start_time": "2022-11-08T18:07:10.908Z"
   },
   {
    "duration": 801,
    "start_time": "2022-11-08T18:07:11.415Z"
   },
   {
    "duration": 19,
    "start_time": "2022-11-08T18:07:12.218Z"
   },
   {
    "duration": 26,
    "start_time": "2022-11-08T18:07:12.239Z"
   },
   {
    "duration": 36,
    "start_time": "2022-11-08T18:07:12.267Z"
   },
   {
    "duration": 13,
    "start_time": "2022-11-08T18:07:12.305Z"
   },
   {
    "duration": 322,
    "start_time": "2022-11-08T18:07:12.320Z"
   },
   {
    "duration": 1441,
    "start_time": "2022-11-08T18:07:12.644Z"
   },
   {
    "duration": 348,
    "start_time": "2022-11-08T18:07:14.087Z"
   },
   {
    "duration": 13,
    "start_time": "2022-11-08T18:07:14.437Z"
   },
   {
    "duration": 4,
    "start_time": "2022-11-08T18:07:14.452Z"
   },
   {
    "duration": 13,
    "start_time": "2022-11-08T18:07:14.458Z"
   },
   {
    "duration": 27,
    "start_time": "2022-11-08T18:07:14.472Z"
   },
   {
    "duration": 39,
    "start_time": "2022-11-08T18:07:14.501Z"
   },
   {
    "duration": 16,
    "start_time": "2022-11-08T18:07:14.542Z"
   },
   {
    "duration": 7,
    "start_time": "2022-11-08T18:07:14.563Z"
   },
   {
    "duration": 26,
    "start_time": "2022-11-08T18:35:05.033Z"
   },
   {
    "duration": 34,
    "start_time": "2022-11-08T18:35:05.061Z"
   },
   {
    "duration": 11,
    "start_time": "2022-11-08T18:35:05.096Z"
   },
   {
    "duration": 26,
    "start_time": "2022-11-08T18:35:05.110Z"
   },
   {
    "duration": 68,
    "start_time": "2022-11-08T18:35:05.138Z"
   },
   {
    "duration": 37,
    "start_time": "2022-11-08T18:35:05.207Z"
   },
   {
    "duration": 42,
    "start_time": "2022-11-08T18:35:05.245Z"
   },
   {
    "duration": 22,
    "start_time": "2022-11-08T18:35:05.289Z"
   },
   {
    "duration": 32,
    "start_time": "2022-11-08T18:35:05.313Z"
   },
   {
    "duration": 27,
    "start_time": "2022-11-08T18:35:05.347Z"
   },
   {
    "duration": 28,
    "start_time": "2022-11-08T18:35:05.376Z"
   },
   {
    "duration": 8,
    "start_time": "2022-11-08T18:35:05.406Z"
   },
   {
    "duration": 34,
    "start_time": "2022-11-08T18:35:05.416Z"
   },
   {
    "duration": 18,
    "start_time": "2022-11-08T18:35:05.452Z"
   },
   {
    "duration": 27,
    "start_time": "2022-11-08T18:35:05.472Z"
   },
   {
    "duration": 25,
    "start_time": "2022-11-08T18:35:05.501Z"
   },
   {
    "duration": 14,
    "start_time": "2022-11-08T18:35:05.527Z"
   },
   {
    "duration": 18,
    "start_time": "2022-11-08T18:35:05.543Z"
   },
   {
    "duration": 58,
    "start_time": "2022-11-08T18:35:05.564Z"
   },
   {
    "duration": 17,
    "start_time": "2022-11-08T18:35:05.623Z"
   },
   {
    "duration": 37,
    "start_time": "2022-11-08T18:35:05.642Z"
   },
   {
    "duration": 20,
    "start_time": "2022-11-08T18:35:05.681Z"
   },
   {
    "duration": 10,
    "start_time": "2022-11-08T18:35:05.702Z"
   },
   {
    "duration": 10,
    "start_time": "2022-11-08T18:35:05.714Z"
   },
   {
    "duration": 40,
    "start_time": "2022-11-08T18:35:05.725Z"
   },
   {
    "duration": 16,
    "start_time": "2022-11-08T18:35:05.767Z"
   },
   {
    "duration": 19,
    "start_time": "2022-11-08T18:35:05.785Z"
   },
   {
    "duration": 18,
    "start_time": "2022-11-08T18:35:05.805Z"
   },
   {
    "duration": 17,
    "start_time": "2022-11-08T18:35:05.825Z"
   },
   {
    "duration": 408,
    "start_time": "2022-11-08T18:35:05.843Z"
   },
   {
    "duration": 381,
    "start_time": "2022-11-08T18:35:06.252Z"
   },
   {
    "duration": 14,
    "start_time": "2022-11-08T18:35:06.635Z"
   },
   {
    "duration": 6,
    "start_time": "2022-11-08T18:35:06.650Z"
   },
   {
    "duration": 784,
    "start_time": "2022-11-08T18:35:06.657Z"
   },
   {
    "duration": 236,
    "start_time": "2022-11-08T18:35:07.445Z"
   },
   {
    "duration": 55,
    "start_time": "2022-11-08T18:35:07.682Z"
   },
   {
    "duration": 37,
    "start_time": "2022-11-08T18:35:07.739Z"
   },
   {
    "duration": 13,
    "start_time": "2022-11-08T18:35:07.778Z"
   },
   {
    "duration": 192,
    "start_time": "2022-11-08T18:35:07.793Z"
   },
   {
    "duration": 195,
    "start_time": "2022-11-08T18:35:07.987Z"
   },
   {
    "duration": 950,
    "start_time": "2022-11-08T18:35:08.184Z"
   },
   {
    "duration": 31,
    "start_time": "2022-11-08T18:35:09.136Z"
   },
   {
    "duration": 516,
    "start_time": "2022-11-08T18:35:09.170Z"
   },
   {
    "duration": 612,
    "start_time": "2022-11-08T18:35:09.687Z"
   },
   {
    "duration": 16,
    "start_time": "2022-11-08T18:35:10.300Z"
   },
   {
    "duration": 27,
    "start_time": "2022-11-08T18:35:10.318Z"
   },
   {
    "duration": 9,
    "start_time": "2022-11-08T18:35:10.347Z"
   },
   {
    "duration": 40,
    "start_time": "2022-11-08T18:35:10.358Z"
   },
   {
    "duration": 271,
    "start_time": "2022-11-08T18:35:10.400Z"
   },
   {
    "duration": 1054,
    "start_time": "2022-11-08T18:35:10.672Z"
   },
   {
    "duration": 343,
    "start_time": "2022-11-08T18:35:11.728Z"
   },
   {
    "duration": 11,
    "start_time": "2022-11-08T18:35:12.073Z"
   },
   {
    "duration": 12,
    "start_time": "2022-11-08T18:35:12.086Z"
   },
   {
    "duration": 13,
    "start_time": "2022-11-08T18:35:12.100Z"
   },
   {
    "duration": 6,
    "start_time": "2022-11-08T18:35:12.114Z"
   },
   {
    "duration": 10,
    "start_time": "2022-11-08T18:35:12.122Z"
   },
   {
    "duration": 11,
    "start_time": "2022-11-08T18:35:12.134Z"
   },
   {
    "duration": 6,
    "start_time": "2022-11-08T18:35:12.146Z"
   },
   {
    "duration": 1822,
    "start_time": "2022-11-09T07:03:28.850Z"
   },
   {
    "duration": 178,
    "start_time": "2022-11-09T07:03:30.674Z"
   },
   {
    "duration": 14,
    "start_time": "2022-11-09T07:03:30.856Z"
   },
   {
    "duration": 41,
    "start_time": "2022-11-09T07:03:30.871Z"
   },
   {
    "duration": 38,
    "start_time": "2022-11-09T07:03:30.914Z"
   },
   {
    "duration": 26,
    "start_time": "2022-11-09T07:03:30.954Z"
   },
   {
    "duration": 41,
    "start_time": "2022-11-09T07:03:30.982Z"
   },
   {
    "duration": 61,
    "start_time": "2022-11-09T07:03:31.025Z"
   },
   {
    "duration": 28,
    "start_time": "2022-11-09T07:03:31.089Z"
   },
   {
    "duration": 23,
    "start_time": "2022-11-09T07:03:31.118Z"
   },
   {
    "duration": 30,
    "start_time": "2022-11-09T07:03:31.143Z"
   },
   {
    "duration": 6,
    "start_time": "2022-11-09T07:03:31.175Z"
   },
   {
    "duration": 18,
    "start_time": "2022-11-09T07:03:31.182Z"
   },
   {
    "duration": 16,
    "start_time": "2022-11-09T07:03:31.202Z"
   },
   {
    "duration": 15,
    "start_time": "2022-11-09T07:03:31.220Z"
   },
   {
    "duration": 12,
    "start_time": "2022-11-09T07:03:31.237Z"
   },
   {
    "duration": 9,
    "start_time": "2022-11-09T07:03:31.250Z"
   },
   {
    "duration": 20,
    "start_time": "2022-11-09T07:03:31.261Z"
   },
   {
    "duration": 34,
    "start_time": "2022-11-09T07:03:31.282Z"
   },
   {
    "duration": 8,
    "start_time": "2022-11-09T07:03:31.317Z"
   },
   {
    "duration": 35,
    "start_time": "2022-11-09T07:03:31.326Z"
   },
   {
    "duration": 23,
    "start_time": "2022-11-09T07:03:31.363Z"
   },
   {
    "duration": 11,
    "start_time": "2022-11-09T07:03:31.387Z"
   },
   {
    "duration": 6,
    "start_time": "2022-11-09T07:03:31.419Z"
   },
   {
    "duration": 20,
    "start_time": "2022-11-09T07:03:31.427Z"
   },
   {
    "duration": 10,
    "start_time": "2022-11-09T07:03:31.449Z"
   },
   {
    "duration": 8,
    "start_time": "2022-11-09T07:03:31.462Z"
   },
   {
    "duration": 27,
    "start_time": "2022-11-09T07:03:31.472Z"
   },
   {
    "duration": 17,
    "start_time": "2022-11-09T07:03:31.500Z"
   },
   {
    "duration": 378,
    "start_time": "2022-11-09T07:03:31.518Z"
   },
   {
    "duration": 360,
    "start_time": "2022-11-09T07:03:31.898Z"
   },
   {
    "duration": 95,
    "start_time": "2022-11-09T07:03:32.260Z"
   },
   {
    "duration": 19,
    "start_time": "2022-11-09T07:03:32.358Z"
   },
   {
    "duration": 824,
    "start_time": "2022-11-09T07:03:32.379Z"
   },
   {
    "duration": 123,
    "start_time": "2022-11-09T07:03:33.206Z"
   },
   {
    "duration": 14,
    "start_time": "2022-11-09T07:03:33.331Z"
   },
   {
    "duration": 22,
    "start_time": "2022-11-09T07:03:33.347Z"
   },
   {
    "duration": 13,
    "start_time": "2022-11-09T07:03:33.372Z"
   },
   {
    "duration": 196,
    "start_time": "2022-11-09T07:03:33.387Z"
   },
   {
    "duration": 166,
    "start_time": "2022-11-09T07:03:33.585Z"
   },
   {
    "duration": 969,
    "start_time": "2022-11-09T07:03:33.752Z"
   },
   {
    "duration": 30,
    "start_time": "2022-11-09T07:03:34.722Z"
   },
   {
    "duration": 540,
    "start_time": "2022-11-09T07:03:34.754Z"
   },
   {
    "duration": 528,
    "start_time": "2022-11-09T07:03:35.296Z"
   },
   {
    "duration": 14,
    "start_time": "2022-11-09T07:03:35.826Z"
   },
   {
    "duration": 20,
    "start_time": "2022-11-09T07:03:35.842Z"
   },
   {
    "duration": 8,
    "start_time": "2022-11-09T07:03:35.864Z"
   },
   {
    "duration": 12,
    "start_time": "2022-11-09T07:03:35.873Z"
   },
   {
    "duration": 271,
    "start_time": "2022-11-09T07:03:35.920Z"
   },
   {
    "duration": 1273,
    "start_time": "2022-11-09T07:03:36.193Z"
   },
   {
    "duration": 224,
    "start_time": "2022-11-09T07:03:37.468Z"
   },
   {
    "duration": 12,
    "start_time": "2022-11-09T07:03:37.694Z"
   },
   {
    "duration": 19,
    "start_time": "2022-11-09T07:03:37.707Z"
   },
   {
    "duration": 15,
    "start_time": "2022-11-09T07:03:37.728Z"
   },
   {
    "duration": 10,
    "start_time": "2022-11-09T07:03:37.745Z"
   },
   {
    "duration": 9,
    "start_time": "2022-11-09T07:03:37.756Z"
   },
   {
    "duration": 8,
    "start_time": "2022-11-09T07:03:37.767Z"
   },
   {
    "duration": 4,
    "start_time": "2022-11-09T07:03:37.777Z"
   },
   {
    "duration": 6,
    "start_time": "2022-11-09T07:07:18.798Z"
   },
   {
    "duration": 113,
    "start_time": "2022-11-09T07:09:15.299Z"
   },
   {
    "duration": 1682,
    "start_time": "2022-11-09T07:51:49.069Z"
   },
   {
    "duration": 81,
    "start_time": "2022-11-09T07:51:50.753Z"
   },
   {
    "duration": 16,
    "start_time": "2022-11-09T07:51:50.836Z"
   },
   {
    "duration": 14,
    "start_time": "2022-11-09T07:51:50.855Z"
   },
   {
    "duration": 14,
    "start_time": "2022-11-09T07:51:50.871Z"
   },
   {
    "duration": 10,
    "start_time": "2022-11-09T07:51:50.898Z"
   },
   {
    "duration": 24,
    "start_time": "2022-11-09T07:51:50.910Z"
   },
   {
    "duration": 8,
    "start_time": "2022-11-09T07:51:50.936Z"
   },
   {
    "duration": 14,
    "start_time": "2022-11-09T07:51:50.945Z"
   },
   {
    "duration": 39,
    "start_time": "2022-11-09T07:51:50.962Z"
   },
   {
    "duration": 18,
    "start_time": "2022-11-09T07:51:51.003Z"
   },
   {
    "duration": 3,
    "start_time": "2022-11-09T07:51:51.023Z"
   },
   {
    "duration": 14,
    "start_time": "2022-11-09T07:51:51.028Z"
   },
   {
    "duration": 11,
    "start_time": "2022-11-09T07:51:51.045Z"
   },
   {
    "duration": 47,
    "start_time": "2022-11-09T07:51:51.057Z"
   },
   {
    "duration": 8,
    "start_time": "2022-11-09T07:51:51.106Z"
   },
   {
    "duration": 5,
    "start_time": "2022-11-09T07:51:51.115Z"
   },
   {
    "duration": 9,
    "start_time": "2022-11-09T07:51:51.122Z"
   },
   {
    "duration": 23,
    "start_time": "2022-11-09T07:51:51.133Z"
   },
   {
    "duration": 5,
    "start_time": "2022-11-09T07:51:51.157Z"
   },
   {
    "duration": 62,
    "start_time": "2022-11-09T07:51:51.163Z"
   },
   {
    "duration": 24,
    "start_time": "2022-11-09T07:51:51.227Z"
   },
   {
    "duration": 11,
    "start_time": "2022-11-09T07:51:51.253Z"
   },
   {
    "duration": 36,
    "start_time": "2022-11-09T07:51:51.266Z"
   },
   {
    "duration": 20,
    "start_time": "2022-11-09T07:51:51.304Z"
   },
   {
    "duration": 4,
    "start_time": "2022-11-09T07:51:51.326Z"
   },
   {
    "duration": 12,
    "start_time": "2022-11-09T07:51:51.332Z"
   },
   {
    "duration": 12,
    "start_time": "2022-11-09T07:51:51.349Z"
   },
   {
    "duration": 9,
    "start_time": "2022-11-09T07:51:51.363Z"
   },
   {
    "duration": 408,
    "start_time": "2022-11-09T07:51:51.373Z"
   },
   {
    "duration": 375,
    "start_time": "2022-11-09T07:51:51.783Z"
   },
   {
    "duration": 96,
    "start_time": "2022-11-09T07:51:52.160Z"
   },
   {
    "duration": 5,
    "start_time": "2022-11-09T07:51:52.258Z"
   },
   {
    "duration": 802,
    "start_time": "2022-11-09T07:51:52.265Z"
   },
   {
    "duration": 120,
    "start_time": "2022-11-09T07:51:53.070Z"
   },
   {
    "duration": 16,
    "start_time": "2022-11-09T07:51:53.191Z"
   },
   {
    "duration": 19,
    "start_time": "2022-11-09T07:51:53.210Z"
   },
   {
    "duration": 14,
    "start_time": "2022-11-09T07:51:53.231Z"
   },
   {
    "duration": 200,
    "start_time": "2022-11-09T07:51:53.247Z"
   },
   {
    "duration": 173,
    "start_time": "2022-11-09T07:51:53.449Z"
   },
   {
    "duration": 1062,
    "start_time": "2022-11-09T07:51:53.624Z"
   },
   {
    "duration": 37,
    "start_time": "2022-11-09T07:51:54.688Z"
   },
   {
    "duration": 477,
    "start_time": "2022-11-09T07:51:54.727Z"
   },
   {
    "duration": 693,
    "start_time": "2022-11-09T07:51:55.206Z"
   },
   {
    "duration": 16,
    "start_time": "2022-11-09T07:51:55.901Z"
   },
   {
    "duration": 20,
    "start_time": "2022-11-09T07:51:55.919Z"
   },
   {
    "duration": 7,
    "start_time": "2022-11-09T07:51:55.941Z"
   },
   {
    "duration": 12,
    "start_time": "2022-11-09T07:51:55.950Z"
   },
   {
    "duration": 280,
    "start_time": "2022-11-09T07:51:55.998Z"
   },
   {
    "duration": 1435,
    "start_time": "2022-11-09T07:51:56.280Z"
   },
   {
    "duration": 249,
    "start_time": "2022-11-09T07:51:57.717Z"
   },
   {
    "duration": 14,
    "start_time": "2022-11-09T07:51:57.968Z"
   },
   {
    "duration": 44,
    "start_time": "2022-11-09T07:51:57.984Z"
   },
   {
    "duration": 161,
    "start_time": "2022-11-09T07:51:58.030Z"
   },
   {
    "duration": 8,
    "start_time": "2022-11-09T07:51:58.193Z"
   },
   {
    "duration": 6,
    "start_time": "2022-11-09T07:51:58.202Z"
   },
   {
    "duration": 9,
    "start_time": "2022-11-09T07:51:58.210Z"
   },
   {
    "duration": 7,
    "start_time": "2022-11-09T07:51:58.220Z"
   },
   {
    "duration": 542,
    "start_time": "2022-11-09T08:01:09.864Z"
   },
   {
    "duration": 24,
    "start_time": "2022-11-09T08:01:12.800Z"
   },
   {
    "duration": 36,
    "start_time": "2022-11-09T08:01:12.826Z"
   },
   {
    "duration": 13,
    "start_time": "2022-11-09T08:01:12.864Z"
   },
   {
    "duration": 20,
    "start_time": "2022-11-09T08:01:12.880Z"
   },
   {
    "duration": 17,
    "start_time": "2022-11-09T08:01:12.902Z"
   },
   {
    "duration": 16,
    "start_time": "2022-11-09T08:01:12.922Z"
   },
   {
    "duration": 21,
    "start_time": "2022-11-09T08:01:12.940Z"
   },
   {
    "duration": 38,
    "start_time": "2022-11-09T08:01:12.963Z"
   },
   {
    "duration": 21,
    "start_time": "2022-11-09T08:01:13.003Z"
   },
   {
    "duration": 13,
    "start_time": "2022-11-09T08:01:13.026Z"
   },
   {
    "duration": 17,
    "start_time": "2022-11-09T08:01:13.041Z"
   },
   {
    "duration": 4,
    "start_time": "2022-11-09T08:01:13.060Z"
   },
   {
    "duration": 38,
    "start_time": "2022-11-09T08:01:13.066Z"
   },
   {
    "duration": 11,
    "start_time": "2022-11-09T08:01:13.106Z"
   },
   {
    "duration": 10,
    "start_time": "2022-11-09T08:01:13.119Z"
   },
   {
    "duration": 8,
    "start_time": "2022-11-09T08:01:13.131Z"
   },
   {
    "duration": 6,
    "start_time": "2022-11-09T08:01:13.141Z"
   },
   {
    "duration": 9,
    "start_time": "2022-11-09T08:01:13.149Z"
   },
   {
    "duration": 51,
    "start_time": "2022-11-09T08:01:13.160Z"
   },
   {
    "duration": 5,
    "start_time": "2022-11-09T08:01:13.213Z"
   },
   {
    "duration": 35,
    "start_time": "2022-11-09T08:01:13.220Z"
   },
   {
    "duration": 49,
    "start_time": "2022-11-09T08:01:13.257Z"
   },
   {
    "duration": 12,
    "start_time": "2022-11-09T08:01:13.308Z"
   },
   {
    "duration": 7,
    "start_time": "2022-11-09T08:01:13.322Z"
   },
   {
    "duration": 20,
    "start_time": "2022-11-09T08:01:13.331Z"
   },
   {
    "duration": 5,
    "start_time": "2022-11-09T08:01:13.353Z"
   },
   {
    "duration": 39,
    "start_time": "2022-11-09T08:01:13.359Z"
   },
   {
    "duration": 9,
    "start_time": "2022-11-09T08:01:13.401Z"
   },
   {
    "duration": 9,
    "start_time": "2022-11-09T08:01:13.412Z"
   },
   {
    "duration": 459,
    "start_time": "2022-11-09T08:01:13.424Z"
   },
   {
    "duration": 503,
    "start_time": "2022-11-09T08:01:13.885Z"
   },
   {
    "duration": 21,
    "start_time": "2022-11-09T08:01:14.390Z"
   },
   {
    "duration": 8,
    "start_time": "2022-11-09T08:01:14.415Z"
   },
   {
    "duration": 945,
    "start_time": "2022-11-09T08:01:14.425Z"
   },
   {
    "duration": 130,
    "start_time": "2022-11-09T08:01:15.372Z"
   },
   {
    "duration": 11,
    "start_time": "2022-11-09T08:01:15.504Z"
   },
   {
    "duration": 23,
    "start_time": "2022-11-09T08:01:15.517Z"
   },
   {
    "duration": 19,
    "start_time": "2022-11-09T08:01:15.543Z"
   },
   {
    "duration": 206,
    "start_time": "2022-11-09T08:01:15.564Z"
   },
   {
    "duration": 201,
    "start_time": "2022-11-09T08:01:15.772Z"
   },
   {
    "duration": 1057,
    "start_time": "2022-11-09T08:01:15.976Z"
   },
   {
    "duration": 32,
    "start_time": "2022-11-09T08:01:17.035Z"
   },
   {
    "duration": 531,
    "start_time": "2022-11-09T08:01:17.069Z"
   },
   {
    "duration": 601,
    "start_time": "2022-11-09T08:01:17.602Z"
   },
   {
    "duration": 16,
    "start_time": "2022-11-09T08:01:18.205Z"
   },
   {
    "duration": 31,
    "start_time": "2022-11-09T08:01:18.224Z"
   },
   {
    "duration": 16,
    "start_time": "2022-11-09T08:01:18.257Z"
   },
   {
    "duration": 32,
    "start_time": "2022-11-09T08:01:18.275Z"
   },
   {
    "duration": 308,
    "start_time": "2022-11-09T08:01:18.309Z"
   },
   {
    "duration": 1245,
    "start_time": "2022-11-09T08:01:18.619Z"
   },
   {
    "duration": 234,
    "start_time": "2022-11-09T08:01:19.866Z"
   },
   {
    "duration": 13,
    "start_time": "2022-11-09T08:01:20.102Z"
   },
   {
    "duration": 4,
    "start_time": "2022-11-09T08:01:20.117Z"
   },
   {
    "duration": 12,
    "start_time": "2022-11-09T08:01:20.123Z"
   },
   {
    "duration": 7,
    "start_time": "2022-11-09T08:01:20.137Z"
   },
   {
    "duration": 17,
    "start_time": "2022-11-09T08:01:20.145Z"
   },
   {
    "duration": 38,
    "start_time": "2022-11-09T08:01:20.164Z"
   },
   {
    "duration": 7,
    "start_time": "2022-11-09T08:01:20.204Z"
   },
   {
    "duration": 116,
    "start_time": "2022-11-09T08:02:52.147Z"
   },
   {
    "duration": 7,
    "start_time": "2022-11-09T08:03:02.232Z"
   },
   {
    "duration": 8,
    "start_time": "2022-11-09T08:03:30.215Z"
   },
   {
    "duration": 26,
    "start_time": "2022-11-09T08:05:12.379Z"
   },
   {
    "duration": 50,
    "start_time": "2022-11-09T08:05:12.408Z"
   },
   {
    "duration": 12,
    "start_time": "2022-11-09T08:05:12.460Z"
   },
   {
    "duration": 26,
    "start_time": "2022-11-09T08:05:12.474Z"
   },
   {
    "duration": 27,
    "start_time": "2022-11-09T08:05:12.502Z"
   },
   {
    "duration": 11,
    "start_time": "2022-11-09T08:05:12.531Z"
   },
   {
    "duration": 36,
    "start_time": "2022-11-09T08:05:12.544Z"
   },
   {
    "duration": 8,
    "start_time": "2022-11-09T08:05:12.582Z"
   },
   {
    "duration": 20,
    "start_time": "2022-11-09T08:05:12.591Z"
   },
   {
    "duration": 14,
    "start_time": "2022-11-09T08:05:12.613Z"
   },
   {
    "duration": 17,
    "start_time": "2022-11-09T08:05:12.629Z"
   },
   {
    "duration": 3,
    "start_time": "2022-11-09T08:05:12.647Z"
   },
   {
    "duration": 12,
    "start_time": "2022-11-09T08:05:12.652Z"
   },
   {
    "duration": 38,
    "start_time": "2022-11-09T08:05:12.667Z"
   },
   {
    "duration": 20,
    "start_time": "2022-11-09T08:05:12.707Z"
   },
   {
    "duration": 9,
    "start_time": "2022-11-09T08:05:12.728Z"
   },
   {
    "duration": 8,
    "start_time": "2022-11-09T08:05:12.738Z"
   },
   {
    "duration": 10,
    "start_time": "2022-11-09T08:05:12.747Z"
   },
   {
    "duration": 45,
    "start_time": "2022-11-09T08:05:12.759Z"
   },
   {
    "duration": 5,
    "start_time": "2022-11-09T08:05:12.806Z"
   },
   {
    "duration": 33,
    "start_time": "2022-11-09T08:05:12.812Z"
   },
   {
    "duration": 24,
    "start_time": "2022-11-09T08:05:12.847Z"
   },
   {
    "duration": 12,
    "start_time": "2022-11-09T08:05:12.897Z"
   },
   {
    "duration": 6,
    "start_time": "2022-11-09T08:05:12.912Z"
   },
   {
    "duration": 27,
    "start_time": "2022-11-09T08:05:12.920Z"
   },
   {
    "duration": 9,
    "start_time": "2022-11-09T08:05:12.949Z"
   },
   {
    "duration": 15,
    "start_time": "2022-11-09T08:05:12.959Z"
   },
   {
    "duration": 23,
    "start_time": "2022-11-09T08:05:12.975Z"
   },
   {
    "duration": 12,
    "start_time": "2022-11-09T08:05:13.000Z"
   },
   {
    "duration": 414,
    "start_time": "2022-11-09T08:05:13.014Z"
   },
   {
    "duration": 448,
    "start_time": "2022-11-09T08:05:13.429Z"
   },
   {
    "duration": 24,
    "start_time": "2022-11-09T08:05:13.881Z"
   },
   {
    "duration": 10,
    "start_time": "2022-11-09T08:05:13.906Z"
   },
   {
    "duration": 902,
    "start_time": "2022-11-09T08:05:13.918Z"
   },
   {
    "duration": 148,
    "start_time": "2022-11-09T08:05:14.822Z"
   },
   {
    "duration": 14,
    "start_time": "2022-11-09T08:05:14.972Z"
   },
   {
    "duration": 28,
    "start_time": "2022-11-09T08:05:14.988Z"
   },
   {
    "duration": 42,
    "start_time": "2022-11-09T08:05:15.018Z"
   },
   {
    "duration": 227,
    "start_time": "2022-11-09T08:05:15.061Z"
   },
   {
    "duration": 296,
    "start_time": "2022-11-09T08:05:15.290Z"
   },
   {
    "duration": 1027,
    "start_time": "2022-11-09T08:05:15.587Z"
   },
   {
    "duration": 36,
    "start_time": "2022-11-09T08:05:16.616Z"
   },
   {
    "duration": 557,
    "start_time": "2022-11-09T08:05:16.654Z"
   },
   {
    "duration": 587,
    "start_time": "2022-11-09T08:05:17.212Z"
   },
   {
    "duration": 19,
    "start_time": "2022-11-09T08:05:17.801Z"
   },
   {
    "duration": 33,
    "start_time": "2022-11-09T08:05:17.822Z"
   },
   {
    "duration": 9,
    "start_time": "2022-11-09T08:05:17.860Z"
   },
   {
    "duration": 37,
    "start_time": "2022-11-09T08:05:17.896Z"
   },
   {
    "duration": 292,
    "start_time": "2022-11-09T08:05:17.934Z"
   },
   {
    "duration": 1131,
    "start_time": "2022-11-09T08:05:18.228Z"
   },
   {
    "duration": 231,
    "start_time": "2022-11-09T08:05:19.362Z"
   },
   {
    "duration": 14,
    "start_time": "2022-11-09T08:05:19.597Z"
   },
   {
    "duration": 5,
    "start_time": "2022-11-09T08:05:19.613Z"
   },
   {
    "duration": 13,
    "start_time": "2022-11-09T08:05:19.619Z"
   },
   {
    "duration": 6,
    "start_time": "2022-11-09T08:05:19.634Z"
   },
   {
    "duration": 7,
    "start_time": "2022-11-09T08:05:19.642Z"
   },
   {
    "duration": 12,
    "start_time": "2022-11-09T08:05:19.650Z"
   },
   {
    "duration": 38,
    "start_time": "2022-11-09T08:05:19.663Z"
   },
   {
    "duration": 24,
    "start_time": "2022-11-09T08:36:29.262Z"
   },
   {
    "duration": 45,
    "start_time": "2022-11-09T08:36:29.288Z"
   },
   {
    "duration": 12,
    "start_time": "2022-11-09T08:36:29.335Z"
   },
   {
    "duration": 22,
    "start_time": "2022-11-09T08:36:29.349Z"
   },
   {
    "duration": 24,
    "start_time": "2022-11-09T08:36:29.373Z"
   },
   {
    "duration": 25,
    "start_time": "2022-11-09T08:36:29.399Z"
   },
   {
    "duration": 40,
    "start_time": "2022-11-09T08:36:29.425Z"
   },
   {
    "duration": 217,
    "start_time": "2022-11-09T08:36:29.467Z"
   },
   {
    "duration": 11,
    "start_time": "2022-11-09T08:36:29.686Z"
   },
   {
    "duration": 11,
    "start_time": "2022-11-09T08:36:29.699Z"
   },
   {
    "duration": 17,
    "start_time": "2022-11-09T08:36:29.711Z"
   },
   {
    "duration": 3,
    "start_time": "2022-11-09T08:36:29.729Z"
   },
   {
    "duration": 12,
    "start_time": "2022-11-09T08:36:29.734Z"
   },
   {
    "duration": 10,
    "start_time": "2022-11-09T08:36:29.748Z"
   },
   {
    "duration": 149,
    "start_time": "2022-11-09T08:36:29.760Z"
   },
   {
    "duration": 7,
    "start_time": "2022-11-09T08:36:29.911Z"
   },
   {
    "duration": 4,
    "start_time": "2022-11-09T08:36:29.920Z"
   },
   {
    "duration": 7,
    "start_time": "2022-11-09T08:36:29.926Z"
   },
   {
    "duration": 17,
    "start_time": "2022-11-09T08:36:29.934Z"
   },
   {
    "duration": 4,
    "start_time": "2022-11-09T08:36:29.953Z"
   },
   {
    "duration": 67,
    "start_time": "2022-11-09T08:36:29.959Z"
   },
   {
    "duration": 23,
    "start_time": "2022-11-09T08:36:30.028Z"
   },
   {
    "duration": 12,
    "start_time": "2022-11-09T08:36:30.052Z"
   },
   {
    "duration": 33,
    "start_time": "2022-11-09T08:36:30.066Z"
   },
   {
    "duration": 14,
    "start_time": "2022-11-09T08:36:30.101Z"
   },
   {
    "duration": 70,
    "start_time": "2022-11-09T08:36:30.118Z"
   },
   {
    "duration": 23,
    "start_time": "2022-11-09T08:36:30.189Z"
   },
   {
    "duration": 27,
    "start_time": "2022-11-09T08:36:30.214Z"
   },
   {
    "duration": 28,
    "start_time": "2022-11-09T08:36:30.243Z"
   },
   {
    "duration": 457,
    "start_time": "2022-11-09T08:36:30.273Z"
   },
   {
    "duration": 410,
    "start_time": "2022-11-09T08:36:30.731Z"
   },
   {
    "duration": 16,
    "start_time": "2022-11-09T08:36:31.142Z"
   },
   {
    "duration": 21,
    "start_time": "2022-11-09T08:36:31.160Z"
   },
   {
    "duration": 806,
    "start_time": "2022-11-09T08:36:31.183Z"
   },
   {
    "duration": 123,
    "start_time": "2022-11-09T08:36:31.999Z"
   },
   {
    "duration": 13,
    "start_time": "2022-11-09T08:36:32.123Z"
   },
   {
    "duration": 19,
    "start_time": "2022-11-09T08:36:32.138Z"
   },
   {
    "duration": 40,
    "start_time": "2022-11-09T08:36:32.159Z"
   },
   {
    "duration": 192,
    "start_time": "2022-11-09T08:36:32.201Z"
   },
   {
    "duration": 184,
    "start_time": "2022-11-09T08:36:32.395Z"
   },
   {
    "duration": 971,
    "start_time": "2022-11-09T08:36:32.580Z"
   },
   {
    "duration": 30,
    "start_time": "2022-11-09T08:36:33.552Z"
   },
   {
    "duration": 647,
    "start_time": "2022-11-09T08:36:33.583Z"
   },
   {
    "duration": 468,
    "start_time": "2022-11-09T08:36:34.233Z"
   },
   {
    "duration": 16,
    "start_time": "2022-11-09T08:36:34.703Z"
   },
   {
    "duration": 96,
    "start_time": "2022-11-09T08:36:34.721Z"
   },
   {
    "duration": 8,
    "start_time": "2022-11-09T08:36:34.819Z"
   },
   {
    "duration": 11,
    "start_time": "2022-11-09T08:36:34.828Z"
   },
   {
    "duration": 305,
    "start_time": "2022-11-09T08:36:34.840Z"
   },
   {
    "duration": 1080,
    "start_time": "2022-11-09T08:36:35.147Z"
   },
   {
    "duration": 227,
    "start_time": "2022-11-09T08:36:36.230Z"
   },
   {
    "duration": 14,
    "start_time": "2022-11-09T08:36:36.459Z"
   },
   {
    "duration": 4,
    "start_time": "2022-11-09T08:36:36.475Z"
   },
   {
    "duration": 8,
    "start_time": "2022-11-09T08:36:36.497Z"
   },
   {
    "duration": 15,
    "start_time": "2022-11-09T08:36:36.507Z"
   },
   {
    "duration": 10,
    "start_time": "2022-11-09T08:36:36.524Z"
   },
   {
    "duration": 9,
    "start_time": "2022-11-09T08:36:36.535Z"
   },
   {
    "duration": 6,
    "start_time": "2022-11-09T08:36:36.546Z"
   },
   {
    "duration": 24,
    "start_time": "2022-11-09T08:37:29.927Z"
   },
   {
    "duration": 36,
    "start_time": "2022-11-09T08:37:29.953Z"
   },
   {
    "duration": 13,
    "start_time": "2022-11-09T08:37:29.991Z"
   },
   {
    "duration": 36,
    "start_time": "2022-11-09T08:37:30.007Z"
   },
   {
    "duration": 50,
    "start_time": "2022-11-09T08:37:30.046Z"
   },
   {
    "duration": 27,
    "start_time": "2022-11-09T08:37:30.097Z"
   },
   {
    "duration": 46,
    "start_time": "2022-11-09T08:37:30.126Z"
   },
   {
    "duration": 25,
    "start_time": "2022-11-09T08:37:30.175Z"
   },
   {
    "duration": 37,
    "start_time": "2022-11-09T08:37:30.202Z"
   },
   {
    "duration": 39,
    "start_time": "2022-11-09T08:37:30.241Z"
   },
   {
    "duration": 36,
    "start_time": "2022-11-09T08:37:30.283Z"
   },
   {
    "duration": 4,
    "start_time": "2022-11-09T08:37:30.320Z"
   },
   {
    "duration": 36,
    "start_time": "2022-11-09T08:37:30.327Z"
   },
   {
    "duration": 28,
    "start_time": "2022-11-09T08:37:30.365Z"
   },
   {
    "duration": 29,
    "start_time": "2022-11-09T08:37:30.395Z"
   },
   {
    "duration": 56,
    "start_time": "2022-11-09T08:37:30.425Z"
   },
   {
    "duration": 49,
    "start_time": "2022-11-09T08:37:30.483Z"
   },
   {
    "duration": 31,
    "start_time": "2022-11-09T08:37:30.534Z"
   },
   {
    "duration": 38,
    "start_time": "2022-11-09T08:37:30.568Z"
   },
   {
    "duration": 37,
    "start_time": "2022-11-09T08:37:30.608Z"
   },
   {
    "duration": 64,
    "start_time": "2022-11-09T08:37:30.647Z"
   },
   {
    "duration": 26,
    "start_time": "2022-11-09T08:37:30.713Z"
   },
   {
    "duration": 24,
    "start_time": "2022-11-09T08:37:30.741Z"
   },
   {
    "duration": 27,
    "start_time": "2022-11-09T08:37:30.768Z"
   },
   {
    "duration": 41,
    "start_time": "2022-11-09T08:37:30.797Z"
   },
   {
    "duration": 43,
    "start_time": "2022-11-09T08:37:30.840Z"
   },
   {
    "duration": 20,
    "start_time": "2022-11-09T08:37:30.884Z"
   },
   {
    "duration": 21,
    "start_time": "2022-11-09T08:37:30.906Z"
   },
   {
    "duration": 34,
    "start_time": "2022-11-09T08:37:30.929Z"
   },
   {
    "duration": 430,
    "start_time": "2022-11-09T08:37:30.964Z"
   },
   {
    "duration": 411,
    "start_time": "2022-11-09T08:37:31.397Z"
   },
   {
    "duration": 127,
    "start_time": "2022-11-09T08:37:31.809Z"
   },
   {
    "duration": 13,
    "start_time": "2022-11-09T08:37:31.938Z"
   },
   {
    "duration": 810,
    "start_time": "2022-11-09T08:37:31.953Z"
   },
   {
    "duration": 132,
    "start_time": "2022-11-09T08:37:32.766Z"
   },
   {
    "duration": 11,
    "start_time": "2022-11-09T08:37:32.900Z"
   },
   {
    "duration": 21,
    "start_time": "2022-11-09T08:37:32.912Z"
   },
   {
    "duration": 15,
    "start_time": "2022-11-09T08:37:32.934Z"
   },
   {
    "duration": 204,
    "start_time": "2022-11-09T08:37:32.950Z"
   },
   {
    "duration": 187,
    "start_time": "2022-11-09T08:37:33.156Z"
   },
   {
    "duration": 1084,
    "start_time": "2022-11-09T08:37:33.345Z"
   },
   {
    "duration": 33,
    "start_time": "2022-11-09T08:37:34.432Z"
   },
   {
    "duration": 535,
    "start_time": "2022-11-09T08:37:34.467Z"
   },
   {
    "duration": 595,
    "start_time": "2022-11-09T08:37:35.004Z"
   },
   {
    "duration": 16,
    "start_time": "2022-11-09T08:37:35.600Z"
   },
   {
    "duration": 21,
    "start_time": "2022-11-09T08:37:35.617Z"
   },
   {
    "duration": 8,
    "start_time": "2022-11-09T08:37:35.640Z"
   },
   {
    "duration": 9,
    "start_time": "2022-11-09T08:37:35.649Z"
   },
   {
    "duration": 320,
    "start_time": "2022-11-09T08:37:35.659Z"
   },
   {
    "duration": 1196,
    "start_time": "2022-11-09T08:37:35.981Z"
   },
   {
    "duration": 226,
    "start_time": "2022-11-09T08:37:37.179Z"
   },
   {
    "duration": 12,
    "start_time": "2022-11-09T08:37:37.407Z"
   },
   {
    "duration": 4,
    "start_time": "2022-11-09T08:37:37.424Z"
   },
   {
    "duration": 13,
    "start_time": "2022-11-09T08:37:37.430Z"
   },
   {
    "duration": 5,
    "start_time": "2022-11-09T08:37:37.445Z"
   },
   {
    "duration": 7,
    "start_time": "2022-11-09T08:37:37.452Z"
   },
   {
    "duration": 42,
    "start_time": "2022-11-09T08:37:37.460Z"
   },
   {
    "duration": 6,
    "start_time": "2022-11-09T08:37:37.504Z"
   },
   {
    "duration": 24,
    "start_time": "2022-11-09T08:40:21.231Z"
   },
   {
    "duration": 36,
    "start_time": "2022-11-09T08:40:21.257Z"
   },
   {
    "duration": 13,
    "start_time": "2022-11-09T08:40:21.295Z"
   },
   {
    "duration": 13,
    "start_time": "2022-11-09T08:40:21.310Z"
   },
   {
    "duration": 12,
    "start_time": "2022-11-09T08:40:21.325Z"
   },
   {
    "duration": 9,
    "start_time": "2022-11-09T08:40:21.339Z"
   },
   {
    "duration": 49,
    "start_time": "2022-11-09T08:40:21.349Z"
   },
   {
    "duration": 8,
    "start_time": "2022-11-09T08:40:21.400Z"
   },
   {
    "duration": 12,
    "start_time": "2022-11-09T08:40:21.410Z"
   },
   {
    "duration": 11,
    "start_time": "2022-11-09T08:40:21.424Z"
   },
   {
    "duration": 20,
    "start_time": "2022-11-09T08:40:21.437Z"
   },
   {
    "duration": 3,
    "start_time": "2022-11-09T08:40:21.459Z"
   },
   {
    "duration": 41,
    "start_time": "2022-11-09T08:40:21.464Z"
   },
   {
    "duration": 10,
    "start_time": "2022-11-09T08:40:21.509Z"
   },
   {
    "duration": 10,
    "start_time": "2022-11-09T08:40:21.520Z"
   },
   {
    "duration": 7,
    "start_time": "2022-11-09T08:40:21.532Z"
   },
   {
    "duration": 6,
    "start_time": "2022-11-09T08:40:21.540Z"
   },
   {
    "duration": 10,
    "start_time": "2022-11-09T08:40:21.547Z"
   },
   {
    "duration": 46,
    "start_time": "2022-11-09T08:40:21.558Z"
   },
   {
    "duration": 5,
    "start_time": "2022-11-09T08:40:21.606Z"
   },
   {
    "duration": 32,
    "start_time": "2022-11-09T08:40:21.612Z"
   },
   {
    "duration": 22,
    "start_time": "2022-11-09T08:40:21.645Z"
   },
   {
    "duration": 11,
    "start_time": "2022-11-09T08:40:21.697Z"
   },
   {
    "duration": 5,
    "start_time": "2022-11-09T08:40:21.710Z"
   },
   {
    "duration": 21,
    "start_time": "2022-11-09T08:40:21.717Z"
   },
   {
    "duration": 4,
    "start_time": "2022-11-09T08:40:21.740Z"
   },
   {
    "duration": 7,
    "start_time": "2022-11-09T08:40:21.746Z"
   },
   {
    "duration": 14,
    "start_time": "2022-11-09T08:40:21.754Z"
   },
   {
    "duration": 30,
    "start_time": "2022-11-09T08:40:21.769Z"
   },
   {
    "duration": 399,
    "start_time": "2022-11-09T08:40:21.801Z"
   },
   {
    "duration": 397,
    "start_time": "2022-11-09T08:40:22.203Z"
   },
   {
    "duration": 17,
    "start_time": "2022-11-09T08:40:22.602Z"
   },
   {
    "duration": 9,
    "start_time": "2022-11-09T08:40:22.620Z"
   },
   {
    "duration": 787,
    "start_time": "2022-11-09T08:40:22.631Z"
   },
   {
    "duration": 237,
    "start_time": "2022-11-09T08:40:23.420Z"
   },
   {
    "duration": 11,
    "start_time": "2022-11-09T08:40:23.661Z"
   },
   {
    "duration": 39,
    "start_time": "2022-11-09T08:40:23.674Z"
   },
   {
    "duration": 15,
    "start_time": "2022-11-09T08:40:23.715Z"
   },
   {
    "duration": 198,
    "start_time": "2022-11-09T08:40:23.732Z"
   },
   {
    "duration": 203,
    "start_time": "2022-11-09T08:40:23.932Z"
   },
   {
    "duration": 1024,
    "start_time": "2022-11-09T08:40:24.138Z"
   },
   {
    "duration": 43,
    "start_time": "2022-11-09T08:40:25.164Z"
   },
   {
    "duration": 499,
    "start_time": "2022-11-09T08:40:25.208Z"
   },
   {
    "duration": 590,
    "start_time": "2022-11-09T08:40:25.709Z"
   },
   {
    "duration": 16,
    "start_time": "2022-11-09T08:40:26.301Z"
   },
   {
    "duration": 24,
    "start_time": "2022-11-09T08:40:26.319Z"
   },
   {
    "duration": 22,
    "start_time": "2022-11-09T08:40:26.344Z"
   },
   {
    "duration": 21,
    "start_time": "2022-11-09T08:40:26.367Z"
   },
   {
    "duration": 278,
    "start_time": "2022-11-09T08:40:26.390Z"
   },
   {
    "duration": 1083,
    "start_time": "2022-11-09T08:40:26.670Z"
   },
   {
    "duration": 346,
    "start_time": "2022-11-09T08:40:27.754Z"
   },
   {
    "duration": 11,
    "start_time": "2022-11-09T08:40:28.102Z"
   },
   {
    "duration": 7,
    "start_time": "2022-11-09T08:40:28.115Z"
   },
   {
    "duration": 35,
    "start_time": "2022-11-09T08:40:28.124Z"
   },
   {
    "duration": 7,
    "start_time": "2022-11-09T08:40:28.161Z"
   },
   {
    "duration": 7,
    "start_time": "2022-11-09T08:40:28.170Z"
   },
   {
    "duration": 9,
    "start_time": "2022-11-09T08:40:28.179Z"
   },
   {
    "duration": 6,
    "start_time": "2022-11-09T08:40:28.197Z"
   },
   {
    "duration": 1578,
    "start_time": "2022-11-09T17:10:53.024Z"
   },
   {
    "duration": 88,
    "start_time": "2022-11-09T17:10:54.604Z"
   },
   {
    "duration": 19,
    "start_time": "2022-11-09T17:10:54.694Z"
   },
   {
    "duration": 15,
    "start_time": "2022-11-09T17:10:54.715Z"
   },
   {
    "duration": 15,
    "start_time": "2022-11-09T17:10:54.732Z"
   },
   {
    "duration": 8,
    "start_time": "2022-11-09T17:10:54.749Z"
   },
   {
    "duration": 20,
    "start_time": "2022-11-09T17:10:54.759Z"
   },
   {
    "duration": 7,
    "start_time": "2022-11-09T17:10:54.780Z"
   },
   {
    "duration": 11,
    "start_time": "2022-11-09T17:10:54.789Z"
   },
   {
    "duration": 40,
    "start_time": "2022-11-09T17:10:54.803Z"
   },
   {
    "duration": 22,
    "start_time": "2022-11-09T17:10:54.845Z"
   },
   {
    "duration": 4,
    "start_time": "2022-11-09T17:10:54.869Z"
   },
   {
    "duration": 12,
    "start_time": "2022-11-09T17:10:54.875Z"
   },
   {
    "duration": 12,
    "start_time": "2022-11-09T17:10:54.888Z"
   },
   {
    "duration": 34,
    "start_time": "2022-11-09T17:10:54.902Z"
   },
   {
    "duration": 8,
    "start_time": "2022-11-09T17:10:54.938Z"
   },
   {
    "duration": 4,
    "start_time": "2022-11-09T17:10:54.948Z"
   },
   {
    "duration": 8,
    "start_time": "2022-11-09T17:10:54.954Z"
   },
   {
    "duration": 21,
    "start_time": "2022-11-09T17:10:54.963Z"
   },
   {
    "duration": 5,
    "start_time": "2022-11-09T17:10:54.985Z"
   },
   {
    "duration": 59,
    "start_time": "2022-11-09T17:10:54.991Z"
   },
   {
    "duration": 22,
    "start_time": "2022-11-09T17:10:55.051Z"
   },
   {
    "duration": 10,
    "start_time": "2022-11-09T17:10:55.074Z"
   },
   {
    "duration": 5,
    "start_time": "2022-11-09T17:10:55.086Z"
   },
   {
    "duration": 16,
    "start_time": "2022-11-09T17:10:55.093Z"
   },
   {
    "duration": 28,
    "start_time": "2022-11-09T17:10:55.110Z"
   },
   {
    "duration": 6,
    "start_time": "2022-11-09T17:10:55.139Z"
   },
   {
    "duration": 9,
    "start_time": "2022-11-09T17:10:55.148Z"
   },
   {
    "duration": 8,
    "start_time": "2022-11-09T17:10:55.159Z"
   },
   {
    "duration": 366,
    "start_time": "2022-11-09T17:10:55.169Z"
   },
   {
    "duration": 333,
    "start_time": "2022-11-09T17:10:55.537Z"
   },
   {
    "duration": 89,
    "start_time": "2022-11-09T17:10:55.872Z"
   },
   {
    "duration": 5,
    "start_time": "2022-11-09T17:10:55.963Z"
   },
   {
    "duration": 1105,
    "start_time": "2022-11-09T17:10:55.969Z"
   },
   {
    "duration": 117,
    "start_time": "2022-11-09T17:10:57.077Z"
   },
   {
    "duration": 10,
    "start_time": "2022-11-09T17:10:57.195Z"
   },
   {
    "duration": 30,
    "start_time": "2022-11-09T17:10:57.207Z"
   },
   {
    "duration": 13,
    "start_time": "2022-11-09T17:10:57.239Z"
   },
   {
    "duration": 170,
    "start_time": "2022-11-09T17:10:57.254Z"
   },
   {
    "duration": 151,
    "start_time": "2022-11-09T17:10:57.426Z"
   },
   {
    "duration": 882,
    "start_time": "2022-11-09T17:10:57.579Z"
   },
   {
    "duration": 30,
    "start_time": "2022-11-09T17:10:58.463Z"
   },
   {
    "duration": 495,
    "start_time": "2022-11-09T17:10:58.495Z"
   },
   {
    "duration": 856,
    "start_time": "2022-11-09T17:10:58.992Z"
   },
   {
    "duration": 15,
    "start_time": "2022-11-09T17:10:59.850Z"
   },
   {
    "duration": 19,
    "start_time": "2022-11-09T17:10:59.867Z"
   },
   {
    "duration": 8,
    "start_time": "2022-11-09T17:10:59.888Z"
   },
   {
    "duration": 41,
    "start_time": "2022-11-09T17:10:59.897Z"
   },
   {
    "duration": 271,
    "start_time": "2022-11-09T17:10:59.940Z"
   },
   {
    "duration": 1183,
    "start_time": "2022-11-09T17:11:00.213Z"
   },
   {
    "duration": 217,
    "start_time": "2022-11-09T17:11:01.397Z"
   },
   {
    "duration": 19,
    "start_time": "2022-11-09T17:11:01.616Z"
   },
   {
    "duration": 4,
    "start_time": "2022-11-09T17:11:01.636Z"
   },
   {
    "duration": 23,
    "start_time": "2022-11-09T17:11:01.642Z"
   },
   {
    "duration": 9,
    "start_time": "2022-11-09T17:11:01.666Z"
   },
   {
    "duration": 14,
    "start_time": "2022-11-09T17:11:01.676Z"
   },
   {
    "duration": 10,
    "start_time": "2022-11-09T17:11:01.692Z"
   },
   {
    "duration": 5,
    "start_time": "2022-11-09T17:11:01.703Z"
   },
   {
    "duration": 214,
    "start_time": "2022-11-09T17:11:01.710Z"
   },
   {
    "duration": 21,
    "start_time": "2022-11-09T17:26:27.097Z"
   },
   {
    "duration": 42,
    "start_time": "2022-11-09T17:26:27.159Z"
   },
   {
    "duration": 15,
    "start_time": "2022-11-09T17:26:27.404Z"
   },
   {
    "duration": 11,
    "start_time": "2022-11-09T17:26:27.422Z"
   },
   {
    "duration": 16,
    "start_time": "2022-11-09T17:26:27.435Z"
   },
   {
    "duration": 12,
    "start_time": "2022-11-09T17:26:27.452Z"
   },
   {
    "duration": 24,
    "start_time": "2022-11-09T17:26:27.467Z"
   },
   {
    "duration": 8,
    "start_time": "2022-11-09T17:26:27.492Z"
   },
   {
    "duration": 33,
    "start_time": "2022-11-09T17:26:27.502Z"
   },
   {
    "duration": 11,
    "start_time": "2022-11-09T17:26:27.604Z"
   },
   {
    "duration": 17,
    "start_time": "2022-11-09T17:26:27.617Z"
   },
   {
    "duration": 4,
    "start_time": "2022-11-09T17:26:27.636Z"
   },
   {
    "duration": 11,
    "start_time": "2022-11-09T17:26:27.642Z"
   },
   {
    "duration": 12,
    "start_time": "2022-11-09T17:26:27.655Z"
   },
   {
    "duration": 18,
    "start_time": "2022-11-09T17:26:27.669Z"
   },
   {
    "duration": 7,
    "start_time": "2022-11-09T17:26:27.826Z"
   },
   {
    "duration": 4,
    "start_time": "2022-11-09T17:26:27.836Z"
   },
   {
    "duration": 10,
    "start_time": "2022-11-09T17:26:27.841Z"
   },
   {
    "duration": 21,
    "start_time": "2022-11-09T17:26:27.853Z"
   },
   {
    "duration": 5,
    "start_time": "2022-11-09T17:26:27.876Z"
   },
   {
    "duration": 33,
    "start_time": "2022-11-09T17:26:27.882Z"
   },
   {
    "duration": 25,
    "start_time": "2022-11-09T17:26:28.036Z"
   },
   {
    "duration": 14,
    "start_time": "2022-11-09T17:26:28.063Z"
   },
   {
    "duration": 7,
    "start_time": "2022-11-09T17:26:28.079Z"
   },
   {
    "duration": 21,
    "start_time": "2022-11-09T17:26:28.088Z"
   },
   {
    "duration": 27,
    "start_time": "2022-11-09T17:26:28.112Z"
   },
   {
    "duration": 7,
    "start_time": "2022-11-09T17:26:28.142Z"
   },
   {
    "duration": 10,
    "start_time": "2022-11-09T17:26:28.150Z"
   },
   {
    "duration": 6,
    "start_time": "2022-11-09T17:26:28.162Z"
   },
   {
    "duration": 389,
    "start_time": "2022-11-09T17:26:28.245Z"
   },
   {
    "duration": 368,
    "start_time": "2022-11-09T17:26:28.636Z"
   },
   {
    "duration": 15,
    "start_time": "2022-11-09T17:26:29.006Z"
   },
   {
    "duration": 6,
    "start_time": "2022-11-09T17:26:29.035Z"
   },
   {
    "duration": 848,
    "start_time": "2022-11-09T17:26:29.043Z"
   },
   {
    "duration": 118,
    "start_time": "2022-11-09T17:26:29.893Z"
   },
   {
    "duration": 21,
    "start_time": "2022-11-09T17:26:30.013Z"
   },
   {
    "duration": 18,
    "start_time": "2022-11-09T17:26:30.036Z"
   },
   {
    "duration": 14,
    "start_time": "2022-11-09T17:26:30.055Z"
   },
   {
    "duration": 186,
    "start_time": "2022-11-09T17:26:30.072Z"
   },
   {
    "duration": 227,
    "start_time": "2022-11-09T17:26:30.260Z"
   },
   {
    "duration": 943,
    "start_time": "2022-11-09T17:26:30.489Z"
   },
   {
    "duration": 30,
    "start_time": "2022-11-09T17:26:31.434Z"
   },
   {
    "duration": 481,
    "start_time": "2022-11-09T17:26:31.466Z"
   },
   {
    "duration": 496,
    "start_time": "2022-11-09T17:26:31.949Z"
   },
   {
    "duration": 20,
    "start_time": "2022-11-09T17:26:32.447Z"
   },
   {
    "duration": 21,
    "start_time": "2022-11-09T17:26:32.469Z"
   },
   {
    "duration": 8,
    "start_time": "2022-11-09T17:26:32.492Z"
   },
   {
    "duration": 37,
    "start_time": "2022-11-09T17:26:32.502Z"
   },
   {
    "duration": 276,
    "start_time": "2022-11-09T17:26:32.541Z"
   },
   {
    "duration": 1250,
    "start_time": "2022-11-09T17:26:32.819Z"
   },
   {
    "duration": 205,
    "start_time": "2022-11-09T17:26:34.071Z"
   },
   {
    "duration": 12,
    "start_time": "2022-11-09T17:26:34.278Z"
   },
   {
    "duration": 3,
    "start_time": "2022-11-09T17:26:34.292Z"
   },
   {
    "duration": 11,
    "start_time": "2022-11-09T17:26:34.296Z"
   },
   {
    "duration": 27,
    "start_time": "2022-11-09T17:26:34.309Z"
   },
   {
    "duration": 7,
    "start_time": "2022-11-09T17:26:34.337Z"
   },
   {
    "duration": 8,
    "start_time": "2022-11-09T17:26:34.346Z"
   },
   {
    "duration": 5,
    "start_time": "2022-11-09T17:26:34.356Z"
   },
   {
    "duration": 117,
    "start_time": "2022-11-09T17:26:34.362Z"
   },
   {
    "duration": 78,
    "start_time": "2022-11-09T17:28:02.541Z"
   },
   {
    "duration": 77,
    "start_time": "2022-11-09T17:28:11.527Z"
   },
   {
    "duration": 69,
    "start_time": "2022-11-09T17:28:50.816Z"
   },
   {
    "duration": 70,
    "start_time": "2022-11-09T17:29:09.302Z"
   },
   {
    "duration": 74,
    "start_time": "2022-11-09T17:33:09.078Z"
   },
   {
    "duration": 259,
    "start_time": "2022-11-09T17:35:02.523Z"
   },
   {
    "duration": 99,
    "start_time": "2022-11-09T17:35:14.802Z"
   },
   {
    "duration": 95,
    "start_time": "2022-11-09T17:35:24.089Z"
   },
   {
    "duration": 144,
    "start_time": "2022-11-09T17:37:22.320Z"
   },
   {
    "duration": 24,
    "start_time": "2022-11-09T17:37:40.846Z"
   },
   {
    "duration": 41,
    "start_time": "2022-11-09T17:37:40.914Z"
   },
   {
    "duration": 17,
    "start_time": "2022-11-09T17:37:40.957Z"
   },
   {
    "duration": 18,
    "start_time": "2022-11-09T17:37:40.976Z"
   },
   {
    "duration": 17,
    "start_time": "2022-11-09T17:37:40.996Z"
   },
   {
    "duration": 15,
    "start_time": "2022-11-09T17:37:41.047Z"
   },
   {
    "duration": 21,
    "start_time": "2022-11-09T17:37:41.066Z"
   },
   {
    "duration": 10,
    "start_time": "2022-11-09T17:37:41.090Z"
   },
   {
    "duration": 14,
    "start_time": "2022-11-09T17:37:41.108Z"
   },
   {
    "duration": 15,
    "start_time": "2022-11-09T17:37:41.134Z"
   },
   {
    "duration": 24,
    "start_time": "2022-11-09T17:37:41.318Z"
   },
   {
    "duration": 5,
    "start_time": "2022-11-09T17:37:41.345Z"
   },
   {
    "duration": 14,
    "start_time": "2022-11-09T17:37:41.352Z"
   },
   {
    "duration": 11,
    "start_time": "2022-11-09T17:37:41.369Z"
   },
   {
    "duration": 13,
    "start_time": "2022-11-09T17:37:41.382Z"
   },
   {
    "duration": 10,
    "start_time": "2022-11-09T17:37:41.400Z"
   },
   {
    "duration": 31,
    "start_time": "2022-11-09T17:37:41.413Z"
   },
   {
    "duration": 6,
    "start_time": "2022-11-09T17:37:41.586Z"
   },
   {
    "duration": 19,
    "start_time": "2022-11-09T17:37:41.594Z"
   },
   {
    "duration": 5,
    "start_time": "2022-11-09T17:37:41.614Z"
   },
   {
    "duration": 36,
    "start_time": "2022-11-09T17:37:41.620Z"
   },
   {
    "duration": 22,
    "start_time": "2022-11-09T17:37:41.658Z"
   },
   {
    "duration": 11,
    "start_time": "2022-11-09T17:37:41.682Z"
   },
   {
    "duration": 9,
    "start_time": "2022-11-09T17:37:41.695Z"
   },
   {
    "duration": 41,
    "start_time": "2022-11-09T17:37:41.705Z"
   },
   {
    "duration": 4,
    "start_time": "2022-11-09T17:37:41.748Z"
   },
   {
    "duration": 13,
    "start_time": "2022-11-09T17:37:41.754Z"
   },
   {
    "duration": 13,
    "start_time": "2022-11-09T17:37:41.769Z"
   },
   {
    "duration": 11,
    "start_time": "2022-11-09T17:37:41.783Z"
   },
   {
    "duration": 399,
    "start_time": "2022-11-09T17:37:41.796Z"
   },
   {
    "duration": 406,
    "start_time": "2022-11-09T17:37:42.198Z"
   },
   {
    "duration": 26,
    "start_time": "2022-11-09T17:37:42.606Z"
   },
   {
    "duration": 16,
    "start_time": "2022-11-09T17:37:42.635Z"
   },
   {
    "duration": 797,
    "start_time": "2022-11-09T17:37:42.653Z"
   },
   {
    "duration": 124,
    "start_time": "2022-11-09T17:37:43.453Z"
   },
   {
    "duration": 12,
    "start_time": "2022-11-09T17:37:43.581Z"
   },
   {
    "duration": 44,
    "start_time": "2022-11-09T17:37:43.595Z"
   },
   {
    "duration": 19,
    "start_time": "2022-11-09T17:37:43.643Z"
   },
   {
    "duration": 226,
    "start_time": "2022-11-09T17:37:43.664Z"
   },
   {
    "duration": 204,
    "start_time": "2022-11-09T17:37:43.892Z"
   },
   {
    "duration": 902,
    "start_time": "2022-11-09T17:37:44.098Z"
   },
   {
    "duration": 38,
    "start_time": "2022-11-09T17:37:45.002Z"
   },
   {
    "duration": 593,
    "start_time": "2022-11-09T17:37:45.042Z"
   },
   {
    "duration": 501,
    "start_time": "2022-11-09T17:37:45.637Z"
   },
   {
    "duration": 15,
    "start_time": "2022-11-09T17:37:46.140Z"
   },
   {
    "duration": 20,
    "start_time": "2022-11-09T17:37:46.156Z"
   },
   {
    "duration": 8,
    "start_time": "2022-11-09T17:37:46.177Z"
   },
   {
    "duration": 14,
    "start_time": "2022-11-09T17:37:46.187Z"
   },
   {
    "duration": 287,
    "start_time": "2022-11-09T17:37:46.203Z"
   },
   {
    "duration": 1061,
    "start_time": "2022-11-09T17:37:46.493Z"
   },
   {
    "duration": 226,
    "start_time": "2022-11-09T17:37:47.556Z"
   },
   {
    "duration": 12,
    "start_time": "2022-11-09T17:37:47.784Z"
   },
   {
    "duration": 8,
    "start_time": "2022-11-09T17:37:47.798Z"
   },
   {
    "duration": 30,
    "start_time": "2022-11-09T17:37:47.808Z"
   },
   {
    "duration": 7,
    "start_time": "2022-11-09T17:37:47.841Z"
   },
   {
    "duration": 13,
    "start_time": "2022-11-09T17:37:47.850Z"
   },
   {
    "duration": 14,
    "start_time": "2022-11-09T17:37:47.865Z"
   },
   {
    "duration": 7,
    "start_time": "2022-11-09T17:37:47.881Z"
   },
   {
    "duration": 58,
    "start_time": "2022-11-09T17:37:47.891Z"
   },
   {
    "duration": 64,
    "start_time": "2022-11-09T17:39:23.057Z"
   },
   {
    "duration": 24,
    "start_time": "2022-11-09T17:47:28.390Z"
   },
   {
    "duration": 32,
    "start_time": "2022-11-09T17:47:28.466Z"
   },
   {
    "duration": 12,
    "start_time": "2022-11-09T17:47:28.500Z"
   },
   {
    "duration": 17,
    "start_time": "2022-11-09T17:47:28.514Z"
   },
   {
    "duration": 21,
    "start_time": "2022-11-09T17:47:28.534Z"
   },
   {
    "duration": 15,
    "start_time": "2022-11-09T17:47:28.567Z"
   },
   {
    "duration": 27,
    "start_time": "2022-11-09T17:47:28.584Z"
   },
   {
    "duration": 8,
    "start_time": "2022-11-09T17:47:28.612Z"
   },
   {
    "duration": 23,
    "start_time": "2022-11-09T17:47:28.621Z"
   },
   {
    "duration": 10,
    "start_time": "2022-11-09T17:47:28.647Z"
   },
   {
    "duration": 26,
    "start_time": "2022-11-09T17:47:28.692Z"
   },
   {
    "duration": 5,
    "start_time": "2022-11-09T17:47:28.721Z"
   },
   {
    "duration": 20,
    "start_time": "2022-11-09T17:47:28.728Z"
   },
   {
    "duration": 10,
    "start_time": "2022-11-09T17:47:28.832Z"
   },
   {
    "duration": 15,
    "start_time": "2022-11-09T17:47:28.845Z"
   },
   {
    "duration": 8,
    "start_time": "2022-11-09T17:47:28.861Z"
   },
   {
    "duration": 4,
    "start_time": "2022-11-09T17:47:28.871Z"
   },
   {
    "duration": 10,
    "start_time": "2022-11-09T17:47:28.877Z"
   },
   {
    "duration": 15,
    "start_time": "2022-11-09T17:47:28.930Z"
   },
   {
    "duration": 4,
    "start_time": "2022-11-09T17:47:28.947Z"
   },
   {
    "duration": 29,
    "start_time": "2022-11-09T17:47:28.960Z"
   },
   {
    "duration": 24,
    "start_time": "2022-11-09T17:47:28.991Z"
   },
   {
    "duration": 29,
    "start_time": "2022-11-09T17:47:29.016Z"
   },
   {
    "duration": 6,
    "start_time": "2022-11-09T17:47:29.095Z"
   },
   {
    "duration": 16,
    "start_time": "2022-11-09T17:47:29.103Z"
   },
   {
    "duration": 5,
    "start_time": "2022-11-09T17:47:29.121Z"
   },
   {
    "duration": 5,
    "start_time": "2022-11-09T17:47:29.127Z"
   },
   {
    "duration": 11,
    "start_time": "2022-11-09T17:47:29.135Z"
   },
   {
    "duration": 12,
    "start_time": "2022-11-09T17:47:29.149Z"
   },
   {
    "duration": 373,
    "start_time": "2022-11-09T17:47:29.164Z"
   },
   {
    "duration": 504,
    "start_time": "2022-11-09T17:47:29.539Z"
   },
   {
    "duration": 16,
    "start_time": "2022-11-09T17:47:30.045Z"
   },
   {
    "duration": 12,
    "start_time": "2022-11-09T17:47:30.064Z"
   },
   {
    "duration": 830,
    "start_time": "2022-11-09T17:47:30.078Z"
   },
   {
    "duration": 127,
    "start_time": "2022-11-09T17:47:30.910Z"
   },
   {
    "duration": 10,
    "start_time": "2022-11-09T17:47:31.040Z"
   },
   {
    "duration": 34,
    "start_time": "2022-11-09T17:47:31.052Z"
   },
   {
    "duration": 19,
    "start_time": "2022-11-09T17:47:31.088Z"
   },
   {
    "duration": 243,
    "start_time": "2022-11-09T17:47:31.109Z"
   },
   {
    "duration": 194,
    "start_time": "2022-11-09T17:47:31.354Z"
   },
   {
    "duration": 1114,
    "start_time": "2022-11-09T17:47:31.550Z"
   },
   {
    "duration": 44,
    "start_time": "2022-11-09T17:47:32.666Z"
   },
   {
    "duration": 539,
    "start_time": "2022-11-09T17:47:32.712Z"
   },
   {
    "duration": 488,
    "start_time": "2022-11-09T17:47:33.253Z"
   },
   {
    "duration": 19,
    "start_time": "2022-11-09T17:47:33.743Z"
   },
   {
    "duration": 25,
    "start_time": "2022-11-09T17:47:33.764Z"
   },
   {
    "duration": 11,
    "start_time": "2022-11-09T17:47:33.794Z"
   },
   {
    "duration": 10,
    "start_time": "2022-11-09T17:47:33.835Z"
   },
   {
    "duration": 289,
    "start_time": "2022-11-09T17:47:33.847Z"
   },
   {
    "duration": 1217,
    "start_time": "2022-11-09T17:47:34.138Z"
   },
   {
    "duration": 220,
    "start_time": "2022-11-09T17:47:35.357Z"
   },
   {
    "duration": 15,
    "start_time": "2022-11-09T17:47:35.579Z"
   },
   {
    "duration": 6,
    "start_time": "2022-11-09T17:47:35.596Z"
   },
   {
    "duration": 11,
    "start_time": "2022-11-09T17:47:35.604Z"
   },
   {
    "duration": 10,
    "start_time": "2022-11-09T17:47:35.634Z"
   },
   {
    "duration": 15,
    "start_time": "2022-11-09T17:47:35.646Z"
   },
   {
    "duration": 9,
    "start_time": "2022-11-09T17:47:35.663Z"
   },
   {
    "duration": 6,
    "start_time": "2022-11-09T17:47:35.674Z"
   },
   {
    "duration": 65,
    "start_time": "2022-11-09T17:47:35.682Z"
   },
   {
    "duration": 51,
    "start_time": "2022-11-09T17:50:11.331Z"
   },
   {
    "duration": 54,
    "start_time": "2022-11-09T17:54:26.834Z"
   },
   {
    "duration": 48,
    "start_time": "2022-11-09T17:54:45.029Z"
   },
   {
    "duration": 212,
    "start_time": "2022-11-09T17:55:34.687Z"
   },
   {
    "duration": 283,
    "start_time": "2022-11-09T18:00:00.214Z"
   },
   {
    "duration": 188,
    "start_time": "2022-11-09T18:02:24.065Z"
   },
   {
    "duration": 45,
    "start_time": "2022-11-10T15:54:41.758Z"
   },
   {
    "duration": 1538,
    "start_time": "2022-11-10T15:54:46.801Z"
   },
   {
    "duration": 88,
    "start_time": "2022-11-10T15:54:48.342Z"
   },
   {
    "duration": 14,
    "start_time": "2022-11-10T15:54:48.432Z"
   },
   {
    "duration": 13,
    "start_time": "2022-11-10T15:54:48.448Z"
   },
   {
    "duration": 12,
    "start_time": "2022-11-10T15:54:48.463Z"
   },
   {
    "duration": 9,
    "start_time": "2022-11-10T15:54:48.477Z"
   },
   {
    "duration": 35,
    "start_time": "2022-11-10T15:54:48.487Z"
   },
   {
    "duration": 8,
    "start_time": "2022-11-10T15:54:48.523Z"
   },
   {
    "duration": 10,
    "start_time": "2022-11-10T15:54:48.533Z"
   },
   {
    "duration": 11,
    "start_time": "2022-11-10T15:54:48.545Z"
   },
   {
    "duration": 15,
    "start_time": "2022-11-10T15:54:48.557Z"
   },
   {
    "duration": 4,
    "start_time": "2022-11-10T15:54:48.574Z"
   },
   {
    "duration": 10,
    "start_time": "2022-11-10T15:54:48.613Z"
   },
   {
    "duration": 9,
    "start_time": "2022-11-10T15:54:48.625Z"
   },
   {
    "duration": 9,
    "start_time": "2022-11-10T15:54:48.636Z"
   },
   {
    "duration": 7,
    "start_time": "2022-11-10T15:54:48.647Z"
   },
   {
    "duration": 4,
    "start_time": "2022-11-10T15:54:48.656Z"
   },
   {
    "duration": 7,
    "start_time": "2022-11-10T15:54:48.661Z"
   },
   {
    "duration": 50,
    "start_time": "2022-11-10T15:54:48.670Z"
   },
   {
    "duration": 4,
    "start_time": "2022-11-10T15:54:48.722Z"
   },
   {
    "duration": 34,
    "start_time": "2022-11-10T15:54:48.727Z"
   },
   {
    "duration": 21,
    "start_time": "2022-11-10T15:54:48.763Z"
   },
   {
    "duration": 30,
    "start_time": "2022-11-10T15:54:48.785Z"
   },
   {
    "duration": 5,
    "start_time": "2022-11-10T15:54:48.817Z"
   },
   {
    "duration": 17,
    "start_time": "2022-11-10T15:54:48.824Z"
   },
   {
    "duration": 4,
    "start_time": "2022-11-10T15:54:48.842Z"
   },
   {
    "duration": 7,
    "start_time": "2022-11-10T15:54:48.847Z"
   },
   {
    "duration": 8,
    "start_time": "2022-11-10T15:54:48.857Z"
   },
   {
    "duration": 8,
    "start_time": "2022-11-10T15:54:48.866Z"
   },
   {
    "duration": 390,
    "start_time": "2022-11-10T15:54:48.875Z"
   },
   {
    "duration": 342,
    "start_time": "2022-11-10T15:54:49.266Z"
   },
   {
    "duration": 86,
    "start_time": "2022-11-10T15:54:49.610Z"
   },
   {
    "duration": 17,
    "start_time": "2022-11-10T15:54:49.698Z"
   },
   {
    "duration": 794,
    "start_time": "2022-11-10T15:54:49.717Z"
   },
   {
    "duration": 118,
    "start_time": "2022-11-10T15:54:50.513Z"
   },
   {
    "duration": 11,
    "start_time": "2022-11-10T15:54:50.632Z"
   },
   {
    "duration": 17,
    "start_time": "2022-11-10T15:54:50.644Z"
   },
   {
    "duration": 13,
    "start_time": "2022-11-10T15:54:50.663Z"
   },
   {
    "duration": 182,
    "start_time": "2022-11-10T15:54:50.677Z"
   },
   {
    "duration": 157,
    "start_time": "2022-11-10T15:54:50.861Z"
   },
   {
    "duration": 912,
    "start_time": "2022-11-10T15:54:51.019Z"
   },
   {
    "duration": 28,
    "start_time": "2022-11-10T15:54:51.932Z"
   },
   {
    "duration": 481,
    "start_time": "2022-11-10T15:54:51.962Z"
   },
   {
    "duration": 571,
    "start_time": "2022-11-10T15:54:52.445Z"
   },
   {
    "duration": 14,
    "start_time": "2022-11-10T15:54:53.018Z"
   },
   {
    "duration": 22,
    "start_time": "2022-11-10T15:54:53.034Z"
   },
   {
    "duration": 7,
    "start_time": "2022-11-10T15:54:53.058Z"
   },
   {
    "duration": 17,
    "start_time": "2022-11-10T15:54:53.067Z"
   },
   {
    "duration": 277,
    "start_time": "2022-11-10T15:54:53.086Z"
   },
   {
    "duration": 1054,
    "start_time": "2022-11-10T15:54:53.365Z"
   },
   {
    "duration": 213,
    "start_time": "2022-11-10T15:54:54.420Z"
   },
   {
    "duration": 12,
    "start_time": "2022-11-10T15:54:54.634Z"
   },
   {
    "duration": 17,
    "start_time": "2022-11-10T15:54:54.648Z"
   },
   {
    "duration": 23,
    "start_time": "2022-11-10T15:54:54.666Z"
   },
   {
    "duration": 9,
    "start_time": "2022-11-10T15:54:54.690Z"
   },
   {
    "duration": 10,
    "start_time": "2022-11-10T15:54:54.702Z"
   },
   {
    "duration": 9,
    "start_time": "2022-11-10T15:54:54.713Z"
   },
   {
    "duration": 6,
    "start_time": "2022-11-10T15:54:54.724Z"
   },
   {
    "duration": 25,
    "start_time": "2022-11-10T15:54:54.731Z"
   },
   {
    "duration": 136,
    "start_time": "2022-11-10T15:54:54.758Z"
   },
   {
    "duration": 1265,
    "start_time": "2022-11-10T16:28:59.122Z"
   },
   {
    "duration": 1155,
    "start_time": "2022-11-10T16:29:13.910Z"
   },
   {
    "duration": 20,
    "start_time": "2022-11-10T16:29:22.944Z"
   },
   {
    "duration": 34,
    "start_time": "2022-11-10T16:29:22.965Z"
   },
   {
    "duration": 11,
    "start_time": "2022-11-10T16:29:23.001Z"
   },
   {
    "duration": 10,
    "start_time": "2022-11-10T16:29:23.014Z"
   },
   {
    "duration": 10,
    "start_time": "2022-11-10T16:29:23.026Z"
   },
   {
    "duration": 8,
    "start_time": "2022-11-10T16:29:23.038Z"
   },
   {
    "duration": 20,
    "start_time": "2022-11-10T16:29:23.048Z"
   },
   {
    "duration": 6,
    "start_time": "2022-11-10T16:29:23.070Z"
   },
   {
    "duration": 10,
    "start_time": "2022-11-10T16:29:23.078Z"
   },
   {
    "duration": 30,
    "start_time": "2022-11-10T16:29:23.090Z"
   },
   {
    "duration": 14,
    "start_time": "2022-11-10T16:29:23.121Z"
   },
   {
    "duration": 3,
    "start_time": "2022-11-10T16:29:23.181Z"
   },
   {
    "duration": 7,
    "start_time": "2022-11-10T16:29:23.206Z"
   },
   {
    "duration": 10,
    "start_time": "2022-11-10T16:29:23.281Z"
   },
   {
    "duration": 9,
    "start_time": "2022-11-10T16:29:23.302Z"
   },
   {
    "duration": 7,
    "start_time": "2022-11-10T16:29:23.366Z"
   },
   {
    "duration": 3,
    "start_time": "2022-11-10T16:29:23.438Z"
   },
   {
    "duration": 4,
    "start_time": "2022-11-10T16:29:23.456Z"
   },
   {
    "duration": 13,
    "start_time": "2022-11-10T16:29:23.477Z"
   },
   {
    "duration": 4,
    "start_time": "2022-11-10T16:29:23.510Z"
   },
   {
    "duration": 28,
    "start_time": "2022-11-10T16:29:23.537Z"
   },
   {
    "duration": 20,
    "start_time": "2022-11-10T16:29:23.567Z"
   },
   {
    "duration": 10,
    "start_time": "2022-11-10T16:29:23.589Z"
   },
   {
    "duration": 5,
    "start_time": "2022-11-10T16:29:23.603Z"
   },
   {
    "duration": 12,
    "start_time": "2022-11-10T16:29:23.626Z"
   },
   {
    "duration": 4,
    "start_time": "2022-11-10T16:29:23.655Z"
   },
   {
    "duration": 4,
    "start_time": "2022-11-10T16:29:23.725Z"
   },
   {
    "duration": 8,
    "start_time": "2022-11-10T16:29:23.800Z"
   },
   {
    "duration": 6,
    "start_time": "2022-11-10T16:29:23.831Z"
   },
   {
    "duration": 356,
    "start_time": "2022-11-10T16:29:23.863Z"
   },
   {
    "duration": 358,
    "start_time": "2022-11-10T16:29:24.220Z"
   },
   {
    "duration": 15,
    "start_time": "2022-11-10T16:29:24.580Z"
   },
   {
    "duration": 17,
    "start_time": "2022-11-10T16:29:24.599Z"
   },
   {
    "duration": 818,
    "start_time": "2022-11-10T16:29:24.617Z"
   },
   {
    "duration": 111,
    "start_time": "2022-11-10T16:29:25.437Z"
   },
   {
    "duration": 10,
    "start_time": "2022-11-10T16:29:25.550Z"
   },
   {
    "duration": 18,
    "start_time": "2022-11-10T16:29:25.561Z"
   },
   {
    "duration": 32,
    "start_time": "2022-11-10T16:29:25.581Z"
   },
   {
    "duration": 169,
    "start_time": "2022-11-10T16:29:25.615Z"
   },
   {
    "duration": 163,
    "start_time": "2022-11-10T16:29:25.786Z"
   },
   {
    "duration": 860,
    "start_time": "2022-11-10T16:29:25.951Z"
   },
   {
    "duration": 26,
    "start_time": "2022-11-10T16:29:26.813Z"
   },
   {
    "duration": 472,
    "start_time": "2022-11-10T16:29:26.841Z"
   },
   {
    "duration": 599,
    "start_time": "2022-11-10T16:29:27.314Z"
   },
   {
    "duration": 14,
    "start_time": "2022-11-10T16:29:27.915Z"
   },
   {
    "duration": 19,
    "start_time": "2022-11-10T16:29:27.930Z"
   },
   {
    "duration": 7,
    "start_time": "2022-11-10T16:29:27.950Z"
   },
   {
    "duration": 11,
    "start_time": "2022-11-10T16:29:27.959Z"
   },
   {
    "duration": 257,
    "start_time": "2022-11-10T16:29:27.971Z"
   },
   {
    "duration": 1035,
    "start_time": "2022-11-10T16:29:28.229Z"
   },
   {
    "duration": 193,
    "start_time": "2022-11-10T16:29:29.265Z"
   },
   {
    "duration": 9,
    "start_time": "2022-11-10T16:29:29.460Z"
   },
   {
    "duration": 6,
    "start_time": "2022-11-10T16:29:29.470Z"
   },
   {
    "duration": 11,
    "start_time": "2022-11-10T16:29:29.477Z"
   },
   {
    "duration": 6,
    "start_time": "2022-11-10T16:29:29.489Z"
   },
   {
    "duration": 8,
    "start_time": "2022-11-10T16:29:29.512Z"
   },
   {
    "duration": 8,
    "start_time": "2022-11-10T16:29:29.523Z"
   },
   {
    "duration": 11,
    "start_time": "2022-11-10T16:29:29.532Z"
   },
   {
    "duration": 36,
    "start_time": "2022-11-10T16:29:29.547Z"
   },
   {
    "duration": 1113,
    "start_time": "2022-11-10T16:29:29.584Z"
   },
   {
    "duration": 0,
    "start_time": "2022-11-10T16:29:30.699Z"
   },
   {
    "duration": 1220,
    "start_time": "2022-11-10T16:30:07.497Z"
   },
   {
    "duration": 97,
    "start_time": "2022-11-10T16:30:30.385Z"
   },
   {
    "duration": 1185,
    "start_time": "2022-11-10T16:30:41.385Z"
   },
   {
    "duration": 32,
    "start_time": "2022-11-10T16:31:55.929Z"
   }
  ],
  "kernelspec": {
   "display_name": "Python 3 (ipykernel)",
   "language": "python",
   "name": "python3"
  },
  "language_info": {
   "codemirror_mode": {
    "name": "ipython",
    "version": 3
   },
   "file_extension": ".py",
   "mimetype": "text/x-python",
   "name": "python",
   "nbconvert_exporter": "python",
   "pygments_lexer": "ipython3",
   "version": "3.9.5"
  },
  "toc": {
   "base_numbering": 1,
   "nav_menu": {
    "height": "491px",
    "width": "201px"
   },
   "number_sections": true,
   "sideBar": true,
   "skip_h1_title": true,
   "title_cell": "Содержание",
   "title_sidebar": "Contents",
   "toc_cell": true,
   "toc_position": {},
   "toc_section_display": true,
   "toc_window_display": false
  }
 },
 "nbformat": 4,
 "nbformat_minor": 2
}
