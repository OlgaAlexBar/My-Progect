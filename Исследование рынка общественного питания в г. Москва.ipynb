{
 "cells": [
  {
   "cell_type": "markdown",
   "metadata": {},
   "source": [
    " # Исследование рынка общественного питания в г. Москва"
   ]
  },
  {
   "cell_type": "markdown",
   "metadata": {},
   "source": [
    "**Общие данные**\n",
    "\n",
    "Для открытия небольшого оригинального (гостей должны обслуживать роботы) кафе в Москве требуются дорогостоящие инвестиции.\n",
    "\n",
    "Инвесторов интересует текущее положение дел на рынке — сможет ли кафе снискать популярность на долгое время, когда все зеваки насмотрятся на роботов-официантов?\n",
    "\n",
    "В нашем распоряжении есть открытые данные о заведениях общественного питания в Москве.\n",
    "https://docs.google.com/spreadsheets/d/1GyKro_Zg5DOgVl42rMJKrH-6ra2Jcuayj4qTlcuM7JI/edit?usp=sharing"
   ]
  },
  {
   "cell_type": "markdown",
   "metadata": {},
   "source": [
    "**Описание данных**\n",
    "\n",
    "**Таблица rest_data:**\n",
    "\n",
    "- id — идентификатор объекта;\n",
    "\n",
    "- object_name — название объекта общественного питания;\n",
    "\n",
    "- chain — сетевой ресторан;\n",
    "\n",
    "- object_type — тип объекта общественного питания;\n",
    "\n",
    "- address — адрес;\n",
    "\n",
    "- number — количество посадочных мест."
   ]
  },
  {
   "cell_type": "markdown",
   "metadata": {},
   "source": [
    "## Изучение общей информации и подготовка данных"
   ]
  },
  {
   "cell_type": "code",
   "execution_count": 1715,
   "metadata": {},
   "outputs": [],
   "source": [
    "# импорт необходимых библиотек\n",
    "import pandas as pd \n",
    "import numpy as np\n",
    "import matplotlib.pyplot as plt\n",
    "import seaborn as sns\n",
    "import os\n",
    "from io import BytesIO\n",
    "import requests\n",
    "pd.set_option('chained_assignment', None)"
   ]
  },
  {
   "cell_type": "code",
   "execution_count": 1716,
   "metadata": {},
   "outputs": [],
   "source": [
    "# Прочитаем файл rest_data.csv \n",
    "pd.options.display.max_colwidth = 100\n",
    "\n",
    "try:       # Локальный путь\n",
    "    df=pd.read_csv('rest_data.csv')\n",
    "except:        # Серверный путь\n",
    "    df =pd.read_csv('/datasets/rest_data.csv')\n",
    "\n"
   ]
  },
  {
   "cell_type": "code",
   "execution_count": 1717,
   "metadata": {
    "scrolled": true
   },
   "outputs": [
    {
     "name": "stdout",
     "output_type": "stream",
     "text": [
      "<class 'pandas.core.frame.DataFrame'>\n",
      "RangeIndex: 15366 entries, 0 to 15365\n",
      "Data columns (total 6 columns):\n",
      " #   Column       Non-Null Count  Dtype \n",
      "---  ------       --------------  ----- \n",
      " 0   id           15366 non-null  int64 \n",
      " 1   object_name  15366 non-null  object\n",
      " 2   chain        15366 non-null  object\n",
      " 3   object_type  15366 non-null  object\n",
      " 4   address      15366 non-null  object\n",
      " 5   number       15366 non-null  int64 \n",
      "dtypes: int64(2), object(4)\n",
      "memory usage: 720.4+ KB\n"
     ]
    }
   ],
   "source": [
    "# получение общей информации о данных\n",
    "df.info()"
   ]
  },
  {
   "cell_type": "code",
   "execution_count": 1718,
   "metadata": {
    "scrolled": true
   },
   "outputs": [
    {
     "data": {
      "text/html": [
       "<div>\n",
       "<style scoped>\n",
       "    .dataframe tbody tr th:only-of-type {\n",
       "        vertical-align: middle;\n",
       "    }\n",
       "\n",
       "    .dataframe tbody tr th {\n",
       "        vertical-align: top;\n",
       "    }\n",
       "\n",
       "    .dataframe thead th {\n",
       "        text-align: right;\n",
       "    }\n",
       "</style>\n",
       "<table border=\"1\" class=\"dataframe\">\n",
       "  <thead>\n",
       "    <tr style=\"text-align: right;\">\n",
       "      <th></th>\n",
       "      <th>id</th>\n",
       "      <th>object_name</th>\n",
       "      <th>chain</th>\n",
       "      <th>object_type</th>\n",
       "      <th>address</th>\n",
       "      <th>number</th>\n",
       "    </tr>\n",
       "  </thead>\n",
       "  <tbody>\n",
       "    <tr>\n",
       "      <th>0</th>\n",
       "      <td>151635</td>\n",
       "      <td>СМЕТАНА</td>\n",
       "      <td>нет</td>\n",
       "      <td>кафе</td>\n",
       "      <td>город Москва, улица Егора Абакумова, дом 9</td>\n",
       "      <td>48</td>\n",
       "    </tr>\n",
       "    <tr>\n",
       "      <th>1</th>\n",
       "      <td>77874</td>\n",
       "      <td>Родник</td>\n",
       "      <td>нет</td>\n",
       "      <td>кафе</td>\n",
       "      <td>город Москва, улица Талалихина, дом 2/1, корпус 1</td>\n",
       "      <td>35</td>\n",
       "    </tr>\n",
       "    <tr>\n",
       "      <th>2</th>\n",
       "      <td>24309</td>\n",
       "      <td>Кафе «Академия»</td>\n",
       "      <td>нет</td>\n",
       "      <td>кафе</td>\n",
       "      <td>город Москва, Абельмановская улица, дом 6</td>\n",
       "      <td>95</td>\n",
       "    </tr>\n",
       "    <tr>\n",
       "      <th>3</th>\n",
       "      <td>21894</td>\n",
       "      <td>ПИЦЦЕТОРИЯ</td>\n",
       "      <td>да</td>\n",
       "      <td>кафе</td>\n",
       "      <td>город Москва, Абрамцевская улица, дом 1</td>\n",
       "      <td>40</td>\n",
       "    </tr>\n",
       "    <tr>\n",
       "      <th>4</th>\n",
       "      <td>119365</td>\n",
       "      <td>Кафе «Вишневая метель»</td>\n",
       "      <td>нет</td>\n",
       "      <td>кафе</td>\n",
       "      <td>город Москва, Абрамцевская улица, дом 9, корпус 1</td>\n",
       "      <td>50</td>\n",
       "    </tr>\n",
       "  </tbody>\n",
       "</table>\n",
       "</div>"
      ],
      "text/plain": [
       "       id             object_name chain object_type  \\\n",
       "0  151635                 СМЕТАНА   нет        кафе   \n",
       "1   77874                  Родник   нет        кафе   \n",
       "2   24309         Кафе «Академия»   нет        кафе   \n",
       "3   21894              ПИЦЦЕТОРИЯ    да        кафе   \n",
       "4  119365  Кафе «Вишневая метель»   нет        кафе   \n",
       "\n",
       "                                             address  number  \n",
       "0         город Москва, улица Егора Абакумова, дом 9      48  \n",
       "1  город Москва, улица Талалихина, дом 2/1, корпус 1      35  \n",
       "2          город Москва, Абельмановская улица, дом 6      95  \n",
       "3            город Москва, Абрамцевская улица, дом 1      40  \n",
       "4  город Москва, Абрамцевская улица, дом 9, корпус 1      50  "
      ]
     },
     "execution_count": 1718,
     "metadata": {},
     "output_type": "execute_result"
    }
   ],
   "source": [
    "df.head()"
   ]
  },
  {
   "cell_type": "code",
   "execution_count": 1719,
   "metadata": {},
   "outputs": [],
   "source": [
    "# заменим в столбце chain да/нет на сетевой/несетевой\n",
    "df['chain'] = df['chain'].replace('нет', 'несетевой')\n",
    "df['chain'] = df['chain'].replace('да', 'сетевой')"
   ]
  },
  {
   "cell_type": "code",
   "execution_count": 1720,
   "metadata": {},
   "outputs": [],
   "source": [
    "#переименуем столбец number\n",
    "df = df.rename(columns={'number':'seating'})"
   ]
  },
  {
   "cell_type": "code",
   "execution_count": 1721,
   "metadata": {},
   "outputs": [],
   "source": [
    "#приведем к нижнему регистру\n",
    "df['object_name'] = df['object_name'].str.lower()"
   ]
  },
  {
   "cell_type": "code",
   "execution_count": 1722,
   "metadata": {},
   "outputs": [
    {
     "data": {
      "text/plain": [
       "array(['кафе', 'столовая', 'закусочная',\n",
       "       'предприятие быстрого обслуживания', 'ресторан', 'кафетерий',\n",
       "       'буфет', 'бар', 'магазин (отдел кулинарии)'], dtype=object)"
      ]
     },
     "execution_count": 1722,
     "metadata": {},
     "output_type": "execute_result"
    }
   ],
   "source": [
    "# проверка уникальных типов заведений\n",
    "df['object_type'].unique()"
   ]
  },
  {
   "cell_type": "code",
   "execution_count": 1723,
   "metadata": {},
   "outputs": [],
   "source": [
    "#для удобства изменим названия\n",
    "df['object_type'] = df['object_type'].replace('магазин (отдел кулинарии)','кулинария')\n",
    "df['object_type'] = df['object_type'].replace('предприятие быстрого обслуживания','фаст-фуд')"
   ]
  },
  {
   "cell_type": "code",
   "execution_count": 1724,
   "metadata": {
    "scrolled": true
   },
   "outputs": [
    {
     "data": {
      "text/html": [
       "<div>\n",
       "<style scoped>\n",
       "    .dataframe tbody tr th:only-of-type {\n",
       "        vertical-align: middle;\n",
       "    }\n",
       "\n",
       "    .dataframe tbody tr th {\n",
       "        vertical-align: top;\n",
       "    }\n",
       "\n",
       "    .dataframe thead th {\n",
       "        text-align: right;\n",
       "    }\n",
       "</style>\n",
       "<table border=\"1\" class=\"dataframe\">\n",
       "  <thead>\n",
       "    <tr style=\"text-align: right;\">\n",
       "      <th></th>\n",
       "      <th>id</th>\n",
       "      <th>object_name</th>\n",
       "      <th>chain</th>\n",
       "      <th>object_type</th>\n",
       "      <th>address</th>\n",
       "      <th>seating</th>\n",
       "    </tr>\n",
       "  </thead>\n",
       "  <tbody>\n",
       "    <tr>\n",
       "      <th>0</th>\n",
       "      <td>151635</td>\n",
       "      <td>сметана</td>\n",
       "      <td>несетевой</td>\n",
       "      <td>кафе</td>\n",
       "      <td>город Москва, улица Егора Абакумова, дом 9</td>\n",
       "      <td>48</td>\n",
       "    </tr>\n",
       "    <tr>\n",
       "      <th>1</th>\n",
       "      <td>77874</td>\n",
       "      <td>родник</td>\n",
       "      <td>несетевой</td>\n",
       "      <td>кафе</td>\n",
       "      <td>город Москва, улица Талалихина, дом 2/1, корпус 1</td>\n",
       "      <td>35</td>\n",
       "    </tr>\n",
       "    <tr>\n",
       "      <th>2</th>\n",
       "      <td>24309</td>\n",
       "      <td>кафе «академия»</td>\n",
       "      <td>несетевой</td>\n",
       "      <td>кафе</td>\n",
       "      <td>город Москва, Абельмановская улица, дом 6</td>\n",
       "      <td>95</td>\n",
       "    </tr>\n",
       "    <tr>\n",
       "      <th>3</th>\n",
       "      <td>21894</td>\n",
       "      <td>пиццетория</td>\n",
       "      <td>сетевой</td>\n",
       "      <td>кафе</td>\n",
       "      <td>город Москва, Абрамцевская улица, дом 1</td>\n",
       "      <td>40</td>\n",
       "    </tr>\n",
       "    <tr>\n",
       "      <th>4</th>\n",
       "      <td>119365</td>\n",
       "      <td>кафе «вишневая метель»</td>\n",
       "      <td>несетевой</td>\n",
       "      <td>кафе</td>\n",
       "      <td>город Москва, Абрамцевская улица, дом 9, корпус 1</td>\n",
       "      <td>50</td>\n",
       "    </tr>\n",
       "  </tbody>\n",
       "</table>\n",
       "</div>"
      ],
      "text/plain": [
       "       id             object_name      chain object_type  \\\n",
       "0  151635                 сметана  несетевой        кафе   \n",
       "1   77874                  родник  несетевой        кафе   \n",
       "2   24309         кафе «академия»  несетевой        кафе   \n",
       "3   21894              пиццетория    сетевой        кафе   \n",
       "4  119365  кафе «вишневая метель»  несетевой        кафе   \n",
       "\n",
       "                                             address  seating  \n",
       "0         город Москва, улица Егора Абакумова, дом 9       48  \n",
       "1  город Москва, улица Талалихина, дом 2/1, корпус 1       35  \n",
       "2          город Москва, Абельмановская улица, дом 6       95  \n",
       "3            город Москва, Абрамцевская улица, дом 1       40  \n",
       "4  город Москва, Абрамцевская улица, дом 9, корпус 1       50  "
      ]
     },
     "execution_count": 1724,
     "metadata": {},
     "output_type": "execute_result"
    }
   ],
   "source": [
    "df.head()"
   ]
  },
  {
   "cell_type": "code",
   "execution_count": 1725,
   "metadata": {
    "scrolled": true
   },
   "outputs": [
    {
     "data": {
      "text/html": [
       "<div>\n",
       "<style scoped>\n",
       "    .dataframe tbody tr th:only-of-type {\n",
       "        vertical-align: middle;\n",
       "    }\n",
       "\n",
       "    .dataframe tbody tr th {\n",
       "        vertical-align: top;\n",
       "    }\n",
       "\n",
       "    .dataframe thead th {\n",
       "        text-align: right;\n",
       "    }\n",
       "</style>\n",
       "<table border=\"1\" class=\"dataframe\">\n",
       "  <thead>\n",
       "    <tr style=\"text-align: right;\">\n",
       "      <th></th>\n",
       "      <th>id</th>\n",
       "      <th>object_name</th>\n",
       "      <th>chain</th>\n",
       "      <th>object_type</th>\n",
       "      <th>address</th>\n",
       "      <th>seating</th>\n",
       "    </tr>\n",
       "  </thead>\n",
       "  <tbody>\n",
       "    <tr>\n",
       "      <th>2374</th>\n",
       "      <td>28603</td>\n",
       "      <td>комбинат питания мгту им.н.э.баумана</td>\n",
       "      <td>несетевой</td>\n",
       "      <td>столовая</td>\n",
       "      <td>город Москва, 2-я Бауманская улица, дом 5, строение 1</td>\n",
       "      <td>100</td>\n",
       "    </tr>\n",
       "    <tr>\n",
       "      <th>2381</th>\n",
       "      <td>28611</td>\n",
       "      <td>комбинат питания мгту им.н.э.баумана</td>\n",
       "      <td>несетевой</td>\n",
       "      <td>столовая</td>\n",
       "      <td>город Москва, 2-я Бауманская улица, дом 5, строение 1</td>\n",
       "      <td>100</td>\n",
       "    </tr>\n",
       "    <tr>\n",
       "      <th>2869</th>\n",
       "      <td>25031</td>\n",
       "      <td>laltro bosco</td>\n",
       "      <td>несетевой</td>\n",
       "      <td>ресторан</td>\n",
       "      <td>город Москва, улица Петровка, дом 10</td>\n",
       "      <td>145</td>\n",
       "    </tr>\n",
       "    <tr>\n",
       "      <th>3396</th>\n",
       "      <td>19814</td>\n",
       "      <td>буфет «коникс-школьник»</td>\n",
       "      <td>несетевой</td>\n",
       "      <td>буфет</td>\n",
       "      <td>город Москва, улица Удальцова, дом 21</td>\n",
       "      <td>100</td>\n",
       "    </tr>\n",
       "    <tr>\n",
       "      <th>3397</th>\n",
       "      <td>71896</td>\n",
       "      <td>буфет «коникс-школьник»</td>\n",
       "      <td>несетевой</td>\n",
       "      <td>буфет</td>\n",
       "      <td>город Москва, улица Удальцова, дом 21</td>\n",
       "      <td>100</td>\n",
       "    </tr>\n",
       "    <tr>\n",
       "      <th>...</th>\n",
       "      <td>...</td>\n",
       "      <td>...</td>\n",
       "      <td>...</td>\n",
       "      <td>...</td>\n",
       "      <td>...</td>\n",
       "      <td>...</td>\n",
       "    </tr>\n",
       "    <tr>\n",
       "      <th>14596</th>\n",
       "      <td>204947</td>\n",
       "      <td>буфет при кинотеатре</td>\n",
       "      <td>несетевой</td>\n",
       "      <td>буфет</td>\n",
       "      <td>город Москва, Ореховый бульвар, дом 22А</td>\n",
       "      <td>0</td>\n",
       "    </tr>\n",
       "    <tr>\n",
       "      <th>14843</th>\n",
       "      <td>219509</td>\n",
       "      <td>sushi-make</td>\n",
       "      <td>несетевой</td>\n",
       "      <td>фаст-фуд</td>\n",
       "      <td>город Москва, Ярцевская улица, дом 19</td>\n",
       "      <td>0</td>\n",
       "    </tr>\n",
       "    <tr>\n",
       "      <th>14844</th>\n",
       "      <td>219518</td>\n",
       "      <td>sushi-make</td>\n",
       "      <td>несетевой</td>\n",
       "      <td>фаст-фуд</td>\n",
       "      <td>город Москва, Ярцевская улица, дом 19</td>\n",
       "      <td>0</td>\n",
       "    </tr>\n",
       "    <tr>\n",
       "      <th>15173</th>\n",
       "      <td>218542</td>\n",
       "      <td>кофе с собой</td>\n",
       "      <td>сетевой</td>\n",
       "      <td>фаст-фуд</td>\n",
       "      <td>город Москва, Алтуфьевское шоссе, дом 70, корпус 1</td>\n",
       "      <td>0</td>\n",
       "    </tr>\n",
       "    <tr>\n",
       "      <th>15217</th>\n",
       "      <td>214146</td>\n",
       "      <td>макдоналдс</td>\n",
       "      <td>сетевой</td>\n",
       "      <td>фаст-фуд</td>\n",
       "      <td>город Москва, Кировоградская улица, дом 13А</td>\n",
       "      <td>0</td>\n",
       "    </tr>\n",
       "  </tbody>\n",
       "</table>\n",
       "<p>150 rows × 6 columns</p>\n",
       "</div>"
      ],
      "text/plain": [
       "           id                           object_name      chain object_type  \\\n",
       "2374    28603  комбинат питания мгту им.н.э.баумана  несетевой    столовая   \n",
       "2381    28611  комбинат питания мгту им.н.э.баумана  несетевой    столовая   \n",
       "2869    25031                          laltro bosco  несетевой    ресторан   \n",
       "3396    19814               буфет «коникс-школьник»  несетевой       буфет   \n",
       "3397    71896               буфет «коникс-школьник»  несетевой       буфет   \n",
       "...       ...                                   ...        ...         ...   \n",
       "14596  204947                  буфет при кинотеатре  несетевой       буфет   \n",
       "14843  219509                            sushi-make  несетевой    фаст-фуд   \n",
       "14844  219518                            sushi-make  несетевой    фаст-фуд   \n",
       "15173  218542                          кофе с собой    сетевой    фаст-фуд   \n",
       "15217  214146                            макдоналдс    сетевой    фаст-фуд   \n",
       "\n",
       "                                                     address  seating  \n",
       "2374   город Москва, 2-я Бауманская улица, дом 5, строение 1      100  \n",
       "2381   город Москва, 2-я Бауманская улица, дом 5, строение 1      100  \n",
       "2869                    город Москва, улица Петровка, дом 10      145  \n",
       "3396                   город Москва, улица Удальцова, дом 21      100  \n",
       "3397                   город Москва, улица Удальцова, дом 21      100  \n",
       "...                                                      ...      ...  \n",
       "14596                город Москва, Ореховый бульвар, дом 22А        0  \n",
       "14843                  город Москва, Ярцевская улица, дом 19        0  \n",
       "14844                  город Москва, Ярцевская улица, дом 19        0  \n",
       "15173     город Москва, Алтуфьевское шоссе, дом 70, корпус 1        0  \n",
       "15217            город Москва, Кировоградская улица, дом 13А        0  \n",
       "\n",
       "[150 rows x 6 columns]"
      ]
     },
     "execution_count": 1725,
     "metadata": {},
     "output_type": "execute_result"
    }
   ],
   "source": [
    "# выведем строки с повторяющейся информацией\n",
    "df[df.duplicated(subset=['object_name', 'chain',\n",
    "                         'object_type', 'address', 'seating'], keep=False)]"
   ]
  },
  {
   "cell_type": "code",
   "execution_count": 1726,
   "metadata": {},
   "outputs": [],
   "source": [
    "# удалим дубликаты\n",
    "df.drop_duplicates(subset=['object_name', 'chain', 'object_type', 'address',\n",
    "                           'seating'], inplace=True)"
   ]
  },
  {
   "cell_type": "markdown",
   "metadata": {},
   "source": [
    "**Выводы**\n",
    "\n",
    "Подготовили данные к дальнейшему анализу.\n",
    "\n",
    "Заменили некоторые названия,на более удобные.\n",
    "\n",
    "Обработали дубликаты строк;\n",
    "\n",
    "Обработали дублирующиеся названия сетевых заведений питания."
   ]
  },
  {
   "cell_type": "markdown",
   "metadata": {},
   "source": [
    "## Анализ данных"
   ]
  },
  {
   "cell_type": "markdown",
   "metadata": {},
   "source": [
    "### Исследуем соотношение видов объектов общественного питания по количеству. "
   ]
  },
  {
   "cell_type": "code",
   "execution_count": 1727,
   "metadata": {},
   "outputs": [
    {
     "data": {
      "text/html": [
       "<div>\n",
       "<style scoped>\n",
       "    .dataframe tbody tr th:only-of-type {\n",
       "        vertical-align: middle;\n",
       "    }\n",
       "\n",
       "    .dataframe tbody tr th {\n",
       "        vertical-align: top;\n",
       "    }\n",
       "\n",
       "    .dataframe thead th {\n",
       "        text-align: right;\n",
       "    }\n",
       "</style>\n",
       "<table border=\"1\" class=\"dataframe\">\n",
       "  <thead>\n",
       "    <tr style=\"text-align: right;\">\n",
       "      <th></th>\n",
       "      <th>quantity</th>\n",
       "      <th>ratio</th>\n",
       "    </tr>\n",
       "    <tr>\n",
       "      <th>object_type</th>\n",
       "      <th></th>\n",
       "      <th></th>\n",
       "    </tr>\n",
       "  </thead>\n",
       "  <tbody>\n",
       "    <tr>\n",
       "      <th>кафе</th>\n",
       "      <td>6071</td>\n",
       "      <td>0.397</td>\n",
       "    </tr>\n",
       "    <tr>\n",
       "      <th>столовая</th>\n",
       "      <td>2584</td>\n",
       "      <td>0.169</td>\n",
       "    </tr>\n",
       "    <tr>\n",
       "      <th>ресторан</th>\n",
       "      <td>2282</td>\n",
       "      <td>0.149</td>\n",
       "    </tr>\n",
       "    <tr>\n",
       "      <th>фаст-фуд</th>\n",
       "      <td>1897</td>\n",
       "      <td>0.124</td>\n",
       "    </tr>\n",
       "    <tr>\n",
       "      <th>бар</th>\n",
       "      <td>855</td>\n",
       "      <td>0.056</td>\n",
       "    </tr>\n",
       "    <tr>\n",
       "      <th>буфет</th>\n",
       "      <td>576</td>\n",
       "      <td>0.038</td>\n",
       "    </tr>\n",
       "    <tr>\n",
       "      <th>кафетерий</th>\n",
       "      <td>395</td>\n",
       "      <td>0.026</td>\n",
       "    </tr>\n",
       "    <tr>\n",
       "      <th>закусочная</th>\n",
       "      <td>348</td>\n",
       "      <td>0.023</td>\n",
       "    </tr>\n",
       "    <tr>\n",
       "      <th>кулинария</th>\n",
       "      <td>273</td>\n",
       "      <td>0.018</td>\n",
       "    </tr>\n",
       "  </tbody>\n",
       "</table>\n",
       "</div>"
      ],
      "text/plain": [
       "             quantity  ratio\n",
       "object_type                 \n",
       "кафе             6071  0.397\n",
       "столовая         2584  0.169\n",
       "ресторан         2282  0.149\n",
       "фаст-фуд         1897  0.124\n",
       "бар               855  0.056\n",
       "буфет             576  0.038\n",
       "кафетерий         395  0.026\n",
       "закусочная        348  0.023\n",
       "кулинария         273  0.018"
      ]
     },
     "execution_count": 1727,
     "metadata": {},
     "output_type": "execute_result"
    }
   ],
   "source": [
    "# Составим сводную таблицу\n",
    "rest_type = (\n",
    "    df\n",
    "    .pivot_table(index='object_type', values='id', aggfunc='count')\n",
    "    .sort_values(by='id', ascending=False)\n",
    "    .rename(columns={'id': 'quantity'})\n",
    ")\n",
    "\n",
    "rest_type['ratio'] = round(rest_type['quantity'] / rest_type['quantity'].sum(), 3)\n",
    "rest_type"
   ]
  },
  {
   "cell_type": "code",
   "execution_count": 1728,
   "metadata": {
    "scrolled": false
   },
   "outputs": [
    {
     "data": {
      "image/png": "[encoded data removed]",
      "text/plain": [
       "<Figure size 1584x720 with 1 Axes>"
      ]
     },
     "metadata": {},
     "output_type": "display_data"
    }
   ],
   "source": [
    "# построим столбчатую диаграмму\n",
    "plt.figure(figsize=(22,10))\n",
    "plots = sns.barplot(x=rest_type.index, y='quantity', data=rest_type)\n",
    "# добавление аннотаций к графику\n",
    "for bar in plots.patches:\n",
    "    plots.annotate(format(bar.get_height(), '.0f'),\n",
    "                   (bar.get_x() + bar.get_width() / 2,\n",
    "                   bar.get_height()), ha='center', va='center',\n",
    "                   size=16, xytext=(0, 8),\n",
    "                   textcoords='offset points')  \n",
    "plt.title('Соотношение видов объектов общественного питания по количеству', fontsize=20)\n",
    "plt.tick_params(labelsize=16)\n",
    "plt.xlabel('Виды объектов общественного питания', fontsize=18)\n",
    "plt.ylabel('Количество', fontsize=18)\n",
    "plt.show()"
   ]
  },
  {
   "cell_type": "markdown",
   "metadata": {},
   "source": [
    "**Вывод:**\n",
    "\n",
    "По видам объектов общественного питания явный лидер кафе - 6071 , далее столовая - 2584  и  ресторан 2282 . Меньше всего  кулинарии - 273."
   ]
  },
  {
   "cell_type": "markdown",
   "metadata": {},
   "source": [
    "### Исследуем соотношение сетевых и несетевых заведений по количеству."
   ]
  },
  {
   "cell_type": "code",
   "execution_count": 1729,
   "metadata": {},
   "outputs": [
    {
     "data": {
      "text/html": [
       "<div>\n",
       "<style scoped>\n",
       "    .dataframe tbody tr th:only-of-type {\n",
       "        vertical-align: middle;\n",
       "    }\n",
       "\n",
       "    .dataframe tbody tr th {\n",
       "        vertical-align: top;\n",
       "    }\n",
       "\n",
       "    .dataframe thead th {\n",
       "        text-align: right;\n",
       "    }\n",
       "</style>\n",
       "<table border=\"1\" class=\"dataframe\">\n",
       "  <thead>\n",
       "    <tr style=\"text-align: right;\">\n",
       "      <th></th>\n",
       "      <th>quantity</th>\n",
       "      <th>ratio</th>\n",
       "    </tr>\n",
       "    <tr>\n",
       "      <th>chain</th>\n",
       "      <th></th>\n",
       "      <th></th>\n",
       "    </tr>\n",
       "  </thead>\n",
       "  <tbody>\n",
       "    <tr>\n",
       "      <th>несетевой</th>\n",
       "      <td>12317</td>\n",
       "      <td>0.806</td>\n",
       "    </tr>\n",
       "    <tr>\n",
       "      <th>сетевой</th>\n",
       "      <td>2964</td>\n",
       "      <td>0.194</td>\n",
       "    </tr>\n",
       "  </tbody>\n",
       "</table>\n",
       "</div>"
      ],
      "text/plain": [
       "           quantity  ratio\n",
       "chain                     \n",
       "несетевой     12317  0.806\n",
       "сетевой        2964  0.194"
      ]
     },
     "execution_count": 1729,
     "metadata": {},
     "output_type": "execute_result"
    }
   ],
   "source": [
    "# Составим сводную таблицу\n",
    "rest_chain = (\n",
    "    df\n",
    "    .pivot_table(index='chain', values='id', aggfunc='count')\n",
    "    .sort_values(by='id', ascending=False)\n",
    "    .rename(columns={'id': 'quantity'})\n",
    ")\n",
    "\n",
    "rest_chain['ratio'] = round(rest_chain['quantity'] / rest_chain['quantity'].sum(), 3)\n",
    "rest_chain"
   ]
  },
  {
   "cell_type": "code",
   "execution_count": 1730,
   "metadata": {
    "scrolled": false
   },
   "outputs": [
    {
     "data": {
      "image/png": "[encoded data removed]",
      "text/plain": [
       "<Figure size 1584x720 with 1 Axes>"
      ]
     },
     "metadata": {},
     "output_type": "display_data"
    }
   ],
   "source": [
    "# построим круговую диаграмму\n",
    "plt.figure(figsize=(22,10))\n",
    "plt.pie(rest_chain['quantity'], labels=rest_chain.index, autopct='%.0f%%', textprops={'fontsize': 15})\n",
    "plt.title('Доля сетевых и не сетевых заведений', fontsize=18)\n",
    "plt.show()"
   ]
  },
  {
   "cell_type": "markdown",
   "metadata": {},
   "source": [
    "**Вывод:**\n",
    "\n",
    "Несетевых заведений гораздо больше, чем сетевых, 81 % против 19%. "
   ]
  },
  {
   "cell_type": "markdown",
   "metadata": {},
   "source": [
    "### Посмотрим для какого вида объекта общественного питания характерно сетевое распространение."
   ]
  },
  {
   "cell_type": "code",
   "execution_count": 1731,
   "metadata": {
    "scrolled": true
   },
   "outputs": [
    {
     "data": {
      "text/html": [
       "<div>\n",
       "<style scoped>\n",
       "    .dataframe tbody tr th:only-of-type {\n",
       "        vertical-align: middle;\n",
       "    }\n",
       "\n",
       "    .dataframe tbody tr th {\n",
       "        vertical-align: top;\n",
       "    }\n",
       "\n",
       "    .dataframe thead th {\n",
       "        text-align: right;\n",
       "    }\n",
       "</style>\n",
       "<table border=\"1\" class=\"dataframe\">\n",
       "  <thead>\n",
       "    <tr style=\"text-align: right;\">\n",
       "      <th></th>\n",
       "      <th>object_type</th>\n",
       "      <th>несетевой</th>\n",
       "      <th>сетевой</th>\n",
       "    </tr>\n",
       "  </thead>\n",
       "  <tbody>\n",
       "    <tr>\n",
       "      <th>3</th>\n",
       "      <td>кафе</td>\n",
       "      <td>4675</td>\n",
       "      <td>1396</td>\n",
       "    </tr>\n",
       "    <tr>\n",
       "      <th>8</th>\n",
       "      <td>фаст-фуд</td>\n",
       "      <td>1109</td>\n",
       "      <td>788</td>\n",
       "    </tr>\n",
       "    <tr>\n",
       "      <th>6</th>\n",
       "      <td>ресторан</td>\n",
       "      <td>1739</td>\n",
       "      <td>543</td>\n",
       "    </tr>\n",
       "    <tr>\n",
       "      <th>5</th>\n",
       "      <td>кулинария</td>\n",
       "      <td>195</td>\n",
       "      <td>78</td>\n",
       "    </tr>\n",
       "    <tr>\n",
       "      <th>2</th>\n",
       "      <td>закусочная</td>\n",
       "      <td>292</td>\n",
       "      <td>56</td>\n",
       "    </tr>\n",
       "    <tr>\n",
       "      <th>4</th>\n",
       "      <td>кафетерий</td>\n",
       "      <td>343</td>\n",
       "      <td>52</td>\n",
       "    </tr>\n",
       "    <tr>\n",
       "      <th>0</th>\n",
       "      <td>бар</td>\n",
       "      <td>818</td>\n",
       "      <td>37</td>\n",
       "    </tr>\n",
       "    <tr>\n",
       "      <th>1</th>\n",
       "      <td>буфет</td>\n",
       "      <td>565</td>\n",
       "      <td>11</td>\n",
       "    </tr>\n",
       "    <tr>\n",
       "      <th>7</th>\n",
       "      <td>столовая</td>\n",
       "      <td>2581</td>\n",
       "      <td>3</td>\n",
       "    </tr>\n",
       "  </tbody>\n",
       "</table>\n",
       "</div>"
      ],
      "text/plain": [
       "  object_type  несетевой  сетевой\n",
       "3        кафе       4675     1396\n",
       "8    фаст-фуд       1109      788\n",
       "6    ресторан       1739      543\n",
       "5   кулинария        195       78\n",
       "2  закусочная        292       56\n",
       "4   кафетерий        343       52\n",
       "0         бар        818       37\n",
       "1       буфет        565       11\n",
       "7    столовая       2581        3"
      ]
     },
     "metadata": {},
     "output_type": "display_data"
    }
   ],
   "source": [
    "# Составим сводную таблицу\n",
    "object_chain = df.pivot_table(index=['object_type'], columns='chain', values='id', aggfunc='count').reset_index()\n",
    "object_chain.columns = object_chain.columns = ['object_type','несетевой','сетевой']\n",
    "display(object_chain.sort_values(by='сетевой', ascending=False))"
   ]
  },
  {
   "cell_type": "code",
   "execution_count": 1732,
   "metadata": {
    "scrolled": true
   },
   "outputs": [
    {
     "data": {
      "image/png": "[encoded data removed]",
      "text/plain": [
       "<Figure size 720x288 with 1 Axes>"
      ]
     },
     "metadata": {},
     "output_type": "display_data"
    }
   ],
   "source": [
    "plt.figure(figsize=(10,4))\n",
    "(sns.barplot(x=\"id\", y=\"object_type\", hue=\"chain\", data=df.groupby(['chain', 'object_type'])['id']\n",
    "             .count().reset_index().sort_values(by='id', ascending=False)) );\n",
    "plt.title('Количество сетевых и несетевых мест по типам заведения');\n",
    "plt.xlabel('Количество заведений');\n",
    "plt.ylabel('Тип заведения');"
   ]
  },
  {
   "cell_type": "code",
   "execution_count": 1733,
   "metadata": {},
   "outputs": [
    {
     "data": {
      "text/html": [
       "<div>\n",
       "<style scoped>\n",
       "    .dataframe tbody tr th:only-of-type {\n",
       "        vertical-align: middle;\n",
       "    }\n",
       "\n",
       "    .dataframe tbody tr th {\n",
       "        vertical-align: top;\n",
       "    }\n",
       "\n",
       "    .dataframe thead th {\n",
       "        text-align: right;\n",
       "    }\n",
       "</style>\n",
       "<table border=\"1\" class=\"dataframe\">\n",
       "  <thead>\n",
       "    <tr style=\"text-align: right;\">\n",
       "      <th></th>\n",
       "      <th>object_type</th>\n",
       "      <th>несетевой</th>\n",
       "      <th>сетевой</th>\n",
       "      <th>total_count</th>\n",
       "      <th>chain_rate</th>\n",
       "    </tr>\n",
       "  </thead>\n",
       "  <tbody>\n",
       "    <tr>\n",
       "      <th>0</th>\n",
       "      <td>бар</td>\n",
       "      <td>818</td>\n",
       "      <td>37</td>\n",
       "      <td>855</td>\n",
       "      <td>4.327485</td>\n",
       "    </tr>\n",
       "    <tr>\n",
       "      <th>1</th>\n",
       "      <td>буфет</td>\n",
       "      <td>565</td>\n",
       "      <td>11</td>\n",
       "      <td>576</td>\n",
       "      <td>1.909722</td>\n",
       "    </tr>\n",
       "    <tr>\n",
       "      <th>2</th>\n",
       "      <td>закусочная</td>\n",
       "      <td>292</td>\n",
       "      <td>56</td>\n",
       "      <td>348</td>\n",
       "      <td>16.091954</td>\n",
       "    </tr>\n",
       "    <tr>\n",
       "      <th>3</th>\n",
       "      <td>кафе</td>\n",
       "      <td>4675</td>\n",
       "      <td>1396</td>\n",
       "      <td>6071</td>\n",
       "      <td>22.994564</td>\n",
       "    </tr>\n",
       "    <tr>\n",
       "      <th>4</th>\n",
       "      <td>кафетерий</td>\n",
       "      <td>343</td>\n",
       "      <td>52</td>\n",
       "      <td>395</td>\n",
       "      <td>13.164557</td>\n",
       "    </tr>\n",
       "    <tr>\n",
       "      <th>5</th>\n",
       "      <td>кулинария</td>\n",
       "      <td>195</td>\n",
       "      <td>78</td>\n",
       "      <td>273</td>\n",
       "      <td>28.571429</td>\n",
       "    </tr>\n",
       "    <tr>\n",
       "      <th>6</th>\n",
       "      <td>ресторан</td>\n",
       "      <td>1739</td>\n",
       "      <td>543</td>\n",
       "      <td>2282</td>\n",
       "      <td>23.794917</td>\n",
       "    </tr>\n",
       "    <tr>\n",
       "      <th>7</th>\n",
       "      <td>столовая</td>\n",
       "      <td>2581</td>\n",
       "      <td>3</td>\n",
       "      <td>2584</td>\n",
       "      <td>0.116099</td>\n",
       "    </tr>\n",
       "    <tr>\n",
       "      <th>8</th>\n",
       "      <td>фаст-фуд</td>\n",
       "      <td>1109</td>\n",
       "      <td>788</td>\n",
       "      <td>1897</td>\n",
       "      <td>41.539273</td>\n",
       "    </tr>\n",
       "  </tbody>\n",
       "</table>\n",
       "</div>"
      ],
      "text/plain": [
       "  object_type  несетевой  сетевой  total_count  chain_rate\n",
       "0         бар        818       37          855    4.327485\n",
       "1       буфет        565       11          576    1.909722\n",
       "2  закусочная        292       56          348   16.091954\n",
       "3        кафе       4675     1396         6071   22.994564\n",
       "4   кафетерий        343       52          395   13.164557\n",
       "5   кулинария        195       78          273   28.571429\n",
       "6    ресторан       1739      543         2282   23.794917\n",
       "7    столовая       2581        3         2584    0.116099\n",
       "8    фаст-фуд       1109      788         1897   41.539273"
      ]
     },
     "execution_count": 1733,
     "metadata": {},
     "output_type": "execute_result"
    }
   ],
   "source": [
    "#посмотрим как распределяются доли сетевых заведений в различных типах заведений общественного питания.\n",
    "object_chain['total_count']=object_chain['сетевой']+object_chain['несетевой']\n",
    "object_chain['chain_rate']=object_chain['сетевой']/object_chain['total_count']*100\n",
    "object_chain"
   ]
  },
  {
   "cell_type": "code",
   "execution_count": 1734,
   "metadata": {
    "scrolled": false
   },
   "outputs": [
    {
     "data": {
      "image/png": "[encoded data removed]",
      "text/plain": [
       "<Figure size 1152x432 with 1 Axes>"
      ]
     },
     "metadata": {},
     "output_type": "display_data"
    }
   ],
   "source": [
    "plt.figure(figsize=(16, 6))\n",
    "ax=sns.barplot(x='object_type', y='chain_rate', data = object_chain.sort_values(by='chain_rate', ascending=False))\n",
    "ax.set_xticklabels(ax.get_xticklabels(), rotation=50, horizontalalignment ='right', size=13)\n",
    "plt.box(False)\n",
    "plt.grid(False)\n",
    "for p in ax.patches:\n",
    "    width = p.get_width()\n",
    "    height = p.get_height()/100\n",
    "    x, y = p.get_xy() \n",
    "    ax.annotate(f'{height:.2%}', (x + width/2, (y + height*100)+.7), ha='center', size=14)\n",
    "plt.title('Доля объектов общественного питания с сетевым распространением', fontsize=16)\n",
    "plt.xlabel('Тип объекта общественного питания', fontsize=14)\n",
    "plt.ylabel('Количество', fontsize=14);"
   ]
  },
  {
   "cell_type": "markdown",
   "metadata": {},
   "source": [
    "**Вывод**\n",
    "\n",
    "Сетевых кафе больше всего, однако на графике видно, что в процентном соотношении фаст-фуд и рестораны носят более сетевой характер. \n",
    "\n",
    "В относительных показателях наблюдается преобладание предприятий фаст-фуд (доля составила около 42%). \n",
    "\n",
    "На втором месте по сетевой распространённости находятся отделы кулинарии (28,6%), рестораны (23,8%) и кафе (22,9%). \n",
    "\n"
   ]
  },
  {
   "cell_type": "markdown",
   "metadata": {},
   "source": [
    "### Что характерно для сетевых заведений: много заведений с небольшим числом посадочных мест в каждом или мало заведений с большим количеством посадочных мест?"
   ]
  },
  {
   "cell_type": "code",
   "execution_count": 1735,
   "metadata": {
    "scrolled": true
   },
   "outputs": [
    {
     "data": {
      "text/html": [
       "<div>\n",
       "<style scoped>\n",
       "    .dataframe tbody tr th:only-of-type {\n",
       "        vertical-align: middle;\n",
       "    }\n",
       "\n",
       "    .dataframe tbody tr th {\n",
       "        vertical-align: top;\n",
       "    }\n",
       "\n",
       "    .dataframe thead th {\n",
       "        text-align: right;\n",
       "    }\n",
       "</style>\n",
       "<table border=\"1\" class=\"dataframe\">\n",
       "  <thead>\n",
       "    <tr style=\"text-align: right;\">\n",
       "      <th></th>\n",
       "      <th>object_name</th>\n",
       "      <th>count</th>\n",
       "      <th>seating</th>\n",
       "    </tr>\n",
       "  </thead>\n",
       "  <tbody>\n",
       "    <tr>\n",
       "      <th>0</th>\n",
       "      <td>beverly hills diner</td>\n",
       "      <td>1</td>\n",
       "      <td>88.0</td>\n",
       "    </tr>\n",
       "    <tr>\n",
       "      <th>1</th>\n",
       "      <td>bierloga</td>\n",
       "      <td>1</td>\n",
       "      <td>75.0</td>\n",
       "    </tr>\n",
       "    <tr>\n",
       "      <th>2</th>\n",
       "      <td>black &amp; white</td>\n",
       "      <td>1</td>\n",
       "      <td>40.0</td>\n",
       "    </tr>\n",
       "    <tr>\n",
       "      <th>3</th>\n",
       "      <td>bocconcino</td>\n",
       "      <td>3</td>\n",
       "      <td>67.0</td>\n",
       "    </tr>\n",
       "    <tr>\n",
       "      <th>4</th>\n",
       "      <td>boobo</td>\n",
       "      <td>1</td>\n",
       "      <td>46.0</td>\n",
       "    </tr>\n",
       "    <tr>\n",
       "      <th>5</th>\n",
       "      <td>bubbleology</td>\n",
       "      <td>1</td>\n",
       "      <td>6.0</td>\n",
       "    </tr>\n",
       "    <tr>\n",
       "      <th>6</th>\n",
       "      <td>burger club</td>\n",
       "      <td>3</td>\n",
       "      <td>20.0</td>\n",
       "    </tr>\n",
       "    <tr>\n",
       "      <th>7</th>\n",
       "      <td>coffeeshop</td>\n",
       "      <td>1</td>\n",
       "      <td>0.0</td>\n",
       "    </tr>\n",
       "    <tr>\n",
       "      <th>8</th>\n",
       "      <td>coffeeshop company</td>\n",
       "      <td>4</td>\n",
       "      <td>47.0</td>\n",
       "    </tr>\n",
       "    <tr>\n",
       "      <th>9</th>\n",
       "      <td>cofix</td>\n",
       "      <td>25</td>\n",
       "      <td>10.0</td>\n",
       "    </tr>\n",
       "  </tbody>\n",
       "</table>\n",
       "</div>"
      ],
      "text/plain": [
       "           object_name  count  seating\n",
       "0  beverly hills diner      1     88.0\n",
       "1             bierloga      1     75.0\n",
       "2        black & white      1     40.0\n",
       "3           bocconcino      3     67.0\n",
       "4                boobo      1     46.0\n",
       "5          bubbleology      1      6.0\n",
       "6          burger club      3     20.0\n",
       "7           coffeeshop      1      0.0\n",
       "8   coffeeshop company      4     47.0\n",
       "9                cofix     25     10.0"
      ]
     },
     "execution_count": 1735,
     "metadata": {},
     "output_type": "execute_result"
    }
   ],
   "source": [
    "# формирование вспомогательной таблицы\n",
    "chain_seating = df.query('chain == \"сетевой\"')\n",
    "chain_seating_pivot=chain_seating.pivot_table(\n",
    "    index='object_name',values=['id','seating'], aggfunc={'id':'count','seating':'mean'}).reset_index().round()\n",
    "chain_seating_pivot.columns=['object_name','count','seating']\n",
    "chain_seating_pivot.head(10)\n"
   ]
  },
  {
   "cell_type": "code",
   "execution_count": 1736,
   "metadata": {},
   "outputs": [
    {
     "data": {
      "text/html": [
       "<div>\n",
       "<style scoped>\n",
       "    .dataframe tbody tr th:only-of-type {\n",
       "        vertical-align: middle;\n",
       "    }\n",
       "\n",
       "    .dataframe tbody tr th {\n",
       "        vertical-align: top;\n",
       "    }\n",
       "\n",
       "    .dataframe thead th {\n",
       "        text-align: right;\n",
       "    }\n",
       "</style>\n",
       "<table border=\"1\" class=\"dataframe\">\n",
       "  <thead>\n",
       "    <tr style=\"text-align: right;\">\n",
       "      <th></th>\n",
       "      <th>count</th>\n",
       "      <th>mean</th>\n",
       "      <th>std</th>\n",
       "      <th>min</th>\n",
       "      <th>25%</th>\n",
       "      <th>50%</th>\n",
       "      <th>75%</th>\n",
       "      <th>max</th>\n",
       "    </tr>\n",
       "  </thead>\n",
       "  <tbody>\n",
       "    <tr>\n",
       "      <th>count</th>\n",
       "      <td>577.0</td>\n",
       "      <td>5.136915</td>\n",
       "      <td>15.526198</td>\n",
       "      <td>1.0</td>\n",
       "      <td>1.0</td>\n",
       "      <td>1.0</td>\n",
       "      <td>3.0</td>\n",
       "      <td>157.0</td>\n",
       "    </tr>\n",
       "    <tr>\n",
       "      <th>seating</th>\n",
       "      <td>577.0</td>\n",
       "      <td>59.129983</td>\n",
       "      <td>54.541957</td>\n",
       "      <td>0.0</td>\n",
       "      <td>20.0</td>\n",
       "      <td>44.0</td>\n",
       "      <td>83.0</td>\n",
       "      <td>306.0</td>\n",
       "    </tr>\n",
       "  </tbody>\n",
       "</table>\n",
       "</div>"
      ],
      "text/plain": [
       "         count       mean        std  min   25%   50%   75%    max\n",
       "count    577.0   5.136915  15.526198  1.0   1.0   1.0   3.0  157.0\n",
       "seating  577.0  59.129983  54.541957  0.0  20.0  44.0  83.0  306.0"
      ]
     },
     "execution_count": 1736,
     "metadata": {},
     "output_type": "execute_result"
    }
   ],
   "source": [
    "chain_seating_pivot.describe().T"
   ]
  },
  {
   "cell_type": "code",
   "execution_count": 1737,
   "metadata": {
    "scrolled": false
   },
   "outputs": [
    {
     "data": {
      "text/plain": [
       "Text(0, 0.5, 'Количество заведений в сети')"
      ]
     },
     "execution_count": 1737,
     "metadata": {},
     "output_type": "execute_result"
    },
    {
     "data": {
      "image/png": "[encoded data removed]",
      "text/plain": [
       "<Figure size 1008x504 with 1 Axes>"
      ]
     },
     "metadata": {},
     "output_type": "display_data"
    }
   ],
   "source": [
    "# построим диаграмму рассеивания\n",
    "plt.figure(figsize=(14, 7))\n",
    "sns.set(style=\"whitegrid\")\n",
    "sns.scatterplot(data=chain_seating_pivot, x='seating', y='count', s=100)\n",
    "\n",
    "plt.title('Количество посадочных мест и число заведений в сетевых заведениях', fontsize=15)\n",
    "plt.xlabel('Среднее количество посадочных мест', fontsize=15)\n",
    "plt.ylabel('Количество заведений в сети', fontsize=15)"
   ]
  },
  {
   "cell_type": "markdown",
   "metadata": {},
   "source": [
    "**Вывод**\n",
    "\n",
    "Для сетевых мест характерно большое количество заведений с малым количеством посадочных мест- до  60 мест "
   ]
  },
  {
   "cell_type": "markdown",
   "metadata": {},
   "source": [
    "### Для каждого вида объекта общественного питания опишем среднее количество посадочных мест. Какой вид предоставляет в среднем самое большое количество посадочных мест? "
   ]
  },
  {
   "cell_type": "code",
   "execution_count": 1738,
   "metadata": {
    "scrolled": false
   },
   "outputs": [
    {
     "data": {
      "text/html": [
       "<div>\n",
       "<style scoped>\n",
       "    .dataframe tbody tr th:only-of-type {\n",
       "        vertical-align: middle;\n",
       "    }\n",
       "\n",
       "    .dataframe tbody tr th {\n",
       "        vertical-align: top;\n",
       "    }\n",
       "\n",
       "    .dataframe thead th {\n",
       "        text-align: right;\n",
       "    }\n",
       "</style>\n",
       "<table border=\"1\" class=\"dataframe\">\n",
       "  <thead>\n",
       "    <tr style=\"text-align: right;\">\n",
       "      <th></th>\n",
       "      <th>object_type</th>\n",
       "      <th>mean_seating</th>\n",
       "    </tr>\n",
       "  </thead>\n",
       "  <tbody>\n",
       "    <tr>\n",
       "      <th>0</th>\n",
       "      <td>бар</td>\n",
       "      <td>44.0</td>\n",
       "    </tr>\n",
       "    <tr>\n",
       "      <th>1</th>\n",
       "      <td>буфет</td>\n",
       "      <td>51.0</td>\n",
       "    </tr>\n",
       "    <tr>\n",
       "      <th>2</th>\n",
       "      <td>закусочная</td>\n",
       "      <td>8.0</td>\n",
       "    </tr>\n",
       "    <tr>\n",
       "      <th>3</th>\n",
       "      <td>кафе</td>\n",
       "      <td>40.0</td>\n",
       "    </tr>\n",
       "    <tr>\n",
       "      <th>4</th>\n",
       "      <td>кафетерий</td>\n",
       "      <td>9.0</td>\n",
       "    </tr>\n",
       "    <tr>\n",
       "      <th>5</th>\n",
       "      <td>кулинария</td>\n",
       "      <td>6.0</td>\n",
       "    </tr>\n",
       "    <tr>\n",
       "      <th>6</th>\n",
       "      <td>ресторан</td>\n",
       "      <td>97.0</td>\n",
       "    </tr>\n",
       "    <tr>\n",
       "      <th>7</th>\n",
       "      <td>столовая</td>\n",
       "      <td>130.0</td>\n",
       "    </tr>\n",
       "    <tr>\n",
       "      <th>8</th>\n",
       "      <td>фаст-фуд</td>\n",
       "      <td>21.0</td>\n",
       "    </tr>\n",
       "  </tbody>\n",
       "</table>\n",
       "</div>"
      ],
      "text/plain": [
       "  object_type  mean_seating\n",
       "0         бар          44.0\n",
       "1       буфет          51.0\n",
       "2  закусочная           8.0\n",
       "3        кафе          40.0\n",
       "4   кафетерий           9.0\n",
       "5   кулинария           6.0\n",
       "6    ресторан          97.0\n",
       "7    столовая         130.0\n",
       "8    фаст-фуд          21.0"
      ]
     },
     "metadata": {},
     "output_type": "display_data"
    }
   ],
   "source": [
    "# Составим сводную таблицу\n",
    "mean_seating=df.pivot_table(\n",
    "    index='object_type', aggfunc={'seating':'mean'}).reset_index().round()\n",
    "mean_seating.columns=['object_type','mean_seating']\n",
    "display(mean_seating)"
   ]
  },
  {
   "cell_type": "code",
   "execution_count": 1739,
   "metadata": {},
   "outputs": [
    {
     "data": {
      "image/png": "[encoded data removed]",
      "text/plain": [
       "<Figure size 1152x360 with 1 Axes>"
      ]
     },
     "metadata": {},
     "output_type": "display_data"
    }
   ],
   "source": [
    "plt.figure(figsize=(16, 5))\n",
    "ax=sns.barplot(x='object_type', y='mean_seating', data = mean_seating.sort_values(by='mean_seating', ascending=False))\n",
    "for p in ax.patches:\n",
    "    height = p.get_height()\n",
    "    ax.text(p.get_x()+p.get_width()/2.,\n",
    "            height + 1,\n",
    "            '{:.0f}'.format(height),\n",
    "            ha=\"center\",size=14)\n",
    "plt.title('Cреднее количество посадочных мест ', fontsize=16)\n",
    "plt.xlabel('Тип объекта общественного питания', fontsize=14)\n",
    "plt.ylabel('Количество', fontsize=14);"
   ]
  },
  {
   "cell_type": "markdown",
   "metadata": {},
   "source": [
    "**Вывод**\n",
    "\n",
    "В среднем самое большое число посадочных мест в столовых (130 места), далее на втором месте рестораны (97 мест), тройку замыкают буфеты (51 посадочных места). У кафе - в среднем 40 посадочных мест, у фастфуда - 21, меньше всего посадочных мсет у отделов кулинарии - 6."
   ]
  },
  {
   "cell_type": "markdown",
   "metadata": {},
   "source": [
    "### Выделим в отдельный столбец информацию об улице из столбца address"
   ]
  },
  {
   "cell_type": "code",
   "execution_count": 1740,
   "metadata": {
    "scrolled": true
   },
   "outputs": [],
   "source": [
    "#создадим спсиок слов находящихся рядом с названиями улиц\n",
    "street_list = ['улица','проспект', 'площадь', 'шоссе', 'бульвар', 'переулок', \n",
    "                   'аллея', 'набережная', 'проезд', 'квартал', 'линия', 'тупик']"
   ]
  },
  {
   "cell_type": "code",
   "execution_count": 1741,
   "metadata": {},
   "outputs": [],
   "source": [
    "#напишем функцию, возврщающую называния улиц\n",
    "def get_street(row):\n",
    "    address = row['address'].split(',')\n",
    "    parts = len(address)  \n",
    "    try:\n",
    "        for item in street_list:\n",
    "            for i in range(parts):\n",
    "                if item in address[i]:  \n",
    "                    return address[i]\n",
    "    except:\n",
    "        return 'Error'"
   ]
  },
  {
   "cell_type": "code",
   "execution_count": 1742,
   "metadata": {},
   "outputs": [
    {
     "data": {
      "text/html": [
       "<div>\n",
       "<style scoped>\n",
       "    .dataframe tbody tr th:only-of-type {\n",
       "        vertical-align: middle;\n",
       "    }\n",
       "\n",
       "    .dataframe tbody tr th {\n",
       "        vertical-align: top;\n",
       "    }\n",
       "\n",
       "    .dataframe thead th {\n",
       "        text-align: right;\n",
       "    }\n",
       "</style>\n",
       "<table border=\"1\" class=\"dataframe\">\n",
       "  <thead>\n",
       "    <tr style=\"text-align: right;\">\n",
       "      <th></th>\n",
       "      <th>id</th>\n",
       "      <th>object_name</th>\n",
       "      <th>chain</th>\n",
       "      <th>object_type</th>\n",
       "      <th>address</th>\n",
       "      <th>seating</th>\n",
       "      <th>street</th>\n",
       "    </tr>\n",
       "  </thead>\n",
       "  <tbody>\n",
       "    <tr>\n",
       "      <th>0</th>\n",
       "      <td>151635</td>\n",
       "      <td>сметана</td>\n",
       "      <td>несетевой</td>\n",
       "      <td>кафе</td>\n",
       "      <td>город Москва, улица Егора Абакумова, дом 9</td>\n",
       "      <td>48</td>\n",
       "      <td>улица Егора Абакумова</td>\n",
       "    </tr>\n",
       "    <tr>\n",
       "      <th>1</th>\n",
       "      <td>77874</td>\n",
       "      <td>родник</td>\n",
       "      <td>несетевой</td>\n",
       "      <td>кафе</td>\n",
       "      <td>город Москва, улица Талалихина, дом 2/1, корпус 1</td>\n",
       "      <td>35</td>\n",
       "      <td>улица Талалихина</td>\n",
       "    </tr>\n",
       "    <tr>\n",
       "      <th>2</th>\n",
       "      <td>24309</td>\n",
       "      <td>кафе «академия»</td>\n",
       "      <td>несетевой</td>\n",
       "      <td>кафе</td>\n",
       "      <td>город Москва, Абельмановская улица, дом 6</td>\n",
       "      <td>95</td>\n",
       "      <td>Абельмановская улица</td>\n",
       "    </tr>\n",
       "    <tr>\n",
       "      <th>3</th>\n",
       "      <td>21894</td>\n",
       "      <td>пиццетория</td>\n",
       "      <td>сетевой</td>\n",
       "      <td>кафе</td>\n",
       "      <td>город Москва, Абрамцевская улица, дом 1</td>\n",
       "      <td>40</td>\n",
       "      <td>Абрамцевская улица</td>\n",
       "    </tr>\n",
       "    <tr>\n",
       "      <th>4</th>\n",
       "      <td>119365</td>\n",
       "      <td>кафе «вишневая метель»</td>\n",
       "      <td>несетевой</td>\n",
       "      <td>кафе</td>\n",
       "      <td>город Москва, Абрамцевская улица, дом 9, корпус 1</td>\n",
       "      <td>50</td>\n",
       "      <td>Абрамцевская улица</td>\n",
       "    </tr>\n",
       "  </tbody>\n",
       "</table>\n",
       "</div>"
      ],
      "text/plain": [
       "       id             object_name      chain object_type  \\\n",
       "0  151635                 сметана  несетевой        кафе   \n",
       "1   77874                  родник  несетевой        кафе   \n",
       "2   24309         кафе «академия»  несетевой        кафе   \n",
       "3   21894              пиццетория    сетевой        кафе   \n",
       "4  119365  кафе «вишневая метель»  несетевой        кафе   \n",
       "\n",
       "                                             address  seating  \\\n",
       "0         город Москва, улица Егора Абакумова, дом 9       48   \n",
       "1  город Москва, улица Талалихина, дом 2/1, корпус 1       35   \n",
       "2          город Москва, Абельмановская улица, дом 6       95   \n",
       "3            город Москва, Абрамцевская улица, дом 1       40   \n",
       "4  город Москва, Абрамцевская улица, дом 9, корпус 1       50   \n",
       "\n",
       "                   street  \n",
       "0   улица Егора Абакумова  \n",
       "1        улица Талалихина  \n",
       "2    Абельмановская улица  \n",
       "3      Абрамцевская улица  \n",
       "4      Абрамцевская улица  "
      ]
     },
     "execution_count": 1742,
     "metadata": {},
     "output_type": "execute_result"
    }
   ],
   "source": [
    "#добавим новый столбец\n",
    "df['street'] = df.apply(get_street, axis=1)\n",
    "df.head()"
   ]
  },
  {
   "cell_type": "markdown",
   "metadata": {},
   "source": [
    "### Построем график топ-10 улиц по количеству объектов общественного питания. Воспользуемся внешней информацией и ответим на вопрос — в каких районах Москвы находятся эти улицы?"
   ]
  },
  {
   "cell_type": "code",
   "execution_count": 1743,
   "metadata": {},
   "outputs": [
    {
     "data": {
      "text/html": [
       "<div>\n",
       "<style scoped>\n",
       "    .dataframe tbody tr th:only-of-type {\n",
       "        vertical-align: middle;\n",
       "    }\n",
       "\n",
       "    .dataframe tbody tr th {\n",
       "        vertical-align: top;\n",
       "    }\n",
       "\n",
       "    .dataframe thead th {\n",
       "        text-align: right;\n",
       "    }\n",
       "</style>\n",
       "<table border=\"1\" class=\"dataframe\">\n",
       "  <thead>\n",
       "    <tr style=\"text-align: right;\">\n",
       "      <th></th>\n",
       "      <th>street</th>\n",
       "      <th>count</th>\n",
       "    </tr>\n",
       "  </thead>\n",
       "  <tbody>\n",
       "    <tr>\n",
       "      <th>1421</th>\n",
       "      <td>проспект Мира</td>\n",
       "      <td>203</td>\n",
       "    </tr>\n",
       "    <tr>\n",
       "      <th>1010</th>\n",
       "      <td>Профсоюзная улица</td>\n",
       "      <td>181</td>\n",
       "    </tr>\n",
       "    <tr>\n",
       "      <th>685</th>\n",
       "      <td>Ленинградский проспект</td>\n",
       "      <td>170</td>\n",
       "    </tr>\n",
       "    <tr>\n",
       "      <th>995</th>\n",
       "      <td>Пресненская набережная</td>\n",
       "      <td>167</td>\n",
       "    </tr>\n",
       "    <tr>\n",
       "      <th>399</th>\n",
       "      <td>Варшавское шоссе</td>\n",
       "      <td>164</td>\n",
       "    </tr>\n",
       "    <tr>\n",
       "      <th>688</th>\n",
       "      <td>Ленинский проспект</td>\n",
       "      <td>147</td>\n",
       "    </tr>\n",
       "    <tr>\n",
       "      <th>1417</th>\n",
       "      <td>проспект Вернадского</td>\n",
       "      <td>128</td>\n",
       "    </tr>\n",
       "    <tr>\n",
       "      <th>675</th>\n",
       "      <td>Кутузовский проспект</td>\n",
       "      <td>114</td>\n",
       "    </tr>\n",
       "    <tr>\n",
       "      <th>598</th>\n",
       "      <td>Каширское шоссе</td>\n",
       "      <td>111</td>\n",
       "    </tr>\n",
       "    <tr>\n",
       "      <th>605</th>\n",
       "      <td>Кировоградская улица</td>\n",
       "      <td>108</td>\n",
       "    </tr>\n",
       "  </tbody>\n",
       "</table>\n",
       "</div>"
      ],
      "text/plain": [
       "                       street  count\n",
       "1421            проспект Мира    203\n",
       "1010        Профсоюзная улица    181\n",
       "685    Ленинградский проспект    170\n",
       "995    Пресненская набережная    167\n",
       "399          Варшавское шоссе    164\n",
       "688        Ленинский проспект    147\n",
       "1417     проспект Вернадского    128\n",
       "675      Кутузовский проспект    114\n",
       "598           Каширское шоссе    111\n",
       "605      Кировоградская улица    108"
      ]
     },
     "metadata": {},
     "output_type": "display_data"
    }
   ],
   "source": [
    "# Составим сводную таблицу\n",
    "\n",
    "top_street=df.pivot_table(\n",
    "    index='street', aggfunc={'object_type':'count'}).reset_index()\n",
    "top_street.columns=['street','count']\n",
    "top_street=top_street.sort_values(by='count', ascending=False).head(10)\n",
    "display(top_street)"
   ]
  },
  {
   "cell_type": "code",
   "execution_count": 1744,
   "metadata": {
    "scrolled": false
   },
   "outputs": [
    {
     "data": {
      "image/png": "[encoded data removed]",
      "text/plain": [
       "<Figure size 720x360 with 1 Axes>"
      ]
     },
     "metadata": {},
     "output_type": "display_data"
    }
   ],
   "source": [
    "# построим столбчатую диаграмму\n",
    "sns.set_theme(style='whitegrid')\n",
    "plt.figure(figsize=(10,5))\n",
    "plots = sns.barplot(x='count', y='street', data=top_street.head(10))\n",
    "# добавление аннотаций к графику\n",
    "for bar in plots.patches:\n",
    "    plots.annotate(format(bar.get_width(), '.0f'),\n",
    "                   (bar.get_x() + bar.get_width(),\n",
    "                   bar.get_y() + bar.get_height() / 2), ha='center', va='center',\n",
    "                   size=12, xytext=(12,0),\n",
    "                   textcoords='offset points')\n",
    "plt.title('Топ-10 улиц по количеству объектов общественного питания', fontsize=20)\n",
    "plt.tick_params(labelsize=12)\n",
    "plt.xlabel('Количество объектов', fontsize=18)\n",
    "plt.ylabel('Название улицы', fontsize=18)\n",
    "plt.show()"
   ]
  },
  {
   "cell_type": "markdown",
   "metadata": {},
   "source": [
    "Для определения района воспользуемся базой данных из интернета https://docs.google.com/spreadsheets/d/1GyKro_Zg5DOgVl42rMJKrH-6ra2Jcuayj4qTlcuM7JI/edit?usp=sharing"
   ]
  },
  {
   "cell_type": "code",
   "execution_count": 1745,
   "metadata": {
    "scrolled": true
   },
   "outputs": [
    {
     "data": {
      "text/html": [
       "<div>\n",
       "<style scoped>\n",
       "    .dataframe tbody tr th:only-of-type {\n",
       "        vertical-align: middle;\n",
       "    }\n",
       "\n",
       "    .dataframe tbody tr th {\n",
       "        vertical-align: top;\n",
       "    }\n",
       "\n",
       "    .dataframe thead th {\n",
       "        text-align: right;\n",
       "    }\n",
       "</style>\n",
       "<table border=\"1\" class=\"dataframe\">\n",
       "  <thead>\n",
       "    <tr style=\"text-align: right;\">\n",
       "      <th></th>\n",
       "      <th></th>\n",
       "    </tr>\n",
       "    <tr>\n",
       "      <th>street</th>\n",
       "      <th>area</th>\n",
       "    </tr>\n",
       "  </thead>\n",
       "  <tbody>\n",
       "    <tr>\n",
       "      <th rowspan=\"6\" valign=\"top\">профсоюзная улица</th>\n",
       "      <th>район ясенево</th>\n",
       "    </tr>\n",
       "    <tr>\n",
       "      <th>район черемушки</th>\n",
       "    </tr>\n",
       "    <tr>\n",
       "      <th>район теплый стан</th>\n",
       "    </tr>\n",
       "    <tr>\n",
       "      <th>район коньково</th>\n",
       "    </tr>\n",
       "    <tr>\n",
       "      <th>обручевский район</th>\n",
       "    </tr>\n",
       "    <tr>\n",
       "      <th>академический район</th>\n",
       "    </tr>\n",
       "    <tr>\n",
       "      <th rowspan=\"7\" valign=\"top\">проспект мира</th>\n",
       "      <th>район марьина роща</th>\n",
       "    </tr>\n",
       "    <tr>\n",
       "      <th>алексеевский район</th>\n",
       "    </tr>\n",
       "    <tr>\n",
       "      <th>мещанский район</th>\n",
       "    </tr>\n",
       "    <tr>\n",
       "      <th>останкинский район</th>\n",
       "    </tr>\n",
       "    <tr>\n",
       "      <th>район ростокино</th>\n",
       "    </tr>\n",
       "    <tr>\n",
       "      <th>район свиблово</th>\n",
       "    </tr>\n",
       "    <tr>\n",
       "      <th>ярославский район</th>\n",
       "    </tr>\n",
       "    <tr>\n",
       "      <th rowspan=\"5\" valign=\"top\">проспект вернадского</th>\n",
       "      <th>район тропарево-никулино</th>\n",
       "    </tr>\n",
       "    <tr>\n",
       "      <th>район раменки</th>\n",
       "    </tr>\n",
       "    <tr>\n",
       "      <th>район проспект вернадского</th>\n",
       "    </tr>\n",
       "    <tr>\n",
       "      <th>район гагаринский</th>\n",
       "    </tr>\n",
       "    <tr>\n",
       "      <th>ломоносовский район</th>\n",
       "    </tr>\n",
       "    <tr>\n",
       "      <th>пресненская набережная</th>\n",
       "      <th>пресненский район</th>\n",
       "    </tr>\n",
       "    <tr>\n",
       "      <th rowspan=\"8\" valign=\"top\">ленинский проспект</th>\n",
       "      <th>район проспект вернадского</th>\n",
       "    </tr>\n",
       "    <tr>\n",
       "      <th>район якиманка</th>\n",
       "    </tr>\n",
       "    <tr>\n",
       "      <th>район тропарево-никулино</th>\n",
       "    </tr>\n",
       "    <tr>\n",
       "      <th>район теплый стан</th>\n",
       "    </tr>\n",
       "    <tr>\n",
       "      <th>район гагаринский</th>\n",
       "    </tr>\n",
       "    <tr>\n",
       "      <th>ломоносовский район</th>\n",
       "    </tr>\n",
       "    <tr>\n",
       "      <th>донской район</th>\n",
       "    </tr>\n",
       "    <tr>\n",
       "      <th>обручевский район</th>\n",
       "    </tr>\n",
       "    <tr>\n",
       "      <th rowspan=\"4\" valign=\"top\">ленинградский проспект</th>\n",
       "      <th>хорошевский район</th>\n",
       "    </tr>\n",
       "    <tr>\n",
       "      <th>район сокол</th>\n",
       "    </tr>\n",
       "    <tr>\n",
       "      <th>район беговой</th>\n",
       "    </tr>\n",
       "    <tr>\n",
       "      <th>район аэропорт</th>\n",
       "    </tr>\n",
       "    <tr>\n",
       "      <th rowspan=\"2\" valign=\"top\">кутузовский проспект</th>\n",
       "      <th>район дорогомилово</th>\n",
       "    </tr>\n",
       "    <tr>\n",
       "      <th>район фили-давыдково</th>\n",
       "    </tr>\n",
       "    <tr>\n",
       "      <th rowspan=\"3\" valign=\"top\">кировоградская улица</th>\n",
       "      <th>район чертаново центральное</th>\n",
       "    </tr>\n",
       "    <tr>\n",
       "      <th>район чертаново северное</th>\n",
       "    </tr>\n",
       "    <tr>\n",
       "      <th>район чертаново южное</th>\n",
       "    </tr>\n",
       "    <tr>\n",
       "      <th rowspan=\"4\" valign=\"top\">каширское шоссе</th>\n",
       "      <th>район орехово-борисово южное</th>\n",
       "    </tr>\n",
       "    <tr>\n",
       "      <th>район орехово-борисово северное</th>\n",
       "    </tr>\n",
       "    <tr>\n",
       "      <th>район нагатино-садовники</th>\n",
       "    </tr>\n",
       "    <tr>\n",
       "      <th>район москворечье-сабурово</th>\n",
       "    </tr>\n",
       "    <tr>\n",
       "      <th rowspan=\"8\" valign=\"top\">варшавское шоссе</th>\n",
       "      <th>район чертаново северное</th>\n",
       "    </tr>\n",
       "    <tr>\n",
       "      <th>район нагатино-садовники</th>\n",
       "    </tr>\n",
       "    <tr>\n",
       "      <th>район северное бутово</th>\n",
       "    </tr>\n",
       "    <tr>\n",
       "      <th>нагорный район</th>\n",
       "    </tr>\n",
       "    <tr>\n",
       "      <th>район чертаново центральное</th>\n",
       "    </tr>\n",
       "    <tr>\n",
       "      <th>район чертаново южное</th>\n",
       "    </tr>\n",
       "    <tr>\n",
       "      <th>район южное бутово</th>\n",
       "    </tr>\n",
       "    <tr>\n",
       "      <th>донской район</th>\n",
       "    </tr>\n",
       "  </tbody>\n",
       "</table>\n",
       "</div>"
      ],
      "text/plain": [
       "Empty DataFrame\n",
       "Columns: []\n",
       "Index: [(профсоюзная улица, район ясенево), (профсоюзная улица, район черемушки), (профсоюзная улица, район теплый стан), (профсоюзная улица, район коньково), (профсоюзная улица, обручевский район), (профсоюзная улица, академический район), (проспект мира, район марьина роща), (проспект мира, алексеевский район), (проспект мира, мещанский район), (проспект мира, останкинский район), (проспект мира, район ростокино), (проспект мира, район свиблово), (проспект мира, ярославский район), (проспект вернадского, район тропарево-никулино), (проспект вернадского, район раменки), (проспект вернадского, район проспект вернадского), (проспект вернадского, район гагаринский), (проспект вернадского, ломоносовский район), (пресненская набережная, пресненский район), (ленинский проспект, район проспект вернадского), (ленинский проспект, район якиманка), (ленинский проспект, район тропарево-никулино), (ленинский проспект, район теплый стан), (ленинский проспект, район гагаринский), (ленинский проспект, ломоносовский район), (ленинский проспект, донской район), (ленинский проспект, обручевский район), (ленинградский проспект, хорошевский район), (ленинградский проспект, район сокол), (ленинградский проспект, район беговой), (ленинградский проспект, район аэропорт), (кутузовский проспект, район дорогомилово), (кутузовский проспект, район фили-давыдково), (кировоградская улица, район чертаново центральное), (кировоградская улица, район чертаново северное), (кировоградская улица, район чертаново южное), (каширское шоссе, район орехово-борисово южное), (каширское шоссе, район орехово-борисово северное), (каширское шоссе, район нагатино-садовники), (каширское шоссе, район москворечье-сабурово), (варшавское шоссе, район чертаново северное), (варшавское шоссе, район нагатино-садовники), (варшавское шоссе, район северное бутово), (варшавское шоссе, нагорный район), (варшавское шоссе, район чертаново центральное), (варшавское шоссе, район чертаново южное), (варшавское шоссе, район южное бутово), (варшавское шоссе, донской район)]"
      ]
     },
     "execution_count": 1745,
     "metadata": {},
     "output_type": "execute_result"
    }
   ],
   "source": [
    "moscow_area = pd.read_csv('https://docs.google.com/spreadsheets/d/1sEfPSmH_jY4KQPCZt3ePvg_A8IhH7pvBZZAqkXQ8L-0/export?format=csv')\n",
    "moscow_area = moscow_area.applymap(lambda s:s.lower() if type(s) == str else s).rename(columns={\"streetname\": \"street\"})\n",
    "moscow_area = moscow_area[['street', 'area']]\n",
    "\n",
    "top_street['street'] = top_street['street'].str.lower()\n",
    "top_street['street'] = top_street['street'].str.strip()\n",
    "moscow_area['street'] = moscow_area['street'].str.strip()\n",
    "\n",
    "#Объединяем Топ10 улиц и таблицу сопоставления улиц/районов\n",
    "top_street_district = (top_street.merge(moscow_area, how='left', on = 'street'))\n",
    "#Составим таблицу\n",
    "top_10_area = top_street_district.pivot_table(index=['street', 'area']).sort_values(by='street', ascending=False).drop(['count'], axis=1)\n",
    "top_10_area\n"
   ]
  },
  {
   "cell_type": "markdown",
   "metadata": {},
   "source": [
    "**Выводы**\n",
    "\n",
    "Больше всего объектов общественного питания на больших улицах, которые пролегают сразу через несколько районов."
   ]
  },
  {
   "cell_type": "markdown",
   "metadata": {},
   "source": [
    "### Найдем число улиц с одним объектом общественного питания. "
   ]
  },
  {
   "cell_type": "code",
   "execution_count": 1746,
   "metadata": {
    "scrolled": true
   },
   "outputs": [
    {
     "data": {
      "text/html": [
       "<div>\n",
       "<style scoped>\n",
       "    .dataframe tbody tr th:only-of-type {\n",
       "        vertical-align: middle;\n",
       "    }\n",
       "\n",
       "    .dataframe tbody tr th {\n",
       "        vertical-align: top;\n",
       "    }\n",
       "\n",
       "    .dataframe thead th {\n",
       "        text-align: right;\n",
       "    }\n",
       "</style>\n",
       "<table border=\"1\" class=\"dataframe\">\n",
       "  <thead>\n",
       "    <tr style=\"text-align: right;\">\n",
       "      <th></th>\n",
       "      <th>street</th>\n",
       "      <th>quantity</th>\n",
       "    </tr>\n",
       "  </thead>\n",
       "  <tbody>\n",
       "    <tr>\n",
       "      <th>1356</th>\n",
       "      <td>улица Максимова</td>\n",
       "      <td>1</td>\n",
       "    </tr>\n",
       "    <tr>\n",
       "      <th>1357</th>\n",
       "      <td>улица Малая Ордынка</td>\n",
       "      <td>1</td>\n",
       "    </tr>\n",
       "    <tr>\n",
       "      <th>1358</th>\n",
       "      <td>улица Бориса Жигулёнкова</td>\n",
       "      <td>1</td>\n",
       "    </tr>\n",
       "    <tr>\n",
       "      <th>1359</th>\n",
       "      <td>улица Обручева</td>\n",
       "      <td>1</td>\n",
       "    </tr>\n",
       "    <tr>\n",
       "      <th>1360</th>\n",
       "      <td>улица Каманина</td>\n",
       "      <td>1</td>\n",
       "    </tr>\n",
       "    <tr>\n",
       "      <th>...</th>\n",
       "      <td>...</td>\n",
       "      <td>...</td>\n",
       "    </tr>\n",
       "    <tr>\n",
       "      <th>1942</th>\n",
       "      <td>Пионерская улица</td>\n",
       "      <td>1</td>\n",
       "    </tr>\n",
       "    <tr>\n",
       "      <th>1943</th>\n",
       "      <td>Платовская улица</td>\n",
       "      <td>1</td>\n",
       "    </tr>\n",
       "    <tr>\n",
       "      <th>1944</th>\n",
       "      <td>Плетешковский переулок</td>\n",
       "      <td>1</td>\n",
       "    </tr>\n",
       "    <tr>\n",
       "      <th>1945</th>\n",
       "      <td>Подсосенский переулок</td>\n",
       "      <td>1</td>\n",
       "    </tr>\n",
       "    <tr>\n",
       "      <th>1946</th>\n",
       "      <td>улица Сергея Макеева</td>\n",
       "      <td>1</td>\n",
       "    </tr>\n",
       "  </tbody>\n",
       "</table>\n",
       "<p>591 rows × 2 columns</p>\n",
       "</div>"
      ],
      "text/plain": [
       "                         street  quantity\n",
       "1356            улица Максимова         1\n",
       "1357        улица Малая Ордынка         1\n",
       "1358   улица Бориса Жигулёнкова         1\n",
       "1359             улица Обручева         1\n",
       "1360             улица Каманина         1\n",
       "...                         ...       ...\n",
       "1942           Пионерская улица         1\n",
       "1943           Платовская улица         1\n",
       "1944     Плетешковский переулок         1\n",
       "1945      Подсосенский переулок         1\n",
       "1946       улица Сергея Макеева         1\n",
       "\n",
       "[591 rows x 2 columns]"
      ]
     },
     "execution_count": 1746,
     "metadata": {},
     "output_type": "execute_result"
    }
   ],
   "source": [
    "one_street = (df.groupby(['street'])\n",
    "                    .agg({'object_name':'count'})\n",
    "                    .sort_values(by='object_name', ascending=False)\n",
    "                    .reset_index()\n",
    "                   )\n",
    "one_street.columns=['street','quantity']\n",
    "one_street= one_street[one_street['quantity']==1]\n",
    "\n",
    "one_street"
   ]
  },
  {
   "cell_type": "markdown",
   "metadata": {},
   "source": [
    "591 улица с одним объектом общественного питания."
   ]
  },
  {
   "cell_type": "code",
   "execution_count": 1747,
   "metadata": {
    "scrolled": true
   },
   "outputs": [
    {
     "data": {
      "text/html": [
       "<div>\n",
       "<style scoped>\n",
       "    .dataframe tbody tr th:only-of-type {\n",
       "        vertical-align: middle;\n",
       "    }\n",
       "\n",
       "    .dataframe tbody tr th {\n",
       "        vertical-align: top;\n",
       "    }\n",
       "\n",
       "    .dataframe thead th {\n",
       "        text-align: right;\n",
       "    }\n",
       "</style>\n",
       "<table border=\"1\" class=\"dataframe\">\n",
       "  <thead>\n",
       "    <tr style=\"text-align: right;\">\n",
       "      <th></th>\n",
       "      <th>street</th>\n",
       "      <th>quantity</th>\n",
       "      <th>area</th>\n",
       "    </tr>\n",
       "  </thead>\n",
       "  <tbody>\n",
       "    <tr>\n",
       "      <th>0</th>\n",
       "      <td>улица максимова</td>\n",
       "      <td>1</td>\n",
       "      <td>район щукино</td>\n",
       "    </tr>\n",
       "    <tr>\n",
       "      <th>1</th>\n",
       "      <td>улица малая ордынка</td>\n",
       "      <td>1</td>\n",
       "      <td>район замоскворечье</td>\n",
       "    </tr>\n",
       "    <tr>\n",
       "      <th>2</th>\n",
       "      <td>улица бориса жигулёнкова</td>\n",
       "      <td>1</td>\n",
       "      <td>район соколиная гора</td>\n",
       "    </tr>\n",
       "    <tr>\n",
       "      <th>3</th>\n",
       "      <td>улица обручева</td>\n",
       "      <td>1</td>\n",
       "      <td>район черемушки</td>\n",
       "    </tr>\n",
       "    <tr>\n",
       "      <th>4</th>\n",
       "      <td>улица обручева</td>\n",
       "      <td>1</td>\n",
       "      <td>район коньково</td>\n",
       "    </tr>\n",
       "    <tr>\n",
       "      <th>...</th>\n",
       "      <td>...</td>\n",
       "      <td>...</td>\n",
       "      <td>...</td>\n",
       "    </tr>\n",
       "    <tr>\n",
       "      <th>676</th>\n",
       "      <td>пионерская улица</td>\n",
       "      <td>1</td>\n",
       "      <td>район внуково</td>\n",
       "    </tr>\n",
       "    <tr>\n",
       "      <th>677</th>\n",
       "      <td>платовская улица</td>\n",
       "      <td>1</td>\n",
       "      <td>район дорогомилово</td>\n",
       "    </tr>\n",
       "    <tr>\n",
       "      <th>678</th>\n",
       "      <td>плетешковский переулок</td>\n",
       "      <td>1</td>\n",
       "      <td>басманный район</td>\n",
       "    </tr>\n",
       "    <tr>\n",
       "      <th>679</th>\n",
       "      <td>подсосенский переулок</td>\n",
       "      <td>1</td>\n",
       "      <td>басманный район</td>\n",
       "    </tr>\n",
       "    <tr>\n",
       "      <th>680</th>\n",
       "      <td>улица сергея макеева</td>\n",
       "      <td>1</td>\n",
       "      <td>пресненский район</td>\n",
       "    </tr>\n",
       "  </tbody>\n",
       "</table>\n",
       "<p>681 rows × 3 columns</p>\n",
       "</div>"
      ],
      "text/plain": [
       "                       street  quantity                  area\n",
       "0             улица максимова         1          район щукино\n",
       "1         улица малая ордынка         1   район замоскворечье\n",
       "2    улица бориса жигулёнкова         1  район соколиная гора\n",
       "3              улица обручева         1       район черемушки\n",
       "4              улица обручева         1        район коньково\n",
       "..                        ...       ...                   ...\n",
       "676          пионерская улица         1         район внуково\n",
       "677          платовская улица         1    район дорогомилово\n",
       "678    плетешковский переулок         1       басманный район\n",
       "679     подсосенский переулок         1       басманный район\n",
       "680      улица сергея макеева         1     пресненский район\n",
       "\n",
       "[681 rows x 3 columns]"
      ]
     },
     "execution_count": 1747,
     "metadata": {},
     "output_type": "execute_result"
    }
   ],
   "source": [
    "\n",
    "one_street['street'] = one_street['street'].str.lower()\n",
    "one_street['street'] = one_street['street'].str.strip()\n",
    "\n",
    "#Объединяем Топ10 улиц и таблицу сопоставления улиц/районов\n",
    "one_street_district = one_street.merge(moscow_area, how='left', on = 'street')\n",
    "one_street_district\n"
   ]
  },
  {
   "cell_type": "markdown",
   "metadata": {},
   "source": [
    "В 681 районах,находятся улицы с одним объектом общественного питания."
   ]
  },
  {
   "cell_type": "markdown",
   "metadata": {},
   "source": [
    "**Выводы**\n",
    "\n",
    "Мы определили, что на 627 улицах расположено всего по одному объекту питания. Далее определили , в каких районах расположены эти улицы. По районам топ-10 занимает центр и близлежащие районы: Таганский, Хамовники, Басманный,Тверской, Пресненский, , Марьина Роща,Арбат,Мещанский,Сокольники,Замоскворечье. Это можно объяснить тем, что в центре города много коротких улиц и переулков."
   ]
  },
  {
   "cell_type": "markdown",
   "metadata": {},
   "source": [
    "## Презентация"
   ]
  },
  {
   "cell_type": "markdown",
   "metadata": {},
   "source": [
    "https://drive.google.com/file/d/1nvE0pWZ3cGlt85cwlZDzwvaxU20FlZWT/view?usp=sharing"
   ]
  },
  {
   "cell_type": "markdown",
   "metadata": {},
   "source": [
    "## Общие выводы\n",
    "\n",
    "В результате анализа рынка общественного питания в Москве мы выяснили, что:\n",
    "\n",
    "В Москве больше всего кафе,столовых и ресторанов;\n",
    "\n",
    "В Москве больше всего несетевых заведений чем сетевых ;Сетевые заведения больше всего распространены в фаст-фудах, кулинариях и ресторанах;\n",
    "Для сетевых заведений характерно много заведений с небольшим количеством посадочных мест. \n",
    "На первых местах по количеству посадочных мест: столовые, рестораны и бары;\n",
    "\n",
    "Лучшие улицы по количеству заведений:\t\n",
    "проспект Мира, Профсоюзная улица, Ленинградский проспект, Пресненская набережная, Варшавское шоссе, Ленинский проспект, проспект Вернадского, Кутузовский проспект, Каширское шоссе и Кировоградская улица;\n",
    "\n",
    "Лучшие районы по количеству заведений: \n",
    "Пресненский, Чертаново Центральное, Тропарево-Никулино, Аэропорт, Мещанский, Обручевский, Свиблово, Дорогомилово, Нагатино-Садовники и Фили-Давыдково;\n",
    "\n",
    "Существуют районы с улицами, где расположено всего одно заведение: Таганский, Хамовники, Басманный,Тверской, Пресненский , Марьина Роща,Арбат,Мещанский,Сокольники,Замоскворечье.\n",
    "\n",
    "Рекомендации:\n",
    "\n",
    "Самым популярным заведением является кафе.Новое робокафе должно быть в формате кафе, как самый популярный формат;\n",
    "\n",
    "Заведение необходимо делать несетевым. В дальнейшем, при успешном развитии можно перейти и  на сетевой формат;\n",
    "\n",
    "Для кафе рекомендуется предусмотреть от 30 до 40 мест;\n",
    "для предприятия быстрого питания рекомендуется предусмотреть от 6 до 20 мест\n",
    "\n",
    "Районы расположения рекомендуется выбрать из топ-10 районов с улицами, где расположено наибольшее количество заведений. Это популярные места, с наибольшей проходимостью."
   ]
  }
 ],
 "metadata": {
  "ExecuteTimeLog": [
   {
    "duration": 1330,
    "start_time": "2022-09-18T08:34:51.871Z"
   },
   {
    "duration": 248,
    "start_time": "2022-09-18T08:35:48.062Z"
   },
   {
    "duration": 67,
    "start_time": "2022-09-18T08:36:15.182Z"
   },
   {
    "duration": 150,
    "start_time": "2022-09-18T08:37:45.309Z"
   },
   {
    "duration": 45,
    "start_time": "2022-09-18T08:38:10.517Z"
   },
   {
    "duration": 4,
    "start_time": "2022-09-18T08:38:37.791Z"
   },
   {
    "duration": 46,
    "start_time": "2022-09-18T08:38:37.813Z"
   },
   {
    "duration": 102,
    "start_time": "2022-09-18T08:41:38.202Z"
   },
   {
    "duration": 35,
    "start_time": "2022-09-18T08:42:22.001Z"
   },
   {
    "duration": 48,
    "start_time": "2022-09-18T08:43:14.426Z"
   },
   {
    "duration": 45,
    "start_time": "2022-09-18T08:43:38.497Z"
   },
   {
    "duration": 119,
    "start_time": "2022-09-18T08:44:07.620Z"
   },
   {
    "duration": 102,
    "start_time": "2022-09-18T08:44:59.522Z"
   },
   {
    "duration": 16,
    "start_time": "2022-09-18T08:45:05.120Z"
   },
   {
    "duration": 10,
    "start_time": "2022-09-18T08:46:23.396Z"
   },
   {
    "duration": 19,
    "start_time": "2022-09-18T08:46:46.117Z"
   },
   {
    "duration": 89,
    "start_time": "2022-09-18T08:48:45.078Z"
   },
   {
    "duration": 14,
    "start_time": "2022-09-18T08:48:47.003Z"
   },
   {
    "duration": 9,
    "start_time": "2022-09-18T08:50:07.394Z"
   },
   {
    "duration": 12,
    "start_time": "2022-09-18T09:12:37.318Z"
   },
   {
    "duration": 9,
    "start_time": "2022-09-18T09:12:45.438Z"
   },
   {
    "duration": 5,
    "start_time": "2022-09-18T09:13:47.571Z"
   },
   {
    "duration": 6,
    "start_time": "2022-09-18T09:16:57.632Z"
   },
   {
    "duration": 10,
    "start_time": "2022-09-18T09:17:12.434Z"
   },
   {
    "duration": 3,
    "start_time": "2022-09-18T09:17:42.334Z"
   },
   {
    "duration": 106,
    "start_time": "2022-09-18T09:17:42.339Z"
   },
   {
    "duration": 13,
    "start_time": "2022-09-18T09:17:42.447Z"
   },
   {
    "duration": 21,
    "start_time": "2022-09-18T09:17:42.463Z"
   },
   {
    "duration": 20,
    "start_time": "2022-09-18T09:17:42.486Z"
   },
   {
    "duration": 27,
    "start_time": "2022-09-18T09:17:42.508Z"
   },
   {
    "duration": 29,
    "start_time": "2022-09-18T09:17:42.537Z"
   },
   {
    "duration": 32,
    "start_time": "2022-09-18T09:17:42.567Z"
   },
   {
    "duration": 6,
    "start_time": "2022-09-18T09:18:03.628Z"
   },
   {
    "duration": 5,
    "start_time": "2022-09-18T09:25:19.119Z"
   },
   {
    "duration": 8,
    "start_time": "2022-09-18T09:26:29.850Z"
   },
   {
    "duration": 32,
    "start_time": "2022-09-18T09:27:09.754Z"
   },
   {
    "duration": 4,
    "start_time": "2022-09-18T09:28:00.691Z"
   },
   {
    "duration": 156,
    "start_time": "2022-09-18T09:28:00.700Z"
   },
   {
    "duration": 14,
    "start_time": "2022-09-18T09:28:00.859Z"
   },
   {
    "duration": 25,
    "start_time": "2022-09-18T09:28:00.875Z"
   },
   {
    "duration": 20,
    "start_time": "2022-09-18T09:28:00.903Z"
   },
   {
    "duration": 20,
    "start_time": "2022-09-18T09:28:00.925Z"
   },
   {
    "duration": 23,
    "start_time": "2022-09-18T09:28:00.947Z"
   },
   {
    "duration": 43,
    "start_time": "2022-09-18T09:28:00.972Z"
   },
   {
    "duration": 26,
    "start_time": "2022-09-18T09:28:01.017Z"
   },
   {
    "duration": 4,
    "start_time": "2022-09-18T09:33:11.359Z"
   },
   {
    "duration": 114,
    "start_time": "2022-09-18T09:33:11.367Z"
   },
   {
    "duration": 13,
    "start_time": "2022-09-18T09:33:11.483Z"
   },
   {
    "duration": 31,
    "start_time": "2022-09-18T09:33:11.498Z"
   },
   {
    "duration": 18,
    "start_time": "2022-09-18T09:33:11.535Z"
   },
   {
    "duration": 32,
    "start_time": "2022-09-18T09:33:11.555Z"
   },
   {
    "duration": 30,
    "start_time": "2022-09-18T09:33:11.590Z"
   },
   {
    "duration": 45,
    "start_time": "2022-09-18T09:33:11.626Z"
   },
   {
    "duration": 37,
    "start_time": "2022-09-18T09:33:11.673Z"
   },
   {
    "duration": 30,
    "start_time": "2022-09-18T09:33:11.712Z"
   },
   {
    "duration": 10,
    "start_time": "2022-09-18T09:34:53.044Z"
   },
   {
    "duration": 29,
    "start_time": "2022-09-18T09:35:19.488Z"
   },
   {
    "duration": 14,
    "start_time": "2022-09-18T09:36:49.333Z"
   },
   {
    "duration": 14,
    "start_time": "2022-09-18T09:37:23.549Z"
   },
   {
    "duration": 19,
    "start_time": "2022-09-18T09:37:36.879Z"
   },
   {
    "duration": 3,
    "start_time": "2022-09-18T09:41:46.839Z"
   },
   {
    "duration": 142,
    "start_time": "2022-09-18T09:41:46.844Z"
   },
   {
    "duration": 14,
    "start_time": "2022-09-18T09:41:46.988Z"
   },
   {
    "duration": 15,
    "start_time": "2022-09-18T09:41:47.004Z"
   },
   {
    "duration": 8,
    "start_time": "2022-09-18T09:41:47.021Z"
   },
   {
    "duration": 5,
    "start_time": "2022-09-18T09:41:47.031Z"
   },
   {
    "duration": 23,
    "start_time": "2022-09-18T09:41:47.038Z"
   },
   {
    "duration": 9,
    "start_time": "2022-09-18T09:41:47.063Z"
   },
   {
    "duration": 7,
    "start_time": "2022-09-18T09:41:47.075Z"
   },
   {
    "duration": 38,
    "start_time": "2022-09-18T09:41:47.084Z"
   },
   {
    "duration": 37,
    "start_time": "2022-09-18T09:41:47.124Z"
   },
   {
    "duration": 14,
    "start_time": "2022-09-18T09:41:47.163Z"
   },
   {
    "duration": 11,
    "start_time": "2022-09-18T09:49:34.068Z"
   },
   {
    "duration": 12,
    "start_time": "2022-09-18T09:50:31.269Z"
   },
   {
    "duration": 7,
    "start_time": "2022-09-18T09:50:41.691Z"
   },
   {
    "duration": 6,
    "start_time": "2022-09-18T09:51:14.489Z"
   },
   {
    "duration": 3,
    "start_time": "2022-09-18T09:51:22.410Z"
   },
   {
    "duration": 150,
    "start_time": "2022-09-18T09:51:22.415Z"
   },
   {
    "duration": 15,
    "start_time": "2022-09-18T09:51:22.568Z"
   },
   {
    "duration": 10,
    "start_time": "2022-09-18T09:51:22.585Z"
   },
   {
    "duration": 27,
    "start_time": "2022-09-18T09:51:22.598Z"
   },
   {
    "duration": 12,
    "start_time": "2022-09-18T09:51:22.634Z"
   },
   {
    "duration": 17,
    "start_time": "2022-09-18T09:51:22.648Z"
   },
   {
    "duration": 9,
    "start_time": "2022-09-18T09:51:22.667Z"
   },
   {
    "duration": 7,
    "start_time": "2022-09-18T09:51:22.679Z"
   },
   {
    "duration": 10,
    "start_time": "2022-09-18T09:51:22.688Z"
   },
   {
    "duration": 45,
    "start_time": "2022-09-18T09:51:22.701Z"
   },
   {
    "duration": 18,
    "start_time": "2022-09-18T09:51:22.749Z"
   },
   {
    "duration": 8,
    "start_time": "2022-09-18T09:51:22.769Z"
   },
   {
    "duration": 4,
    "start_time": "2022-09-18T09:52:33.961Z"
   },
   {
    "duration": 133,
    "start_time": "2022-09-18T09:52:33.968Z"
   },
   {
    "duration": 13,
    "start_time": "2022-09-18T09:52:34.103Z"
   },
   {
    "duration": 70,
    "start_time": "2022-09-18T09:52:34.118Z"
   },
   {
    "duration": 37,
    "start_time": "2022-09-18T09:52:34.190Z"
   },
   {
    "duration": 29,
    "start_time": "2022-09-18T09:52:34.228Z"
   },
   {
    "duration": 12,
    "start_time": "2022-09-18T09:52:34.259Z"
   },
   {
    "duration": 6,
    "start_time": "2022-09-18T09:52:34.272Z"
   },
   {
    "duration": 6,
    "start_time": "2022-09-18T09:52:34.280Z"
   },
   {
    "duration": 9,
    "start_time": "2022-09-18T09:52:34.288Z"
   },
   {
    "duration": 45,
    "start_time": "2022-09-18T09:52:34.300Z"
   },
   {
    "duration": 16,
    "start_time": "2022-09-18T09:52:34.347Z"
   },
   {
    "duration": 7,
    "start_time": "2022-09-18T09:52:34.365Z"
   },
   {
    "duration": 19,
    "start_time": "2022-09-18T09:53:46.412Z"
   },
   {
    "duration": 4,
    "start_time": "2022-09-18T09:58:44.787Z"
   },
   {
    "duration": 23,
    "start_time": "2022-09-18T09:59:24.369Z"
   },
   {
    "duration": 18,
    "start_time": "2022-09-18T10:01:33.169Z"
   },
   {
    "duration": 21,
    "start_time": "2022-09-18T10:01:50.566Z"
   },
   {
    "duration": 410,
    "start_time": "2022-09-18T10:02:08.646Z"
   },
   {
    "duration": 348,
    "start_time": "2022-09-18T10:05:55.248Z"
   },
   {
    "duration": 18,
    "start_time": "2022-09-18T10:11:25.454Z"
   },
   {
    "duration": 3,
    "start_time": "2022-09-18T10:11:29.867Z"
   },
   {
    "duration": 119,
    "start_time": "2022-09-18T10:11:29.874Z"
   },
   {
    "duration": 14,
    "start_time": "2022-09-18T10:11:29.995Z"
   },
   {
    "duration": 17,
    "start_time": "2022-09-18T10:11:30.010Z"
   },
   {
    "duration": 36,
    "start_time": "2022-09-18T10:11:30.030Z"
   },
   {
    "duration": 17,
    "start_time": "2022-09-18T10:11:30.068Z"
   },
   {
    "duration": 23,
    "start_time": "2022-09-18T10:11:30.087Z"
   },
   {
    "duration": 71,
    "start_time": "2022-09-18T10:11:30.112Z"
   },
   {
    "duration": 27,
    "start_time": "2022-09-18T10:11:30.185Z"
   },
   {
    "duration": 19,
    "start_time": "2022-09-18T10:11:30.214Z"
   },
   {
    "duration": 58,
    "start_time": "2022-09-18T10:11:30.237Z"
   },
   {
    "duration": 28,
    "start_time": "2022-09-18T10:11:30.297Z"
   },
   {
    "duration": 42,
    "start_time": "2022-09-18T10:11:30.327Z"
   },
   {
    "duration": 0,
    "start_time": "2022-09-18T10:11:30.371Z"
   },
   {
    "duration": 14,
    "start_time": "2022-09-18T10:11:56.769Z"
   },
   {
    "duration": 12,
    "start_time": "2022-09-18T10:12:28.776Z"
   },
   {
    "duration": 24,
    "start_time": "2022-09-18T10:13:13.123Z"
   },
   {
    "duration": 373,
    "start_time": "2022-09-18T10:13:48.862Z"
   },
   {
    "duration": 24,
    "start_time": "2022-09-18T10:17:45.047Z"
   },
   {
    "duration": 381,
    "start_time": "2022-09-18T10:18:49.866Z"
   },
   {
    "duration": 19,
    "start_time": "2022-09-18T10:20:21.976Z"
   },
   {
    "duration": 1628,
    "start_time": "2022-09-18T10:22:01.764Z"
   },
   {
    "duration": 4,
    "start_time": "2022-09-18T10:22:22.602Z"
   },
   {
    "duration": 179,
    "start_time": "2022-09-18T10:22:22.611Z"
   },
   {
    "duration": 13,
    "start_time": "2022-09-18T10:22:22.793Z"
   },
   {
    "duration": 47,
    "start_time": "2022-09-18T10:22:22.809Z"
   },
   {
    "duration": 32,
    "start_time": "2022-09-18T10:22:22.859Z"
   },
   {
    "duration": 6,
    "start_time": "2022-09-18T10:22:22.894Z"
   },
   {
    "duration": 23,
    "start_time": "2022-09-18T10:22:22.902Z"
   },
   {
    "duration": 11,
    "start_time": "2022-09-18T10:22:22.927Z"
   },
   {
    "duration": 50,
    "start_time": "2022-09-18T10:22:22.939Z"
   },
   {
    "duration": 23,
    "start_time": "2022-09-18T10:22:22.991Z"
   },
   {
    "duration": 101,
    "start_time": "2022-09-18T10:22:23.017Z"
   },
   {
    "duration": 38,
    "start_time": "2022-09-18T10:22:23.120Z"
   },
   {
    "duration": 1818,
    "start_time": "2022-09-18T10:22:23.161Z"
   },
   {
    "duration": 0,
    "start_time": "2022-09-18T10:22:24.982Z"
   },
   {
    "duration": 24,
    "start_time": "2022-09-18T10:22:56.884Z"
   },
   {
    "duration": 563,
    "start_time": "2022-09-18T10:26:10.378Z"
   },
   {
    "duration": 648,
    "start_time": "2022-09-18T10:26:27.317Z"
   },
   {
    "duration": 498,
    "start_time": "2022-09-18T10:26:42.849Z"
   },
   {
    "duration": 343,
    "start_time": "2022-09-18T10:40:11.412Z"
   },
   {
    "duration": 316,
    "start_time": "2022-09-18T10:40:24.635Z"
   },
   {
    "duration": 365,
    "start_time": "2022-09-18T10:40:48.643Z"
   },
   {
    "duration": 335,
    "start_time": "2022-09-18T10:41:04.320Z"
   },
   {
    "duration": 18,
    "start_time": "2022-09-18T10:44:03.069Z"
   },
   {
    "duration": 6714,
    "start_time": "2022-09-18T10:45:31.753Z"
   },
   {
    "duration": 4,
    "start_time": "2022-09-18T10:45:58.655Z"
   },
   {
    "duration": 740,
    "start_time": "2022-09-18T10:45:58.662Z"
   },
   {
    "duration": 26,
    "start_time": "2022-09-18T10:45:59.404Z"
   },
   {
    "duration": 61,
    "start_time": "2022-09-18T10:45:59.432Z"
   },
   {
    "duration": 57,
    "start_time": "2022-09-18T10:45:59.496Z"
   },
   {
    "duration": 23,
    "start_time": "2022-09-18T10:45:59.555Z"
   },
   {
    "duration": 53,
    "start_time": "2022-09-18T10:45:59.580Z"
   },
   {
    "duration": 40,
    "start_time": "2022-09-18T10:45:59.638Z"
   },
   {
    "duration": 20,
    "start_time": "2022-09-18T10:45:59.680Z"
   },
   {
    "duration": 12,
    "start_time": "2022-09-18T10:45:59.703Z"
   },
   {
    "duration": 56,
    "start_time": "2022-09-18T10:45:59.717Z"
   },
   {
    "duration": 24,
    "start_time": "2022-09-18T10:45:59.775Z"
   },
   {
    "duration": 44,
    "start_time": "2022-09-18T10:45:59.802Z"
   },
   {
    "duration": 428,
    "start_time": "2022-09-18T10:45:59.848Z"
   },
   {
    "duration": 19,
    "start_time": "2022-09-18T10:46:00.280Z"
   },
   {
    "duration": 32,
    "start_time": "2022-09-18T10:46:00.301Z"
   },
   {
    "duration": 166,
    "start_time": "2022-09-18T10:46:11.581Z"
   },
   {
    "duration": 202,
    "start_time": "2022-09-18T10:46:28.857Z"
   },
   {
    "duration": 234,
    "start_time": "2022-09-18T10:46:57.464Z"
   },
   {
    "duration": 171,
    "start_time": "2022-09-18T10:47:19.964Z"
   },
   {
    "duration": 5,
    "start_time": "2022-09-18T10:48:15.256Z"
   },
   {
    "duration": 119,
    "start_time": "2022-09-18T10:48:15.264Z"
   },
   {
    "duration": 17,
    "start_time": "2022-09-18T10:48:15.385Z"
   },
   {
    "duration": 11,
    "start_time": "2022-09-18T10:48:15.405Z"
   },
   {
    "duration": 75,
    "start_time": "2022-09-18T10:48:15.420Z"
   },
   {
    "duration": 27,
    "start_time": "2022-09-18T10:48:15.497Z"
   },
   {
    "duration": 54,
    "start_time": "2022-09-18T10:48:15.530Z"
   },
   {
    "duration": 7,
    "start_time": "2022-09-18T10:48:15.586Z"
   },
   {
    "duration": 30,
    "start_time": "2022-09-18T10:48:15.600Z"
   },
   {
    "duration": 43,
    "start_time": "2022-09-18T10:48:15.637Z"
   },
   {
    "duration": 56,
    "start_time": "2022-09-18T10:48:15.681Z"
   },
   {
    "duration": 18,
    "start_time": "2022-09-18T10:48:15.738Z"
   },
   {
    "duration": 27,
    "start_time": "2022-09-18T10:48:15.764Z"
   },
   {
    "duration": 358,
    "start_time": "2022-09-18T10:48:15.793Z"
   },
   {
    "duration": 19,
    "start_time": "2022-09-18T10:48:16.153Z"
   },
   {
    "duration": 139,
    "start_time": "2022-09-18T10:48:16.174Z"
   },
   {
    "duration": 18,
    "start_time": "2022-09-18T10:51:10.221Z"
   },
   {
    "duration": 25,
    "start_time": "2022-09-18T10:52:30.646Z"
   },
   {
    "duration": 4,
    "start_time": "2022-09-18T10:52:42.355Z"
   },
   {
    "duration": 98,
    "start_time": "2022-09-18T10:52:42.360Z"
   },
   {
    "duration": 13,
    "start_time": "2022-09-18T10:52:42.460Z"
   },
   {
    "duration": 9,
    "start_time": "2022-09-18T10:52:42.475Z"
   },
   {
    "duration": 10,
    "start_time": "2022-09-18T10:52:42.486Z"
   },
   {
    "duration": 30,
    "start_time": "2022-09-18T10:52:42.497Z"
   },
   {
    "duration": 16,
    "start_time": "2022-09-18T10:52:42.529Z"
   },
   {
    "duration": 13,
    "start_time": "2022-09-18T10:52:42.547Z"
   },
   {
    "duration": 6,
    "start_time": "2022-09-18T10:52:42.562Z"
   },
   {
    "duration": 10,
    "start_time": "2022-09-18T10:52:42.570Z"
   },
   {
    "duration": 56,
    "start_time": "2022-09-18T10:52:42.583Z"
   },
   {
    "duration": 32,
    "start_time": "2022-09-18T10:52:42.641Z"
   },
   {
    "duration": 22,
    "start_time": "2022-09-18T10:52:42.677Z"
   },
   {
    "duration": 356,
    "start_time": "2022-09-18T10:52:42.701Z"
   },
   {
    "duration": 22,
    "start_time": "2022-09-18T10:52:43.059Z"
   },
   {
    "duration": 171,
    "start_time": "2022-09-18T10:52:43.082Z"
   },
   {
    "duration": 16,
    "start_time": "2022-09-18T10:52:43.255Z"
   },
   {
    "duration": 11,
    "start_time": "2022-09-18T10:55:24.299Z"
   },
   {
    "duration": 22,
    "start_time": "2022-09-18T10:57:20.077Z"
   },
   {
    "duration": 21,
    "start_time": "2022-09-18T10:59:05.762Z"
   },
   {
    "duration": 446,
    "start_time": "2022-09-18T11:08:52.260Z"
   },
   {
    "duration": 5,
    "start_time": "2022-09-18T11:09:01.168Z"
   },
   {
    "duration": 323,
    "start_time": "2022-09-18T11:09:01.176Z"
   },
   {
    "duration": 19,
    "start_time": "2022-09-18T11:09:01.501Z"
   },
   {
    "duration": 57,
    "start_time": "2022-09-18T11:09:01.523Z"
   },
   {
    "duration": 9,
    "start_time": "2022-09-18T11:09:01.582Z"
   },
   {
    "duration": 14,
    "start_time": "2022-09-18T11:09:01.592Z"
   },
   {
    "duration": 23,
    "start_time": "2022-09-18T11:09:01.608Z"
   },
   {
    "duration": 42,
    "start_time": "2022-09-18T11:09:01.633Z"
   },
   {
    "duration": 7,
    "start_time": "2022-09-18T11:09:01.677Z"
   },
   {
    "duration": 26,
    "start_time": "2022-09-18T11:09:01.687Z"
   },
   {
    "duration": 67,
    "start_time": "2022-09-18T11:09:01.715Z"
   },
   {
    "duration": 15,
    "start_time": "2022-09-18T11:09:01.784Z"
   },
   {
    "duration": 49,
    "start_time": "2022-09-18T11:09:01.802Z"
   },
   {
    "duration": 390,
    "start_time": "2022-09-18T11:09:01.857Z"
   },
   {
    "duration": 21,
    "start_time": "2022-09-18T11:09:02.253Z"
   },
   {
    "duration": 136,
    "start_time": "2022-09-18T11:09:02.276Z"
   },
   {
    "duration": 33,
    "start_time": "2022-09-18T11:09:02.414Z"
   },
   {
    "duration": 675,
    "start_time": "2022-09-18T11:09:02.449Z"
   },
   {
    "duration": 494,
    "start_time": "2022-09-18T11:11:14.761Z"
   },
   {
    "duration": 306,
    "start_time": "2022-09-18T11:16:08.004Z"
   },
   {
    "duration": 411,
    "start_time": "2022-09-18T11:22:20.415Z"
   },
   {
    "duration": 10,
    "start_time": "2022-09-18T11:25:40.404Z"
   },
   {
    "duration": 316,
    "start_time": "2022-09-18T11:25:54.000Z"
   },
   {
    "duration": 10,
    "start_time": "2022-09-18T11:26:55.779Z"
   },
   {
    "duration": 5,
    "start_time": "2022-09-18T11:29:29.171Z"
   },
   {
    "duration": 138,
    "start_time": "2022-09-18T11:29:29.181Z"
   },
   {
    "duration": 19,
    "start_time": "2022-09-18T11:29:29.321Z"
   },
   {
    "duration": 37,
    "start_time": "2022-09-18T11:29:29.341Z"
   },
   {
    "duration": 8,
    "start_time": "2022-09-18T11:29:29.380Z"
   },
   {
    "duration": 5,
    "start_time": "2022-09-18T11:29:29.389Z"
   },
   {
    "duration": 13,
    "start_time": "2022-09-18T11:29:29.395Z"
   },
   {
    "duration": 7,
    "start_time": "2022-09-18T11:29:29.410Z"
   },
   {
    "duration": 45,
    "start_time": "2022-09-18T11:29:29.418Z"
   },
   {
    "duration": 14,
    "start_time": "2022-09-18T11:29:29.464Z"
   },
   {
    "duration": 30,
    "start_time": "2022-09-18T11:29:29.481Z"
   },
   {
    "duration": 32,
    "start_time": "2022-09-18T11:29:29.513Z"
   },
   {
    "duration": 32,
    "start_time": "2022-09-18T11:29:29.547Z"
   },
   {
    "duration": 348,
    "start_time": "2022-09-18T11:29:29.581Z"
   },
   {
    "duration": 19,
    "start_time": "2022-09-18T11:29:29.931Z"
   },
   {
    "duration": 132,
    "start_time": "2022-09-18T11:29:29.952Z"
   },
   {
    "duration": 20,
    "start_time": "2022-09-18T11:29:30.086Z"
   },
   {
    "duration": 290,
    "start_time": "2022-09-18T11:29:30.108Z"
   },
   {
    "duration": 20,
    "start_time": "2022-09-18T11:31:39.155Z"
   },
   {
    "duration": 289,
    "start_time": "2022-09-18T11:35:07.563Z"
   },
   {
    "duration": 20,
    "start_time": "2022-09-18T11:41:14.443Z"
   },
   {
    "duration": 21,
    "start_time": "2022-09-18T11:41:36.216Z"
   },
   {
    "duration": 8,
    "start_time": "2022-09-18T11:41:55.617Z"
   },
   {
    "duration": 155,
    "start_time": "2022-09-18T11:41:55.653Z"
   },
   {
    "duration": 16,
    "start_time": "2022-09-18T11:41:55.811Z"
   },
   {
    "duration": 67,
    "start_time": "2022-09-18T11:41:55.833Z"
   },
   {
    "duration": 12,
    "start_time": "2022-09-18T11:41:55.902Z"
   },
   {
    "duration": 45,
    "start_time": "2022-09-18T11:41:55.916Z"
   },
   {
    "duration": 16,
    "start_time": "2022-09-18T11:41:56.009Z"
   },
   {
    "duration": 44,
    "start_time": "2022-09-18T11:41:56.033Z"
   },
   {
    "duration": 10,
    "start_time": "2022-09-18T11:41:56.079Z"
   },
   {
    "duration": 14,
    "start_time": "2022-09-18T11:41:56.091Z"
   },
   {
    "duration": 38,
    "start_time": "2022-09-18T11:41:56.107Z"
   },
   {
    "duration": 22,
    "start_time": "2022-09-18T11:41:56.147Z"
   },
   {
    "duration": 24,
    "start_time": "2022-09-18T11:41:56.171Z"
   },
   {
    "duration": 390,
    "start_time": "2022-09-18T11:41:56.197Z"
   },
   {
    "duration": 39,
    "start_time": "2022-09-18T11:41:56.589Z"
   },
   {
    "duration": 259,
    "start_time": "2022-09-18T11:41:56.638Z"
   },
   {
    "duration": 35,
    "start_time": "2022-09-18T11:41:56.899Z"
   },
   {
    "duration": 12,
    "start_time": "2022-09-18T11:41:56.936Z"
   },
   {
    "duration": 14,
    "start_time": "2022-09-18T11:42:22.198Z"
   },
   {
    "duration": 16,
    "start_time": "2022-09-18T11:42:56.758Z"
   },
   {
    "duration": 18,
    "start_time": "2022-09-18T11:43:15.220Z"
   },
   {
    "duration": 15,
    "start_time": "2022-09-18T11:45:12.651Z"
   },
   {
    "duration": 7,
    "start_time": "2022-09-18T11:45:32.274Z"
   },
   {
    "duration": 11,
    "start_time": "2022-09-18T11:46:24.467Z"
   },
   {
    "duration": 6,
    "start_time": "2022-09-18T11:46:50.267Z"
   },
   {
    "duration": 1153,
    "start_time": "2022-09-18T11:47:01.040Z"
   },
   {
    "duration": 2014,
    "start_time": "2022-09-18T11:48:21.777Z"
   },
   {
    "duration": 3,
    "start_time": "2022-09-18T11:48:30.965Z"
   },
   {
    "duration": 146,
    "start_time": "2022-09-18T11:48:30.971Z"
   },
   {
    "duration": 27,
    "start_time": "2022-09-18T11:48:31.121Z"
   },
   {
    "duration": 40,
    "start_time": "2022-09-18T11:48:31.150Z"
   },
   {
    "duration": 17,
    "start_time": "2022-09-18T11:48:31.193Z"
   },
   {
    "duration": 68,
    "start_time": "2022-09-18T11:48:31.212Z"
   },
   {
    "duration": 21,
    "start_time": "2022-09-18T11:48:31.282Z"
   },
   {
    "duration": 83,
    "start_time": "2022-09-18T11:48:31.305Z"
   },
   {
    "duration": 15,
    "start_time": "2022-09-18T11:48:31.390Z"
   },
   {
    "duration": 76,
    "start_time": "2022-09-18T11:48:31.407Z"
   },
   {
    "duration": 48,
    "start_time": "2022-09-18T11:48:31.485Z"
   },
   {
    "duration": 26,
    "start_time": "2022-09-18T11:48:31.535Z"
   },
   {
    "duration": 51,
    "start_time": "2022-09-18T11:48:31.566Z"
   },
   {
    "duration": 421,
    "start_time": "2022-09-18T11:48:31.621Z"
   },
   {
    "duration": 23,
    "start_time": "2022-09-18T11:48:32.045Z"
   },
   {
    "duration": 140,
    "start_time": "2022-09-18T11:48:32.070Z"
   },
   {
    "duration": 34,
    "start_time": "2022-09-18T11:48:32.211Z"
   },
   {
    "duration": 2346,
    "start_time": "2022-09-18T11:48:32.247Z"
   },
   {
    "duration": 642,
    "start_time": "2022-09-18T11:48:50.665Z"
   },
   {
    "duration": 12,
    "start_time": "2022-09-18T11:58:02.564Z"
   },
   {
    "duration": 1307,
    "start_time": "2022-09-18T12:00:28.492Z"
   },
   {
    "duration": 1273,
    "start_time": "2022-09-18T12:00:50.070Z"
   },
   {
    "duration": 1257,
    "start_time": "2022-09-18T12:01:00.769Z"
   },
   {
    "duration": 1418,
    "start_time": "2022-09-18T12:02:24.758Z"
   },
   {
    "duration": 21,
    "start_time": "2022-09-18T12:07:28.268Z"
   },
   {
    "duration": 29,
    "start_time": "2022-09-18T12:08:09.103Z"
   },
   {
    "duration": 4,
    "start_time": "2022-09-18T12:08:40.385Z"
   },
   {
    "duration": 161,
    "start_time": "2022-09-18T12:08:40.391Z"
   },
   {
    "duration": 18,
    "start_time": "2022-09-18T12:08:40.556Z"
   },
   {
    "duration": 24,
    "start_time": "2022-09-18T12:08:40.575Z"
   },
   {
    "duration": 11,
    "start_time": "2022-09-18T12:08:40.601Z"
   },
   {
    "duration": 5,
    "start_time": "2022-09-18T12:08:40.614Z"
   },
   {
    "duration": 56,
    "start_time": "2022-09-18T12:08:40.621Z"
   },
   {
    "duration": 13,
    "start_time": "2022-09-18T12:08:40.680Z"
   },
   {
    "duration": 19,
    "start_time": "2022-09-18T12:08:40.695Z"
   },
   {
    "duration": 53,
    "start_time": "2022-09-18T12:08:40.716Z"
   },
   {
    "duration": 95,
    "start_time": "2022-09-18T12:08:40.772Z"
   },
   {
    "duration": 22,
    "start_time": "2022-09-18T12:08:40.873Z"
   },
   {
    "duration": 18,
    "start_time": "2022-09-18T12:08:40.897Z"
   },
   {
    "duration": 387,
    "start_time": "2022-09-18T12:08:40.917Z"
   },
   {
    "duration": 33,
    "start_time": "2022-09-18T12:08:41.306Z"
   },
   {
    "duration": 177,
    "start_time": "2022-09-18T12:08:41.341Z"
   },
   {
    "duration": 31,
    "start_time": "2022-09-18T12:08:41.530Z"
   },
   {
    "duration": 46,
    "start_time": "2022-09-18T12:08:41.570Z"
   },
   {
    "duration": 1388,
    "start_time": "2022-09-18T12:08:41.618Z"
   },
   {
    "duration": 17,
    "start_time": "2022-09-18T12:11:26.507Z"
   },
   {
    "duration": 4,
    "start_time": "2022-09-18T12:11:30.513Z"
   },
   {
    "duration": 284,
    "start_time": "2022-09-18T12:11:30.522Z"
   },
   {
    "duration": 19,
    "start_time": "2022-09-18T12:11:30.809Z"
   },
   {
    "duration": 134,
    "start_time": "2022-09-18T12:11:30.830Z"
   },
   {
    "duration": 40,
    "start_time": "2022-09-18T12:11:30.966Z"
   },
   {
    "duration": 75,
    "start_time": "2022-09-18T12:11:31.008Z"
   },
   {
    "duration": 106,
    "start_time": "2022-09-18T12:11:31.085Z"
   },
   {
    "duration": 37,
    "start_time": "2022-09-18T12:11:31.194Z"
   },
   {
    "duration": 79,
    "start_time": "2022-09-18T12:11:31.233Z"
   },
   {
    "duration": 80,
    "start_time": "2022-09-18T12:11:31.314Z"
   },
   {
    "duration": 109,
    "start_time": "2022-09-18T12:11:31.396Z"
   },
   {
    "duration": 56,
    "start_time": "2022-09-18T12:11:31.507Z"
   },
   {
    "duration": 63,
    "start_time": "2022-09-18T12:11:31.565Z"
   },
   {
    "duration": 474,
    "start_time": "2022-09-18T12:11:31.630Z"
   },
   {
    "duration": 38,
    "start_time": "2022-09-18T12:11:32.107Z"
   },
   {
    "duration": 162,
    "start_time": "2022-09-18T12:11:32.152Z"
   },
   {
    "duration": 61,
    "start_time": "2022-09-18T12:11:32.316Z"
   },
   {
    "duration": 62,
    "start_time": "2022-09-18T12:11:32.382Z"
   },
   {
    "duration": 1460,
    "start_time": "2022-09-18T12:11:32.449Z"
   },
   {
    "duration": 4,
    "start_time": "2022-09-18T12:12:43.899Z"
   },
   {
    "duration": 254,
    "start_time": "2022-09-18T12:12:43.904Z"
   },
   {
    "duration": 19,
    "start_time": "2022-09-18T12:12:44.160Z"
   },
   {
    "duration": 31,
    "start_time": "2022-09-18T12:12:44.182Z"
   },
   {
    "duration": 100,
    "start_time": "2022-09-18T12:12:44.215Z"
   },
   {
    "duration": 90,
    "start_time": "2022-09-18T12:12:44.318Z"
   },
   {
    "duration": 69,
    "start_time": "2022-09-18T12:12:44.410Z"
   },
   {
    "duration": 33,
    "start_time": "2022-09-18T12:12:44.483Z"
   },
   {
    "duration": 76,
    "start_time": "2022-09-18T12:12:44.518Z"
   },
   {
    "duration": 110,
    "start_time": "2022-09-18T12:12:44.595Z"
   },
   {
    "duration": 145,
    "start_time": "2022-09-18T12:12:44.707Z"
   },
   {
    "duration": 48,
    "start_time": "2022-09-18T12:12:44.859Z"
   },
   {
    "duration": 86,
    "start_time": "2022-09-18T12:12:44.909Z"
   },
   {
    "duration": 471,
    "start_time": "2022-09-18T12:12:44.997Z"
   },
   {
    "duration": 28,
    "start_time": "2022-09-18T12:12:45.473Z"
   },
   {
    "duration": 288,
    "start_time": "2022-09-18T12:12:45.503Z"
   },
   {
    "duration": 29,
    "start_time": "2022-09-18T12:12:45.797Z"
   },
   {
    "duration": 80,
    "start_time": "2022-09-18T12:12:45.828Z"
   },
   {
    "duration": 1453,
    "start_time": "2022-09-18T12:12:45.911Z"
   },
   {
    "duration": 32,
    "start_time": "2022-09-18T12:13:09.174Z"
   },
   {
    "duration": 31,
    "start_time": "2022-09-18T12:15:07.120Z"
   },
   {
    "duration": 25,
    "start_time": "2022-09-18T12:15:31.181Z"
   },
   {
    "duration": 36,
    "start_time": "2022-09-18T12:22:31.338Z"
   },
   {
    "duration": 1700,
    "start_time": "2022-09-18T12:22:47.004Z"
   },
   {
    "duration": 19,
    "start_time": "2022-09-18T13:39:40.998Z"
   },
   {
    "duration": 4,
    "start_time": "2022-09-18T13:41:22.566Z"
   },
   {
    "duration": 116,
    "start_time": "2022-09-18T13:41:53.951Z"
   },
   {
    "duration": 5,
    "start_time": "2022-09-18T13:41:58.263Z"
   },
   {
    "duration": 141,
    "start_time": "2022-09-18T13:41:58.270Z"
   },
   {
    "duration": 34,
    "start_time": "2022-09-18T13:41:58.414Z"
   },
   {
    "duration": 34,
    "start_time": "2022-09-18T13:41:58.450Z"
   },
   {
    "duration": 8,
    "start_time": "2022-09-18T13:41:58.487Z"
   },
   {
    "duration": 77,
    "start_time": "2022-09-18T13:41:58.497Z"
   },
   {
    "duration": 28,
    "start_time": "2022-09-18T13:41:58.577Z"
   },
   {
    "duration": 16,
    "start_time": "2022-09-18T13:41:58.608Z"
   },
   {
    "duration": 49,
    "start_time": "2022-09-18T13:41:58.626Z"
   },
   {
    "duration": 22,
    "start_time": "2022-09-18T13:41:58.680Z"
   },
   {
    "duration": 41,
    "start_time": "2022-09-18T13:41:58.705Z"
   },
   {
    "duration": 59,
    "start_time": "2022-09-18T13:41:58.748Z"
   },
   {
    "duration": 32,
    "start_time": "2022-09-18T13:41:58.809Z"
   },
   {
    "duration": 603,
    "start_time": "2022-09-18T13:41:58.843Z"
   },
   {
    "duration": 37,
    "start_time": "2022-09-18T13:41:59.448Z"
   },
   {
    "duration": 209,
    "start_time": "2022-09-18T13:41:59.491Z"
   },
   {
    "duration": 38,
    "start_time": "2022-09-18T13:41:59.706Z"
   },
   {
    "duration": 135,
    "start_time": "2022-09-18T13:41:59.750Z"
   },
   {
    "duration": 0,
    "start_time": "2022-09-18T13:41:59.887Z"
   },
   {
    "duration": 21,
    "start_time": "2022-09-18T13:42:52.065Z"
   },
   {
    "duration": 14,
    "start_time": "2022-09-18T13:43:20.257Z"
   },
   {
    "duration": 4,
    "start_time": "2022-09-18T13:43:48.755Z"
   },
   {
    "duration": 158,
    "start_time": "2022-09-18T13:43:48.761Z"
   },
   {
    "duration": 25,
    "start_time": "2022-09-18T13:43:48.921Z"
   },
   {
    "duration": 46,
    "start_time": "2022-09-18T13:43:48.948Z"
   },
   {
    "duration": 20,
    "start_time": "2022-09-18T13:43:48.998Z"
   },
   {
    "duration": 57,
    "start_time": "2022-09-18T13:43:49.020Z"
   },
   {
    "duration": 24,
    "start_time": "2022-09-18T13:43:49.080Z"
   },
   {
    "duration": 14,
    "start_time": "2022-09-18T13:43:49.107Z"
   },
   {
    "duration": 61,
    "start_time": "2022-09-18T13:43:49.123Z"
   },
   {
    "duration": 21,
    "start_time": "2022-09-18T13:43:49.187Z"
   },
   {
    "duration": 57,
    "start_time": "2022-09-18T13:43:49.211Z"
   },
   {
    "duration": 16,
    "start_time": "2022-09-18T13:43:49.270Z"
   },
   {
    "duration": 27,
    "start_time": "2022-09-18T13:43:49.290Z"
   },
   {
    "duration": 28,
    "start_time": "2022-09-18T13:43:49.319Z"
   },
   {
    "duration": 406,
    "start_time": "2022-09-18T13:43:49.349Z"
   },
   {
    "duration": 30,
    "start_time": "2022-09-18T13:43:49.757Z"
   },
   {
    "duration": 168,
    "start_time": "2022-09-18T13:43:49.790Z"
   },
   {
    "duration": 24,
    "start_time": "2022-09-18T13:43:49.960Z"
   },
   {
    "duration": 9,
    "start_time": "2022-09-18T13:43:49.986Z"
   },
   {
    "duration": 1342,
    "start_time": "2022-09-18T13:43:49.997Z"
   },
   {
    "duration": 6,
    "start_time": "2022-09-18T13:44:26.625Z"
   },
   {
    "duration": 162,
    "start_time": "2022-09-18T13:44:26.656Z"
   },
   {
    "duration": 32,
    "start_time": "2022-09-18T13:44:26.820Z"
   },
   {
    "duration": 21,
    "start_time": "2022-09-18T13:44:26.861Z"
   },
   {
    "duration": 17,
    "start_time": "2022-09-18T13:44:26.884Z"
   },
   {
    "duration": 9,
    "start_time": "2022-09-18T13:44:26.904Z"
   },
   {
    "duration": 59,
    "start_time": "2022-09-18T13:44:26.914Z"
   },
   {
    "duration": 8,
    "start_time": "2022-09-18T13:44:26.976Z"
   },
   {
    "duration": 6,
    "start_time": "2022-09-18T13:44:26.987Z"
   },
   {
    "duration": 11,
    "start_time": "2022-09-18T13:44:26.997Z"
   },
   {
    "duration": 48,
    "start_time": "2022-09-18T13:44:27.011Z"
   },
   {
    "duration": 15,
    "start_time": "2022-09-18T13:44:27.062Z"
   },
   {
    "duration": 18,
    "start_time": "2022-09-18T13:44:27.079Z"
   },
   {
    "duration": 50,
    "start_time": "2022-09-18T13:44:27.099Z"
   },
   {
    "duration": 351,
    "start_time": "2022-09-18T13:44:27.152Z"
   },
   {
    "duration": 35,
    "start_time": "2022-09-18T13:44:27.505Z"
   },
   {
    "duration": 173,
    "start_time": "2022-09-18T13:44:27.541Z"
   },
   {
    "duration": 26,
    "start_time": "2022-09-18T13:44:27.716Z"
   },
   {
    "duration": 34,
    "start_time": "2022-09-18T13:44:27.745Z"
   },
   {
    "duration": 1565,
    "start_time": "2022-09-18T13:44:27.782Z"
   },
   {
    "duration": 4,
    "start_time": "2022-09-18T13:45:06.467Z"
   },
   {
    "duration": 123,
    "start_time": "2022-09-18T13:45:06.476Z"
   },
   {
    "duration": 14,
    "start_time": "2022-09-18T13:45:06.601Z"
   },
   {
    "duration": 37,
    "start_time": "2022-09-18T13:45:06.617Z"
   },
   {
    "duration": 14,
    "start_time": "2022-09-18T13:45:06.659Z"
   },
   {
    "duration": 13,
    "start_time": "2022-09-18T13:45:06.675Z"
   },
   {
    "duration": 11,
    "start_time": "2022-09-18T13:45:06.690Z"
   },
   {
    "duration": 15,
    "start_time": "2022-09-18T13:45:06.703Z"
   },
   {
    "duration": 28,
    "start_time": "2022-09-18T13:45:06.720Z"
   },
   {
    "duration": 22,
    "start_time": "2022-09-18T13:45:06.751Z"
   },
   {
    "duration": 14,
    "start_time": "2022-09-18T13:45:06.776Z"
   },
   {
    "duration": 64,
    "start_time": "2022-09-18T13:45:06.792Z"
   },
   {
    "duration": 10,
    "start_time": "2022-09-18T13:45:06.859Z"
   },
   {
    "duration": 31,
    "start_time": "2022-09-18T13:45:06.871Z"
   },
   {
    "duration": 27,
    "start_time": "2022-09-18T13:45:06.904Z"
   },
   {
    "duration": 369,
    "start_time": "2022-09-18T13:45:06.933Z"
   },
   {
    "duration": 43,
    "start_time": "2022-09-18T13:45:07.303Z"
   },
   {
    "duration": 141,
    "start_time": "2022-09-18T13:45:07.347Z"
   },
   {
    "duration": 34,
    "start_time": "2022-09-18T13:45:07.490Z"
   },
   {
    "duration": 10,
    "start_time": "2022-09-18T13:45:07.526Z"
   },
   {
    "duration": 1308,
    "start_time": "2022-09-18T13:45:07.538Z"
   },
   {
    "duration": 5,
    "start_time": "2022-09-18T13:45:42.599Z"
   },
   {
    "duration": 149,
    "start_time": "2022-09-18T13:45:42.607Z"
   },
   {
    "duration": 19,
    "start_time": "2022-09-18T13:45:42.761Z"
   },
   {
    "duration": 21,
    "start_time": "2022-09-18T13:45:42.783Z"
   },
   {
    "duration": 42,
    "start_time": "2022-09-18T13:45:42.808Z"
   },
   {
    "duration": 26,
    "start_time": "2022-09-18T13:45:42.853Z"
   },
   {
    "duration": 15,
    "start_time": "2022-09-18T13:45:42.881Z"
   },
   {
    "duration": 6,
    "start_time": "2022-09-18T13:45:42.898Z"
   },
   {
    "duration": 16,
    "start_time": "2022-09-18T13:45:42.906Z"
   },
   {
    "duration": 40,
    "start_time": "2022-09-18T13:45:42.924Z"
   },
   {
    "duration": 11,
    "start_time": "2022-09-18T13:45:42.968Z"
   },
   {
    "duration": 19,
    "start_time": "2022-09-18T13:45:42.981Z"
   },
   {
    "duration": 36,
    "start_time": "2022-09-18T13:45:43.003Z"
   },
   {
    "duration": 12,
    "start_time": "2022-09-18T13:45:43.040Z"
   },
   {
    "duration": 22,
    "start_time": "2022-09-18T13:45:43.062Z"
   },
   {
    "duration": 18,
    "start_time": "2022-09-18T13:45:43.086Z"
   },
   {
    "duration": 386,
    "start_time": "2022-09-18T13:45:43.107Z"
   },
   {
    "duration": 29,
    "start_time": "2022-09-18T13:45:43.495Z"
   },
   {
    "duration": 311,
    "start_time": "2022-09-18T13:45:43.525Z"
   },
   {
    "duration": 26,
    "start_time": "2022-09-18T13:45:43.843Z"
   },
   {
    "duration": 12,
    "start_time": "2022-09-18T13:45:43.873Z"
   },
   {
    "duration": 1285,
    "start_time": "2022-09-18T13:45:43.887Z"
   },
   {
    "duration": 4,
    "start_time": "2022-09-18T13:46:09.491Z"
   },
   {
    "duration": 153,
    "start_time": "2022-09-18T13:46:09.500Z"
   },
   {
    "duration": 17,
    "start_time": "2022-09-18T13:46:09.655Z"
   },
   {
    "duration": 29,
    "start_time": "2022-09-18T13:46:09.674Z"
   },
   {
    "duration": 41,
    "start_time": "2022-09-18T13:46:09.707Z"
   },
   {
    "duration": 16,
    "start_time": "2022-09-18T13:46:09.750Z"
   },
   {
    "duration": 11,
    "start_time": "2022-09-18T13:46:09.768Z"
   },
   {
    "duration": 6,
    "start_time": "2022-09-18T13:46:09.782Z"
   },
   {
    "duration": 17,
    "start_time": "2022-09-18T13:46:09.791Z"
   },
   {
    "duration": 60,
    "start_time": "2022-09-18T13:46:09.810Z"
   },
   {
    "duration": 7,
    "start_time": "2022-09-18T13:46:09.874Z"
   },
   {
    "duration": 15,
    "start_time": "2022-09-18T13:46:09.882Z"
   },
   {
    "duration": 39,
    "start_time": "2022-09-18T13:46:09.898Z"
   },
   {
    "duration": 12,
    "start_time": "2022-09-18T13:46:09.938Z"
   },
   {
    "duration": 30,
    "start_time": "2022-09-18T13:46:09.954Z"
   },
   {
    "duration": 23,
    "start_time": "2022-09-18T13:46:09.986Z"
   },
   {
    "duration": 377,
    "start_time": "2022-09-18T13:46:10.011Z"
   },
   {
    "duration": 34,
    "start_time": "2022-09-18T13:46:10.390Z"
   },
   {
    "duration": 136,
    "start_time": "2022-09-18T13:46:10.428Z"
   },
   {
    "duration": 30,
    "start_time": "2022-09-18T13:46:10.566Z"
   },
   {
    "duration": 28,
    "start_time": "2022-09-18T13:46:10.599Z"
   },
   {
    "duration": 1357,
    "start_time": "2022-09-18T13:46:10.628Z"
   },
   {
    "duration": 6,
    "start_time": "2022-09-18T13:47:14.158Z"
   },
   {
    "duration": 224,
    "start_time": "2022-09-18T13:47:14.171Z"
   },
   {
    "duration": 15,
    "start_time": "2022-09-18T13:47:14.397Z"
   },
   {
    "duration": 74,
    "start_time": "2022-09-18T13:47:14.414Z"
   },
   {
    "duration": 67,
    "start_time": "2022-09-18T13:47:14.491Z"
   },
   {
    "duration": 65,
    "start_time": "2022-09-18T13:47:14.560Z"
   },
   {
    "duration": 83,
    "start_time": "2022-09-18T13:47:14.627Z"
   },
   {
    "duration": 76,
    "start_time": "2022-09-18T13:47:14.712Z"
   },
   {
    "duration": 59,
    "start_time": "2022-09-18T13:47:14.790Z"
   },
   {
    "duration": 73,
    "start_time": "2022-09-18T13:47:14.852Z"
   },
   {
    "duration": 98,
    "start_time": "2022-09-18T13:47:14.928Z"
   },
   {
    "duration": 77,
    "start_time": "2022-09-18T13:47:15.033Z"
   },
   {
    "duration": 302,
    "start_time": "2022-09-18T13:47:15.113Z"
   },
   {
    "duration": 84,
    "start_time": "2022-09-18T13:47:15.435Z"
   },
   {
    "duration": 32,
    "start_time": "2022-09-18T13:47:15.526Z"
   },
   {
    "duration": 67,
    "start_time": "2022-09-18T13:47:15.560Z"
   },
   {
    "duration": 80,
    "start_time": "2022-09-18T13:47:15.633Z"
   },
   {
    "duration": 489,
    "start_time": "2022-09-18T13:47:15.715Z"
   },
   {
    "duration": 24,
    "start_time": "2022-09-18T13:47:16.207Z"
   },
   {
    "duration": 215,
    "start_time": "2022-09-18T13:47:16.236Z"
   },
   {
    "duration": 38,
    "start_time": "2022-09-18T13:47:16.459Z"
   },
   {
    "duration": 29,
    "start_time": "2022-09-18T13:47:16.505Z"
   },
   {
    "duration": 1490,
    "start_time": "2022-09-18T13:47:16.540Z"
   },
   {
    "duration": 6,
    "start_time": "2022-09-18T13:47:54.156Z"
   },
   {
    "duration": 224,
    "start_time": "2022-09-18T13:47:54.165Z"
   },
   {
    "duration": 22,
    "start_time": "2022-09-18T13:47:54.393Z"
   },
   {
    "duration": 80,
    "start_time": "2022-09-18T13:47:54.417Z"
   },
   {
    "duration": 23,
    "start_time": "2022-09-18T13:47:54.500Z"
   },
   {
    "duration": 82,
    "start_time": "2022-09-18T13:47:54.526Z"
   },
   {
    "duration": 21,
    "start_time": "2022-09-18T13:47:54.610Z"
   },
   {
    "duration": 58,
    "start_time": "2022-09-18T13:47:54.639Z"
   },
   {
    "duration": 5,
    "start_time": "2022-09-18T13:47:54.699Z"
   },
   {
    "duration": 22,
    "start_time": "2022-09-18T13:47:54.706Z"
   },
   {
    "duration": 56,
    "start_time": "2022-09-18T13:47:54.732Z"
   },
   {
    "duration": 9,
    "start_time": "2022-09-18T13:47:54.790Z"
   },
   {
    "duration": 10,
    "start_time": "2022-09-18T13:47:54.802Z"
   },
   {
    "duration": 68,
    "start_time": "2022-09-18T13:47:54.814Z"
   },
   {
    "duration": 15,
    "start_time": "2022-09-18T13:47:54.884Z"
   },
   {
    "duration": 16,
    "start_time": "2022-09-18T13:47:54.901Z"
   },
   {
    "duration": 21,
    "start_time": "2022-09-18T13:47:54.918Z"
   },
   {
    "duration": 418,
    "start_time": "2022-09-18T13:47:54.941Z"
   },
   {
    "duration": 20,
    "start_time": "2022-09-18T13:47:55.364Z"
   },
   {
    "duration": 156,
    "start_time": "2022-09-18T13:47:55.386Z"
   },
   {
    "duration": 31,
    "start_time": "2022-09-18T13:47:55.545Z"
   },
   {
    "duration": 19,
    "start_time": "2022-09-18T13:47:55.578Z"
   },
   {
    "duration": 1596,
    "start_time": "2022-09-18T13:47:55.600Z"
   },
   {
    "duration": 9,
    "start_time": "2022-09-18T13:49:12.108Z"
   },
   {
    "duration": 5,
    "start_time": "2022-09-18T13:49:17.262Z"
   },
   {
    "duration": 409,
    "start_time": "2022-09-18T13:49:17.269Z"
   },
   {
    "duration": 19,
    "start_time": "2022-09-18T13:49:17.681Z"
   },
   {
    "duration": 11,
    "start_time": "2022-09-18T13:49:17.703Z"
   },
   {
    "duration": 10,
    "start_time": "2022-09-18T13:49:17.726Z"
   },
   {
    "duration": 38,
    "start_time": "2022-09-18T13:49:17.738Z"
   },
   {
    "duration": 14,
    "start_time": "2022-09-18T13:49:17.778Z"
   },
   {
    "duration": 7,
    "start_time": "2022-09-18T13:49:17.794Z"
   },
   {
    "duration": 7,
    "start_time": "2022-09-18T13:49:17.802Z"
   },
   {
    "duration": 21,
    "start_time": "2022-09-18T13:49:17.812Z"
   },
   {
    "duration": 67,
    "start_time": "2022-09-18T13:49:17.837Z"
   },
   {
    "duration": 23,
    "start_time": "2022-09-18T13:49:17.906Z"
   },
   {
    "duration": 36,
    "start_time": "2022-09-18T13:49:17.934Z"
   },
   {
    "duration": 398,
    "start_time": "2022-09-18T13:49:17.973Z"
   },
   {
    "duration": 19,
    "start_time": "2022-09-18T13:49:18.372Z"
   },
   {
    "duration": 159,
    "start_time": "2022-09-18T13:49:18.393Z"
   },
   {
    "duration": 33,
    "start_time": "2022-09-18T13:49:18.555Z"
   },
   {
    "duration": 9,
    "start_time": "2022-09-18T13:49:18.589Z"
   },
   {
    "duration": 1333,
    "start_time": "2022-09-18T13:49:18.600Z"
   },
   {
    "duration": 15,
    "start_time": "2022-09-18T13:49:29.113Z"
   },
   {
    "duration": 22,
    "start_time": "2022-09-18T13:51:46.013Z"
   },
   {
    "duration": 668,
    "start_time": "2022-09-18T13:52:17.569Z"
   },
   {
    "duration": 625,
    "start_time": "2022-09-18T13:53:19.871Z"
   },
   {
    "duration": 830,
    "start_time": "2022-09-18T13:53:55.671Z"
   },
   {
    "duration": 551,
    "start_time": "2022-09-18T13:54:34.405Z"
   },
   {
    "duration": 655,
    "start_time": "2022-09-18T13:55:40.163Z"
   },
   {
    "duration": 553,
    "start_time": "2022-09-18T13:55:50.995Z"
   },
   {
    "duration": 630,
    "start_time": "2022-09-18T13:56:01.006Z"
   },
   {
    "duration": 714,
    "start_time": "2022-09-18T13:56:11.477Z"
   },
   {
    "duration": 527,
    "start_time": "2022-09-18T13:56:19.289Z"
   },
   {
    "duration": 350,
    "start_time": "2022-09-18T14:04:05.261Z"
   },
   {
    "duration": 4,
    "start_time": "2022-09-18T14:13:03.150Z"
   },
   {
    "duration": 115,
    "start_time": "2022-09-18T14:13:03.156Z"
   },
   {
    "duration": 14,
    "start_time": "2022-09-18T14:13:03.273Z"
   },
   {
    "duration": 39,
    "start_time": "2022-09-18T14:13:03.289Z"
   },
   {
    "duration": 23,
    "start_time": "2022-09-18T14:13:03.336Z"
   },
   {
    "duration": 6,
    "start_time": "2022-09-18T14:13:03.361Z"
   },
   {
    "duration": 13,
    "start_time": "2022-09-18T14:13:03.369Z"
   },
   {
    "duration": 9,
    "start_time": "2022-09-18T14:13:03.383Z"
   },
   {
    "duration": 6,
    "start_time": "2022-09-18T14:13:03.393Z"
   },
   {
    "duration": 11,
    "start_time": "2022-09-18T14:13:03.402Z"
   },
   {
    "duration": 55,
    "start_time": "2022-09-18T14:13:03.420Z"
   },
   {
    "duration": 16,
    "start_time": "2022-09-18T14:13:03.477Z"
   },
   {
    "duration": 17,
    "start_time": "2022-09-18T14:13:03.495Z"
   },
   {
    "duration": 353,
    "start_time": "2022-09-18T14:13:03.514Z"
   },
   {
    "duration": 21,
    "start_time": "2022-09-18T14:13:03.870Z"
   },
   {
    "duration": 154,
    "start_time": "2022-09-18T14:13:03.898Z"
   },
   {
    "duration": 27,
    "start_time": "2022-09-18T14:13:04.053Z"
   },
   {
    "duration": 334,
    "start_time": "2022-09-18T14:13:04.082Z"
   },
   {
    "duration": 19,
    "start_time": "2022-09-18T14:13:04.422Z"
   },
   {
    "duration": 607,
    "start_time": "2022-09-18T14:13:04.443Z"
   },
   {
    "duration": 18,
    "start_time": "2022-09-18T14:13:05.052Z"
   },
   {
    "duration": 4,
    "start_time": "2022-09-18T14:20:33.753Z"
   },
   {
    "duration": 113,
    "start_time": "2022-09-18T14:20:33.759Z"
   },
   {
    "duration": 16,
    "start_time": "2022-09-18T14:20:33.874Z"
   },
   {
    "duration": 12,
    "start_time": "2022-09-18T14:20:33.892Z"
   },
   {
    "duration": 52,
    "start_time": "2022-09-18T14:20:33.905Z"
   },
   {
    "duration": 9,
    "start_time": "2022-09-18T14:20:33.959Z"
   },
   {
    "duration": 16,
    "start_time": "2022-09-18T14:20:33.970Z"
   },
   {
    "duration": 7,
    "start_time": "2022-09-18T14:20:33.989Z"
   },
   {
    "duration": 6,
    "start_time": "2022-09-18T14:20:33.999Z"
   },
   {
    "duration": 10,
    "start_time": "2022-09-18T14:20:34.007Z"
   },
   {
    "duration": 60,
    "start_time": "2022-09-18T14:20:34.022Z"
   },
   {
    "duration": 17,
    "start_time": "2022-09-18T14:20:34.083Z"
   },
   {
    "duration": 25,
    "start_time": "2022-09-18T14:20:34.102Z"
   },
   {
    "duration": 349,
    "start_time": "2022-09-18T14:20:34.131Z"
   },
   {
    "duration": 18,
    "start_time": "2022-09-18T14:20:34.483Z"
   },
   {
    "duration": 167,
    "start_time": "2022-09-18T14:20:34.503Z"
   },
   {
    "duration": 30,
    "start_time": "2022-09-18T14:20:34.672Z"
   },
   {
    "duration": 487,
    "start_time": "2022-09-18T14:20:34.704Z"
   },
   {
    "duration": 12,
    "start_time": "2022-09-18T14:20:35.193Z"
   },
   {
    "duration": 560,
    "start_time": "2022-09-18T14:20:35.226Z"
   },
   {
    "duration": 20,
    "start_time": "2022-09-18T14:20:35.788Z"
   },
   {
    "duration": 288,
    "start_time": "2022-09-18T14:23:29.707Z"
   },
   {
    "duration": 344,
    "start_time": "2022-09-18T14:23:58.217Z"
   },
   {
    "duration": 281,
    "start_time": "2022-09-18T14:24:20.682Z"
   },
   {
    "duration": 291,
    "start_time": "2022-09-18T14:24:39.174Z"
   },
   {
    "duration": 298,
    "start_time": "2022-09-18T14:30:09.079Z"
   },
   {
    "duration": 317,
    "start_time": "2022-09-18T14:31:41.190Z"
   },
   {
    "duration": 294,
    "start_time": "2022-09-18T14:31:57.465Z"
   },
   {
    "duration": 31,
    "start_time": "2022-09-18T14:35:30.762Z"
   },
   {
    "duration": 13,
    "start_time": "2022-09-18T14:55:48.156Z"
   },
   {
    "duration": 37,
    "start_time": "2022-09-18T14:57:29.562Z"
   },
   {
    "duration": 31,
    "start_time": "2022-09-18T14:57:41.185Z"
   },
   {
    "duration": 51,
    "start_time": "2022-09-18T14:58:09.288Z"
   },
   {
    "duration": 38,
    "start_time": "2022-09-18T15:08:14.962Z"
   },
   {
    "duration": 210,
    "start_time": "2022-09-18T15:13:19.900Z"
   },
   {
    "duration": 96,
    "start_time": "2022-09-18T15:13:28.460Z"
   },
   {
    "duration": 26,
    "start_time": "2022-09-18T15:17:31.979Z"
   },
   {
    "duration": 36,
    "start_time": "2022-09-18T15:22:45.318Z"
   },
   {
    "duration": 17,
    "start_time": "2022-09-18T15:24:18.447Z"
   },
   {
    "duration": 4396,
    "start_time": "2022-09-18T15:25:16.962Z"
   },
   {
    "duration": 4155,
    "start_time": "2022-09-18T15:26:59.698Z"
   },
   {
    "duration": 56,
    "start_time": "2022-09-18T15:39:24.215Z"
   },
   {
    "duration": 86,
    "start_time": "2022-09-18T15:39:24.290Z"
   },
   {
    "duration": 0,
    "start_time": "2022-09-18T15:39:24.394Z"
   },
   {
    "duration": 0,
    "start_time": "2022-09-18T15:39:24.399Z"
   },
   {
    "duration": 0,
    "start_time": "2022-09-18T15:39:24.400Z"
   },
   {
    "duration": 0,
    "start_time": "2022-09-18T15:39:24.402Z"
   },
   {
    "duration": 0,
    "start_time": "2022-09-18T15:39:24.405Z"
   },
   {
    "duration": 0,
    "start_time": "2022-09-18T15:39:24.421Z"
   },
   {
    "duration": 0,
    "start_time": "2022-09-18T15:39:24.740Z"
   },
   {
    "duration": 0,
    "start_time": "2022-09-18T15:39:24.755Z"
   },
   {
    "duration": 0,
    "start_time": "2022-09-18T15:39:24.767Z"
   },
   {
    "duration": 0,
    "start_time": "2022-09-18T15:39:24.778Z"
   },
   {
    "duration": 0,
    "start_time": "2022-09-18T15:39:24.780Z"
   },
   {
    "duration": 0,
    "start_time": "2022-09-18T15:39:24.782Z"
   },
   {
    "duration": 0,
    "start_time": "2022-09-18T15:39:24.784Z"
   },
   {
    "duration": 0,
    "start_time": "2022-09-18T15:39:24.786Z"
   },
   {
    "duration": 0,
    "start_time": "2022-09-18T15:39:24.788Z"
   },
   {
    "duration": 0,
    "start_time": "2022-09-18T15:39:24.789Z"
   },
   {
    "duration": 0,
    "start_time": "2022-09-18T15:39:24.790Z"
   },
   {
    "duration": 0,
    "start_time": "2022-09-18T15:39:24.791Z"
   },
   {
    "duration": 0,
    "start_time": "2022-09-18T15:39:24.792Z"
   },
   {
    "duration": 0,
    "start_time": "2022-09-18T15:39:24.794Z"
   },
   {
    "duration": 0,
    "start_time": "2022-09-18T15:39:24.795Z"
   },
   {
    "duration": 0,
    "start_time": "2022-09-18T15:39:24.797Z"
   },
   {
    "duration": 0,
    "start_time": "2022-09-18T15:39:24.825Z"
   },
   {
    "duration": 8,
    "start_time": "2022-09-18T15:40:39.466Z"
   },
   {
    "duration": 199,
    "start_time": "2022-09-18T15:40:39.476Z"
   },
   {
    "duration": 19,
    "start_time": "2022-09-18T15:40:39.678Z"
   },
   {
    "duration": 14,
    "start_time": "2022-09-18T15:40:39.700Z"
   },
   {
    "duration": 66,
    "start_time": "2022-09-18T15:40:39.717Z"
   },
   {
    "duration": 17,
    "start_time": "2022-09-18T15:40:39.786Z"
   },
   {
    "duration": 109,
    "start_time": "2022-09-18T15:40:39.805Z"
   },
   {
    "duration": 7,
    "start_time": "2022-09-18T15:40:39.916Z"
   },
   {
    "duration": 60,
    "start_time": "2022-09-18T15:40:39.925Z"
   },
   {
    "duration": 13,
    "start_time": "2022-09-18T15:40:39.987Z"
   },
   {
    "duration": 40,
    "start_time": "2022-09-18T15:40:40.005Z"
   },
   {
    "duration": 33,
    "start_time": "2022-09-18T15:40:40.046Z"
   },
   {
    "duration": 22,
    "start_time": "2022-09-18T15:40:40.082Z"
   },
   {
    "duration": 420,
    "start_time": "2022-09-18T15:40:40.106Z"
   },
   {
    "duration": 48,
    "start_time": "2022-09-18T15:40:40.530Z"
   },
   {
    "duration": 146,
    "start_time": "2022-09-18T15:40:40.582Z"
   },
   {
    "duration": 28,
    "start_time": "2022-09-18T15:40:40.731Z"
   },
   {
    "duration": 413,
    "start_time": "2022-09-18T15:40:40.762Z"
   },
   {
    "duration": 14,
    "start_time": "2022-09-18T15:40:41.178Z"
   },
   {
    "duration": 608,
    "start_time": "2022-09-18T15:40:41.194Z"
   },
   {
    "duration": 34,
    "start_time": "2022-09-18T15:40:41.805Z"
   },
   {
    "duration": 419,
    "start_time": "2022-09-18T15:40:41.841Z"
   },
   {
    "duration": 47,
    "start_time": "2022-09-18T15:40:42.269Z"
   },
   {
    "duration": 22,
    "start_time": "2022-09-18T15:40:42.318Z"
   },
   {
    "duration": 5,
    "start_time": "2022-09-18T16:06:11.889Z"
   },
   {
    "duration": 205,
    "start_time": "2022-09-18T16:06:11.896Z"
   },
   {
    "duration": 21,
    "start_time": "2022-09-18T16:06:12.103Z"
   },
   {
    "duration": 51,
    "start_time": "2022-09-18T16:06:12.127Z"
   },
   {
    "duration": 16,
    "start_time": "2022-09-18T16:06:12.180Z"
   },
   {
    "duration": 10,
    "start_time": "2022-09-18T16:06:12.198Z"
   },
   {
    "duration": 31,
    "start_time": "2022-09-18T16:06:12.210Z"
   },
   {
    "duration": 20,
    "start_time": "2022-09-18T16:06:12.246Z"
   },
   {
    "duration": 20,
    "start_time": "2022-09-18T16:06:12.269Z"
   },
   {
    "duration": 13,
    "start_time": "2022-09-18T16:06:12.292Z"
   },
   {
    "duration": 95,
    "start_time": "2022-09-18T16:06:12.307Z"
   },
   {
    "duration": 83,
    "start_time": "2022-09-18T16:06:12.404Z"
   },
   {
    "duration": 346,
    "start_time": "2022-09-18T16:06:12.489Z"
   },
   {
    "duration": 359,
    "start_time": "2022-09-18T16:06:12.837Z"
   },
   {
    "duration": 32,
    "start_time": "2022-09-18T16:06:13.199Z"
   },
   {
    "duration": 136,
    "start_time": "2022-09-18T16:06:13.242Z"
   },
   {
    "duration": 25,
    "start_time": "2022-09-18T16:06:13.380Z"
   },
   {
    "duration": 371,
    "start_time": "2022-09-18T16:06:13.408Z"
   },
   {
    "duration": 14,
    "start_time": "2022-09-18T16:06:13.781Z"
   },
   {
    "duration": 557,
    "start_time": "2022-09-18T16:06:13.797Z"
   },
   {
    "duration": 26,
    "start_time": "2022-09-18T16:06:14.358Z"
   },
   {
    "duration": 291,
    "start_time": "2022-09-18T16:06:14.386Z"
   },
   {
    "duration": 61,
    "start_time": "2022-09-18T16:06:14.678Z"
   },
   {
    "duration": 42,
    "start_time": "2022-09-18T16:06:14.742Z"
   },
   {
    "duration": 134120,
    "start_time": "2022-09-18T16:06:14.786Z"
   },
   {
    "duration": 133994,
    "start_time": "2022-09-18T16:08:28.909Z"
   },
   {
    "duration": 4,
    "start_time": "2022-09-18T16:11:54.694Z"
   },
   {
    "duration": 143,
    "start_time": "2022-09-18T16:11:54.701Z"
   },
   {
    "duration": 15,
    "start_time": "2022-09-18T16:11:54.848Z"
   },
   {
    "duration": 24,
    "start_time": "2022-09-18T16:11:54.865Z"
   },
   {
    "duration": 28,
    "start_time": "2022-09-18T16:11:54.891Z"
   },
   {
    "duration": 45,
    "start_time": "2022-09-18T16:11:54.926Z"
   },
   {
    "duration": 39,
    "start_time": "2022-09-18T16:11:54.973Z"
   },
   {
    "duration": 50,
    "start_time": "2022-09-18T16:11:55.014Z"
   },
   {
    "duration": 20,
    "start_time": "2022-09-18T16:11:55.066Z"
   },
   {
    "duration": 16,
    "start_time": "2022-09-18T16:11:55.089Z"
   },
   {
    "duration": 75,
    "start_time": "2022-09-18T16:11:55.108Z"
   },
   {
    "duration": 18,
    "start_time": "2022-09-18T16:11:55.185Z"
   },
   {
    "duration": 38,
    "start_time": "2022-09-18T16:11:55.205Z"
   },
   {
    "duration": 351,
    "start_time": "2022-09-18T16:11:55.245Z"
   },
   {
    "duration": 33,
    "start_time": "2022-09-18T16:11:55.598Z"
   },
   {
    "duration": 135,
    "start_time": "2022-09-18T16:11:55.633Z"
   },
   {
    "duration": 21,
    "start_time": "2022-09-18T16:11:55.770Z"
   },
   {
    "duration": 371,
    "start_time": "2022-09-18T16:11:55.793Z"
   },
   {
    "duration": 13,
    "start_time": "2022-09-18T16:11:56.166Z"
   },
   {
    "duration": 575,
    "start_time": "2022-09-18T16:11:56.181Z"
   },
   {
    "duration": 22,
    "start_time": "2022-09-18T16:11:56.758Z"
   },
   {
    "duration": 309,
    "start_time": "2022-09-18T16:11:56.783Z"
   },
   {
    "duration": 61,
    "start_time": "2022-09-18T16:11:57.094Z"
   },
   {
    "duration": 30,
    "start_time": "2022-09-18T16:11:57.158Z"
   },
   {
    "duration": 135651,
    "start_time": "2022-09-18T16:11:57.190Z"
   },
   {
    "duration": 14,
    "start_time": "2022-09-18T16:29:40.312Z"
   },
   {
    "duration": 124,
    "start_time": "2022-09-18T16:29:40.331Z"
   },
   {
    "duration": 14,
    "start_time": "2022-09-18T16:29:40.457Z"
   },
   {
    "duration": 22,
    "start_time": "2022-09-18T16:29:40.473Z"
   },
   {
    "duration": 59,
    "start_time": "2022-09-18T16:29:40.497Z"
   },
   {
    "duration": 9,
    "start_time": "2022-09-18T16:29:40.558Z"
   },
   {
    "duration": 21,
    "start_time": "2022-09-18T16:29:40.569Z"
   },
   {
    "duration": 5,
    "start_time": "2022-09-18T16:29:40.592Z"
   },
   {
    "duration": 9,
    "start_time": "2022-09-18T16:29:40.599Z"
   },
   {
    "duration": 31,
    "start_time": "2022-09-18T16:29:40.610Z"
   },
   {
    "duration": 36,
    "start_time": "2022-09-18T16:29:40.646Z"
   },
   {
    "duration": 17,
    "start_time": "2022-09-18T16:29:40.684Z"
   },
   {
    "duration": 35,
    "start_time": "2022-09-18T16:29:40.703Z"
   },
   {
    "duration": 323,
    "start_time": "2022-09-18T16:29:40.744Z"
   },
   {
    "duration": 16,
    "start_time": "2022-09-18T16:29:41.069Z"
   },
   {
    "duration": 461,
    "start_time": "2022-09-18T16:29:41.087Z"
   },
   {
    "duration": 21,
    "start_time": "2022-09-18T16:29:41.551Z"
   },
   {
    "duration": 345,
    "start_time": "2022-09-18T16:29:41.573Z"
   },
   {
    "duration": 29,
    "start_time": "2022-09-18T16:29:41.923Z"
   },
   {
    "duration": 548,
    "start_time": "2022-09-18T16:29:41.953Z"
   },
   {
    "duration": 18,
    "start_time": "2022-09-18T16:29:42.503Z"
   },
   {
    "duration": 319,
    "start_time": "2022-09-18T16:29:42.522Z"
   },
   {
    "duration": 44,
    "start_time": "2022-09-18T16:29:42.843Z"
   },
   {
    "duration": 35,
    "start_time": "2022-09-18T16:29:42.888Z"
   },
   {
    "duration": 130213,
    "start_time": "2022-09-18T16:29:42.924Z"
   },
   {
    "duration": 4,
    "start_time": "2022-09-18T16:33:15.044Z"
   },
   {
    "duration": 117,
    "start_time": "2022-09-18T16:33:15.050Z"
   },
   {
    "duration": 15,
    "start_time": "2022-09-18T16:33:15.168Z"
   },
   {
    "duration": 18,
    "start_time": "2022-09-18T16:33:15.185Z"
   },
   {
    "duration": 23,
    "start_time": "2022-09-18T16:33:15.204Z"
   },
   {
    "duration": 24,
    "start_time": "2022-09-18T16:33:15.229Z"
   },
   {
    "duration": 16,
    "start_time": "2022-09-18T16:33:15.255Z"
   },
   {
    "duration": 8,
    "start_time": "2022-09-18T16:33:15.273Z"
   },
   {
    "duration": 6,
    "start_time": "2022-09-18T16:33:15.283Z"
   },
   {
    "duration": 12,
    "start_time": "2022-09-18T16:33:15.291Z"
   },
   {
    "duration": 350,
    "start_time": "2022-09-18T16:33:15.305Z"
   },
   {
    "duration": 17,
    "start_time": "2022-09-18T16:33:15.657Z"
   },
   {
    "duration": 19,
    "start_time": "2022-09-18T16:33:15.676Z"
   },
   {
    "duration": 357,
    "start_time": "2022-09-18T16:33:15.697Z"
   },
   {
    "duration": 16,
    "start_time": "2022-09-18T16:33:16.057Z"
   },
   {
    "duration": 141,
    "start_time": "2022-09-18T16:33:16.075Z"
   },
   {
    "duration": 32,
    "start_time": "2022-09-18T16:33:16.218Z"
   },
   {
    "duration": 320,
    "start_time": "2022-09-18T16:33:16.253Z"
   },
   {
    "duration": 14,
    "start_time": "2022-09-18T16:33:16.575Z"
   },
   {
    "duration": 552,
    "start_time": "2022-09-18T16:33:16.591Z"
   },
   {
    "duration": 19,
    "start_time": "2022-09-18T16:33:17.148Z"
   },
   {
    "duration": 275,
    "start_time": "2022-09-18T16:33:17.169Z"
   },
   {
    "duration": 44,
    "start_time": "2022-09-18T16:33:17.446Z"
   },
   {
    "duration": 22,
    "start_time": "2022-09-18T16:33:17.493Z"
   },
   {
    "duration": 126007,
    "start_time": "2022-09-18T16:35:26.286Z"
   },
   {
    "duration": 16,
    "start_time": "2022-09-18T16:37:43.645Z"
   },
   {
    "duration": 3770,
    "start_time": "2022-09-18T16:38:14.727Z"
   },
   {
    "duration": 3,
    "start_time": "2022-09-18T16:39:43.068Z"
   },
   {
    "duration": 94,
    "start_time": "2022-09-18T16:39:43.073Z"
   },
   {
    "duration": 14,
    "start_time": "2022-09-18T16:39:43.169Z"
   },
   {
    "duration": 11,
    "start_time": "2022-09-18T16:39:43.185Z"
   },
   {
    "duration": 7,
    "start_time": "2022-09-18T16:39:43.198Z"
   },
   {
    "duration": 5,
    "start_time": "2022-09-18T16:39:43.221Z"
   },
   {
    "duration": 15,
    "start_time": "2022-09-18T16:39:43.228Z"
   },
   {
    "duration": 5,
    "start_time": "2022-09-18T16:39:43.244Z"
   },
   {
    "duration": 9,
    "start_time": "2022-09-18T16:39:43.252Z"
   },
   {
    "duration": 16,
    "start_time": "2022-09-18T16:39:43.262Z"
   },
   {
    "duration": 49,
    "start_time": "2022-09-18T16:39:43.280Z"
   },
   {
    "duration": 17,
    "start_time": "2022-09-18T16:39:43.331Z"
   },
   {
    "duration": 17,
    "start_time": "2022-09-18T16:39:43.350Z"
   },
   {
    "duration": 345,
    "start_time": "2022-09-18T16:39:43.368Z"
   },
   {
    "duration": 20,
    "start_time": "2022-09-18T16:39:43.715Z"
   },
   {
    "duration": 135,
    "start_time": "2022-09-18T16:39:43.737Z"
   },
   {
    "duration": 22,
    "start_time": "2022-09-18T16:39:43.874Z"
   },
   {
    "duration": 314,
    "start_time": "2022-09-18T16:39:43.897Z"
   },
   {
    "duration": 18,
    "start_time": "2022-09-18T16:39:44.212Z"
   },
   {
    "duration": 505,
    "start_time": "2022-09-18T16:39:44.232Z"
   },
   {
    "duration": 19,
    "start_time": "2022-09-18T16:39:44.739Z"
   },
   {
    "duration": 248,
    "start_time": "2022-09-18T16:39:44.759Z"
   },
   {
    "duration": 45,
    "start_time": "2022-09-18T16:39:45.009Z"
   },
   {
    "duration": 17,
    "start_time": "2022-09-18T16:39:45.055Z"
   },
   {
    "duration": 49016,
    "start_time": "2022-09-18T16:42:34.079Z"
   },
   {
    "duration": 14,
    "start_time": "2022-09-18T16:48:29.007Z"
   },
   {
    "duration": 147,
    "start_time": "2022-09-18T16:48:29.023Z"
   },
   {
    "duration": 16,
    "start_time": "2022-09-18T16:48:29.173Z"
   },
   {
    "duration": 30,
    "start_time": "2022-09-18T16:48:29.191Z"
   },
   {
    "duration": 37,
    "start_time": "2022-09-18T16:48:29.223Z"
   },
   {
    "duration": 11,
    "start_time": "2022-09-18T16:48:29.263Z"
   },
   {
    "duration": 19,
    "start_time": "2022-09-18T16:48:29.277Z"
   },
   {
    "duration": 14,
    "start_time": "2022-09-18T16:48:29.299Z"
   },
   {
    "duration": 24,
    "start_time": "2022-09-18T16:48:29.315Z"
   },
   {
    "duration": 21,
    "start_time": "2022-09-18T16:48:29.341Z"
   },
   {
    "duration": 39,
    "start_time": "2022-09-18T16:48:29.363Z"
   },
   {
    "duration": 17,
    "start_time": "2022-09-18T16:48:29.404Z"
   },
   {
    "duration": 22,
    "start_time": "2022-09-18T16:48:29.423Z"
   },
   {
    "duration": 353,
    "start_time": "2022-09-18T16:48:29.447Z"
   },
   {
    "duration": 34,
    "start_time": "2022-09-18T16:48:29.802Z"
   },
   {
    "duration": 143,
    "start_time": "2022-09-18T16:48:29.838Z"
   },
   {
    "duration": 22,
    "start_time": "2022-09-18T16:48:29.983Z"
   },
   {
    "duration": 325,
    "start_time": "2022-09-18T16:48:30.034Z"
   },
   {
    "duration": 17,
    "start_time": "2022-09-18T16:48:30.361Z"
   },
   {
    "duration": 567,
    "start_time": "2022-09-18T16:48:30.380Z"
   },
   {
    "duration": 18,
    "start_time": "2022-09-18T16:48:30.949Z"
   },
   {
    "duration": 290,
    "start_time": "2022-09-18T16:48:30.969Z"
   },
   {
    "duration": 74,
    "start_time": "2022-09-18T16:48:31.261Z"
   },
   {
    "duration": 27,
    "start_time": "2022-09-18T16:48:31.337Z"
   },
   {
    "duration": 319,
    "start_time": "2022-09-18T16:48:31.365Z"
   },
   {
    "duration": 128545,
    "start_time": "2022-09-18T16:48:31.689Z"
   },
   {
    "duration": 52619,
    "start_time": "2022-09-18T16:50:40.240Z"
   },
   {
    "duration": 280,
    "start_time": "2022-09-18T16:51:49.870Z"
   },
   {
    "duration": 255,
    "start_time": "2022-09-18T16:52:16.000Z"
   },
   {
    "duration": 337,
    "start_time": "2022-09-18T16:54:41.750Z"
   },
   {
    "duration": 80,
    "start_time": "2022-09-18T16:55:23.085Z"
   },
   {
    "duration": 328,
    "start_time": "2022-09-18T16:55:57.504Z"
   },
   {
    "duration": 355,
    "start_time": "2022-09-18T16:56:12.382Z"
   },
   {
    "duration": 18,
    "start_time": "2022-09-18T17:01:22.482Z"
   },
   {
    "duration": 951,
    "start_time": "2022-09-18T17:30:42.955Z"
   },
   {
    "duration": 109,
    "start_time": "2022-09-18T17:51:21.002Z"
   },
   {
    "duration": 1041,
    "start_time": "2022-09-18T17:51:53.049Z"
   },
   {
    "duration": 1180,
    "start_time": "2022-09-18T18:07:33.174Z"
   },
   {
    "duration": 16,
    "start_time": "2022-09-18T18:09:03.243Z"
   },
   {
    "duration": 790,
    "start_time": "2022-09-18T18:10:59.054Z"
   },
   {
    "duration": 714,
    "start_time": "2022-09-18T18:11:35.946Z"
   },
   {
    "duration": 23,
    "start_time": "2022-09-18T18:12:13.454Z"
   },
   {
    "duration": 42,
    "start_time": "2022-09-18T18:12:25.196Z"
   },
   {
    "duration": 4,
    "start_time": "2022-09-18T18:12:44.499Z"
   },
   {
    "duration": 130,
    "start_time": "2022-09-18T18:12:44.599Z"
   },
   {
    "duration": 21,
    "start_time": "2022-09-18T18:12:44.731Z"
   },
   {
    "duration": 18,
    "start_time": "2022-09-18T18:12:44.755Z"
   },
   {
    "duration": 20,
    "start_time": "2022-09-18T18:12:44.775Z"
   },
   {
    "duration": 32,
    "start_time": "2022-09-18T18:12:44.798Z"
   },
   {
    "duration": 19,
    "start_time": "2022-09-18T18:12:44.832Z"
   },
   {
    "duration": 8,
    "start_time": "2022-09-18T18:12:44.854Z"
   },
   {
    "duration": 15,
    "start_time": "2022-09-18T18:12:44.864Z"
   },
   {
    "duration": 27,
    "start_time": "2022-09-18T18:12:44.881Z"
   },
   {
    "duration": 68,
    "start_time": "2022-09-18T18:12:44.910Z"
   },
   {
    "duration": 20,
    "start_time": "2022-09-18T18:12:44.979Z"
   },
   {
    "duration": 17,
    "start_time": "2022-09-18T18:12:45.001Z"
   },
   {
    "duration": 369,
    "start_time": "2022-09-18T18:12:45.022Z"
   },
   {
    "duration": 29,
    "start_time": "2022-09-18T18:12:45.394Z"
   },
   {
    "duration": 125,
    "start_time": "2022-09-18T18:12:45.430Z"
   },
   {
    "duration": 20,
    "start_time": "2022-09-18T18:12:45.557Z"
   },
   {
    "duration": 318,
    "start_time": "2022-09-18T18:12:45.579Z"
   },
   {
    "duration": 23,
    "start_time": "2022-09-18T18:12:45.899Z"
   },
   {
    "duration": 623,
    "start_time": "2022-09-18T18:12:45.926Z"
   },
   {
    "duration": 22,
    "start_time": "2022-09-18T18:12:46.551Z"
   },
   {
    "duration": 302,
    "start_time": "2022-09-18T18:12:46.575Z"
   },
   {
    "duration": 62,
    "start_time": "2022-09-18T18:12:46.879Z"
   },
   {
    "duration": 19,
    "start_time": "2022-09-18T18:12:46.945Z"
   },
   {
    "duration": 339,
    "start_time": "2022-09-18T18:12:46.966Z"
   },
   {
    "duration": 24,
    "start_time": "2022-09-18T18:12:47.307Z"
   },
   {
    "duration": 1037,
    "start_time": "2022-09-18T18:12:47.332Z"
   },
   {
    "duration": 16,
    "start_time": "2022-09-18T18:12:48.371Z"
   },
   {
    "duration": 25,
    "start_time": "2022-09-18T18:12:48.388Z"
   },
   {
    "duration": 3,
    "start_time": "2022-09-18T18:13:11.056Z"
   },
   {
    "duration": 139,
    "start_time": "2022-09-18T18:13:11.062Z"
   },
   {
    "duration": 14,
    "start_time": "2022-09-18T18:13:11.204Z"
   },
   {
    "duration": 39,
    "start_time": "2022-09-18T18:13:11.220Z"
   },
   {
    "duration": 6,
    "start_time": "2022-09-18T18:13:11.261Z"
   },
   {
    "duration": 6,
    "start_time": "2022-09-18T18:13:11.269Z"
   },
   {
    "duration": 15,
    "start_time": "2022-09-18T18:13:11.277Z"
   },
   {
    "duration": 8,
    "start_time": "2022-09-18T18:13:11.294Z"
   },
   {
    "duration": 6,
    "start_time": "2022-09-18T18:13:11.304Z"
   },
   {
    "duration": 30,
    "start_time": "2022-09-18T18:13:11.312Z"
   },
   {
    "duration": 31,
    "start_time": "2022-09-18T18:13:11.352Z"
   },
   {
    "duration": 15,
    "start_time": "2022-09-18T18:13:11.385Z"
   },
   {
    "duration": 31,
    "start_time": "2022-09-18T18:13:11.402Z"
   },
   {
    "duration": 367,
    "start_time": "2022-09-18T18:13:11.437Z"
   },
   {
    "duration": 49,
    "start_time": "2022-09-18T18:13:11.806Z"
   },
   {
    "duration": 129,
    "start_time": "2022-09-18T18:13:11.858Z"
   },
   {
    "duration": 22,
    "start_time": "2022-09-18T18:13:11.988Z"
   },
   {
    "duration": 323,
    "start_time": "2022-09-18T18:13:12.020Z"
   },
   {
    "duration": 16,
    "start_time": "2022-09-18T18:13:12.346Z"
   },
   {
    "duration": 561,
    "start_time": "2022-09-18T18:13:12.364Z"
   },
   {
    "duration": 21,
    "start_time": "2022-09-18T18:13:12.938Z"
   },
   {
    "duration": 280,
    "start_time": "2022-09-18T18:13:12.961Z"
   },
   {
    "duration": 1262,
    "start_time": "2022-09-18T18:13:13.243Z"
   },
   {
    "duration": 32,
    "start_time": "2022-09-18T18:13:14.507Z"
   },
   {
    "duration": 342,
    "start_time": "2022-09-18T18:13:14.540Z"
   },
   {
    "duration": 19,
    "start_time": "2022-09-18T18:13:14.883Z"
   },
   {
    "duration": 941,
    "start_time": "2022-09-18T18:13:14.904Z"
   },
   {
    "duration": 21,
    "start_time": "2022-09-18T18:13:15.846Z"
   },
   {
    "duration": 27,
    "start_time": "2022-09-18T18:13:15.870Z"
   },
   {
    "duration": 5,
    "start_time": "2022-09-18T18:13:46.384Z"
   },
   {
    "duration": 143,
    "start_time": "2022-09-18T18:13:46.405Z"
   },
   {
    "duration": 15,
    "start_time": "2022-09-18T18:13:46.550Z"
   },
   {
    "duration": 12,
    "start_time": "2022-09-18T18:13:46.567Z"
   },
   {
    "duration": 7,
    "start_time": "2022-09-18T18:13:46.582Z"
   },
   {
    "duration": 4,
    "start_time": "2022-09-18T18:13:46.592Z"
   },
   {
    "duration": 35,
    "start_time": "2022-09-18T18:13:46.597Z"
   },
   {
    "duration": 12,
    "start_time": "2022-09-18T18:13:46.633Z"
   },
   {
    "duration": 14,
    "start_time": "2022-09-18T18:13:46.647Z"
   },
   {
    "duration": 12,
    "start_time": "2022-09-18T18:13:46.663Z"
   },
   {
    "duration": 31,
    "start_time": "2022-09-18T18:13:46.677Z"
   },
   {
    "duration": 40,
    "start_time": "2022-09-18T18:13:46.711Z"
   },
   {
    "duration": 24,
    "start_time": "2022-09-18T18:13:46.752Z"
   },
   {
    "duration": 352,
    "start_time": "2022-09-18T18:13:46.778Z"
   },
   {
    "duration": 30,
    "start_time": "2022-09-18T18:13:47.139Z"
   },
   {
    "duration": 146,
    "start_time": "2022-09-18T18:13:47.171Z"
   },
   {
    "duration": 39,
    "start_time": "2022-09-18T18:13:47.320Z"
   },
   {
    "duration": 338,
    "start_time": "2022-09-18T18:13:47.362Z"
   },
   {
    "duration": 38,
    "start_time": "2022-09-18T18:13:47.703Z"
   },
   {
    "duration": 540,
    "start_time": "2022-09-18T18:13:47.748Z"
   },
   {
    "duration": 41,
    "start_time": "2022-09-18T18:13:48.290Z"
   },
   {
    "duration": 287,
    "start_time": "2022-09-18T18:13:48.343Z"
   },
   {
    "duration": 59,
    "start_time": "2022-09-18T18:13:48.632Z"
   },
   {
    "duration": 47,
    "start_time": "2022-09-18T18:13:48.693Z"
   },
   {
    "duration": 383,
    "start_time": "2022-09-18T18:13:48.744Z"
   },
   {
    "duration": 26,
    "start_time": "2022-09-18T18:13:49.129Z"
   },
   {
    "duration": 951,
    "start_time": "2022-09-18T18:13:49.158Z"
   },
   {
    "duration": 19,
    "start_time": "2022-09-18T18:13:50.111Z"
   },
   {
    "duration": 877,
    "start_time": "2022-09-18T18:13:50.132Z"
   },
   {
    "duration": 5,
    "start_time": "2022-09-18T18:25:46.835Z"
   },
   {
    "duration": 117,
    "start_time": "2022-09-18T18:25:46.842Z"
   },
   {
    "duration": 16,
    "start_time": "2022-09-18T18:25:46.961Z"
   },
   {
    "duration": 13,
    "start_time": "2022-09-18T18:25:46.979Z"
   },
   {
    "duration": 11,
    "start_time": "2022-09-18T18:25:46.994Z"
   },
   {
    "duration": 7,
    "start_time": "2022-09-18T18:25:47.026Z"
   },
   {
    "duration": 13,
    "start_time": "2022-09-18T18:25:47.036Z"
   },
   {
    "duration": 5,
    "start_time": "2022-09-18T18:25:47.051Z"
   },
   {
    "duration": 7,
    "start_time": "2022-09-18T18:25:47.058Z"
   },
   {
    "duration": 13,
    "start_time": "2022-09-18T18:25:47.067Z"
   },
   {
    "duration": 57,
    "start_time": "2022-09-18T18:25:47.083Z"
   },
   {
    "duration": 24,
    "start_time": "2022-09-18T18:25:47.142Z"
   },
   {
    "duration": 18,
    "start_time": "2022-09-18T18:25:47.168Z"
   },
   {
    "duration": 351,
    "start_time": "2022-09-18T18:25:47.187Z"
   },
   {
    "duration": 17,
    "start_time": "2022-09-18T18:25:47.541Z"
   },
   {
    "duration": 133,
    "start_time": "2022-09-18T18:25:47.560Z"
   },
   {
    "duration": 43,
    "start_time": "2022-09-18T18:25:47.695Z"
   },
   {
    "duration": 304,
    "start_time": "2022-09-18T18:25:47.740Z"
   },
   {
    "duration": 17,
    "start_time": "2022-09-18T18:25:48.046Z"
   },
   {
    "duration": 552,
    "start_time": "2022-09-18T18:25:48.065Z"
   },
   {
    "duration": 27,
    "start_time": "2022-09-18T18:25:48.621Z"
   },
   {
    "duration": 288,
    "start_time": "2022-09-18T18:25:48.650Z"
   },
   {
    "duration": 65,
    "start_time": "2022-09-18T18:25:48.940Z"
   },
   {
    "duration": 981,
    "start_time": "2022-09-18T18:25:49.030Z"
   },
   {
    "duration": 25,
    "start_time": "2022-09-18T18:25:50.014Z"
   },
   {
    "duration": 312,
    "start_time": "2022-09-18T18:25:50.040Z"
   },
   {
    "duration": 19,
    "start_time": "2022-09-18T18:25:50.354Z"
   },
   {
    "duration": 729,
    "start_time": "2022-09-18T18:25:50.375Z"
   },
   {
    "duration": 29,
    "start_time": "2022-09-18T18:25:51.106Z"
   },
   {
    "duration": 838,
    "start_time": "2022-09-18T18:25:51.137Z"
   },
   {
    "duration": 837,
    "start_time": "2022-09-18T18:31:06.458Z"
   },
   {
    "duration": 847,
    "start_time": "2022-09-18T18:32:13.558Z"
   },
   {
    "duration": 4,
    "start_time": "2022-09-18T18:32:23.899Z"
   },
   {
    "duration": 94,
    "start_time": "2022-09-18T18:32:23.907Z"
   },
   {
    "duration": 13,
    "start_time": "2022-09-18T18:32:24.004Z"
   },
   {
    "duration": 8,
    "start_time": "2022-09-18T18:32:24.019Z"
   },
   {
    "duration": 8,
    "start_time": "2022-09-18T18:32:24.029Z"
   },
   {
    "duration": 8,
    "start_time": "2022-09-18T18:32:24.039Z"
   },
   {
    "duration": 18,
    "start_time": "2022-09-18T18:32:24.049Z"
   },
   {
    "duration": 5,
    "start_time": "2022-09-18T18:32:24.068Z"
   },
   {
    "duration": 8,
    "start_time": "2022-09-18T18:32:24.075Z"
   },
   {
    "duration": 13,
    "start_time": "2022-09-18T18:32:24.084Z"
   },
   {
    "duration": 55,
    "start_time": "2022-09-18T18:32:24.099Z"
   },
   {
    "duration": 18,
    "start_time": "2022-09-18T18:32:24.157Z"
   },
   {
    "duration": 18,
    "start_time": "2022-09-18T18:32:24.177Z"
   },
   {
    "duration": 312,
    "start_time": "2022-09-18T18:32:24.220Z"
   },
   {
    "duration": 18,
    "start_time": "2022-09-18T18:32:24.534Z"
   },
   {
    "duration": 129,
    "start_time": "2022-09-18T18:32:24.554Z"
   },
   {
    "duration": 22,
    "start_time": "2022-09-18T18:32:24.685Z"
   },
   {
    "duration": 295,
    "start_time": "2022-09-18T18:32:24.709Z"
   },
   {
    "duration": 19,
    "start_time": "2022-09-18T18:32:25.006Z"
   },
   {
    "duration": 470,
    "start_time": "2022-09-18T18:32:25.027Z"
   },
   {
    "duration": 25,
    "start_time": "2022-09-18T18:32:25.499Z"
   },
   {
    "duration": 240,
    "start_time": "2022-09-18T18:32:25.525Z"
   },
   {
    "duration": 59,
    "start_time": "2022-09-18T18:32:25.767Z"
   },
   {
    "duration": 748,
    "start_time": "2022-09-18T18:32:25.831Z"
   },
   {
    "duration": 0,
    "start_time": "2022-09-18T18:32:26.582Z"
   },
   {
    "duration": 0,
    "start_time": "2022-09-18T18:32:26.583Z"
   },
   {
    "duration": 0,
    "start_time": "2022-09-18T18:32:26.585Z"
   },
   {
    "duration": 0,
    "start_time": "2022-09-18T18:32:26.586Z"
   },
   {
    "duration": 0,
    "start_time": "2022-09-18T18:32:26.588Z"
   },
   {
    "duration": 0,
    "start_time": "2022-09-18T18:32:26.590Z"
   },
   {
    "duration": 829,
    "start_time": "2022-09-18T18:32:53.794Z"
   },
   {
    "duration": 1383,
    "start_time": "2022-09-18T18:33:15.586Z"
   },
   {
    "duration": 3,
    "start_time": "2022-09-18T18:33:19.557Z"
   },
   {
    "duration": 93,
    "start_time": "2022-09-18T18:33:19.594Z"
   },
   {
    "duration": 15,
    "start_time": "2022-09-18T18:33:19.690Z"
   },
   {
    "duration": 20,
    "start_time": "2022-09-18T18:33:19.706Z"
   },
   {
    "duration": 13,
    "start_time": "2022-09-18T18:33:19.727Z"
   },
   {
    "duration": 13,
    "start_time": "2022-09-18T18:33:19.743Z"
   },
   {
    "duration": 19,
    "start_time": "2022-09-18T18:33:19.758Z"
   },
   {
    "duration": 17,
    "start_time": "2022-09-18T18:33:19.779Z"
   },
   {
    "duration": 7,
    "start_time": "2022-09-18T18:33:19.798Z"
   },
   {
    "duration": 15,
    "start_time": "2022-09-18T18:33:19.807Z"
   },
   {
    "duration": 40,
    "start_time": "2022-09-18T18:33:19.824Z"
   },
   {
    "duration": 17,
    "start_time": "2022-09-18T18:33:19.866Z"
   },
   {
    "duration": 37,
    "start_time": "2022-09-18T18:33:19.885Z"
   },
   {
    "duration": 309,
    "start_time": "2022-09-18T18:33:19.924Z"
   },
   {
    "duration": 17,
    "start_time": "2022-09-18T18:33:20.236Z"
   },
   {
    "duration": 246,
    "start_time": "2022-09-18T18:33:20.254Z"
   },
   {
    "duration": 32,
    "start_time": "2022-09-18T18:33:20.502Z"
   },
   {
    "duration": 288,
    "start_time": "2022-09-18T18:33:20.535Z"
   },
   {
    "duration": 12,
    "start_time": "2022-09-18T18:33:20.825Z"
   },
   {
    "duration": 476,
    "start_time": "2022-09-18T18:33:20.839Z"
   },
   {
    "duration": 19,
    "start_time": "2022-09-18T18:33:21.320Z"
   },
   {
    "duration": 268,
    "start_time": "2022-09-18T18:33:21.341Z"
   },
   {
    "duration": 50,
    "start_time": "2022-09-18T18:33:21.611Z"
   },
   {
    "duration": 691,
    "start_time": "2022-09-18T18:33:21.662Z"
   },
   {
    "duration": 0,
    "start_time": "2022-09-18T18:33:22.354Z"
   },
   {
    "duration": 0,
    "start_time": "2022-09-18T18:33:22.356Z"
   },
   {
    "duration": 0,
    "start_time": "2022-09-18T18:33:22.357Z"
   },
   {
    "duration": 0,
    "start_time": "2022-09-18T18:33:22.358Z"
   },
   {
    "duration": 0,
    "start_time": "2022-09-18T18:33:22.360Z"
   },
   {
    "duration": 0,
    "start_time": "2022-09-18T18:33:22.361Z"
   },
   {
    "duration": 800,
    "start_time": "2022-09-18T18:33:35.792Z"
   },
   {
    "duration": 3,
    "start_time": "2022-09-18T18:33:53.081Z"
   },
   {
    "duration": 91,
    "start_time": "2022-09-18T18:33:53.096Z"
   },
   {
    "duration": 14,
    "start_time": "2022-09-18T18:33:53.189Z"
   },
   {
    "duration": 10,
    "start_time": "2022-09-18T18:33:53.205Z"
   },
   {
    "duration": 10,
    "start_time": "2022-09-18T18:33:53.218Z"
   },
   {
    "duration": 7,
    "start_time": "2022-09-18T18:33:53.231Z"
   },
   {
    "duration": 14,
    "start_time": "2022-09-18T18:33:53.240Z"
   },
   {
    "duration": 8,
    "start_time": "2022-09-18T18:33:53.256Z"
   },
   {
    "duration": 6,
    "start_time": "2022-09-18T18:33:53.266Z"
   },
   {
    "duration": 15,
    "start_time": "2022-09-18T18:33:53.274Z"
   },
   {
    "duration": 46,
    "start_time": "2022-09-18T18:33:53.291Z"
   },
   {
    "duration": 17,
    "start_time": "2022-09-18T18:33:53.338Z"
   },
   {
    "duration": 17,
    "start_time": "2022-09-18T18:33:53.357Z"
   },
   {
    "duration": 332,
    "start_time": "2022-09-18T18:33:53.376Z"
   },
   {
    "duration": 22,
    "start_time": "2022-09-18T18:33:53.710Z"
   },
   {
    "duration": 128,
    "start_time": "2022-09-18T18:33:53.734Z"
   },
   {
    "duration": 21,
    "start_time": "2022-09-18T18:33:53.864Z"
   },
   {
    "duration": 286,
    "start_time": "2022-09-18T18:33:53.887Z"
   },
   {
    "duration": 12,
    "start_time": "2022-09-18T18:33:54.176Z"
   },
   {
    "duration": 628,
    "start_time": "2022-09-18T18:33:54.189Z"
   },
   {
    "duration": 20,
    "start_time": "2022-09-18T18:33:54.819Z"
   },
   {
    "duration": 249,
    "start_time": "2022-09-18T18:33:54.843Z"
   },
   {
    "duration": 50,
    "start_time": "2022-09-18T18:33:55.094Z"
   },
   {
    "duration": 888,
    "start_time": "2022-09-18T18:33:55.145Z"
   },
   {
    "duration": 18,
    "start_time": "2022-09-18T18:33:56.035Z"
   },
   {
    "duration": 312,
    "start_time": "2022-09-18T18:33:56.055Z"
   },
   {
    "duration": 17,
    "start_time": "2022-09-18T18:33:56.369Z"
   },
   {
    "duration": 0,
    "start_time": "2022-09-18T18:33:56.388Z"
   },
   {
    "duration": 0,
    "start_time": "2022-09-18T18:33:56.389Z"
   },
   {
    "duration": 0,
    "start_time": "2022-09-18T18:33:56.391Z"
   },
   {
    "duration": 1070,
    "start_time": "2022-09-18T18:40:07.848Z"
   },
   {
    "duration": 802,
    "start_time": "2022-09-18T18:41:25.734Z"
   },
   {
    "duration": 732,
    "start_time": "2022-09-18T18:41:32.138Z"
   },
   {
    "duration": 13,
    "start_time": "2022-09-18T18:52:13.508Z"
   },
   {
    "duration": 4,
    "start_time": "2022-09-18T18:54:00.480Z"
   },
   {
    "duration": 104,
    "start_time": "2022-09-18T18:54:00.497Z"
   },
   {
    "duration": 15,
    "start_time": "2022-09-18T18:54:00.603Z"
   },
   {
    "duration": 26,
    "start_time": "2022-09-18T18:54:00.620Z"
   },
   {
    "duration": 17,
    "start_time": "2022-09-18T18:54:00.648Z"
   },
   {
    "duration": 39,
    "start_time": "2022-09-18T18:54:00.667Z"
   },
   {
    "duration": 31,
    "start_time": "2022-09-18T18:54:00.708Z"
   },
   {
    "duration": 34,
    "start_time": "2022-09-18T18:54:00.741Z"
   },
   {
    "duration": 23,
    "start_time": "2022-09-18T18:54:00.777Z"
   },
   {
    "duration": 42,
    "start_time": "2022-09-18T18:54:00.802Z"
   },
   {
    "duration": 75,
    "start_time": "2022-09-18T18:54:00.846Z"
   },
   {
    "duration": 23,
    "start_time": "2022-09-18T18:54:00.924Z"
   },
   {
    "duration": 20,
    "start_time": "2022-09-18T18:54:00.949Z"
   },
   {
    "duration": 336,
    "start_time": "2022-09-18T18:54:00.972Z"
   },
   {
    "duration": 22,
    "start_time": "2022-09-18T18:54:01.313Z"
   },
   {
    "duration": 133,
    "start_time": "2022-09-18T18:54:01.337Z"
   },
   {
    "duration": 23,
    "start_time": "2022-09-18T18:54:01.473Z"
   },
   {
    "duration": 310,
    "start_time": "2022-09-18T18:54:01.498Z"
   },
   {
    "duration": 28,
    "start_time": "2022-09-18T18:54:01.811Z"
   },
   {
    "duration": 571,
    "start_time": "2022-09-18T18:54:01.841Z"
   },
   {
    "duration": 28,
    "start_time": "2022-09-18T18:54:02.414Z"
   },
   {
    "duration": 269,
    "start_time": "2022-09-18T18:54:02.444Z"
   },
   {
    "duration": 207,
    "start_time": "2022-09-18T18:54:02.715Z"
   },
   {
    "duration": 21,
    "start_time": "2022-09-18T18:54:02.924Z"
   },
   {
    "duration": 346,
    "start_time": "2022-09-18T18:54:02.947Z"
   },
   {
    "duration": 1081,
    "start_time": "2022-09-18T18:54:03.296Z"
   },
   {
    "duration": 16,
    "start_time": "2022-09-18T18:54:04.380Z"
   },
   {
    "duration": 0,
    "start_time": "2022-09-18T18:54:04.399Z"
   },
   {
    "duration": 0,
    "start_time": "2022-09-18T18:54:04.400Z"
   },
   {
    "duration": 0,
    "start_time": "2022-09-18T18:54:04.402Z"
   },
   {
    "duration": 0,
    "start_time": "2022-09-18T18:54:04.404Z"
   },
   {
    "duration": 4,
    "start_time": "2022-09-18T19:08:07.738Z"
   },
   {
    "duration": 119,
    "start_time": "2022-09-18T19:08:07.751Z"
   },
   {
    "duration": 18,
    "start_time": "2022-09-18T19:08:07.873Z"
   },
   {
    "duration": 26,
    "start_time": "2022-09-18T19:08:07.894Z"
   },
   {
    "duration": 7,
    "start_time": "2022-09-18T19:08:07.923Z"
   },
   {
    "duration": 6,
    "start_time": "2022-09-18T19:08:07.931Z"
   },
   {
    "duration": 14,
    "start_time": "2022-09-18T19:08:07.939Z"
   },
   {
    "duration": 7,
    "start_time": "2022-09-18T19:08:07.955Z"
   },
   {
    "duration": 10,
    "start_time": "2022-09-18T19:08:07.963Z"
   },
   {
    "duration": 11,
    "start_time": "2022-09-18T19:08:07.975Z"
   },
   {
    "duration": 32,
    "start_time": "2022-09-18T19:08:08.023Z"
   },
   {
    "duration": 17,
    "start_time": "2022-09-18T19:08:08.057Z"
   },
   {
    "duration": 46,
    "start_time": "2022-09-18T19:08:08.076Z"
   },
   {
    "duration": 339,
    "start_time": "2022-09-18T19:08:08.124Z"
   },
   {
    "duration": 18,
    "start_time": "2022-09-18T19:08:08.465Z"
   },
   {
    "duration": 133,
    "start_time": "2022-09-18T19:08:08.484Z"
   },
   {
    "duration": 21,
    "start_time": "2022-09-18T19:08:08.620Z"
   },
   {
    "duration": 345,
    "start_time": "2022-09-18T19:08:08.643Z"
   },
   {
    "duration": 30,
    "start_time": "2022-09-18T19:08:08.990Z"
   },
   {
    "duration": 571,
    "start_time": "2022-09-18T19:08:09.023Z"
   },
   {
    "duration": 27,
    "start_time": "2022-09-18T19:08:09.597Z"
   },
   {
    "duration": 272,
    "start_time": "2022-09-18T19:08:09.627Z"
   },
   {
    "duration": 51,
    "start_time": "2022-09-18T19:08:09.901Z"
   },
   {
    "duration": 19,
    "start_time": "2022-09-18T19:08:09.956Z"
   },
   {
    "duration": 441,
    "start_time": "2022-09-18T19:08:09.977Z"
   },
   {
    "duration": 1323,
    "start_time": "2022-09-18T19:08:10.420Z"
   },
   {
    "duration": 0,
    "start_time": "2022-09-18T19:08:11.746Z"
   },
   {
    "duration": 0,
    "start_time": "2022-09-18T19:08:11.747Z"
   },
   {
    "duration": 0,
    "start_time": "2022-09-18T19:08:11.749Z"
   },
   {
    "duration": 0,
    "start_time": "2022-09-18T19:08:11.750Z"
   },
   {
    "duration": 0,
    "start_time": "2022-09-18T19:08:11.752Z"
   },
   {
    "duration": 0,
    "start_time": "2022-09-18T19:08:11.753Z"
   },
   {
    "duration": 4,
    "start_time": "2022-09-18T19:08:39.597Z"
   },
   {
    "duration": 92,
    "start_time": "2022-09-18T19:08:39.603Z"
   },
   {
    "duration": 13,
    "start_time": "2022-09-18T19:08:39.697Z"
   },
   {
    "duration": 16,
    "start_time": "2022-09-18T19:08:39.712Z"
   },
   {
    "duration": 8,
    "start_time": "2022-09-18T19:08:39.730Z"
   },
   {
    "duration": 4,
    "start_time": "2022-09-18T19:08:39.740Z"
   },
   {
    "duration": 13,
    "start_time": "2022-09-18T19:08:39.746Z"
   },
   {
    "duration": 6,
    "start_time": "2022-09-18T19:08:39.761Z"
   },
   {
    "duration": 6,
    "start_time": "2022-09-18T19:08:39.769Z"
   },
   {
    "duration": 11,
    "start_time": "2022-09-18T19:08:39.776Z"
   },
   {
    "duration": 60,
    "start_time": "2022-09-18T19:08:39.790Z"
   },
   {
    "duration": 16,
    "start_time": "2022-09-18T19:08:39.852Z"
   },
   {
    "duration": 17,
    "start_time": "2022-09-18T19:08:39.870Z"
   },
   {
    "duration": 345,
    "start_time": "2022-09-18T19:08:39.889Z"
   },
   {
    "duration": 17,
    "start_time": "2022-09-18T19:08:40.237Z"
   },
   {
    "duration": 124,
    "start_time": "2022-09-18T19:08:40.256Z"
   },
   {
    "duration": 21,
    "start_time": "2022-09-18T19:08:40.382Z"
   },
   {
    "duration": 294,
    "start_time": "2022-09-18T19:08:40.419Z"
   },
   {
    "duration": 13,
    "start_time": "2022-09-18T19:08:40.720Z"
   },
   {
    "duration": 474,
    "start_time": "2022-09-18T19:08:40.735Z"
   },
   {
    "duration": 24,
    "start_time": "2022-09-18T19:08:41.212Z"
   },
   {
    "duration": 251,
    "start_time": "2022-09-18T19:08:41.239Z"
   },
   {
    "duration": 55,
    "start_time": "2022-09-18T19:08:41.491Z"
   },
   {
    "duration": 19,
    "start_time": "2022-09-18T19:08:41.548Z"
   },
   {
    "duration": 328,
    "start_time": "2022-09-18T19:08:41.569Z"
   },
   {
    "duration": 22,
    "start_time": "2022-09-18T19:08:41.899Z"
   },
   {
    "duration": 899,
    "start_time": "2022-09-18T19:08:41.923Z"
   },
   {
    "duration": 10,
    "start_time": "2022-09-18T19:08:42.824Z"
   },
   {
    "duration": 0,
    "start_time": "2022-09-18T19:08:42.836Z"
   },
   {
    "duration": 0,
    "start_time": "2022-09-18T19:08:42.837Z"
   },
   {
    "duration": 0,
    "start_time": "2022-09-18T19:08:42.839Z"
   },
   {
    "duration": 0,
    "start_time": "2022-09-18T19:08:42.840Z"
   },
   {
    "duration": 3,
    "start_time": "2022-09-18T19:09:15.538Z"
   },
   {
    "duration": 117,
    "start_time": "2022-09-18T19:09:15.553Z"
   },
   {
    "duration": 15,
    "start_time": "2022-09-18T19:09:15.672Z"
   },
   {
    "duration": 19,
    "start_time": "2022-09-18T19:09:15.689Z"
   },
   {
    "duration": 7,
    "start_time": "2022-09-18T19:09:15.722Z"
   },
   {
    "duration": 7,
    "start_time": "2022-09-18T19:09:15.731Z"
   },
   {
    "duration": 19,
    "start_time": "2022-09-18T19:09:15.741Z"
   },
   {
    "duration": 7,
    "start_time": "2022-09-18T19:09:15.762Z"
   },
   {
    "duration": 5,
    "start_time": "2022-09-18T19:09:15.771Z"
   },
   {
    "duration": 10,
    "start_time": "2022-09-18T19:09:15.778Z"
   },
   {
    "duration": 42,
    "start_time": "2022-09-18T19:09:15.823Z"
   },
   {
    "duration": 16,
    "start_time": "2022-09-18T19:09:15.867Z"
   },
   {
    "duration": 45,
    "start_time": "2022-09-18T19:09:15.885Z"
   },
   {
    "duration": 316,
    "start_time": "2022-09-18T19:09:15.932Z"
   },
   {
    "duration": 17,
    "start_time": "2022-09-18T19:09:16.250Z"
   },
   {
    "duration": 258,
    "start_time": "2022-09-18T19:09:16.269Z"
   },
   {
    "duration": 23,
    "start_time": "2022-09-18T19:09:16.529Z"
   },
   {
    "duration": 314,
    "start_time": "2022-09-18T19:09:16.555Z"
   },
   {
    "duration": 16,
    "start_time": "2022-09-18T19:09:16.871Z"
   },
   {
    "duration": 531,
    "start_time": "2022-09-18T19:09:16.889Z"
   },
   {
    "duration": 24,
    "start_time": "2022-09-18T19:09:17.423Z"
   },
   {
    "duration": 252,
    "start_time": "2022-09-18T19:09:17.450Z"
   },
   {
    "duration": 48,
    "start_time": "2022-09-18T19:09:17.704Z"
   },
   {
    "duration": 17,
    "start_time": "2022-09-18T19:09:17.754Z"
   },
   {
    "duration": 330,
    "start_time": "2022-09-18T19:09:17.772Z"
   },
   {
    "duration": 20,
    "start_time": "2022-09-18T19:09:18.104Z"
   },
   {
    "duration": 816,
    "start_time": "2022-09-18T19:09:18.126Z"
   },
   {
    "duration": 14,
    "start_time": "2022-09-18T19:09:18.945Z"
   },
   {
    "duration": 0,
    "start_time": "2022-09-18T19:09:18.961Z"
   },
   {
    "duration": 0,
    "start_time": "2022-09-18T19:09:18.962Z"
   },
   {
    "duration": 0,
    "start_time": "2022-09-18T19:09:18.964Z"
   },
   {
    "duration": 0,
    "start_time": "2022-09-18T19:09:18.966Z"
   },
   {
    "duration": 10,
    "start_time": "2022-09-18T19:10:56.265Z"
   },
   {
    "duration": 21,
    "start_time": "2022-09-18T19:12:12.358Z"
   },
   {
    "duration": 311,
    "start_time": "2022-09-18T19:16:31.863Z"
   },
   {
    "duration": 10,
    "start_time": "2022-09-18T19:16:36.115Z"
   },
   {
    "duration": 1236,
    "start_time": "2022-09-18T19:21:25.001Z"
   },
   {
    "duration": 30,
    "start_time": "2022-09-18T19:24:17.631Z"
   },
   {
    "duration": 16,
    "start_time": "2022-09-18T19:28:16.665Z"
   },
   {
    "duration": 4,
    "start_time": "2022-09-18T19:28:32.897Z"
   },
   {
    "duration": 87,
    "start_time": "2022-09-18T19:28:32.903Z"
   },
   {
    "duration": 15,
    "start_time": "2022-09-18T19:28:32.992Z"
   },
   {
    "duration": 11,
    "start_time": "2022-09-18T19:28:33.009Z"
   },
   {
    "duration": 11,
    "start_time": "2022-09-18T19:28:33.022Z"
   },
   {
    "duration": 5,
    "start_time": "2022-09-18T19:28:33.035Z"
   },
   {
    "duration": 13,
    "start_time": "2022-09-18T19:28:33.042Z"
   },
   {
    "duration": 9,
    "start_time": "2022-09-18T19:28:33.057Z"
   },
   {
    "duration": 5,
    "start_time": "2022-09-18T19:28:33.068Z"
   },
   {
    "duration": 10,
    "start_time": "2022-09-18T19:28:33.075Z"
   },
   {
    "duration": 56,
    "start_time": "2022-09-18T19:28:33.086Z"
   },
   {
    "duration": 16,
    "start_time": "2022-09-18T19:28:33.144Z"
   },
   {
    "duration": 17,
    "start_time": "2022-09-18T19:28:33.162Z"
   },
   {
    "duration": 340,
    "start_time": "2022-09-18T19:28:33.180Z"
   },
   {
    "duration": 17,
    "start_time": "2022-09-18T19:28:33.522Z"
   },
   {
    "duration": 137,
    "start_time": "2022-09-18T19:28:33.541Z"
   },
   {
    "duration": 22,
    "start_time": "2022-09-18T19:28:33.680Z"
   },
   {
    "duration": 444,
    "start_time": "2022-09-18T19:28:33.704Z"
   },
   {
    "duration": 12,
    "start_time": "2022-09-18T19:28:34.151Z"
   },
   {
    "duration": 546,
    "start_time": "2022-09-18T19:28:34.165Z"
   },
   {
    "duration": 22,
    "start_time": "2022-09-18T19:28:34.714Z"
   },
   {
    "duration": 261,
    "start_time": "2022-09-18T19:28:34.738Z"
   },
   {
    "duration": 49,
    "start_time": "2022-09-18T19:28:35.001Z"
   },
   {
    "duration": 17,
    "start_time": "2022-09-18T19:28:35.052Z"
   },
   {
    "duration": 326,
    "start_time": "2022-09-18T19:28:35.071Z"
   },
   {
    "duration": 1204,
    "start_time": "2022-09-18T19:28:35.399Z"
   },
   {
    "duration": 29,
    "start_time": "2022-09-18T19:28:36.605Z"
   },
   {
    "duration": 21,
    "start_time": "2022-09-18T19:28:36.636Z"
   },
   {
    "duration": 0,
    "start_time": "2022-09-18T19:28:36.659Z"
   },
   {
    "duration": 0,
    "start_time": "2022-09-18T19:28:36.660Z"
   },
   {
    "duration": 0,
    "start_time": "2022-09-18T19:28:36.662Z"
   },
   {
    "duration": 4,
    "start_time": "2022-09-18T19:30:04.916Z"
   },
   {
    "duration": 117,
    "start_time": "2022-09-18T19:30:04.924Z"
   },
   {
    "duration": 14,
    "start_time": "2022-09-18T19:30:05.043Z"
   },
   {
    "duration": 13,
    "start_time": "2022-09-18T19:30:05.059Z"
   },
   {
    "duration": 8,
    "start_time": "2022-09-18T19:30:05.074Z"
   },
   {
    "duration": 7,
    "start_time": "2022-09-18T19:30:05.083Z"
   },
   {
    "duration": 30,
    "start_time": "2022-09-18T19:30:05.092Z"
   },
   {
    "duration": 10,
    "start_time": "2022-09-18T19:30:05.126Z"
   },
   {
    "duration": 6,
    "start_time": "2022-09-18T19:30:05.138Z"
   },
   {
    "duration": 12,
    "start_time": "2022-09-18T19:30:05.145Z"
   },
   {
    "duration": 30,
    "start_time": "2022-09-18T19:30:05.159Z"
   },
   {
    "duration": 38,
    "start_time": "2022-09-18T19:30:05.191Z"
   },
   {
    "duration": 17,
    "start_time": "2022-09-18T19:30:05.231Z"
   },
   {
    "duration": 325,
    "start_time": "2022-09-18T19:30:05.249Z"
   },
   {
    "duration": 18,
    "start_time": "2022-09-18T19:30:05.576Z"
   },
   {
    "duration": 130,
    "start_time": "2022-09-18T19:30:05.596Z"
   },
   {
    "duration": 21,
    "start_time": "2022-09-18T19:30:05.728Z"
   },
   {
    "duration": 315,
    "start_time": "2022-09-18T19:30:05.751Z"
   },
   {
    "duration": 12,
    "start_time": "2022-09-18T19:30:06.068Z"
   },
   {
    "duration": 615,
    "start_time": "2022-09-18T19:30:06.082Z"
   },
   {
    "duration": 28,
    "start_time": "2022-09-18T19:30:06.699Z"
   },
   {
    "duration": 259,
    "start_time": "2022-09-18T19:30:06.728Z"
   },
   {
    "duration": 49,
    "start_time": "2022-09-18T19:30:06.989Z"
   },
   {
    "duration": 19,
    "start_time": "2022-09-18T19:30:07.040Z"
   },
   {
    "duration": 316,
    "start_time": "2022-09-18T19:30:07.060Z"
   },
   {
    "duration": 927,
    "start_time": "2022-09-18T19:30:07.379Z"
   },
   {
    "duration": 30,
    "start_time": "2022-09-18T19:30:08.308Z"
   },
   {
    "duration": 18,
    "start_time": "2022-09-18T19:30:08.340Z"
   },
   {
    "duration": 16,
    "start_time": "2022-09-18T19:30:08.359Z"
   },
   {
    "duration": 747,
    "start_time": "2022-09-18T19:30:08.377Z"
   },
   {
    "duration": 1476,
    "start_time": "2022-09-19T02:46:57.645Z"
   },
   {
    "duration": 302,
    "start_time": "2022-09-19T02:46:59.123Z"
   },
   {
    "duration": 15,
    "start_time": "2022-09-19T02:46:59.428Z"
   },
   {
    "duration": 21,
    "start_time": "2022-09-19T02:46:59.445Z"
   },
   {
    "duration": 27,
    "start_time": "2022-09-19T02:46:59.468Z"
   },
   {
    "duration": 7,
    "start_time": "2022-09-19T02:46:59.497Z"
   },
   {
    "duration": 14,
    "start_time": "2022-09-19T02:46:59.506Z"
   },
   {
    "duration": 8,
    "start_time": "2022-09-19T02:46:59.522Z"
   },
   {
    "duration": 5,
    "start_time": "2022-09-19T02:46:59.532Z"
   },
   {
    "duration": 9,
    "start_time": "2022-09-19T02:46:59.540Z"
   },
   {
    "duration": 60,
    "start_time": "2022-09-19T02:46:59.550Z"
   },
   {
    "duration": 15,
    "start_time": "2022-09-19T02:46:59.612Z"
   },
   {
    "duration": 19,
    "start_time": "2022-09-19T02:46:59.629Z"
   },
   {
    "duration": 326,
    "start_time": "2022-09-19T02:46:59.650Z"
   },
   {
    "duration": 21,
    "start_time": "2022-09-19T02:46:59.980Z"
   },
   {
    "duration": 135,
    "start_time": "2022-09-19T02:47:00.005Z"
   },
   {
    "duration": 39,
    "start_time": "2022-09-19T02:47:00.142Z"
   },
   {
    "duration": 288,
    "start_time": "2022-09-19T02:47:00.183Z"
   },
   {
    "duration": 15,
    "start_time": "2022-09-19T02:47:00.472Z"
   },
   {
    "duration": 502,
    "start_time": "2022-09-19T02:47:00.489Z"
   },
   {
    "duration": 19,
    "start_time": "2022-09-19T02:47:00.994Z"
   },
   {
    "duration": 260,
    "start_time": "2022-09-19T02:47:01.015Z"
   },
   {
    "duration": 131,
    "start_time": "2022-09-19T02:47:01.276Z"
   },
   {
    "duration": 93,
    "start_time": "2022-09-19T02:47:01.409Z"
   },
   {
    "duration": 397,
    "start_time": "2022-09-19T02:47:01.504Z"
   },
   {
    "duration": 1388,
    "start_time": "2022-09-19T02:47:01.903Z"
   },
   {
    "duration": 27,
    "start_time": "2022-09-19T02:47:03.293Z"
   },
   {
    "duration": 15,
    "start_time": "2022-09-19T02:47:03.323Z"
   },
   {
    "duration": 133,
    "start_time": "2022-09-19T02:47:03.340Z"
   },
   {
    "duration": 0,
    "start_time": "2022-09-19T02:47:03.479Z"
   },
   {
    "duration": 24,
    "start_time": "2022-09-19T02:50:07.732Z"
   },
   {
    "duration": 4,
    "start_time": "2022-09-19T03:04:11.707Z"
   },
   {
    "duration": 109,
    "start_time": "2022-09-19T03:04:11.713Z"
   },
   {
    "duration": 18,
    "start_time": "2022-09-19T03:04:11.824Z"
   },
   {
    "duration": 17,
    "start_time": "2022-09-19T03:04:11.845Z"
   },
   {
    "duration": 17,
    "start_time": "2022-09-19T03:04:11.864Z"
   },
   {
    "duration": 12,
    "start_time": "2022-09-19T03:04:11.884Z"
   },
   {
    "duration": 30,
    "start_time": "2022-09-19T03:04:11.898Z"
   },
   {
    "duration": 24,
    "start_time": "2022-09-19T03:04:11.930Z"
   },
   {
    "duration": 11,
    "start_time": "2022-09-19T03:04:11.956Z"
   },
   {
    "duration": 17,
    "start_time": "2022-09-19T03:04:11.969Z"
   },
   {
    "duration": 30,
    "start_time": "2022-09-19T03:04:11.989Z"
   },
   {
    "duration": 35,
    "start_time": "2022-09-19T03:04:12.021Z"
   },
   {
    "duration": 20,
    "start_time": "2022-09-19T03:04:12.058Z"
   },
   {
    "duration": 334,
    "start_time": "2022-09-19T03:04:12.081Z"
   },
   {
    "duration": 18,
    "start_time": "2022-09-19T03:04:12.418Z"
   },
   {
    "duration": 121,
    "start_time": "2022-09-19T03:04:12.453Z"
   },
   {
    "duration": 20,
    "start_time": "2022-09-19T03:04:12.576Z"
   },
   {
    "duration": 292,
    "start_time": "2022-09-19T03:04:12.598Z"
   },
   {
    "duration": 2183,
    "start_time": "2022-09-19T03:04:12.892Z"
   },
   {
    "duration": 0,
    "start_time": "2022-09-19T03:04:15.077Z"
   },
   {
    "duration": 0,
    "start_time": "2022-09-19T03:04:15.078Z"
   },
   {
    "duration": 0,
    "start_time": "2022-09-19T03:04:15.079Z"
   },
   {
    "duration": 0,
    "start_time": "2022-09-19T03:04:15.080Z"
   },
   {
    "duration": 0,
    "start_time": "2022-09-19T03:04:15.081Z"
   },
   {
    "duration": 0,
    "start_time": "2022-09-19T03:04:15.082Z"
   },
   {
    "duration": 0,
    "start_time": "2022-09-19T03:04:15.083Z"
   },
   {
    "duration": 0,
    "start_time": "2022-09-19T03:04:15.085Z"
   },
   {
    "duration": 0,
    "start_time": "2022-09-19T03:04:15.087Z"
   },
   {
    "duration": 0,
    "start_time": "2022-09-19T03:04:15.088Z"
   },
   {
    "duration": 0,
    "start_time": "2022-09-19T03:04:15.090Z"
   },
   {
    "duration": 0,
    "start_time": "2022-09-19T03:04:15.092Z"
   },
   {
    "duration": 11,
    "start_time": "2022-09-19T03:05:28.395Z"
   },
   {
    "duration": 3,
    "start_time": "2022-09-19T03:06:37.245Z"
   },
   {
    "duration": 277,
    "start_time": "2022-09-19T03:06:37.250Z"
   },
   {
    "duration": 14,
    "start_time": "2022-09-19T03:06:37.529Z"
   },
   {
    "duration": 23,
    "start_time": "2022-09-19T03:06:37.545Z"
   },
   {
    "duration": 13,
    "start_time": "2022-09-19T03:06:37.570Z"
   },
   {
    "duration": 17,
    "start_time": "2022-09-19T03:06:37.584Z"
   },
   {
    "duration": 19,
    "start_time": "2022-09-19T03:06:37.603Z"
   },
   {
    "duration": 13,
    "start_time": "2022-09-19T03:06:37.624Z"
   },
   {
    "duration": 10,
    "start_time": "2022-09-19T03:06:37.638Z"
   },
   {
    "duration": 10,
    "start_time": "2022-09-19T03:06:37.649Z"
   },
   {
    "duration": 33,
    "start_time": "2022-09-19T03:06:37.661Z"
   },
   {
    "duration": 16,
    "start_time": "2022-09-19T03:06:37.696Z"
   },
   {
    "duration": 41,
    "start_time": "2022-09-19T03:06:37.714Z"
   },
   {
    "duration": 358,
    "start_time": "2022-09-19T03:06:37.759Z"
   },
   {
    "duration": 17,
    "start_time": "2022-09-19T03:06:38.119Z"
   },
   {
    "duration": 132,
    "start_time": "2022-09-19T03:06:38.138Z"
   },
   {
    "duration": 26,
    "start_time": "2022-09-19T03:06:38.272Z"
   },
   {
    "duration": 0,
    "start_time": "2022-09-19T03:06:38.299Z"
   },
   {
    "duration": 0,
    "start_time": "2022-09-19T03:06:38.300Z"
   },
   {
    "duration": 0,
    "start_time": "2022-09-19T03:06:38.302Z"
   },
   {
    "duration": 0,
    "start_time": "2022-09-19T03:06:38.303Z"
   },
   {
    "duration": 0,
    "start_time": "2022-09-19T03:06:38.304Z"
   },
   {
    "duration": 0,
    "start_time": "2022-09-19T03:06:38.305Z"
   },
   {
    "duration": 0,
    "start_time": "2022-09-19T03:06:38.306Z"
   },
   {
    "duration": 0,
    "start_time": "2022-09-19T03:06:38.307Z"
   },
   {
    "duration": 0,
    "start_time": "2022-09-19T03:06:38.309Z"
   },
   {
    "duration": 0,
    "start_time": "2022-09-19T03:06:38.310Z"
   },
   {
    "duration": 0,
    "start_time": "2022-09-19T03:06:38.311Z"
   },
   {
    "duration": 0,
    "start_time": "2022-09-19T03:06:38.312Z"
   },
   {
    "duration": 0,
    "start_time": "2022-09-19T03:06:38.313Z"
   },
   {
    "duration": 0,
    "start_time": "2022-09-19T03:06:38.314Z"
   },
   {
    "duration": 29,
    "start_time": "2022-09-19T03:07:11.517Z"
   },
   {
    "duration": 299,
    "start_time": "2022-09-19T03:07:31.127Z"
   },
   {
    "duration": 12,
    "start_time": "2022-09-19T03:07:43.147Z"
   },
   {
    "duration": 14,
    "start_time": "2022-09-19T03:10:01.343Z"
   },
   {
    "duration": 4,
    "start_time": "2022-09-19T03:13:19.196Z"
   },
   {
    "duration": 117,
    "start_time": "2022-09-19T03:13:19.245Z"
   },
   {
    "duration": 14,
    "start_time": "2022-09-19T03:13:19.364Z"
   },
   {
    "duration": 23,
    "start_time": "2022-09-19T03:13:19.380Z"
   },
   {
    "duration": 10,
    "start_time": "2022-09-19T03:13:19.405Z"
   },
   {
    "duration": 11,
    "start_time": "2022-09-19T03:13:19.417Z"
   },
   {
    "duration": 33,
    "start_time": "2022-09-19T03:13:19.430Z"
   },
   {
    "duration": 12,
    "start_time": "2022-09-19T03:13:19.465Z"
   },
   {
    "duration": 7,
    "start_time": "2022-09-19T03:13:19.490Z"
   },
   {
    "duration": 15,
    "start_time": "2022-09-19T03:13:19.506Z"
   },
   {
    "duration": 51,
    "start_time": "2022-09-19T03:13:19.523Z"
   },
   {
    "duration": 21,
    "start_time": "2022-09-19T03:13:19.576Z"
   },
   {
    "duration": 18,
    "start_time": "2022-09-19T03:13:19.625Z"
   },
   {
    "duration": 343,
    "start_time": "2022-09-19T03:13:19.645Z"
   },
   {
    "duration": 17,
    "start_time": "2022-09-19T03:13:19.990Z"
   },
   {
    "duration": 140,
    "start_time": "2022-09-19T03:13:20.008Z"
   },
   {
    "duration": 23,
    "start_time": "2022-09-19T03:13:20.150Z"
   },
   {
    "duration": 305,
    "start_time": "2022-09-19T03:13:20.175Z"
   },
   {
    "duration": 12,
    "start_time": "2022-09-19T03:13:20.481Z"
   },
   {
    "duration": 15,
    "start_time": "2022-09-19T03:13:20.494Z"
   },
   {
    "duration": 661,
    "start_time": "2022-09-19T03:13:20.511Z"
   },
   {
    "duration": 18,
    "start_time": "2022-09-19T03:13:21.174Z"
   },
   {
    "duration": 281,
    "start_time": "2022-09-19T03:13:21.194Z"
   },
   {
    "duration": 64,
    "start_time": "2022-09-19T03:13:21.477Z"
   },
   {
    "duration": 31,
    "start_time": "2022-09-19T03:13:21.544Z"
   },
   {
    "duration": 330,
    "start_time": "2022-09-19T03:13:21.577Z"
   },
   {
    "duration": 1165,
    "start_time": "2022-09-19T03:13:21.909Z"
   },
   {
    "duration": 27,
    "start_time": "2022-09-19T03:13:23.076Z"
   },
   {
    "duration": 16,
    "start_time": "2022-09-19T03:13:23.105Z"
   },
   {
    "duration": 14,
    "start_time": "2022-09-19T03:13:23.123Z"
   },
   {
    "duration": 0,
    "start_time": "2022-09-19T03:13:23.154Z"
   },
   {
    "duration": 12,
    "start_time": "2022-09-19T03:15:19.098Z"
   },
   {
    "duration": 12,
    "start_time": "2022-09-19T03:15:27.245Z"
   },
   {
    "duration": 13,
    "start_time": "2022-09-19T03:21:46.754Z"
   },
   {
    "duration": 6,
    "start_time": "2022-09-19T03:22:19.157Z"
   },
   {
    "duration": 200,
    "start_time": "2022-09-19T03:23:19.806Z"
   },
   {
    "duration": 4,
    "start_time": "2022-09-19T03:23:30.223Z"
   },
   {
    "duration": 179,
    "start_time": "2022-09-19T03:23:30.230Z"
   },
   {
    "duration": 14,
    "start_time": "2022-09-19T03:23:30.413Z"
   },
   {
    "duration": 29,
    "start_time": "2022-09-19T03:23:30.428Z"
   },
   {
    "duration": 26,
    "start_time": "2022-09-19T03:23:30.460Z"
   },
   {
    "duration": 14,
    "start_time": "2022-09-19T03:23:30.488Z"
   },
   {
    "duration": 38,
    "start_time": "2022-09-19T03:23:30.503Z"
   },
   {
    "duration": 22,
    "start_time": "2022-09-19T03:23:30.543Z"
   },
   {
    "duration": 46,
    "start_time": "2022-09-19T03:23:30.568Z"
   },
   {
    "duration": 27,
    "start_time": "2022-09-19T03:23:30.616Z"
   },
   {
    "duration": 58,
    "start_time": "2022-09-19T03:23:30.647Z"
   },
   {
    "duration": 19,
    "start_time": "2022-09-19T03:23:30.707Z"
   },
   {
    "duration": 27,
    "start_time": "2022-09-19T03:23:30.728Z"
   },
   {
    "duration": 324,
    "start_time": "2022-09-19T03:23:30.758Z"
   },
   {
    "duration": 18,
    "start_time": "2022-09-19T03:23:31.084Z"
   },
   {
    "duration": 130,
    "start_time": "2022-09-19T03:23:31.104Z"
   },
   {
    "duration": 27,
    "start_time": "2022-09-19T03:23:31.236Z"
   },
   {
    "duration": 353,
    "start_time": "2022-09-19T03:23:31.265Z"
   },
   {
    "duration": 7,
    "start_time": "2022-09-19T03:23:31.620Z"
   },
   {
    "duration": 60,
    "start_time": "2022-09-19T03:23:31.629Z"
   },
   {
    "duration": 0,
    "start_time": "2022-09-19T03:23:31.692Z"
   },
   {
    "duration": 0,
    "start_time": "2022-09-19T03:23:31.694Z"
   },
   {
    "duration": 0,
    "start_time": "2022-09-19T03:23:31.695Z"
   },
   {
    "duration": 0,
    "start_time": "2022-09-19T03:23:31.696Z"
   },
   {
    "duration": 0,
    "start_time": "2022-09-19T03:23:31.698Z"
   },
   {
    "duration": 0,
    "start_time": "2022-09-19T03:23:31.699Z"
   },
   {
    "duration": 0,
    "start_time": "2022-09-19T03:23:31.701Z"
   },
   {
    "duration": 0,
    "start_time": "2022-09-19T03:23:31.702Z"
   },
   {
    "duration": 0,
    "start_time": "2022-09-19T03:23:31.704Z"
   },
   {
    "duration": 0,
    "start_time": "2022-09-19T03:23:31.706Z"
   },
   {
    "duration": 0,
    "start_time": "2022-09-19T03:23:31.708Z"
   },
   {
    "duration": 0,
    "start_time": "2022-09-19T03:23:31.709Z"
   },
   {
    "duration": 11,
    "start_time": "2022-09-19T03:23:56.812Z"
   },
   {
    "duration": 196,
    "start_time": "2022-09-19T03:24:30.538Z"
   },
   {
    "duration": 582,
    "start_time": "2022-09-19T03:24:55.032Z"
   },
   {
    "duration": 281,
    "start_time": "2022-09-19T03:25:15.416Z"
   },
   {
    "duration": 11,
    "start_time": "2022-09-19T03:27:46.608Z"
   },
   {
    "duration": 292,
    "start_time": "2022-09-19T03:27:56.399Z"
   },
   {
    "duration": 12,
    "start_time": "2022-09-19T03:40:20.268Z"
   },
   {
    "duration": 352,
    "start_time": "2022-09-19T03:40:23.373Z"
   },
   {
    "duration": 30,
    "start_time": "2022-09-19T03:42:47.140Z"
   },
   {
    "duration": 291,
    "start_time": "2022-09-19T03:42:57.877Z"
   },
   {
    "duration": 24,
    "start_time": "2022-09-19T03:43:02.149Z"
   },
   {
    "duration": 280,
    "start_time": "2022-09-19T03:43:05.240Z"
   },
   {
    "duration": 278,
    "start_time": "2022-09-19T03:44:02.991Z"
   },
   {
    "duration": 483,
    "start_time": "2022-09-19T03:52:46.842Z"
   },
   {
    "duration": 17,
    "start_time": "2022-09-19T03:53:58.251Z"
   },
   {
    "duration": 248,
    "start_time": "2022-09-19T03:54:00.533Z"
   },
   {
    "duration": 46,
    "start_time": "2022-09-19T03:55:59.959Z"
   },
   {
    "duration": 19,
    "start_time": "2022-09-19T03:56:07.145Z"
   },
   {
    "duration": 4,
    "start_time": "2022-09-19T03:56:10.752Z"
   },
   {
    "duration": 107,
    "start_time": "2022-09-19T03:56:10.761Z"
   },
   {
    "duration": 14,
    "start_time": "2022-09-19T03:56:10.871Z"
   },
   {
    "duration": 10,
    "start_time": "2022-09-19T03:56:10.887Z"
   },
   {
    "duration": 14,
    "start_time": "2022-09-19T03:56:10.899Z"
   },
   {
    "duration": 10,
    "start_time": "2022-09-19T03:56:10.915Z"
   },
   {
    "duration": 32,
    "start_time": "2022-09-19T03:56:10.927Z"
   },
   {
    "duration": 10,
    "start_time": "2022-09-19T03:56:10.960Z"
   },
   {
    "duration": 9,
    "start_time": "2022-09-19T03:56:10.972Z"
   },
   {
    "duration": 12,
    "start_time": "2022-09-19T03:56:10.982Z"
   },
   {
    "duration": 29,
    "start_time": "2022-09-19T03:56:10.997Z"
   },
   {
    "duration": 40,
    "start_time": "2022-09-19T03:56:11.027Z"
   },
   {
    "duration": 18,
    "start_time": "2022-09-19T03:56:11.069Z"
   },
   {
    "duration": 319,
    "start_time": "2022-09-19T03:56:11.089Z"
   },
   {
    "duration": 20,
    "start_time": "2022-09-19T03:56:11.410Z"
   },
   {
    "duration": 168,
    "start_time": "2022-09-19T03:56:11.432Z"
   },
   {
    "duration": 28,
    "start_time": "2022-09-19T03:56:11.602Z"
   },
   {
    "duration": 412,
    "start_time": "2022-09-19T03:56:11.632Z"
   },
   {
    "duration": 16,
    "start_time": "2022-09-19T03:56:12.046Z"
   },
   {
    "duration": 273,
    "start_time": "2022-09-19T03:56:12.064Z"
   },
   {
    "duration": 22,
    "start_time": "2022-09-19T03:56:12.338Z"
   },
   {
    "duration": 487,
    "start_time": "2022-09-19T03:56:12.362Z"
   },
   {
    "duration": 18,
    "start_time": "2022-09-19T03:56:12.850Z"
   },
   {
    "duration": 244,
    "start_time": "2022-09-19T03:56:12.870Z"
   },
   {
    "duration": 55,
    "start_time": "2022-09-19T03:56:13.116Z"
   },
   {
    "duration": 18,
    "start_time": "2022-09-19T03:56:13.173Z"
   },
   {
    "duration": 308,
    "start_time": "2022-09-19T03:56:13.193Z"
   },
   {
    "duration": 1055,
    "start_time": "2022-09-19T03:56:13.506Z"
   },
   {
    "duration": 30,
    "start_time": "2022-09-19T03:56:14.563Z"
   },
   {
    "duration": 17,
    "start_time": "2022-09-19T03:56:14.594Z"
   },
   {
    "duration": 12,
    "start_time": "2022-09-19T03:56:14.613Z"
   },
   {
    "duration": 0,
    "start_time": "2022-09-19T03:56:14.626Z"
   },
   {
    "duration": 24,
    "start_time": "2022-09-19T03:59:04.262Z"
   },
   {
    "duration": 30,
    "start_time": "2022-09-19T03:59:19.775Z"
   },
   {
    "duration": 32,
    "start_time": "2022-09-19T04:00:10.710Z"
   },
   {
    "duration": 18,
    "start_time": "2022-09-19T04:00:16.444Z"
   },
   {
    "duration": 11,
    "start_time": "2022-09-19T04:00:18.013Z"
   },
   {
    "duration": 17,
    "start_time": "2022-09-19T04:01:59.409Z"
   },
   {
    "duration": 19,
    "start_time": "2022-09-19T04:02:01.127Z"
   },
   {
    "duration": 15,
    "start_time": "2022-09-19T04:08:01.496Z"
   },
   {
    "duration": 13,
    "start_time": "2022-09-19T04:08:15.974Z"
   },
   {
    "duration": 1506,
    "start_time": "2022-09-19T04:10:08.595Z"
   },
   {
    "duration": 11,
    "start_time": "2022-09-19T04:10:22.048Z"
   },
   {
    "duration": 10,
    "start_time": "2022-09-19T04:22:32.241Z"
   },
   {
    "duration": 18,
    "start_time": "2022-09-19T04:24:49.303Z"
   },
   {
    "duration": 855,
    "start_time": "2022-09-19T04:30:41.988Z"
   },
   {
    "duration": 12,
    "start_time": "2022-09-19T04:31:56.722Z"
   },
   {
    "duration": 11,
    "start_time": "2022-09-19T04:37:31.655Z"
   },
   {
    "duration": 5,
    "start_time": "2022-09-19T04:37:43.875Z"
   },
   {
    "duration": 4,
    "start_time": "2022-09-19T04:37:58.291Z"
   },
   {
    "duration": 110,
    "start_time": "2022-09-19T04:37:58.297Z"
   },
   {
    "duration": 15,
    "start_time": "2022-09-19T04:37:58.409Z"
   },
   {
    "duration": 10,
    "start_time": "2022-09-19T04:37:58.426Z"
   },
   {
    "duration": 16,
    "start_time": "2022-09-19T04:37:58.438Z"
   },
   {
    "duration": 10,
    "start_time": "2022-09-19T04:37:58.456Z"
   },
   {
    "duration": 14,
    "start_time": "2022-09-19T04:37:58.468Z"
   },
   {
    "duration": 18,
    "start_time": "2022-09-19T04:37:58.484Z"
   },
   {
    "duration": 13,
    "start_time": "2022-09-19T04:37:58.503Z"
   },
   {
    "duration": 16,
    "start_time": "2022-09-19T04:37:58.518Z"
   },
   {
    "duration": 38,
    "start_time": "2022-09-19T04:37:58.537Z"
   },
   {
    "duration": 20,
    "start_time": "2022-09-19T04:37:58.577Z"
   },
   {
    "duration": 22,
    "start_time": "2022-09-19T04:37:58.600Z"
   },
   {
    "duration": 323,
    "start_time": "2022-09-19T04:37:58.624Z"
   },
   {
    "duration": 20,
    "start_time": "2022-09-19T04:37:58.949Z"
   },
   {
    "duration": 120,
    "start_time": "2022-09-19T04:37:58.970Z"
   },
   {
    "duration": 23,
    "start_time": "2022-09-19T04:37:59.093Z"
   },
   {
    "duration": 298,
    "start_time": "2022-09-19T04:37:59.119Z"
   },
   {
    "duration": 11,
    "start_time": "2022-09-19T04:37:59.419Z"
   },
   {
    "duration": 380,
    "start_time": "2022-09-19T04:37:59.432Z"
   },
   {
    "duration": 12,
    "start_time": "2022-09-19T04:37:59.814Z"
   },
   {
    "duration": 504,
    "start_time": "2022-09-19T04:37:59.828Z"
   },
   {
    "duration": 29,
    "start_time": "2022-09-19T04:38:00.334Z"
   },
   {
    "duration": 244,
    "start_time": "2022-09-19T04:38:00.364Z"
   },
   {
    "duration": 58,
    "start_time": "2022-09-19T04:38:00.610Z"
   },
   {
    "duration": 20,
    "start_time": "2022-09-19T04:38:00.670Z"
   },
   {
    "duration": 343,
    "start_time": "2022-09-19T04:38:00.694Z"
   },
   {
    "duration": 1186,
    "start_time": "2022-09-19T04:38:01.039Z"
   },
   {
    "duration": 27,
    "start_time": "2022-09-19T04:38:02.226Z"
   },
   {
    "duration": 8,
    "start_time": "2022-09-19T04:38:02.254Z"
   },
   {
    "duration": 37,
    "start_time": "2022-09-19T04:38:02.264Z"
   },
   {
    "duration": 15,
    "start_time": "2022-09-19T04:38:02.302Z"
   },
   {
    "duration": 1074,
    "start_time": "2022-09-19T04:40:43.394Z"
   },
   {
    "duration": 22,
    "start_time": "2022-09-19T04:41:00.683Z"
   },
   {
    "duration": 4,
    "start_time": "2022-09-19T07:09:38.439Z"
   },
   {
    "duration": 160,
    "start_time": "2022-09-19T07:09:38.448Z"
   },
   {
    "duration": 15,
    "start_time": "2022-09-19T07:09:38.610Z"
   },
   {
    "duration": 52,
    "start_time": "2022-09-19T07:09:38.627Z"
   },
   {
    "duration": 13,
    "start_time": "2022-09-19T07:09:38.682Z"
   },
   {
    "duration": 11,
    "start_time": "2022-09-19T07:09:38.697Z"
   },
   {
    "duration": 14,
    "start_time": "2022-09-19T07:09:38.710Z"
   },
   {
    "duration": 9,
    "start_time": "2022-09-19T07:09:38.726Z"
   },
   {
    "duration": 8,
    "start_time": "2022-09-19T07:09:38.736Z"
   },
   {
    "duration": 33,
    "start_time": "2022-09-19T07:09:38.746Z"
   },
   {
    "duration": 30,
    "start_time": "2022-09-19T07:09:38.782Z"
   },
   {
    "duration": 16,
    "start_time": "2022-09-19T07:09:38.813Z"
   },
   {
    "duration": 37,
    "start_time": "2022-09-19T07:09:38.831Z"
   },
   {
    "duration": 355,
    "start_time": "2022-09-19T07:09:38.870Z"
   },
   {
    "duration": 35,
    "start_time": "2022-09-19T07:09:39.227Z"
   },
   {
    "duration": 132,
    "start_time": "2022-09-19T07:09:39.265Z"
   },
   {
    "duration": 23,
    "start_time": "2022-09-19T07:09:39.399Z"
   },
   {
    "duration": 330,
    "start_time": "2022-09-19T07:09:39.424Z"
   },
   {
    "duration": 16,
    "start_time": "2022-09-19T07:09:39.756Z"
   },
   {
    "duration": 449,
    "start_time": "2022-09-19T07:09:39.774Z"
   },
   {
    "duration": 28,
    "start_time": "2022-09-19T07:09:40.226Z"
   },
   {
    "duration": 590,
    "start_time": "2022-09-19T07:09:40.267Z"
   },
   {
    "duration": 23,
    "start_time": "2022-09-19T07:09:40.864Z"
   },
   {
    "duration": 293,
    "start_time": "2022-09-19T07:09:40.889Z"
   },
   {
    "duration": 73,
    "start_time": "2022-09-19T07:09:41.187Z"
   },
   {
    "duration": 25,
    "start_time": "2022-09-19T07:09:41.262Z"
   },
   {
    "duration": 397,
    "start_time": "2022-09-19T07:09:41.289Z"
   },
   {
    "duration": 59,
    "start_time": "2022-09-19T07:09:41.688Z"
   },
   {
    "duration": 0,
    "start_time": "2022-09-19T07:09:41.749Z"
   },
   {
    "duration": 0,
    "start_time": "2022-09-19T07:09:41.752Z"
   },
   {
    "duration": 0,
    "start_time": "2022-09-19T07:09:41.754Z"
   },
   {
    "duration": 0,
    "start_time": "2022-09-19T07:09:41.755Z"
   },
   {
    "duration": 0,
    "start_time": "2022-09-19T07:09:41.756Z"
   },
   {
    "duration": 15,
    "start_time": "2022-09-19T07:10:08.843Z"
   },
   {
    "duration": 1124,
    "start_time": "2022-09-19T07:10:27.905Z"
   },
   {
    "duration": 18,
    "start_time": "2022-09-19T07:10:39.706Z"
   },
   {
    "duration": 16,
    "start_time": "2022-09-19T07:11:37.521Z"
   },
   {
    "duration": 4,
    "start_time": "2022-09-19T07:21:22.430Z"
   },
   {
    "duration": 120,
    "start_time": "2022-09-19T07:21:22.437Z"
   },
   {
    "duration": 16,
    "start_time": "2022-09-19T07:21:22.559Z"
   },
   {
    "duration": 16,
    "start_time": "2022-09-19T07:21:22.577Z"
   },
   {
    "duration": 8,
    "start_time": "2022-09-19T07:21:22.596Z"
   },
   {
    "duration": 10,
    "start_time": "2022-09-19T07:21:22.606Z"
   },
   {
    "duration": 152,
    "start_time": "2022-09-19T07:21:22.619Z"
   },
   {
    "duration": 8,
    "start_time": "2022-09-19T07:21:22.773Z"
   },
   {
    "duration": 8,
    "start_time": "2022-09-19T07:21:22.784Z"
   },
   {
    "duration": 12,
    "start_time": "2022-09-19T07:21:22.794Z"
   },
   {
    "duration": 53,
    "start_time": "2022-09-19T07:21:22.809Z"
   },
   {
    "duration": 16,
    "start_time": "2022-09-19T07:21:22.864Z"
   },
   {
    "duration": 24,
    "start_time": "2022-09-19T07:21:22.883Z"
   },
   {
    "duration": 354,
    "start_time": "2022-09-19T07:21:22.909Z"
   },
   {
    "duration": 26,
    "start_time": "2022-09-19T07:21:23.266Z"
   },
   {
    "duration": 144,
    "start_time": "2022-09-19T07:21:23.295Z"
   },
   {
    "duration": 29,
    "start_time": "2022-09-19T07:21:23.441Z"
   },
   {
    "duration": 304,
    "start_time": "2022-09-19T07:21:23.472Z"
   },
   {
    "duration": 13,
    "start_time": "2022-09-19T07:21:23.778Z"
   },
   {
    "duration": 288,
    "start_time": "2022-09-19T07:21:23.793Z"
   },
   {
    "duration": 16,
    "start_time": "2022-09-19T07:21:24.083Z"
   },
   {
    "duration": 647,
    "start_time": "2022-09-19T07:21:24.102Z"
   },
   {
    "duration": 26,
    "start_time": "2022-09-19T07:21:24.752Z"
   },
   {
    "duration": 278,
    "start_time": "2022-09-19T07:21:24.783Z"
   },
   {
    "duration": 61,
    "start_time": "2022-09-19T07:21:25.064Z"
   },
   {
    "duration": 45,
    "start_time": "2022-09-19T07:21:25.128Z"
   },
   {
    "duration": 353,
    "start_time": "2022-09-19T07:21:25.176Z"
   },
   {
    "duration": 23,
    "start_time": "2022-09-19T07:21:25.531Z"
   },
   {
    "duration": 0,
    "start_time": "2022-09-19T07:21:25.556Z"
   },
   {
    "duration": 0,
    "start_time": "2022-09-19T07:21:25.558Z"
   },
   {
    "duration": 0,
    "start_time": "2022-09-19T07:21:25.559Z"
   },
   {
    "duration": 0,
    "start_time": "2022-09-19T07:21:25.560Z"
   },
   {
    "duration": 0,
    "start_time": "2022-09-19T07:21:25.562Z"
   },
   {
    "duration": 13,
    "start_time": "2022-09-19T07:21:54.418Z"
   },
   {
    "duration": 14,
    "start_time": "2022-09-19T07:24:18.772Z"
   },
   {
    "duration": 19,
    "start_time": "2022-09-19T07:24:32.313Z"
   },
   {
    "duration": 11,
    "start_time": "2022-09-19T07:24:59.533Z"
   },
   {
    "duration": 27,
    "start_time": "2022-09-19T07:29:23.425Z"
   },
   {
    "duration": 1080,
    "start_time": "2022-09-19T07:30:44.319Z"
   },
   {
    "duration": 33,
    "start_time": "2022-09-19T07:31:17.905Z"
   },
   {
    "duration": 30,
    "start_time": "2022-09-19T07:31:44.762Z"
   },
   {
    "duration": 1167,
    "start_time": "2022-09-19T07:35:51.763Z"
   },
   {
    "duration": 16,
    "start_time": "2022-09-19T07:36:59.693Z"
   },
   {
    "duration": 18,
    "start_time": "2022-09-19T07:38:21.997Z"
   },
   {
    "duration": 956,
    "start_time": "2022-09-19T07:38:50.205Z"
   },
   {
    "duration": 966,
    "start_time": "2022-09-19T07:40:28.022Z"
   },
   {
    "duration": 32,
    "start_time": "2022-09-19T07:40:30.744Z"
   },
   {
    "duration": 25,
    "start_time": "2022-09-19T07:40:46.342Z"
   },
   {
    "duration": 15,
    "start_time": "2022-09-19T07:43:56.589Z"
   },
   {
    "duration": 30,
    "start_time": "2022-09-19T07:44:21.209Z"
   },
   {
    "duration": 14,
    "start_time": "2022-09-19T07:51:01.461Z"
   },
   {
    "duration": 20,
    "start_time": "2022-09-19T07:52:24.005Z"
   },
   {
    "duration": 22,
    "start_time": "2022-09-19T07:52:30.614Z"
   },
   {
    "duration": 4,
    "start_time": "2022-09-19T07:54:48.623Z"
   },
   {
    "duration": 95,
    "start_time": "2022-09-19T07:54:48.646Z"
   },
   {
    "duration": 13,
    "start_time": "2022-09-19T07:54:48.743Z"
   },
   {
    "duration": 22,
    "start_time": "2022-09-19T07:54:48.758Z"
   },
   {
    "duration": 13,
    "start_time": "2022-09-19T07:54:48.783Z"
   },
   {
    "duration": 23,
    "start_time": "2022-09-19T07:54:48.798Z"
   },
   {
    "duration": 29,
    "start_time": "2022-09-19T07:54:48.822Z"
   },
   {
    "duration": 16,
    "start_time": "2022-09-19T07:54:48.853Z"
   },
   {
    "duration": 16,
    "start_time": "2022-09-19T07:54:48.871Z"
   },
   {
    "duration": 15,
    "start_time": "2022-09-19T07:54:48.889Z"
   },
   {
    "duration": 41,
    "start_time": "2022-09-19T07:54:48.907Z"
   },
   {
    "duration": 17,
    "start_time": "2022-09-19T07:54:48.950Z"
   },
   {
    "duration": 19,
    "start_time": "2022-09-19T07:54:48.969Z"
   },
   {
    "duration": 343,
    "start_time": "2022-09-19T07:54:48.990Z"
   },
   {
    "duration": 30,
    "start_time": "2022-09-19T07:54:49.335Z"
   },
   {
    "duration": 246,
    "start_time": "2022-09-19T07:54:49.368Z"
   },
   {
    "duration": 22,
    "start_time": "2022-09-19T07:54:49.616Z"
   },
   {
    "duration": 308,
    "start_time": "2022-09-19T07:54:49.640Z"
   },
   {
    "duration": 13,
    "start_time": "2022-09-19T07:54:49.954Z"
   },
   {
    "duration": 288,
    "start_time": "2022-09-19T07:54:49.969Z"
   },
   {
    "duration": 15,
    "start_time": "2022-09-19T07:54:50.259Z"
   },
   {
    "duration": 503,
    "start_time": "2022-09-19T07:54:50.277Z"
   },
   {
    "duration": 18,
    "start_time": "2022-09-19T07:54:50.782Z"
   },
   {
    "duration": 248,
    "start_time": "2022-09-19T07:54:50.801Z"
   },
   {
    "duration": 42,
    "start_time": "2022-09-19T07:54:51.051Z"
   },
   {
    "duration": 18,
    "start_time": "2022-09-19T07:54:51.094Z"
   },
   {
    "duration": 321,
    "start_time": "2022-09-19T07:54:51.113Z"
   },
   {
    "duration": 1107,
    "start_time": "2022-09-19T07:54:51.436Z"
   },
   {
    "duration": 18,
    "start_time": "2022-09-19T07:54:52.545Z"
   },
   {
    "duration": 930,
    "start_time": "2022-09-19T07:54:52.565Z"
   },
   {
    "duration": 23,
    "start_time": "2022-09-19T07:54:53.497Z"
   },
   {
    "duration": 0,
    "start_time": "2022-09-19T07:54:53.522Z"
   },
   {
    "duration": 19,
    "start_time": "2022-09-19T07:55:21.623Z"
   },
   {
    "duration": 4,
    "start_time": "2022-09-19T08:06:26.252Z"
   },
   {
    "duration": 106,
    "start_time": "2022-09-19T08:06:26.266Z"
   },
   {
    "duration": 14,
    "start_time": "2022-09-19T08:06:26.374Z"
   },
   {
    "duration": 14,
    "start_time": "2022-09-19T08:06:26.390Z"
   },
   {
    "duration": 9,
    "start_time": "2022-09-19T08:06:26.406Z"
   },
   {
    "duration": 5,
    "start_time": "2022-09-19T08:06:26.417Z"
   },
   {
    "duration": 40,
    "start_time": "2022-09-19T08:06:26.424Z"
   },
   {
    "duration": 8,
    "start_time": "2022-09-19T08:06:26.467Z"
   },
   {
    "duration": 8,
    "start_time": "2022-09-19T08:06:26.477Z"
   },
   {
    "duration": 12,
    "start_time": "2022-09-19T08:06:26.488Z"
   },
   {
    "duration": 188,
    "start_time": "2022-09-19T08:06:26.504Z"
   },
   {
    "duration": 16,
    "start_time": "2022-09-19T08:06:26.693Z"
   },
   {
    "duration": 20,
    "start_time": "2022-09-19T08:06:26.710Z"
   },
   {
    "duration": 353,
    "start_time": "2022-09-19T08:06:26.731Z"
   },
   {
    "duration": 19,
    "start_time": "2022-09-19T08:06:27.086Z"
   },
   {
    "duration": 139,
    "start_time": "2022-09-19T08:06:27.108Z"
   },
   {
    "duration": 21,
    "start_time": "2022-09-19T08:06:27.255Z"
   },
   {
    "duration": 327,
    "start_time": "2022-09-19T08:06:27.278Z"
   },
   {
    "duration": 15,
    "start_time": "2022-09-19T08:06:27.608Z"
   },
   {
    "duration": 314,
    "start_time": "2022-09-19T08:06:27.625Z"
   },
   {
    "duration": 19,
    "start_time": "2022-09-19T08:06:27.941Z"
   },
   {
    "duration": 492,
    "start_time": "2022-09-19T08:06:27.962Z"
   },
   {
    "duration": 20,
    "start_time": "2022-09-19T08:06:28.456Z"
   },
   {
    "duration": 280,
    "start_time": "2022-09-19T08:06:28.480Z"
   },
   {
    "duration": 45,
    "start_time": "2022-09-19T08:06:28.761Z"
   },
   {
    "duration": 19,
    "start_time": "2022-09-19T08:06:28.808Z"
   },
   {
    "duration": 331,
    "start_time": "2022-09-19T08:06:28.829Z"
   },
   {
    "duration": 1069,
    "start_time": "2022-09-19T08:06:29.162Z"
   },
   {
    "duration": 17,
    "start_time": "2022-09-19T08:06:30.233Z"
   },
   {
    "duration": 1028,
    "start_time": "2022-09-19T08:06:30.252Z"
   },
   {
    "duration": 19,
    "start_time": "2022-09-19T08:06:31.282Z"
   },
   {
    "duration": 40,
    "start_time": "2022-09-19T08:06:31.303Z"
   },
   {
    "duration": 18,
    "start_time": "2022-09-19T08:08:44.268Z"
   },
   {
    "duration": 21,
    "start_time": "2022-09-19T08:08:59.042Z"
   },
   {
    "duration": 854,
    "start_time": "2022-09-19T08:15:54.619Z"
   },
   {
    "duration": 3,
    "start_time": "2022-09-19T08:23:48.608Z"
   },
   {
    "duration": 129,
    "start_time": "2022-09-19T08:23:48.620Z"
   },
   {
    "duration": 13,
    "start_time": "2022-09-19T08:23:48.751Z"
   },
   {
    "duration": 11,
    "start_time": "2022-09-19T08:23:48.765Z"
   },
   {
    "duration": 7,
    "start_time": "2022-09-19T08:23:48.778Z"
   },
   {
    "duration": 4,
    "start_time": "2022-09-19T08:23:48.786Z"
   },
   {
    "duration": 21,
    "start_time": "2022-09-19T08:23:48.792Z"
   },
   {
    "duration": 11,
    "start_time": "2022-09-19T08:23:48.815Z"
   },
   {
    "duration": 6,
    "start_time": "2022-09-19T08:23:48.828Z"
   },
   {
    "duration": 11,
    "start_time": "2022-09-19T08:23:48.853Z"
   },
   {
    "duration": 30,
    "start_time": "2022-09-19T08:23:48.867Z"
   },
   {
    "duration": 19,
    "start_time": "2022-09-19T08:23:48.899Z"
   },
   {
    "duration": 46,
    "start_time": "2022-09-19T08:23:48.920Z"
   },
   {
    "duration": 320,
    "start_time": "2022-09-19T08:23:48.967Z"
   },
   {
    "duration": 17,
    "start_time": "2022-09-19T08:23:49.289Z"
   },
   {
    "duration": 125,
    "start_time": "2022-09-19T08:23:49.307Z"
   },
   {
    "duration": 28,
    "start_time": "2022-09-19T08:23:49.433Z"
   },
   {
    "duration": 294,
    "start_time": "2022-09-19T08:23:49.463Z"
   },
   {
    "duration": 12,
    "start_time": "2022-09-19T08:23:49.759Z"
   },
   {
    "duration": 293,
    "start_time": "2022-09-19T08:23:49.772Z"
   },
   {
    "duration": 15,
    "start_time": "2022-09-19T08:23:50.067Z"
   },
   {
    "duration": 569,
    "start_time": "2022-09-19T08:23:50.083Z"
   },
   {
    "duration": 27,
    "start_time": "2022-09-19T08:23:50.655Z"
   },
   {
    "duration": 257,
    "start_time": "2022-09-19T08:23:50.685Z"
   },
   {
    "duration": 187,
    "start_time": "2022-09-19T08:23:50.944Z"
   },
   {
    "duration": 34,
    "start_time": "2022-09-19T08:23:51.133Z"
   },
   {
    "duration": 332,
    "start_time": "2022-09-19T08:23:51.169Z"
   },
   {
    "duration": 1326,
    "start_time": "2022-09-19T08:23:51.505Z"
   },
   {
    "duration": 16,
    "start_time": "2022-09-19T08:23:52.832Z"
   },
   {
    "duration": 848,
    "start_time": "2022-09-19T08:23:52.850Z"
   },
   {
    "duration": 13,
    "start_time": "2022-09-19T08:23:53.700Z"
   },
   {
    "duration": 17,
    "start_time": "2022-09-19T08:23:53.715Z"
   },
   {
    "duration": 20,
    "start_time": "2022-09-19T08:25:02.737Z"
   },
   {
    "duration": 1386,
    "start_time": "2022-09-19T08:32:28.405Z"
   },
   {
    "duration": 15,
    "start_time": "2022-09-19T08:33:37.620Z"
   },
   {
    "duration": 4,
    "start_time": "2022-09-19T08:34:38.322Z"
   },
   {
    "duration": 143,
    "start_time": "2022-09-19T08:34:38.330Z"
   },
   {
    "duration": 14,
    "start_time": "2022-09-19T08:34:38.475Z"
   },
   {
    "duration": 15,
    "start_time": "2022-09-19T08:34:38.491Z"
   },
   {
    "duration": 13,
    "start_time": "2022-09-19T08:34:38.508Z"
   },
   {
    "duration": 10,
    "start_time": "2022-09-19T08:34:38.523Z"
   },
   {
    "duration": 31,
    "start_time": "2022-09-19T08:34:38.534Z"
   },
   {
    "duration": 8,
    "start_time": "2022-09-19T08:34:38.567Z"
   },
   {
    "duration": 20,
    "start_time": "2022-09-19T08:34:38.577Z"
   },
   {
    "duration": 15,
    "start_time": "2022-09-19T08:34:38.598Z"
   },
   {
    "duration": 26,
    "start_time": "2022-09-19T08:34:38.616Z"
   },
   {
    "duration": 28,
    "start_time": "2022-09-19T08:34:38.645Z"
   },
   {
    "duration": 25,
    "start_time": "2022-09-19T08:34:38.677Z"
   },
   {
    "duration": 327,
    "start_time": "2022-09-19T08:34:38.705Z"
   },
   {
    "duration": 36,
    "start_time": "2022-09-19T08:34:39.034Z"
   },
   {
    "duration": 136,
    "start_time": "2022-09-19T08:34:39.072Z"
   },
   {
    "duration": 21,
    "start_time": "2022-09-19T08:34:39.210Z"
   },
   {
    "duration": 300,
    "start_time": "2022-09-19T08:34:39.232Z"
   },
   {
    "duration": 11,
    "start_time": "2022-09-19T08:34:39.534Z"
   },
   {
    "duration": 274,
    "start_time": "2022-09-19T08:34:39.555Z"
   },
   {
    "duration": 12,
    "start_time": "2022-09-19T08:34:39.831Z"
   },
   {
    "duration": 655,
    "start_time": "2022-09-19T08:34:39.844Z"
   },
   {
    "duration": 18,
    "start_time": "2022-09-19T08:34:40.501Z"
   },
   {
    "duration": 266,
    "start_time": "2022-09-19T08:34:40.520Z"
   },
   {
    "duration": 43,
    "start_time": "2022-09-19T08:34:40.788Z"
   },
   {
    "duration": 37,
    "start_time": "2022-09-19T08:34:40.834Z"
   },
   {
    "duration": 314,
    "start_time": "2022-09-19T08:34:40.872Z"
   },
   {
    "duration": 1282,
    "start_time": "2022-09-19T08:34:41.187Z"
   },
   {
    "duration": 14,
    "start_time": "2022-09-19T08:34:42.471Z"
   },
   {
    "duration": 916,
    "start_time": "2022-09-19T08:34:42.486Z"
   },
   {
    "duration": 17,
    "start_time": "2022-09-19T08:34:43.404Z"
   },
   {
    "duration": 42,
    "start_time": "2022-09-19T08:34:43.423Z"
   },
   {
    "duration": 19,
    "start_time": "2022-09-19T08:43:36.754Z"
   },
   {
    "duration": 24,
    "start_time": "2022-09-19T08:44:08.655Z"
   },
   {
    "duration": 30,
    "start_time": "2022-09-19T08:46:01.474Z"
   },
   {
    "duration": 18,
    "start_time": "2022-09-19T08:46:17.197Z"
   },
   {
    "duration": 24,
    "start_time": "2022-09-19T08:46:32.685Z"
   },
   {
    "duration": 27,
    "start_time": "2022-09-19T09:04:29.962Z"
   },
   {
    "duration": 25,
    "start_time": "2022-09-19T09:04:36.649Z"
   },
   {
    "duration": 11,
    "start_time": "2022-09-19T09:05:30.814Z"
   },
   {
    "duration": 20,
    "start_time": "2022-09-19T09:05:56.012Z"
   },
   {
    "duration": 16,
    "start_time": "2022-09-19T09:06:47.917Z"
   },
   {
    "duration": 18,
    "start_time": "2022-09-19T09:07:06.545Z"
   },
   {
    "duration": 18,
    "start_time": "2022-09-19T09:11:50.314Z"
   },
   {
    "duration": 17,
    "start_time": "2022-09-19T09:13:01.210Z"
   },
   {
    "duration": 18,
    "start_time": "2022-09-19T09:13:39.071Z"
   },
   {
    "duration": 83,
    "start_time": "2022-09-19T09:13:44.603Z"
   },
   {
    "duration": 19,
    "start_time": "2022-09-19T09:14:12.799Z"
   },
   {
    "duration": 19,
    "start_time": "2022-09-19T09:16:58.999Z"
   },
   {
    "duration": 757,
    "start_time": "2022-09-19T09:30:13.011Z"
   },
   {
    "duration": 5778,
    "start_time": "2022-09-19T09:31:01.123Z"
   },
   {
    "duration": 867,
    "start_time": "2022-09-19T09:32:41.953Z"
   },
   {
    "duration": 5,
    "start_time": "2022-09-19T09:44:58.731Z"
   },
   {
    "duration": 135,
    "start_time": "2022-09-19T09:44:58.739Z"
   },
   {
    "duration": 22,
    "start_time": "2022-09-19T09:44:58.877Z"
   },
   {
    "duration": 18,
    "start_time": "2022-09-19T09:44:58.901Z"
   },
   {
    "duration": 15,
    "start_time": "2022-09-19T09:44:58.922Z"
   },
   {
    "duration": 28,
    "start_time": "2022-09-19T09:44:58.939Z"
   },
   {
    "duration": 41,
    "start_time": "2022-09-19T09:44:58.969Z"
   },
   {
    "duration": 15,
    "start_time": "2022-09-19T09:44:59.012Z"
   },
   {
    "duration": 22,
    "start_time": "2022-09-19T09:44:59.029Z"
   },
   {
    "duration": 20,
    "start_time": "2022-09-19T09:44:59.053Z"
   },
   {
    "duration": 34,
    "start_time": "2022-09-19T09:44:59.076Z"
   },
   {
    "duration": 16,
    "start_time": "2022-09-19T09:44:59.112Z"
   },
   {
    "duration": 36,
    "start_time": "2022-09-19T09:44:59.130Z"
   },
   {
    "duration": 347,
    "start_time": "2022-09-19T09:44:59.168Z"
   },
   {
    "duration": 18,
    "start_time": "2022-09-19T09:44:59.517Z"
   },
   {
    "duration": 144,
    "start_time": "2022-09-19T09:44:59.536Z"
   },
   {
    "duration": 30,
    "start_time": "2022-09-19T09:44:59.683Z"
   },
   {
    "duration": 334,
    "start_time": "2022-09-19T09:44:59.716Z"
   },
   {
    "duration": 13,
    "start_time": "2022-09-19T09:45:00.054Z"
   },
   {
    "duration": 315,
    "start_time": "2022-09-19T09:45:00.069Z"
   },
   {
    "duration": 14,
    "start_time": "2022-09-19T09:45:00.386Z"
   },
   {
    "duration": 700,
    "start_time": "2022-09-19T09:45:00.402Z"
   },
   {
    "duration": 20,
    "start_time": "2022-09-19T09:45:01.104Z"
   },
   {
    "duration": 270,
    "start_time": "2022-09-19T09:45:01.126Z"
   },
   {
    "duration": 60,
    "start_time": "2022-09-19T09:45:01.399Z"
   },
   {
    "duration": 63,
    "start_time": "2022-09-19T09:45:01.461Z"
   },
   {
    "duration": 397,
    "start_time": "2022-09-19T09:45:01.527Z"
   },
   {
    "duration": 1170,
    "start_time": "2022-09-19T09:45:01.928Z"
   },
   {
    "duration": 18,
    "start_time": "2022-09-19T09:45:03.101Z"
   },
   {
    "duration": 887,
    "start_time": "2022-09-19T09:45:03.121Z"
   },
   {
    "duration": 43,
    "start_time": "2022-09-19T09:45:04.011Z"
   },
   {
    "duration": 25,
    "start_time": "2022-09-19T09:45:04.057Z"
   },
   {
    "duration": 22,
    "start_time": "2022-09-19T09:45:04.084Z"
   },
   {
    "duration": 849,
    "start_time": "2022-09-19T09:45:04.108Z"
   },
   {
    "duration": 4,
    "start_time": "2022-09-19T10:09:19.072Z"
   },
   {
    "duration": 130,
    "start_time": "2022-09-19T10:09:19.106Z"
   },
   {
    "duration": 21,
    "start_time": "2022-09-19T10:09:19.239Z"
   },
   {
    "duration": 12,
    "start_time": "2022-09-19T10:09:19.262Z"
   },
   {
    "duration": 7,
    "start_time": "2022-09-19T10:09:19.276Z"
   },
   {
    "duration": 11,
    "start_time": "2022-09-19T10:09:19.286Z"
   },
   {
    "duration": 14,
    "start_time": "2022-09-19T10:09:19.298Z"
   },
   {
    "duration": 8,
    "start_time": "2022-09-19T10:09:19.314Z"
   },
   {
    "duration": 7,
    "start_time": "2022-09-19T10:09:19.323Z"
   },
   {
    "duration": 30,
    "start_time": "2022-09-19T10:09:19.331Z"
   },
   {
    "duration": 41,
    "start_time": "2022-09-19T10:09:19.362Z"
   },
   {
    "duration": 15,
    "start_time": "2022-09-19T10:09:19.404Z"
   },
   {
    "duration": 16,
    "start_time": "2022-09-19T10:09:19.421Z"
   },
   {
    "duration": 324,
    "start_time": "2022-09-19T10:09:19.439Z"
   },
   {
    "duration": 17,
    "start_time": "2022-09-19T10:09:19.765Z"
   },
   {
    "duration": 123,
    "start_time": "2022-09-19T10:09:19.784Z"
   },
   {
    "duration": 22,
    "start_time": "2022-09-19T10:09:19.908Z"
   },
   {
    "duration": 413,
    "start_time": "2022-09-19T10:09:19.932Z"
   },
   {
    "duration": 15,
    "start_time": "2022-09-19T10:09:20.348Z"
   },
   {
    "duration": 297,
    "start_time": "2022-09-19T10:09:20.365Z"
   },
   {
    "duration": 12,
    "start_time": "2022-09-19T10:09:20.664Z"
   },
   {
    "duration": 480,
    "start_time": "2022-09-19T10:09:20.678Z"
   },
   {
    "duration": 18,
    "start_time": "2022-09-19T10:09:21.160Z"
   },
   {
    "duration": 244,
    "start_time": "2022-09-19T10:09:21.180Z"
   },
   {
    "duration": 66,
    "start_time": "2022-09-19T10:09:21.426Z"
   },
   {
    "duration": 26,
    "start_time": "2022-09-19T10:09:21.494Z"
   },
   {
    "duration": 336,
    "start_time": "2022-09-19T10:09:21.522Z"
   },
   {
    "duration": 1310,
    "start_time": "2022-09-19T10:09:21.859Z"
   },
   {
    "duration": 15,
    "start_time": "2022-09-19T10:09:23.171Z"
   },
   {
    "duration": 815,
    "start_time": "2022-09-19T10:09:23.188Z"
   },
   {
    "duration": 20,
    "start_time": "2022-09-19T10:09:24.005Z"
   },
   {
    "duration": 35,
    "start_time": "2022-09-19T10:09:24.026Z"
   },
   {
    "duration": 15,
    "start_time": "2022-09-19T10:09:24.063Z"
   },
   {
    "duration": 832,
    "start_time": "2022-09-19T10:09:24.080Z"
   },
   {
    "duration": 19,
    "start_time": "2022-09-19T10:21:17.231Z"
   },
   {
    "duration": 5,
    "start_time": "2022-09-19T10:42:11.545Z"
   },
   {
    "duration": 185,
    "start_time": "2022-09-19T10:42:11.557Z"
   },
   {
    "duration": 21,
    "start_time": "2022-09-19T10:42:11.745Z"
   },
   {
    "duration": 14,
    "start_time": "2022-09-19T10:42:11.769Z"
   },
   {
    "duration": 11,
    "start_time": "2022-09-19T10:42:11.786Z"
   },
   {
    "duration": 6,
    "start_time": "2022-09-19T10:42:11.799Z"
   },
   {
    "duration": 25,
    "start_time": "2022-09-19T10:42:11.807Z"
   },
   {
    "duration": 24,
    "start_time": "2022-09-19T10:42:11.834Z"
   },
   {
    "duration": 8,
    "start_time": "2022-09-19T10:42:11.861Z"
   },
   {
    "duration": 16,
    "start_time": "2022-09-19T10:42:11.871Z"
   },
   {
    "duration": 64,
    "start_time": "2022-09-19T10:42:11.891Z"
   },
   {
    "duration": 17,
    "start_time": "2022-09-19T10:42:11.957Z"
   },
   {
    "duration": 18,
    "start_time": "2022-09-19T10:42:11.976Z"
   },
   {
    "duration": 364,
    "start_time": "2022-09-19T10:42:11.996Z"
   },
   {
    "duration": 17,
    "start_time": "2022-09-19T10:42:12.362Z"
   },
   {
    "duration": 133,
    "start_time": "2022-09-19T10:42:12.381Z"
   },
   {
    "duration": 20,
    "start_time": "2022-09-19T10:42:12.516Z"
   },
   {
    "duration": 324,
    "start_time": "2022-09-19T10:42:12.538Z"
   },
   {
    "duration": 13,
    "start_time": "2022-09-19T10:42:12.864Z"
   },
   {
    "duration": 291,
    "start_time": "2022-09-19T10:42:12.880Z"
   },
   {
    "duration": 12,
    "start_time": "2022-09-19T10:42:13.173Z"
   },
   {
    "duration": 563,
    "start_time": "2022-09-19T10:42:13.187Z"
   },
   {
    "duration": 22,
    "start_time": "2022-09-19T10:42:13.752Z"
   },
   {
    "duration": 261,
    "start_time": "2022-09-19T10:42:13.776Z"
   },
   {
    "duration": 53,
    "start_time": "2022-09-19T10:42:14.039Z"
   },
   {
    "duration": 17,
    "start_time": "2022-09-19T10:42:14.094Z"
   },
   {
    "duration": 321,
    "start_time": "2022-09-19T10:42:14.113Z"
   },
   {
    "duration": 946,
    "start_time": "2022-09-19T10:42:14.437Z"
   },
   {
    "duration": 16,
    "start_time": "2022-09-19T10:42:15.387Z"
   },
   {
    "duration": 1028,
    "start_time": "2022-09-19T10:42:15.405Z"
   },
   {
    "duration": 39,
    "start_time": "2022-09-19T10:42:16.436Z"
   },
   {
    "duration": 22,
    "start_time": "2022-09-19T10:42:16.477Z"
   },
   {
    "duration": 13,
    "start_time": "2022-09-19T10:42:16.501Z"
   },
   {
    "duration": 775,
    "start_time": "2022-09-19T10:42:16.516Z"
   },
   {
    "duration": 4,
    "start_time": "2022-09-19T11:07:08.335Z"
   },
   {
    "duration": 200,
    "start_time": "2022-09-19T11:07:08.348Z"
   },
   {
    "duration": 16,
    "start_time": "2022-09-19T11:07:08.551Z"
   },
   {
    "duration": 30,
    "start_time": "2022-09-19T11:07:08.569Z"
   },
   {
    "duration": 20,
    "start_time": "2022-09-19T11:07:08.601Z"
   },
   {
    "duration": 12,
    "start_time": "2022-09-19T11:07:08.623Z"
   },
   {
    "duration": 23,
    "start_time": "2022-09-19T11:07:08.637Z"
   },
   {
    "duration": 20,
    "start_time": "2022-09-19T11:07:08.664Z"
   },
   {
    "duration": 9,
    "start_time": "2022-09-19T11:07:08.686Z"
   },
   {
    "duration": 30,
    "start_time": "2022-09-19T11:07:08.698Z"
   },
   {
    "duration": 55,
    "start_time": "2022-09-19T11:07:08.732Z"
   },
   {
    "duration": 17,
    "start_time": "2022-09-19T11:07:08.790Z"
   },
   {
    "duration": 19,
    "start_time": "2022-09-19T11:07:08.810Z"
   },
   {
    "duration": 358,
    "start_time": "2022-09-19T11:07:08.831Z"
   },
   {
    "duration": 18,
    "start_time": "2022-09-19T11:07:09.191Z"
   },
   {
    "duration": 143,
    "start_time": "2022-09-19T11:07:09.211Z"
   },
   {
    "duration": 23,
    "start_time": "2022-09-19T11:07:09.356Z"
   },
   {
    "duration": 322,
    "start_time": "2022-09-19T11:07:09.381Z"
   },
   {
    "duration": 13,
    "start_time": "2022-09-19T11:07:09.705Z"
   },
   {
    "duration": 307,
    "start_time": "2022-09-19T11:07:09.720Z"
   },
   {
    "duration": 25,
    "start_time": "2022-09-19T11:07:10.029Z"
   },
   {
    "duration": 511,
    "start_time": "2022-09-19T11:07:10.056Z"
   },
   {
    "duration": 21,
    "start_time": "2022-09-19T11:07:10.569Z"
   },
   {
    "duration": 289,
    "start_time": "2022-09-19T11:07:10.592Z"
   },
   {
    "duration": 203,
    "start_time": "2022-09-19T11:07:10.886Z"
   },
   {
    "duration": 20,
    "start_time": "2022-09-19T11:07:11.091Z"
   },
   {
    "duration": 345,
    "start_time": "2022-09-19T11:07:11.114Z"
   },
   {
    "duration": 921,
    "start_time": "2022-09-19T11:07:11.461Z"
   },
   {
    "duration": 16,
    "start_time": "2022-09-19T11:07:12.384Z"
   },
   {
    "duration": 878,
    "start_time": "2022-09-19T11:07:12.402Z"
   },
   {
    "duration": 22,
    "start_time": "2022-09-19T11:07:13.282Z"
   },
   {
    "duration": 50,
    "start_time": "2022-09-19T11:07:13.306Z"
   },
   {
    "duration": 22,
    "start_time": "2022-09-19T11:07:13.359Z"
   },
   {
    "duration": 777,
    "start_time": "2022-09-19T11:07:13.384Z"
   },
   {
    "duration": 6,
    "start_time": "2022-09-19T11:11:28.025Z"
   },
   {
    "duration": 123,
    "start_time": "2022-09-19T11:11:28.034Z"
   },
   {
    "duration": 15,
    "start_time": "2022-09-19T11:11:28.159Z"
   },
   {
    "duration": 31,
    "start_time": "2022-09-19T11:11:28.176Z"
   },
   {
    "duration": 8,
    "start_time": "2022-09-19T11:11:28.210Z"
   },
   {
    "duration": 29,
    "start_time": "2022-09-19T11:11:28.220Z"
   },
   {
    "duration": 24,
    "start_time": "2022-09-19T11:11:28.251Z"
   },
   {
    "duration": 46,
    "start_time": "2022-09-19T11:11:28.277Z"
   },
   {
    "duration": 17,
    "start_time": "2022-09-19T11:11:28.325Z"
   },
   {
    "duration": 19,
    "start_time": "2022-09-19T11:11:28.345Z"
   },
   {
    "duration": 52,
    "start_time": "2022-09-19T11:11:28.368Z"
   },
   {
    "duration": 19,
    "start_time": "2022-09-19T11:11:28.422Z"
   },
   {
    "duration": 31,
    "start_time": "2022-09-19T11:11:28.443Z"
   },
   {
    "duration": 350,
    "start_time": "2022-09-19T11:11:28.477Z"
   },
   {
    "duration": 36,
    "start_time": "2022-09-19T11:11:28.830Z"
   },
   {
    "duration": 133,
    "start_time": "2022-09-19T11:11:28.868Z"
   },
   {
    "duration": 29,
    "start_time": "2022-09-19T11:11:29.003Z"
   },
   {
    "duration": 327,
    "start_time": "2022-09-19T11:11:29.034Z"
   },
   {
    "duration": 14,
    "start_time": "2022-09-19T11:11:29.363Z"
   },
   {
    "duration": 300,
    "start_time": "2022-09-19T11:11:29.379Z"
   },
   {
    "duration": 14,
    "start_time": "2022-09-19T11:11:29.681Z"
   },
   {
    "duration": 658,
    "start_time": "2022-09-19T11:11:29.697Z"
   },
   {
    "duration": 20,
    "start_time": "2022-09-19T11:11:30.357Z"
   },
   {
    "duration": 283,
    "start_time": "2022-09-19T11:11:30.379Z"
   },
   {
    "duration": 72,
    "start_time": "2022-09-19T11:11:30.664Z"
   },
   {
    "duration": 32,
    "start_time": "2022-09-19T11:11:30.755Z"
   },
   {
    "duration": 353,
    "start_time": "2022-09-19T11:11:30.789Z"
   },
   {
    "duration": 768,
    "start_time": "2022-09-19T11:11:31.144Z"
   },
   {
    "duration": 22,
    "start_time": "2022-09-19T11:11:31.916Z"
   },
   {
    "duration": 953,
    "start_time": "2022-09-19T11:11:31.941Z"
   },
   {
    "duration": 28,
    "start_time": "2022-09-19T11:11:32.896Z"
   },
   {
    "duration": 45,
    "start_time": "2022-09-19T11:11:32.926Z"
   },
   {
    "duration": 21,
    "start_time": "2022-09-19T11:11:32.973Z"
   },
   {
    "duration": 854,
    "start_time": "2022-09-19T11:11:32.997Z"
   },
   {
    "duration": 1416,
    "start_time": "2022-09-20T10:59:59.421Z"
   },
   {
    "duration": 185,
    "start_time": "2022-09-20T11:00:00.840Z"
   },
   {
    "duration": 15,
    "start_time": "2022-09-20T11:00:01.027Z"
   },
   {
    "duration": 48,
    "start_time": "2022-09-20T11:00:01.043Z"
   },
   {
    "duration": 25,
    "start_time": "2022-09-20T11:00:01.093Z"
   },
   {
    "duration": 34,
    "start_time": "2022-09-20T11:00:01.120Z"
   },
   {
    "duration": 63,
    "start_time": "2022-09-20T11:00:01.155Z"
   },
   {
    "duration": 29,
    "start_time": "2022-09-20T11:00:01.220Z"
   },
   {
    "duration": 27,
    "start_time": "2022-09-20T11:00:01.251Z"
   },
   {
    "duration": 92,
    "start_time": "2022-09-20T11:00:01.280Z"
   },
   {
    "duration": 91,
    "start_time": "2022-09-20T11:00:01.374Z"
   },
   {
    "duration": 18,
    "start_time": "2022-09-20T11:00:01.467Z"
   },
   {
    "duration": 47,
    "start_time": "2022-09-20T11:00:01.487Z"
   },
   {
    "duration": 317,
    "start_time": "2022-09-20T11:00:01.537Z"
   },
   {
    "duration": 20,
    "start_time": "2022-09-20T11:00:01.856Z"
   },
   {
    "duration": 168,
    "start_time": "2022-09-20T11:00:01.890Z"
   },
   {
    "duration": 35,
    "start_time": "2022-09-20T11:00:02.060Z"
   },
   {
    "duration": 293,
    "start_time": "2022-09-20T11:00:02.097Z"
   },
   {
    "duration": 12,
    "start_time": "2022-09-20T11:00:02.392Z"
   },
   {
    "duration": 265,
    "start_time": "2022-09-20T11:00:02.406Z"
   },
   {
    "duration": 17,
    "start_time": "2022-09-20T11:00:02.673Z"
   },
   {
    "duration": 517,
    "start_time": "2022-09-20T11:00:02.691Z"
   },
   {
    "duration": 18,
    "start_time": "2022-09-20T11:00:03.209Z"
   },
   {
    "duration": 306,
    "start_time": "2022-09-20T11:00:03.228Z"
   },
   {
    "duration": 53,
    "start_time": "2022-09-20T11:00:03.536Z"
   },
   {
    "duration": 19,
    "start_time": "2022-09-20T11:00:03.591Z"
   },
   {
    "duration": 316,
    "start_time": "2022-09-20T11:00:03.611Z"
   },
   {
    "duration": 1141,
    "start_time": "2022-09-20T11:00:03.929Z"
   },
   {
    "duration": 14,
    "start_time": "2022-09-20T11:00:05.072Z"
   },
   {
    "duration": 913,
    "start_time": "2022-09-20T11:00:05.088Z"
   },
   {
    "duration": 21,
    "start_time": "2022-09-20T11:00:06.003Z"
   },
   {
    "duration": 124,
    "start_time": "2022-09-20T11:00:06.026Z"
   },
   {
    "duration": 0,
    "start_time": "2022-09-20T11:00:06.151Z"
   },
   {
    "duration": 0,
    "start_time": "2022-09-20T11:00:06.153Z"
   },
   {
    "duration": 16,
    "start_time": "2022-09-20T11:06:39.202Z"
   },
   {
    "duration": 10,
    "start_time": "2022-09-20T11:06:51.145Z"
   },
   {
    "duration": 230,
    "start_time": "2022-09-20T11:35:38.120Z"
   },
   {
    "duration": 50,
    "start_time": "2022-09-20T11:50:00.094Z"
   },
   {
    "duration": 1984,
    "start_time": "2022-09-20T11:50:10.900Z"
   },
   {
    "duration": 279,
    "start_time": "2022-09-20T11:50:12.886Z"
   },
   {
    "duration": 16,
    "start_time": "2022-09-20T11:50:13.167Z"
   },
   {
    "duration": 13,
    "start_time": "2022-09-20T11:50:13.185Z"
   },
   {
    "duration": 7,
    "start_time": "2022-09-20T11:50:13.199Z"
   },
   {
    "duration": 7,
    "start_time": "2022-09-20T11:50:13.207Z"
   },
   {
    "duration": 13,
    "start_time": "2022-09-20T11:50:13.215Z"
   },
   {
    "duration": 7,
    "start_time": "2022-09-20T11:50:13.230Z"
   },
   {
    "duration": 7,
    "start_time": "2022-09-20T11:50:13.239Z"
   },
   {
    "duration": 10,
    "start_time": "2022-09-20T11:50:13.249Z"
   },
   {
    "duration": 57,
    "start_time": "2022-09-20T11:50:13.260Z"
   },
   {
    "duration": 18,
    "start_time": "2022-09-20T11:50:13.319Z"
   },
   {
    "duration": 24,
    "start_time": "2022-09-20T11:50:13.339Z"
   },
   {
    "duration": 339,
    "start_time": "2022-09-20T11:50:13.365Z"
   },
   {
    "duration": 16,
    "start_time": "2022-09-20T11:50:13.706Z"
   },
   {
    "duration": 136,
    "start_time": "2022-09-20T11:50:13.723Z"
   },
   {
    "duration": 32,
    "start_time": "2022-09-20T11:50:13.861Z"
   },
   {
    "duration": 270,
    "start_time": "2022-09-20T11:50:13.895Z"
   },
   {
    "duration": 12,
    "start_time": "2022-09-20T11:50:14.166Z"
   },
   {
    "duration": 278,
    "start_time": "2022-09-20T11:50:14.188Z"
   },
   {
    "duration": 112,
    "start_time": "2022-09-20T11:50:14.469Z"
   },
   {
    "duration": 0,
    "start_time": "2022-09-20T11:50:14.583Z"
   },
   {
    "duration": 0,
    "start_time": "2022-09-20T11:50:14.585Z"
   },
   {
    "duration": 0,
    "start_time": "2022-09-20T11:50:14.589Z"
   },
   {
    "duration": 0,
    "start_time": "2022-09-20T11:50:14.591Z"
   },
   {
    "duration": 0,
    "start_time": "2022-09-20T11:50:14.593Z"
   },
   {
    "duration": 0,
    "start_time": "2022-09-20T11:50:14.594Z"
   },
   {
    "duration": 0,
    "start_time": "2022-09-20T11:50:14.596Z"
   },
   {
    "duration": 0,
    "start_time": "2022-09-20T11:50:14.599Z"
   },
   {
    "duration": 0,
    "start_time": "2022-09-20T11:50:14.600Z"
   },
   {
    "duration": 0,
    "start_time": "2022-09-20T11:50:14.602Z"
   },
   {
    "duration": 0,
    "start_time": "2022-09-20T11:50:14.603Z"
   },
   {
    "duration": 0,
    "start_time": "2022-09-20T11:50:14.605Z"
   },
   {
    "duration": 0,
    "start_time": "2022-09-20T11:50:14.606Z"
   },
   {
    "duration": 27,
    "start_time": "2022-09-20T11:51:30.154Z"
   },
   {
    "duration": 311,
    "start_time": "2022-09-20T11:54:01.752Z"
   },
   {
    "duration": 3,
    "start_time": "2022-09-20T11:55:26.845Z"
   },
   {
    "duration": 104,
    "start_time": "2022-09-20T11:55:26.886Z"
   },
   {
    "duration": 13,
    "start_time": "2022-09-20T11:55:26.992Z"
   },
   {
    "duration": 9,
    "start_time": "2022-09-20T11:55:27.006Z"
   },
   {
    "duration": 8,
    "start_time": "2022-09-20T11:55:27.017Z"
   },
   {
    "duration": 6,
    "start_time": "2022-09-20T11:55:27.027Z"
   },
   {
    "duration": 13,
    "start_time": "2022-09-20T11:55:27.034Z"
   },
   {
    "duration": 5,
    "start_time": "2022-09-20T11:55:27.048Z"
   },
   {
    "duration": 35,
    "start_time": "2022-09-20T11:55:27.054Z"
   },
   {
    "duration": 11,
    "start_time": "2022-09-20T11:55:27.091Z"
   },
   {
    "duration": 28,
    "start_time": "2022-09-20T11:55:27.105Z"
   },
   {
    "duration": 15,
    "start_time": "2022-09-20T11:55:27.134Z"
   },
   {
    "duration": 42,
    "start_time": "2022-09-20T11:55:27.150Z"
   },
   {
    "duration": 329,
    "start_time": "2022-09-20T11:55:27.194Z"
   },
   {
    "duration": 16,
    "start_time": "2022-09-20T11:55:27.524Z"
   },
   {
    "duration": 121,
    "start_time": "2022-09-20T11:55:27.542Z"
   },
   {
    "duration": 30,
    "start_time": "2022-09-20T11:55:27.664Z"
   },
   {
    "duration": 359,
    "start_time": "2022-09-20T11:55:27.695Z"
   },
   {
    "duration": 11,
    "start_time": "2022-09-20T11:55:28.055Z"
   },
   {
    "duration": 292,
    "start_time": "2022-09-20T11:55:28.069Z"
   },
   {
    "duration": 39,
    "start_time": "2022-09-20T11:55:28.365Z"
   },
   {
    "duration": 20,
    "start_time": "2022-09-20T11:55:28.406Z"
   },
   {
    "duration": 247,
    "start_time": "2022-09-20T11:55:28.428Z"
   },
   {
    "duration": 23,
    "start_time": "2022-09-20T11:55:28.677Z"
   },
   {
    "duration": 244,
    "start_time": "2022-09-20T11:55:28.702Z"
   },
   {
    "duration": 56,
    "start_time": "2022-09-20T11:55:28.947Z"
   },
   {
    "duration": 18,
    "start_time": "2022-09-20T11:55:29.005Z"
   },
   {
    "duration": 320,
    "start_time": "2022-09-20T11:55:29.024Z"
   },
   {
    "duration": 1128,
    "start_time": "2022-09-20T11:55:29.346Z"
   },
   {
    "duration": 14,
    "start_time": "2022-09-20T11:55:30.476Z"
   },
   {
    "duration": 885,
    "start_time": "2022-09-20T11:55:30.492Z"
   },
   {
    "duration": 20,
    "start_time": "2022-09-20T11:55:31.378Z"
   },
   {
    "duration": 11,
    "start_time": "2022-09-20T11:55:31.400Z"
   },
   {
    "duration": 0,
    "start_time": "2022-09-20T11:55:31.412Z"
   },
   {
    "duration": 0,
    "start_time": "2022-09-20T11:55:31.414Z"
   },
   {
    "duration": 113,
    "start_time": "2022-09-20T12:09:05.401Z"
   },
   {
    "duration": 261,
    "start_time": "2022-09-20T12:09:15.350Z"
   },
   {
    "duration": 237,
    "start_time": "2022-09-20T12:09:57.082Z"
   },
   {
    "duration": 333,
    "start_time": "2022-09-20T12:10:18.067Z"
   },
   {
    "duration": 252,
    "start_time": "2022-09-20T12:10:35.301Z"
   },
   {
    "duration": 274,
    "start_time": "2022-09-20T12:10:46.434Z"
   },
   {
    "duration": 28,
    "start_time": "2022-09-20T12:14:29.148Z"
   },
   {
    "duration": 21,
    "start_time": "2022-09-20T12:14:34.981Z"
   },
   {
    "duration": 274,
    "start_time": "2022-09-20T12:14:36.634Z"
   },
   {
    "duration": 16,
    "start_time": "2022-09-20T12:22:20.423Z"
   },
   {
    "duration": 20,
    "start_time": "2022-09-20T12:22:22.992Z"
   },
   {
    "duration": 266,
    "start_time": "2022-09-20T12:23:07.348Z"
   },
   {
    "duration": 17,
    "start_time": "2022-09-20T12:26:13.906Z"
   },
   {
    "duration": 20,
    "start_time": "2022-09-20T12:26:15.187Z"
   },
   {
    "duration": 17,
    "start_time": "2022-09-20T12:26:27.586Z"
   },
   {
    "duration": 231,
    "start_time": "2022-09-20T12:26:28.909Z"
   },
   {
    "duration": 3,
    "start_time": "2022-09-20T12:48:00.107Z"
   },
   {
    "duration": 148,
    "start_time": "2022-09-20T12:48:00.113Z"
   },
   {
    "duration": 19,
    "start_time": "2022-09-20T12:48:00.264Z"
   },
   {
    "duration": 29,
    "start_time": "2022-09-20T12:48:00.285Z"
   },
   {
    "duration": 15,
    "start_time": "2022-09-20T12:48:00.317Z"
   },
   {
    "duration": 16,
    "start_time": "2022-09-20T12:48:00.334Z"
   },
   {
    "duration": 25,
    "start_time": "2022-09-20T12:48:00.352Z"
   },
   {
    "duration": 25,
    "start_time": "2022-09-20T12:48:00.379Z"
   },
   {
    "duration": 7,
    "start_time": "2022-09-20T12:48:00.406Z"
   },
   {
    "duration": 15,
    "start_time": "2022-09-20T12:48:00.415Z"
   },
   {
    "duration": 47,
    "start_time": "2022-09-20T12:48:00.433Z"
   },
   {
    "duration": 16,
    "start_time": "2022-09-20T12:48:00.483Z"
   },
   {
    "duration": 22,
    "start_time": "2022-09-20T12:48:00.501Z"
   },
   {
    "duration": 347,
    "start_time": "2022-09-20T12:48:00.525Z"
   },
   {
    "duration": 24,
    "start_time": "2022-09-20T12:48:00.874Z"
   },
   {
    "duration": 126,
    "start_time": "2022-09-20T12:48:00.900Z"
   },
   {
    "duration": 23,
    "start_time": "2022-09-20T12:48:01.028Z"
   },
   {
    "duration": 311,
    "start_time": "2022-09-20T12:48:01.053Z"
   },
   {
    "duration": 14,
    "start_time": "2022-09-20T12:48:01.366Z"
   },
   {
    "duration": 284,
    "start_time": "2022-09-20T12:48:01.390Z"
   },
   {
    "duration": 33,
    "start_time": "2022-09-20T12:48:01.676Z"
   },
   {
    "duration": 26,
    "start_time": "2022-09-20T12:48:01.711Z"
   },
   {
    "duration": 437,
    "start_time": "2022-09-20T12:48:01.739Z"
   },
   {
    "duration": 23,
    "start_time": "2022-09-20T12:48:02.178Z"
   },
   {
    "duration": 251,
    "start_time": "2022-09-20T12:48:02.203Z"
   },
   {
    "duration": 4,
    "start_time": "2022-09-20T12:48:02.456Z"
   },
   {
    "duration": 16,
    "start_time": "2022-09-20T12:48:02.461Z"
   },
   {
    "duration": 18,
    "start_time": "2022-09-20T12:48:02.480Z"
   },
   {
    "duration": 0,
    "start_time": "2022-09-20T12:48:02.499Z"
   },
   {
    "duration": 0,
    "start_time": "2022-09-20T12:48:02.501Z"
   },
   {
    "duration": 0,
    "start_time": "2022-09-20T12:48:02.502Z"
   },
   {
    "duration": 0,
    "start_time": "2022-09-20T12:48:02.503Z"
   },
   {
    "duration": 0,
    "start_time": "2022-09-20T12:48:02.504Z"
   },
   {
    "duration": 0,
    "start_time": "2022-09-20T12:48:02.505Z"
   },
   {
    "duration": 0,
    "start_time": "2022-09-20T12:48:02.506Z"
   },
   {
    "duration": 0,
    "start_time": "2022-09-20T12:48:02.507Z"
   },
   {
    "duration": 4,
    "start_time": "2022-09-20T12:48:45.922Z"
   },
   {
    "duration": 173,
    "start_time": "2022-09-20T12:48:45.928Z"
   },
   {
    "duration": 14,
    "start_time": "2022-09-20T12:48:46.103Z"
   },
   {
    "duration": 10,
    "start_time": "2022-09-20T12:48:46.119Z"
   },
   {
    "duration": 10,
    "start_time": "2022-09-20T12:48:46.131Z"
   },
   {
    "duration": 14,
    "start_time": "2022-09-20T12:48:46.143Z"
   },
   {
    "duration": 37,
    "start_time": "2022-09-20T12:48:46.159Z"
   },
   {
    "duration": 10,
    "start_time": "2022-09-20T12:48:46.198Z"
   },
   {
    "duration": 8,
    "start_time": "2022-09-20T12:48:46.209Z"
   },
   {
    "duration": 12,
    "start_time": "2022-09-20T12:48:46.219Z"
   },
   {
    "duration": 30,
    "start_time": "2022-09-20T12:48:46.234Z"
   },
   {
    "duration": 37,
    "start_time": "2022-09-20T12:48:46.266Z"
   },
   {
    "duration": 18,
    "start_time": "2022-09-20T12:48:46.305Z"
   },
   {
    "duration": 325,
    "start_time": "2022-09-20T12:48:46.325Z"
   },
   {
    "duration": 16,
    "start_time": "2022-09-20T12:48:46.651Z"
   },
   {
    "duration": 131,
    "start_time": "2022-09-20T12:48:46.669Z"
   },
   {
    "duration": 21,
    "start_time": "2022-09-20T12:48:46.802Z"
   },
   {
    "duration": 334,
    "start_time": "2022-09-20T12:48:46.825Z"
   },
   {
    "duration": 13,
    "start_time": "2022-09-20T12:48:47.162Z"
   },
   {
    "duration": 300,
    "start_time": "2022-09-20T12:48:47.176Z"
   },
   {
    "duration": 31,
    "start_time": "2022-09-20T12:48:47.477Z"
   },
   {
    "duration": 21,
    "start_time": "2022-09-20T12:48:47.510Z"
   },
   {
    "duration": 270,
    "start_time": "2022-09-20T12:48:47.532Z"
   },
   {
    "duration": 18,
    "start_time": "2022-09-20T12:48:47.804Z"
   },
   {
    "duration": 265,
    "start_time": "2022-09-20T12:48:47.824Z"
   },
   {
    "duration": 3,
    "start_time": "2022-09-20T12:48:48.091Z"
   },
   {
    "duration": 8,
    "start_time": "2022-09-20T12:48:48.096Z"
   },
   {
    "duration": 144,
    "start_time": "2022-09-20T12:48:48.106Z"
   },
   {
    "duration": 18,
    "start_time": "2022-09-20T12:48:48.253Z"
   },
   {
    "duration": 316,
    "start_time": "2022-09-20T12:48:48.273Z"
   },
   {
    "duration": 1092,
    "start_time": "2022-09-20T12:48:48.590Z"
   },
   {
    "duration": 14,
    "start_time": "2022-09-20T12:48:49.684Z"
   },
   {
    "duration": 865,
    "start_time": "2022-09-20T12:48:49.700Z"
   },
   {
    "duration": 29,
    "start_time": "2022-09-20T12:48:50.567Z"
   },
   {
    "duration": 10,
    "start_time": "2022-09-20T12:48:50.597Z"
   },
   {
    "duration": 0,
    "start_time": "2022-09-20T12:48:50.608Z"
   },
   {
    "duration": 0,
    "start_time": "2022-09-20T12:48:50.609Z"
   },
   {
    "duration": 138,
    "start_time": "2022-09-20T12:49:14.165Z"
   },
   {
    "duration": 4,
    "start_time": "2022-09-20T12:55:39.789Z"
   },
   {
    "duration": 154,
    "start_time": "2022-09-20T12:55:39.795Z"
   },
   {
    "duration": 14,
    "start_time": "2022-09-20T12:55:39.951Z"
   },
   {
    "duration": 11,
    "start_time": "2022-09-20T12:55:39.967Z"
   },
   {
    "duration": 12,
    "start_time": "2022-09-20T12:55:39.980Z"
   },
   {
    "duration": 5,
    "start_time": "2022-09-20T12:55:39.993Z"
   },
   {
    "duration": 17,
    "start_time": "2022-09-20T12:55:40.000Z"
   },
   {
    "duration": 8,
    "start_time": "2022-09-20T12:55:40.019Z"
   },
   {
    "duration": 11,
    "start_time": "2022-09-20T12:55:40.029Z"
   },
   {
    "duration": 14,
    "start_time": "2022-09-20T12:55:40.041Z"
   },
   {
    "duration": 46,
    "start_time": "2022-09-20T12:55:40.058Z"
   },
   {
    "duration": 16,
    "start_time": "2022-09-20T12:55:40.106Z"
   },
   {
    "duration": 141,
    "start_time": "2022-09-20T12:55:40.124Z"
   },
   {
    "duration": 337,
    "start_time": "2022-09-20T12:55:40.266Z"
   },
   {
    "duration": 16,
    "start_time": "2022-09-20T12:55:40.605Z"
   },
   {
    "duration": 131,
    "start_time": "2022-09-20T12:55:40.623Z"
   },
   {
    "duration": 33,
    "start_time": "2022-09-20T12:55:40.756Z"
   },
   {
    "duration": 308,
    "start_time": "2022-09-20T12:55:40.792Z"
   },
   {
    "duration": 13,
    "start_time": "2022-09-20T12:55:41.103Z"
   },
   {
    "duration": 313,
    "start_time": "2022-09-20T12:55:41.118Z"
   },
   {
    "duration": 26,
    "start_time": "2022-09-20T12:55:41.435Z"
   },
   {
    "duration": 38,
    "start_time": "2022-09-20T12:55:41.464Z"
   },
   {
    "duration": 297,
    "start_time": "2022-09-20T12:55:41.504Z"
   },
   {
    "duration": 22,
    "start_time": "2022-09-20T12:55:41.804Z"
   },
   {
    "duration": 325,
    "start_time": "2022-09-20T12:55:41.828Z"
   },
   {
    "duration": 2,
    "start_time": "2022-09-20T12:55:42.155Z"
   },
   {
    "duration": 13,
    "start_time": "2022-09-20T12:55:42.160Z"
   },
   {
    "duration": 147,
    "start_time": "2022-09-20T12:55:42.175Z"
   },
   {
    "duration": 17,
    "start_time": "2022-09-20T12:55:42.323Z"
   },
   {
    "duration": 301,
    "start_time": "2022-09-20T12:55:42.341Z"
   },
   {
    "duration": 1076,
    "start_time": "2022-09-20T12:55:42.644Z"
   },
   {
    "duration": 10,
    "start_time": "2022-09-20T12:55:43.722Z"
   },
   {
    "duration": 0,
    "start_time": "2022-09-20T12:55:43.734Z"
   },
   {
    "duration": 0,
    "start_time": "2022-09-20T12:55:43.736Z"
   },
   {
    "duration": 0,
    "start_time": "2022-09-20T12:55:43.738Z"
   },
   {
    "duration": 0,
    "start_time": "2022-09-20T12:55:43.739Z"
   },
   {
    "duration": 14,
    "start_time": "2022-09-20T12:57:46.436Z"
   },
   {
    "duration": 18,
    "start_time": "2022-09-20T12:58:03.479Z"
   },
   {
    "duration": 17,
    "start_time": "2022-09-20T12:59:52.004Z"
   },
   {
    "duration": 3,
    "start_time": "2022-09-20T12:59:58.747Z"
   },
   {
    "duration": 107,
    "start_time": "2022-09-20T12:59:58.754Z"
   },
   {
    "duration": 14,
    "start_time": "2022-09-20T12:59:58.863Z"
   },
   {
    "duration": 12,
    "start_time": "2022-09-20T12:59:58.879Z"
   },
   {
    "duration": 12,
    "start_time": "2022-09-20T12:59:58.893Z"
   },
   {
    "duration": 5,
    "start_time": "2022-09-20T12:59:58.906Z"
   },
   {
    "duration": 15,
    "start_time": "2022-09-20T12:59:58.913Z"
   },
   {
    "duration": 10,
    "start_time": "2022-09-20T12:59:58.929Z"
   },
   {
    "duration": 5,
    "start_time": "2022-09-20T12:59:58.941Z"
   },
   {
    "duration": 17,
    "start_time": "2022-09-20T12:59:58.948Z"
   },
   {
    "duration": 40,
    "start_time": "2022-09-20T12:59:58.967Z"
   },
   {
    "duration": 14,
    "start_time": "2022-09-20T12:59:59.009Z"
   },
   {
    "duration": 18,
    "start_time": "2022-09-20T12:59:59.025Z"
   },
   {
    "duration": 341,
    "start_time": "2022-09-20T12:59:59.044Z"
   },
   {
    "duration": 16,
    "start_time": "2022-09-20T12:59:59.389Z"
   },
   {
    "duration": 127,
    "start_time": "2022-09-20T12:59:59.407Z"
   },
   {
    "duration": 20,
    "start_time": "2022-09-20T12:59:59.537Z"
   },
   {
    "duration": 293,
    "start_time": "2022-09-20T12:59:59.559Z"
   },
   {
    "duration": 12,
    "start_time": "2022-09-20T12:59:59.854Z"
   },
   {
    "duration": 286,
    "start_time": "2022-09-20T12:59:59.869Z"
   },
   {
    "duration": 33,
    "start_time": "2022-09-20T13:00:00.157Z"
   },
   {
    "duration": 21,
    "start_time": "2022-09-20T13:00:00.192Z"
   },
   {
    "duration": 425,
    "start_time": "2022-09-20T13:00:00.215Z"
   },
   {
    "duration": 20,
    "start_time": "2022-09-20T13:00:00.642Z"
   },
   {
    "duration": 284,
    "start_time": "2022-09-20T13:00:00.664Z"
   },
   {
    "duration": 2,
    "start_time": "2022-09-20T13:00:00.950Z"
   },
   {
    "duration": 18,
    "start_time": "2022-09-20T13:00:00.954Z"
   },
   {
    "duration": 150,
    "start_time": "2022-09-20T13:00:00.974Z"
   },
   {
    "duration": 18,
    "start_time": "2022-09-20T13:00:01.125Z"
   },
   {
    "duration": 322,
    "start_time": "2022-09-20T13:00:01.145Z"
   },
   {
    "duration": 1026,
    "start_time": "2022-09-20T13:00:01.469Z"
   },
   {
    "duration": 12,
    "start_time": "2022-09-20T13:00:02.497Z"
   },
   {
    "duration": 43,
    "start_time": "2022-09-20T13:00:02.511Z"
   },
   {
    "duration": 9,
    "start_time": "2022-09-20T13:00:02.556Z"
   },
   {
    "duration": 0,
    "start_time": "2022-09-20T13:00:02.567Z"
   },
   {
    "duration": 0,
    "start_time": "2022-09-20T13:00:02.568Z"
   },
   {
    "duration": 883,
    "start_time": "2022-09-20T13:02:08.440Z"
   },
   {
    "duration": 812,
    "start_time": "2022-09-20T13:02:28.527Z"
   },
   {
    "duration": 14,
    "start_time": "2022-09-20T13:03:10.921Z"
   },
   {
    "duration": 1105,
    "start_time": "2022-09-20T13:04:54.714Z"
   },
   {
    "duration": 16,
    "start_time": "2022-09-20T13:06:54.537Z"
   },
   {
    "duration": 11,
    "start_time": "2022-09-20T13:09:19.381Z"
   },
   {
    "duration": 3,
    "start_time": "2022-09-20T13:09:30.616Z"
   },
   {
    "duration": 119,
    "start_time": "2022-09-20T13:09:30.621Z"
   },
   {
    "duration": 19,
    "start_time": "2022-09-20T13:09:30.742Z"
   },
   {
    "duration": 25,
    "start_time": "2022-09-20T13:09:30.763Z"
   },
   {
    "duration": 26,
    "start_time": "2022-09-20T13:09:30.790Z"
   },
   {
    "duration": 33,
    "start_time": "2022-09-20T13:09:30.818Z"
   },
   {
    "duration": 28,
    "start_time": "2022-09-20T13:09:30.853Z"
   },
   {
    "duration": 20,
    "start_time": "2022-09-20T13:09:30.883Z"
   },
   {
    "duration": 41,
    "start_time": "2022-09-20T13:09:30.906Z"
   },
   {
    "duration": 24,
    "start_time": "2022-09-20T13:09:30.949Z"
   },
   {
    "duration": 52,
    "start_time": "2022-09-20T13:09:30.974Z"
   },
   {
    "duration": 18,
    "start_time": "2022-09-20T13:09:31.027Z"
   },
   {
    "duration": 18,
    "start_time": "2022-09-20T13:09:31.047Z"
   },
   {
    "duration": 299,
    "start_time": "2022-09-20T13:09:31.067Z"
   },
   {
    "duration": 27,
    "start_time": "2022-09-20T13:09:31.369Z"
   },
   {
    "duration": 110,
    "start_time": "2022-09-20T13:09:31.398Z"
   },
   {
    "duration": 21,
    "start_time": "2022-09-20T13:09:31.510Z"
   },
   {
    "duration": 294,
    "start_time": "2022-09-20T13:09:31.532Z"
   },
   {
    "duration": 15,
    "start_time": "2022-09-20T13:09:31.828Z"
   },
   {
    "duration": 321,
    "start_time": "2022-09-20T13:09:31.845Z"
   },
   {
    "duration": 34,
    "start_time": "2022-09-20T13:09:32.167Z"
   },
   {
    "duration": 19,
    "start_time": "2022-09-20T13:09:32.203Z"
   },
   {
    "duration": 242,
    "start_time": "2022-09-20T13:09:32.224Z"
   },
   {
    "duration": 30,
    "start_time": "2022-09-20T13:09:32.470Z"
   },
   {
    "duration": 234,
    "start_time": "2022-09-20T13:09:32.502Z"
   },
   {
    "duration": 3,
    "start_time": "2022-09-20T13:09:32.737Z"
   },
   {
    "duration": 6,
    "start_time": "2022-09-20T13:09:32.741Z"
   },
   {
    "duration": 136,
    "start_time": "2022-09-20T13:09:32.748Z"
   },
   {
    "duration": 18,
    "start_time": "2022-09-20T13:09:32.886Z"
   },
   {
    "duration": 321,
    "start_time": "2022-09-20T13:09:32.906Z"
   },
   {
    "duration": 1023,
    "start_time": "2022-09-20T13:09:33.229Z"
   },
   {
    "duration": 11,
    "start_time": "2022-09-20T13:09:34.253Z"
   },
   {
    "duration": 17,
    "start_time": "2022-09-20T13:09:34.266Z"
   },
   {
    "duration": 8,
    "start_time": "2022-09-20T13:09:34.285Z"
   },
   {
    "duration": 0,
    "start_time": "2022-09-20T13:09:34.295Z"
   },
   {
    "duration": 0,
    "start_time": "2022-09-20T13:09:34.296Z"
   },
   {
    "duration": 1367,
    "start_time": "2022-09-20T13:13:02.092Z"
   },
   {
    "duration": 28,
    "start_time": "2022-09-20T13:14:13.989Z"
   },
   {
    "duration": 19,
    "start_time": "2022-09-20T13:14:51.854Z"
   },
   {
    "duration": 27,
    "start_time": "2022-09-20T13:15:54.253Z"
   },
   {
    "duration": 4,
    "start_time": "2022-09-20T13:17:49.443Z"
   },
   {
    "duration": 181,
    "start_time": "2022-09-20T13:17:49.468Z"
   },
   {
    "duration": 14,
    "start_time": "2022-09-20T13:17:49.651Z"
   },
   {
    "duration": 23,
    "start_time": "2022-09-20T13:17:49.666Z"
   },
   {
    "duration": 11,
    "start_time": "2022-09-20T13:17:49.691Z"
   },
   {
    "duration": 10,
    "start_time": "2022-09-20T13:17:49.704Z"
   },
   {
    "duration": 26,
    "start_time": "2022-09-20T13:17:49.717Z"
   },
   {
    "duration": 10,
    "start_time": "2022-09-20T13:17:49.745Z"
   },
   {
    "duration": 8,
    "start_time": "2022-09-20T13:17:49.757Z"
   },
   {
    "duration": 12,
    "start_time": "2022-09-20T13:17:49.766Z"
   },
   {
    "duration": 28,
    "start_time": "2022-09-20T13:17:49.788Z"
   },
   {
    "duration": 15,
    "start_time": "2022-09-20T13:17:49.818Z"
   },
   {
    "duration": 17,
    "start_time": "2022-09-20T13:17:49.834Z"
   },
   {
    "duration": 351,
    "start_time": "2022-09-20T13:17:49.853Z"
   },
   {
    "duration": 18,
    "start_time": "2022-09-20T13:17:50.206Z"
   },
   {
    "duration": 253,
    "start_time": "2022-09-20T13:17:50.226Z"
   },
   {
    "duration": 20,
    "start_time": "2022-09-20T13:17:50.489Z"
   },
   {
    "duration": 314,
    "start_time": "2022-09-20T13:17:50.511Z"
   },
   {
    "duration": 13,
    "start_time": "2022-09-20T13:17:50.827Z"
   },
   {
    "duration": 286,
    "start_time": "2022-09-20T13:17:50.841Z"
   },
   {
    "duration": 25,
    "start_time": "2022-09-20T13:17:51.129Z"
   },
   {
    "duration": 34,
    "start_time": "2022-09-20T13:17:51.156Z"
   },
   {
    "duration": 274,
    "start_time": "2022-09-20T13:17:51.192Z"
   },
   {
    "duration": 30,
    "start_time": "2022-09-20T13:17:51.468Z"
   },
   {
    "duration": 249,
    "start_time": "2022-09-20T13:17:51.500Z"
   },
   {
    "duration": 3,
    "start_time": "2022-09-20T13:17:51.751Z"
   },
   {
    "duration": 6,
    "start_time": "2022-09-20T13:17:51.758Z"
   },
   {
    "duration": 186,
    "start_time": "2022-09-20T13:17:51.766Z"
   },
   {
    "duration": 34,
    "start_time": "2022-09-20T13:17:51.955Z"
   },
   {
    "duration": 332,
    "start_time": "2022-09-20T13:17:51.992Z"
   },
   {
    "duration": 923,
    "start_time": "2022-09-20T13:17:52.326Z"
   },
   {
    "duration": 28,
    "start_time": "2022-09-20T13:17:53.251Z"
   },
   {
    "duration": 0,
    "start_time": "2022-09-20T13:17:53.281Z"
   },
   {
    "duration": 0,
    "start_time": "2022-09-20T13:17:53.282Z"
   },
   {
    "duration": 0,
    "start_time": "2022-09-20T13:17:53.283Z"
   },
   {
    "duration": 0,
    "start_time": "2022-09-20T13:17:53.284Z"
   },
   {
    "duration": 3,
    "start_time": "2022-09-20T13:18:55.224Z"
   },
   {
    "duration": 122,
    "start_time": "2022-09-20T13:18:55.232Z"
   },
   {
    "duration": 24,
    "start_time": "2022-09-20T13:18:55.356Z"
   },
   {
    "duration": 16,
    "start_time": "2022-09-20T13:18:55.382Z"
   },
   {
    "duration": 11,
    "start_time": "2022-09-20T13:18:55.400Z"
   },
   {
    "duration": 14,
    "start_time": "2022-09-20T13:18:55.413Z"
   },
   {
    "duration": 25,
    "start_time": "2022-09-20T13:18:55.429Z"
   },
   {
    "duration": 10,
    "start_time": "2022-09-20T13:18:55.457Z"
   },
   {
    "duration": 10,
    "start_time": "2022-09-20T13:18:55.468Z"
   },
   {
    "duration": 12,
    "start_time": "2022-09-20T13:18:55.490Z"
   },
   {
    "duration": 35,
    "start_time": "2022-09-20T13:18:55.505Z"
   },
   {
    "duration": 15,
    "start_time": "2022-09-20T13:18:55.542Z"
   },
   {
    "duration": 46,
    "start_time": "2022-09-20T13:18:55.559Z"
   },
   {
    "duration": 358,
    "start_time": "2022-09-20T13:18:55.606Z"
   },
   {
    "duration": 28,
    "start_time": "2022-09-20T13:18:55.966Z"
   },
   {
    "duration": 128,
    "start_time": "2022-09-20T13:18:55.996Z"
   },
   {
    "duration": 34,
    "start_time": "2022-09-20T13:18:56.126Z"
   },
   {
    "duration": 346,
    "start_time": "2022-09-20T13:18:56.165Z"
   },
   {
    "duration": 12,
    "start_time": "2022-09-20T13:18:56.513Z"
   },
   {
    "duration": 295,
    "start_time": "2022-09-20T13:18:56.527Z"
   },
   {
    "duration": 27,
    "start_time": "2022-09-20T13:18:56.823Z"
   },
   {
    "duration": 43,
    "start_time": "2022-09-20T13:18:56.852Z"
   },
   {
    "duration": 265,
    "start_time": "2022-09-20T13:18:56.897Z"
   },
   {
    "duration": 33,
    "start_time": "2022-09-20T13:18:57.164Z"
   },
   {
    "duration": 396,
    "start_time": "2022-09-20T13:18:57.199Z"
   },
   {
    "duration": 3,
    "start_time": "2022-09-20T13:18:57.597Z"
   },
   {
    "duration": 12,
    "start_time": "2022-09-20T13:18:57.602Z"
   },
   {
    "duration": 145,
    "start_time": "2022-09-20T13:18:57.616Z"
   },
   {
    "duration": 28,
    "start_time": "2022-09-20T13:18:57.762Z"
   },
   {
    "duration": 351,
    "start_time": "2022-09-20T13:18:57.792Z"
   },
   {
    "duration": 1063,
    "start_time": "2022-09-20T13:18:58.145Z"
   },
   {
    "duration": 9,
    "start_time": "2022-09-20T13:18:59.211Z"
   },
   {
    "duration": 29,
    "start_time": "2022-09-20T13:18:59.222Z"
   },
   {
    "duration": 0,
    "start_time": "2022-09-20T13:18:59.253Z"
   },
   {
    "duration": 0,
    "start_time": "2022-09-20T13:18:59.254Z"
   },
   {
    "duration": 0,
    "start_time": "2022-09-20T13:18:59.255Z"
   },
   {
    "duration": 0,
    "start_time": "2022-09-20T13:18:59.256Z"
   },
   {
    "duration": 19,
    "start_time": "2022-09-20T13:21:56.625Z"
   },
   {
    "duration": 23,
    "start_time": "2022-09-20T13:23:49.170Z"
   },
   {
    "duration": 3,
    "start_time": "2022-09-20T13:23:58.880Z"
   },
   {
    "duration": 330,
    "start_time": "2022-09-20T13:23:58.885Z"
   },
   {
    "duration": 15,
    "start_time": "2022-09-20T13:23:59.217Z"
   },
   {
    "duration": 13,
    "start_time": "2022-09-20T13:23:59.233Z"
   },
   {
    "duration": 8,
    "start_time": "2022-09-20T13:23:59.249Z"
   },
   {
    "duration": 6,
    "start_time": "2022-09-20T13:23:59.259Z"
   },
   {
    "duration": 31,
    "start_time": "2022-09-20T13:23:59.266Z"
   },
   {
    "duration": 5,
    "start_time": "2022-09-20T13:23:59.299Z"
   },
   {
    "duration": 6,
    "start_time": "2022-09-20T13:23:59.306Z"
   },
   {
    "duration": 14,
    "start_time": "2022-09-20T13:23:59.313Z"
   },
   {
    "duration": 32,
    "start_time": "2022-09-20T13:23:59.329Z"
   },
   {
    "duration": 38,
    "start_time": "2022-09-20T13:23:59.363Z"
   },
   {
    "duration": 18,
    "start_time": "2022-09-20T13:23:59.403Z"
   },
   {
    "duration": 324,
    "start_time": "2022-09-20T13:23:59.423Z"
   },
   {
    "duration": 16,
    "start_time": "2022-09-20T13:23:59.749Z"
   },
   {
    "duration": 125,
    "start_time": "2022-09-20T13:23:59.766Z"
   },
   {
    "duration": 20,
    "start_time": "2022-09-20T13:23:59.893Z"
   },
   {
    "duration": 303,
    "start_time": "2022-09-20T13:23:59.915Z"
   },
   {
    "duration": 13,
    "start_time": "2022-09-20T13:24:00.219Z"
   },
   {
    "duration": 303,
    "start_time": "2022-09-20T13:24:00.234Z"
   },
   {
    "duration": 24,
    "start_time": "2022-09-20T13:24:00.539Z"
   },
   {
    "duration": 37,
    "start_time": "2022-09-20T13:24:00.565Z"
   },
   {
    "duration": 303,
    "start_time": "2022-09-20T13:24:00.603Z"
   },
   {
    "duration": 17,
    "start_time": "2022-09-20T13:24:00.908Z"
   },
   {
    "duration": 249,
    "start_time": "2022-09-20T13:24:00.927Z"
   },
   {
    "duration": 3,
    "start_time": "2022-09-20T13:24:01.178Z"
   },
   {
    "duration": 34,
    "start_time": "2022-09-20T13:24:01.189Z"
   },
   {
    "duration": 165,
    "start_time": "2022-09-20T13:24:01.225Z"
   },
   {
    "duration": 19,
    "start_time": "2022-09-20T13:24:01.394Z"
   },
   {
    "duration": 331,
    "start_time": "2022-09-20T13:24:01.415Z"
   },
   {
    "duration": 1090,
    "start_time": "2022-09-20T13:24:01.748Z"
   },
   {
    "duration": 22,
    "start_time": "2022-09-20T13:24:02.840Z"
   },
   {
    "duration": 0,
    "start_time": "2022-09-20T13:24:02.864Z"
   },
   {
    "duration": 0,
    "start_time": "2022-09-20T13:24:02.865Z"
   },
   {
    "duration": 0,
    "start_time": "2022-09-20T13:24:02.867Z"
   },
   {
    "duration": 0,
    "start_time": "2022-09-20T13:24:02.868Z"
   },
   {
    "duration": 18,
    "start_time": "2022-09-20T13:25:27.067Z"
   },
   {
    "duration": 16,
    "start_time": "2022-09-20T13:25:49.997Z"
   },
   {
    "duration": 1089,
    "start_time": "2022-09-20T13:31:28.376Z"
   },
   {
    "duration": 11,
    "start_time": "2022-09-20T13:31:55.953Z"
   },
   {
    "duration": 17,
    "start_time": "2022-09-20T13:33:26.275Z"
   },
   {
    "duration": 18,
    "start_time": "2022-09-20T13:33:39.947Z"
   },
   {
    "duration": 3,
    "start_time": "2022-09-20T13:33:57.789Z"
   },
   {
    "duration": 129,
    "start_time": "2022-09-20T13:33:57.797Z"
   },
   {
    "duration": 15,
    "start_time": "2022-09-20T13:33:57.929Z"
   },
   {
    "duration": 13,
    "start_time": "2022-09-20T13:33:57.946Z"
   },
   {
    "duration": 8,
    "start_time": "2022-09-20T13:33:57.961Z"
   },
   {
    "duration": 22,
    "start_time": "2022-09-20T13:33:57.971Z"
   },
   {
    "duration": 15,
    "start_time": "2022-09-20T13:33:57.995Z"
   },
   {
    "duration": 6,
    "start_time": "2022-09-20T13:33:58.012Z"
   },
   {
    "duration": 10,
    "start_time": "2022-09-20T13:33:58.020Z"
   },
   {
    "duration": 22,
    "start_time": "2022-09-20T13:33:58.032Z"
   },
   {
    "duration": 50,
    "start_time": "2022-09-20T13:33:58.056Z"
   },
   {
    "duration": 15,
    "start_time": "2022-09-20T13:33:58.108Z"
   },
   {
    "duration": 17,
    "start_time": "2022-09-20T13:33:58.125Z"
   },
   {
    "duration": 353,
    "start_time": "2022-09-20T13:33:58.144Z"
   },
   {
    "duration": 19,
    "start_time": "2022-09-20T13:33:58.499Z"
   },
   {
    "duration": 140,
    "start_time": "2022-09-20T13:33:58.520Z"
   },
   {
    "duration": 31,
    "start_time": "2022-09-20T13:33:58.662Z"
   },
   {
    "duration": 417,
    "start_time": "2022-09-20T13:33:58.695Z"
   },
   {
    "duration": 13,
    "start_time": "2022-09-20T13:33:59.114Z"
   },
   {
    "duration": 308,
    "start_time": "2022-09-20T13:33:59.129Z"
   },
   {
    "duration": 26,
    "start_time": "2022-09-20T13:33:59.440Z"
   },
   {
    "duration": 34,
    "start_time": "2022-09-20T13:33:59.467Z"
   },
   {
    "duration": 264,
    "start_time": "2022-09-20T13:33:59.503Z"
   },
   {
    "duration": 23,
    "start_time": "2022-09-20T13:33:59.769Z"
   },
   {
    "duration": 254,
    "start_time": "2022-09-20T13:33:59.794Z"
   },
   {
    "duration": 2,
    "start_time": "2022-09-20T13:34:00.050Z"
   },
   {
    "duration": 9,
    "start_time": "2022-09-20T13:34:00.054Z"
   },
   {
    "duration": 148,
    "start_time": "2022-09-20T13:34:00.065Z"
   },
   {
    "duration": 19,
    "start_time": "2022-09-20T13:34:00.215Z"
   },
   {
    "duration": 337,
    "start_time": "2022-09-20T13:34:00.236Z"
   },
   {
    "duration": 852,
    "start_time": "2022-09-20T13:34:00.575Z"
   },
   {
    "duration": 11,
    "start_time": "2022-09-20T13:34:01.428Z"
   },
   {
    "duration": 29,
    "start_time": "2022-09-20T13:34:01.441Z"
   },
   {
    "duration": 42,
    "start_time": "2022-09-20T13:34:01.471Z"
   },
   {
    "duration": 29,
    "start_time": "2022-09-20T13:34:01.514Z"
   },
   {
    "duration": 662,
    "start_time": "2022-09-20T13:34:01.545Z"
   },
   {
    "duration": 6,
    "start_time": "2022-09-20T13:34:14.176Z"
   },
   {
    "duration": 3,
    "start_time": "2022-09-20T13:34:26.752Z"
   },
   {
    "duration": 112,
    "start_time": "2022-09-20T13:34:26.759Z"
   },
   {
    "duration": 13,
    "start_time": "2022-09-20T13:34:26.873Z"
   },
   {
    "duration": 11,
    "start_time": "2022-09-20T13:34:26.887Z"
   },
   {
    "duration": 7,
    "start_time": "2022-09-20T13:34:26.900Z"
   },
   {
    "duration": 4,
    "start_time": "2022-09-20T13:34:26.908Z"
   },
   {
    "duration": 14,
    "start_time": "2022-09-20T13:34:26.913Z"
   },
   {
    "duration": 7,
    "start_time": "2022-09-20T13:34:26.929Z"
   },
   {
    "duration": 6,
    "start_time": "2022-09-20T13:34:26.937Z"
   },
   {
    "duration": 11,
    "start_time": "2022-09-20T13:34:26.944Z"
   },
   {
    "duration": 56,
    "start_time": "2022-09-20T13:34:26.957Z"
   },
   {
    "duration": 16,
    "start_time": "2022-09-20T13:34:27.014Z"
   },
   {
    "duration": 17,
    "start_time": "2022-09-20T13:34:27.032Z"
   },
   {
    "duration": 342,
    "start_time": "2022-09-20T13:34:27.050Z"
   },
   {
    "duration": 18,
    "start_time": "2022-09-20T13:34:27.394Z"
   },
   {
    "duration": 126,
    "start_time": "2022-09-20T13:34:27.414Z"
   },
   {
    "duration": 22,
    "start_time": "2022-09-20T13:34:27.542Z"
   },
   {
    "duration": 294,
    "start_time": "2022-09-20T13:34:27.566Z"
   },
   {
    "duration": 13,
    "start_time": "2022-09-20T13:34:27.862Z"
   },
   {
    "duration": 265,
    "start_time": "2022-09-20T13:34:27.890Z"
   },
   {
    "duration": 32,
    "start_time": "2022-09-20T13:34:28.158Z"
   },
   {
    "duration": 22,
    "start_time": "2022-09-20T13:34:28.192Z"
   },
   {
    "duration": 391,
    "start_time": "2022-09-20T13:34:28.216Z"
   },
   {
    "duration": 16,
    "start_time": "2022-09-20T13:34:28.609Z"
   },
   {
    "duration": 242,
    "start_time": "2022-09-20T13:34:28.627Z"
   },
   {
    "duration": 3,
    "start_time": "2022-09-20T13:34:28.871Z"
   },
   {
    "duration": 13,
    "start_time": "2022-09-20T13:34:28.876Z"
   },
   {
    "duration": 133,
    "start_time": "2022-09-20T13:34:28.890Z"
   },
   {
    "duration": 17,
    "start_time": "2022-09-20T13:34:29.025Z"
   },
   {
    "duration": 306,
    "start_time": "2022-09-20T13:34:29.044Z"
   },
   {
    "duration": 870,
    "start_time": "2022-09-20T13:34:29.352Z"
   },
   {
    "duration": 8,
    "start_time": "2022-09-20T13:34:30.224Z"
   },
   {
    "duration": 32,
    "start_time": "2022-09-20T13:34:30.234Z"
   },
   {
    "duration": 24,
    "start_time": "2022-09-20T13:34:30.268Z"
   },
   {
    "duration": 15,
    "start_time": "2022-09-20T13:34:30.295Z"
   },
   {
    "duration": 628,
    "start_time": "2022-09-20T13:34:30.312Z"
   },
   {
    "duration": 27,
    "start_time": "2022-09-20T13:37:28.736Z"
   },
   {
    "duration": 31,
    "start_time": "2022-09-20T13:40:35.115Z"
   },
   {
    "duration": 4,
    "start_time": "2022-09-20T13:40:40.108Z"
   },
   {
    "duration": 191,
    "start_time": "2022-09-20T13:40:40.139Z"
   },
   {
    "duration": 13,
    "start_time": "2022-09-20T13:40:40.332Z"
   },
   {
    "duration": 11,
    "start_time": "2022-09-20T13:40:40.347Z"
   },
   {
    "duration": 8,
    "start_time": "2022-09-20T13:40:40.359Z"
   },
   {
    "duration": 21,
    "start_time": "2022-09-20T13:40:40.369Z"
   },
   {
    "duration": 12,
    "start_time": "2022-09-20T13:40:40.392Z"
   },
   {
    "duration": 8,
    "start_time": "2022-09-20T13:40:40.406Z"
   },
   {
    "duration": 8,
    "start_time": "2022-09-20T13:40:40.416Z"
   },
   {
    "duration": 11,
    "start_time": "2022-09-20T13:40:40.426Z"
   },
   {
    "duration": 52,
    "start_time": "2022-09-20T13:40:40.438Z"
   },
   {
    "duration": 14,
    "start_time": "2022-09-20T13:40:40.492Z"
   },
   {
    "duration": 16,
    "start_time": "2022-09-20T13:40:40.508Z"
   },
   {
    "duration": 351,
    "start_time": "2022-09-20T13:40:40.525Z"
   },
   {
    "duration": 22,
    "start_time": "2022-09-20T13:40:40.878Z"
   },
   {
    "duration": 128,
    "start_time": "2022-09-20T13:40:40.901Z"
   },
   {
    "duration": 20,
    "start_time": "2022-09-20T13:40:41.030Z"
   },
   {
    "duration": 296,
    "start_time": "2022-09-20T13:40:41.052Z"
   },
   {
    "duration": 13,
    "start_time": "2022-09-20T13:40:41.350Z"
   },
   {
    "duration": 307,
    "start_time": "2022-09-20T13:40:41.365Z"
   },
   {
    "duration": 37,
    "start_time": "2022-09-20T13:40:41.674Z"
   },
   {
    "duration": 21,
    "start_time": "2022-09-20T13:40:41.713Z"
   },
   {
    "duration": 327,
    "start_time": "2022-09-20T13:40:41.736Z"
   },
   {
    "duration": 31,
    "start_time": "2022-09-20T13:40:42.065Z"
   },
   {
    "duration": 277,
    "start_time": "2022-09-20T13:40:42.099Z"
   },
   {
    "duration": 11,
    "start_time": "2022-09-20T13:40:42.378Z"
   },
   {
    "duration": 5,
    "start_time": "2022-09-20T13:40:42.391Z"
   },
   {
    "duration": 139,
    "start_time": "2022-09-20T13:40:42.398Z"
   },
   {
    "duration": 16,
    "start_time": "2022-09-20T13:40:42.538Z"
   },
   {
    "duration": 426,
    "start_time": "2022-09-20T13:40:42.555Z"
   },
   {
    "duration": 1140,
    "start_time": "2022-09-20T13:40:42.983Z"
   },
   {
    "duration": 25,
    "start_time": "2022-09-20T13:40:44.125Z"
   },
   {
    "duration": 0,
    "start_time": "2022-09-20T13:40:44.152Z"
   },
   {
    "duration": 0,
    "start_time": "2022-09-20T13:40:44.153Z"
   },
   {
    "duration": 0,
    "start_time": "2022-09-20T13:40:44.154Z"
   },
   {
    "duration": 0,
    "start_time": "2022-09-20T13:40:44.155Z"
   },
   {
    "duration": 3,
    "start_time": "2022-09-20T13:45:02.841Z"
   },
   {
    "duration": 206,
    "start_time": "2022-09-20T13:45:02.877Z"
   },
   {
    "duration": 15,
    "start_time": "2022-09-20T13:45:03.085Z"
   },
   {
    "duration": 14,
    "start_time": "2022-09-20T13:45:03.102Z"
   },
   {
    "duration": 7,
    "start_time": "2022-09-20T13:45:03.119Z"
   },
   {
    "duration": 4,
    "start_time": "2022-09-20T13:45:03.128Z"
   },
   {
    "duration": 16,
    "start_time": "2022-09-20T13:45:03.133Z"
   },
   {
    "duration": 5,
    "start_time": "2022-09-20T13:45:03.151Z"
   },
   {
    "duration": 7,
    "start_time": "2022-09-20T13:45:03.190Z"
   },
   {
    "duration": 14,
    "start_time": "2022-09-20T13:45:03.198Z"
   },
   {
    "duration": 35,
    "start_time": "2022-09-20T13:45:03.215Z"
   },
   {
    "duration": 43,
    "start_time": "2022-09-20T13:45:03.252Z"
   },
   {
    "duration": 20,
    "start_time": "2022-09-20T13:45:03.297Z"
   },
   {
    "duration": 340,
    "start_time": "2022-09-20T13:45:03.319Z"
   },
   {
    "duration": 28,
    "start_time": "2022-09-20T13:45:03.661Z"
   },
   {
    "duration": 125,
    "start_time": "2022-09-20T13:45:03.691Z"
   },
   {
    "duration": 22,
    "start_time": "2022-09-20T13:45:03.817Z"
   },
   {
    "duration": 323,
    "start_time": "2022-09-20T13:45:03.841Z"
   },
   {
    "duration": 13,
    "start_time": "2022-09-20T13:45:04.166Z"
   },
   {
    "duration": 313,
    "start_time": "2022-09-20T13:45:04.190Z"
   },
   {
    "duration": 28,
    "start_time": "2022-09-20T13:45:04.506Z"
   },
   {
    "duration": 21,
    "start_time": "2022-09-20T13:45:04.536Z"
   },
   {
    "duration": 275,
    "start_time": "2022-09-20T13:45:04.559Z"
   },
   {
    "duration": 18,
    "start_time": "2022-09-20T13:45:04.836Z"
   },
   {
    "duration": 272,
    "start_time": "2022-09-20T13:45:04.856Z"
   },
   {
    "duration": 3,
    "start_time": "2022-09-20T13:45:05.132Z"
   },
   {
    "duration": 27,
    "start_time": "2022-09-20T13:45:05.137Z"
   },
   {
    "duration": 157,
    "start_time": "2022-09-20T13:45:05.166Z"
   },
   {
    "duration": 19,
    "start_time": "2022-09-20T13:45:05.325Z"
   },
   {
    "duration": 330,
    "start_time": "2022-09-20T13:45:05.346Z"
   },
   {
    "duration": 1273,
    "start_time": "2022-09-20T13:45:05.679Z"
   },
   {
    "duration": 7,
    "start_time": "2022-09-20T13:45:06.954Z"
   },
   {
    "duration": 53,
    "start_time": "2022-09-20T13:45:06.963Z"
   },
   {
    "duration": 0,
    "start_time": "2022-09-20T13:45:07.019Z"
   },
   {
    "duration": 0,
    "start_time": "2022-09-20T13:45:07.021Z"
   },
   {
    "duration": 0,
    "start_time": "2022-09-20T13:45:07.023Z"
   },
   {
    "duration": 0,
    "start_time": "2022-09-20T13:45:07.024Z"
   },
   {
    "duration": 4,
    "start_time": "2022-09-20T13:48:37.907Z"
   },
   {
    "duration": 186,
    "start_time": "2022-09-20T13:48:37.923Z"
   },
   {
    "duration": 13,
    "start_time": "2022-09-20T13:48:38.111Z"
   },
   {
    "duration": 20,
    "start_time": "2022-09-20T13:48:38.126Z"
   },
   {
    "duration": 17,
    "start_time": "2022-09-20T13:48:38.148Z"
   },
   {
    "duration": 19,
    "start_time": "2022-09-20T13:48:38.167Z"
   },
   {
    "duration": 23,
    "start_time": "2022-09-20T13:48:38.187Z"
   },
   {
    "duration": 35,
    "start_time": "2022-09-20T13:48:38.212Z"
   },
   {
    "duration": 39,
    "start_time": "2022-09-20T13:48:38.248Z"
   },
   {
    "duration": 19,
    "start_time": "2022-09-20T13:48:38.289Z"
   },
   {
    "duration": 37,
    "start_time": "2022-09-20T13:48:38.311Z"
   },
   {
    "duration": 14,
    "start_time": "2022-09-20T13:48:38.350Z"
   },
   {
    "duration": 24,
    "start_time": "2022-09-20T13:48:38.366Z"
   },
   {
    "duration": 319,
    "start_time": "2022-09-20T13:48:38.391Z"
   },
   {
    "duration": 17,
    "start_time": "2022-09-20T13:48:38.713Z"
   },
   {
    "duration": 125,
    "start_time": "2022-09-20T13:48:38.732Z"
   },
   {
    "duration": 31,
    "start_time": "2022-09-20T13:48:38.859Z"
   },
   {
    "duration": 283,
    "start_time": "2022-09-20T13:48:38.892Z"
   },
   {
    "duration": 20,
    "start_time": "2022-09-20T13:48:39.177Z"
   },
   {
    "duration": 392,
    "start_time": "2022-09-20T13:48:39.199Z"
   },
   {
    "duration": 26,
    "start_time": "2022-09-20T13:48:39.592Z"
   },
   {
    "duration": 19,
    "start_time": "2022-09-20T13:48:39.620Z"
   },
   {
    "duration": 256,
    "start_time": "2022-09-20T13:48:39.641Z"
   },
   {
    "duration": 17,
    "start_time": "2022-09-20T13:48:39.899Z"
   },
   {
    "duration": 259,
    "start_time": "2022-09-20T13:48:39.918Z"
   },
   {
    "duration": 10,
    "start_time": "2022-09-20T13:48:40.179Z"
   },
   {
    "duration": 4,
    "start_time": "2022-09-20T13:48:40.191Z"
   },
   {
    "duration": 140,
    "start_time": "2022-09-20T13:48:40.196Z"
   },
   {
    "duration": 19,
    "start_time": "2022-09-20T13:48:40.339Z"
   },
   {
    "duration": 311,
    "start_time": "2022-09-20T13:48:40.359Z"
   },
   {
    "duration": 888,
    "start_time": "2022-09-20T13:48:40.672Z"
   },
   {
    "duration": 7,
    "start_time": "2022-09-20T13:48:41.562Z"
   },
   {
    "duration": 27,
    "start_time": "2022-09-20T13:48:41.571Z"
   },
   {
    "duration": 22,
    "start_time": "2022-09-20T13:48:41.600Z"
   },
   {
    "duration": 37,
    "start_time": "2022-09-20T13:48:41.624Z"
   },
   {
    "duration": 26,
    "start_time": "2022-09-20T13:48:41.663Z"
   },
   {
    "duration": 735,
    "start_time": "2022-09-20T13:48:41.691Z"
   },
   {
    "duration": 22,
    "start_time": "2022-09-20T13:49:53.041Z"
   },
   {
    "duration": 28,
    "start_time": "2022-09-20T13:54:37.684Z"
   },
   {
    "duration": 9,
    "start_time": "2022-09-20T14:05:15.745Z"
   },
   {
    "duration": 11,
    "start_time": "2022-09-20T14:05:32.877Z"
   },
   {
    "duration": 15,
    "start_time": "2022-09-20T14:06:50.420Z"
   },
   {
    "duration": 72,
    "start_time": "2022-09-20T14:08:51.384Z"
   },
   {
    "duration": 15,
    "start_time": "2022-09-20T14:08:58.136Z"
   },
   {
    "duration": 8,
    "start_time": "2022-09-20T14:10:03.079Z"
   },
   {
    "duration": 6,
    "start_time": "2022-09-20T14:11:09.256Z"
   },
   {
    "duration": 8,
    "start_time": "2022-09-20T14:11:43.405Z"
   },
   {
    "duration": 13,
    "start_time": "2022-09-20T14:15:57.637Z"
   },
   {
    "duration": 4,
    "start_time": "2022-09-20T14:16:09.402Z"
   },
   {
    "duration": 129,
    "start_time": "2022-09-20T14:16:09.409Z"
   },
   {
    "duration": 18,
    "start_time": "2022-09-20T14:16:09.540Z"
   },
   {
    "duration": 30,
    "start_time": "2022-09-20T14:16:09.560Z"
   },
   {
    "duration": 8,
    "start_time": "2022-09-20T14:16:09.593Z"
   },
   {
    "duration": 20,
    "start_time": "2022-09-20T14:16:09.602Z"
   },
   {
    "duration": 24,
    "start_time": "2022-09-20T14:16:09.624Z"
   },
   {
    "duration": 6,
    "start_time": "2022-09-20T14:16:09.651Z"
   },
   {
    "duration": 6,
    "start_time": "2022-09-20T14:16:09.659Z"
   },
   {
    "duration": 31,
    "start_time": "2022-09-20T14:16:09.667Z"
   },
   {
    "duration": 35,
    "start_time": "2022-09-20T14:16:09.702Z"
   },
   {
    "duration": 19,
    "start_time": "2022-09-20T14:16:09.739Z"
   },
   {
    "duration": 45,
    "start_time": "2022-09-20T14:16:09.759Z"
   },
   {
    "duration": 337,
    "start_time": "2022-09-20T14:16:09.805Z"
   },
   {
    "duration": 19,
    "start_time": "2022-09-20T14:16:10.143Z"
   },
   {
    "duration": 133,
    "start_time": "2022-09-20T14:16:10.164Z"
   },
   {
    "duration": 26,
    "start_time": "2022-09-20T14:16:10.299Z"
   },
   {
    "duration": 355,
    "start_time": "2022-09-20T14:16:10.328Z"
   },
   {
    "duration": 14,
    "start_time": "2022-09-20T14:16:10.689Z"
   },
   {
    "duration": 364,
    "start_time": "2022-09-20T14:16:10.705Z"
   },
   {
    "duration": 41,
    "start_time": "2022-09-20T14:16:11.072Z"
   },
   {
    "duration": 22,
    "start_time": "2022-09-20T14:16:11.115Z"
   },
   {
    "duration": 382,
    "start_time": "2022-09-20T14:16:11.139Z"
   },
   {
    "duration": 19,
    "start_time": "2022-09-20T14:16:11.523Z"
   },
   {
    "duration": 339,
    "start_time": "2022-09-20T14:16:11.545Z"
   },
   {
    "duration": 7,
    "start_time": "2022-09-20T14:16:11.886Z"
   },
   {
    "duration": 10,
    "start_time": "2022-09-20T14:16:11.897Z"
   },
   {
    "duration": 221,
    "start_time": "2022-09-20T14:16:11.909Z"
   },
   {
    "duration": 24,
    "start_time": "2022-09-20T14:16:12.132Z"
   },
   {
    "duration": 443,
    "start_time": "2022-09-20T14:16:12.157Z"
   },
   {
    "duration": 2597,
    "start_time": "2022-09-20T14:16:12.601Z"
   },
   {
    "duration": 13,
    "start_time": "2022-09-20T14:16:15.200Z"
   },
   {
    "duration": 0,
    "start_time": "2022-09-20T14:16:15.214Z"
   },
   {
    "duration": 0,
    "start_time": "2022-09-20T14:16:15.216Z"
   },
   {
    "duration": 0,
    "start_time": "2022-09-20T14:16:15.217Z"
   },
   {
    "duration": 0,
    "start_time": "2022-09-20T14:16:15.219Z"
   },
   {
    "duration": 15,
    "start_time": "2022-09-20T14:16:28.934Z"
   },
   {
    "duration": 8,
    "start_time": "2022-09-20T14:22:39.379Z"
   },
   {
    "duration": 7,
    "start_time": "2022-09-20T14:22:54.720Z"
   },
   {
    "duration": 4,
    "start_time": "2022-09-20T14:23:29.123Z"
   },
   {
    "duration": 10,
    "start_time": "2022-09-20T14:23:42.232Z"
   },
   {
    "duration": 15,
    "start_time": "2022-09-20T14:25:19.399Z"
   },
   {
    "duration": 13,
    "start_time": "2022-09-20T14:28:22.634Z"
   },
   {
    "duration": 12,
    "start_time": "2022-09-20T14:30:54.224Z"
   },
   {
    "duration": 11,
    "start_time": "2022-09-20T14:31:08.549Z"
   },
   {
    "duration": 3,
    "start_time": "2022-09-20T14:31:37.596Z"
   },
   {
    "duration": 313,
    "start_time": "2022-09-20T14:31:37.602Z"
   },
   {
    "duration": 14,
    "start_time": "2022-09-20T14:31:37.918Z"
   },
   {
    "duration": 9,
    "start_time": "2022-09-20T14:31:37.934Z"
   },
   {
    "duration": 17,
    "start_time": "2022-09-20T14:31:37.945Z"
   },
   {
    "duration": 9,
    "start_time": "2022-09-20T14:31:37.964Z"
   },
   {
    "duration": 24,
    "start_time": "2022-09-20T14:31:37.975Z"
   },
   {
    "duration": 10,
    "start_time": "2022-09-20T14:31:38.001Z"
   },
   {
    "duration": 7,
    "start_time": "2022-09-20T14:31:38.012Z"
   },
   {
    "duration": 11,
    "start_time": "2022-09-20T14:31:38.021Z"
   },
   {
    "duration": 28,
    "start_time": "2022-09-20T14:31:38.036Z"
   },
   {
    "duration": 16,
    "start_time": "2022-09-20T14:31:38.088Z"
   },
   {
    "duration": 15,
    "start_time": "2022-09-20T14:31:38.106Z"
   },
   {
    "duration": 339,
    "start_time": "2022-09-20T14:31:38.123Z"
   },
   {
    "duration": 26,
    "start_time": "2022-09-20T14:31:38.464Z"
   },
   {
    "duration": 117,
    "start_time": "2022-09-20T14:31:38.491Z"
   },
   {
    "duration": 20,
    "start_time": "2022-09-20T14:31:38.610Z"
   },
   {
    "duration": 285,
    "start_time": "2022-09-20T14:31:38.631Z"
   },
   {
    "duration": 10,
    "start_time": "2022-09-20T14:31:38.918Z"
   },
   {
    "duration": 278,
    "start_time": "2022-09-20T14:31:38.930Z"
   },
   {
    "duration": 24,
    "start_time": "2022-09-20T14:31:39.210Z"
   },
   {
    "duration": 19,
    "start_time": "2022-09-20T14:31:39.236Z"
   },
   {
    "duration": 253,
    "start_time": "2022-09-20T14:31:39.257Z"
   },
   {
    "duration": 17,
    "start_time": "2022-09-20T14:31:39.512Z"
   },
   {
    "duration": 246,
    "start_time": "2022-09-20T14:31:39.531Z"
   },
   {
    "duration": 3,
    "start_time": "2022-09-20T14:31:39.779Z"
   },
   {
    "duration": 7,
    "start_time": "2022-09-20T14:31:39.784Z"
   },
   {
    "duration": 140,
    "start_time": "2022-09-20T14:31:39.792Z"
   },
   {
    "duration": 16,
    "start_time": "2022-09-20T14:31:39.935Z"
   },
   {
    "duration": 304,
    "start_time": "2022-09-20T14:31:39.953Z"
   },
   {
    "duration": 1394,
    "start_time": "2022-09-20T14:31:40.258Z"
   },
   {
    "duration": 14,
    "start_time": "2022-09-20T14:31:41.654Z"
   },
   {
    "duration": 23,
    "start_time": "2022-09-20T14:31:41.669Z"
   },
   {
    "duration": 19,
    "start_time": "2022-09-20T14:31:41.694Z"
   },
   {
    "duration": 16,
    "start_time": "2022-09-20T14:31:41.715Z"
   },
   {
    "duration": 727,
    "start_time": "2022-09-20T14:31:41.733Z"
   },
   {
    "duration": 919,
    "start_time": "2022-09-20T14:33:26.095Z"
   },
   {
    "duration": 14,
    "start_time": "2022-09-20T14:36:38.902Z"
   },
   {
    "duration": 20,
    "start_time": "2022-09-20T14:36:51.839Z"
   },
   {
    "duration": 25,
    "start_time": "2022-09-20T14:38:29.829Z"
   },
   {
    "duration": 9,
    "start_time": "2022-09-20T14:40:23.268Z"
   },
   {
    "duration": 87,
    "start_time": "2022-09-20T14:41:19.984Z"
   },
   {
    "duration": 8,
    "start_time": "2022-09-20T14:41:55.798Z"
   },
   {
    "duration": 4,
    "start_time": "2022-09-20T14:42:11.991Z"
   },
   {
    "duration": 114,
    "start_time": "2022-09-20T14:42:12.005Z"
   },
   {
    "duration": 13,
    "start_time": "2022-09-20T14:42:12.121Z"
   },
   {
    "duration": 17,
    "start_time": "2022-09-20T14:42:12.136Z"
   },
   {
    "duration": 12,
    "start_time": "2022-09-20T14:42:12.155Z"
   },
   {
    "duration": 20,
    "start_time": "2022-09-20T14:42:12.169Z"
   },
   {
    "duration": 22,
    "start_time": "2022-09-20T14:42:12.191Z"
   },
   {
    "duration": 8,
    "start_time": "2022-09-20T14:42:12.215Z"
   },
   {
    "duration": 5,
    "start_time": "2022-09-20T14:42:12.225Z"
   },
   {
    "duration": 16,
    "start_time": "2022-09-20T14:42:12.232Z"
   },
   {
    "duration": 35,
    "start_time": "2022-09-20T14:42:12.250Z"
   },
   {
    "duration": 15,
    "start_time": "2022-09-20T14:42:12.290Z"
   },
   {
    "duration": 17,
    "start_time": "2022-09-20T14:42:12.307Z"
   },
   {
    "duration": 341,
    "start_time": "2022-09-20T14:42:12.326Z"
   },
   {
    "duration": 22,
    "start_time": "2022-09-20T14:42:12.669Z"
   },
   {
    "duration": 257,
    "start_time": "2022-09-20T14:42:12.693Z"
   },
   {
    "duration": 19,
    "start_time": "2022-09-20T14:42:12.951Z"
   },
   {
    "duration": 279,
    "start_time": "2022-09-20T14:42:12.973Z"
   },
   {
    "duration": 11,
    "start_time": "2022-09-20T14:42:13.254Z"
   },
   {
    "duration": 292,
    "start_time": "2022-09-20T14:42:13.267Z"
   },
   {
    "duration": 35,
    "start_time": "2022-09-20T14:42:13.562Z"
   },
   {
    "duration": 20,
    "start_time": "2022-09-20T14:42:13.599Z"
   },
   {
    "duration": 254,
    "start_time": "2022-09-20T14:42:13.621Z"
   },
   {
    "duration": 24,
    "start_time": "2022-09-20T14:42:13.877Z"
   },
   {
    "duration": 243,
    "start_time": "2022-09-20T14:42:13.903Z"
   },
   {
    "duration": 2,
    "start_time": "2022-09-20T14:42:14.148Z"
   },
   {
    "duration": 19,
    "start_time": "2022-09-20T14:42:14.152Z"
   },
   {
    "duration": 136,
    "start_time": "2022-09-20T14:42:14.172Z"
   },
   {
    "duration": 15,
    "start_time": "2022-09-20T14:42:14.310Z"
   },
   {
    "duration": 291,
    "start_time": "2022-09-20T14:42:14.327Z"
   },
   {
    "duration": 1336,
    "start_time": "2022-09-20T14:42:14.620Z"
   },
   {
    "duration": 10,
    "start_time": "2022-09-20T14:42:15.957Z"
   },
   {
    "duration": 0,
    "start_time": "2022-09-20T14:42:15.968Z"
   },
   {
    "duration": 0,
    "start_time": "2022-09-20T14:42:15.969Z"
   },
   {
    "duration": 0,
    "start_time": "2022-09-20T14:42:15.970Z"
   },
   {
    "duration": 0,
    "start_time": "2022-09-20T14:42:15.972Z"
   },
   {
    "duration": 0,
    "start_time": "2022-09-20T14:42:15.973Z"
   },
   {
    "duration": 9,
    "start_time": "2022-09-20T14:43:14.617Z"
   },
   {
    "duration": 9,
    "start_time": "2022-09-20T14:52:01.341Z"
   },
   {
    "duration": 14,
    "start_time": "2022-09-20T14:52:16.581Z"
   },
   {
    "duration": 11,
    "start_time": "2022-09-20T14:55:44.473Z"
   },
   {
    "duration": 11,
    "start_time": "2022-09-20T14:56:00.686Z"
   },
   {
    "duration": 2191,
    "start_time": "2022-09-20T15:00:34.067Z"
   },
   {
    "duration": 12,
    "start_time": "2022-09-20T15:01:41.550Z"
   },
   {
    "duration": 21,
    "start_time": "2022-09-20T15:03:18.585Z"
   },
   {
    "duration": 22,
    "start_time": "2022-09-20T15:03:44.092Z"
   },
   {
    "duration": 17,
    "start_time": "2022-09-20T15:04:04.413Z"
   },
   {
    "duration": 10,
    "start_time": "2022-09-20T15:04:27.482Z"
   },
   {
    "duration": 10,
    "start_time": "2022-09-20T15:04:32.483Z"
   },
   {
    "duration": 4,
    "start_time": "2022-09-20T15:04:35.117Z"
   },
   {
    "duration": 138,
    "start_time": "2022-09-20T15:04:35.129Z"
   },
   {
    "duration": 16,
    "start_time": "2022-09-20T15:04:35.269Z"
   },
   {
    "duration": 28,
    "start_time": "2022-09-20T15:04:35.287Z"
   },
   {
    "duration": 29,
    "start_time": "2022-09-20T15:04:35.318Z"
   },
   {
    "duration": 17,
    "start_time": "2022-09-20T15:04:35.349Z"
   },
   {
    "duration": 45,
    "start_time": "2022-09-20T15:04:35.368Z"
   },
   {
    "duration": 30,
    "start_time": "2022-09-20T15:04:35.415Z"
   },
   {
    "duration": 23,
    "start_time": "2022-09-20T15:04:35.447Z"
   },
   {
    "duration": 22,
    "start_time": "2022-09-20T15:04:35.471Z"
   },
   {
    "duration": 34,
    "start_time": "2022-09-20T15:04:35.497Z"
   },
   {
    "duration": 30,
    "start_time": "2022-09-20T15:04:35.533Z"
   },
   {
    "duration": 28,
    "start_time": "2022-09-20T15:04:35.565Z"
   },
   {
    "duration": 330,
    "start_time": "2022-09-20T15:04:35.595Z"
   },
   {
    "duration": 18,
    "start_time": "2022-09-20T15:04:35.926Z"
   },
   {
    "duration": 126,
    "start_time": "2022-09-20T15:04:35.946Z"
   },
   {
    "duration": 27,
    "start_time": "2022-09-20T15:04:36.074Z"
   },
   {
    "duration": 299,
    "start_time": "2022-09-20T15:04:36.103Z"
   },
   {
    "duration": 12,
    "start_time": "2022-09-20T15:04:36.403Z"
   },
   {
    "duration": 288,
    "start_time": "2022-09-20T15:04:36.417Z"
   },
   {
    "duration": 25,
    "start_time": "2022-09-20T15:04:36.707Z"
   },
   {
    "duration": 19,
    "start_time": "2022-09-20T15:04:36.734Z"
   },
   {
    "duration": 268,
    "start_time": "2022-09-20T15:04:36.755Z"
   },
   {
    "duration": 18,
    "start_time": "2022-09-20T15:04:37.025Z"
   },
   {
    "duration": 254,
    "start_time": "2022-09-20T15:04:37.044Z"
   },
   {
    "duration": 3,
    "start_time": "2022-09-20T15:04:37.300Z"
   },
   {
    "duration": 6,
    "start_time": "2022-09-20T15:04:37.304Z"
   },
   {
    "duration": 152,
    "start_time": "2022-09-20T15:04:37.312Z"
   },
   {
    "duration": 26,
    "start_time": "2022-09-20T15:04:37.468Z"
   },
   {
    "duration": 301,
    "start_time": "2022-09-20T15:04:37.495Z"
   },
   {
    "duration": 951,
    "start_time": "2022-09-20T15:04:37.798Z"
   },
   {
    "duration": 7,
    "start_time": "2022-09-20T15:04:38.751Z"
   },
   {
    "duration": 17,
    "start_time": "2022-09-20T15:04:38.759Z"
   },
   {
    "duration": 25,
    "start_time": "2022-09-20T15:04:38.778Z"
   },
   {
    "duration": 23,
    "start_time": "2022-09-20T15:04:38.805Z"
   },
   {
    "duration": 171,
    "start_time": "2022-09-20T15:04:38.830Z"
   },
   {
    "duration": 645,
    "start_time": "2022-09-20T15:04:39.004Z"
   },
   {
    "duration": 18,
    "start_time": "2022-09-20T15:08:10.397Z"
   },
   {
    "duration": 15,
    "start_time": "2022-09-20T15:09:06.747Z"
   },
   {
    "duration": 1088,
    "start_time": "2022-09-20T15:11:56.015Z"
   },
   {
    "duration": 14,
    "start_time": "2022-09-20T15:12:05.292Z"
   },
   {
    "duration": 14,
    "start_time": "2022-09-20T15:12:12.552Z"
   },
   {
    "duration": 14,
    "start_time": "2022-09-20T15:12:27.105Z"
   },
   {
    "duration": 14,
    "start_time": "2022-09-20T15:16:03.566Z"
   },
   {
    "duration": 8,
    "start_time": "2022-09-20T15:27:27.730Z"
   },
   {
    "duration": 3,
    "start_time": "2022-09-20T15:27:41.539Z"
   },
   {
    "duration": 127,
    "start_time": "2022-09-20T15:27:41.548Z"
   },
   {
    "duration": 17,
    "start_time": "2022-09-20T15:27:41.677Z"
   },
   {
    "duration": 8,
    "start_time": "2022-09-20T15:27:41.696Z"
   },
   {
    "duration": 6,
    "start_time": "2022-09-20T15:27:41.707Z"
   },
   {
    "duration": 7,
    "start_time": "2022-09-20T15:27:41.715Z"
   },
   {
    "duration": 15,
    "start_time": "2022-09-20T15:27:41.724Z"
   },
   {
    "duration": 11,
    "start_time": "2022-09-20T15:27:41.741Z"
   },
   {
    "duration": 6,
    "start_time": "2022-09-20T15:27:41.754Z"
   },
   {
    "duration": 12,
    "start_time": "2022-09-20T15:27:41.790Z"
   },
   {
    "duration": 39,
    "start_time": "2022-09-20T15:27:41.806Z"
   },
   {
    "duration": 48,
    "start_time": "2022-09-20T15:27:41.847Z"
   },
   {
    "duration": 22,
    "start_time": "2022-09-20T15:27:41.897Z"
   },
   {
    "duration": 363,
    "start_time": "2022-09-20T15:27:41.921Z"
   },
   {
    "duration": 17,
    "start_time": "2022-09-20T15:27:42.286Z"
   },
   {
    "duration": 120,
    "start_time": "2022-09-20T15:27:42.304Z"
   },
   {
    "duration": 20,
    "start_time": "2022-09-20T15:27:42.426Z"
   },
   {
    "duration": 286,
    "start_time": "2022-09-20T15:27:42.448Z"
   },
   {
    "duration": 11,
    "start_time": "2022-09-20T15:27:42.736Z"
   },
   {
    "duration": 270,
    "start_time": "2022-09-20T15:27:42.748Z"
   },
   {
    "duration": 23,
    "start_time": "2022-09-20T15:27:43.021Z"
   },
   {
    "duration": 18,
    "start_time": "2022-09-20T15:27:43.045Z"
   },
   {
    "duration": 255,
    "start_time": "2022-09-20T15:27:43.065Z"
   },
   {
    "duration": 18,
    "start_time": "2022-09-20T15:27:43.321Z"
   },
   {
    "duration": 262,
    "start_time": "2022-09-20T15:27:43.341Z"
   },
   {
    "duration": 3,
    "start_time": "2022-09-20T15:27:43.605Z"
   },
   {
    "duration": 8,
    "start_time": "2022-09-20T15:27:43.609Z"
   },
   {
    "duration": 139,
    "start_time": "2022-09-20T15:27:43.618Z"
   },
   {
    "duration": 16,
    "start_time": "2022-09-20T15:27:43.759Z"
   },
   {
    "duration": 299,
    "start_time": "2022-09-20T15:27:43.776Z"
   },
   {
    "duration": 1567,
    "start_time": "2022-09-20T15:27:44.077Z"
   },
   {
    "duration": 12,
    "start_time": "2022-09-20T15:27:45.646Z"
   },
   {
    "duration": 10,
    "start_time": "2022-09-20T15:27:45.660Z"
   },
   {
    "duration": 19,
    "start_time": "2022-09-20T15:27:45.672Z"
   },
   {
    "duration": 26,
    "start_time": "2022-09-20T15:27:45.693Z"
   },
   {
    "duration": 14,
    "start_time": "2022-09-20T15:27:45.721Z"
   },
   {
    "duration": 620,
    "start_time": "2022-09-20T15:27:45.737Z"
   },
   {
    "duration": 4,
    "start_time": "2022-09-20T15:30:05.034Z"
   },
   {
    "duration": 143,
    "start_time": "2022-09-20T15:30:05.042Z"
   },
   {
    "duration": 15,
    "start_time": "2022-09-20T15:30:05.188Z"
   },
   {
    "duration": 15,
    "start_time": "2022-09-20T15:30:05.204Z"
   },
   {
    "duration": 11,
    "start_time": "2022-09-20T15:30:05.222Z"
   },
   {
    "duration": 11,
    "start_time": "2022-09-20T15:30:05.235Z"
   },
   {
    "duration": 16,
    "start_time": "2022-09-20T15:30:05.248Z"
   },
   {
    "duration": 25,
    "start_time": "2022-09-20T15:30:05.266Z"
   },
   {
    "duration": 8,
    "start_time": "2022-09-20T15:30:05.293Z"
   },
   {
    "duration": 12,
    "start_time": "2022-09-20T15:30:05.303Z"
   },
   {
    "duration": 29,
    "start_time": "2022-09-20T15:30:05.318Z"
   },
   {
    "duration": 46,
    "start_time": "2022-09-20T15:30:05.349Z"
   },
   {
    "duration": 20,
    "start_time": "2022-09-20T15:30:05.397Z"
   },
   {
    "duration": 325,
    "start_time": "2022-09-20T15:30:05.418Z"
   },
   {
    "duration": 17,
    "start_time": "2022-09-20T15:30:05.744Z"
   },
   {
    "duration": 274,
    "start_time": "2022-09-20T15:30:05.763Z"
   },
   {
    "duration": 20,
    "start_time": "2022-09-20T15:30:06.039Z"
   },
   {
    "duration": 308,
    "start_time": "2022-09-20T15:30:06.061Z"
   },
   {
    "duration": 18,
    "start_time": "2022-09-20T15:30:06.371Z"
   },
   {
    "duration": 281,
    "start_time": "2022-09-20T15:30:06.390Z"
   },
   {
    "duration": 36,
    "start_time": "2022-09-20T15:30:06.674Z"
   },
   {
    "duration": 18,
    "start_time": "2022-09-20T15:30:06.712Z"
   },
   {
    "duration": 267,
    "start_time": "2022-09-20T15:30:06.732Z"
   },
   {
    "duration": 18,
    "start_time": "2022-09-20T15:30:07.001Z"
   },
   {
    "duration": 268,
    "start_time": "2022-09-20T15:30:07.021Z"
   },
   {
    "duration": 3,
    "start_time": "2022-09-20T15:30:07.291Z"
   },
   {
    "duration": 14,
    "start_time": "2022-09-20T15:30:07.295Z"
   },
   {
    "duration": 150,
    "start_time": "2022-09-20T15:30:07.310Z"
   },
   {
    "duration": 17,
    "start_time": "2022-09-20T15:30:07.462Z"
   },
   {
    "duration": 353,
    "start_time": "2022-09-20T15:30:07.489Z"
   },
   {
    "duration": 1166,
    "start_time": "2022-09-20T15:30:07.844Z"
   },
   {
    "duration": 15,
    "start_time": "2022-09-20T15:30:09.012Z"
   },
   {
    "duration": 12,
    "start_time": "2022-09-20T15:30:09.029Z"
   },
   {
    "duration": 47,
    "start_time": "2022-09-20T15:30:09.043Z"
   },
   {
    "duration": 18,
    "start_time": "2022-09-20T15:30:09.092Z"
   },
   {
    "duration": 16,
    "start_time": "2022-09-20T15:30:09.112Z"
   },
   {
    "duration": 605,
    "start_time": "2022-09-20T15:30:09.130Z"
   },
   {
    "duration": 24,
    "start_time": "2022-09-20T15:33:22.855Z"
   },
   {
    "duration": 25,
    "start_time": "2022-09-20T15:35:48.644Z"
   },
   {
    "duration": 25,
    "start_time": "2022-09-20T15:41:16.202Z"
   },
   {
    "duration": 16,
    "start_time": "2022-09-20T15:42:28.069Z"
   },
   {
    "duration": 23,
    "start_time": "2022-09-20T15:43:04.284Z"
   },
   {
    "duration": 1528,
    "start_time": "2022-09-20T15:45:03.517Z"
   },
   {
    "duration": 19,
    "start_time": "2022-09-20T15:45:17.807Z"
   },
   {
    "duration": 23,
    "start_time": "2022-09-20T15:47:00.793Z"
   },
   {
    "duration": 4,
    "start_time": "2022-09-20T15:47:38.163Z"
   },
   {
    "duration": 129,
    "start_time": "2022-09-20T15:47:38.182Z"
   },
   {
    "duration": 18,
    "start_time": "2022-09-20T15:47:38.313Z"
   },
   {
    "duration": 9,
    "start_time": "2022-09-20T15:47:38.333Z"
   },
   {
    "duration": 6,
    "start_time": "2022-09-20T15:47:38.344Z"
   },
   {
    "duration": 4,
    "start_time": "2022-09-20T15:47:38.351Z"
   },
   {
    "duration": 39,
    "start_time": "2022-09-20T15:47:38.356Z"
   },
   {
    "duration": 7,
    "start_time": "2022-09-20T15:47:38.397Z"
   },
   {
    "duration": 6,
    "start_time": "2022-09-20T15:47:38.406Z"
   },
   {
    "duration": 11,
    "start_time": "2022-09-20T15:47:38.413Z"
   },
   {
    "duration": 27,
    "start_time": "2022-09-20T15:47:38.427Z"
   },
   {
    "duration": 44,
    "start_time": "2022-09-20T15:47:38.455Z"
   },
   {
    "duration": 15,
    "start_time": "2022-09-20T15:47:38.501Z"
   },
   {
    "duration": 329,
    "start_time": "2022-09-20T15:47:38.518Z"
   },
   {
    "duration": 16,
    "start_time": "2022-09-20T15:47:38.849Z"
   },
   {
    "duration": 125,
    "start_time": "2022-09-20T15:47:38.867Z"
   },
   {
    "duration": 22,
    "start_time": "2022-09-20T15:47:38.994Z"
   },
   {
    "duration": 308,
    "start_time": "2022-09-20T15:47:39.017Z"
   },
   {
    "duration": 12,
    "start_time": "2022-09-20T15:47:39.327Z"
   },
   {
    "duration": 293,
    "start_time": "2022-09-20T15:47:39.341Z"
   },
   {
    "duration": 35,
    "start_time": "2022-09-20T15:47:39.635Z"
   },
   {
    "duration": 35,
    "start_time": "2022-09-20T15:47:39.672Z"
   },
   {
    "duration": 276,
    "start_time": "2022-09-20T15:47:39.710Z"
   },
   {
    "duration": 18,
    "start_time": "2022-09-20T15:47:39.989Z"
   },
   {
    "duration": 424,
    "start_time": "2022-09-20T15:47:40.009Z"
   },
   {
    "duration": 4,
    "start_time": "2022-09-20T15:47:40.434Z"
   },
   {
    "duration": 7,
    "start_time": "2022-09-20T15:47:40.439Z"
   },
   {
    "duration": 152,
    "start_time": "2022-09-20T15:47:40.447Z"
   },
   {
    "duration": 17,
    "start_time": "2022-09-20T15:47:40.600Z"
   },
   {
    "duration": 344,
    "start_time": "2022-09-20T15:47:40.620Z"
   },
   {
    "duration": 1300,
    "start_time": "2022-09-20T15:47:40.966Z"
   },
   {
    "duration": 20,
    "start_time": "2022-09-20T15:47:42.268Z"
   },
   {
    "duration": 13,
    "start_time": "2022-09-20T15:47:42.289Z"
   },
   {
    "duration": 26,
    "start_time": "2022-09-20T15:47:42.304Z"
   },
   {
    "duration": 19,
    "start_time": "2022-09-20T15:47:42.331Z"
   },
   {
    "duration": 40,
    "start_time": "2022-09-20T15:47:42.352Z"
   },
   {
    "duration": 642,
    "start_time": "2022-09-20T15:47:42.394Z"
   },
   {
    "duration": 4,
    "start_time": "2022-09-20T15:48:59.414Z"
   },
   {
    "duration": 118,
    "start_time": "2022-09-20T15:48:59.423Z"
   },
   {
    "duration": 14,
    "start_time": "2022-09-20T15:48:59.543Z"
   },
   {
    "duration": 14,
    "start_time": "2022-09-20T15:48:59.558Z"
   },
   {
    "duration": 25,
    "start_time": "2022-09-20T15:48:59.574Z"
   },
   {
    "duration": 4,
    "start_time": "2022-09-20T15:48:59.603Z"
   },
   {
    "duration": 14,
    "start_time": "2022-09-20T15:48:59.609Z"
   },
   {
    "duration": 8,
    "start_time": "2022-09-20T15:48:59.624Z"
   },
   {
    "duration": 6,
    "start_time": "2022-09-20T15:48:59.634Z"
   },
   {
    "duration": 11,
    "start_time": "2022-09-20T15:48:59.642Z"
   },
   {
    "duration": 33,
    "start_time": "2022-09-20T15:48:59.689Z"
   },
   {
    "duration": 16,
    "start_time": "2022-09-20T15:48:59.723Z"
   },
   {
    "duration": 16,
    "start_time": "2022-09-20T15:48:59.741Z"
   },
   {
    "duration": 354,
    "start_time": "2022-09-20T15:48:59.758Z"
   },
   {
    "duration": 18,
    "start_time": "2022-09-20T15:49:00.114Z"
   },
   {
    "duration": 138,
    "start_time": "2022-09-20T15:49:00.134Z"
   },
   {
    "duration": 31,
    "start_time": "2022-09-20T15:49:00.274Z"
   },
   {
    "duration": 296,
    "start_time": "2022-09-20T15:49:00.307Z"
   },
   {
    "duration": 12,
    "start_time": "2022-09-20T15:49:00.606Z"
   },
   {
    "duration": 302,
    "start_time": "2022-09-20T15:49:00.620Z"
   },
   {
    "duration": 26,
    "start_time": "2022-09-20T15:49:00.924Z"
   },
   {
    "duration": 38,
    "start_time": "2022-09-20T15:49:00.952Z"
   },
   {
    "duration": 249,
    "start_time": "2022-09-20T15:49:00.993Z"
   },
   {
    "duration": 17,
    "start_time": "2022-09-20T15:49:01.244Z"
   },
   {
    "duration": 255,
    "start_time": "2022-09-20T15:49:01.262Z"
   },
   {
    "duration": 4,
    "start_time": "2022-09-20T15:49:01.518Z"
   },
   {
    "duration": 43,
    "start_time": "2022-09-20T15:49:01.523Z"
   },
   {
    "duration": 140,
    "start_time": "2022-09-20T15:49:01.568Z"
   },
   {
    "duration": 17,
    "start_time": "2022-09-20T15:49:01.710Z"
   },
   {
    "duration": 374,
    "start_time": "2022-09-20T15:49:01.729Z"
   },
   {
    "duration": 1024,
    "start_time": "2022-09-20T15:49:02.105Z"
   },
   {
    "duration": 20,
    "start_time": "2022-09-20T15:49:03.130Z"
   },
   {
    "duration": 322,
    "start_time": "2022-09-20T15:49:03.152Z"
   },
   {
    "duration": 0,
    "start_time": "2022-09-20T15:49:03.475Z"
   },
   {
    "duration": 0,
    "start_time": "2022-09-20T15:49:03.477Z"
   },
   {
    "duration": 0,
    "start_time": "2022-09-20T15:49:03.478Z"
   },
   {
    "duration": 0,
    "start_time": "2022-09-20T15:49:03.479Z"
   },
   {
    "duration": 21,
    "start_time": "2022-09-20T15:56:41.140Z"
   },
   {
    "duration": 19,
    "start_time": "2022-09-20T15:58:21.565Z"
   },
   {
    "duration": 10,
    "start_time": "2022-09-20T15:58:49.656Z"
   },
   {
    "duration": 12,
    "start_time": "2022-09-20T16:01:23.601Z"
   },
   {
    "duration": 4,
    "start_time": "2022-09-20T16:02:11.526Z"
   },
   {
    "duration": 148,
    "start_time": "2022-09-20T16:02:11.553Z"
   },
   {
    "duration": 20,
    "start_time": "2022-09-20T16:02:11.706Z"
   },
   {
    "duration": 11,
    "start_time": "2022-09-20T16:02:11.728Z"
   },
   {
    "duration": 9,
    "start_time": "2022-09-20T16:02:11.741Z"
   },
   {
    "duration": 8,
    "start_time": "2022-09-20T16:02:11.753Z"
   },
   {
    "duration": 36,
    "start_time": "2022-09-20T16:02:11.763Z"
   },
   {
    "duration": 29,
    "start_time": "2022-09-20T16:02:11.801Z"
   },
   {
    "duration": 17,
    "start_time": "2022-09-20T16:02:11.832Z"
   },
   {
    "duration": 20,
    "start_time": "2022-09-20T16:02:11.851Z"
   },
   {
    "duration": 97,
    "start_time": "2022-09-20T16:02:11.873Z"
   },
   {
    "duration": 22,
    "start_time": "2022-09-20T16:02:11.972Z"
   },
   {
    "duration": 29,
    "start_time": "2022-09-20T16:02:11.999Z"
   },
   {
    "duration": 390,
    "start_time": "2022-09-20T16:02:12.030Z"
   },
   {
    "duration": 17,
    "start_time": "2022-09-20T16:02:12.424Z"
   },
   {
    "duration": 289,
    "start_time": "2022-09-20T16:02:12.443Z"
   },
   {
    "duration": 21,
    "start_time": "2022-09-20T16:02:12.734Z"
   },
   {
    "duration": 348,
    "start_time": "2022-09-20T16:02:12.756Z"
   },
   {
    "duration": 16,
    "start_time": "2022-09-20T16:02:13.110Z"
   },
   {
    "duration": 306,
    "start_time": "2022-09-20T16:02:13.128Z"
   },
   {
    "duration": 24,
    "start_time": "2022-09-20T16:02:13.436Z"
   },
   {
    "duration": 51,
    "start_time": "2022-09-20T16:02:13.462Z"
   },
   {
    "duration": 249,
    "start_time": "2022-09-20T16:02:13.515Z"
   },
   {
    "duration": 37,
    "start_time": "2022-09-20T16:02:13.766Z"
   },
   {
    "duration": 259,
    "start_time": "2022-09-20T16:02:13.805Z"
   },
   {
    "duration": 4,
    "start_time": "2022-09-20T16:02:14.065Z"
   },
   {
    "duration": 6,
    "start_time": "2022-09-20T16:02:14.071Z"
   },
   {
    "duration": 153,
    "start_time": "2022-09-20T16:02:14.089Z"
   },
   {
    "duration": 16,
    "start_time": "2022-09-20T16:02:14.243Z"
   },
   {
    "duration": 322,
    "start_time": "2022-09-20T16:02:14.261Z"
   },
   {
    "duration": 1751,
    "start_time": "2022-09-20T16:02:14.589Z"
   },
   {
    "duration": 18,
    "start_time": "2022-09-20T16:02:16.341Z"
   },
   {
    "duration": 13,
    "start_time": "2022-09-20T16:02:16.362Z"
   },
   {
    "duration": 39,
    "start_time": "2022-09-20T16:02:16.377Z"
   },
   {
    "duration": 20,
    "start_time": "2022-09-20T16:02:16.417Z"
   },
   {
    "duration": 15,
    "start_time": "2022-09-20T16:02:16.438Z"
   },
   {
    "duration": 635,
    "start_time": "2022-09-20T16:02:16.455Z"
   },
   {
    "duration": 7,
    "start_time": "2022-09-20T16:10:48.818Z"
   },
   {
    "duration": 202,
    "start_time": "2022-09-20T16:10:48.827Z"
   },
   {
    "duration": 15,
    "start_time": "2022-09-20T16:10:49.031Z"
   },
   {
    "duration": 9,
    "start_time": "2022-09-20T16:10:49.048Z"
   },
   {
    "duration": 7,
    "start_time": "2022-09-20T16:10:49.059Z"
   },
   {
    "duration": 5,
    "start_time": "2022-09-20T16:10:49.068Z"
   },
   {
    "duration": 33,
    "start_time": "2022-09-20T16:10:49.075Z"
   },
   {
    "duration": 6,
    "start_time": "2022-09-20T16:10:49.110Z"
   },
   {
    "duration": 19,
    "start_time": "2022-09-20T16:10:49.120Z"
   },
   {
    "duration": 11,
    "start_time": "2022-09-20T16:10:49.140Z"
   },
   {
    "duration": 52,
    "start_time": "2022-09-20T16:10:49.153Z"
   },
   {
    "duration": 26,
    "start_time": "2022-09-20T16:10:49.206Z"
   },
   {
    "duration": 16,
    "start_time": "2022-09-20T16:10:49.235Z"
   },
   {
    "duration": 363,
    "start_time": "2022-09-20T16:10:49.253Z"
   },
   {
    "duration": 21,
    "start_time": "2022-09-20T16:10:49.622Z"
   },
   {
    "duration": 119,
    "start_time": "2022-09-20T16:10:49.644Z"
   },
   {
    "duration": 34,
    "start_time": "2022-09-20T16:10:49.765Z"
   },
   {
    "duration": 335,
    "start_time": "2022-09-20T16:10:49.800Z"
   },
   {
    "duration": 13,
    "start_time": "2022-09-20T16:10:50.137Z"
   },
   {
    "duration": 318,
    "start_time": "2022-09-20T16:10:50.151Z"
   },
   {
    "duration": 30,
    "start_time": "2022-09-20T16:10:50.471Z"
   },
   {
    "duration": 29,
    "start_time": "2022-09-20T16:10:50.504Z"
   },
   {
    "duration": 294,
    "start_time": "2022-09-20T16:10:50.535Z"
   },
   {
    "duration": 22,
    "start_time": "2022-09-20T16:10:50.834Z"
   },
   {
    "duration": 289,
    "start_time": "2022-09-20T16:10:50.857Z"
   },
   {
    "duration": 3,
    "start_time": "2022-09-20T16:10:51.148Z"
   },
   {
    "duration": 12,
    "start_time": "2022-09-20T16:10:51.152Z"
   },
   {
    "duration": 177,
    "start_time": "2022-09-20T16:10:51.165Z"
   },
   {
    "duration": 20,
    "start_time": "2022-09-20T16:10:51.343Z"
   },
   {
    "duration": 526,
    "start_time": "2022-09-20T16:10:51.365Z"
   },
   {
    "duration": 1311,
    "start_time": "2022-09-20T16:10:51.895Z"
   },
   {
    "duration": 20,
    "start_time": "2022-09-20T16:10:53.212Z"
   },
   {
    "duration": 0,
    "start_time": "2022-09-20T16:10:53.236Z"
   },
   {
    "duration": 0,
    "start_time": "2022-09-20T16:10:53.237Z"
   },
   {
    "duration": 1,
    "start_time": "2022-09-20T16:10:53.238Z"
   },
   {
    "duration": 1,
    "start_time": "2022-09-20T16:10:53.240Z"
   },
   {
    "duration": 0,
    "start_time": "2022-09-20T16:10:53.242Z"
   },
   {
    "duration": 974,
    "start_time": "2022-09-20T16:15:01.039Z"
   },
   {
    "duration": 15,
    "start_time": "2022-09-20T16:15:06.359Z"
   },
   {
    "duration": 15,
    "start_time": "2022-09-20T16:15:26.421Z"
   },
   {
    "duration": 15,
    "start_time": "2022-09-20T16:16:28.273Z"
   },
   {
    "duration": 12,
    "start_time": "2022-09-20T16:18:19.367Z"
   },
   {
    "duration": 1098,
    "start_time": "2022-09-20T16:23:40.513Z"
   },
   {
    "duration": 11,
    "start_time": "2022-09-20T16:24:37.810Z"
   },
   {
    "duration": 17,
    "start_time": "2022-09-20T16:33:52.059Z"
   },
   {
    "duration": 15,
    "start_time": "2022-09-20T16:34:04.896Z"
   },
   {
    "duration": 1761,
    "start_time": "2022-09-20T16:34:23.725Z"
   },
   {
    "duration": 1011,
    "start_time": "2022-09-20T16:34:49.612Z"
   },
   {
    "duration": 9,
    "start_time": "2022-09-20T16:35:16.098Z"
   },
   {
    "duration": 9,
    "start_time": "2022-09-20T16:35:30.319Z"
   },
   {
    "duration": 12,
    "start_time": "2022-09-20T16:35:45.115Z"
   },
   {
    "duration": 7,
    "start_time": "2022-09-20T16:35:52.867Z"
   },
   {
    "duration": 10,
    "start_time": "2022-09-20T16:36:25.254Z"
   },
   {
    "duration": 12,
    "start_time": "2022-09-20T16:36:31.900Z"
   },
   {
    "duration": 3,
    "start_time": "2022-09-20T16:36:34.310Z"
   },
   {
    "duration": 111,
    "start_time": "2022-09-20T16:36:34.356Z"
   },
   {
    "duration": 15,
    "start_time": "2022-09-20T16:36:34.470Z"
   },
   {
    "duration": 15,
    "start_time": "2022-09-20T16:36:34.486Z"
   },
   {
    "duration": 8,
    "start_time": "2022-09-20T16:36:34.503Z"
   },
   {
    "duration": 4,
    "start_time": "2022-09-20T16:36:34.513Z"
   },
   {
    "duration": 15,
    "start_time": "2022-09-20T16:36:34.518Z"
   },
   {
    "duration": 10,
    "start_time": "2022-09-20T16:36:34.535Z"
   },
   {
    "duration": 5,
    "start_time": "2022-09-20T16:36:34.546Z"
   },
   {
    "duration": 9,
    "start_time": "2022-09-20T16:36:34.552Z"
   },
   {
    "duration": 52,
    "start_time": "2022-09-20T16:36:34.563Z"
   },
   {
    "duration": 15,
    "start_time": "2022-09-20T16:36:34.617Z"
   },
   {
    "duration": 17,
    "start_time": "2022-09-20T16:36:34.633Z"
   },
   {
    "duration": 341,
    "start_time": "2022-09-20T16:36:34.652Z"
   },
   {
    "duration": 16,
    "start_time": "2022-09-20T16:36:34.996Z"
   },
   {
    "duration": 130,
    "start_time": "2022-09-20T16:36:35.014Z"
   },
   {
    "duration": 21,
    "start_time": "2022-09-20T16:36:35.146Z"
   },
   {
    "duration": 318,
    "start_time": "2022-09-20T16:36:35.168Z"
   },
   {
    "duration": 13,
    "start_time": "2022-09-20T16:36:35.490Z"
   },
   {
    "duration": 311,
    "start_time": "2022-09-20T16:36:35.505Z"
   },
   {
    "duration": 26,
    "start_time": "2022-09-20T16:36:35.817Z"
   },
   {
    "duration": 18,
    "start_time": "2022-09-20T16:36:35.845Z"
   },
   {
    "duration": 267,
    "start_time": "2022-09-20T16:36:35.865Z"
   },
   {
    "duration": 18,
    "start_time": "2022-09-20T16:36:36.133Z"
   },
   {
    "duration": 262,
    "start_time": "2022-09-20T16:36:36.153Z"
   },
   {
    "duration": 3,
    "start_time": "2022-09-20T16:36:36.417Z"
   },
   {
    "duration": 24,
    "start_time": "2022-09-20T16:36:36.421Z"
   },
   {
    "duration": 133,
    "start_time": "2022-09-20T16:36:36.447Z"
   },
   {
    "duration": 18,
    "start_time": "2022-09-20T16:36:36.582Z"
   },
   {
    "duration": 298,
    "start_time": "2022-09-20T16:36:36.602Z"
   },
   {
    "duration": 797,
    "start_time": "2022-09-20T16:36:36.902Z"
   },
   {
    "duration": 7,
    "start_time": "2022-09-20T16:36:37.700Z"
   },
   {
    "duration": 9,
    "start_time": "2022-09-20T16:36:37.709Z"
   },
   {
    "duration": 19,
    "start_time": "2022-09-20T16:36:37.720Z"
   },
   {
    "duration": 19,
    "start_time": "2022-09-20T16:36:37.740Z"
   },
   {
    "duration": 42,
    "start_time": "2022-09-20T16:36:37.760Z"
   },
   {
    "duration": 631,
    "start_time": "2022-09-20T16:36:37.804Z"
   },
   {
    "duration": 16,
    "start_time": "2022-09-20T16:37:02.031Z"
   },
   {
    "duration": 27,
    "start_time": "2022-09-20T16:37:29.964Z"
   },
   {
    "duration": 14,
    "start_time": "2022-09-20T16:37:48.946Z"
   },
   {
    "duration": 26,
    "start_time": "2022-09-20T16:38:36.612Z"
   },
   {
    "duration": 21,
    "start_time": "2022-09-20T16:39:16.010Z"
   },
   {
    "duration": 17,
    "start_time": "2022-09-20T16:40:15.197Z"
   },
   {
    "duration": 22,
    "start_time": "2022-09-20T16:40:58.984Z"
   },
   {
    "duration": 17,
    "start_time": "2022-09-20T16:41:08.853Z"
   },
   {
    "duration": 5,
    "start_time": "2022-09-20T16:41:32.023Z"
   },
   {
    "duration": 185,
    "start_time": "2022-09-20T16:41:32.031Z"
   },
   {
    "duration": 13,
    "start_time": "2022-09-20T16:41:32.218Z"
   },
   {
    "duration": 13,
    "start_time": "2022-09-20T16:41:32.233Z"
   },
   {
    "duration": 7,
    "start_time": "2022-09-20T16:41:32.248Z"
   },
   {
    "duration": 4,
    "start_time": "2022-09-20T16:41:32.256Z"
   },
   {
    "duration": 29,
    "start_time": "2022-09-20T16:41:32.261Z"
   },
   {
    "duration": 6,
    "start_time": "2022-09-20T16:41:32.291Z"
   },
   {
    "duration": 8,
    "start_time": "2022-09-20T16:41:32.298Z"
   },
   {
    "duration": 11,
    "start_time": "2022-09-20T16:41:32.308Z"
   },
   {
    "duration": 27,
    "start_time": "2022-09-20T16:41:32.322Z"
   },
   {
    "duration": 40,
    "start_time": "2022-09-20T16:41:32.350Z"
   },
   {
    "duration": 17,
    "start_time": "2022-09-20T16:41:32.391Z"
   },
   {
    "duration": 313,
    "start_time": "2022-09-20T16:41:32.409Z"
   },
   {
    "duration": 17,
    "start_time": "2022-09-20T16:41:32.724Z"
   },
   {
    "duration": 146,
    "start_time": "2022-09-20T16:41:32.743Z"
   },
   {
    "duration": 19,
    "start_time": "2022-09-20T16:41:32.891Z"
   },
   {
    "duration": 291,
    "start_time": "2022-09-20T16:41:32.912Z"
   },
   {
    "duration": 10,
    "start_time": "2022-09-20T16:41:33.205Z"
   },
   {
    "duration": 426,
    "start_time": "2022-09-20T16:41:33.217Z"
   },
   {
    "duration": 24,
    "start_time": "2022-09-20T16:41:33.644Z"
   },
   {
    "duration": 36,
    "start_time": "2022-09-20T16:41:33.670Z"
   },
   {
    "duration": 241,
    "start_time": "2022-09-20T16:41:33.708Z"
   },
   {
    "duration": 20,
    "start_time": "2022-09-20T16:41:33.950Z"
   },
   {
    "duration": 249,
    "start_time": "2022-09-20T16:41:33.972Z"
   },
   {
    "duration": 2,
    "start_time": "2022-09-20T16:41:34.223Z"
   },
   {
    "duration": 7,
    "start_time": "2022-09-20T16:41:34.227Z"
   },
   {
    "duration": 140,
    "start_time": "2022-09-20T16:41:34.237Z"
   },
   {
    "duration": 20,
    "start_time": "2022-09-20T16:41:34.379Z"
   },
   {
    "duration": 296,
    "start_time": "2022-09-20T16:41:34.401Z"
   },
   {
    "duration": 1117,
    "start_time": "2022-09-20T16:41:34.699Z"
   },
   {
    "duration": 7,
    "start_time": "2022-09-20T16:41:35.817Z"
   },
   {
    "duration": 15,
    "start_time": "2022-09-20T16:41:35.826Z"
   },
   {
    "duration": 0,
    "start_time": "2022-09-20T16:41:35.843Z"
   },
   {
    "duration": 0,
    "start_time": "2022-09-20T16:41:35.844Z"
   },
   {
    "duration": 0,
    "start_time": "2022-09-20T16:41:35.845Z"
   },
   {
    "duration": 0,
    "start_time": "2022-09-20T16:41:35.847Z"
   },
   {
    "duration": 33,
    "start_time": "2022-09-20T16:43:20.006Z"
   },
   {
    "duration": 750,
    "start_time": "2022-09-20T16:43:52.103Z"
   },
   {
    "duration": 20,
    "start_time": "2022-09-20T16:44:01.152Z"
   },
   {
    "duration": 31,
    "start_time": "2022-09-20T16:44:02.708Z"
   },
   {
    "duration": 23,
    "start_time": "2022-09-20T16:44:38.052Z"
   },
   {
    "duration": 26,
    "start_time": "2022-09-20T16:45:10.601Z"
   },
   {
    "duration": 27,
    "start_time": "2022-09-20T16:45:35.906Z"
   },
   {
    "duration": 4,
    "start_time": "2022-09-20T16:45:40.932Z"
   },
   {
    "duration": 110,
    "start_time": "2022-09-20T16:45:40.942Z"
   },
   {
    "duration": 14,
    "start_time": "2022-09-20T16:45:41.053Z"
   },
   {
    "duration": 11,
    "start_time": "2022-09-20T16:45:41.069Z"
   },
   {
    "duration": 7,
    "start_time": "2022-09-20T16:45:41.082Z"
   },
   {
    "duration": 5,
    "start_time": "2022-09-20T16:45:41.091Z"
   },
   {
    "duration": 14,
    "start_time": "2022-09-20T16:45:41.097Z"
   },
   {
    "duration": 5,
    "start_time": "2022-09-20T16:45:41.112Z"
   },
   {
    "duration": 7,
    "start_time": "2022-09-20T16:45:41.118Z"
   },
   {
    "duration": 13,
    "start_time": "2022-09-20T16:45:41.126Z"
   },
   {
    "duration": 48,
    "start_time": "2022-09-20T16:45:41.142Z"
   },
   {
    "duration": 15,
    "start_time": "2022-09-20T16:45:41.192Z"
   },
   {
    "duration": 16,
    "start_time": "2022-09-20T16:45:41.209Z"
   },
   {
    "duration": 354,
    "start_time": "2022-09-20T16:45:41.227Z"
   },
   {
    "duration": 20,
    "start_time": "2022-09-20T16:45:41.583Z"
   },
   {
    "duration": 128,
    "start_time": "2022-09-20T16:45:41.605Z"
   },
   {
    "duration": 21,
    "start_time": "2022-09-20T16:45:41.735Z"
   },
   {
    "duration": 376,
    "start_time": "2022-09-20T16:45:41.759Z"
   },
   {
    "duration": 11,
    "start_time": "2022-09-20T16:45:42.137Z"
   },
   {
    "duration": 276,
    "start_time": "2022-09-20T16:45:42.150Z"
   },
   {
    "duration": 24,
    "start_time": "2022-09-20T16:45:42.427Z"
   },
   {
    "duration": 37,
    "start_time": "2022-09-20T16:45:42.453Z"
   },
   {
    "duration": 247,
    "start_time": "2022-09-20T16:45:42.492Z"
   },
   {
    "duration": 17,
    "start_time": "2022-09-20T16:45:42.741Z"
   },
   {
    "duration": 247,
    "start_time": "2022-09-20T16:45:42.760Z"
   },
   {
    "duration": 3,
    "start_time": "2022-09-20T16:45:43.008Z"
   },
   {
    "duration": 6,
    "start_time": "2022-09-20T16:45:43.013Z"
   },
   {
    "duration": 141,
    "start_time": "2022-09-20T16:45:43.021Z"
   },
   {
    "duration": 16,
    "start_time": "2022-09-20T16:45:43.164Z"
   },
   {
    "duration": 284,
    "start_time": "2022-09-20T16:45:43.188Z"
   },
   {
    "duration": 730,
    "start_time": "2022-09-20T16:45:43.474Z"
   },
   {
    "duration": 7,
    "start_time": "2022-09-20T16:45:44.205Z"
   },
   {
    "duration": 29,
    "start_time": "2022-09-20T16:45:44.214Z"
   },
   {
    "duration": 18,
    "start_time": "2022-09-20T16:45:44.245Z"
   },
   {
    "duration": 19,
    "start_time": "2022-09-20T16:45:44.289Z"
   },
   {
    "duration": 16,
    "start_time": "2022-09-20T16:45:44.311Z"
   },
   {
    "duration": 604,
    "start_time": "2022-09-20T16:45:44.329Z"
   },
   {
    "duration": 17,
    "start_time": "2022-09-20T16:47:10.433Z"
   },
   {
    "duration": 16,
    "start_time": "2022-09-20T16:48:01.983Z"
   },
   {
    "duration": 4,
    "start_time": "2022-09-20T16:49:05.701Z"
   },
   {
    "duration": 120,
    "start_time": "2022-09-20T16:49:05.707Z"
   },
   {
    "duration": 12,
    "start_time": "2022-09-20T16:49:05.829Z"
   },
   {
    "duration": 14,
    "start_time": "2022-09-20T16:49:05.843Z"
   },
   {
    "duration": 10,
    "start_time": "2022-09-20T16:49:05.859Z"
   },
   {
    "duration": 19,
    "start_time": "2022-09-20T16:49:05.871Z"
   },
   {
    "duration": 12,
    "start_time": "2022-09-20T16:49:05.892Z"
   },
   {
    "duration": 7,
    "start_time": "2022-09-20T16:49:05.906Z"
   },
   {
    "duration": 6,
    "start_time": "2022-09-20T16:49:05.914Z"
   },
   {
    "duration": 11,
    "start_time": "2022-09-20T16:49:05.922Z"
   },
   {
    "duration": 59,
    "start_time": "2022-09-20T16:49:05.935Z"
   },
   {
    "duration": 15,
    "start_time": "2022-09-20T16:49:05.996Z"
   },
   {
    "duration": 17,
    "start_time": "2022-09-20T16:49:06.013Z"
   },
   {
    "duration": 336,
    "start_time": "2022-09-20T16:49:06.031Z"
   },
   {
    "duration": 21,
    "start_time": "2022-09-20T16:49:06.369Z"
   },
   {
    "duration": 270,
    "start_time": "2022-09-20T16:49:06.391Z"
   },
   {
    "duration": 29,
    "start_time": "2022-09-20T16:49:06.663Z"
   },
   {
    "duration": 280,
    "start_time": "2022-09-20T16:49:06.694Z"
   },
   {
    "duration": 17,
    "start_time": "2022-09-20T16:49:06.976Z"
   },
   {
    "duration": 284,
    "start_time": "2022-09-20T16:49:06.995Z"
   },
   {
    "duration": 33,
    "start_time": "2022-09-20T16:49:07.280Z"
   },
   {
    "duration": 21,
    "start_time": "2022-09-20T16:49:07.315Z"
   },
   {
    "duration": 262,
    "start_time": "2022-09-20T16:49:07.338Z"
   },
   {
    "duration": 18,
    "start_time": "2022-09-20T16:49:07.602Z"
   },
   {
    "duration": 245,
    "start_time": "2022-09-20T16:49:07.621Z"
   },
   {
    "duration": 2,
    "start_time": "2022-09-20T16:49:07.868Z"
   },
   {
    "duration": 17,
    "start_time": "2022-09-20T16:49:07.872Z"
   },
   {
    "duration": 130,
    "start_time": "2022-09-20T16:49:07.891Z"
   },
   {
    "duration": 17,
    "start_time": "2022-09-20T16:49:08.023Z"
   },
   {
    "duration": 328,
    "start_time": "2022-09-20T16:49:08.042Z"
   },
   {
    "duration": 1215,
    "start_time": "2022-09-20T16:49:08.371Z"
   },
   {
    "duration": 12,
    "start_time": "2022-09-20T16:49:09.588Z"
   },
   {
    "duration": 16,
    "start_time": "2022-09-20T16:49:09.602Z"
   },
   {
    "duration": 0,
    "start_time": "2022-09-20T16:49:09.620Z"
   },
   {
    "duration": 0,
    "start_time": "2022-09-20T16:49:09.621Z"
   },
   {
    "duration": 0,
    "start_time": "2022-09-20T16:49:09.622Z"
   },
   {
    "duration": 0,
    "start_time": "2022-09-20T16:49:09.623Z"
   },
   {
    "duration": 0,
    "start_time": "2022-09-20T16:49:09.625Z"
   },
   {
    "duration": 1231,
    "start_time": "2022-09-20T16:52:26.582Z"
   },
   {
    "duration": 16,
    "start_time": "2022-09-20T16:52:28.270Z"
   },
   {
    "duration": 26,
    "start_time": "2022-09-20T16:52:30.921Z"
   },
   {
    "duration": 17,
    "start_time": "2022-09-20T16:52:49.211Z"
   },
   {
    "duration": 27,
    "start_time": "2022-09-20T16:56:34.531Z"
   },
   {
    "duration": 26,
    "start_time": "2022-09-20T16:57:23.110Z"
   },
   {
    "duration": 3,
    "start_time": "2022-09-20T16:57:30.114Z"
   },
   {
    "duration": 135,
    "start_time": "2022-09-20T16:57:30.122Z"
   },
   {
    "duration": 14,
    "start_time": "2022-09-20T16:57:30.260Z"
   },
   {
    "duration": 50,
    "start_time": "2022-09-20T16:57:30.276Z"
   },
   {
    "duration": 38,
    "start_time": "2022-09-20T16:57:30.329Z"
   },
   {
    "duration": 32,
    "start_time": "2022-09-20T16:57:30.369Z"
   },
   {
    "duration": 24,
    "start_time": "2022-09-20T16:57:30.403Z"
   },
   {
    "duration": 26,
    "start_time": "2022-09-20T16:57:30.429Z"
   },
   {
    "duration": 21,
    "start_time": "2022-09-20T16:57:30.457Z"
   },
   {
    "duration": 40,
    "start_time": "2022-09-20T16:57:30.479Z"
   },
   {
    "duration": 49,
    "start_time": "2022-09-20T16:57:30.522Z"
   },
   {
    "duration": 16,
    "start_time": "2022-09-20T16:57:30.573Z"
   },
   {
    "duration": 29,
    "start_time": "2022-09-20T16:57:30.591Z"
   },
   {
    "duration": 344,
    "start_time": "2022-09-20T16:57:30.622Z"
   },
   {
    "duration": 22,
    "start_time": "2022-09-20T16:57:30.968Z"
   },
   {
    "duration": 120,
    "start_time": "2022-09-20T16:57:30.992Z"
   },
   {
    "duration": 20,
    "start_time": "2022-09-20T16:57:31.114Z"
   },
   {
    "duration": 307,
    "start_time": "2022-09-20T16:57:31.136Z"
   },
   {
    "duration": 12,
    "start_time": "2022-09-20T16:57:31.445Z"
   },
   {
    "duration": 292,
    "start_time": "2022-09-20T16:57:31.459Z"
   },
   {
    "duration": 24,
    "start_time": "2022-09-20T16:57:31.753Z"
   },
   {
    "duration": 21,
    "start_time": "2022-09-20T16:57:31.788Z"
   },
   {
    "duration": 319,
    "start_time": "2022-09-20T16:57:31.812Z"
   },
   {
    "duration": 17,
    "start_time": "2022-09-20T16:57:32.133Z"
   },
   {
    "duration": 257,
    "start_time": "2022-09-20T16:57:32.152Z"
   },
   {
    "duration": 3,
    "start_time": "2022-09-20T16:57:32.411Z"
   },
   {
    "duration": 14,
    "start_time": "2022-09-20T16:57:32.416Z"
   },
   {
    "duration": 150,
    "start_time": "2022-09-20T16:57:32.432Z"
   },
   {
    "duration": 17,
    "start_time": "2022-09-20T16:57:32.584Z"
   },
   {
    "duration": 294,
    "start_time": "2022-09-20T16:57:32.602Z"
   },
   {
    "duration": 1459,
    "start_time": "2022-09-20T16:57:32.898Z"
   },
   {
    "duration": 12,
    "start_time": "2022-09-20T16:57:34.359Z"
   },
   {
    "duration": 44,
    "start_time": "2022-09-20T16:57:34.373Z"
   },
   {
    "duration": 19,
    "start_time": "2022-09-20T16:57:34.419Z"
   },
   {
    "duration": 30,
    "start_time": "2022-09-20T16:57:34.440Z"
   },
   {
    "duration": 0,
    "start_time": "2022-09-20T16:57:34.472Z"
   },
   {
    "duration": 0,
    "start_time": "2022-09-20T16:57:34.474Z"
   },
   {
    "duration": 1,
    "start_time": "2022-09-20T16:57:34.489Z"
   },
   {
    "duration": 0,
    "start_time": "2022-09-20T16:57:34.491Z"
   },
   {
    "duration": 21,
    "start_time": "2022-09-20T16:58:09.807Z"
   },
   {
    "duration": 1498,
    "start_time": "2022-09-20T17:01:05.684Z"
   },
   {
    "duration": 1079,
    "start_time": "2022-09-20T17:01:15.477Z"
   },
   {
    "duration": 1184,
    "start_time": "2022-09-20T17:01:30.454Z"
   },
   {
    "duration": 25,
    "start_time": "2022-09-20T17:04:00.748Z"
   },
   {
    "duration": 3,
    "start_time": "2022-09-20T17:04:31.263Z"
   },
   {
    "duration": 114,
    "start_time": "2022-09-20T17:04:31.288Z"
   },
   {
    "duration": 14,
    "start_time": "2022-09-20T17:04:31.405Z"
   },
   {
    "duration": 9,
    "start_time": "2022-09-20T17:04:31.421Z"
   },
   {
    "duration": 10,
    "start_time": "2022-09-20T17:04:31.432Z"
   },
   {
    "duration": 8,
    "start_time": "2022-09-20T17:04:31.444Z"
   },
   {
    "duration": 35,
    "start_time": "2022-09-20T17:04:31.454Z"
   },
   {
    "duration": 5,
    "start_time": "2022-09-20T17:04:31.491Z"
   },
   {
    "duration": 16,
    "start_time": "2022-09-20T17:04:31.497Z"
   },
   {
    "duration": 17,
    "start_time": "2022-09-20T17:04:31.514Z"
   },
   {
    "duration": 31,
    "start_time": "2022-09-20T17:04:31.533Z"
   },
   {
    "duration": 28,
    "start_time": "2022-09-20T17:04:31.566Z"
   },
   {
    "duration": 16,
    "start_time": "2022-09-20T17:04:31.596Z"
   },
   {
    "duration": 351,
    "start_time": "2022-09-20T17:04:31.613Z"
   },
   {
    "duration": 28,
    "start_time": "2022-09-20T17:04:31.965Z"
   },
   {
    "duration": 296,
    "start_time": "2022-09-20T17:04:31.996Z"
   },
   {
    "duration": 20,
    "start_time": "2022-09-20T17:04:32.294Z"
   },
   {
    "duration": 286,
    "start_time": "2022-09-20T17:04:32.316Z"
   },
   {
    "duration": 12,
    "start_time": "2022-09-20T17:04:32.603Z"
   },
   {
    "duration": 273,
    "start_time": "2022-09-20T17:04:32.616Z"
   },
   {
    "duration": 26,
    "start_time": "2022-09-20T17:04:32.891Z"
   },
   {
    "duration": 18,
    "start_time": "2022-09-20T17:04:32.919Z"
   },
   {
    "duration": 278,
    "start_time": "2022-09-20T17:04:32.941Z"
   },
   {
    "duration": 19,
    "start_time": "2022-09-20T17:04:33.221Z"
   },
   {
    "duration": 259,
    "start_time": "2022-09-20T17:04:33.242Z"
   },
   {
    "duration": 3,
    "start_time": "2022-09-20T17:04:33.503Z"
   },
   {
    "duration": 10,
    "start_time": "2022-09-20T17:04:33.508Z"
   },
   {
    "duration": 143,
    "start_time": "2022-09-20T17:04:33.520Z"
   },
   {
    "duration": 25,
    "start_time": "2022-09-20T17:04:33.665Z"
   },
   {
    "duration": 297,
    "start_time": "2022-09-20T17:04:33.692Z"
   },
   {
    "duration": 1222,
    "start_time": "2022-09-20T17:04:33.991Z"
   },
   {
    "duration": 24,
    "start_time": "2022-09-20T17:04:35.215Z"
   },
   {
    "duration": 21,
    "start_time": "2022-09-20T17:04:35.241Z"
   },
   {
    "duration": 38,
    "start_time": "2022-09-20T17:04:35.264Z"
   },
   {
    "duration": 18,
    "start_time": "2022-09-20T17:04:35.304Z"
   },
   {
    "duration": 16,
    "start_time": "2022-09-20T17:04:35.324Z"
   },
   {
    "duration": 624,
    "start_time": "2022-09-20T17:04:35.342Z"
   },
   {
    "duration": 14,
    "start_time": "2022-09-20T17:06:54.646Z"
   },
   {
    "duration": 13,
    "start_time": "2022-09-20T17:09:00.948Z"
   },
   {
    "duration": 13,
    "start_time": "2022-09-20T17:09:07.271Z"
   },
   {
    "duration": 3,
    "start_time": "2022-09-20T17:09:17.173Z"
   },
   {
    "duration": 125,
    "start_time": "2022-09-20T17:09:17.181Z"
   },
   {
    "duration": 13,
    "start_time": "2022-09-20T17:09:17.308Z"
   },
   {
    "duration": 11,
    "start_time": "2022-09-20T17:09:17.323Z"
   },
   {
    "duration": 6,
    "start_time": "2022-09-20T17:09:17.336Z"
   },
   {
    "duration": 5,
    "start_time": "2022-09-20T17:09:17.344Z"
   },
   {
    "duration": 13,
    "start_time": "2022-09-20T17:09:17.351Z"
   },
   {
    "duration": 29,
    "start_time": "2022-09-20T17:09:17.366Z"
   },
   {
    "duration": 19,
    "start_time": "2022-09-20T17:09:17.397Z"
   },
   {
    "duration": 22,
    "start_time": "2022-09-20T17:09:17.419Z"
   },
   {
    "duration": 29,
    "start_time": "2022-09-20T17:09:17.444Z"
   },
   {
    "duration": 30,
    "start_time": "2022-09-20T17:09:17.474Z"
   },
   {
    "duration": 17,
    "start_time": "2022-09-20T17:09:17.506Z"
   },
   {
    "duration": 339,
    "start_time": "2022-09-20T17:09:17.524Z"
   },
   {
    "duration": 27,
    "start_time": "2022-09-20T17:09:17.864Z"
   },
   {
    "duration": 123,
    "start_time": "2022-09-20T17:09:17.893Z"
   },
   {
    "duration": 20,
    "start_time": "2022-09-20T17:09:18.017Z"
   },
   {
    "duration": 305,
    "start_time": "2022-09-20T17:09:18.039Z"
   },
   {
    "duration": 17,
    "start_time": "2022-09-20T17:09:18.346Z"
   },
   {
    "duration": 288,
    "start_time": "2022-09-20T17:09:18.365Z"
   },
   {
    "duration": 35,
    "start_time": "2022-09-20T17:09:18.655Z"
   },
   {
    "duration": 23,
    "start_time": "2022-09-20T17:09:18.692Z"
   },
   {
    "duration": 279,
    "start_time": "2022-09-20T17:09:18.717Z"
   },
   {
    "duration": 18,
    "start_time": "2022-09-20T17:09:19.001Z"
   },
   {
    "duration": 261,
    "start_time": "2022-09-20T17:09:19.021Z"
   },
   {
    "duration": 8,
    "start_time": "2022-09-20T17:09:19.284Z"
   },
   {
    "duration": 19,
    "start_time": "2022-09-20T17:09:19.294Z"
   },
   {
    "duration": 144,
    "start_time": "2022-09-20T17:09:19.315Z"
   },
   {
    "duration": 15,
    "start_time": "2022-09-20T17:09:19.461Z"
   },
   {
    "duration": 305,
    "start_time": "2022-09-20T17:09:19.478Z"
   },
   {
    "duration": 1521,
    "start_time": "2022-09-20T17:09:19.789Z"
   },
   {
    "duration": 11,
    "start_time": "2022-09-20T17:09:21.312Z"
   },
   {
    "duration": 20,
    "start_time": "2022-09-20T17:09:21.325Z"
   },
   {
    "duration": 18,
    "start_time": "2022-09-20T17:09:21.347Z"
   },
   {
    "duration": 49,
    "start_time": "2022-09-20T17:09:21.367Z"
   },
   {
    "duration": 21,
    "start_time": "2022-09-20T17:09:21.418Z"
   },
   {
    "duration": 902,
    "start_time": "2022-09-20T17:09:21.441Z"
   },
   {
    "duration": 14,
    "start_time": "2022-09-20T17:09:49.403Z"
   },
   {
    "duration": 1370,
    "start_time": "2022-09-20T17:13:50.390Z"
   },
   {
    "duration": 18,
    "start_time": "2022-09-20T17:15:57.852Z"
   },
   {
    "duration": 1334,
    "start_time": "2022-09-20T17:23:29.443Z"
   },
   {
    "duration": 1011,
    "start_time": "2022-09-20T17:23:38.418Z"
   },
   {
    "duration": 7,
    "start_time": "2022-09-20T17:24:06.742Z"
   },
   {
    "duration": 19,
    "start_time": "2022-09-20T17:26:26.177Z"
   },
   {
    "duration": 3,
    "start_time": "2022-09-20T17:26:33.015Z"
   },
   {
    "duration": 117,
    "start_time": "2022-09-20T17:26:33.032Z"
   },
   {
    "duration": 15,
    "start_time": "2022-09-20T17:26:33.151Z"
   },
   {
    "duration": 13,
    "start_time": "2022-09-20T17:26:33.167Z"
   },
   {
    "duration": 12,
    "start_time": "2022-09-20T17:26:33.182Z"
   },
   {
    "duration": 5,
    "start_time": "2022-09-20T17:26:33.195Z"
   },
   {
    "duration": 15,
    "start_time": "2022-09-20T17:26:33.201Z"
   },
   {
    "duration": 6,
    "start_time": "2022-09-20T17:26:33.217Z"
   },
   {
    "duration": 7,
    "start_time": "2022-09-20T17:26:33.225Z"
   },
   {
    "duration": 20,
    "start_time": "2022-09-20T17:26:33.234Z"
   },
   {
    "duration": 62,
    "start_time": "2022-09-20T17:26:33.257Z"
   },
   {
    "duration": 15,
    "start_time": "2022-09-20T17:26:33.321Z"
   },
   {
    "duration": 20,
    "start_time": "2022-09-20T17:26:33.338Z"
   },
   {
    "duration": 344,
    "start_time": "2022-09-20T17:26:33.360Z"
   },
   {
    "duration": 16,
    "start_time": "2022-09-20T17:26:33.706Z"
   },
   {
    "duration": 135,
    "start_time": "2022-09-20T17:26:33.724Z"
   },
   {
    "duration": 30,
    "start_time": "2022-09-20T17:26:33.861Z"
   },
   {
    "duration": 310,
    "start_time": "2022-09-20T17:26:33.892Z"
   },
   {
    "duration": 12,
    "start_time": "2022-09-20T17:26:34.204Z"
   },
   {
    "duration": 281,
    "start_time": "2022-09-20T17:26:34.218Z"
   },
   {
    "duration": 25,
    "start_time": "2022-09-20T17:26:34.502Z"
   },
   {
    "duration": 20,
    "start_time": "2022-09-20T17:26:34.529Z"
   },
   {
    "duration": 304,
    "start_time": "2022-09-20T17:26:34.550Z"
   },
   {
    "duration": 18,
    "start_time": "2022-09-20T17:26:34.856Z"
   },
   {
    "duration": 248,
    "start_time": "2022-09-20T17:26:34.888Z"
   },
   {
    "duration": 4,
    "start_time": "2022-09-20T17:26:35.138Z"
   },
   {
    "duration": 9,
    "start_time": "2022-09-20T17:26:35.143Z"
   },
   {
    "duration": 152,
    "start_time": "2022-09-20T17:26:35.154Z"
   },
   {
    "duration": 23,
    "start_time": "2022-09-20T17:26:35.308Z"
   },
   {
    "duration": 23,
    "start_time": "2022-09-20T17:26:35.334Z"
   },
   {
    "duration": 0,
    "start_time": "2022-09-20T17:26:35.359Z"
   },
   {
    "duration": 0,
    "start_time": "2022-09-20T17:26:35.361Z"
   },
   {
    "duration": 0,
    "start_time": "2022-09-20T17:26:35.362Z"
   },
   {
    "duration": 0,
    "start_time": "2022-09-20T17:26:35.392Z"
   },
   {
    "duration": 0,
    "start_time": "2022-09-20T17:26:35.394Z"
   },
   {
    "duration": 0,
    "start_time": "2022-09-20T17:26:35.395Z"
   },
   {
    "duration": 0,
    "start_time": "2022-09-20T17:26:35.397Z"
   },
   {
    "duration": 0,
    "start_time": "2022-09-20T17:26:35.398Z"
   },
   {
    "duration": 343,
    "start_time": "2022-09-20T17:27:50.686Z"
   },
   {
    "duration": 4,
    "start_time": "2022-09-20T17:27:59.128Z"
   },
   {
    "duration": 110,
    "start_time": "2022-09-20T17:27:59.137Z"
   },
   {
    "duration": 17,
    "start_time": "2022-09-20T17:27:59.249Z"
   },
   {
    "duration": 21,
    "start_time": "2022-09-20T17:27:59.268Z"
   },
   {
    "duration": 11,
    "start_time": "2022-09-20T17:27:59.291Z"
   },
   {
    "duration": 16,
    "start_time": "2022-09-20T17:27:59.304Z"
   },
   {
    "duration": 17,
    "start_time": "2022-09-20T17:27:59.321Z"
   },
   {
    "duration": 20,
    "start_time": "2022-09-20T17:27:59.341Z"
   },
   {
    "duration": 16,
    "start_time": "2022-09-20T17:27:59.363Z"
   },
   {
    "duration": 20,
    "start_time": "2022-09-20T17:27:59.380Z"
   },
   {
    "duration": 36,
    "start_time": "2022-09-20T17:27:59.403Z"
   },
   {
    "duration": 17,
    "start_time": "2022-09-20T17:27:59.440Z"
   },
   {
    "duration": 37,
    "start_time": "2022-09-20T17:27:59.458Z"
   },
   {
    "duration": 344,
    "start_time": "2022-09-20T17:27:59.497Z"
   },
   {
    "duration": 19,
    "start_time": "2022-09-20T17:27:59.844Z"
   },
   {
    "duration": 134,
    "start_time": "2022-09-20T17:27:59.864Z"
   },
   {
    "duration": 20,
    "start_time": "2022-09-20T17:28:00.000Z"
   },
   {
    "duration": 307,
    "start_time": "2022-09-20T17:28:00.022Z"
   },
   {
    "duration": 11,
    "start_time": "2022-09-20T17:28:00.331Z"
   },
   {
    "duration": 293,
    "start_time": "2022-09-20T17:28:00.345Z"
   },
   {
    "duration": 35,
    "start_time": "2022-09-20T17:28:00.641Z"
   },
   {
    "duration": 29,
    "start_time": "2022-09-20T17:28:00.692Z"
   },
   {
    "duration": 287,
    "start_time": "2022-09-20T17:28:00.723Z"
   },
   {
    "duration": 21,
    "start_time": "2022-09-20T17:28:01.013Z"
   },
   {
    "duration": 277,
    "start_time": "2022-09-20T17:28:01.035Z"
   },
   {
    "duration": 3,
    "start_time": "2022-09-20T17:28:01.314Z"
   },
   {
    "duration": 35,
    "start_time": "2022-09-20T17:28:01.318Z"
   },
   {
    "duration": 179,
    "start_time": "2022-09-20T17:28:01.355Z"
   },
   {
    "duration": 20,
    "start_time": "2022-09-20T17:28:01.536Z"
   },
   {
    "duration": 635,
    "start_time": "2022-09-20T17:28:01.558Z"
   },
   {
    "duration": 1025,
    "start_time": "2022-09-20T17:28:02.196Z"
   },
   {
    "duration": 7,
    "start_time": "2022-09-20T17:28:03.223Z"
   },
   {
    "duration": 32,
    "start_time": "2022-09-20T17:28:03.231Z"
   },
   {
    "duration": 0,
    "start_time": "2022-09-20T17:28:03.265Z"
   },
   {
    "duration": 0,
    "start_time": "2022-09-20T17:28:03.266Z"
   },
   {
    "duration": 0,
    "start_time": "2022-09-20T17:28:03.267Z"
   },
   {
    "duration": 0,
    "start_time": "2022-09-20T17:28:03.269Z"
   },
   {
    "duration": 0,
    "start_time": "2022-09-20T17:28:03.270Z"
   },
   {
    "duration": 32,
    "start_time": "2022-09-20T17:28:59.971Z"
   },
   {
    "duration": 22,
    "start_time": "2022-09-20T17:30:04.250Z"
   },
   {
    "duration": 19,
    "start_time": "2022-09-20T17:30:35.026Z"
   },
   {
    "duration": 40,
    "start_time": "2022-09-20T17:31:55.889Z"
   },
   {
    "duration": 28,
    "start_time": "2022-09-20T17:34:49.681Z"
   },
   {
    "duration": 31,
    "start_time": "2022-09-20T17:35:50.518Z"
   },
   {
    "duration": 14,
    "start_time": "2022-09-20T17:37:58.308Z"
   },
   {
    "duration": 10,
    "start_time": "2022-09-20T17:38:13.718Z"
   },
   {
    "duration": 4,
    "start_time": "2022-09-20T17:38:24.712Z"
   },
   {
    "duration": 3,
    "start_time": "2022-09-20T17:38:44.324Z"
   },
   {
    "duration": 1015,
    "start_time": "2022-09-20T17:38:52.162Z"
   },
   {
    "duration": 968,
    "start_time": "2022-09-20T17:39:22.237Z"
   },
   {
    "duration": 1142,
    "start_time": "2022-09-20T17:40:37.330Z"
   },
   {
    "duration": 1310,
    "start_time": "2022-09-20T17:42:11.335Z"
   },
   {
    "duration": 1480,
    "start_time": "2022-09-20T17:42:41.841Z"
   },
   {
    "duration": 16,
    "start_time": "2022-09-20T17:49:15.536Z"
   },
   {
    "duration": 29,
    "start_time": "2022-09-20T17:49:29.353Z"
   },
   {
    "duration": 13,
    "start_time": "2022-09-20T17:54:31.446Z"
   },
   {
    "duration": 16,
    "start_time": "2022-09-20T17:54:44.387Z"
   },
   {
    "duration": 28,
    "start_time": "2022-09-20T17:56:49.369Z"
   },
   {
    "duration": 15,
    "start_time": "2022-09-20T17:58:52.500Z"
   },
   {
    "duration": 11,
    "start_time": "2022-09-20T17:59:03.702Z"
   },
   {
    "duration": 16,
    "start_time": "2022-09-20T17:59:23.840Z"
   },
   {
    "duration": 1324,
    "start_time": "2022-09-20T18:04:31.741Z"
   },
   {
    "duration": 24,
    "start_time": "2022-09-20T18:04:46.245Z"
   },
   {
    "duration": 299,
    "start_time": "2022-09-20T18:14:54.839Z"
   },
   {
    "duration": 345,
    "start_time": "2022-09-20T18:15:27.745Z"
   },
   {
    "duration": 327,
    "start_time": "2022-09-20T18:17:35.332Z"
   },
   {
    "duration": 856,
    "start_time": "2022-09-20T18:18:25.214Z"
   },
   {
    "duration": 512,
    "start_time": "2022-09-20T18:19:24.847Z"
   },
   {
    "duration": 10,
    "start_time": "2022-09-20T18:20:59.851Z"
   },
   {
    "duration": 129,
    "start_time": "2022-09-20T18:26:59.851Z"
   },
   {
    "duration": 0,
    "start_time": "2022-09-20T18:26:59.982Z"
   },
   {
    "duration": 0,
    "start_time": "2022-09-20T18:26:59.983Z"
   },
   {
    "duration": 0,
    "start_time": "2022-09-20T18:26:59.985Z"
   },
   {
    "duration": 0,
    "start_time": "2022-09-20T18:26:59.986Z"
   },
   {
    "duration": 0,
    "start_time": "2022-09-20T18:26:59.988Z"
   },
   {
    "duration": 0,
    "start_time": "2022-09-20T18:26:59.989Z"
   },
   {
    "duration": 0,
    "start_time": "2022-09-20T18:26:59.990Z"
   },
   {
    "duration": 0,
    "start_time": "2022-09-20T18:26:59.992Z"
   },
   {
    "duration": 0,
    "start_time": "2022-09-20T18:26:59.994Z"
   },
   {
    "duration": 20,
    "start_time": "2022-09-20T18:26:59.998Z"
   },
   {
    "duration": 18,
    "start_time": "2022-09-20T18:27:00.020Z"
   },
   {
    "duration": 60,
    "start_time": "2022-09-20T18:27:00.040Z"
   },
   {
    "duration": 331,
    "start_time": "2022-09-20T18:27:00.102Z"
   },
   {
    "duration": 16,
    "start_time": "2022-09-20T18:27:00.435Z"
   },
   {
    "duration": 144,
    "start_time": "2022-09-20T18:27:00.453Z"
   },
   {
    "duration": 22,
    "start_time": "2022-09-20T18:27:00.599Z"
   },
   {
    "duration": 332,
    "start_time": "2022-09-20T18:27:00.623Z"
   },
   {
    "duration": 12,
    "start_time": "2022-09-20T18:27:00.957Z"
   },
   {
    "duration": 305,
    "start_time": "2022-09-20T18:27:00.971Z"
   },
   {
    "duration": 31,
    "start_time": "2022-09-20T18:27:01.278Z"
   },
   {
    "duration": 64,
    "start_time": "2022-09-20T18:27:01.312Z"
   },
   {
    "duration": 270,
    "start_time": "2022-09-20T18:27:01.378Z"
   },
   {
    "duration": 18,
    "start_time": "2022-09-20T18:27:01.650Z"
   },
   {
    "duration": 281,
    "start_time": "2022-09-20T18:27:01.669Z"
   },
   {
    "duration": 4,
    "start_time": "2022-09-20T18:27:01.953Z"
   },
   {
    "duration": 40,
    "start_time": "2022-09-20T18:27:01.959Z"
   },
   {
    "duration": 192,
    "start_time": "2022-09-20T18:27:02.002Z"
   },
   {
    "duration": 21,
    "start_time": "2022-09-20T18:27:02.196Z"
   },
   {
    "duration": 304,
    "start_time": "2022-09-20T18:27:02.219Z"
   },
   {
    "duration": 1663,
    "start_time": "2022-09-20T18:27:02.525Z"
   },
   {
    "duration": 25,
    "start_time": "2022-09-20T18:27:04.190Z"
   },
   {
    "duration": 16,
    "start_time": "2022-09-20T18:27:04.217Z"
   },
   {
    "duration": 22,
    "start_time": "2022-09-20T18:27:04.235Z"
   },
   {
    "duration": 0,
    "start_time": "2022-09-20T18:27:04.258Z"
   },
   {
    "duration": 0,
    "start_time": "2022-09-20T18:27:04.259Z"
   },
   {
    "duration": 0,
    "start_time": "2022-09-20T18:27:04.289Z"
   },
   {
    "duration": 0,
    "start_time": "2022-09-20T18:27:04.291Z"
   },
   {
    "duration": 17,
    "start_time": "2022-09-20T18:27:29.494Z"
   },
   {
    "duration": 26,
    "start_time": "2022-09-20T18:28:05.009Z"
   },
   {
    "duration": 16,
    "start_time": "2022-09-20T18:28:37.947Z"
   },
   {
    "duration": 18,
    "start_time": "2022-09-20T18:30:09.791Z"
   },
   {
    "duration": 17,
    "start_time": "2022-09-20T18:31:05.395Z"
   },
   {
    "duration": 17,
    "start_time": "2022-09-20T18:31:10.173Z"
   },
   {
    "duration": 27,
    "start_time": "2022-09-20T18:31:45.177Z"
   },
   {
    "duration": 18,
    "start_time": "2022-09-20T18:34:14.208Z"
   },
   {
    "duration": 18,
    "start_time": "2022-09-20T18:34:27.525Z"
   },
   {
    "duration": 4,
    "start_time": "2022-09-20T18:34:43.892Z"
   },
   {
    "duration": 88,
    "start_time": "2022-09-20T18:34:54.766Z"
   },
   {
    "duration": 596,
    "start_time": "2022-09-20T18:35:18.659Z"
   },
   {
    "duration": 16,
    "start_time": "2022-09-20T18:35:32.070Z"
   },
   {
    "duration": 1620,
    "start_time": "2022-09-20T18:50:44.582Z"
   },
   {
    "duration": 77,
    "start_time": "2022-09-20T18:51:22.070Z"
   },
   {
    "duration": 0,
    "start_time": "2022-09-20T18:51:22.149Z"
   },
   {
    "duration": 0,
    "start_time": "2022-09-20T18:51:22.151Z"
   },
   {
    "duration": 0,
    "start_time": "2022-09-20T18:51:22.152Z"
   },
   {
    "duration": 0,
    "start_time": "2022-09-20T18:51:22.154Z"
   },
   {
    "duration": 0,
    "start_time": "2022-09-20T18:51:22.155Z"
   },
   {
    "duration": 0,
    "start_time": "2022-09-20T18:51:22.157Z"
   },
   {
    "duration": 0,
    "start_time": "2022-09-20T18:51:22.158Z"
   },
   {
    "duration": 0,
    "start_time": "2022-09-20T18:51:22.160Z"
   },
   {
    "duration": 14,
    "start_time": "2022-09-20T18:51:22.164Z"
   },
   {
    "duration": 18,
    "start_time": "2022-09-20T18:51:22.180Z"
   },
   {
    "duration": 16,
    "start_time": "2022-09-20T18:51:22.200Z"
   },
   {
    "duration": 18,
    "start_time": "2022-09-20T18:51:22.218Z"
   },
   {
    "duration": 367,
    "start_time": "2022-09-20T18:51:22.238Z"
   },
   {
    "duration": 16,
    "start_time": "2022-09-20T18:51:22.606Z"
   },
   {
    "duration": 123,
    "start_time": "2022-09-20T18:51:22.624Z"
   },
   {
    "duration": 21,
    "start_time": "2022-09-20T18:51:22.748Z"
   },
   {
    "duration": 322,
    "start_time": "2022-09-20T18:51:22.771Z"
   },
   {
    "duration": 18,
    "start_time": "2022-09-20T18:51:23.095Z"
   },
   {
    "duration": 280,
    "start_time": "2022-09-20T18:51:23.116Z"
   },
   {
    "duration": 34,
    "start_time": "2022-09-20T18:51:23.398Z"
   },
   {
    "duration": 22,
    "start_time": "2022-09-20T18:51:23.435Z"
   },
   {
    "duration": 299,
    "start_time": "2022-09-20T18:51:23.459Z"
   },
   {
    "duration": 19,
    "start_time": "2022-09-20T18:51:23.760Z"
   },
   {
    "duration": 252,
    "start_time": "2022-09-20T18:51:23.790Z"
   },
   {
    "duration": 3,
    "start_time": "2022-09-20T18:51:24.044Z"
   },
   {
    "duration": 14,
    "start_time": "2022-09-20T18:51:24.049Z"
   },
   {
    "duration": 186,
    "start_time": "2022-09-20T18:51:24.065Z"
   },
   {
    "duration": 21,
    "start_time": "2022-09-20T18:51:24.253Z"
   },
   {
    "duration": 345,
    "start_time": "2022-09-20T18:51:24.289Z"
   },
   {
    "duration": 1215,
    "start_time": "2022-09-20T18:51:24.636Z"
   },
   {
    "duration": 0,
    "start_time": "2022-09-20T18:51:25.853Z"
   },
   {
    "duration": 0,
    "start_time": "2022-09-20T18:51:25.854Z"
   },
   {
    "duration": 0,
    "start_time": "2022-09-20T18:51:25.856Z"
   },
   {
    "duration": 0,
    "start_time": "2022-09-20T18:51:25.857Z"
   },
   {
    "duration": 0,
    "start_time": "2022-09-20T18:51:25.858Z"
   },
   {
    "duration": 0,
    "start_time": "2022-09-20T18:51:25.859Z"
   },
   {
    "duration": 0,
    "start_time": "2022-09-20T18:51:25.860Z"
   },
   {
    "duration": 992,
    "start_time": "2022-09-20T18:51:50.570Z"
   },
   {
    "duration": 1106,
    "start_time": "2022-09-20T18:56:09.887Z"
   },
   {
    "duration": 21,
    "start_time": "2022-09-20T18:56:30.031Z"
   },
   {
    "duration": 31,
    "start_time": "2022-09-20T18:56:48.832Z"
   },
   {
    "duration": 1057,
    "start_time": "2022-09-20T18:58:16.729Z"
   },
   {
    "duration": 1248,
    "start_time": "2022-09-20T18:58:32.665Z"
   },
   {
    "duration": 82,
    "start_time": "2022-09-20T19:01:35.040Z"
   },
   {
    "duration": 0,
    "start_time": "2022-09-20T19:01:35.124Z"
   },
   {
    "duration": 0,
    "start_time": "2022-09-20T19:01:35.126Z"
   },
   {
    "duration": 0,
    "start_time": "2022-09-20T19:01:35.127Z"
   },
   {
    "duration": 0,
    "start_time": "2022-09-20T19:01:35.128Z"
   },
   {
    "duration": 0,
    "start_time": "2022-09-20T19:01:35.129Z"
   },
   {
    "duration": 0,
    "start_time": "2022-09-20T19:01:35.130Z"
   },
   {
    "duration": 7,
    "start_time": "2022-09-20T19:01:35.132Z"
   },
   {
    "duration": 5,
    "start_time": "2022-09-20T19:01:35.141Z"
   },
   {
    "duration": 16,
    "start_time": "2022-09-20T19:01:35.148Z"
   },
   {
    "duration": 29,
    "start_time": "2022-09-20T19:01:35.167Z"
   },
   {
    "duration": 16,
    "start_time": "2022-09-20T19:01:35.197Z"
   },
   {
    "duration": 17,
    "start_time": "2022-09-20T19:01:35.215Z"
   },
   {
    "duration": 344,
    "start_time": "2022-09-20T19:01:35.234Z"
   },
   {
    "duration": 17,
    "start_time": "2022-09-20T19:01:35.588Z"
   },
   {
    "duration": 120,
    "start_time": "2022-09-20T19:01:35.606Z"
   },
   {
    "duration": 21,
    "start_time": "2022-09-20T19:01:35.728Z"
   },
   {
    "duration": 297,
    "start_time": "2022-09-20T19:01:35.751Z"
   },
   {
    "duration": 13,
    "start_time": "2022-09-20T19:01:36.051Z"
   },
   {
    "duration": 298,
    "start_time": "2022-09-20T19:01:36.066Z"
   },
   {
    "duration": 39,
    "start_time": "2022-09-20T19:01:36.365Z"
   },
   {
    "duration": 27,
    "start_time": "2022-09-20T19:01:36.406Z"
   },
   {
    "duration": 282,
    "start_time": "2022-09-20T19:01:36.435Z"
   },
   {
    "duration": 18,
    "start_time": "2022-09-20T19:01:36.719Z"
   },
   {
    "duration": 254,
    "start_time": "2022-09-20T19:01:36.740Z"
   },
   {
    "duration": 4,
    "start_time": "2022-09-20T19:01:36.996Z"
   },
   {
    "duration": 5,
    "start_time": "2022-09-20T19:01:37.003Z"
   },
   {
    "duration": 143,
    "start_time": "2022-09-20T19:01:37.009Z"
   },
   {
    "duration": 19,
    "start_time": "2022-09-20T19:01:37.154Z"
   },
   {
    "duration": 312,
    "start_time": "2022-09-20T19:01:37.189Z"
   },
   {
    "duration": 1164,
    "start_time": "2022-09-20T19:01:37.504Z"
   },
   {
    "duration": 18,
    "start_time": "2022-09-20T19:01:38.670Z"
   },
   {
    "duration": 15,
    "start_time": "2022-09-20T19:01:38.689Z"
   },
   {
    "duration": 13,
    "start_time": "2022-09-20T19:01:38.706Z"
   },
   {
    "duration": 600,
    "start_time": "2022-09-20T19:01:38.721Z"
   },
   {
    "duration": 87,
    "start_time": "2022-09-20T19:02:04.784Z"
   },
   {
    "duration": 0,
    "start_time": "2022-09-20T19:02:04.873Z"
   },
   {
    "duration": 0,
    "start_time": "2022-09-20T19:02:04.874Z"
   },
   {
    "duration": 0,
    "start_time": "2022-09-20T19:02:04.876Z"
   },
   {
    "duration": 0,
    "start_time": "2022-09-20T19:02:04.877Z"
   },
   {
    "duration": 0,
    "start_time": "2022-09-20T19:02:04.879Z"
   },
   {
    "duration": 0,
    "start_time": "2022-09-20T19:02:04.879Z"
   },
   {
    "duration": 0,
    "start_time": "2022-09-20T19:02:04.880Z"
   },
   {
    "duration": 0,
    "start_time": "2022-09-20T19:02:04.882Z"
   },
   {
    "duration": 0,
    "start_time": "2022-09-20T19:02:04.882Z"
   },
   {
    "duration": 22,
    "start_time": "2022-09-20T19:02:04.884Z"
   },
   {
    "duration": 20,
    "start_time": "2022-09-20T19:02:04.909Z"
   },
   {
    "duration": 20,
    "start_time": "2022-09-20T19:02:04.931Z"
   },
   {
    "duration": 376,
    "start_time": "2022-09-20T19:02:04.954Z"
   },
   {
    "duration": 19,
    "start_time": "2022-09-20T19:02:05.331Z"
   },
   {
    "duration": 145,
    "start_time": "2022-09-20T19:02:05.353Z"
   },
   {
    "duration": 23,
    "start_time": "2022-09-20T19:02:05.501Z"
   },
   {
    "duration": 302,
    "start_time": "2022-09-20T19:02:05.526Z"
   },
   {
    "duration": 12,
    "start_time": "2022-09-20T19:02:05.830Z"
   },
   {
    "duration": 300,
    "start_time": "2022-09-20T19:02:05.844Z"
   },
   {
    "duration": 27,
    "start_time": "2022-09-20T19:02:06.145Z"
   },
   {
    "duration": 37,
    "start_time": "2022-09-20T19:02:06.173Z"
   },
   {
    "duration": 286,
    "start_time": "2022-09-20T19:02:06.213Z"
   },
   {
    "duration": 19,
    "start_time": "2022-09-20T19:02:06.502Z"
   },
   {
    "duration": 271,
    "start_time": "2022-09-20T19:02:06.524Z"
   },
   {
    "duration": 4,
    "start_time": "2022-09-20T19:02:06.797Z"
   },
   {
    "duration": 15,
    "start_time": "2022-09-20T19:02:06.802Z"
   },
   {
    "duration": 143,
    "start_time": "2022-09-20T19:02:06.819Z"
   },
   {
    "duration": 29,
    "start_time": "2022-09-20T19:02:06.964Z"
   },
   {
    "duration": 318,
    "start_time": "2022-09-20T19:02:06.994Z"
   },
   {
    "duration": 1245,
    "start_time": "2022-09-20T19:02:07.314Z"
   },
   {
    "duration": 32,
    "start_time": "2022-09-20T19:02:08.562Z"
   },
   {
    "duration": 23,
    "start_time": "2022-09-20T19:02:08.596Z"
   },
   {
    "duration": 14,
    "start_time": "2022-09-20T19:02:08.621Z"
   },
   {
    "duration": 691,
    "start_time": "2022-09-20T19:02:08.636Z"
   },
   {
    "duration": 4,
    "start_time": "2022-09-20T19:02:43.935Z"
   },
   {
    "duration": 4,
    "start_time": "2022-09-20T19:02:47.545Z"
   },
   {
    "duration": 119,
    "start_time": "2022-09-20T19:02:47.555Z"
   },
   {
    "duration": 28,
    "start_time": "2022-09-20T19:02:47.676Z"
   },
   {
    "duration": 13,
    "start_time": "2022-09-20T19:02:47.706Z"
   },
   {
    "duration": 8,
    "start_time": "2022-09-20T19:02:47.721Z"
   },
   {
    "duration": 6,
    "start_time": "2022-09-20T19:02:47.731Z"
   },
   {
    "duration": 14,
    "start_time": "2022-09-20T19:02:47.739Z"
   },
   {
    "duration": 5,
    "start_time": "2022-09-20T19:02:47.755Z"
   },
   {
    "duration": 8,
    "start_time": "2022-09-20T19:02:47.762Z"
   },
   {
    "duration": 19,
    "start_time": "2022-09-20T19:02:47.772Z"
   },
   {
    "duration": 29,
    "start_time": "2022-09-20T19:02:47.794Z"
   },
   {
    "duration": 18,
    "start_time": "2022-09-20T19:02:47.825Z"
   },
   {
    "duration": 52,
    "start_time": "2022-09-20T19:02:47.845Z"
   },
   {
    "duration": 347,
    "start_time": "2022-09-20T19:02:47.899Z"
   },
   {
    "duration": 31,
    "start_time": "2022-09-20T19:02:48.248Z"
   },
   {
    "duration": 124,
    "start_time": "2022-09-20T19:02:48.293Z"
   },
   {
    "duration": 19,
    "start_time": "2022-09-20T19:02:48.419Z"
   },
   {
    "duration": 309,
    "start_time": "2022-09-20T19:02:48.440Z"
   },
   {
    "duration": 14,
    "start_time": "2022-09-20T19:02:48.751Z"
   },
   {
    "duration": 299,
    "start_time": "2022-09-20T19:02:48.769Z"
   },
   {
    "duration": 45,
    "start_time": "2022-09-20T19:02:49.070Z"
   },
   {
    "duration": 31,
    "start_time": "2022-09-20T19:02:49.117Z"
   },
   {
    "duration": 321,
    "start_time": "2022-09-20T19:02:49.152Z"
   },
   {
    "duration": 25,
    "start_time": "2022-09-20T19:02:49.475Z"
   },
   {
    "duration": 267,
    "start_time": "2022-09-20T19:02:49.502Z"
   },
   {
    "duration": 2,
    "start_time": "2022-09-20T19:02:49.772Z"
   },
   {
    "duration": 4,
    "start_time": "2022-09-20T19:02:49.789Z"
   },
   {
    "duration": 146,
    "start_time": "2022-09-20T19:02:49.796Z"
   },
   {
    "duration": 20,
    "start_time": "2022-09-20T19:02:49.944Z"
   },
   {
    "duration": 367,
    "start_time": "2022-09-20T19:02:49.966Z"
   },
   {
    "duration": 1046,
    "start_time": "2022-09-20T19:02:50.335Z"
   },
   {
    "duration": 29,
    "start_time": "2022-09-20T19:02:51.383Z"
   },
   {
    "duration": 21,
    "start_time": "2022-09-20T19:02:51.415Z"
   },
   {
    "duration": 20,
    "start_time": "2022-09-20T19:02:51.439Z"
   },
   {
    "duration": 720,
    "start_time": "2022-09-20T19:02:51.462Z"
   },
   {
    "duration": 6,
    "start_time": "2022-09-20T19:04:31.132Z"
   },
   {
    "duration": 144,
    "start_time": "2022-09-20T19:04:31.141Z"
   },
   {
    "duration": 16,
    "start_time": "2022-09-20T19:04:31.287Z"
   },
   {
    "duration": 13,
    "start_time": "2022-09-20T19:04:31.305Z"
   },
   {
    "duration": 28,
    "start_time": "2022-09-20T19:04:31.321Z"
   },
   {
    "duration": 21,
    "start_time": "2022-09-20T19:04:31.350Z"
   },
   {
    "duration": 38,
    "start_time": "2022-09-20T19:04:31.373Z"
   },
   {
    "duration": 36,
    "start_time": "2022-09-20T19:04:31.413Z"
   },
   {
    "duration": 27,
    "start_time": "2022-09-20T19:04:31.450Z"
   },
   {
    "duration": 43,
    "start_time": "2022-09-20T19:04:31.478Z"
   },
   {
    "duration": 51,
    "start_time": "2022-09-20T19:04:31.523Z"
   },
   {
    "duration": 16,
    "start_time": "2022-09-20T19:04:31.576Z"
   },
   {
    "duration": 34,
    "start_time": "2022-09-20T19:04:31.594Z"
   },
   {
    "duration": 321,
    "start_time": "2022-09-20T19:04:31.630Z"
   },
   {
    "duration": 20,
    "start_time": "2022-09-20T19:04:31.953Z"
   },
   {
    "duration": 158,
    "start_time": "2022-09-20T19:04:31.989Z"
   },
   {
    "duration": 40,
    "start_time": "2022-09-20T19:04:32.150Z"
   },
   {
    "duration": 287,
    "start_time": "2022-09-20T19:04:32.193Z"
   },
   {
    "duration": 15,
    "start_time": "2022-09-20T19:04:32.481Z"
   },
   {
    "duration": 255,
    "start_time": "2022-09-20T19:04:32.498Z"
   },
   {
    "duration": 38,
    "start_time": "2022-09-20T19:04:32.754Z"
   },
   {
    "duration": 19,
    "start_time": "2022-09-20T19:04:32.794Z"
   },
   {
    "duration": 455,
    "start_time": "2022-09-20T19:04:32.815Z"
   },
   {
    "duration": 26,
    "start_time": "2022-09-20T19:04:33.274Z"
   },
   {
    "duration": 244,
    "start_time": "2022-09-20T19:04:33.301Z"
   },
   {
    "duration": 3,
    "start_time": "2022-09-20T19:04:33.547Z"
   },
   {
    "duration": 22,
    "start_time": "2022-09-20T19:04:33.552Z"
   },
   {
    "duration": 137,
    "start_time": "2022-09-20T19:04:33.576Z"
   },
   {
    "duration": 19,
    "start_time": "2022-09-20T19:04:33.715Z"
   },
   {
    "duration": 310,
    "start_time": "2022-09-20T19:04:33.735Z"
   },
   {
    "duration": 1114,
    "start_time": "2022-09-20T19:04:34.046Z"
   },
   {
    "duration": 22,
    "start_time": "2022-09-20T19:04:35.162Z"
   },
   {
    "duration": 19,
    "start_time": "2022-09-20T19:04:35.185Z"
   },
   {
    "duration": 16,
    "start_time": "2022-09-20T19:04:35.207Z"
   },
   {
    "duration": 599,
    "start_time": "2022-09-20T19:04:35.225Z"
   },
   {
    "duration": 1176,
    "start_time": "2022-09-20T19:06:21.916Z"
   },
   {
    "duration": 10,
    "start_time": "2022-09-20T19:06:45.857Z"
   },
   {
    "duration": 16,
    "start_time": "2022-09-20T19:07:06.123Z"
   },
   {
    "duration": 3,
    "start_time": "2022-09-20T19:07:19.687Z"
   },
   {
    "duration": 120,
    "start_time": "2022-09-20T19:07:19.700Z"
   },
   {
    "duration": 13,
    "start_time": "2022-09-20T19:07:19.822Z"
   },
   {
    "duration": 16,
    "start_time": "2022-09-20T19:07:19.837Z"
   },
   {
    "duration": 11,
    "start_time": "2022-09-20T19:07:19.855Z"
   },
   {
    "duration": 26,
    "start_time": "2022-09-20T19:07:19.867Z"
   },
   {
    "duration": 25,
    "start_time": "2022-09-20T19:07:19.895Z"
   },
   {
    "duration": 9,
    "start_time": "2022-09-20T19:07:19.922Z"
   },
   {
    "duration": 28,
    "start_time": "2022-09-20T19:07:19.933Z"
   },
   {
    "duration": 8,
    "start_time": "2022-09-20T19:07:19.963Z"
   },
   {
    "duration": 40,
    "start_time": "2022-09-20T19:07:19.973Z"
   },
   {
    "duration": 14,
    "start_time": "2022-09-20T19:07:20.014Z"
   },
   {
    "duration": 18,
    "start_time": "2022-09-20T19:07:20.029Z"
   },
   {
    "duration": 317,
    "start_time": "2022-09-20T19:07:20.049Z"
   },
   {
    "duration": 31,
    "start_time": "2022-09-20T19:07:20.368Z"
   },
   {
    "duration": 117,
    "start_time": "2022-09-20T19:07:20.401Z"
   },
   {
    "duration": 20,
    "start_time": "2022-09-20T19:07:20.520Z"
   },
   {
    "duration": 297,
    "start_time": "2022-09-20T19:07:20.541Z"
   },
   {
    "duration": 11,
    "start_time": "2022-09-20T19:07:20.840Z"
   },
   {
    "duration": 264,
    "start_time": "2022-09-20T19:07:20.853Z"
   },
   {
    "duration": 24,
    "start_time": "2022-09-20T19:07:21.119Z"
   },
   {
    "duration": 19,
    "start_time": "2022-09-20T19:07:21.144Z"
   },
   {
    "duration": 254,
    "start_time": "2022-09-20T19:07:21.165Z"
   },
   {
    "duration": 17,
    "start_time": "2022-09-20T19:07:21.421Z"
   },
   {
    "duration": 237,
    "start_time": "2022-09-20T19:07:21.439Z"
   },
   {
    "duration": 3,
    "start_time": "2022-09-20T19:07:21.680Z"
   },
   {
    "duration": 7,
    "start_time": "2022-09-20T19:07:21.684Z"
   },
   {
    "duration": 148,
    "start_time": "2022-09-20T19:07:21.693Z"
   },
   {
    "duration": 23,
    "start_time": "2022-09-20T19:07:21.843Z"
   },
   {
    "duration": 345,
    "start_time": "2022-09-20T19:07:21.868Z"
   },
   {
    "duration": 1638,
    "start_time": "2022-09-20T19:07:22.214Z"
   },
   {
    "duration": 19,
    "start_time": "2022-09-20T19:07:23.854Z"
   },
   {
    "duration": 15,
    "start_time": "2022-09-20T19:07:23.875Z"
   },
   {
    "duration": 12,
    "start_time": "2022-09-20T19:07:23.892Z"
   },
   {
    "duration": 565,
    "start_time": "2022-09-20T19:07:23.906Z"
   },
   {
    "duration": 15,
    "start_time": "2022-09-20T19:09:14.180Z"
   },
   {
    "duration": 16,
    "start_time": "2022-09-20T19:09:35.006Z"
   },
   {
    "duration": 32,
    "start_time": "2022-09-20T19:17:48.883Z"
   },
   {
    "duration": 4,
    "start_time": "2022-09-20T19:18:36.595Z"
   },
   {
    "duration": 115,
    "start_time": "2022-09-20T19:18:36.601Z"
   },
   {
    "duration": 13,
    "start_time": "2022-09-20T19:18:36.719Z"
   },
   {
    "duration": 13,
    "start_time": "2022-09-20T19:18:36.734Z"
   },
   {
    "duration": 9,
    "start_time": "2022-09-20T19:18:36.748Z"
   },
   {
    "duration": 3,
    "start_time": "2022-09-20T19:18:36.759Z"
   },
   {
    "duration": 30,
    "start_time": "2022-09-20T19:18:36.764Z"
   },
   {
    "duration": 12,
    "start_time": "2022-09-20T19:18:36.796Z"
   },
   {
    "duration": 9,
    "start_time": "2022-09-20T19:18:36.809Z"
   },
   {
    "duration": 11,
    "start_time": "2022-09-20T19:18:36.820Z"
   },
   {
    "duration": 26,
    "start_time": "2022-09-20T19:18:36.834Z"
   },
   {
    "duration": 45,
    "start_time": "2022-09-20T19:18:36.862Z"
   },
   {
    "duration": 21,
    "start_time": "2022-09-20T19:18:36.910Z"
   },
   {
    "duration": 329,
    "start_time": "2022-09-20T19:18:36.933Z"
   },
   {
    "duration": 15,
    "start_time": "2022-09-20T19:18:37.264Z"
   },
   {
    "duration": 305,
    "start_time": "2022-09-20T19:18:37.289Z"
   },
   {
    "duration": 21,
    "start_time": "2022-09-20T19:18:37.596Z"
   },
   {
    "duration": 284,
    "start_time": "2022-09-20T19:18:37.619Z"
   },
   {
    "duration": 12,
    "start_time": "2022-09-20T19:18:37.905Z"
   },
   {
    "duration": 273,
    "start_time": "2022-09-20T19:18:37.919Z"
   },
   {
    "duration": 32,
    "start_time": "2022-09-20T19:18:38.193Z"
   },
   {
    "duration": 24,
    "start_time": "2022-09-20T19:18:38.227Z"
   },
   {
    "duration": 259,
    "start_time": "2022-09-20T19:18:38.254Z"
   },
   {
    "duration": 17,
    "start_time": "2022-09-20T19:18:38.515Z"
   },
   {
    "duration": 255,
    "start_time": "2022-09-20T19:18:38.533Z"
   },
   {
    "duration": 3,
    "start_time": "2022-09-20T19:18:38.790Z"
   },
   {
    "duration": 7,
    "start_time": "2022-09-20T19:18:38.795Z"
   },
   {
    "duration": 147,
    "start_time": "2022-09-20T19:18:38.803Z"
   },
   {
    "duration": 19,
    "start_time": "2022-09-20T19:18:38.952Z"
   },
   {
    "duration": 335,
    "start_time": "2022-09-20T19:18:38.973Z"
   },
   {
    "duration": 1556,
    "start_time": "2022-09-20T19:18:39.310Z"
   },
   {
    "duration": 18,
    "start_time": "2022-09-20T19:18:40.868Z"
   },
   {
    "duration": 31,
    "start_time": "2022-09-20T19:18:40.887Z"
   },
   {
    "duration": 19,
    "start_time": "2022-09-20T19:18:40.920Z"
   },
   {
    "duration": 0,
    "start_time": "2022-09-20T19:18:40.940Z"
   },
   {
    "duration": 4,
    "start_time": "2022-09-20T19:23:06.957Z"
   },
   {
    "duration": 124,
    "start_time": "2022-09-20T19:23:06.966Z"
   },
   {
    "duration": 14,
    "start_time": "2022-09-20T19:23:07.092Z"
   },
   {
    "duration": 11,
    "start_time": "2022-09-20T19:23:07.108Z"
   },
   {
    "duration": 11,
    "start_time": "2022-09-20T19:23:07.121Z"
   },
   {
    "duration": 7,
    "start_time": "2022-09-20T19:23:07.134Z"
   },
   {
    "duration": 15,
    "start_time": "2022-09-20T19:23:07.143Z"
   },
   {
    "duration": 32,
    "start_time": "2022-09-20T19:23:07.160Z"
   },
   {
    "duration": 9,
    "start_time": "2022-09-20T19:23:07.194Z"
   },
   {
    "duration": 11,
    "start_time": "2022-09-20T19:23:07.205Z"
   },
   {
    "duration": 31,
    "start_time": "2022-09-20T19:23:07.219Z"
   },
   {
    "duration": 47,
    "start_time": "2022-09-20T19:23:07.253Z"
   },
   {
    "duration": 17,
    "start_time": "2022-09-20T19:23:07.302Z"
   },
   {
    "duration": 347,
    "start_time": "2022-09-20T19:23:07.321Z"
   },
   {
    "duration": 24,
    "start_time": "2022-09-20T19:23:07.670Z"
   },
   {
    "duration": 125,
    "start_time": "2022-09-20T19:23:07.696Z"
   },
   {
    "duration": 20,
    "start_time": "2022-09-20T19:23:07.823Z"
   },
   {
    "duration": 322,
    "start_time": "2022-09-20T19:23:07.845Z"
   },
   {
    "duration": 12,
    "start_time": "2022-09-20T19:23:08.169Z"
   },
   {
    "duration": 305,
    "start_time": "2022-09-20T19:23:08.189Z"
   },
   {
    "duration": 27,
    "start_time": "2022-09-20T19:23:08.495Z"
   },
   {
    "duration": 22,
    "start_time": "2022-09-20T19:23:08.523Z"
   },
   {
    "duration": 280,
    "start_time": "2022-09-20T19:23:08.547Z"
   },
   {
    "duration": 17,
    "start_time": "2022-09-20T19:23:08.830Z"
   },
   {
    "duration": 257,
    "start_time": "2022-09-20T19:23:08.849Z"
   },
   {
    "duration": 3,
    "start_time": "2022-09-20T19:23:09.107Z"
   },
   {
    "duration": 9,
    "start_time": "2022-09-20T19:23:09.112Z"
   },
   {
    "duration": 149,
    "start_time": "2022-09-20T19:23:09.123Z"
   },
   {
    "duration": 27,
    "start_time": "2022-09-20T19:23:09.274Z"
   },
   {
    "duration": 324,
    "start_time": "2022-09-20T19:23:09.304Z"
   },
   {
    "duration": 948,
    "start_time": "2022-09-20T19:23:09.630Z"
   },
   {
    "duration": 20,
    "start_time": "2022-09-20T19:23:10.581Z"
   },
   {
    "duration": 27,
    "start_time": "2022-09-20T19:23:10.603Z"
   },
   {
    "duration": 15,
    "start_time": "2022-09-20T19:23:10.632Z"
   },
   {
    "duration": 0,
    "start_time": "2022-09-20T19:23:10.649Z"
   },
   {
    "duration": 51,
    "start_time": "2022-09-20T19:23:41.379Z"
   },
   {
    "duration": 10,
    "start_time": "2022-09-20T19:27:55.779Z"
   },
   {
    "duration": 18,
    "start_time": "2022-09-20T19:28:06.639Z"
   },
   {
    "duration": 5,
    "start_time": "2022-09-20T19:33:33.651Z"
   },
   {
    "duration": 125,
    "start_time": "2022-09-20T19:33:33.661Z"
   },
   {
    "duration": 16,
    "start_time": "2022-09-20T19:33:33.789Z"
   },
   {
    "duration": 25,
    "start_time": "2022-09-20T19:33:33.807Z"
   },
   {
    "duration": 53,
    "start_time": "2022-09-20T19:33:33.836Z"
   },
   {
    "duration": 17,
    "start_time": "2022-09-20T19:33:33.891Z"
   },
   {
    "duration": 26,
    "start_time": "2022-09-20T19:33:33.911Z"
   },
   {
    "duration": 28,
    "start_time": "2022-09-20T19:33:33.940Z"
   },
   {
    "duration": 19,
    "start_time": "2022-09-20T19:33:33.970Z"
   },
   {
    "duration": 16,
    "start_time": "2022-09-20T19:33:33.991Z"
   },
   {
    "duration": 65,
    "start_time": "2022-09-20T19:33:34.011Z"
   },
   {
    "duration": 20,
    "start_time": "2022-09-20T19:33:34.079Z"
   },
   {
    "duration": 20,
    "start_time": "2022-09-20T19:33:34.102Z"
   },
   {
    "duration": 345,
    "start_time": "2022-09-20T19:33:34.124Z"
   },
   {
    "duration": 29,
    "start_time": "2022-09-20T19:33:34.471Z"
   },
   {
    "duration": 135,
    "start_time": "2022-09-20T19:33:34.502Z"
   },
   {
    "duration": 23,
    "start_time": "2022-09-20T19:33:34.639Z"
   },
   {
    "duration": 334,
    "start_time": "2022-09-20T19:33:34.664Z"
   },
   {
    "duration": 12,
    "start_time": "2022-09-20T19:33:35.001Z"
   },
   {
    "duration": 308,
    "start_time": "2022-09-20T19:33:35.015Z"
   },
   {
    "duration": 31,
    "start_time": "2022-09-20T19:33:35.326Z"
   },
   {
    "duration": 54,
    "start_time": "2022-09-20T19:33:35.361Z"
   },
   {
    "duration": 495,
    "start_time": "2022-09-20T19:33:35.417Z"
   },
   {
    "duration": 22,
    "start_time": "2022-09-20T19:33:35.914Z"
   },
   {
    "duration": 264,
    "start_time": "2022-09-20T19:33:35.938Z"
   },
   {
    "duration": 4,
    "start_time": "2022-09-20T19:33:36.204Z"
   },
   {
    "duration": 12,
    "start_time": "2022-09-20T19:33:36.210Z"
   },
   {
    "duration": 135,
    "start_time": "2022-09-20T19:33:36.225Z"
   },
   {
    "duration": 36,
    "start_time": "2022-09-20T19:33:36.364Z"
   },
   {
    "duration": 386,
    "start_time": "2022-09-20T19:33:36.403Z"
   },
   {
    "duration": 1572,
    "start_time": "2022-09-20T19:33:36.791Z"
   },
   {
    "duration": 24,
    "start_time": "2022-09-20T19:33:38.365Z"
   },
   {
    "duration": 18,
    "start_time": "2022-09-20T19:33:38.390Z"
   },
   {
    "duration": 5,
    "start_time": "2022-09-20T20:50:22.841Z"
   },
   {
    "duration": 234,
    "start_time": "2022-09-20T20:50:22.849Z"
   },
   {
    "duration": 27,
    "start_time": "2022-09-20T20:50:23.087Z"
   },
   {
    "duration": 55,
    "start_time": "2022-09-20T20:50:23.121Z"
   },
   {
    "duration": 9,
    "start_time": "2022-09-20T20:50:23.179Z"
   },
   {
    "duration": 47,
    "start_time": "2022-09-20T20:50:23.190Z"
   },
   {
    "duration": 29,
    "start_time": "2022-09-20T20:50:23.241Z"
   },
   {
    "duration": 11,
    "start_time": "2022-09-20T20:50:23.274Z"
   },
   {
    "duration": 33,
    "start_time": "2022-09-20T20:50:23.288Z"
   },
   {
    "duration": 48,
    "start_time": "2022-09-20T20:50:23.329Z"
   },
   {
    "duration": 135,
    "start_time": "2022-09-20T20:50:23.382Z"
   },
   {
    "duration": 45,
    "start_time": "2022-09-20T20:50:23.531Z"
   },
   {
    "duration": 36,
    "start_time": "2022-09-20T20:50:23.579Z"
   },
   {
    "duration": 553,
    "start_time": "2022-09-20T20:50:23.617Z"
   },
   {
    "duration": 28,
    "start_time": "2022-09-20T20:50:24.173Z"
   },
   {
    "duration": 235,
    "start_time": "2022-09-20T20:50:24.214Z"
   },
   {
    "duration": 62,
    "start_time": "2022-09-20T20:50:24.451Z"
   },
   {
    "duration": 442,
    "start_time": "2022-09-20T20:50:24.519Z"
   },
   {
    "duration": 30,
    "start_time": "2022-09-20T20:50:24.963Z"
   },
   {
    "duration": 387,
    "start_time": "2022-09-20T20:50:24.994Z"
   },
   {
    "duration": 47,
    "start_time": "2022-09-20T20:50:25.383Z"
   },
   {
    "duration": 77,
    "start_time": "2022-09-20T20:50:25.435Z"
   },
   {
    "duration": 391,
    "start_time": "2022-09-20T20:50:25.516Z"
   },
   {
    "duration": 28,
    "start_time": "2022-09-20T20:50:25.909Z"
   },
   {
    "duration": 387,
    "start_time": "2022-09-20T20:50:25.940Z"
   },
   {
    "duration": 6,
    "start_time": "2022-09-20T20:50:26.332Z"
   },
   {
    "duration": 39,
    "start_time": "2022-09-20T20:50:26.340Z"
   },
   {
    "duration": 281,
    "start_time": "2022-09-20T20:50:26.382Z"
   },
   {
    "duration": 23,
    "start_time": "2022-09-20T20:50:26.669Z"
   },
   {
    "duration": 377,
    "start_time": "2022-09-20T20:50:26.696Z"
   },
   {
    "duration": 1601,
    "start_time": "2022-09-20T20:50:27.075Z"
   },
   {
    "duration": 23,
    "start_time": "2022-09-20T20:50:28.679Z"
   },
   {
    "duration": 54,
    "start_time": "2022-09-20T20:50:28.704Z"
   },
   {
    "duration": 9,
    "start_time": "2022-09-20T20:51:18.928Z"
   },
   {
    "duration": 178,
    "start_time": "2022-09-20T20:51:18.946Z"
   },
   {
    "duration": 20,
    "start_time": "2022-09-20T20:51:19.126Z"
   },
   {
    "duration": 24,
    "start_time": "2022-09-20T20:51:19.150Z"
   },
   {
    "duration": 19,
    "start_time": "2022-09-20T20:51:19.177Z"
   },
   {
    "duration": 58,
    "start_time": "2022-09-20T20:51:19.198Z"
   },
   {
    "duration": 22,
    "start_time": "2022-09-20T20:51:19.258Z"
   },
   {
    "duration": 16,
    "start_time": "2022-09-20T20:51:19.283Z"
   },
   {
    "duration": 157,
    "start_time": "2022-09-20T20:51:19.305Z"
   },
   {
    "duration": 37,
    "start_time": "2022-09-20T20:51:19.475Z"
   },
   {
    "duration": 83,
    "start_time": "2022-09-20T20:51:19.516Z"
   },
   {
    "duration": 22,
    "start_time": "2022-09-20T20:51:19.601Z"
   },
   {
    "duration": 43,
    "start_time": "2022-09-20T20:51:19.631Z"
   },
   {
    "duration": 482,
    "start_time": "2022-09-20T20:51:19.677Z"
   },
   {
    "duration": 27,
    "start_time": "2022-09-20T20:51:20.163Z"
   },
   {
    "duration": 156,
    "start_time": "2022-09-20T20:51:20.193Z"
   },
   {
    "duration": 31,
    "start_time": "2022-09-20T20:51:20.351Z"
   },
   {
    "duration": 374,
    "start_time": "2022-09-20T20:51:20.384Z"
   },
   {
    "duration": 19,
    "start_time": "2022-09-20T20:51:20.764Z"
   },
   {
    "duration": 412,
    "start_time": "2022-09-20T20:51:20.787Z"
   },
   {
    "duration": 35,
    "start_time": "2022-09-20T20:51:21.208Z"
   },
   {
    "duration": 33,
    "start_time": "2022-09-20T20:51:21.246Z"
   },
   {
    "duration": 331,
    "start_time": "2022-09-20T20:51:21.281Z"
   },
   {
    "duration": 26,
    "start_time": "2022-09-20T20:51:21.616Z"
   },
   {
    "duration": 360,
    "start_time": "2022-09-20T20:51:21.644Z"
   },
   {
    "duration": 4,
    "start_time": "2022-09-20T20:51:22.009Z"
   },
   {
    "duration": 56,
    "start_time": "2022-09-20T20:51:22.015Z"
   },
   {
    "duration": 217,
    "start_time": "2022-09-20T20:51:22.078Z"
   },
   {
    "duration": 26,
    "start_time": "2022-09-20T20:51:22.297Z"
   },
   {
    "duration": 514,
    "start_time": "2022-09-20T20:51:22.325Z"
   },
   {
    "duration": 1728,
    "start_time": "2022-09-20T20:51:22.842Z"
   },
   {
    "duration": 33,
    "start_time": "2022-09-20T20:51:24.572Z"
   },
   {
    "duration": 75,
    "start_time": "2022-09-20T20:51:24.607Z"
   }
  ],
  "kernelspec": {
   "display_name": "Python 3 (ipykernel)",
   "language": "python",
   "name": "python3"
  },
  "language_info": {
   "codemirror_mode": {
    "name": "ipython",
    "version": 3
   },
   "file_extension": ".py",
   "mimetype": "text/x-python",
   "name": "python",
   "nbconvert_exporter": "python",
   "pygments_lexer": "ipython3",
   "version": "3.9.5"
  },
  "toc": {
   "base_numbering": 1,
   "nav_menu": {},
   "number_sections": true,
   "sideBar": true,
   "skip_h1_title": true,
   "title_cell": "Table of Contents",
   "title_sidebar": "Contents",
   "toc_cell": false,
   "toc_position": {},
   "toc_section_display": true,
   "toc_window_display": false
  }
 },
 "nbformat": 4,
 "nbformat_minor": 2
}
