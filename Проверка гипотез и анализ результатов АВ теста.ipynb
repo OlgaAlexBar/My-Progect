{
 "cells": [
  {
   "cell_type": "markdown",
   "metadata": {},
   "source": [
    "   # Проверка гипотез и анализ результатов А/В теста\n",
    "\n",
    "**Описание данных**\n",
    "\n",
    "Данные для первой части\n",
    "\n",
    "**Файл hypothesis.csv.** \n",
    "- Hypothesis — краткое описание гипотезы;\n",
    "- Reach — охват пользователей по 10-балльной шкале;\n",
    "- Impact — влияние на пользователей по 10-балльной шкале;\n",
    "- Confidence — уверенность в гипотезе по 10-балльной шкале;\n",
    "- Efforts — затраты ресурсов на проверку гипотезы по 10-балльной шкале. Чем больше значение Efforts, тем дороже проверка гипотезы.\n",
    "\n",
    "Данные для второй части\n",
    "\n",
    "**Файл orders.csv.** \n",
    "- transactionId — идентификатор заказа;\n",
    "- visitorId — идентификатор пользователя, совершившего заказ;\n",
    "- date — дата, когда был совершён заказ;\n",
    "- revenue — выручка заказа;\n",
    "- group — группа A/B-теста, в которую попал заказ.\n",
    "\n",
    "**Файл visitors.csv.** \n",
    "- date — дата;\n",
    "- group — группа A/B-теста;\n",
    "- visitors — количество пользователей в указанную дату в указанной группе A/B-теста"
   ]
  },
  {
   "cell_type": "markdown",
   "metadata": {},
   "source": [
    "##  Загрузка данных и подготовка к анализу"
   ]
  },
  {
   "cell_type": "code",
   "execution_count": 1,
   "metadata": {},
   "outputs": [],
   "source": [
    "import pandas as pd\n",
    "import scipy.stats as stats\n",
    "from datetime import datetime, timedelta\n",
    "import numpy as np\n",
    "import matplotlib.pyplot as plt"
   ]
  },
  {
   "cell_type": "code",
   "execution_count": 2,
   "metadata": {},
   "outputs": [],
   "source": [
    "visitors = pd.read_csv('/datasets/visitors.csv')\n",
    "orders = pd.read_csv('/datasets/orders.csv')\n",
    "hypothesis = pd.read_csv('/datasets/hypothesis.csv')"
   ]
  },
  {
   "cell_type": "code",
   "execution_count": 3,
   "metadata": {},
   "outputs": [
    {
     "name": "stdout",
     "output_type": "stream",
     "text": [
      "<class 'pandas.core.frame.DataFrame'>\n",
      "RangeIndex: 62 entries, 0 to 61\n",
      "Data columns (total 3 columns):\n",
      " #   Column    Non-Null Count  Dtype \n",
      "---  ------    --------------  ----- \n",
      " 0   date      62 non-null     object\n",
      " 1   group     62 non-null     object\n",
      " 2   visitors  62 non-null     int64 \n",
      "dtypes: int64(1), object(2)\n",
      "memory usage: 1.6+ KB\n"
     ]
    }
   ],
   "source": [
    "# прочитаем информацию \n",
    "visitors.info()"
   ]
  },
  {
   "cell_type": "code",
   "execution_count": 4,
   "metadata": {
    "scrolled": true
   },
   "outputs": [
    {
     "data": {
      "text/html": [
       "<div>\n",
       "<style scoped>\n",
       "    .dataframe tbody tr th:only-of-type {\n",
       "        vertical-align: middle;\n",
       "    }\n",
       "\n",
       "    .dataframe tbody tr th {\n",
       "        vertical-align: top;\n",
       "    }\n",
       "\n",
       "    .dataframe thead th {\n",
       "        text-align: right;\n",
       "    }\n",
       "</style>\n",
       "<table border=\"1\" class=\"dataframe\">\n",
       "  <thead>\n",
       "    <tr style=\"text-align: right;\">\n",
       "      <th></th>\n",
       "      <th>date</th>\n",
       "      <th>group</th>\n",
       "      <th>visitors</th>\n",
       "    </tr>\n",
       "  </thead>\n",
       "  <tbody>\n",
       "    <tr>\n",
       "      <th>0</th>\n",
       "      <td>2019-08-01</td>\n",
       "      <td>A</td>\n",
       "      <td>719</td>\n",
       "    </tr>\n",
       "    <tr>\n",
       "      <th>1</th>\n",
       "      <td>2019-08-02</td>\n",
       "      <td>A</td>\n",
       "      <td>619</td>\n",
       "    </tr>\n",
       "    <tr>\n",
       "      <th>2</th>\n",
       "      <td>2019-08-03</td>\n",
       "      <td>A</td>\n",
       "      <td>507</td>\n",
       "    </tr>\n",
       "    <tr>\n",
       "      <th>3</th>\n",
       "      <td>2019-08-04</td>\n",
       "      <td>A</td>\n",
       "      <td>717</td>\n",
       "    </tr>\n",
       "    <tr>\n",
       "      <th>4</th>\n",
       "      <td>2019-08-05</td>\n",
       "      <td>A</td>\n",
       "      <td>756</td>\n",
       "    </tr>\n",
       "  </tbody>\n",
       "</table>\n",
       "</div>"
      ],
      "text/plain": [
       "        date group  visitors\n",
       "0 2019-08-01     A       719\n",
       "1 2019-08-02     A       619\n",
       "2 2019-08-03     A       507\n",
       "3 2019-08-04     A       717\n",
       "4 2019-08-05     A       756"
      ]
     },
     "execution_count": 4,
     "metadata": {},
     "output_type": "execute_result"
    }
   ],
   "source": [
    "# преобразуем даты\n",
    "visitors['date'] = pd.to_datetime(visitors['date'])\n",
    "\n",
    "visitors.head()"
   ]
  },
  {
   "cell_type": "code",
   "execution_count": 5,
   "metadata": {},
   "outputs": [
    {
     "name": "stdout",
     "output_type": "stream",
     "text": [
      "['A' 'B']\n"
     ]
    }
   ],
   "source": [
    "print(visitors['group'].unique())"
   ]
  },
  {
   "cell_type": "code",
   "execution_count": 6,
   "metadata": {},
   "outputs": [
    {
     "name": "stdout",
     "output_type": "stream",
     "text": [
      "Дата первого посещения : 2019-08-01\n",
      "Дата последнего: 2019-08-31\n"
     ]
    }
   ],
   "source": [
    "print('Дата первого посещения :', min(visitors['date'].dt.date))\n",
    "print('Дата последнего:', max(visitors['date'].dt.date))"
   ]
  },
  {
   "cell_type": "code",
   "execution_count": 7,
   "metadata": {
    "scrolled": true
   },
   "outputs": [
    {
     "name": "stdout",
     "output_type": "stream",
     "text": [
      "<class 'pandas.core.frame.DataFrame'>\n",
      "RangeIndex: 1197 entries, 0 to 1196\n",
      "Data columns (total 5 columns):\n",
      " #   Column         Non-Null Count  Dtype \n",
      "---  ------         --------------  ----- \n",
      " 0   transactionId  1197 non-null   int64 \n",
      " 1   visitorId      1197 non-null   int64 \n",
      " 2   date           1197 non-null   object\n",
      " 3   revenue        1197 non-null   int64 \n",
      " 4   group          1197 non-null   object\n",
      "dtypes: int64(3), object(2)\n",
      "memory usage: 46.9+ KB\n"
     ]
    }
   ],
   "source": [
    "# посмотрим информацию \n",
    "orders.info()"
   ]
  },
  {
   "cell_type": "code",
   "execution_count": 8,
   "metadata": {},
   "outputs": [
    {
     "data": {
      "text/html": [
       "<div>\n",
       "<style scoped>\n",
       "    .dataframe tbody tr th:only-of-type {\n",
       "        vertical-align: middle;\n",
       "    }\n",
       "\n",
       "    .dataframe tbody tr th {\n",
       "        vertical-align: top;\n",
       "    }\n",
       "\n",
       "    .dataframe thead th {\n",
       "        text-align: right;\n",
       "    }\n",
       "</style>\n",
       "<table border=\"1\" class=\"dataframe\">\n",
       "  <thead>\n",
       "    <tr style=\"text-align: right;\">\n",
       "      <th></th>\n",
       "      <th>transaction_id</th>\n",
       "      <th>visitor_id</th>\n",
       "      <th>date</th>\n",
       "      <th>revenue</th>\n",
       "      <th>group</th>\n",
       "    </tr>\n",
       "  </thead>\n",
       "  <tbody>\n",
       "    <tr>\n",
       "      <th>0</th>\n",
       "      <td>3667963787</td>\n",
       "      <td>3312258926</td>\n",
       "      <td>2019-08-15</td>\n",
       "      <td>1650</td>\n",
       "      <td>B</td>\n",
       "    </tr>\n",
       "    <tr>\n",
       "      <th>1</th>\n",
       "      <td>2804400009</td>\n",
       "      <td>3642806036</td>\n",
       "      <td>2019-08-15</td>\n",
       "      <td>730</td>\n",
       "      <td>B</td>\n",
       "    </tr>\n",
       "    <tr>\n",
       "      <th>2</th>\n",
       "      <td>2961555356</td>\n",
       "      <td>4069496402</td>\n",
       "      <td>2019-08-15</td>\n",
       "      <td>400</td>\n",
       "      <td>A</td>\n",
       "    </tr>\n",
       "    <tr>\n",
       "      <th>3</th>\n",
       "      <td>3797467345</td>\n",
       "      <td>1196621759</td>\n",
       "      <td>2019-08-15</td>\n",
       "      <td>9759</td>\n",
       "      <td>B</td>\n",
       "    </tr>\n",
       "    <tr>\n",
       "      <th>4</th>\n",
       "      <td>2282983706</td>\n",
       "      <td>2322279887</td>\n",
       "      <td>2019-08-15</td>\n",
       "      <td>2308</td>\n",
       "      <td>B</td>\n",
       "    </tr>\n",
       "  </tbody>\n",
       "</table>\n",
       "</div>"
      ],
      "text/plain": [
       "   transaction_id  visitor_id       date  revenue group\n",
       "0      3667963787  3312258926 2019-08-15     1650     B\n",
       "1      2804400009  3642806036 2019-08-15      730     B\n",
       "2      2961555356  4069496402 2019-08-15      400     A\n",
       "3      3797467345  1196621759 2019-08-15     9759     B\n",
       "4      2282983706  2322279887 2019-08-15     2308     B"
      ]
     },
     "execution_count": 8,
     "metadata": {},
     "output_type": "execute_result"
    }
   ],
   "source": [
    "# переименуем столбцы\n",
    "orders.columns = ['transaction_id', 'visitor_id', 'date', 'revenue', 'group']\n",
    "\n",
    "# преобразуем даты\n",
    "orders['date'] = pd.to_datetime(orders['date'])\n",
    "\n",
    "orders.head()"
   ]
  },
  {
   "cell_type": "code",
   "execution_count": 9,
   "metadata": {},
   "outputs": [
    {
     "data": {
      "text/plain": [
       "0"
      ]
     },
     "execution_count": 9,
     "metadata": {},
     "output_type": "execute_result"
    }
   ],
   "source": [
    "# проверим на дубликаты\n",
    "orders.duplicated().sum()"
   ]
  },
  {
   "cell_type": "code",
   "execution_count": 10,
   "metadata": {
    "scrolled": true
   },
   "outputs": [
    {
     "name": "stdout",
     "output_type": "stream",
     "text": [
      "['B' 'A']\n"
     ]
    }
   ],
   "source": [
    "print(orders['group'].unique())"
   ]
  },
  {
   "cell_type": "code",
   "execution_count": 11,
   "metadata": {
    "scrolled": true
   },
   "outputs": [
    {
     "name": "stdout",
     "output_type": "stream",
     "text": [
      "Дата первого заказа: 2019-08-01\n",
      "Дата последнего заказа : 2019-08-31\n"
     ]
    }
   ],
   "source": [
    "print('Дата первого заказа:', min(orders['date'].dt.date))\n",
    "print('Дата последнего заказа :', max(orders['date'].dt.date))"
   ]
  },
  {
   "cell_type": "code",
   "execution_count": 12,
   "metadata": {
    "scrolled": false
   },
   "outputs": [
    {
     "data": {
      "text/html": [
       "<div>\n",
       "<style scoped>\n",
       "    .dataframe tbody tr th:only-of-type {\n",
       "        vertical-align: middle;\n",
       "    }\n",
       "\n",
       "    .dataframe tbody tr th {\n",
       "        vertical-align: top;\n",
       "    }\n",
       "\n",
       "    .dataframe thead th {\n",
       "        text-align: right;\n",
       "    }\n",
       "</style>\n",
       "<table border=\"1\" class=\"dataframe\">\n",
       "  <thead>\n",
       "    <tr style=\"text-align: right;\">\n",
       "      <th></th>\n",
       "      <th>unique_group</th>\n",
       "      <th>group_size</th>\n",
       "      <th>both_groups</th>\n",
       "    </tr>\n",
       "    <tr>\n",
       "      <th>group</th>\n",
       "      <th></th>\n",
       "      <th></th>\n",
       "      <th></th>\n",
       "    </tr>\n",
       "  </thead>\n",
       "  <tbody>\n",
       "    <tr>\n",
       "      <th>A</th>\n",
       "      <td>503</td>\n",
       "      <td>557</td>\n",
       "      <td>54</td>\n",
       "    </tr>\n",
       "    <tr>\n",
       "      <th>B</th>\n",
       "      <td>586</td>\n",
       "      <td>640</td>\n",
       "      <td>54</td>\n",
       "    </tr>\n",
       "  </tbody>\n",
       "</table>\n",
       "</div>"
      ],
      "text/plain": [
       "       unique_group  group_size  both_groups\n",
       "group                                       \n",
       "A               503         557           54\n",
       "B               586         640           54"
      ]
     },
     "execution_count": 12,
     "metadata": {},
     "output_type": "execute_result"
    }
   ],
   "source": [
    "#Определим количество пользователей в каждой группе. И посмотрим есть ли пользователи, входящие в обе группы.\n",
    "orders_in_group = (\n",
    "    orders.groupby('group')\n",
    "    .agg({'visitor_id': ['nunique', 'count']})\n",
    ")\n",
    "orders_in_group.columns = ['unique_group', 'group_size']\n",
    "orders_in_group['both_groups'] = orders_in_group['group_size'] - orders_in_group['unique_group']\n",
    "orders_in_group"
   ]
  },
  {
   "cell_type": "code",
   "execution_count": 13,
   "metadata": {},
   "outputs": [
    {
     "name": "stdout",
     "output_type": "stream",
     "text": [
      "<class 'pandas.core.frame.DataFrame'>\n",
      "RangeIndex: 9 entries, 0 to 8\n",
      "Data columns (total 5 columns):\n",
      " #   Column      Non-Null Count  Dtype \n",
      "---  ------      --------------  ----- \n",
      " 0   Hypothesis  9 non-null      object\n",
      " 1   Reach       9 non-null      int64 \n",
      " 2   Impact      9 non-null      int64 \n",
      " 3   Confidence  9 non-null      int64 \n",
      " 4   Efforts     9 non-null      int64 \n",
      "dtypes: int64(4), object(1)\n",
      "memory usage: 488.0+ bytes\n"
     ]
    }
   ],
   "source": [
    "# информация по датафрейму\n",
    "hypothesis.info()"
   ]
  },
  {
   "cell_type": "code",
   "execution_count": 14,
   "metadata": {},
   "outputs": [],
   "source": [
    "# приведем названия столбцов к нижнему регистру\n",
    "hypothesis.columns = hypothesis.columns.str.lower()"
   ]
  },
  {
   "cell_type": "code",
   "execution_count": 15,
   "metadata": {},
   "outputs": [
    {
     "data": {
      "text/plain": [
       "0"
      ]
     },
     "execution_count": 15,
     "metadata": {},
     "output_type": "execute_result"
    }
   ],
   "source": [
    "# проверка дубликатов строк\n",
    "hypothesis.duplicated().sum()"
   ]
  },
  {
   "cell_type": "code",
   "execution_count": 16,
   "metadata": {
    "scrolled": false
   },
   "outputs": [
    {
     "data": {
      "text/html": [
       "<div>\n",
       "<style scoped>\n",
       "    .dataframe tbody tr th:only-of-type {\n",
       "        vertical-align: middle;\n",
       "    }\n",
       "\n",
       "    .dataframe tbody tr th {\n",
       "        vertical-align: top;\n",
       "    }\n",
       "\n",
       "    .dataframe thead th {\n",
       "        text-align: right;\n",
       "    }\n",
       "</style>\n",
       "<table border=\"1\" class=\"dataframe\">\n",
       "  <thead>\n",
       "    <tr style=\"text-align: right;\">\n",
       "      <th></th>\n",
       "      <th>hypothesis</th>\n",
       "      <th>reach</th>\n",
       "      <th>impact</th>\n",
       "      <th>confidence</th>\n",
       "      <th>efforts</th>\n",
       "    </tr>\n",
       "  </thead>\n",
       "  <tbody>\n",
       "    <tr>\n",
       "      <th>0</th>\n",
       "      <td>Добавить два новых канала привлечения трафика,...</td>\n",
       "      <td>3</td>\n",
       "      <td>10</td>\n",
       "      <td>8</td>\n",
       "      <td>6</td>\n",
       "    </tr>\n",
       "    <tr>\n",
       "      <th>1</th>\n",
       "      <td>Запустить собственную службу доставки, что сок...</td>\n",
       "      <td>2</td>\n",
       "      <td>5</td>\n",
       "      <td>4</td>\n",
       "      <td>10</td>\n",
       "    </tr>\n",
       "    <tr>\n",
       "      <th>2</th>\n",
       "      <td>Добавить блоки рекомендаций товаров на сайт ин...</td>\n",
       "      <td>8</td>\n",
       "      <td>3</td>\n",
       "      <td>7</td>\n",
       "      <td>3</td>\n",
       "    </tr>\n",
       "    <tr>\n",
       "      <th>3</th>\n",
       "      <td>Изменить структура категорий, что увеличит кон...</td>\n",
       "      <td>8</td>\n",
       "      <td>3</td>\n",
       "      <td>3</td>\n",
       "      <td>8</td>\n",
       "    </tr>\n",
       "    <tr>\n",
       "      <th>4</th>\n",
       "      <td>Изменить цвет фона главной страницы, чтобы уве...</td>\n",
       "      <td>3</td>\n",
       "      <td>1</td>\n",
       "      <td>1</td>\n",
       "      <td>1</td>\n",
       "    </tr>\n",
       "    <tr>\n",
       "      <th>5</th>\n",
       "      <td>Добавить страницу отзывов клиентов о магазине,...</td>\n",
       "      <td>3</td>\n",
       "      <td>2</td>\n",
       "      <td>2</td>\n",
       "      <td>3</td>\n",
       "    </tr>\n",
       "    <tr>\n",
       "      <th>6</th>\n",
       "      <td>Показать на главной странице баннеры с актуаль...</td>\n",
       "      <td>5</td>\n",
       "      <td>3</td>\n",
       "      <td>8</td>\n",
       "      <td>3</td>\n",
       "    </tr>\n",
       "    <tr>\n",
       "      <th>7</th>\n",
       "      <td>Добавить форму подписки на все основные страни...</td>\n",
       "      <td>10</td>\n",
       "      <td>7</td>\n",
       "      <td>8</td>\n",
       "      <td>5</td>\n",
       "    </tr>\n",
       "    <tr>\n",
       "      <th>8</th>\n",
       "      <td>Запустить акцию, дающую скидку на товар в день...</td>\n",
       "      <td>1</td>\n",
       "      <td>9</td>\n",
       "      <td>9</td>\n",
       "      <td>5</td>\n",
       "    </tr>\n",
       "  </tbody>\n",
       "</table>\n",
       "</div>"
      ],
      "text/plain": [
       "                                          hypothesis  reach  impact  \\\n",
       "0  Добавить два новых канала привлечения трафика,...      3      10   \n",
       "1  Запустить собственную службу доставки, что сок...      2       5   \n",
       "2  Добавить блоки рекомендаций товаров на сайт ин...      8       3   \n",
       "3  Изменить структура категорий, что увеличит кон...      8       3   \n",
       "4  Изменить цвет фона главной страницы, чтобы уве...      3       1   \n",
       "5  Добавить страницу отзывов клиентов о магазине,...      3       2   \n",
       "6  Показать на главной странице баннеры с актуаль...      5       3   \n",
       "7  Добавить форму подписки на все основные страни...     10       7   \n",
       "8  Запустить акцию, дающую скидку на товар в день...      1       9   \n",
       "\n",
       "   confidence  efforts  \n",
       "0           8        6  \n",
       "1           4       10  \n",
       "2           7        3  \n",
       "3           3        8  \n",
       "4           1        1  \n",
       "5           2        3  \n",
       "6           8        3  \n",
       "7           8        5  \n",
       "8           9        5  "
      ]
     },
     "execution_count": 16,
     "metadata": {},
     "output_type": "execute_result"
    }
   ],
   "source": [
    "hypothesis"
   ]
  },
  {
   "cell_type": "markdown",
   "metadata": {},
   "source": [
    "**Выводы**\n",
    "\n",
    "Подготовили данные к анализу.\n",
    "Переименовали столбцы,провели замену типа данных,проверили на дубликаты."
   ]
  },
  {
   "cell_type": "markdown",
   "metadata": {},
   "source": [
    "##  Приоритизация гипотез."
   ]
  },
  {
   "cell_type": "code",
   "execution_count": 17,
   "metadata": {},
   "outputs": [
    {
     "data": {
      "text/html": [
       "<div>\n",
       "<style scoped>\n",
       "    .dataframe tbody tr th:only-of-type {\n",
       "        vertical-align: middle;\n",
       "    }\n",
       "\n",
       "    .dataframe tbody tr th {\n",
       "        vertical-align: top;\n",
       "    }\n",
       "\n",
       "    .dataframe thead th {\n",
       "        text-align: right;\n",
       "    }\n",
       "</style>\n",
       "<table border=\"1\" class=\"dataframe\">\n",
       "  <thead>\n",
       "    <tr style=\"text-align: right;\">\n",
       "      <th></th>\n",
       "      <th>hypothesis</th>\n",
       "      <th>reach</th>\n",
       "      <th>impact</th>\n",
       "      <th>confidence</th>\n",
       "      <th>efforts</th>\n",
       "      <th>ICE</th>\n",
       "    </tr>\n",
       "  </thead>\n",
       "  <tbody>\n",
       "    <tr>\n",
       "      <th>8</th>\n",
       "      <td>Запустить акцию, дающую скидку на товар в день рождения</td>\n",
       "      <td>1</td>\n",
       "      <td>9</td>\n",
       "      <td>9</td>\n",
       "      <td>5</td>\n",
       "      <td>16.0</td>\n",
       "    </tr>\n",
       "    <tr>\n",
       "      <th>0</th>\n",
       "      <td>Добавить два новых канала привлечения трафика, что позволит привлекать на 30% больше пользователей</td>\n",
       "      <td>3</td>\n",
       "      <td>10</td>\n",
       "      <td>8</td>\n",
       "      <td>6</td>\n",
       "      <td>13.0</td>\n",
       "    </tr>\n",
       "    <tr>\n",
       "      <th>7</th>\n",
       "      <td>Добавить форму подписки на все основные страницы, чтобы собрать базу клиентов для email-рассылок</td>\n",
       "      <td>10</td>\n",
       "      <td>7</td>\n",
       "      <td>8</td>\n",
       "      <td>5</td>\n",
       "      <td>11.0</td>\n",
       "    </tr>\n",
       "    <tr>\n",
       "      <th>6</th>\n",
       "      <td>Показать на главной странице баннеры с актуальными акциями и распродажами, чтобы увеличить конверсию</td>\n",
       "      <td>5</td>\n",
       "      <td>3</td>\n",
       "      <td>8</td>\n",
       "      <td>3</td>\n",
       "      <td>8.0</td>\n",
       "    </tr>\n",
       "    <tr>\n",
       "      <th>2</th>\n",
       "      <td>Добавить блоки рекомендаций товаров на сайт интернет магазина, чтобы повысить конверсию и средний чек заказа</td>\n",
       "      <td>8</td>\n",
       "      <td>3</td>\n",
       "      <td>7</td>\n",
       "      <td>3</td>\n",
       "      <td>7.0</td>\n",
       "    </tr>\n",
       "    <tr>\n",
       "      <th>1</th>\n",
       "      <td>Запустить собственную службу доставки, что сократит срок доставки заказов</td>\n",
       "      <td>2</td>\n",
       "      <td>5</td>\n",
       "      <td>4</td>\n",
       "      <td>10</td>\n",
       "      <td>2.0</td>\n",
       "    </tr>\n",
       "    <tr>\n",
       "      <th>5</th>\n",
       "      <td>Добавить страницу отзывов клиентов о магазине, что позволит увеличить количество заказов</td>\n",
       "      <td>3</td>\n",
       "      <td>2</td>\n",
       "      <td>2</td>\n",
       "      <td>3</td>\n",
       "      <td>1.0</td>\n",
       "    </tr>\n",
       "    <tr>\n",
       "      <th>3</th>\n",
       "      <td>Изменить структура категорий, что увеличит конверсию, т.к. пользователи быстрее найдут нужный товар</td>\n",
       "      <td>8</td>\n",
       "      <td>3</td>\n",
       "      <td>3</td>\n",
       "      <td>8</td>\n",
       "      <td>1.0</td>\n",
       "    </tr>\n",
       "    <tr>\n",
       "      <th>4</th>\n",
       "      <td>Изменить цвет фона главной страницы, чтобы увеличить вовлеченность пользователей</td>\n",
       "      <td>3</td>\n",
       "      <td>1</td>\n",
       "      <td>1</td>\n",
       "      <td>1</td>\n",
       "      <td>1.0</td>\n",
       "    </tr>\n",
       "  </tbody>\n",
       "</table>\n",
       "</div>"
      ],
      "text/plain": [
       "                                                                                                     hypothesis  \\\n",
       "8                                                       Запустить акцию, дающую скидку на товар в день рождения   \n",
       "0            Добавить два новых канала привлечения трафика, что позволит привлекать на 30% больше пользователей   \n",
       "7              Добавить форму подписки на все основные страницы, чтобы собрать базу клиентов для email-рассылок   \n",
       "6          Показать на главной странице баннеры с актуальными акциями и распродажами, чтобы увеличить конверсию   \n",
       "2  Добавить блоки рекомендаций товаров на сайт интернет магазина, чтобы повысить конверсию и средний чек заказа   \n",
       "1                                     Запустить собственную службу доставки, что сократит срок доставки заказов   \n",
       "5                      Добавить страницу отзывов клиентов о магазине, что позволит увеличить количество заказов   \n",
       "3           Изменить структура категорий, что увеличит конверсию, т.к. пользователи быстрее найдут нужный товар   \n",
       "4                              Изменить цвет фона главной страницы, чтобы увеличить вовлеченность пользователей   \n",
       "\n",
       "   reach  impact  confidence  efforts   ICE  \n",
       "8      1       9           9        5  16.0  \n",
       "0      3      10           8        6  13.0  \n",
       "7     10       7           8        5  11.0  \n",
       "6      5       3           8        3   8.0  \n",
       "2      8       3           7        3   7.0  \n",
       "1      2       5           4       10   2.0  \n",
       "5      3       2           2        3   1.0  \n",
       "3      8       3           3        8   1.0  \n",
       "4      3       1           1        1   1.0  "
      ]
     },
     "execution_count": 17,
     "metadata": {},
     "output_type": "execute_result"
    }
   ],
   "source": [
    "pd.options.display.max_colwidth = 210\n",
    "hypothesis['ICE'] = (hypothesis['impact'] * hypothesis['confidence']) / hypothesis['efforts']\n",
    "hypothesis.sort_values(by='ICE', ascending=False).round()\n"
   ]
  },
  {
   "cell_type": "markdown",
   "metadata": {},
   "source": [
    "Наиболее перспективные гипотезы по ICE:\n",
    "\n",
    "- 8 Запустить акцию, дающую скидку на товар в день рождения;\n",
    "\n",
    "- 0 Добавить два новых канала привлечения трафика, что позволит привлекать на 30% больше пользователей;\n",
    "\n",
    "- 7 Добавить форму подписки на все основные страницы, чтобы собрать базу клиентов для email-рассылок."
   ]
  },
  {
   "cell_type": "code",
   "execution_count": 18,
   "metadata": {},
   "outputs": [
    {
     "data": {
      "text/html": [
       "<div>\n",
       "<style scoped>\n",
       "    .dataframe tbody tr th:only-of-type {\n",
       "        vertical-align: middle;\n",
       "    }\n",
       "\n",
       "    .dataframe tbody tr th {\n",
       "        vertical-align: top;\n",
       "    }\n",
       "\n",
       "    .dataframe thead th {\n",
       "        text-align: right;\n",
       "    }\n",
       "</style>\n",
       "<table border=\"1\" class=\"dataframe\">\n",
       "  <thead>\n",
       "    <tr style=\"text-align: right;\">\n",
       "      <th></th>\n",
       "      <th>hypothesis</th>\n",
       "      <th>reach</th>\n",
       "      <th>impact</th>\n",
       "      <th>confidence</th>\n",
       "      <th>efforts</th>\n",
       "      <th>ICE</th>\n",
       "      <th>RICE</th>\n",
       "    </tr>\n",
       "  </thead>\n",
       "  <tbody>\n",
       "    <tr>\n",
       "      <th>7</th>\n",
       "      <td>Добавить форму подписки на все основные страницы, чтобы собрать базу клиентов для email-рассылок</td>\n",
       "      <td>10</td>\n",
       "      <td>7</td>\n",
       "      <td>8</td>\n",
       "      <td>5</td>\n",
       "      <td>11.0</td>\n",
       "      <td>112.0</td>\n",
       "    </tr>\n",
       "    <tr>\n",
       "      <th>2</th>\n",
       "      <td>Добавить блоки рекомендаций товаров на сайт интернет магазина, чтобы повысить конверсию и средний чек заказа</td>\n",
       "      <td>8</td>\n",
       "      <td>3</td>\n",
       "      <td>7</td>\n",
       "      <td>3</td>\n",
       "      <td>7.0</td>\n",
       "      <td>56.0</td>\n",
       "    </tr>\n",
       "    <tr>\n",
       "      <th>0</th>\n",
       "      <td>Добавить два новых канала привлечения трафика, что позволит привлекать на 30% больше пользователей</td>\n",
       "      <td>3</td>\n",
       "      <td>10</td>\n",
       "      <td>8</td>\n",
       "      <td>6</td>\n",
       "      <td>13.0</td>\n",
       "      <td>40.0</td>\n",
       "    </tr>\n",
       "    <tr>\n",
       "      <th>6</th>\n",
       "      <td>Показать на главной странице баннеры с актуальными акциями и распродажами, чтобы увеличить конверсию</td>\n",
       "      <td>5</td>\n",
       "      <td>3</td>\n",
       "      <td>8</td>\n",
       "      <td>3</td>\n",
       "      <td>8.0</td>\n",
       "      <td>40.0</td>\n",
       "    </tr>\n",
       "    <tr>\n",
       "      <th>8</th>\n",
       "      <td>Запустить акцию, дающую скидку на товар в день рождения</td>\n",
       "      <td>1</td>\n",
       "      <td>9</td>\n",
       "      <td>9</td>\n",
       "      <td>5</td>\n",
       "      <td>16.0</td>\n",
       "      <td>16.0</td>\n",
       "    </tr>\n",
       "    <tr>\n",
       "      <th>3</th>\n",
       "      <td>Изменить структура категорий, что увеличит конверсию, т.к. пользователи быстрее найдут нужный товар</td>\n",
       "      <td>8</td>\n",
       "      <td>3</td>\n",
       "      <td>3</td>\n",
       "      <td>8</td>\n",
       "      <td>1.0</td>\n",
       "      <td>9.0</td>\n",
       "    </tr>\n",
       "    <tr>\n",
       "      <th>1</th>\n",
       "      <td>Запустить собственную службу доставки, что сократит срок доставки заказов</td>\n",
       "      <td>2</td>\n",
       "      <td>5</td>\n",
       "      <td>4</td>\n",
       "      <td>10</td>\n",
       "      <td>2.0</td>\n",
       "      <td>4.0</td>\n",
       "    </tr>\n",
       "    <tr>\n",
       "      <th>5</th>\n",
       "      <td>Добавить страницу отзывов клиентов о магазине, что позволит увеличить количество заказов</td>\n",
       "      <td>3</td>\n",
       "      <td>2</td>\n",
       "      <td>2</td>\n",
       "      <td>3</td>\n",
       "      <td>1.0</td>\n",
       "      <td>4.0</td>\n",
       "    </tr>\n",
       "    <tr>\n",
       "      <th>4</th>\n",
       "      <td>Изменить цвет фона главной страницы, чтобы увеличить вовлеченность пользователей</td>\n",
       "      <td>3</td>\n",
       "      <td>1</td>\n",
       "      <td>1</td>\n",
       "      <td>1</td>\n",
       "      <td>1.0</td>\n",
       "      <td>3.0</td>\n",
       "    </tr>\n",
       "  </tbody>\n",
       "</table>\n",
       "</div>"
      ],
      "text/plain": [
       "                                                                                                     hypothesis  \\\n",
       "7              Добавить форму подписки на все основные страницы, чтобы собрать базу клиентов для email-рассылок   \n",
       "2  Добавить блоки рекомендаций товаров на сайт интернет магазина, чтобы повысить конверсию и средний чек заказа   \n",
       "0            Добавить два новых канала привлечения трафика, что позволит привлекать на 30% больше пользователей   \n",
       "6          Показать на главной странице баннеры с актуальными акциями и распродажами, чтобы увеличить конверсию   \n",
       "8                                                       Запустить акцию, дающую скидку на товар в день рождения   \n",
       "3           Изменить структура категорий, что увеличит конверсию, т.к. пользователи быстрее найдут нужный товар   \n",
       "1                                     Запустить собственную службу доставки, что сократит срок доставки заказов   \n",
       "5                      Добавить страницу отзывов клиентов о магазине, что позволит увеличить количество заказов   \n",
       "4                              Изменить цвет фона главной страницы, чтобы увеличить вовлеченность пользователей   \n",
       "\n",
       "   reach  impact  confidence  efforts   ICE   RICE  \n",
       "7     10       7           8        5  11.0  112.0  \n",
       "2      8       3           7        3   7.0   56.0  \n",
       "0      3      10           8        6  13.0   40.0  \n",
       "6      5       3           8        3   8.0   40.0  \n",
       "8      1       9           9        5  16.0   16.0  \n",
       "3      8       3           3        8   1.0    9.0  \n",
       "1      2       5           4       10   2.0    4.0  \n",
       "5      3       2           2        3   1.0    4.0  \n",
       "4      3       1           1        1   1.0    3.0  "
      ]
     },
     "execution_count": 18,
     "metadata": {},
     "output_type": "execute_result"
    }
   ],
   "source": [
    "pd.options.display.max_colwidth = 210\n",
    "hypothesis['RICE'] = hypothesis['reach']*hypothesis['impact']*hypothesis['confidence']/hypothesis['efforts']\n",
    "hypothesis.sort_values('RICE', ascending=False).round()"
   ]
  },
  {
   "cell_type": "markdown",
   "metadata": {},
   "source": [
    "Наиболее перспективные гипотезы по RICE:\n",
    "\n",
    "- 7 Добавить форму подписки на все основные страницы, чтобы собрать базу клиентов для email-рассылок;\n",
    "- 2 Добавить блоки рекомендаций товаров на сайт интернет магазина, чтобы повысить конверсию и средний чек заказа;\n",
    "- 0 Добавить два новых канала привлечения трафика, что позволит привлекать на 30% больше пользователей;\n",
    "- 6 Показать на главной странице баннеры с актуальными акциями и распродажами, чтобы увеличить конверсию."
   ]
  },
  {
   "cell_type": "markdown",
   "metadata": {},
   "source": [
    "Приоретизация по разным фреймворкам отличается.\n",
    "Если в ICE на первом месте 8 гипотезa, то в RICE эта гипотеза на пятом месте, а на первом 7, хотя в первом расчетё она на 3 месте.\n",
    "Так получается потому что во фреймворке RICE задействован параметр reach (охват пользователей). "
   ]
  },
  {
   "cell_type": "markdown",
   "metadata": {},
   "source": [
    "## Анализ A/B-теста"
   ]
  },
  {
   "cell_type": "markdown",
   "metadata": {},
   "source": [
    "### Постройте график кумулятивной выручки по группам. Сделайте выводы и предположения."
   ]
  },
  {
   "cell_type": "code",
   "execution_count": 19,
   "metadata": {},
   "outputs": [],
   "source": [
    "# создаем массив уникальных пар значений дат и групп A/B-теста\n",
    "dates_groups = orders[['date','group']].drop_duplicates() \n",
    "\n",
    "# получаем агрегированные кумулятивные по дням данные о заказах \n",
    "orders_aggregated = dates_groups.apply( \\\n",
    "                        lambda x: orders[np.logical_and(orders['date'] <= x['date'], \\\n",
    "                        orders['group'] == x['group'])] \\\n",
    "                        .agg({ \\\n",
    "                              'date' : 'max', \\\n",
    "                              'group' : 'max', \\\n",
    "                              'transaction_id' : 'nunique', \\\n",
    "                              'visitor_id' : 'nunique', \\\n",
    "                              'revenue' : 'sum'}), \\\n",
    "                        axis=1).sort_values(by=['date','group']) \n",
    "\n",
    "# получаем агрегированные кумулятивные по дням данные о посетителях интернет-магазина \n",
    "visitors_aggregated = dates_groups.apply( \\\n",
    "                        lambda x: visitors[np.logical_and(visitors['date'] <= x['date'], \\\n",
    "                        visitors['group'] == x['group'])] \\\n",
    "                        .agg({ \\\n",
    "                              'date' : 'max', \\\n",
    "                              'group' : 'max', \\\n",
    "                              'visitors' : 'sum'}), \\\n",
    "                        axis=1).sort_values(by=['date','group'])\n",
    "\n",
    "# объединяем кумулятивные данные в одной таблице и присваиваем ее столбцам понятные названия\n",
    "cumulative_data = orders_aggregated.merge(visitors_aggregated, left_on=['date', 'group'], right_on=['date', 'group'])\n",
    "cumulative_data.columns = ['date', 'group', 'orders', 'buyers', 'revenue', 'visitor_id']"
   ]
  },
  {
   "cell_type": "code",
   "execution_count": 20,
   "metadata": {},
   "outputs": [
    {
     "data": {
      "text/html": [
       "<div>\n",
       "<style scoped>\n",
       "    .dataframe tbody tr th:only-of-type {\n",
       "        vertical-align: middle;\n",
       "    }\n",
       "\n",
       "    .dataframe tbody tr th {\n",
       "        vertical-align: top;\n",
       "    }\n",
       "\n",
       "    .dataframe thead th {\n",
       "        text-align: right;\n",
       "    }\n",
       "</style>\n",
       "<table border=\"1\" class=\"dataframe\">\n",
       "  <thead>\n",
       "    <tr style=\"text-align: right;\">\n",
       "      <th></th>\n",
       "      <th>date</th>\n",
       "      <th>group</th>\n",
       "      <th>orders</th>\n",
       "      <th>buyers</th>\n",
       "      <th>revenue</th>\n",
       "      <th>visitor_id</th>\n",
       "    </tr>\n",
       "  </thead>\n",
       "  <tbody>\n",
       "    <tr>\n",
       "      <th>0</th>\n",
       "      <td>2019-08-01</td>\n",
       "      <td>A</td>\n",
       "      <td>24</td>\n",
       "      <td>20</td>\n",
       "      <td>148579</td>\n",
       "      <td>719</td>\n",
       "    </tr>\n",
       "    <tr>\n",
       "      <th>1</th>\n",
       "      <td>2019-08-01</td>\n",
       "      <td>B</td>\n",
       "      <td>21</td>\n",
       "      <td>20</td>\n",
       "      <td>101217</td>\n",
       "      <td>713</td>\n",
       "    </tr>\n",
       "    <tr>\n",
       "      <th>2</th>\n",
       "      <td>2019-08-02</td>\n",
       "      <td>A</td>\n",
       "      <td>44</td>\n",
       "      <td>38</td>\n",
       "      <td>242401</td>\n",
       "      <td>1338</td>\n",
       "    </tr>\n",
       "    <tr>\n",
       "      <th>3</th>\n",
       "      <td>2019-08-02</td>\n",
       "      <td>B</td>\n",
       "      <td>45</td>\n",
       "      <td>43</td>\n",
       "      <td>266748</td>\n",
       "      <td>1294</td>\n",
       "    </tr>\n",
       "    <tr>\n",
       "      <th>4</th>\n",
       "      <td>2019-08-03</td>\n",
       "      <td>A</td>\n",
       "      <td>68</td>\n",
       "      <td>62</td>\n",
       "      <td>354874</td>\n",
       "      <td>1845</td>\n",
       "    </tr>\n",
       "  </tbody>\n",
       "</table>\n",
       "</div>"
      ],
      "text/plain": [
       "        date group  orders  buyers  revenue  visitor_id\n",
       "0 2019-08-01     A      24      20   148579         719\n",
       "1 2019-08-01     B      21      20   101217         713\n",
       "2 2019-08-02     A      44      38   242401        1338\n",
       "3 2019-08-02     B      45      43   266748        1294\n",
       "4 2019-08-03     A      68      62   354874        1845"
      ]
     },
     "metadata": {},
     "output_type": "display_data"
    }
   ],
   "source": [
    "display(cumulative_data.head())"
   ]
  },
  {
   "cell_type": "code",
   "execution_count": 21,
   "metadata": {},
   "outputs": [],
   "source": [
    "# Кумулятивное количество заказов и кумулятивная выручка по дням в группе А и группе B\n",
    "cumulative_revenue_A = cumulative_data.query('group == \"A\"')[['date', 'revenue', 'orders']]\n",
    "cumulative_revenue_B = cumulative_data.query('group == \"B\"')[['date', 'revenue', 'orders']]"
   ]
  },
  {
   "cell_type": "code",
   "execution_count": 22,
   "metadata": {},
   "outputs": [
    {
     "data": {
      "image/png": "[encoded data removed]",
      "text/plain": [
       "<Figure size 1440x576 with 1 Axes>"
      ]
     },
     "metadata": {
      "needs_background": "light"
     },
     "output_type": "display_data"
    }
   ],
   "source": [
    "# Строим график выручки группы А\n",
    "plt.figure(figsize=(20,8))\n",
    "plt.xticks(rotation=45)\n",
    "\n",
    "plt.plot(cumulative_revenue_A['date'], cumulative_revenue_A['revenue'], label='A', marker='o')\n",
    "\n",
    "# Строим график выручки группы B\n",
    "plt.plot(cumulative_revenue_B['date'], cumulative_revenue_B['revenue'], label='B', marker='o')\n",
    "plt.ylabel('Выручка')\n",
    "plt.xlabel('Дата')\n",
    "plt.title(' График по кумулятивной выручки по группам.', fontsize=16)\n",
    "plt.legend()\n",
    "plt.show()"
   ]
  },
  {
   "cell_type": "markdown",
   "metadata": {},
   "source": [
    " **Выводы**\n",
    "\n",
    "Выручка почти равномерно увеличивается в течение всего теста в обеих группах.\n",
    "\n",
    "Однако график выручки группы B c 18.09.19 по 19.09.19 резко вырос. Это может говорить о всплеске числа заказов, либо о появлении очень дорогих заказов в этот конкретный период."
   ]
  },
  {
   "cell_type": "markdown",
   "metadata": {},
   "source": [
    "### Постройте график кумулятивного среднего чека по группам. Сделайте выводы и предположения\n"
   ]
  },
  {
   "cell_type": "code",
   "execution_count": 23,
   "metadata": {},
   "outputs": [
    {
     "data": {
      "image/png": "[encoded data removed]",
      "text/plain": [
       "<Figure size 1440x576 with 1 Axes>"
      ]
     },
     "metadata": {
      "needs_background": "light"
     },
     "output_type": "display_data"
    }
   ],
   "source": [
    "cumulative_revenue_A = cumulative_data[cumulative_data['group']=='A'][['date','revenue', 'orders']]\n",
    "# датафрейм с кумулятивным количеством заказов и кумулятивной выручкой по дням в группе B\n",
    "cumulative_revenue_B = cumulative_data[cumulative_data['group']=='B'][['date','revenue', 'orders']]\n",
    "\n",
    "\n",
    "plt.figure(figsize=(20,8))\n",
    "plt.xticks(rotation=45)\n",
    "\n",
    "# Строим график выручки группы А\n",
    "plt.plot(cumulative_revenue_A['date'], cumulative_revenue_A['revenue']/cumulative_revenue_A['orders'], label='A', \n",
    "         marker='o')\n",
    "# Строим график выручки группы B\n",
    "plt.plot(cumulative_revenue_B['date'], cumulative_revenue_B['revenue']/cumulative_revenue_B['orders'], label='B',\n",
    "         marker='o')\n",
    "\n",
    "plt.ylabel(\"Средний чек\")\n",
    "plt.xlabel('Дата')\n",
    "plt.title(' График кумулятивного среднего чека по группам.', fontsize=16)\n",
    "plt.legend()\n",
    "plt.show()"
   ]
  },
  {
   "cell_type": "markdown",
   "metadata": {},
   "source": [
    " **Выводы**\n",
    " \n",
    "Средний чек в группе А после падения и резкого роста стал более равномерным,а в группе B после значительного скачка начинает медленно сокращаться.Возможно, это связано с крупными покупками. \n"
   ]
  },
  {
   "cell_type": "markdown",
   "metadata": {},
   "source": [
    "### Постройте график относительного изменения кумулятивного среднего чека группы B к группе A. Сделайте выводы и предположения"
   ]
  },
  {
   "cell_type": "code",
   "execution_count": 24,
   "metadata": {},
   "outputs": [],
   "source": [
    "# собираем данные в одном датафрейме\n",
    "merge_cumulative_revenue = cumulative_revenue_A.merge(\n",
    "    cumulative_revenue_B, \n",
    "    left_on='date', \n",
    "    right_on='date', \n",
    "    how='left', \n",
    "    suffixes=['A','B']\n",
    ")"
   ]
  },
  {
   "cell_type": "code",
   "execution_count": 25,
   "metadata": {},
   "outputs": [
    {
     "data": {
      "image/png": "[encoded data removed]",
      "text/plain": [
       "<Figure size 432x288 with 1 Axes>"
      ]
     },
     "metadata": {
      "needs_background": "light"
     },
     "output_type": "display_data"
    }
   ],
   "source": [
    "# cтроим отношение средних чеков\n",
    "plt.plot(merge_cumulative_revenue['date'], (merge_cumulative_revenue['revenueB']/merge_cumulative_revenue['ordersB'])/\n",
    "                                          (merge_cumulative_revenue['revenueA']/merge_cumulative_revenue['ordersA'])-1,\n",
    "                                           marker='o')\n",
    "# добавляем ось X\n",
    "plt.axhline(y=0, color='red', linestyle='--') \n",
    "plt.ylabel(\"Отношение средних чеков\")\n",
    "plt.xlabel('Дата')\n",
    "plt.title('График относительного изменения кумулятивного среднего чека группы B к группе A.', fontsize=16)\n",
    "plt.xticks(rotation=45)\n",
    "plt.show()"
   ]
  },
  {
   "cell_type": "markdown",
   "metadata": {},
   "source": [
    "Исходя из графика видно, что результаты теста резко менялись. 6 августа был резкий скачок, далее спад вплоть до 13 августа и самый высокий скачок снова отмечается 18-19 августа. Видимо именно в это время были совершеные аномальные заказы."
   ]
  },
  {
   "cell_type": "markdown",
   "metadata": {},
   "source": [
    "### Постройте график кумулятивной конверсии по группам. Сделайте выводы и предположения."
   ]
  },
  {
   "cell_type": "code",
   "execution_count": 26,
   "metadata": {},
   "outputs": [],
   "source": [
    "# считаем кумулятивную конверсию\n",
    "cumulative_data['conversion'] = cumulative_data['orders']/cumulative_data['visitor_id']"
   ]
  },
  {
   "cell_type": "code",
   "execution_count": 27,
   "metadata": {},
   "outputs": [
    {
     "data": {
      "image/png": "[encoded data removed]",
      "text/plain": [
       "<Figure size 432x288 with 1 Axes>"
      ]
     },
     "metadata": {
      "needs_background": "light"
     },
     "output_type": "display_data"
    }
   ],
   "source": [
    "# отделяем данные по группе A\n",
    "cumulative_data_A = cumulative_data[cumulative_data['group']=='A']\n",
    "\n",
    "# отделяем данные по группе B\n",
    "cumulative_data_B = cumulative_data[cumulative_data['group']=='B']\n",
    "\n",
    "# строим графики\n",
    "plt.plot(cumulative_data_A['date'], cumulative_data_A['conversion'], label='A', marker='o')\n",
    "plt.plot(cumulative_data_B['date'], cumulative_data_B['conversion'], label='B', marker='o')\n",
    "plt.ylabel(\"Кумулятивная конверсии\")\n",
    "plt.xlabel('Дата')\n",
    "plt.title('График кумулятивной конверсии по группам.', fontsize=16)\n",
    "plt.legend()\n",
    "plt.xticks(rotation=45)\n",
    "plt.show()"
   ]
  },
  {
   "cell_type": "markdown",
   "metadata": {},
   "source": [
    "**Выводы**\n",
    "\n",
    "В начале теста значения не стабильны и сильно колеблются вокруг одного значения. Ближе к концу теста данные стабилизируются, конверсия у группы B выше."
   ]
  },
  {
   "cell_type": "markdown",
   "metadata": {},
   "source": [
    "### Постройте график относительного изменения кумулятивной конверсии группы B к группе A. Сделайте выводы и предположения"
   ]
  },
  {
   "cell_type": "code",
   "execution_count": 28,
   "metadata": {},
   "outputs": [],
   "source": [
    "# собираем данные в одном датафрейме\n",
    "merged_cumulative_conversions = cumulative_data_A[['date','conversion']].merge(\n",
    "    cumulative_data_B[['date','conversion']],\n",
    "    left_on='date',\n",
    "    right_on='date',\n",
    "    how='left',\n",
    "    suffixes=['_A', '_B'])"
   ]
  },
  {
   "cell_type": "code",
   "execution_count": 29,
   "metadata": {
    "scrolled": false
   },
   "outputs": [
    {
     "data": {
      "image/png": "[encoded data removed]",
      "text/plain": [
       "<Figure size 432x288 with 1 Axes>"
      ]
     },
     "metadata": {
      "needs_background": "light"
     },
     "output_type": "display_data"
    }
   ],
   "source": [
    "# строим график\n",
    "plt.plot(merged_cumulative_conversions['date'], \n",
    "         merged_cumulative_conversions['conversion_B']/merged_cumulative_conversions['conversion_A']-1,\n",
    "         label=\"Конверсия\", marker='o')\n",
    "plt.xlabel('Дата')\n",
    "plt.title('График относительного изменения кумулятивной конверсии группы B к группе A.', fontsize=16)\n",
    "plt.axhline(y=0, color='red', linestyle='--')\n",
    "plt.legend()\n",
    "plt.xticks(rotation=45)\n",
    "plt.show()"
   ]
  },
  {
   "cell_type": "markdown",
   "metadata": {},
   "source": [
    "**Вывод**\n",
    "\n",
    "В начале теста группа B проигрывала группе A , но с 06.08.2019 вырвалась вперёд и предвосходила группу A приблизительно на 15%.С 21.08.2019 происходит небольшая стабилизация результатов."
   ]
  },
  {
   "cell_type": "markdown",
   "metadata": {},
   "source": [
    "### Постройте точечный график количества заказов по пользователям. Сделайте выводы и предположения"
   ]
  },
  {
   "cell_type": "code",
   "execution_count": 30,
   "metadata": {},
   "outputs": [],
   "source": [
    "# Создадим таблицу с количеством заказов по пользователям\n",
    "orders_by_visitors = (orders\n",
    "                       .drop(['group', 'revenue', 'date'], axis=1)\n",
    "                       .groupby('visitor_id', as_index=False)\n",
    "                       .agg({'transaction_id': pd.Series.nunique})\n",
    "                     )\n",
    "orders_by_visitors.columns = ['visitor_id', 'orders']"
   ]
  },
  {
   "cell_type": "code",
   "execution_count": 31,
   "metadata": {
    "scrolled": true
   },
   "outputs": [
    {
     "data": {
      "image/png": "[encoded data removed]",
      "text/plain": [
       "<Figure size 1080x360 with 1 Axes>"
      ]
     },
     "metadata": {
      "needs_background": "light"
     },
     "output_type": "display_data"
    }
   ],
   "source": [
    "# Построим точечный график количества заказов по пользователям.\n",
    "# серия из чисел от 0 до количества наблюдений в ordersByUsers\n",
    "x_values = pd.Series(range(0,len(orders_by_visitors)))\n",
    "\n",
    "plt.figure(figsize=(15,5))\n",
    "plt.scatter(x_values, orders_by_visitors['orders'])\n",
    "plt.ylabel('Заказы')\n",
    "plt.title('Точечный график количества заказов по пользователям.', fontsize=12)\n",
    "plt.show()\n"
   ]
  },
  {
   "cell_type": "markdown",
   "metadata": {},
   "source": [
    "**Выводы**\n",
    "\n",
    "Большинство покупателей заказывали только один раз. Однако доля пользователей с 2-5 заказами тоже значительна. Также есть пользователи, которые совершали 8, 9 и 11 заказов."
   ]
  },
  {
   "cell_type": "markdown",
   "metadata": {},
   "source": [
    "### Посчитайте 95-й и 99-й перцентили количества заказов на пользователя. Выберите границу для определения аномальных пользователей"
   ]
  },
  {
   "cell_type": "code",
   "execution_count": 32,
   "metadata": {
    "scrolled": true
   },
   "outputs": [
    {
     "name": "stdout",
     "output_type": "stream",
     "text": [
      "[2. 4.]\n"
     ]
    }
   ],
   "source": [
    "# Посчитаем 95-й и 99-й выборочные перцентили количества заказов по пользователям \n",
    "print(np.percentile(orders_by_visitors['orders'], [95, 99]))"
   ]
  },
  {
   "cell_type": "markdown",
   "metadata": {},
   "source": [
    "**Вывод**\n",
    "\n",
    "Не более 5% пользователей оформляли больше чем 2 заказа;\n",
    "1% пользователей заказывали более 4 раз;\n",
    "Выберем 4 заказа на одного пользователя за нижнюю границу числа заказов."
   ]
  },
  {
   "cell_type": "markdown",
   "metadata": {},
   "source": [
    "### Постройте точечный график стоимостей заказов. Сделайте выводы и предположения"
   ]
  },
  {
   "cell_type": "code",
   "execution_count": 33,
   "metadata": {},
   "outputs": [
    {
     "data": {
      "text/plain": [
       "count    1.197000e+03\n",
       "mean     8.348006e+03\n",
       "std      3.919113e+04\n",
       "min      5.000000e+01\n",
       "25%      1.220000e+03\n",
       "50%      2.978000e+03\n",
       "75%      8.290000e+03\n",
       "max      1.294500e+06\n",
       "Name: revenue, dtype: float64"
      ]
     },
     "execution_count": 33,
     "metadata": {},
     "output_type": "execute_result"
    }
   ],
   "source": [
    "orders['revenue'].describe()"
   ]
  },
  {
   "cell_type": "code",
   "execution_count": 34,
   "metadata": {},
   "outputs": [
    {
     "data": {
      "text/plain": [
       "Text(0, 0.5, 'Стоимость заказов на пользователя')"
      ]
     },
     "execution_count": 34,
     "metadata": {},
     "output_type": "execute_result"
    },
    {
     "data": {
      "image/png": "[encoded data removed]",
      "text/plain": [
       "<Figure size 432x288 with 1 Axes>"
      ]
     },
     "metadata": {
      "needs_background": "light"
     },
     "output_type": "display_data"
    }
   ],
   "source": [
    "# серия из чисел от 0 до количества наблюдений в orders\n",
    "x_values = pd.Series(range(0, len(orders['revenue'])))\n",
    "#строим точечный график \n",
    "plt.scatter(x_values, orders['revenue'])\n",
    "plt.ylim(0, 100000)\n",
    "plt.title('Точечный график стоимостей заказов.', fontsize=14)\n",
    "plt.ylabel('Стоимость заказов на пользователя')"
   ]
  },
  {
   "cell_type": "markdown",
   "metadata": {},
   "source": [
    "**Выводы**\n",
    "\n",
    "Среднее число заказов на сумму около 20 000 рублей. Заказ на 1 294 500 рублей в интернет-магазине выглядит весьма аномально."
   ]
  },
  {
   "cell_type": "markdown",
   "metadata": {},
   "source": [
    "### Посчитайте 95-й и 99-й перцентили стоимости заказов. Выберите границу для определения аномальных заказов"
   ]
  },
  {
   "cell_type": "code",
   "execution_count": 35,
   "metadata": {},
   "outputs": [
    {
     "name": "stdout",
     "output_type": "stream",
     "text": [
      "[28000.  58233.2]\n"
     ]
    }
   ],
   "source": [
    "# Посчитаем 95-й и 99-й выборочные перцентили тоимости заказов методом np.percentile()\n",
    "print(np.percentile(orders['revenue'], [95, 99]))"
   ]
  },
  {
   "cell_type": "markdown",
   "metadata": {},
   "source": [
    "**Выводы**\n",
    "Не более, чем 5% заказов чек дороже 28 000 рублей. И не более чем 1% заказов – дороже 58 233 рублей.\n",
    "\n",
    "Границу для определения аномальных заказов, выберем 28 000 рублей."
   ]
  },
  {
   "cell_type": "markdown",
   "metadata": {},
   "source": [
    "### Посчитайте статистическую значимость различий в конверсии между группами по «сырым» данным. Сделайте выводы и предположения."
   ]
  },
  {
   "cell_type": "code",
   "execution_count": 36,
   "metadata": {},
   "outputs": [],
   "source": [
    "visitors_A_daily = visitors[visitors['group'] == 'A'][['date','visitors']]\n",
    "visitors_A_daily.columns = ['date', 'visitors_per_date_A']\n",
    "\n",
    "visitors_A_cummulative = visitors_A_daily.apply(\n",
    "    lambda x: visitors_A_daily[visitors_A_daily['date'] <= x['date']].agg(\n",
    "        {'date':'max',\n",
    "         'visitors_per_date_A':'sum'}\n",
    "    ), axis=1\n",
    ")\n",
    "visitors_A_cummulative.columns = ['date', 'visitors_cummulative_A']\n",
    "\n",
    "visitors_B_daily = visitors[visitors['group'] == 'B'][['date','visitors']]\n",
    "visitors_B_daily.columns = ['date', 'visitors_per_date_B']\n",
    "\n",
    "visitors_B_cummulative = visitors_B_daily.apply(\n",
    "    lambda x: visitors_B_daily[visitors_B_daily['date'] <= x['date']].agg(\n",
    "        {'date':'max',\n",
    "         'visitors_per_date_B':'sum'}\n",
    "    ), axis=1\n",
    ")\n",
    "visitors_B_cummulative.columns = ['date', 'visitors_cummulative_B']"
   ]
  },
  {
   "cell_type": "code",
   "execution_count": 37,
   "metadata": {},
   "outputs": [],
   "source": [
    "orders_A_daily = orders[orders['group'] == 'A'][['date',\n",
    "                                                 'transaction_id',\n",
    "                                                 'visitor_id',\n",
    "                                                 'revenue']].groupby(\n",
    "    'date', as_index=False).agg(\n",
    "    {'transaction_id': pd.Series.nunique, \n",
    "     'revenue': 'sum'})\n",
    "orders_A_daily.columns = ['date', 'order_per_date_A', 'revenue_per_date_A']\n",
    "\n",
    "orders_A_cummulative = orders_A_daily.apply(\n",
    "    lambda x: orders_A_daily[orders_A_daily['date'] <= x['date']].agg(\n",
    "        {'date':'max',\n",
    "         'order_per_date_A':'sum',\n",
    "         'revenue_per_date_A':'sum'}), axis=1).sort_values('date')\n",
    "orders_A_cummulative.columns = ['date',\n",
    "                                'orders_cummulative_A',\n",
    "                                'revenue_cummulative_A',]\n",
    "\n",
    "orders_B_daily = orders[orders['group'] == 'B'][['date',\n",
    "                                                 'transaction_id',\n",
    "                                                 'visitor_id',\n",
    "                                                 'revenue']].groupby(\n",
    "    'date', as_index=False).agg(\n",
    "    {'transaction_id': pd.Series.nunique, \n",
    "     'revenue': 'sum'})\n",
    "orders_B_daily.columns = ['date', 'order_per_date_B', 'revenue_per_date_B']\n",
    "\n",
    "orders_B_cummulative = orders_B_daily.apply(\n",
    "    lambda x: orders_B_daily[orders_B_daily['date'] <= x['date']].agg(\n",
    "        {'date':'max',\n",
    "         'order_per_date_B':'sum',\n",
    "         'revenue_per_date_B':'sum'}), axis=1).sort_values('date')\n",
    "orders_B_cummulative.columns = ['date',\n",
    "                                'orders_cummulative_B',\n",
    "                                'revenue_cummulative_B',]"
   ]
  },
  {
   "cell_type": "code",
   "execution_count": 38,
   "metadata": {},
   "outputs": [
    {
     "data": {
      "text/html": [
       "<div>\n",
       "<style scoped>\n",
       "    .dataframe tbody tr th:only-of-type {\n",
       "        vertical-align: middle;\n",
       "    }\n",
       "\n",
       "    .dataframe tbody tr th {\n",
       "        vertical-align: top;\n",
       "    }\n",
       "\n",
       "    .dataframe thead th {\n",
       "        text-align: right;\n",
       "    }\n",
       "</style>\n",
       "<table border=\"1\" class=\"dataframe\">\n",
       "  <thead>\n",
       "    <tr style=\"text-align: right;\">\n",
       "      <th></th>\n",
       "      <th>date</th>\n",
       "      <th>order_per_date_A</th>\n",
       "      <th>revenue_per_date_A</th>\n",
       "      <th>order_per_date_B</th>\n",
       "      <th>revenue_per_date_B</th>\n",
       "      <th>orders_cummulative_A</th>\n",
       "      <th>revenue_cummulative_A</th>\n",
       "      <th>orders_cummulative_B</th>\n",
       "      <th>revenue_cummulative_B</th>\n",
       "      <th>visitors_per_date_A</th>\n",
       "      <th>visitors_per_date_B</th>\n",
       "      <th>visitors_cummulative_A</th>\n",
       "      <th>visitors_cummulative_B</th>\n",
       "    </tr>\n",
       "  </thead>\n",
       "  <tbody>\n",
       "    <tr>\n",
       "      <th>0</th>\n",
       "      <td>2019-08-01</td>\n",
       "      <td>24</td>\n",
       "      <td>148579</td>\n",
       "      <td>21</td>\n",
       "      <td>101217</td>\n",
       "      <td>24</td>\n",
       "      <td>148579</td>\n",
       "      <td>21</td>\n",
       "      <td>101217</td>\n",
       "      <td>719</td>\n",
       "      <td>713</td>\n",
       "      <td>719</td>\n",
       "      <td>713</td>\n",
       "    </tr>\n",
       "    <tr>\n",
       "      <th>1</th>\n",
       "      <td>2019-08-02</td>\n",
       "      <td>20</td>\n",
       "      <td>93822</td>\n",
       "      <td>24</td>\n",
       "      <td>165531</td>\n",
       "      <td>44</td>\n",
       "      <td>242401</td>\n",
       "      <td>45</td>\n",
       "      <td>266748</td>\n",
       "      <td>619</td>\n",
       "      <td>581</td>\n",
       "      <td>1338</td>\n",
       "      <td>1294</td>\n",
       "    </tr>\n",
       "    <tr>\n",
       "      <th>2</th>\n",
       "      <td>2019-08-03</td>\n",
       "      <td>24</td>\n",
       "      <td>112473</td>\n",
       "      <td>16</td>\n",
       "      <td>114248</td>\n",
       "      <td>68</td>\n",
       "      <td>354874</td>\n",
       "      <td>61</td>\n",
       "      <td>380996</td>\n",
       "      <td>507</td>\n",
       "      <td>509</td>\n",
       "      <td>1845</td>\n",
       "      <td>1803</td>\n",
       "    </tr>\n",
       "    <tr>\n",
       "      <th>3</th>\n",
       "      <td>2019-08-04</td>\n",
       "      <td>16</td>\n",
       "      <td>70825</td>\n",
       "      <td>17</td>\n",
       "      <td>108571</td>\n",
       "      <td>84</td>\n",
       "      <td>425699</td>\n",
       "      <td>78</td>\n",
       "      <td>489567</td>\n",
       "      <td>717</td>\n",
       "      <td>770</td>\n",
       "      <td>2562</td>\n",
       "      <td>2573</td>\n",
       "    </tr>\n",
       "    <tr>\n",
       "      <th>4</th>\n",
       "      <td>2019-08-05</td>\n",
       "      <td>25</td>\n",
       "      <td>124218</td>\n",
       "      <td>23</td>\n",
       "      <td>92428</td>\n",
       "      <td>109</td>\n",
       "      <td>549917</td>\n",
       "      <td>101</td>\n",
       "      <td>581995</td>\n",
       "      <td>756</td>\n",
       "      <td>707</td>\n",
       "      <td>3318</td>\n",
       "      <td>3280</td>\n",
       "    </tr>\n",
       "  </tbody>\n",
       "</table>\n",
       "</div>"
      ],
      "text/plain": [
       "        date  order_per_date_A  revenue_per_date_A  order_per_date_B  \\\n",
       "0 2019-08-01                24              148579                21   \n",
       "1 2019-08-02                20               93822                24   \n",
       "2 2019-08-03                24              112473                16   \n",
       "3 2019-08-04                16               70825                17   \n",
       "4 2019-08-05                25              124218                23   \n",
       "\n",
       "   revenue_per_date_B  orders_cummulative_A  revenue_cummulative_A  \\\n",
       "0              101217                    24                 148579   \n",
       "1              165531                    44                 242401   \n",
       "2              114248                    68                 354874   \n",
       "3              108571                    84                 425699   \n",
       "4               92428                   109                 549917   \n",
       "\n",
       "   orders_cummulative_B  revenue_cummulative_B  visitors_per_date_A  \\\n",
       "0                    21                 101217                  719   \n",
       "1                    45                 266748                  619   \n",
       "2                    61                 380996                  507   \n",
       "3                    78                 489567                  717   \n",
       "4                   101                 581995                  756   \n",
       "\n",
       "   visitors_per_date_B  visitors_cummulative_A  visitors_cummulative_B  \n",
       "0                  713                     719                     713  \n",
       "1                  581                    1338                    1294  \n",
       "2                  509                    1845                    1803  \n",
       "3                  770                    2562                    2573  \n",
       "4                  707                    3318                    3280  "
      ]
     },
     "execution_count": 38,
     "metadata": {},
     "output_type": "execute_result"
    }
   ],
   "source": [
    "## Соединим все таблицы с полученными значениями\n",
    "data = orders_A_daily.merge(\n",
    "    orders_B_daily, left_on='date', right_on='date', how='left').merge(\n",
    "    orders_A_cummulative, left_on='date', right_on='date', how='left').merge(\n",
    "    orders_B_cummulative, left_on='date', right_on='date', how='left').merge(\n",
    "    visitors_A_daily, left_on='date', right_on='date', how='left').merge(\n",
    "    visitors_B_daily, left_on='date', right_on='date', how='left').merge(\n",
    "    visitors_A_cummulative, left_on='date', right_on='date', how='left').merge(\n",
    "    visitors_B_cummulative, left_on='date', right_on='date', how='left')\n",
    "data.head()"
   ]
  },
  {
   "cell_type": "code",
   "execution_count": 39,
   "metadata": {},
   "outputs": [],
   "source": [
    "# Число совершённых заказов для пользователей, которые заказывали хотя бы 1 раз, в каждой группе \n",
    "orders_by_visitors_A = orders[orders['group'] == 'A'].groupby(\n",
    "    'visitor_id', as_index=False).agg(\n",
    "    {'transaction_id':pd.Series.nunique}\n",
    ")\n",
    "orders_by_visitors_A.columns = ['visitor_id','orders']\n",
    "\n",
    "orders_by_visitors_B = orders[orders['group'] == 'B'].groupby(\n",
    "    'visitor_id', as_index=False).agg(\n",
    "    {'transaction_id':pd.Series.nunique}\n",
    ")\n",
    "orders_by_visitors_B.columns = ['visitor_id','orders']"
   ]
  },
  {
   "cell_type": "code",
   "execution_count": 40,
   "metadata": {},
   "outputs": [],
   "source": [
    "# Объявим переменные sample_A и sample_B, в которых пользователям из разных групп будет соответствовать количество заказов. \n",
    "sample_A = pd.concat([orders_by_visitors_A['orders'], pd.Series(0, index=np.arange(data['visitors_per_date_A'].sum() - \n",
    "                    len(orders_by_visitors_A['orders'])), name='orders')],axis=0)\n",
    "\n",
    "sample_B = pd.concat([orders_by_visitors_B['orders'], pd.Series(0, index=np.arange(data['visitors_per_date_B'].sum() - \n",
    "                    len(orders_by_visitors_B['orders'])), name='orders')],axis=0)"
   ]
  },
  {
   "cell_type": "code",
   "execution_count": 41,
   "metadata": {
    "scrolled": true
   },
   "outputs": [
    {
     "name": "stdout",
     "output_type": "stream",
     "text": [
      "Значение p-value для конверсий:: 0.017\n",
      "Относительный прирост конверсии группы B: 0.138\n"
     ]
    }
   ],
   "source": [
    "#Применим тест Манна-Уитни:\n",
    "print('Значение p-value для конверсий:: {0:.3f}'.format(stats.mannwhitneyu(sample_A, sample_B)[1]))\n",
    "print('Относительный прирост конверсии группы B: {0:.3f}'.format(sample_B.mean()/sample_A.mean()-1)) "
   ]
  },
  {
   "cell_type": "markdown",
   "metadata": {},
   "source": [
    "**Сформулируем нулевую и альтернативную гипотезы:**\n",
    "\n",
    "**Нулевая гипотеза Ho:** Нет статистически значимых различий по конверсии между группами А и В по «сырым» данным\n",
    "\n",
    "**Альтернативная гипотеза H1:** Есть статистически значимое различие по конверсии между группами А и В по «сырым» даннымb"
   ]
  },
  {
   "cell_type": "code",
   "execution_count": 42,
   "metadata": {},
   "outputs": [
    {
     "name": "stdout",
     "output_type": "stream",
     "text": [
      "p-значение: 0.016792355056752608\n",
      "Отвергаем нулевую гипотезу\n"
     ]
    }
   ],
   "source": [
    "# Выполним проверку гипотезы.\n",
    "\n",
    "alpha = 0.05 # критический уровень статистической значимости для формулирования двусторонних гипотез\n",
    "results = stats.mannwhitneyu(sample_A, sample_B)\n",
    "\n",
    "print('p-значение:', results.pvalue)\n",
    "\n",
    "if (results.pvalue < alpha):\n",
    "    print(\"Отвергаем нулевую гипотезу\")\n",
    "else:\n",
    "    print(\"Не получилось отвергнуть нулевую гипотезу\")"
   ]
  },
  {
   "cell_type": "markdown",
   "metadata": {},
   "source": [
    "Анализ \"сырых данных\" показывает, что в конверсии между группами есть статистически значимые различия. \n",
    "Относительный прирост группы B к конверсии группы А равен 13,8% - принимаем Альтернативную гипотезу (H1)"
   ]
  },
  {
   "cell_type": "markdown",
   "metadata": {},
   "source": [
    "### Посчитайте статистическую значимость различий в среднем чеке заказа между группами по «сырым» данным. Сделайте выводы и предположения."
   ]
  },
  {
   "cell_type": "markdown",
   "metadata": {},
   "source": [
    "**Сформулируем нулевую и альтернативную гипотезы:**\n",
    "\n",
    "**Нулевая гипотеза:** Но-различий в среднем чеке между группами по «сырым» данным нет.\n",
    "\n",
    "**Альтернативная гипотеза:** Н1-различия в среднем чеке между группами по «сырым» данным есть."
   ]
  },
  {
   "cell_type": "code",
   "execution_count": 43,
   "metadata": {},
   "outputs": [
    {
     "name": "stdout",
     "output_type": "stream",
     "text": [
      "p-значение:  0.7292909855432458\n",
      "Не получилось отвергнуть Ho\n"
     ]
    }
   ],
   "source": [
    "# Воспользуемся критерием Манна-Уитни\n",
    "alpha = 0.05\n",
    "results = stats.mannwhitneyu(orders[orders['group']=='A']['revenue'], orders[orders['group']=='B']['revenue'])\n",
    "pvalue = results.pvalue\n",
    "print('p-значение: ', pvalue)\n",
    "if (pvalue < alpha):\n",
    "    print(\"Отвергаем Ho: разница статистически значима\")\n",
    "else:\n",
    "    print(\"Не получилось отвергнуть Ho\")"
   ]
  },
  {
   "cell_type": "markdown",
   "metadata": {},
   "source": [
    "**Вывод**\n",
    "\n",
    "Анализ \"сырых данных\" показывает, что в средних чеках групп нет статистически значимых различий. "
   ]
  },
  {
   "cell_type": "markdown",
   "metadata": {},
   "source": [
    "### Посчитайте статистическую значимость различий в конверсии между группами по «очищенным» данным. Сделайте выводы и предположения."
   ]
  },
  {
   "cell_type": "code",
   "execution_count": 44,
   "metadata": {},
   "outputs": [
    {
     "data": {
      "text/plain": [
       "59"
      ]
     },
     "execution_count": 44,
     "metadata": {},
     "output_type": "execute_result"
    }
   ],
   "source": [
    "# Срезы данных для аномальных пользователей\n",
    "visitors_many_orders = pd.concat([orders_by_visitors_A.query('orders >4 ')['visitor_id'], \n",
    "                                  orders_by_visitors_B.query('orders > 4')['visitor_id']], axis = 0)\n",
    "visitors_expensive_orders = orders.query('revenue >=28000 ')['visitor_id']\n",
    "\n",
    "# Число аномальных пользователей\n",
    "abnormalvisits = pd.concat([visitors_many_orders, visitors_expensive_orders], axis = 0).drop_duplicates().sort_values()\n",
    "len(abnormalvisits)"
   ]
  },
  {
   "cell_type": "code",
   "execution_count": 45,
   "metadata": {},
   "outputs": [
    {
     "name": "stdout",
     "output_type": "stream",
     "text": [
      "p-value, после очистки данных: 0.018\n",
      "Относительный прирост конверсии группы B по отношению к группе A после очистки данных: 0.145\n"
     ]
    }
   ],
   "source": [
    "#  Сначала подготовим выборки количества заказов по пользователям по группам теста:\n",
    "sample_A_cleared = pd.concat([orders_by_visitors_A[np.logical_not(orders_by_visitors_A['visitor_id'].isin(abnormalvisits))]['orders'],pd.Series(0,\n",
    "                         index=np.arange(data['visitors_per_date_A'].sum() - len(orders_by_visitors_A['orders'])),name='orders')],axis=0)\n",
    "\n",
    "sample_B_cleared = pd.concat([orders_by_visitors_B[np.logical_not(orders_by_visitors_B['visitor_id'].isin(abnormalvisits))]['orders'],pd.Series(0,\n",
    "                         index=np.arange(data['visitors_per_date_B'].sum() - len(orders_by_visitors_B['orders'])),name='orders')],axis=0)\n",
    "\n",
    "# Применим статистический критерий Манна-Уитни к полученным выборкам:\n",
    "print(\"p-value, после очистки данных: {0:.3f}\".format(stats.mannwhitneyu(sample_A_cleared, sample_B_cleared)[1]))\n",
    "print(\"Относительный прирост конверсии группы B по отношению к группе A после очистки данных: {0:.3f}\".format(\n",
    "       sample_B_cleared.mean()/sample_A_cleared.mean()-1)) "
   ]
  },
  {
   "cell_type": "markdown",
   "metadata": {},
   "source": [
    "**Сформулируем нулевую и альтернативную гипотезы:**\n",
    "\n",
    "**Нулевая гипотеза Ho:** Нет статистически значимых различий по конверсии между группами А и В по «очищенным» данным\n",
    "\n",
    "**Альтернативная гипотеза H1:** Есть статистически значимое различие по конверсии между группами А и В по «очищенным» данным"
   ]
  },
  {
   "cell_type": "code",
   "execution_count": 46,
   "metadata": {},
   "outputs": [
    {
     "name": "stdout",
     "output_type": "stream",
     "text": [
      "p-значение: 0.018457083488550192\n",
      "Отвергаем нулевую гипотезу\n"
     ]
    }
   ],
   "source": [
    "# Выполним проверку гипотезы.\n",
    "\n",
    "alpha = 0.05\n",
    "results = stats.mannwhitneyu(sample_A_cleared, sample_B_cleared)\n",
    "\n",
    "print('p-значение:', results.pvalue)\n",
    "\n",
    "if (results.pvalue < alpha):\n",
    "    print(\"Отвергаем нулевую гипотезу\")\n",
    "else:\n",
    "    print(\"Не получилось отвергнуть нулевую гипотезу\")"
   ]
  },
  {
   "cell_type": "markdown",
   "metadata": {},
   "source": [
    "**Вывод**\n",
    "\n",
    "Анализ \"очищенных данных\" показывает, что в конверсии между группами есть статистически значимые различия. Относительный прирост группы B к конверсии группы А увеличился относительно \"сырых данных\". Принимаем Альтернативную гипотезу (H1)"
   ]
  },
  {
   "cell_type": "markdown",
   "metadata": {},
   "source": [
    "### Посчитайте статистическую значимость различий в среднем чеке заказа между группами по «очищенным» данным. Сделайте выводы и предположения."
   ]
  },
  {
   "cell_type": "code",
   "execution_count": 47,
   "metadata": {},
   "outputs": [
    {
     "name": "stdout",
     "output_type": "stream",
     "text": [
      "p-value после очистки данных: 0.961\n",
      "Относительное изменение среднего чека в группе B по отношению группы A после очистки данных: -0.014\n"
     ]
    }
   ],
   "source": [
    "# Применим статистический критерий Манна-Уитни:\n",
    "print(\"p-value после очистки данных: {0:.3f}\".format(stats.mannwhitneyu(\n",
    "    orders[np.logical_and(orders['group']=='A', np.logical_not(\n",
    "    orders['visitor_id'].isin(abnormalvisits)))]['revenue'], orders[np.logical_and(\n",
    "    orders['group']=='B', np.logical_not(orders['visitor_id'].isin(abnormalvisits)))]['revenue'])[1]))\n",
    "\n",
    "print(\"Относительное изменение среднего чека в группе B по отношению группы A после очистки данных: {0:.3f}\".format(\n",
    "    orders[np.logical_and(orders['group']=='B',np.logical_not(\n",
    "    orders['visitor_id'].isin(abnormalvisits)))]['revenue'].mean()/orders[np.logical_and(\n",
    "    orders['group']=='A', np.logical_not(orders['visitor_id'].isin(abnormalvisits)))]['revenue'].mean() - 1)) "
   ]
  },
  {
   "cell_type": "markdown",
   "metadata": {},
   "source": [
    "**Сформулируем нулевую и альтернативную гипотезы:**\n",
    "\n",
    "**Нулевая гипотеза Ho:** Нет статистически значимых различий в среднем чеке между группами А и В по «очищенным» данным\n",
    "\n",
    "**Альтернативная гипотеза H1:** Есть статистически значимое различие в среднем чеке между группами А и В по «очищенным» данным"
   ]
  },
  {
   "cell_type": "code",
   "execution_count": 48,
   "metadata": {},
   "outputs": [
    {
     "name": "stdout",
     "output_type": "stream",
     "text": [
      "p-значение: 0.9612742488180921\n",
      "Не получилось отвергнуть нулевую гипотезу\n"
     ]
    }
   ],
   "source": [
    "# Выполним проверку гипотезы.\n",
    "\n",
    "alpha = 0.05\n",
    "results = stats.mannwhitneyu(\n",
    "    orders[np.logical_and(orders['group']=='A', np.logical_not(orders['visitor_id'].isin(abnormalvisits)))]['revenue'], \n",
    "    orders[np.logical_and(orders['group']=='B', np.logical_not(orders['visitor_id'].isin(abnormalvisits)))]['revenue'])\n",
    "\n",
    "print('p-значение:', results.pvalue)\n",
    "\n",
    "if (results.pvalue < alpha):\n",
    "    print(\"Отвергаем нулевую гипотезу\")\n",
    "else:\n",
    "    print(\"Не получилось отвергнуть нулевую гипотезу\")"
   ]
  },
  {
   "cell_type": "markdown",
   "metadata": {},
   "source": [
    "**Вывод**\n",
    "\n",
    "Aнализ \"очищенных данных\" показывает, что в средних чеках групп нет статистически значимых различий. Прирост среднего чека группы B к среднему чеку группы А отрицательный и равен -0,014 - снизился, относительно \"сырых данных\"."
   ]
  },
  {
   "cell_type": "markdown",
   "metadata": {},
   "source": [
    "## Примите решение по результатам теста и объясните его.\n",
    "**Варианты решений:**\n",
    "- Остановить тест, зафиксировать победу одной из групп. \n",
    "- Остановить тест, зафиксировать отсутствие различий между группами. \n",
    "- Продолжить тест."
   ]
  },
  {
   "cell_type": "markdown",
   "metadata": {},
   "source": [
    "## Выводы\n",
    "Наиболее перспективные из гипотез по увеличению выручки,с учётом фактора охвата аудитории,являются:\n",
    "\n",
    "- Добавить форму подписки на все основные страницы, чтобы собрать базу клиентов для email-рассылок;\n",
    "- Добавить блоки рекомендаций товаров на сайт интернет магазина, чтобы повысить конверсию и средний чек заказа;\n",
    "- Добавить два новых канала привлечения трафика, что позволит привлекать на 30% больше пользователей;\n",
    "- Показать на главной странице баннеры с актуальными акциями и распродажами, чтобы увеличить конверсию.\n",
    "\n",
    "Также были исследованы различия основных показателей в группах на статистическую значимость с \"сырыми\" данными и с данными, \"очищенными\" от аномальных значений. \n",
    "Анализ показал:\n",
    "\n",
    "- Есть статистически значимое различие по конверсии между группами как по «сырым», так и по отфильтрованным от аномалий данным;\n",
    "- Нет статистически значимого различия по среднему чеку между группами ни по «сырым», ни по данным после фильтрации аномалий;\n",
    "- График различия конверсии между группами показывает, что результаты группы B лучше группы A;\n",
    "- График различия среднего чека говорит о том, что результаты группы B, как правило, немного лучше группы A.\n",
    "\n",
    "Исходя из обнаруженных фактов, тест следует остановить и зафиксировать победу группы B. При имеющихся данных группа B лучше группы A. "
   ]
  }
 ],
 "metadata": {
  "ExecuteTimeLog": [
   {
    "duration": 1161,
    "start_time": "2022-09-15T09:14:13.943Z"
   },
   {
    "duration": 208,
    "start_time": "2022-09-15T09:14:26.369Z"
   },
   {
    "duration": 194,
    "start_time": "2022-09-15T09:49:01.454Z"
   },
   {
    "duration": 12,
    "start_time": "2022-09-15T09:53:06.369Z"
   },
   {
    "duration": 4,
    "start_time": "2022-09-15T09:53:31.602Z"
   },
   {
    "duration": 6,
    "start_time": "2022-09-15T09:53:51.478Z"
   },
   {
    "duration": 10,
    "start_time": "2022-09-15T09:54:06.284Z"
   },
   {
    "duration": 9,
    "start_time": "2022-09-15T09:54:26.914Z"
   },
   {
    "duration": 8,
    "start_time": "2022-09-15T09:55:37.011Z"
   },
   {
    "duration": 12,
    "start_time": "2022-09-15T09:55:41.993Z"
   },
   {
    "duration": 6,
    "start_time": "2022-09-15T09:55:47.211Z"
   },
   {
    "duration": 10,
    "start_time": "2022-09-15T09:56:11.571Z"
   },
   {
    "duration": 9,
    "start_time": "2022-09-15T09:56:31.067Z"
   },
   {
    "duration": 9,
    "start_time": "2022-09-15T09:57:09.357Z"
   },
   {
    "duration": 5,
    "start_time": "2022-09-15T09:57:43.276Z"
   },
   {
    "duration": 3,
    "start_time": "2022-09-15T09:57:48.524Z"
   },
   {
    "duration": 85,
    "start_time": "2022-09-15T09:57:48.530Z"
   },
   {
    "duration": 10,
    "start_time": "2022-09-15T09:57:48.617Z"
   },
   {
    "duration": 10,
    "start_time": "2022-09-15T09:57:48.628Z"
   },
   {
    "duration": 11,
    "start_time": "2022-09-15T09:57:48.640Z"
   },
   {
    "duration": 13,
    "start_time": "2022-09-15T09:57:48.652Z"
   },
   {
    "duration": 15,
    "start_time": "2022-09-15T09:57:48.666Z"
   },
   {
    "duration": 9,
    "start_time": "2022-09-15T09:57:48.683Z"
   },
   {
    "duration": 3,
    "start_time": "2022-09-15T09:57:48.710Z"
   },
   {
    "duration": 17,
    "start_time": "2022-09-15T09:57:48.714Z"
   },
   {
    "duration": 14,
    "start_time": "2022-09-15T09:57:48.733Z"
   },
   {
    "duration": 6,
    "start_time": "2022-09-15T09:58:53.214Z"
   },
   {
    "duration": 5,
    "start_time": "2022-09-15T09:59:35.604Z"
   },
   {
    "duration": 4,
    "start_time": "2022-09-15T10:00:38.704Z"
   },
   {
    "duration": 6,
    "start_time": "2022-09-15T10:00:56.753Z"
   },
   {
    "duration": 13,
    "start_time": "2022-09-15T10:10:26.210Z"
   },
   {
    "duration": 3,
    "start_time": "2022-09-15T10:12:04.474Z"
   },
   {
    "duration": 84,
    "start_time": "2022-09-15T10:12:04.482Z"
   },
   {
    "duration": 12,
    "start_time": "2022-09-15T10:12:04.568Z"
   },
   {
    "duration": 15,
    "start_time": "2022-09-15T10:12:04.582Z"
   },
   {
    "duration": 9,
    "start_time": "2022-09-15T10:12:04.600Z"
   },
   {
    "duration": 19,
    "start_time": "2022-09-15T10:12:04.611Z"
   },
   {
    "duration": 10,
    "start_time": "2022-09-15T10:12:04.632Z"
   },
   {
    "duration": 20,
    "start_time": "2022-09-15T10:12:04.645Z"
   },
   {
    "duration": 8,
    "start_time": "2022-09-15T10:12:04.667Z"
   },
   {
    "duration": 7,
    "start_time": "2022-09-15T10:12:04.677Z"
   },
   {
    "duration": 26,
    "start_time": "2022-09-15T10:12:04.686Z"
   },
   {
    "duration": 0,
    "start_time": "2022-09-15T10:12:04.713Z"
   },
   {
    "duration": 0,
    "start_time": "2022-09-15T10:12:04.715Z"
   },
   {
    "duration": 0,
    "start_time": "2022-09-15T10:12:04.715Z"
   },
   {
    "duration": 0,
    "start_time": "2022-09-15T10:12:04.716Z"
   },
   {
    "duration": 2,
    "start_time": "2022-09-15T10:12:18.532Z"
   },
   {
    "duration": 77,
    "start_time": "2022-09-15T10:12:18.540Z"
   },
   {
    "duration": 10,
    "start_time": "2022-09-15T10:12:18.619Z"
   },
   {
    "duration": 11,
    "start_time": "2022-09-15T10:12:18.630Z"
   },
   {
    "duration": 12,
    "start_time": "2022-09-15T10:12:18.643Z"
   },
   {
    "duration": 13,
    "start_time": "2022-09-15T10:12:18.656Z"
   },
   {
    "duration": 7,
    "start_time": "2022-09-15T10:12:18.670Z"
   },
   {
    "duration": 10,
    "start_time": "2022-09-15T10:12:18.679Z"
   },
   {
    "duration": 6,
    "start_time": "2022-09-15T10:12:18.708Z"
   },
   {
    "duration": 10,
    "start_time": "2022-09-15T10:12:18.716Z"
   },
   {
    "duration": 14,
    "start_time": "2022-09-15T10:12:18.728Z"
   },
   {
    "duration": 8,
    "start_time": "2022-09-15T10:12:18.744Z"
   },
   {
    "duration": 7,
    "start_time": "2022-09-15T10:12:18.754Z"
   },
   {
    "duration": 8,
    "start_time": "2022-09-15T10:12:18.762Z"
   },
   {
    "duration": 9,
    "start_time": "2022-09-15T10:12:18.772Z"
   },
   {
    "duration": 3,
    "start_time": "2022-09-15T10:19:21.207Z"
   },
   {
    "duration": 73,
    "start_time": "2022-09-15T10:19:21.235Z"
   },
   {
    "duration": 10,
    "start_time": "2022-09-15T10:19:21.310Z"
   },
   {
    "duration": 15,
    "start_time": "2022-09-15T10:19:21.322Z"
   },
   {
    "duration": 7,
    "start_time": "2022-09-15T10:19:21.338Z"
   },
   {
    "duration": 14,
    "start_time": "2022-09-15T10:19:21.349Z"
   },
   {
    "duration": 8,
    "start_time": "2022-09-15T10:19:21.364Z"
   },
   {
    "duration": 14,
    "start_time": "2022-09-15T10:19:21.373Z"
   },
   {
    "duration": 9,
    "start_time": "2022-09-15T10:19:21.409Z"
   },
   {
    "duration": 8,
    "start_time": "2022-09-15T10:19:21.419Z"
   },
   {
    "duration": 13,
    "start_time": "2022-09-15T10:19:21.429Z"
   },
   {
    "duration": 4,
    "start_time": "2022-09-15T10:19:21.444Z"
   },
   {
    "duration": 7,
    "start_time": "2022-09-15T10:19:21.449Z"
   },
   {
    "duration": 9,
    "start_time": "2022-09-15T10:19:21.458Z"
   },
   {
    "duration": 6,
    "start_time": "2022-09-15T10:20:35.716Z"
   },
   {
    "duration": 3,
    "start_time": "2022-09-15T10:21:09.679Z"
   },
   {
    "duration": 80,
    "start_time": "2022-09-15T10:21:09.685Z"
   },
   {
    "duration": 13,
    "start_time": "2022-09-15T10:21:09.768Z"
   },
   {
    "duration": 13,
    "start_time": "2022-09-15T10:21:09.783Z"
   },
   {
    "duration": 6,
    "start_time": "2022-09-15T10:21:09.798Z"
   },
   {
    "duration": 7,
    "start_time": "2022-09-15T10:21:09.805Z"
   },
   {
    "duration": 17,
    "start_time": "2022-09-15T10:21:09.813Z"
   },
   {
    "duration": 13,
    "start_time": "2022-09-15T10:21:09.831Z"
   },
   {
    "duration": 7,
    "start_time": "2022-09-15T10:21:09.845Z"
   },
   {
    "duration": 8,
    "start_time": "2022-09-15T10:21:09.853Z"
   },
   {
    "duration": 10,
    "start_time": "2022-09-15T10:21:09.863Z"
   },
   {
    "duration": 6,
    "start_time": "2022-09-15T10:21:09.875Z"
   },
   {
    "duration": 27,
    "start_time": "2022-09-15T10:21:09.882Z"
   },
   {
    "duration": 9,
    "start_time": "2022-09-15T10:21:09.910Z"
   },
   {
    "duration": 2,
    "start_time": "2022-09-15T10:22:00.851Z"
   },
   {
    "duration": 94,
    "start_time": "2022-09-15T10:22:00.857Z"
   },
   {
    "duration": 9,
    "start_time": "2022-09-15T10:22:00.953Z"
   },
   {
    "duration": 18,
    "start_time": "2022-09-15T10:22:00.963Z"
   },
   {
    "duration": 11,
    "start_time": "2022-09-15T10:22:00.983Z"
   },
   {
    "duration": 17,
    "start_time": "2022-09-15T10:22:00.996Z"
   },
   {
    "duration": 25,
    "start_time": "2022-09-15T10:22:01.014Z"
   },
   {
    "duration": 34,
    "start_time": "2022-09-15T10:22:01.041Z"
   },
   {
    "duration": 22,
    "start_time": "2022-09-15T10:22:01.077Z"
   },
   {
    "duration": 48,
    "start_time": "2022-09-15T10:22:01.101Z"
   },
   {
    "duration": 37,
    "start_time": "2022-09-15T10:22:01.152Z"
   },
   {
    "duration": 59,
    "start_time": "2022-09-15T10:22:01.191Z"
   },
   {
    "duration": 29,
    "start_time": "2022-09-15T10:22:01.251Z"
   },
   {
    "duration": 26,
    "start_time": "2022-09-15T10:22:01.282Z"
   },
   {
    "duration": 2,
    "start_time": "2022-09-15T10:37:31.904Z"
   },
   {
    "duration": 7,
    "start_time": "2022-09-15T10:37:42.651Z"
   },
   {
    "duration": 3,
    "start_time": "2022-09-15T10:38:03.329Z"
   },
   {
    "duration": 92,
    "start_time": "2022-09-15T10:38:03.335Z"
   },
   {
    "duration": 9,
    "start_time": "2022-09-15T10:38:03.428Z"
   },
   {
    "duration": 11,
    "start_time": "2022-09-15T10:38:03.439Z"
   },
   {
    "duration": 6,
    "start_time": "2022-09-15T10:38:03.452Z"
   },
   {
    "duration": 13,
    "start_time": "2022-09-15T10:38:03.460Z"
   },
   {
    "duration": 12,
    "start_time": "2022-09-15T10:38:03.474Z"
   },
   {
    "duration": 12,
    "start_time": "2022-09-15T10:38:03.488Z"
   },
   {
    "duration": 10,
    "start_time": "2022-09-15T10:38:03.502Z"
   },
   {
    "duration": 12,
    "start_time": "2022-09-15T10:38:03.514Z"
   },
   {
    "duration": 6,
    "start_time": "2022-09-15T10:38:03.528Z"
   },
   {
    "duration": 9,
    "start_time": "2022-09-15T10:38:03.535Z"
   },
   {
    "duration": 9,
    "start_time": "2022-09-15T10:38:03.545Z"
   },
   {
    "duration": 5,
    "start_time": "2022-09-15T10:38:03.556Z"
   },
   {
    "duration": 7,
    "start_time": "2022-09-15T10:38:03.597Z"
   },
   {
    "duration": 3,
    "start_time": "2022-09-15T10:38:26.094Z"
   },
   {
    "duration": 80,
    "start_time": "2022-09-15T10:38:26.098Z"
   },
   {
    "duration": 11,
    "start_time": "2022-09-15T10:38:26.180Z"
   },
   {
    "duration": 25,
    "start_time": "2022-09-15T10:38:26.193Z"
   },
   {
    "duration": 12,
    "start_time": "2022-09-15T10:38:26.220Z"
   },
   {
    "duration": 22,
    "start_time": "2022-09-15T10:38:26.234Z"
   },
   {
    "duration": 20,
    "start_time": "2022-09-15T10:38:26.258Z"
   },
   {
    "duration": 8,
    "start_time": "2022-09-15T10:38:26.280Z"
   },
   {
    "duration": 8,
    "start_time": "2022-09-15T10:38:26.289Z"
   },
   {
    "duration": 9,
    "start_time": "2022-09-15T10:38:26.309Z"
   },
   {
    "duration": 4,
    "start_time": "2022-09-15T10:38:26.320Z"
   },
   {
    "duration": 10,
    "start_time": "2022-09-15T10:38:26.325Z"
   },
   {
    "duration": 11,
    "start_time": "2022-09-15T10:38:26.336Z"
   },
   {
    "duration": 7,
    "start_time": "2022-09-15T10:38:26.348Z"
   },
   {
    "duration": 9,
    "start_time": "2022-09-15T10:38:26.356Z"
   },
   {
    "duration": 3,
    "start_time": "2022-09-15T10:43:18.633Z"
   },
   {
    "duration": 92,
    "start_time": "2022-09-15T10:43:18.638Z"
   },
   {
    "duration": 10,
    "start_time": "2022-09-15T10:43:18.731Z"
   },
   {
    "duration": 13,
    "start_time": "2022-09-15T10:43:18.742Z"
   },
   {
    "duration": 8,
    "start_time": "2022-09-15T10:43:18.756Z"
   },
   {
    "duration": 12,
    "start_time": "2022-09-15T10:43:18.765Z"
   },
   {
    "duration": 16,
    "start_time": "2022-09-15T10:43:18.778Z"
   },
   {
    "duration": 15,
    "start_time": "2022-09-15T10:43:18.796Z"
   },
   {
    "duration": 6,
    "start_time": "2022-09-15T10:43:18.813Z"
   },
   {
    "duration": 14,
    "start_time": "2022-09-15T10:43:18.821Z"
   },
   {
    "duration": 4,
    "start_time": "2022-09-15T10:43:18.837Z"
   },
   {
    "duration": 7,
    "start_time": "2022-09-15T10:43:18.843Z"
   },
   {
    "duration": 13,
    "start_time": "2022-09-15T10:43:18.851Z"
   },
   {
    "duration": 4,
    "start_time": "2022-09-15T10:43:18.865Z"
   },
   {
    "duration": 14,
    "start_time": "2022-09-15T10:43:18.871Z"
   },
   {
    "duration": 3,
    "start_time": "2022-09-15T10:43:39.457Z"
   },
   {
    "duration": 78,
    "start_time": "2022-09-15T10:43:39.464Z"
   },
   {
    "duration": 10,
    "start_time": "2022-09-15T10:43:39.544Z"
   },
   {
    "duration": 16,
    "start_time": "2022-09-15T10:43:39.555Z"
   },
   {
    "duration": 23,
    "start_time": "2022-09-15T10:43:39.574Z"
   },
   {
    "duration": 23,
    "start_time": "2022-09-15T10:43:39.598Z"
   },
   {
    "duration": 35,
    "start_time": "2022-09-15T10:43:39.622Z"
   },
   {
    "duration": 18,
    "start_time": "2022-09-15T10:43:39.658Z"
   },
   {
    "duration": 10,
    "start_time": "2022-09-15T10:43:39.678Z"
   },
   {
    "duration": 19,
    "start_time": "2022-09-15T10:43:39.689Z"
   },
   {
    "duration": 17,
    "start_time": "2022-09-15T10:43:39.710Z"
   },
   {
    "duration": 21,
    "start_time": "2022-09-15T10:43:39.728Z"
   },
   {
    "duration": 25,
    "start_time": "2022-09-15T10:43:39.750Z"
   },
   {
    "duration": 19,
    "start_time": "2022-09-15T10:43:39.776Z"
   },
   {
    "duration": 22,
    "start_time": "2022-09-15T10:43:39.796Z"
   },
   {
    "duration": 3,
    "start_time": "2022-09-15T10:43:48.547Z"
   },
   {
    "duration": 78,
    "start_time": "2022-09-15T10:43:48.552Z"
   },
   {
    "duration": 10,
    "start_time": "2022-09-15T10:43:48.632Z"
   },
   {
    "duration": 15,
    "start_time": "2022-09-15T10:43:48.643Z"
   },
   {
    "duration": 7,
    "start_time": "2022-09-15T10:43:48.660Z"
   },
   {
    "duration": 10,
    "start_time": "2022-09-15T10:43:48.669Z"
   },
   {
    "duration": 12,
    "start_time": "2022-09-15T10:43:48.681Z"
   },
   {
    "duration": 6,
    "start_time": "2022-09-15T10:43:48.694Z"
   },
   {
    "duration": 6,
    "start_time": "2022-09-15T10:43:48.709Z"
   },
   {
    "duration": 34,
    "start_time": "2022-09-15T10:43:48.717Z"
   },
   {
    "duration": 7,
    "start_time": "2022-09-15T10:43:48.753Z"
   },
   {
    "duration": 18,
    "start_time": "2022-09-15T10:43:48.762Z"
   },
   {
    "duration": 28,
    "start_time": "2022-09-15T10:43:48.782Z"
   },
   {
    "duration": 15,
    "start_time": "2022-09-15T10:43:48.812Z"
   },
   {
    "duration": 11,
    "start_time": "2022-09-15T10:48:21.435Z"
   },
   {
    "duration": 9,
    "start_time": "2022-09-15T10:53:36.985Z"
   },
   {
    "duration": 2,
    "start_time": "2022-09-15T10:54:45.043Z"
   },
   {
    "duration": 91,
    "start_time": "2022-09-15T10:54:45.051Z"
   },
   {
    "duration": 9,
    "start_time": "2022-09-15T10:54:45.143Z"
   },
   {
    "duration": 31,
    "start_time": "2022-09-15T10:54:45.154Z"
   },
   {
    "duration": 38,
    "start_time": "2022-09-15T10:54:45.187Z"
   },
   {
    "duration": 13,
    "start_time": "2022-09-15T10:54:45.227Z"
   },
   {
    "duration": 18,
    "start_time": "2022-09-15T10:54:45.241Z"
   },
   {
    "duration": 13,
    "start_time": "2022-09-15T10:54:45.261Z"
   },
   {
    "duration": 8,
    "start_time": "2022-09-15T10:54:45.276Z"
   },
   {
    "duration": 22,
    "start_time": "2022-09-15T10:54:45.285Z"
   },
   {
    "duration": 3,
    "start_time": "2022-09-15T10:54:45.309Z"
   },
   {
    "duration": 10,
    "start_time": "2022-09-15T10:54:45.313Z"
   },
   {
    "duration": 13,
    "start_time": "2022-09-15T10:54:45.324Z"
   },
   {
    "duration": 18,
    "start_time": "2022-09-15T10:54:45.338Z"
   },
   {
    "duration": 16,
    "start_time": "2022-09-15T10:54:45.358Z"
   },
   {
    "duration": 6,
    "start_time": "2022-09-15T11:12:19.032Z"
   },
   {
    "duration": 9,
    "start_time": "2022-09-15T11:12:44.691Z"
   },
   {
    "duration": 20,
    "start_time": "2022-09-15T11:14:43.306Z"
   },
   {
    "duration": 6,
    "start_time": "2022-09-15T11:18:31.989Z"
   },
   {
    "duration": 23,
    "start_time": "2022-09-15T11:20:14.300Z"
   },
   {
    "duration": 11,
    "start_time": "2022-09-15T11:20:36.826Z"
   },
   {
    "duration": 1380,
    "start_time": "2022-09-15T11:21:17.368Z"
   },
   {
    "duration": 10,
    "start_time": "2022-09-15T11:21:34.931Z"
   },
   {
    "duration": 3,
    "start_time": "2022-09-15T11:44:27.160Z"
   },
   {
    "duration": 5,
    "start_time": "2022-09-15T11:45:05.242Z"
   },
   {
    "duration": 6,
    "start_time": "2022-09-15T11:45:24.101Z"
   },
   {
    "duration": 2,
    "start_time": "2022-09-15T11:45:37.284Z"
   },
   {
    "duration": 82,
    "start_time": "2022-09-15T11:45:37.289Z"
   },
   {
    "duration": 9,
    "start_time": "2022-09-15T11:45:37.373Z"
   },
   {
    "duration": 11,
    "start_time": "2022-09-15T11:45:37.383Z"
   },
   {
    "duration": 9,
    "start_time": "2022-09-15T11:45:37.396Z"
   },
   {
    "duration": 8,
    "start_time": "2022-09-15T11:45:37.407Z"
   },
   {
    "duration": 11,
    "start_time": "2022-09-15T11:45:37.416Z"
   },
   {
    "duration": 14,
    "start_time": "2022-09-15T11:45:37.429Z"
   },
   {
    "duration": 10,
    "start_time": "2022-09-15T11:45:37.444Z"
   },
   {
    "duration": 15,
    "start_time": "2022-09-15T11:45:37.456Z"
   },
   {
    "duration": 13,
    "start_time": "2022-09-15T11:45:37.473Z"
   },
   {
    "duration": 26,
    "start_time": "2022-09-15T11:45:37.487Z"
   },
   {
    "duration": 16,
    "start_time": "2022-09-15T11:45:37.514Z"
   },
   {
    "duration": 5,
    "start_time": "2022-09-15T11:45:37.532Z"
   },
   {
    "duration": 7,
    "start_time": "2022-09-15T11:45:37.539Z"
   },
   {
    "duration": 13,
    "start_time": "2022-09-15T11:45:37.548Z"
   },
   {
    "duration": 13,
    "start_time": "2022-09-15T11:45:37.563Z"
   },
   {
    "duration": 14,
    "start_time": "2022-09-15T11:45:37.578Z"
   },
   {
    "duration": 272,
    "start_time": "2022-09-15T11:45:37.593Z"
   },
   {
    "duration": 11,
    "start_time": "2022-09-15T11:48:19.126Z"
   },
   {
    "duration": 258,
    "start_time": "2022-09-15T11:50:04.005Z"
   },
   {
    "duration": 8,
    "start_time": "2022-09-15T11:50:19.227Z"
   },
   {
    "duration": 9,
    "start_time": "2022-09-15T11:51:27.358Z"
   },
   {
    "duration": 9,
    "start_time": "2022-09-15T11:52:26.597Z"
   },
   {
    "duration": 302,
    "start_time": "2022-09-15T11:56:07.379Z"
   },
   {
    "duration": 225,
    "start_time": "2022-09-15T11:58:56.957Z"
   },
   {
    "duration": 14,
    "start_time": "2022-09-15T12:16:41.630Z"
   },
   {
    "duration": 247,
    "start_time": "2022-09-15T12:16:56.277Z"
   },
   {
    "duration": 3,
    "start_time": "2022-09-15T12:17:24.885Z"
   },
   {
    "duration": 76,
    "start_time": "2022-09-15T12:17:24.890Z"
   },
   {
    "duration": 9,
    "start_time": "2022-09-15T12:17:24.968Z"
   },
   {
    "duration": 10,
    "start_time": "2022-09-15T12:17:24.979Z"
   },
   {
    "duration": 8,
    "start_time": "2022-09-15T12:17:24.991Z"
   },
   {
    "duration": 6,
    "start_time": "2022-09-15T12:17:25.000Z"
   },
   {
    "duration": 10,
    "start_time": "2022-09-15T12:17:25.007Z"
   },
   {
    "duration": 16,
    "start_time": "2022-09-15T12:17:25.018Z"
   },
   {
    "duration": 21,
    "start_time": "2022-09-15T12:17:25.035Z"
   },
   {
    "duration": 10,
    "start_time": "2022-09-15T12:17:25.058Z"
   },
   {
    "duration": 11,
    "start_time": "2022-09-15T12:17:25.071Z"
   },
   {
    "duration": 14,
    "start_time": "2022-09-15T12:17:25.084Z"
   },
   {
    "duration": 16,
    "start_time": "2022-09-15T12:17:25.099Z"
   },
   {
    "duration": 3,
    "start_time": "2022-09-15T12:17:25.116Z"
   },
   {
    "duration": 7,
    "start_time": "2022-09-15T12:17:25.121Z"
   },
   {
    "duration": 8,
    "start_time": "2022-09-15T12:17:25.129Z"
   },
   {
    "duration": 13,
    "start_time": "2022-09-15T12:17:25.139Z"
   },
   {
    "duration": 17,
    "start_time": "2022-09-15T12:17:25.153Z"
   },
   {
    "duration": 311,
    "start_time": "2022-09-15T12:17:25.172Z"
   },
   {
    "duration": 8,
    "start_time": "2022-09-15T12:17:25.484Z"
   },
   {
    "duration": 20,
    "start_time": "2022-09-15T12:17:25.494Z"
   },
   {
    "duration": 256,
    "start_time": "2022-09-15T12:17:25.515Z"
   },
   {
    "duration": 245,
    "start_time": "2022-09-15T12:17:25.773Z"
   },
   {
    "duration": 9,
    "start_time": "2022-09-15T12:22:14.392Z"
   },
   {
    "duration": 390,
    "start_time": "2022-09-15T12:29:54.241Z"
   },
   {
    "duration": 310,
    "start_time": "2022-09-15T12:30:41.909Z"
   },
   {
    "duration": 360,
    "start_time": "2022-09-15T12:30:59.753Z"
   },
   {
    "duration": 277,
    "start_time": "2022-09-15T12:31:28.658Z"
   },
   {
    "duration": 4,
    "start_time": "2022-09-15T12:37:25.489Z"
   },
   {
    "duration": 309,
    "start_time": "2022-09-15T12:39:58.558Z"
   },
   {
    "duration": 316,
    "start_time": "2022-09-15T12:40:31.593Z"
   },
   {
    "duration": 186,
    "start_time": "2022-09-15T12:40:42.994Z"
   },
   {
    "duration": 187,
    "start_time": "2022-09-15T12:41:08.887Z"
   },
   {
    "duration": 185,
    "start_time": "2022-09-15T12:41:20.584Z"
   },
   {
    "duration": 8,
    "start_time": "2022-09-15T12:44:42.984Z"
   },
   {
    "duration": 158,
    "start_time": "2022-09-15T12:45:32.856Z"
   },
   {
    "duration": 180,
    "start_time": "2022-09-15T12:45:52.061Z"
   },
   {
    "duration": 8,
    "start_time": "2022-09-15T12:50:00.912Z"
   },
   {
    "duration": 1240,
    "start_time": "2022-09-15T12:53:34.669Z"
   },
   {
    "duration": 3,
    "start_time": "2022-09-15T13:00:33.827Z"
   },
   {
    "duration": 91,
    "start_time": "2022-09-15T13:00:33.833Z"
   },
   {
    "duration": 9,
    "start_time": "2022-09-15T13:00:33.925Z"
   },
   {
    "duration": 13,
    "start_time": "2022-09-15T13:00:33.936Z"
   },
   {
    "duration": 11,
    "start_time": "2022-09-15T13:00:33.951Z"
   },
   {
    "duration": 15,
    "start_time": "2022-09-15T13:00:33.963Z"
   },
   {
    "duration": 19,
    "start_time": "2022-09-15T13:00:33.980Z"
   },
   {
    "duration": 29,
    "start_time": "2022-09-15T13:00:34.001Z"
   },
   {
    "duration": 12,
    "start_time": "2022-09-15T13:00:34.032Z"
   },
   {
    "duration": 10,
    "start_time": "2022-09-15T13:00:34.046Z"
   },
   {
    "duration": 10,
    "start_time": "2022-09-15T13:00:34.059Z"
   },
   {
    "duration": 11,
    "start_time": "2022-09-15T13:00:34.071Z"
   },
   {
    "duration": 9,
    "start_time": "2022-09-15T13:00:34.084Z"
   },
   {
    "duration": 7,
    "start_time": "2022-09-15T13:00:34.094Z"
   },
   {
    "duration": 12,
    "start_time": "2022-09-15T13:00:34.102Z"
   },
   {
    "duration": 11,
    "start_time": "2022-09-15T13:00:34.117Z"
   },
   {
    "duration": 20,
    "start_time": "2022-09-15T13:00:34.129Z"
   },
   {
    "duration": 25,
    "start_time": "2022-09-15T13:00:34.151Z"
   },
   {
    "duration": 271,
    "start_time": "2022-09-15T13:00:34.177Z"
   },
   {
    "duration": 9,
    "start_time": "2022-09-15T13:00:34.450Z"
   },
   {
    "duration": 26,
    "start_time": "2022-09-15T13:00:34.461Z"
   },
   {
    "duration": 272,
    "start_time": "2022-09-15T13:00:34.489Z"
   },
   {
    "duration": 316,
    "start_time": "2022-09-15T13:00:34.762Z"
   },
   {
    "duration": 7,
    "start_time": "2022-09-15T13:00:35.080Z"
   },
   {
    "duration": 314,
    "start_time": "2022-09-15T13:00:35.088Z"
   },
   {
    "duration": 4,
    "start_time": "2022-09-15T13:00:35.408Z"
   },
   {
    "duration": 203,
    "start_time": "2022-09-15T13:00:35.413Z"
   },
   {
    "duration": 7,
    "start_time": "2022-09-15T13:00:35.617Z"
   },
   {
    "duration": 306,
    "start_time": "2022-09-15T13:00:35.625Z"
   },
   {
    "duration": 280,
    "start_time": "2022-09-15T13:03:38.847Z"
   },
   {
    "duration": 113,
    "start_time": "2022-09-15T13:09:09.122Z"
   },
   {
    "duration": 9,
    "start_time": "2022-09-15T13:15:43.456Z"
   },
   {
    "duration": 806,
    "start_time": "2022-09-15T13:15:57.199Z"
   },
   {
    "duration": 2,
    "start_time": "2022-09-15T13:17:08.536Z"
   },
   {
    "duration": 74,
    "start_time": "2022-09-15T13:17:08.542Z"
   },
   {
    "duration": 9,
    "start_time": "2022-09-15T13:17:08.618Z"
   },
   {
    "duration": 27,
    "start_time": "2022-09-15T13:17:08.628Z"
   },
   {
    "duration": 4,
    "start_time": "2022-09-15T13:17:08.656Z"
   },
   {
    "duration": 6,
    "start_time": "2022-09-15T13:17:08.661Z"
   },
   {
    "duration": 20,
    "start_time": "2022-09-15T13:17:08.668Z"
   },
   {
    "duration": 10,
    "start_time": "2022-09-15T13:17:08.690Z"
   },
   {
    "duration": 10,
    "start_time": "2022-09-15T13:17:08.702Z"
   },
   {
    "duration": 5,
    "start_time": "2022-09-15T13:17:08.713Z"
   },
   {
    "duration": 7,
    "start_time": "2022-09-15T13:17:08.720Z"
   },
   {
    "duration": 13,
    "start_time": "2022-09-15T13:17:08.728Z"
   },
   {
    "duration": 8,
    "start_time": "2022-09-15T13:17:08.742Z"
   },
   {
    "duration": 5,
    "start_time": "2022-09-15T13:17:08.752Z"
   },
   {
    "duration": 6,
    "start_time": "2022-09-15T13:17:08.759Z"
   },
   {
    "duration": 10,
    "start_time": "2022-09-15T13:17:08.767Z"
   },
   {
    "duration": 32,
    "start_time": "2022-09-15T13:17:08.779Z"
   },
   {
    "duration": 12,
    "start_time": "2022-09-15T13:17:08.812Z"
   },
   {
    "duration": 253,
    "start_time": "2022-09-15T13:17:09.085Z"
   },
   {
    "duration": 8,
    "start_time": "2022-09-15T13:17:09.340Z"
   },
   {
    "duration": 10,
    "start_time": "2022-09-15T13:17:09.350Z"
   },
   {
    "duration": 242,
    "start_time": "2022-09-15T13:17:09.362Z"
   },
   {
    "duration": 236,
    "start_time": "2022-09-15T13:17:09.606Z"
   },
   {
    "duration": 6,
    "start_time": "2022-09-15T13:17:09.843Z"
   },
   {
    "duration": 282,
    "start_time": "2022-09-15T13:17:09.850Z"
   },
   {
    "duration": 3,
    "start_time": "2022-09-15T13:17:10.134Z"
   },
   {
    "duration": 197,
    "start_time": "2022-09-15T13:17:10.139Z"
   },
   {
    "duration": 8,
    "start_time": "2022-09-15T13:17:10.337Z"
   },
   {
    "duration": 277,
    "start_time": "2022-09-15T13:17:10.346Z"
   },
   {
    "duration": 134,
    "start_time": "2022-09-15T13:17:10.624Z"
   },
   {
    "duration": 197,
    "start_time": "2022-09-15T13:17:10.760Z"
   },
   {
    "duration": 129,
    "start_time": "2022-09-15T13:17:38.070Z"
   },
   {
    "duration": 135,
    "start_time": "2022-09-15T13:18:09.442Z"
   },
   {
    "duration": 4,
    "start_time": "2022-09-15T13:18:33.326Z"
   },
   {
    "duration": 73,
    "start_time": "2022-09-15T13:18:33.341Z"
   },
   {
    "duration": 9,
    "start_time": "2022-09-15T13:18:33.416Z"
   },
   {
    "duration": 12,
    "start_time": "2022-09-15T13:18:33.427Z"
   },
   {
    "duration": 10,
    "start_time": "2022-09-15T13:18:33.440Z"
   },
   {
    "duration": 5,
    "start_time": "2022-09-15T13:18:33.452Z"
   },
   {
    "duration": 11,
    "start_time": "2022-09-15T13:18:33.459Z"
   },
   {
    "duration": 11,
    "start_time": "2022-09-15T13:18:33.471Z"
   },
   {
    "duration": 6,
    "start_time": "2022-09-15T13:18:33.508Z"
   },
   {
    "duration": 4,
    "start_time": "2022-09-15T13:18:33.516Z"
   },
   {
    "duration": 7,
    "start_time": "2022-09-15T13:18:33.523Z"
   },
   {
    "duration": 11,
    "start_time": "2022-09-15T13:18:33.531Z"
   },
   {
    "duration": 8,
    "start_time": "2022-09-15T13:18:33.543Z"
   },
   {
    "duration": 12,
    "start_time": "2022-09-15T13:18:33.553Z"
   },
   {
    "duration": 8,
    "start_time": "2022-09-15T13:18:33.567Z"
   },
   {
    "duration": 34,
    "start_time": "2022-09-15T13:18:33.576Z"
   },
   {
    "duration": 18,
    "start_time": "2022-09-15T13:18:33.612Z"
   },
   {
    "duration": 11,
    "start_time": "2022-09-15T13:18:33.632Z"
   },
   {
    "duration": 260,
    "start_time": "2022-09-15T13:18:33.645Z"
   },
   {
    "duration": 11,
    "start_time": "2022-09-15T13:18:33.906Z"
   },
   {
    "duration": 8,
    "start_time": "2022-09-15T13:18:33.918Z"
   },
   {
    "duration": 238,
    "start_time": "2022-09-15T13:18:33.927Z"
   },
   {
    "duration": 242,
    "start_time": "2022-09-15T13:18:34.167Z"
   },
   {
    "duration": 8,
    "start_time": "2022-09-15T13:18:34.411Z"
   },
   {
    "duration": 310,
    "start_time": "2022-09-15T13:18:34.420Z"
   },
   {
    "duration": 3,
    "start_time": "2022-09-15T13:18:34.732Z"
   },
   {
    "duration": 193,
    "start_time": "2022-09-15T13:18:34.738Z"
   },
   {
    "duration": 7,
    "start_time": "2022-09-15T13:18:34.933Z"
   },
   {
    "duration": 290,
    "start_time": "2022-09-15T13:18:34.942Z"
   },
   {
    "duration": 138,
    "start_time": "2022-09-15T13:18:35.234Z"
   },
   {
    "duration": 8,
    "start_time": "2022-09-15T13:18:35.374Z"
   },
   {
    "duration": 141,
    "start_time": "2022-09-15T13:18:35.385Z"
   },
   {
    "duration": 8,
    "start_time": "2022-09-15T13:23:59.893Z"
   },
   {
    "duration": 8,
    "start_time": "2022-09-15T13:24:21.000Z"
   },
   {
    "duration": 4,
    "start_time": "2022-09-15T13:25:08.670Z"
   },
   {
    "duration": 160,
    "start_time": "2022-09-15T13:54:25.753Z"
   },
   {
    "duration": 116,
    "start_time": "2022-09-15T13:56:48.880Z"
   },
   {
    "duration": 193,
    "start_time": "2022-09-15T13:57:25.260Z"
   },
   {
    "duration": 148,
    "start_time": "2022-09-15T13:57:47.404Z"
   },
   {
    "duration": 125,
    "start_time": "2022-09-15T13:57:58.049Z"
   },
   {
    "duration": 119,
    "start_time": "2022-09-15T13:58:34.679Z"
   },
   {
    "duration": 121,
    "start_time": "2022-09-15T13:58:42.384Z"
   },
   {
    "duration": 120,
    "start_time": "2022-09-15T13:59:04.846Z"
   },
   {
    "duration": 3,
    "start_time": "2022-09-15T14:02:41.831Z"
   },
   {
    "duration": 76,
    "start_time": "2022-09-15T14:02:41.841Z"
   },
   {
    "duration": 9,
    "start_time": "2022-09-15T14:02:41.919Z"
   },
   {
    "duration": 12,
    "start_time": "2022-09-15T14:02:41.930Z"
   },
   {
    "duration": 4,
    "start_time": "2022-09-15T14:02:41.945Z"
   },
   {
    "duration": 5,
    "start_time": "2022-09-15T14:02:41.951Z"
   },
   {
    "duration": 11,
    "start_time": "2022-09-15T14:02:41.957Z"
   },
   {
    "duration": 9,
    "start_time": "2022-09-15T14:02:41.970Z"
   },
   {
    "duration": 31,
    "start_time": "2022-09-15T14:02:41.981Z"
   },
   {
    "duration": 3,
    "start_time": "2022-09-15T14:02:42.013Z"
   },
   {
    "duration": 8,
    "start_time": "2022-09-15T14:02:42.018Z"
   },
   {
    "duration": 12,
    "start_time": "2022-09-15T14:02:42.028Z"
   },
   {
    "duration": 8,
    "start_time": "2022-09-15T14:02:42.041Z"
   },
   {
    "duration": 6,
    "start_time": "2022-09-15T14:02:42.051Z"
   },
   {
    "duration": 8,
    "start_time": "2022-09-15T14:02:42.058Z"
   },
   {
    "duration": 11,
    "start_time": "2022-09-15T14:02:42.067Z"
   },
   {
    "duration": 36,
    "start_time": "2022-09-15T14:02:42.079Z"
   },
   {
    "duration": 11,
    "start_time": "2022-09-15T14:02:42.117Z"
   },
   {
    "duration": 260,
    "start_time": "2022-09-15T14:02:42.130Z"
   },
   {
    "duration": 7,
    "start_time": "2022-09-15T14:02:42.391Z"
   },
   {
    "duration": 8,
    "start_time": "2022-09-15T14:02:42.409Z"
   },
   {
    "duration": 231,
    "start_time": "2022-09-15T14:02:42.418Z"
   },
   {
    "duration": 238,
    "start_time": "2022-09-15T14:02:42.651Z"
   },
   {
    "duration": 6,
    "start_time": "2022-09-15T14:02:42.890Z"
   },
   {
    "duration": 314,
    "start_time": "2022-09-15T14:02:42.897Z"
   },
   {
    "duration": 4,
    "start_time": "2022-09-15T14:02:43.212Z"
   },
   {
    "duration": 210,
    "start_time": "2022-09-15T14:02:43.217Z"
   },
   {
    "duration": 6,
    "start_time": "2022-09-15T14:02:43.430Z"
   },
   {
    "duration": 282,
    "start_time": "2022-09-15T14:02:43.438Z"
   },
   {
    "duration": 126,
    "start_time": "2022-09-15T14:02:43.721Z"
   },
   {
    "duration": 202,
    "start_time": "2022-09-15T14:02:43.848Z"
   },
   {
    "duration": 4,
    "start_time": "2022-09-15T14:02:44.052Z"
   },
   {
    "duration": 12,
    "start_time": "2022-09-15T14:02:44.057Z"
   },
   {
    "duration": 140,
    "start_time": "2022-09-15T14:02:44.070Z"
   },
   {
    "duration": 3,
    "start_time": "2022-09-15T14:07:21.058Z"
   },
   {
    "duration": 9,
    "start_time": "2022-09-15T14:07:36.082Z"
   },
   {
    "duration": 3,
    "start_time": "2022-09-15T14:07:49.853Z"
   },
   {
    "duration": 80,
    "start_time": "2022-09-15T14:21:10.661Z"
   },
   {
    "duration": 105,
    "start_time": "2022-09-15T14:24:22.940Z"
   },
   {
    "duration": 94,
    "start_time": "2022-09-15T14:24:36.068Z"
   },
   {
    "duration": 20,
    "start_time": "2022-09-15T14:25:13.564Z"
   },
   {
    "duration": 29,
    "start_time": "2022-09-15T14:25:52.093Z"
   },
   {
    "duration": 124,
    "start_time": "2022-09-15T14:30:25.814Z"
   },
   {
    "duration": 9,
    "start_time": "2022-09-15T14:32:20.720Z"
   },
   {
    "duration": 3,
    "start_time": "2022-09-15T14:32:28.994Z"
   },
   {
    "duration": 83,
    "start_time": "2022-09-15T14:32:28.999Z"
   },
   {
    "duration": 9,
    "start_time": "2022-09-15T14:32:29.083Z"
   },
   {
    "duration": 16,
    "start_time": "2022-09-15T14:32:29.093Z"
   },
   {
    "duration": 4,
    "start_time": "2022-09-15T14:32:29.110Z"
   },
   {
    "duration": 5,
    "start_time": "2022-09-15T14:32:29.116Z"
   },
   {
    "duration": 13,
    "start_time": "2022-09-15T14:32:29.122Z"
   },
   {
    "duration": 12,
    "start_time": "2022-09-15T14:32:29.136Z"
   },
   {
    "duration": 7,
    "start_time": "2022-09-15T14:32:29.150Z"
   },
   {
    "duration": 3,
    "start_time": "2022-09-15T14:32:29.159Z"
   },
   {
    "duration": 8,
    "start_time": "2022-09-15T14:32:29.164Z"
   },
   {
    "duration": 42,
    "start_time": "2022-09-15T14:32:29.174Z"
   },
   {
    "duration": 10,
    "start_time": "2022-09-15T14:32:29.217Z"
   },
   {
    "duration": 7,
    "start_time": "2022-09-15T14:32:29.228Z"
   },
   {
    "duration": 9,
    "start_time": "2022-09-15T14:32:29.237Z"
   },
   {
    "duration": 11,
    "start_time": "2022-09-15T14:32:29.248Z"
   },
   {
    "duration": 12,
    "start_time": "2022-09-15T14:32:29.261Z"
   },
   {
    "duration": 35,
    "start_time": "2022-09-15T14:32:29.275Z"
   },
   {
    "duration": 264,
    "start_time": "2022-09-15T14:32:29.312Z"
   },
   {
    "duration": 7,
    "start_time": "2022-09-15T14:32:29.578Z"
   },
   {
    "duration": 9,
    "start_time": "2022-09-15T14:32:29.586Z"
   },
   {
    "duration": 239,
    "start_time": "2022-09-15T14:32:29.597Z"
   },
   {
    "duration": 236,
    "start_time": "2022-09-15T14:32:29.838Z"
   },
   {
    "duration": 6,
    "start_time": "2022-09-15T14:32:30.076Z"
   },
   {
    "duration": 320,
    "start_time": "2022-09-15T14:32:30.083Z"
   },
   {
    "duration": 4,
    "start_time": "2022-09-15T14:32:30.408Z"
   },
   {
    "duration": 195,
    "start_time": "2022-09-15T14:32:30.414Z"
   },
   {
    "duration": 7,
    "start_time": "2022-09-15T14:32:30.610Z"
   },
   {
    "duration": 294,
    "start_time": "2022-09-15T14:32:30.619Z"
   },
   {
    "duration": 140,
    "start_time": "2022-09-15T14:32:30.915Z"
   },
   {
    "duration": 139,
    "start_time": "2022-09-15T14:32:31.056Z"
   },
   {
    "duration": 5,
    "start_time": "2022-09-15T14:32:31.196Z"
   },
   {
    "duration": 20,
    "start_time": "2022-09-15T14:32:31.202Z"
   },
   {
    "duration": 138,
    "start_time": "2022-09-15T14:32:31.224Z"
   },
   {
    "duration": 4,
    "start_time": "2022-09-15T14:32:31.363Z"
   },
   {
    "duration": 87,
    "start_time": "2022-09-15T14:32:31.368Z"
   },
   {
    "duration": 125,
    "start_time": "2022-09-15T14:32:31.457Z"
   },
   {
    "duration": 26,
    "start_time": "2022-09-15T14:32:31.584Z"
   },
   {
    "duration": 136,
    "start_time": "2022-09-15T14:32:31.612Z"
   },
   {
    "duration": 10,
    "start_time": "2022-09-15T14:32:31.749Z"
   },
   {
    "duration": 10,
    "start_time": "2022-09-15T14:35:36.466Z"
   },
   {
    "duration": 3,
    "start_time": "2022-09-15T14:35:42.658Z"
   },
   {
    "duration": 78,
    "start_time": "2022-09-15T14:35:42.663Z"
   },
   {
    "duration": 9,
    "start_time": "2022-09-15T14:35:42.743Z"
   },
   {
    "duration": 9,
    "start_time": "2022-09-15T14:35:42.753Z"
   },
   {
    "duration": 5,
    "start_time": "2022-09-15T14:35:42.763Z"
   },
   {
    "duration": 7,
    "start_time": "2022-09-15T14:35:42.770Z"
   },
   {
    "duration": 23,
    "start_time": "2022-09-15T14:35:42.778Z"
   },
   {
    "duration": 14,
    "start_time": "2022-09-15T14:35:42.803Z"
   },
   {
    "duration": 17,
    "start_time": "2022-09-15T14:35:42.818Z"
   },
   {
    "duration": 10,
    "start_time": "2022-09-15T14:35:42.837Z"
   },
   {
    "duration": 7,
    "start_time": "2022-09-15T14:35:42.849Z"
   },
   {
    "duration": 14,
    "start_time": "2022-09-15T14:35:42.857Z"
   },
   {
    "duration": 9,
    "start_time": "2022-09-15T14:35:42.873Z"
   },
   {
    "duration": 6,
    "start_time": "2022-09-15T14:35:42.884Z"
   },
   {
    "duration": 19,
    "start_time": "2022-09-15T14:35:42.891Z"
   },
   {
    "duration": 8,
    "start_time": "2022-09-15T14:35:42.911Z"
   },
   {
    "duration": 14,
    "start_time": "2022-09-15T14:35:42.920Z"
   },
   {
    "duration": 11,
    "start_time": "2022-09-15T14:35:42.936Z"
   },
   {
    "duration": 275,
    "start_time": "2022-09-15T14:35:42.950Z"
   },
   {
    "duration": 7,
    "start_time": "2022-09-15T14:35:43.227Z"
   },
   {
    "duration": 12,
    "start_time": "2022-09-15T14:35:43.236Z"
   },
   {
    "duration": 250,
    "start_time": "2022-09-15T14:35:43.250Z"
   },
   {
    "duration": 239,
    "start_time": "2022-09-15T14:35:43.502Z"
   },
   {
    "duration": 6,
    "start_time": "2022-09-15T14:35:43.743Z"
   },
   {
    "duration": 359,
    "start_time": "2022-09-15T14:35:43.750Z"
   },
   {
    "duration": 4,
    "start_time": "2022-09-15T14:35:44.110Z"
   },
   {
    "duration": 194,
    "start_time": "2022-09-15T14:35:44.115Z"
   },
   {
    "duration": 8,
    "start_time": "2022-09-15T14:35:44.311Z"
   },
   {
    "duration": 322,
    "start_time": "2022-09-15T14:35:44.320Z"
   },
   {
    "duration": 122,
    "start_time": "2022-09-15T14:35:44.644Z"
   },
   {
    "duration": 136,
    "start_time": "2022-09-15T14:35:44.768Z"
   },
   {
    "duration": 5,
    "start_time": "2022-09-15T14:35:44.906Z"
   },
   {
    "duration": 34,
    "start_time": "2022-09-15T14:35:44.912Z"
   },
   {
    "duration": 126,
    "start_time": "2022-09-15T14:35:44.947Z"
   },
   {
    "duration": 4,
    "start_time": "2022-09-15T14:35:45.074Z"
   },
   {
    "duration": 86,
    "start_time": "2022-09-15T14:35:45.079Z"
   },
   {
    "duration": 105,
    "start_time": "2022-09-15T14:35:45.166Z"
   },
   {
    "duration": 37,
    "start_time": "2022-09-15T14:35:45.273Z"
   },
   {
    "duration": 147,
    "start_time": "2022-09-15T14:35:45.312Z"
   },
   {
    "duration": 11,
    "start_time": "2022-09-15T14:35:45.461Z"
   },
   {
    "duration": 10,
    "start_time": "2022-09-15T17:12:53.318Z"
   },
   {
    "duration": 3,
    "start_time": "2022-09-15T17:12:58.761Z"
   },
   {
    "duration": 72,
    "start_time": "2022-09-15T17:12:58.774Z"
   },
   {
    "duration": 9,
    "start_time": "2022-09-15T17:12:58.847Z"
   },
   {
    "duration": 9,
    "start_time": "2022-09-15T17:12:58.857Z"
   },
   {
    "duration": 8,
    "start_time": "2022-09-15T17:12:58.867Z"
   },
   {
    "duration": 9,
    "start_time": "2022-09-15T17:12:58.876Z"
   },
   {
    "duration": 11,
    "start_time": "2022-09-15T17:12:58.886Z"
   },
   {
    "duration": 13,
    "start_time": "2022-09-15T17:12:58.898Z"
   },
   {
    "duration": 6,
    "start_time": "2022-09-15T17:12:58.913Z"
   },
   {
    "duration": 4,
    "start_time": "2022-09-15T17:12:58.921Z"
   },
   {
    "duration": 5,
    "start_time": "2022-09-15T17:12:58.928Z"
   },
   {
    "duration": 11,
    "start_time": "2022-09-15T17:12:58.935Z"
   },
   {
    "duration": 9,
    "start_time": "2022-09-15T17:12:58.948Z"
   },
   {
    "duration": 3,
    "start_time": "2022-09-15T17:12:58.959Z"
   },
   {
    "duration": 7,
    "start_time": "2022-09-15T17:12:58.963Z"
   },
   {
    "duration": 42,
    "start_time": "2022-09-15T17:12:58.972Z"
   },
   {
    "duration": 10,
    "start_time": "2022-09-15T17:12:59.017Z"
   },
   {
    "duration": 12,
    "start_time": "2022-09-15T17:12:59.028Z"
   },
   {
    "duration": 247,
    "start_time": "2022-09-15T17:12:59.074Z"
   },
   {
    "duration": 8,
    "start_time": "2022-09-15T17:12:59.322Z"
   },
   {
    "duration": 17,
    "start_time": "2022-09-15T17:12:59.331Z"
   },
   {
    "duration": 237,
    "start_time": "2022-09-15T17:12:59.349Z"
   },
   {
    "duration": 228,
    "start_time": "2022-09-15T17:12:59.588Z"
   },
   {
    "duration": 4,
    "start_time": "2022-09-15T17:12:59.818Z"
   },
   {
    "duration": 287,
    "start_time": "2022-09-15T17:12:59.824Z"
   },
   {
    "duration": 3,
    "start_time": "2022-09-15T17:13:00.113Z"
   },
   {
    "duration": 190,
    "start_time": "2022-09-15T17:13:00.117Z"
   },
   {
    "duration": 6,
    "start_time": "2022-09-15T17:13:00.309Z"
   },
   {
    "duration": 294,
    "start_time": "2022-09-15T17:13:00.317Z"
   },
   {
    "duration": 141,
    "start_time": "2022-09-15T17:13:00.613Z"
   },
   {
    "duration": 128,
    "start_time": "2022-09-15T17:13:00.755Z"
   },
   {
    "duration": 4,
    "start_time": "2022-09-15T17:13:00.885Z"
   },
   {
    "duration": 40,
    "start_time": "2022-09-15T17:13:00.890Z"
   },
   {
    "duration": 131,
    "start_time": "2022-09-15T17:13:00.931Z"
   },
   {
    "duration": 4,
    "start_time": "2022-09-15T17:13:01.063Z"
   },
   {
    "duration": 156,
    "start_time": "2022-09-15T17:13:01.068Z"
   },
   {
    "duration": 106,
    "start_time": "2022-09-15T17:13:01.225Z"
   },
   {
    "duration": 25,
    "start_time": "2022-09-15T17:13:01.332Z"
   },
   {
    "duration": 132,
    "start_time": "2022-09-15T17:13:01.359Z"
   },
   {
    "duration": 18,
    "start_time": "2022-09-15T17:13:01.492Z"
   },
   {
    "duration": 0,
    "start_time": "2022-09-15T17:13:01.511Z"
   },
   {
    "duration": 9,
    "start_time": "2022-09-15T17:13:17.499Z"
   },
   {
    "duration": 3,
    "start_time": "2022-09-15T17:24:45.003Z"
   },
   {
    "duration": 86,
    "start_time": "2022-09-15T17:24:45.009Z"
   },
   {
    "duration": 9,
    "start_time": "2022-09-15T17:24:45.097Z"
   },
   {
    "duration": 11,
    "start_time": "2022-09-15T17:24:45.107Z"
   },
   {
    "duration": 6,
    "start_time": "2022-09-15T17:24:45.119Z"
   },
   {
    "duration": 7,
    "start_time": "2022-09-15T17:24:45.126Z"
   },
   {
    "duration": 15,
    "start_time": "2022-09-15T17:24:45.134Z"
   },
   {
    "duration": 12,
    "start_time": "2022-09-15T17:24:45.150Z"
   },
   {
    "duration": 8,
    "start_time": "2022-09-15T17:24:45.163Z"
   },
   {
    "duration": 9,
    "start_time": "2022-09-15T17:24:45.172Z"
   },
   {
    "duration": 5,
    "start_time": "2022-09-15T17:24:45.183Z"
   },
   {
    "duration": 27,
    "start_time": "2022-09-15T17:24:45.189Z"
   },
   {
    "duration": 8,
    "start_time": "2022-09-15T17:24:45.217Z"
   },
   {
    "duration": 3,
    "start_time": "2022-09-15T17:24:45.226Z"
   },
   {
    "duration": 13,
    "start_time": "2022-09-15T17:24:45.230Z"
   },
   {
    "duration": 15,
    "start_time": "2022-09-15T17:24:45.245Z"
   },
   {
    "duration": 14,
    "start_time": "2022-09-15T17:24:45.262Z"
   },
   {
    "duration": 12,
    "start_time": "2022-09-15T17:24:45.278Z"
   },
   {
    "duration": 246,
    "start_time": "2022-09-15T17:24:45.358Z"
   },
   {
    "duration": 8,
    "start_time": "2022-09-15T17:24:45.606Z"
   },
   {
    "duration": 14,
    "start_time": "2022-09-15T17:24:45.615Z"
   },
   {
    "duration": 236,
    "start_time": "2022-09-15T17:24:45.631Z"
   },
   {
    "duration": 233,
    "start_time": "2022-09-15T17:24:45.869Z"
   },
   {
    "duration": 5,
    "start_time": "2022-09-15T17:24:46.108Z"
   },
   {
    "duration": 301,
    "start_time": "2022-09-15T17:24:46.115Z"
   },
   {
    "duration": 3,
    "start_time": "2022-09-15T17:24:46.418Z"
   },
   {
    "duration": 208,
    "start_time": "2022-09-15T17:24:46.422Z"
   },
   {
    "duration": 8,
    "start_time": "2022-09-15T17:24:46.631Z"
   },
   {
    "duration": 278,
    "start_time": "2022-09-15T17:24:46.640Z"
   },
   {
    "duration": 129,
    "start_time": "2022-09-15T17:24:46.919Z"
   },
   {
    "duration": 130,
    "start_time": "2022-09-15T17:24:47.049Z"
   },
   {
    "duration": 3,
    "start_time": "2022-09-15T17:24:47.182Z"
   },
   {
    "duration": 11,
    "start_time": "2022-09-15T17:24:47.186Z"
   },
   {
    "duration": 129,
    "start_time": "2022-09-15T17:24:47.209Z"
   },
   {
    "duration": 4,
    "start_time": "2022-09-15T17:24:47.339Z"
   },
   {
    "duration": 95,
    "start_time": "2022-09-15T17:24:47.345Z"
   },
   {
    "duration": 102,
    "start_time": "2022-09-15T17:24:47.442Z"
   },
   {
    "duration": 29,
    "start_time": "2022-09-15T17:24:47.545Z"
   },
   {
    "duration": 152,
    "start_time": "2022-09-15T17:24:47.575Z"
   },
   {
    "duration": 9,
    "start_time": "2022-09-15T17:24:47.729Z"
   },
   {
    "duration": 0,
    "start_time": "2022-09-15T17:24:47.740Z"
   },
   {
    "duration": 227,
    "start_time": "2022-09-15T17:42:19.388Z"
   },
   {
    "duration": 3,
    "start_time": "2022-09-15T18:00:32.422Z"
   },
   {
    "duration": 81,
    "start_time": "2022-09-15T18:00:32.427Z"
   },
   {
    "duration": 10,
    "start_time": "2022-09-15T18:00:32.509Z"
   },
   {
    "duration": 12,
    "start_time": "2022-09-15T18:00:32.520Z"
   },
   {
    "duration": 7,
    "start_time": "2022-09-15T18:00:32.533Z"
   },
   {
    "duration": 6,
    "start_time": "2022-09-15T18:00:32.541Z"
   },
   {
    "duration": 9,
    "start_time": "2022-09-15T18:00:32.549Z"
   },
   {
    "duration": 11,
    "start_time": "2022-09-15T18:00:32.559Z"
   },
   {
    "duration": 7,
    "start_time": "2022-09-15T18:00:32.571Z"
   },
   {
    "duration": 32,
    "start_time": "2022-09-15T18:00:32.579Z"
   },
   {
    "duration": 7,
    "start_time": "2022-09-15T18:00:32.614Z"
   },
   {
    "duration": 16,
    "start_time": "2022-09-15T18:00:32.623Z"
   },
   {
    "duration": 11,
    "start_time": "2022-09-15T18:00:32.640Z"
   },
   {
    "duration": 3,
    "start_time": "2022-09-15T18:00:32.652Z"
   },
   {
    "duration": 10,
    "start_time": "2022-09-15T18:00:32.657Z"
   },
   {
    "duration": 14,
    "start_time": "2022-09-15T18:00:32.668Z"
   },
   {
    "duration": 34,
    "start_time": "2022-09-15T18:00:32.683Z"
   },
   {
    "duration": 13,
    "start_time": "2022-09-15T18:00:32.719Z"
   },
   {
    "duration": 277,
    "start_time": "2022-09-15T18:00:32.735Z"
   },
   {
    "duration": 7,
    "start_time": "2022-09-15T18:00:33.013Z"
   },
   {
    "duration": 10,
    "start_time": "2022-09-15T18:00:33.022Z"
   },
   {
    "duration": 237,
    "start_time": "2022-09-15T18:00:33.033Z"
   },
   {
    "duration": 240,
    "start_time": "2022-09-15T18:00:33.272Z"
   },
   {
    "duration": 7,
    "start_time": "2022-09-15T18:00:33.514Z"
   },
   {
    "duration": 286,
    "start_time": "2022-09-15T18:00:33.523Z"
   },
   {
    "duration": 4,
    "start_time": "2022-09-15T18:00:33.810Z"
   },
   {
    "duration": 195,
    "start_time": "2022-09-15T18:00:33.816Z"
   },
   {
    "duration": 7,
    "start_time": "2022-09-15T18:00:34.013Z"
   },
   {
    "duration": 388,
    "start_time": "2022-09-15T18:00:34.021Z"
   },
   {
    "duration": 154,
    "start_time": "2022-09-15T18:00:34.413Z"
   },
   {
    "duration": 136,
    "start_time": "2022-09-15T18:00:34.568Z"
   },
   {
    "duration": 4,
    "start_time": "2022-09-15T18:00:34.708Z"
   },
   {
    "duration": 9,
    "start_time": "2022-09-15T18:00:34.713Z"
   },
   {
    "duration": 136,
    "start_time": "2022-09-15T18:00:34.723Z"
   },
   {
    "duration": 4,
    "start_time": "2022-09-15T18:00:34.861Z"
   },
   {
    "duration": 91,
    "start_time": "2022-09-15T18:00:34.866Z"
   },
   {
    "duration": 108,
    "start_time": "2022-09-15T18:00:34.959Z"
   },
   {
    "duration": 26,
    "start_time": "2022-09-15T18:00:35.068Z"
   },
   {
    "duration": 146,
    "start_time": "2022-09-15T18:00:35.109Z"
   },
   {
    "duration": 12,
    "start_time": "2022-09-15T18:00:35.256Z"
   },
   {
    "duration": 0,
    "start_time": "2022-09-15T18:00:35.270Z"
   },
   {
    "duration": 4,
    "start_time": "2022-09-15T18:10:13.959Z"
   },
   {
    "duration": 9,
    "start_time": "2022-09-15T18:11:27.557Z"
   },
   {
    "duration": 2,
    "start_time": "2022-09-15T18:11:35.380Z"
   },
   {
    "duration": 80,
    "start_time": "2022-09-15T18:11:35.385Z"
   },
   {
    "duration": 9,
    "start_time": "2022-09-15T18:11:35.466Z"
   },
   {
    "duration": 16,
    "start_time": "2022-09-15T18:11:35.476Z"
   },
   {
    "duration": 8,
    "start_time": "2022-09-15T18:11:35.493Z"
   },
   {
    "duration": 13,
    "start_time": "2022-09-15T18:11:35.503Z"
   },
   {
    "duration": 12,
    "start_time": "2022-09-15T18:11:35.518Z"
   },
   {
    "duration": 14,
    "start_time": "2022-09-15T18:11:35.532Z"
   },
   {
    "duration": 24,
    "start_time": "2022-09-15T18:11:35.547Z"
   },
   {
    "duration": 8,
    "start_time": "2022-09-15T18:11:35.573Z"
   },
   {
    "duration": 6,
    "start_time": "2022-09-15T18:11:35.583Z"
   },
   {
    "duration": 12,
    "start_time": "2022-09-15T18:11:35.590Z"
   },
   {
    "duration": 8,
    "start_time": "2022-09-15T18:11:35.604Z"
   },
   {
    "duration": 5,
    "start_time": "2022-09-15T18:11:35.614Z"
   },
   {
    "duration": 7,
    "start_time": "2022-09-15T18:11:35.620Z"
   },
   {
    "duration": 9,
    "start_time": "2022-09-15T18:11:35.628Z"
   },
   {
    "duration": 11,
    "start_time": "2022-09-15T18:11:35.638Z"
   },
   {
    "duration": 14,
    "start_time": "2022-09-15T18:11:35.650Z"
   },
   {
    "duration": 272,
    "start_time": "2022-09-15T18:11:35.667Z"
   },
   {
    "duration": 8,
    "start_time": "2022-09-15T18:11:35.940Z"
   },
   {
    "duration": 20,
    "start_time": "2022-09-15T18:11:35.949Z"
   },
   {
    "duration": 261,
    "start_time": "2022-09-15T18:11:35.971Z"
   },
   {
    "duration": 232,
    "start_time": "2022-09-15T18:11:36.234Z"
   },
   {
    "duration": 6,
    "start_time": "2022-09-15T18:11:36.468Z"
   },
   {
    "duration": 326,
    "start_time": "2022-09-15T18:11:36.477Z"
   },
   {
    "duration": 6,
    "start_time": "2022-09-15T18:11:36.804Z"
   },
   {
    "duration": 185,
    "start_time": "2022-09-15T18:11:36.811Z"
   },
   {
    "duration": 12,
    "start_time": "2022-09-15T18:11:36.997Z"
   },
   {
    "duration": 307,
    "start_time": "2022-09-15T18:11:37.011Z"
   },
   {
    "duration": 134,
    "start_time": "2022-09-15T18:11:37.319Z"
   },
   {
    "duration": 157,
    "start_time": "2022-09-15T18:11:37.455Z"
   },
   {
    "duration": 4,
    "start_time": "2022-09-15T18:11:37.614Z"
   },
   {
    "duration": 12,
    "start_time": "2022-09-15T18:11:37.620Z"
   },
   {
    "duration": 145,
    "start_time": "2022-09-15T18:11:37.634Z"
   },
   {
    "duration": 3,
    "start_time": "2022-09-15T18:11:37.781Z"
   },
   {
    "duration": 101,
    "start_time": "2022-09-15T18:11:37.785Z"
   },
   {
    "duration": 141,
    "start_time": "2022-09-15T18:11:37.888Z"
   },
   {
    "duration": 29,
    "start_time": "2022-09-15T18:11:38.030Z"
   },
   {
    "duration": 160,
    "start_time": "2022-09-15T18:11:38.061Z"
   },
   {
    "duration": 12,
    "start_time": "2022-09-15T18:11:38.223Z"
   },
   {
    "duration": 0,
    "start_time": "2022-09-15T18:11:38.237Z"
   },
   {
    "duration": 10,
    "start_time": "2022-09-15T18:12:09.719Z"
   },
   {
    "duration": 3536,
    "start_time": "2022-09-15T18:15:14.801Z"
   },
   {
    "duration": 6,
    "start_time": "2022-09-15T18:18:59.174Z"
   },
   {
    "duration": 9,
    "start_time": "2022-09-15T18:19:14.168Z"
   },
   {
    "duration": 25,
    "start_time": "2022-09-15T18:19:34.004Z"
   },
   {
    "duration": 20,
    "start_time": "2022-09-15T18:19:49.463Z"
   },
   {
    "duration": 12,
    "start_time": "2022-09-15T18:23:47.282Z"
   },
   {
    "duration": 3,
    "start_time": "2022-09-15T18:24:18.721Z"
   },
   {
    "duration": 72,
    "start_time": "2022-09-15T18:24:18.739Z"
   },
   {
    "duration": 10,
    "start_time": "2022-09-15T18:24:18.812Z"
   },
   {
    "duration": 12,
    "start_time": "2022-09-15T18:24:18.823Z"
   },
   {
    "duration": 4,
    "start_time": "2022-09-15T18:24:18.837Z"
   },
   {
    "duration": 6,
    "start_time": "2022-09-15T18:24:18.843Z"
   },
   {
    "duration": 10,
    "start_time": "2022-09-15T18:24:18.851Z"
   },
   {
    "duration": 11,
    "start_time": "2022-09-15T18:24:18.863Z"
   },
   {
    "duration": 34,
    "start_time": "2022-09-15T18:24:18.875Z"
   },
   {
    "duration": 3,
    "start_time": "2022-09-15T18:24:18.911Z"
   },
   {
    "duration": 11,
    "start_time": "2022-09-15T18:24:18.915Z"
   },
   {
    "duration": 11,
    "start_time": "2022-09-15T18:24:18.927Z"
   },
   {
    "duration": 10,
    "start_time": "2022-09-15T18:24:18.939Z"
   },
   {
    "duration": 9,
    "start_time": "2022-09-15T18:24:18.950Z"
   },
   {
    "duration": 8,
    "start_time": "2022-09-15T18:24:18.960Z"
   },
   {
    "duration": 18,
    "start_time": "2022-09-15T18:24:18.969Z"
   },
   {
    "duration": 10,
    "start_time": "2022-09-15T18:24:19.009Z"
   },
   {
    "duration": 16,
    "start_time": "2022-09-15T18:24:19.022Z"
   },
   {
    "duration": 274,
    "start_time": "2022-09-15T18:24:19.039Z"
   },
   {
    "duration": 7,
    "start_time": "2022-09-15T18:24:19.315Z"
   },
   {
    "duration": 10,
    "start_time": "2022-09-15T18:24:19.324Z"
   },
   {
    "duration": 239,
    "start_time": "2022-09-15T18:24:19.335Z"
   },
   {
    "duration": 259,
    "start_time": "2022-09-15T18:24:19.576Z"
   },
   {
    "duration": 6,
    "start_time": "2022-09-15T18:24:19.838Z"
   },
   {
    "duration": 369,
    "start_time": "2022-09-15T18:24:19.845Z"
   },
   {
    "duration": 4,
    "start_time": "2022-09-15T18:24:20.215Z"
   },
   {
    "duration": 191,
    "start_time": "2022-09-15T18:24:20.220Z"
   },
   {
    "duration": 7,
    "start_time": "2022-09-15T18:24:20.412Z"
   },
   {
    "duration": 291,
    "start_time": "2022-09-15T18:24:20.421Z"
   },
   {
    "duration": 131,
    "start_time": "2022-09-15T18:24:20.714Z"
   },
   {
    "duration": 142,
    "start_time": "2022-09-15T18:24:20.847Z"
   },
   {
    "duration": 4,
    "start_time": "2022-09-15T18:24:20.990Z"
   },
   {
    "duration": 21,
    "start_time": "2022-09-15T18:24:20.995Z"
   },
   {
    "duration": 150,
    "start_time": "2022-09-15T18:24:21.018Z"
   },
   {
    "duration": 4,
    "start_time": "2022-09-15T18:24:21.169Z"
   },
   {
    "duration": 91,
    "start_time": "2022-09-15T18:24:21.175Z"
   },
   {
    "duration": 104,
    "start_time": "2022-09-15T18:24:21.268Z"
   },
   {
    "duration": 26,
    "start_time": "2022-09-15T18:24:21.373Z"
   },
   {
    "duration": 138,
    "start_time": "2022-09-15T18:24:21.409Z"
   },
   {
    "duration": 6,
    "start_time": "2022-09-15T18:24:21.548Z"
   },
   {
    "duration": 12,
    "start_time": "2022-09-15T18:24:21.555Z"
   },
   {
    "duration": 22,
    "start_time": "2022-09-15T18:25:11.979Z"
   },
   {
    "duration": 20,
    "start_time": "2022-09-15T18:27:36.650Z"
   },
   {
    "duration": 20,
    "start_time": "2022-09-15T18:29:03.284Z"
   },
   {
    "duration": 20,
    "start_time": "2022-09-15T18:30:15.144Z"
   },
   {
    "duration": 2,
    "start_time": "2022-09-15T18:32:13.563Z"
   },
   {
    "duration": 76,
    "start_time": "2022-09-15T18:32:13.570Z"
   },
   {
    "duration": 9,
    "start_time": "2022-09-15T18:32:13.648Z"
   },
   {
    "duration": 11,
    "start_time": "2022-09-15T18:32:13.658Z"
   },
   {
    "duration": 4,
    "start_time": "2022-09-15T18:32:13.671Z"
   },
   {
    "duration": 7,
    "start_time": "2022-09-15T18:32:13.676Z"
   },
   {
    "duration": 16,
    "start_time": "2022-09-15T18:32:13.685Z"
   },
   {
    "duration": 10,
    "start_time": "2022-09-15T18:32:13.702Z"
   },
   {
    "duration": 7,
    "start_time": "2022-09-15T18:32:13.713Z"
   },
   {
    "duration": 3,
    "start_time": "2022-09-15T18:32:13.721Z"
   },
   {
    "duration": 6,
    "start_time": "2022-09-15T18:32:13.726Z"
   },
   {
    "duration": 12,
    "start_time": "2022-09-15T18:32:13.733Z"
   },
   {
    "duration": 8,
    "start_time": "2022-09-15T18:32:13.747Z"
   },
   {
    "duration": 4,
    "start_time": "2022-09-15T18:32:13.756Z"
   },
   {
    "duration": 6,
    "start_time": "2022-09-15T18:32:13.761Z"
   },
   {
    "duration": 41,
    "start_time": "2022-09-15T18:32:13.768Z"
   },
   {
    "duration": 10,
    "start_time": "2022-09-15T18:32:13.811Z"
   },
   {
    "duration": 11,
    "start_time": "2022-09-15T18:32:13.823Z"
   },
   {
    "duration": 281,
    "start_time": "2022-09-15T18:32:13.836Z"
   },
   {
    "duration": 7,
    "start_time": "2022-09-15T18:32:14.118Z"
   },
   {
    "duration": 14,
    "start_time": "2022-09-15T18:32:14.127Z"
   },
   {
    "duration": 228,
    "start_time": "2022-09-15T18:32:14.143Z"
   },
   {
    "duration": 271,
    "start_time": "2022-09-15T18:32:14.373Z"
   },
   {
    "duration": 5,
    "start_time": "2022-09-15T18:32:14.646Z"
   },
   {
    "duration": 263,
    "start_time": "2022-09-15T18:32:14.652Z"
   },
   {
    "duration": 3,
    "start_time": "2022-09-15T18:32:14.916Z"
   },
   {
    "duration": 193,
    "start_time": "2022-09-15T18:32:14.921Z"
   },
   {
    "duration": 7,
    "start_time": "2022-09-15T18:32:15.116Z"
   },
   {
    "duration": 287,
    "start_time": "2022-09-15T18:32:15.124Z"
   },
   {
    "duration": 126,
    "start_time": "2022-09-15T18:32:15.412Z"
   },
   {
    "duration": 138,
    "start_time": "2022-09-15T18:32:15.539Z"
   },
   {
    "duration": 4,
    "start_time": "2022-09-15T18:32:15.679Z"
   },
   {
    "duration": 7,
    "start_time": "2022-09-15T18:32:15.684Z"
   },
   {
    "duration": 138,
    "start_time": "2022-09-15T18:32:15.693Z"
   },
   {
    "duration": 4,
    "start_time": "2022-09-15T18:32:15.832Z"
   },
   {
    "duration": 94,
    "start_time": "2022-09-15T18:32:15.839Z"
   },
   {
    "duration": 104,
    "start_time": "2022-09-15T18:32:15.935Z"
   },
   {
    "duration": 27,
    "start_time": "2022-09-15T18:32:16.041Z"
   },
   {
    "duration": 141,
    "start_time": "2022-09-15T18:32:16.070Z"
   },
   {
    "duration": 5,
    "start_time": "2022-09-15T18:32:16.213Z"
   },
   {
    "duration": 25,
    "start_time": "2022-09-15T18:32:16.220Z"
   },
   {
    "duration": 8,
    "start_time": "2022-09-15T18:39:53.731Z"
   },
   {
    "duration": 22,
    "start_time": "2022-09-15T18:40:11.723Z"
   },
   {
    "duration": 8,
    "start_time": "2022-09-15T19:14:01.307Z"
   },
   {
    "duration": 8,
    "start_time": "2022-09-15T19:14:21.333Z"
   },
   {
    "duration": 805,
    "start_time": "2022-09-15T19:30:49.746Z"
   },
   {
    "duration": 2,
    "start_time": "2022-09-15T19:31:29.606Z"
   },
   {
    "duration": 75,
    "start_time": "2022-09-15T19:31:29.613Z"
   },
   {
    "duration": 9,
    "start_time": "2022-09-15T19:31:29.690Z"
   },
   {
    "duration": 11,
    "start_time": "2022-09-15T19:31:29.701Z"
   },
   {
    "duration": 7,
    "start_time": "2022-09-15T19:31:29.714Z"
   },
   {
    "duration": 6,
    "start_time": "2022-09-15T19:31:29.722Z"
   },
   {
    "duration": 11,
    "start_time": "2022-09-15T19:31:29.729Z"
   },
   {
    "duration": 9,
    "start_time": "2022-09-15T19:31:29.741Z"
   },
   {
    "duration": 6,
    "start_time": "2022-09-15T19:31:29.751Z"
   },
   {
    "duration": 3,
    "start_time": "2022-09-15T19:31:29.759Z"
   },
   {
    "duration": 5,
    "start_time": "2022-09-15T19:31:29.764Z"
   },
   {
    "duration": 44,
    "start_time": "2022-09-15T19:31:29.770Z"
   },
   {
    "duration": 8,
    "start_time": "2022-09-15T19:31:29.816Z"
   },
   {
    "duration": 4,
    "start_time": "2022-09-15T19:31:29.826Z"
   },
   {
    "duration": 7,
    "start_time": "2022-09-15T19:31:29.832Z"
   },
   {
    "duration": 9,
    "start_time": "2022-09-15T19:31:29.840Z"
   },
   {
    "duration": 11,
    "start_time": "2022-09-15T19:31:29.851Z"
   },
   {
    "duration": 11,
    "start_time": "2022-09-15T19:31:29.863Z"
   },
   {
    "duration": 289,
    "start_time": "2022-09-15T19:31:29.875Z"
   },
   {
    "duration": 8,
    "start_time": "2022-09-15T19:31:30.166Z"
   },
   {
    "duration": 10,
    "start_time": "2022-09-15T19:31:30.176Z"
   },
   {
    "duration": 319,
    "start_time": "2022-09-15T19:31:30.188Z"
   },
   {
    "duration": 256,
    "start_time": "2022-09-15T19:31:30.509Z"
   },
   {
    "duration": 6,
    "start_time": "2022-09-15T19:31:30.766Z"
   },
   {
    "duration": 324,
    "start_time": "2022-09-15T19:31:30.773Z"
   },
   {
    "duration": 3,
    "start_time": "2022-09-15T19:31:31.098Z"
   },
   {
    "duration": 205,
    "start_time": "2022-09-15T19:31:31.109Z"
   },
   {
    "duration": 8,
    "start_time": "2022-09-15T19:31:31.316Z"
   },
   {
    "duration": 303,
    "start_time": "2022-09-15T19:31:31.325Z"
   },
   {
    "duration": 123,
    "start_time": "2022-09-15T19:31:31.629Z"
   },
   {
    "duration": 138,
    "start_time": "2022-09-15T19:31:31.753Z"
   },
   {
    "duration": 4,
    "start_time": "2022-09-15T19:31:31.894Z"
   },
   {
    "duration": 24,
    "start_time": "2022-09-15T19:31:31.899Z"
   },
   {
    "duration": 127,
    "start_time": "2022-09-15T19:31:31.924Z"
   },
   {
    "duration": 4,
    "start_time": "2022-09-15T19:31:32.053Z"
   },
   {
    "duration": 92,
    "start_time": "2022-09-15T19:31:32.058Z"
   },
   {
    "duration": 110,
    "start_time": "2022-09-15T19:31:32.152Z"
   },
   {
    "duration": 26,
    "start_time": "2022-09-15T19:31:32.264Z"
   },
   {
    "duration": 153,
    "start_time": "2022-09-15T19:31:32.291Z"
   },
   {
    "duration": 6,
    "start_time": "2022-09-15T19:31:32.445Z"
   },
   {
    "duration": 21,
    "start_time": "2022-09-15T19:31:32.452Z"
   },
   {
    "duration": 38,
    "start_time": "2022-09-15T19:31:32.475Z"
   },
   {
    "duration": 8,
    "start_time": "2022-09-15T19:31:32.515Z"
   },
   {
    "duration": 814,
    "start_time": "2022-09-15T19:31:32.525Z"
   },
   {
    "duration": 2,
    "start_time": "2022-09-15T19:37:30.897Z"
   },
   {
    "duration": 82,
    "start_time": "2022-09-15T19:37:30.901Z"
   },
   {
    "duration": 9,
    "start_time": "2022-09-15T19:37:30.984Z"
   },
   {
    "duration": 50,
    "start_time": "2022-09-15T19:37:30.995Z"
   },
   {
    "duration": 14,
    "start_time": "2022-09-15T19:37:31.047Z"
   },
   {
    "duration": 8,
    "start_time": "2022-09-15T19:37:31.062Z"
   },
   {
    "duration": 21,
    "start_time": "2022-09-15T19:37:31.071Z"
   },
   {
    "duration": 46,
    "start_time": "2022-09-15T19:37:31.093Z"
   },
   {
    "duration": 18,
    "start_time": "2022-09-15T19:37:31.140Z"
   },
   {
    "duration": 10,
    "start_time": "2022-09-15T19:37:31.160Z"
   },
   {
    "duration": 29,
    "start_time": "2022-09-15T19:37:31.172Z"
   },
   {
    "duration": 22,
    "start_time": "2022-09-15T19:37:31.202Z"
   },
   {
    "duration": 20,
    "start_time": "2022-09-15T19:37:31.225Z"
   },
   {
    "duration": 7,
    "start_time": "2022-09-15T19:37:31.246Z"
   },
   {
    "duration": 7,
    "start_time": "2022-09-15T19:37:31.254Z"
   },
   {
    "duration": 15,
    "start_time": "2022-09-15T19:37:31.263Z"
   },
   {
    "duration": 36,
    "start_time": "2022-09-15T19:37:31.279Z"
   },
   {
    "duration": 19,
    "start_time": "2022-09-15T19:37:31.316Z"
   },
   {
    "duration": 165,
    "start_time": "2022-09-15T19:37:31.336Z"
   },
   {
    "duration": 0,
    "start_time": "2022-09-15T19:37:31.503Z"
   },
   {
    "duration": 0,
    "start_time": "2022-09-15T19:37:31.509Z"
   },
   {
    "duration": 1,
    "start_time": "2022-09-15T19:37:31.509Z"
   },
   {
    "duration": 0,
    "start_time": "2022-09-15T19:37:31.510Z"
   },
   {
    "duration": 0,
    "start_time": "2022-09-15T19:37:31.511Z"
   },
   {
    "duration": 0,
    "start_time": "2022-09-15T19:37:31.512Z"
   },
   {
    "duration": 0,
    "start_time": "2022-09-15T19:37:31.513Z"
   },
   {
    "duration": 0,
    "start_time": "2022-09-15T19:37:31.514Z"
   },
   {
    "duration": 0,
    "start_time": "2022-09-15T19:37:31.515Z"
   },
   {
    "duration": 0,
    "start_time": "2022-09-15T19:37:31.516Z"
   },
   {
    "duration": 0,
    "start_time": "2022-09-15T19:37:31.517Z"
   },
   {
    "duration": 0,
    "start_time": "2022-09-15T19:37:31.518Z"
   },
   {
    "duration": 0,
    "start_time": "2022-09-15T19:37:31.519Z"
   },
   {
    "duration": 0,
    "start_time": "2022-09-15T19:37:31.519Z"
   },
   {
    "duration": 0,
    "start_time": "2022-09-15T19:37:31.520Z"
   },
   {
    "duration": 0,
    "start_time": "2022-09-15T19:37:31.521Z"
   },
   {
    "duration": 0,
    "start_time": "2022-09-15T19:37:31.522Z"
   },
   {
    "duration": 0,
    "start_time": "2022-09-15T19:37:31.523Z"
   },
   {
    "duration": 0,
    "start_time": "2022-09-15T19:37:31.524Z"
   },
   {
    "duration": 0,
    "start_time": "2022-09-15T19:37:31.524Z"
   },
   {
    "duration": 0,
    "start_time": "2022-09-15T19:37:31.525Z"
   },
   {
    "duration": 0,
    "start_time": "2022-09-15T19:37:31.526Z"
   },
   {
    "duration": 0,
    "start_time": "2022-09-15T19:37:31.527Z"
   },
   {
    "duration": 0,
    "start_time": "2022-09-15T19:37:31.528Z"
   },
   {
    "duration": 0,
    "start_time": "2022-09-15T19:37:31.528Z"
   },
   {
    "duration": 24,
    "start_time": "2022-09-15T19:40:28.483Z"
   },
   {
    "duration": 250,
    "start_time": "2022-09-15T19:41:42.086Z"
   },
   {
    "duration": 3,
    "start_time": "2022-09-15T19:41:47.998Z"
   },
   {
    "duration": 72,
    "start_time": "2022-09-15T19:41:48.007Z"
   },
   {
    "duration": 9,
    "start_time": "2022-09-15T19:41:48.081Z"
   },
   {
    "duration": 10,
    "start_time": "2022-09-15T19:41:48.091Z"
   },
   {
    "duration": 5,
    "start_time": "2022-09-15T19:41:48.103Z"
   },
   {
    "duration": 8,
    "start_time": "2022-09-15T19:41:48.109Z"
   },
   {
    "duration": 14,
    "start_time": "2022-09-15T19:41:48.119Z"
   },
   {
    "duration": 9,
    "start_time": "2022-09-15T19:41:48.145Z"
   },
   {
    "duration": 5,
    "start_time": "2022-09-15T19:41:48.160Z"
   },
   {
    "duration": 5,
    "start_time": "2022-09-15T19:41:48.232Z"
   },
   {
    "duration": 6,
    "start_time": "2022-09-15T19:41:48.242Z"
   },
   {
    "duration": 10,
    "start_time": "2022-09-15T19:41:48.268Z"
   },
   {
    "duration": 8,
    "start_time": "2022-09-15T19:41:48.282Z"
   },
   {
    "duration": 2,
    "start_time": "2022-09-15T19:41:48.297Z"
   },
   {
    "duration": 4,
    "start_time": "2022-09-15T19:41:48.355Z"
   },
   {
    "duration": 7,
    "start_time": "2022-09-15T19:41:48.368Z"
   },
   {
    "duration": 9,
    "start_time": "2022-09-15T19:41:48.389Z"
   },
   {
    "duration": 10,
    "start_time": "2022-09-15T19:41:48.445Z"
   },
   {
    "duration": 248,
    "start_time": "2022-09-15T19:41:48.475Z"
   },
   {
    "duration": 7,
    "start_time": "2022-09-15T19:41:48.725Z"
   },
   {
    "duration": 10,
    "start_time": "2022-09-15T19:41:48.733Z"
   },
   {
    "duration": 243,
    "start_time": "2022-09-15T19:41:48.745Z"
   },
   {
    "duration": 233,
    "start_time": "2022-09-15T19:41:48.990Z"
   },
   {
    "duration": 6,
    "start_time": "2022-09-15T19:41:49.224Z"
   },
   {
    "duration": 287,
    "start_time": "2022-09-15T19:41:49.232Z"
   },
   {
    "duration": 3,
    "start_time": "2022-09-15T19:41:49.521Z"
   },
   {
    "duration": 191,
    "start_time": "2022-09-15T19:41:49.525Z"
   },
   {
    "duration": 6,
    "start_time": "2022-09-15T19:41:49.719Z"
   },
   {
    "duration": 284,
    "start_time": "2022-09-15T19:41:49.727Z"
   },
   {
    "duration": 141,
    "start_time": "2022-09-15T19:41:50.013Z"
   },
   {
    "duration": 138,
    "start_time": "2022-09-15T19:41:50.155Z"
   },
   {
    "duration": 4,
    "start_time": "2022-09-15T19:41:50.294Z"
   },
   {
    "duration": 15,
    "start_time": "2022-09-15T19:41:50.299Z"
   },
   {
    "duration": 135,
    "start_time": "2022-09-15T19:41:50.315Z"
   },
   {
    "duration": 4,
    "start_time": "2022-09-15T19:41:50.452Z"
   },
   {
    "duration": 16,
    "start_time": "2022-09-15T19:41:50.457Z"
   },
   {
    "duration": 0,
    "start_time": "2022-09-15T19:41:50.474Z"
   },
   {
    "duration": 0,
    "start_time": "2022-09-15T19:41:50.475Z"
   },
   {
    "duration": 0,
    "start_time": "2022-09-15T19:41:50.476Z"
   },
   {
    "duration": 0,
    "start_time": "2022-09-15T19:41:50.476Z"
   },
   {
    "duration": 0,
    "start_time": "2022-09-15T19:41:50.478Z"
   },
   {
    "duration": 0,
    "start_time": "2022-09-15T19:41:50.479Z"
   },
   {
    "duration": 0,
    "start_time": "2022-09-15T19:41:50.479Z"
   },
   {
    "duration": 0,
    "start_time": "2022-09-15T19:41:50.480Z"
   },
   {
    "duration": 155,
    "start_time": "2022-09-15T19:43:53.017Z"
   },
   {
    "duration": 3,
    "start_time": "2022-09-15T19:44:17.392Z"
   },
   {
    "duration": 73,
    "start_time": "2022-09-15T19:44:17.400Z"
   },
   {
    "duration": 9,
    "start_time": "2022-09-15T19:44:17.474Z"
   },
   {
    "duration": 13,
    "start_time": "2022-09-15T19:44:17.484Z"
   },
   {
    "duration": 12,
    "start_time": "2022-09-15T19:44:17.499Z"
   },
   {
    "duration": 8,
    "start_time": "2022-09-15T19:44:17.512Z"
   },
   {
    "duration": 13,
    "start_time": "2022-09-15T19:44:17.521Z"
   },
   {
    "duration": 13,
    "start_time": "2022-09-15T19:44:17.535Z"
   },
   {
    "duration": 10,
    "start_time": "2022-09-15T19:44:17.549Z"
   },
   {
    "duration": 3,
    "start_time": "2022-09-15T19:44:17.561Z"
   },
   {
    "duration": 7,
    "start_time": "2022-09-15T19:44:17.565Z"
   },
   {
    "duration": 18,
    "start_time": "2022-09-15T19:44:17.574Z"
   },
   {
    "duration": 23,
    "start_time": "2022-09-15T19:44:17.593Z"
   },
   {
    "duration": 10,
    "start_time": "2022-09-15T19:44:17.618Z"
   },
   {
    "duration": 18,
    "start_time": "2022-09-15T19:44:17.630Z"
   },
   {
    "duration": 9,
    "start_time": "2022-09-15T19:44:17.649Z"
   },
   {
    "duration": 12,
    "start_time": "2022-09-15T19:44:17.660Z"
   },
   {
    "duration": 16,
    "start_time": "2022-09-15T19:44:17.674Z"
   },
   {
    "duration": 254,
    "start_time": "2022-09-15T19:44:17.692Z"
   },
   {
    "duration": 8,
    "start_time": "2022-09-15T19:44:17.947Z"
   },
   {
    "duration": 9,
    "start_time": "2022-09-15T19:44:17.956Z"
   },
   {
    "duration": 242,
    "start_time": "2022-09-15T19:44:17.967Z"
   },
   {
    "duration": 239,
    "start_time": "2022-09-15T19:44:18.210Z"
   },
   {
    "duration": 5,
    "start_time": "2022-09-15T19:44:18.451Z"
   },
   {
    "duration": 278,
    "start_time": "2022-09-15T19:44:18.457Z"
   },
   {
    "duration": 3,
    "start_time": "2022-09-15T19:44:18.736Z"
   },
   {
    "duration": 197,
    "start_time": "2022-09-15T19:44:18.741Z"
   },
   {
    "duration": 6,
    "start_time": "2022-09-15T19:44:18.940Z"
   },
   {
    "duration": 270,
    "start_time": "2022-09-15T19:44:18.948Z"
   },
   {
    "duration": 136,
    "start_time": "2022-09-15T19:44:19.220Z"
   },
   {
    "duration": 126,
    "start_time": "2022-09-15T19:44:19.358Z"
   },
   {
    "duration": 3,
    "start_time": "2022-09-15T19:44:19.486Z"
   },
   {
    "duration": 7,
    "start_time": "2022-09-15T19:44:19.490Z"
   },
   {
    "duration": 132,
    "start_time": "2022-09-15T19:44:19.509Z"
   },
   {
    "duration": 4,
    "start_time": "2022-09-15T19:44:19.643Z"
   },
   {
    "duration": 90,
    "start_time": "2022-09-15T19:44:19.649Z"
   },
   {
    "duration": 106,
    "start_time": "2022-09-15T19:44:19.741Z"
   },
   {
    "duration": 26,
    "start_time": "2022-09-15T19:44:19.850Z"
   },
   {
    "duration": 136,
    "start_time": "2022-09-15T19:44:19.878Z"
   },
   {
    "duration": 1031,
    "start_time": "2022-09-15T19:44:20.015Z"
   },
   {
    "duration": 0,
    "start_time": "2022-09-15T19:44:21.048Z"
   },
   {
    "duration": 0,
    "start_time": "2022-09-15T19:44:21.049Z"
   },
   {
    "duration": 0,
    "start_time": "2022-09-15T19:44:21.050Z"
   },
   {
    "duration": 0,
    "start_time": "2022-09-15T19:44:21.051Z"
   },
   {
    "duration": 128,
    "start_time": "2022-09-15T19:45:33.570Z"
   },
   {
    "duration": 6,
    "start_time": "2022-09-15T19:45:36.922Z"
   },
   {
    "duration": 20,
    "start_time": "2022-09-15T19:45:41.236Z"
   },
   {
    "duration": 20,
    "start_time": "2022-09-15T19:45:44.268Z"
   },
   {
    "duration": 7,
    "start_time": "2022-09-15T19:45:51.690Z"
   },
   {
    "duration": 981,
    "start_time": "2022-09-15T19:46:05.460Z"
   },
   {
    "duration": 769,
    "start_time": "2022-09-15T19:46:34.825Z"
   },
   {
    "duration": 10,
    "start_time": "2022-09-15T19:47:05.811Z"
   },
   {
    "duration": 10,
    "start_time": "2022-09-15T19:54:48.424Z"
   },
   {
    "duration": 10,
    "start_time": "2022-09-15T19:56:44.684Z"
   },
   {
    "duration": 18,
    "start_time": "2022-09-15T20:04:24.536Z"
   },
   {
    "duration": 11,
    "start_time": "2022-09-15T20:04:49.969Z"
   },
   {
    "duration": 13,
    "start_time": "2022-09-15T20:05:13.635Z"
   },
   {
    "duration": 14,
    "start_time": "2022-09-15T20:05:17.948Z"
   },
   {
    "duration": 13,
    "start_time": "2022-09-15T20:07:39.839Z"
   },
   {
    "duration": 23,
    "start_time": "2022-09-15T20:08:09.886Z"
   },
   {
    "duration": 11,
    "start_time": "2022-09-15T20:10:29.616Z"
   },
   {
    "duration": 24,
    "start_time": "2022-09-15T20:10:30.753Z"
   },
   {
    "duration": 21,
    "start_time": "2022-09-15T20:15:07.076Z"
   },
   {
    "duration": 1014,
    "start_time": "2022-09-15T20:21:00.789Z"
   },
   {
    "duration": 15,
    "start_time": "2022-09-15T20:24:20.373Z"
   },
   {
    "duration": 728,
    "start_time": "2022-09-15T20:26:40.600Z"
   },
   {
    "duration": 10,
    "start_time": "2022-09-15T20:27:15.141Z"
   },
   {
    "duration": 10,
    "start_time": "2022-09-15T20:27:46.100Z"
   },
   {
    "duration": 3,
    "start_time": "2022-09-15T21:41:10.577Z"
   },
   {
    "duration": 71,
    "start_time": "2022-09-15T21:41:10.582Z"
   },
   {
    "duration": 8,
    "start_time": "2022-09-15T21:41:10.655Z"
   },
   {
    "duration": 12,
    "start_time": "2022-09-15T21:41:10.664Z"
   },
   {
    "duration": 4,
    "start_time": "2022-09-15T21:41:10.677Z"
   },
   {
    "duration": 6,
    "start_time": "2022-09-15T21:41:10.682Z"
   },
   {
    "duration": 12,
    "start_time": "2022-09-15T21:41:10.689Z"
   },
   {
    "duration": 10,
    "start_time": "2022-09-15T21:41:10.702Z"
   },
   {
    "duration": 6,
    "start_time": "2022-09-15T21:41:10.713Z"
   },
   {
    "duration": 2,
    "start_time": "2022-09-15T21:41:10.721Z"
   },
   {
    "duration": 6,
    "start_time": "2022-09-15T21:41:10.725Z"
   },
   {
    "duration": 10,
    "start_time": "2022-09-15T21:41:10.732Z"
   },
   {
    "duration": 8,
    "start_time": "2022-09-15T21:41:10.743Z"
   },
   {
    "duration": 4,
    "start_time": "2022-09-15T21:41:10.752Z"
   },
   {
    "duration": 6,
    "start_time": "2022-09-15T21:41:10.757Z"
   },
   {
    "duration": 8,
    "start_time": "2022-09-15T21:41:10.765Z"
   },
   {
    "duration": 36,
    "start_time": "2022-09-15T21:41:10.774Z"
   },
   {
    "duration": 12,
    "start_time": "2022-09-15T21:41:10.813Z"
   },
   {
    "duration": 287,
    "start_time": "2022-09-15T21:41:10.826Z"
   },
   {
    "duration": 8,
    "start_time": "2022-09-15T21:41:11.115Z"
   },
   {
    "duration": 8,
    "start_time": "2022-09-15T21:41:11.126Z"
   },
   {
    "duration": 249,
    "start_time": "2022-09-15T21:41:11.135Z"
   },
   {
    "duration": 240,
    "start_time": "2022-09-15T21:41:11.386Z"
   },
   {
    "duration": 6,
    "start_time": "2022-09-15T21:41:11.627Z"
   },
   {
    "duration": 288,
    "start_time": "2022-09-15T21:41:11.634Z"
   },
   {
    "duration": 4,
    "start_time": "2022-09-15T21:41:11.923Z"
   },
   {
    "duration": 193,
    "start_time": "2022-09-15T21:41:11.928Z"
   },
   {
    "duration": 7,
    "start_time": "2022-09-15T21:41:12.123Z"
   },
   {
    "duration": 278,
    "start_time": "2022-09-15T21:41:12.133Z"
   },
   {
    "duration": 131,
    "start_time": "2022-09-15T21:41:12.412Z"
   },
   {
    "duration": 131,
    "start_time": "2022-09-15T21:41:12.544Z"
   },
   {
    "duration": 3,
    "start_time": "2022-09-15T21:41:12.677Z"
   },
   {
    "duration": 10,
    "start_time": "2022-09-15T21:41:12.681Z"
   },
   {
    "duration": 222,
    "start_time": "2022-09-15T21:41:12.693Z"
   },
   {
    "duration": 5,
    "start_time": "2022-09-15T21:41:12.916Z"
   },
   {
    "duration": 94,
    "start_time": "2022-09-15T21:41:12.922Z"
   },
   {
    "duration": 100,
    "start_time": "2022-09-15T21:41:13.017Z"
   },
   {
    "duration": 26,
    "start_time": "2022-09-15T21:41:13.119Z"
   },
   {
    "duration": 170,
    "start_time": "2022-09-15T21:41:13.146Z"
   },
   {
    "duration": 6,
    "start_time": "2022-09-15T21:41:13.318Z"
   },
   {
    "duration": 21,
    "start_time": "2022-09-15T21:41:13.325Z"
   },
   {
    "duration": 19,
    "start_time": "2022-09-15T21:41:13.348Z"
   },
   {
    "duration": 8,
    "start_time": "2022-09-15T21:41:13.368Z"
   },
   {
    "duration": 35,
    "start_time": "2022-09-15T21:41:13.377Z"
   },
   {
    "duration": 24,
    "start_time": "2022-09-15T21:41:13.413Z"
   },
   {
    "duration": 19,
    "start_time": "2022-09-15T21:41:13.439Z"
   },
   {
    "duration": 11,
    "start_time": "2022-09-15T21:41:13.459Z"
   },
   {
    "duration": 8,
    "start_time": "2022-09-15T21:41:13.472Z"
   },
   {
    "duration": 1184,
    "start_time": "2022-09-16T12:08:50.216Z"
   },
   {
    "duration": 114,
    "start_time": "2022-09-16T12:08:51.402Z"
   },
   {
    "duration": 14,
    "start_time": "2022-09-16T12:08:51.518Z"
   },
   {
    "duration": 19,
    "start_time": "2022-09-16T12:08:51.535Z"
   },
   {
    "duration": 7,
    "start_time": "2022-09-16T12:08:51.556Z"
   },
   {
    "duration": 41,
    "start_time": "2022-09-16T12:08:51.565Z"
   },
   {
    "duration": 15,
    "start_time": "2022-09-16T12:08:51.608Z"
   },
   {
    "duration": 23,
    "start_time": "2022-09-16T12:08:51.625Z"
   },
   {
    "duration": 41,
    "start_time": "2022-09-16T12:08:51.651Z"
   },
   {
    "duration": 9,
    "start_time": "2022-09-16T12:08:51.696Z"
   },
   {
    "duration": 22,
    "start_time": "2022-09-16T12:08:51.707Z"
   },
   {
    "duration": 118,
    "start_time": "2022-09-16T12:08:51.731Z"
   },
   {
    "duration": 0,
    "start_time": "2022-09-16T12:08:51.852Z"
   },
   {
    "duration": 0,
    "start_time": "2022-09-16T12:08:51.853Z"
   },
   {
    "duration": 0,
    "start_time": "2022-09-16T12:08:51.855Z"
   },
   {
    "duration": 0,
    "start_time": "2022-09-16T12:08:51.856Z"
   },
   {
    "duration": 0,
    "start_time": "2022-09-16T12:08:51.857Z"
   },
   {
    "duration": 0,
    "start_time": "2022-09-16T12:08:51.859Z"
   },
   {
    "duration": 0,
    "start_time": "2022-09-16T12:08:51.860Z"
   },
   {
    "duration": 0,
    "start_time": "2022-09-16T12:08:51.861Z"
   },
   {
    "duration": 0,
    "start_time": "2022-09-16T12:08:51.862Z"
   },
   {
    "duration": 0,
    "start_time": "2022-09-16T12:08:51.863Z"
   },
   {
    "duration": 0,
    "start_time": "2022-09-16T12:08:51.865Z"
   },
   {
    "duration": 0,
    "start_time": "2022-09-16T12:08:51.865Z"
   },
   {
    "duration": 0,
    "start_time": "2022-09-16T12:08:51.867Z"
   },
   {
    "duration": 0,
    "start_time": "2022-09-16T12:08:51.868Z"
   },
   {
    "duration": 0,
    "start_time": "2022-09-16T12:08:51.869Z"
   },
   {
    "duration": 0,
    "start_time": "2022-09-16T12:08:51.870Z"
   },
   {
    "duration": 0,
    "start_time": "2022-09-16T12:08:51.873Z"
   },
   {
    "duration": 0,
    "start_time": "2022-09-16T12:08:51.875Z"
   },
   {
    "duration": 0,
    "start_time": "2022-09-16T12:08:51.876Z"
   },
   {
    "duration": 0,
    "start_time": "2022-09-16T12:08:51.877Z"
   },
   {
    "duration": 0,
    "start_time": "2022-09-16T12:08:51.879Z"
   },
   {
    "duration": 0,
    "start_time": "2022-09-16T12:08:51.880Z"
   },
   {
    "duration": 0,
    "start_time": "2022-09-16T12:08:51.881Z"
   },
   {
    "duration": 0,
    "start_time": "2022-09-16T12:08:51.926Z"
   },
   {
    "duration": 0,
    "start_time": "2022-09-16T12:08:51.927Z"
   },
   {
    "duration": 0,
    "start_time": "2022-09-16T12:08:51.929Z"
   },
   {
    "duration": 0,
    "start_time": "2022-09-16T12:08:51.930Z"
   },
   {
    "duration": 0,
    "start_time": "2022-09-16T12:08:51.931Z"
   },
   {
    "duration": 0,
    "start_time": "2022-09-16T12:08:51.932Z"
   },
   {
    "duration": 0,
    "start_time": "2022-09-16T12:08:51.933Z"
   },
   {
    "duration": 0,
    "start_time": "2022-09-16T12:08:51.934Z"
   },
   {
    "duration": 0,
    "start_time": "2022-09-16T12:08:51.935Z"
   },
   {
    "duration": 0,
    "start_time": "2022-09-16T12:08:51.937Z"
   },
   {
    "duration": 0,
    "start_time": "2022-09-16T12:08:51.938Z"
   },
   {
    "duration": 0,
    "start_time": "2022-09-16T12:08:51.939Z"
   },
   {
    "duration": 0,
    "start_time": "2022-09-16T12:08:51.940Z"
   },
   {
    "duration": 11,
    "start_time": "2022-09-16T12:26:48.037Z"
   },
   {
    "duration": 3,
    "start_time": "2022-09-16T12:26:48.679Z"
   },
   {
    "duration": 6,
    "start_time": "2022-09-16T12:26:48.900Z"
   },
   {
    "duration": 9,
    "start_time": "2022-09-16T12:26:49.421Z"
   },
   {
    "duration": 13,
    "start_time": "2022-09-16T12:26:50.375Z"
   },
   {
    "duration": 12,
    "start_time": "2022-09-16T12:26:51.095Z"
   },
   {
    "duration": 295,
    "start_time": "2022-09-16T12:26:52.289Z"
   },
   {
    "duration": 9,
    "start_time": "2022-09-16T12:26:52.864Z"
   },
   {
    "duration": 11,
    "start_time": "2022-09-16T12:26:55.850Z"
   },
   {
    "duration": 348,
    "start_time": "2022-09-16T12:26:56.077Z"
   },
   {
    "duration": 338,
    "start_time": "2022-09-16T12:26:58.800Z"
   },
   {
    "duration": 6,
    "start_time": "2022-09-16T12:26:59.618Z"
   },
   {
    "duration": 306,
    "start_time": "2022-09-16T12:27:00.152Z"
   },
   {
    "duration": 4,
    "start_time": "2022-09-16T12:27:00.701Z"
   },
   {
    "duration": 219,
    "start_time": "2022-09-16T12:27:00.876Z"
   },
   {
    "duration": 8,
    "start_time": "2022-09-16T12:27:01.431Z"
   },
   {
    "duration": 328,
    "start_time": "2022-09-16T12:27:01.624Z"
   },
   {
    "duration": 135,
    "start_time": "2022-09-16T12:27:02.367Z"
   },
   {
    "duration": 166,
    "start_time": "2022-09-16T12:27:02.581Z"
   },
   {
    "duration": 4,
    "start_time": "2022-09-16T12:27:03.146Z"
   },
   {
    "duration": 9,
    "start_time": "2022-09-16T12:27:03.908Z"
   },
   {
    "duration": 152,
    "start_time": "2022-09-16T12:27:04.094Z"
   },
   {
    "duration": 5,
    "start_time": "2022-09-16T12:27:04.688Z"
   },
   {
    "duration": 90,
    "start_time": "2022-09-16T12:27:05.467Z"
   },
   {
    "duration": 118,
    "start_time": "2022-09-16T12:27:05.636Z"
   },
   {
    "duration": 33,
    "start_time": "2022-09-16T12:27:05.838Z"
   },
   {
    "duration": 151,
    "start_time": "2022-09-16T12:27:06.029Z"
   },
   {
    "duration": 8,
    "start_time": "2022-09-16T12:27:06.246Z"
   },
   {
    "duration": 23,
    "start_time": "2022-09-16T12:27:06.424Z"
   },
   {
    "duration": 25,
    "start_time": "2022-09-16T12:27:06.810Z"
   },
   {
    "duration": 11,
    "start_time": "2022-09-16T12:27:07.813Z"
   },
   {
    "duration": 13,
    "start_time": "2022-09-16T12:27:08.481Z"
   },
   {
    "duration": 26,
    "start_time": "2022-09-16T12:27:08.665Z"
   },
   {
    "duration": 30,
    "start_time": "2022-09-16T12:27:09.075Z"
   },
   {
    "duration": 14,
    "start_time": "2022-09-16T12:27:09.650Z"
   },
   {
    "duration": 12,
    "start_time": "2022-09-16T12:27:10.052Z"
   },
   {
    "duration": 1340,
    "start_time": "2022-09-16T12:50:20.544Z"
   },
   {
    "duration": 299,
    "start_time": "2022-09-16T12:50:21.887Z"
   },
   {
    "duration": 29,
    "start_time": "2022-09-16T12:50:22.189Z"
   },
   {
    "duration": 24,
    "start_time": "2022-09-16T12:50:22.226Z"
   },
   {
    "duration": 12,
    "start_time": "2022-09-16T12:50:22.252Z"
   },
   {
    "duration": 21,
    "start_time": "2022-09-16T12:50:22.266Z"
   },
   {
    "duration": 30,
    "start_time": "2022-09-16T12:50:22.290Z"
   },
   {
    "duration": 14,
    "start_time": "2022-09-16T12:50:22.324Z"
   },
   {
    "duration": 10,
    "start_time": "2022-09-16T12:50:22.340Z"
   },
   {
    "duration": 4,
    "start_time": "2022-09-16T12:50:22.355Z"
   },
   {
    "duration": 11,
    "start_time": "2022-09-16T12:50:22.361Z"
   },
   {
    "duration": 117,
    "start_time": "2022-09-16T12:50:22.374Z"
   },
   {
    "duration": 0,
    "start_time": "2022-09-16T12:50:22.494Z"
   },
   {
    "duration": 0,
    "start_time": "2022-09-16T12:50:22.496Z"
   },
   {
    "duration": 0,
    "start_time": "2022-09-16T12:50:22.498Z"
   },
   {
    "duration": 0,
    "start_time": "2022-09-16T12:50:22.499Z"
   },
   {
    "duration": 0,
    "start_time": "2022-09-16T12:50:22.500Z"
   },
   {
    "duration": 0,
    "start_time": "2022-09-16T12:50:22.505Z"
   },
   {
    "duration": 0,
    "start_time": "2022-09-16T12:50:22.506Z"
   },
   {
    "duration": 0,
    "start_time": "2022-09-16T12:50:22.506Z"
   },
   {
    "duration": 0,
    "start_time": "2022-09-16T12:50:22.507Z"
   },
   {
    "duration": 0,
    "start_time": "2022-09-16T12:50:22.508Z"
   },
   {
    "duration": 0,
    "start_time": "2022-09-16T12:50:22.509Z"
   },
   {
    "duration": 0,
    "start_time": "2022-09-16T12:50:22.510Z"
   },
   {
    "duration": 0,
    "start_time": "2022-09-16T12:50:22.515Z"
   },
   {
    "duration": 0,
    "start_time": "2022-09-16T12:50:22.515Z"
   },
   {
    "duration": 0,
    "start_time": "2022-09-16T12:50:22.516Z"
   },
   {
    "duration": 0,
    "start_time": "2022-09-16T12:50:22.517Z"
   },
   {
    "duration": 0,
    "start_time": "2022-09-16T12:50:22.522Z"
   },
   {
    "duration": 0,
    "start_time": "2022-09-16T12:50:22.523Z"
   },
   {
    "duration": 0,
    "start_time": "2022-09-16T12:50:22.524Z"
   },
   {
    "duration": 0,
    "start_time": "2022-09-16T12:50:22.525Z"
   },
   {
    "duration": 0,
    "start_time": "2022-09-16T12:50:22.526Z"
   },
   {
    "duration": 1,
    "start_time": "2022-09-16T12:50:22.526Z"
   },
   {
    "duration": 0,
    "start_time": "2022-09-16T12:50:22.527Z"
   },
   {
    "duration": 0,
    "start_time": "2022-09-16T12:50:22.528Z"
   },
   {
    "duration": 0,
    "start_time": "2022-09-16T12:50:22.529Z"
   },
   {
    "duration": 0,
    "start_time": "2022-09-16T12:50:22.530Z"
   },
   {
    "duration": 0,
    "start_time": "2022-09-16T12:50:22.532Z"
   },
   {
    "duration": 0,
    "start_time": "2022-09-16T12:50:22.533Z"
   },
   {
    "duration": 0,
    "start_time": "2022-09-16T12:50:22.534Z"
   },
   {
    "duration": 0,
    "start_time": "2022-09-16T12:50:22.536Z"
   },
   {
    "duration": 0,
    "start_time": "2022-09-16T12:50:22.537Z"
   },
   {
    "duration": 0,
    "start_time": "2022-09-16T12:50:22.539Z"
   },
   {
    "duration": 0,
    "start_time": "2022-09-16T12:50:22.541Z"
   },
   {
    "duration": 0,
    "start_time": "2022-09-16T12:50:22.542Z"
   },
   {
    "duration": 0,
    "start_time": "2022-09-16T12:50:22.543Z"
   },
   {
    "duration": 0,
    "start_time": "2022-09-16T12:50:22.545Z"
   },
   {
    "duration": 12,
    "start_time": "2022-09-16T12:51:23.125Z"
   },
   {
    "duration": 4,
    "start_time": "2022-09-16T12:51:40.931Z"
   },
   {
    "duration": 82,
    "start_time": "2022-09-16T12:51:40.941Z"
   },
   {
    "duration": 14,
    "start_time": "2022-09-16T12:51:41.026Z"
   },
   {
    "duration": 11,
    "start_time": "2022-09-16T12:51:41.043Z"
   },
   {
    "duration": 6,
    "start_time": "2022-09-16T12:51:41.055Z"
   },
   {
    "duration": 9,
    "start_time": "2022-09-16T12:51:41.063Z"
   },
   {
    "duration": 11,
    "start_time": "2022-09-16T12:51:41.074Z"
   },
   {
    "duration": 30,
    "start_time": "2022-09-16T12:51:41.087Z"
   },
   {
    "duration": 7,
    "start_time": "2022-09-16T12:51:41.119Z"
   },
   {
    "duration": 8,
    "start_time": "2022-09-16T12:51:41.129Z"
   },
   {
    "duration": 10,
    "start_time": "2022-09-16T12:51:41.139Z"
   },
   {
    "duration": 17,
    "start_time": "2022-09-16T12:51:41.151Z"
   },
   {
    "duration": 42,
    "start_time": "2022-09-16T12:51:41.170Z"
   },
   {
    "duration": 8,
    "start_time": "2022-09-16T12:51:41.214Z"
   },
   {
    "duration": 37,
    "start_time": "2022-09-16T12:51:41.224Z"
   },
   {
    "duration": 10,
    "start_time": "2022-09-16T12:51:41.264Z"
   },
   {
    "duration": 16,
    "start_time": "2022-09-16T12:51:41.276Z"
   },
   {
    "duration": 21,
    "start_time": "2022-09-16T12:51:41.294Z"
   },
   {
    "duration": 339,
    "start_time": "2022-09-16T12:51:41.317Z"
   },
   {
    "duration": 11,
    "start_time": "2022-09-16T12:51:41.658Z"
   },
   {
    "duration": 17,
    "start_time": "2022-09-16T12:51:41.672Z"
   },
   {
    "duration": 332,
    "start_time": "2022-09-16T12:51:41.691Z"
   },
   {
    "duration": 245,
    "start_time": "2022-09-16T12:51:42.024Z"
   },
   {
    "duration": 6,
    "start_time": "2022-09-16T12:51:42.272Z"
   },
   {
    "duration": 410,
    "start_time": "2022-09-16T12:51:42.280Z"
   },
   {
    "duration": 12,
    "start_time": "2022-09-16T12:51:42.693Z"
   },
   {
    "duration": 218,
    "start_time": "2022-09-16T12:51:42.707Z"
   },
   {
    "duration": 8,
    "start_time": "2022-09-16T12:51:42.927Z"
   },
   {
    "duration": 285,
    "start_time": "2022-09-16T12:51:42.937Z"
   },
   {
    "duration": 129,
    "start_time": "2022-09-16T12:51:43.224Z"
   },
   {
    "duration": 152,
    "start_time": "2022-09-16T12:51:43.355Z"
   },
   {
    "duration": 5,
    "start_time": "2022-09-16T12:51:43.508Z"
   },
   {
    "duration": 10,
    "start_time": "2022-09-16T12:51:43.515Z"
   },
   {
    "duration": 147,
    "start_time": "2022-09-16T12:51:43.527Z"
   },
   {
    "duration": 4,
    "start_time": "2022-09-16T12:51:43.676Z"
   },
   {
    "duration": 97,
    "start_time": "2022-09-16T12:51:43.681Z"
   },
   {
    "duration": 117,
    "start_time": "2022-09-16T12:51:43.779Z"
   },
   {
    "duration": 33,
    "start_time": "2022-09-16T12:51:43.897Z"
   },
   {
    "duration": 140,
    "start_time": "2022-09-16T12:51:43.932Z"
   },
   {
    "duration": 7,
    "start_time": "2022-09-16T12:51:44.073Z"
   },
   {
    "duration": 36,
    "start_time": "2022-09-16T12:51:44.082Z"
   },
   {
    "duration": 19,
    "start_time": "2022-09-16T12:51:44.120Z"
   },
   {
    "duration": 10,
    "start_time": "2022-09-16T12:51:44.141Z"
   },
   {
    "duration": 18,
    "start_time": "2022-09-16T12:51:44.153Z"
   },
   {
    "duration": 63,
    "start_time": "2022-09-16T12:51:44.174Z"
   },
   {
    "duration": 30,
    "start_time": "2022-09-16T12:51:44.239Z"
   },
   {
    "duration": 39,
    "start_time": "2022-09-16T12:51:44.272Z"
   },
   {
    "duration": 14,
    "start_time": "2022-09-16T12:51:44.313Z"
   },
   {
    "duration": 15,
    "start_time": "2022-09-16T16:46:20.952Z"
   },
   {
    "duration": 11,
    "start_time": "2022-09-16T16:46:25.207Z"
   },
   {
    "duration": 128,
    "start_time": "2022-09-16T16:46:25.232Z"
   },
   {
    "duration": 19,
    "start_time": "2022-09-16T16:46:25.363Z"
   },
   {
    "duration": 12,
    "start_time": "2022-09-16T16:46:25.384Z"
   },
   {
    "duration": 78,
    "start_time": "2022-09-16T16:46:25.399Z"
   },
   {
    "duration": 14,
    "start_time": "2022-09-16T16:46:25.479Z"
   },
   {
    "duration": 23,
    "start_time": "2022-09-16T16:46:25.496Z"
   },
   {
    "duration": 61,
    "start_time": "2022-09-16T16:46:25.521Z"
   },
   {
    "duration": 10,
    "start_time": "2022-09-16T16:46:25.584Z"
   },
   {
    "duration": 5,
    "start_time": "2022-09-16T16:46:25.596Z"
   },
   {
    "duration": 70,
    "start_time": "2022-09-16T16:46:25.605Z"
   },
   {
    "duration": 16,
    "start_time": "2022-09-16T16:46:25.677Z"
   },
   {
    "duration": 16,
    "start_time": "2022-09-16T16:46:25.696Z"
   },
   {
    "duration": 57,
    "start_time": "2022-09-16T16:46:25.715Z"
   },
   {
    "duration": 13,
    "start_time": "2022-09-16T16:46:25.774Z"
   },
   {
    "duration": 12,
    "start_time": "2022-09-16T16:46:25.789Z"
   },
   {
    "duration": 67,
    "start_time": "2022-09-16T16:46:25.803Z"
   },
   {
    "duration": 0,
    "start_time": "2022-09-16T16:46:25.873Z"
   },
   {
    "duration": 0,
    "start_time": "2022-09-16T16:46:25.875Z"
   },
   {
    "duration": 0,
    "start_time": "2022-09-16T16:46:25.876Z"
   },
   {
    "duration": 0,
    "start_time": "2022-09-16T16:46:25.878Z"
   },
   {
    "duration": 0,
    "start_time": "2022-09-16T16:46:25.880Z"
   },
   {
    "duration": 0,
    "start_time": "2022-09-16T16:46:25.882Z"
   },
   {
    "duration": 0,
    "start_time": "2022-09-16T16:46:25.884Z"
   },
   {
    "duration": 0,
    "start_time": "2022-09-16T16:46:25.885Z"
   },
   {
    "duration": 0,
    "start_time": "2022-09-16T16:46:25.887Z"
   },
   {
    "duration": 0,
    "start_time": "2022-09-16T16:46:25.889Z"
   },
   {
    "duration": 0,
    "start_time": "2022-09-16T16:46:25.890Z"
   },
   {
    "duration": 0,
    "start_time": "2022-09-16T16:46:25.892Z"
   },
   {
    "duration": 0,
    "start_time": "2022-09-16T16:46:25.893Z"
   },
   {
    "duration": 0,
    "start_time": "2022-09-16T16:46:25.895Z"
   },
   {
    "duration": 0,
    "start_time": "2022-09-16T16:46:25.895Z"
   },
   {
    "duration": 0,
    "start_time": "2022-09-16T16:46:25.896Z"
   },
   {
    "duration": 1,
    "start_time": "2022-09-16T16:46:25.897Z"
   },
   {
    "duration": 0,
    "start_time": "2022-09-16T16:46:25.899Z"
   },
   {
    "duration": 0,
    "start_time": "2022-09-16T16:46:25.900Z"
   },
   {
    "duration": 0,
    "start_time": "2022-09-16T16:46:25.901Z"
   },
   {
    "duration": 0,
    "start_time": "2022-09-16T16:46:25.902Z"
   },
   {
    "duration": 0,
    "start_time": "2022-09-16T16:46:25.924Z"
   },
   {
    "duration": 0,
    "start_time": "2022-09-16T16:46:25.925Z"
   },
   {
    "duration": 0,
    "start_time": "2022-09-16T16:46:25.926Z"
   },
   {
    "duration": 39,
    "start_time": "2022-09-16T16:46:25.938Z"
   },
   {
    "duration": 46,
    "start_time": "2022-09-16T16:46:25.979Z"
   },
   {
    "duration": 28,
    "start_time": "2022-09-16T16:46:26.034Z"
   },
   {
    "duration": 26,
    "start_time": "2022-09-16T16:46:26.063Z"
   },
   {
    "duration": 32,
    "start_time": "2022-09-16T16:46:26.091Z"
   },
   {
    "duration": 24,
    "start_time": "2022-09-16T16:46:26.124Z"
   },
   {
    "duration": 28,
    "start_time": "2022-09-16T16:46:26.150Z"
   },
   {
    "duration": 159,
    "start_time": "2022-09-16T16:47:13.311Z"
   },
   {
    "duration": 5,
    "start_time": "2022-09-16T16:47:36.384Z"
   },
   {
    "duration": 28,
    "start_time": "2022-09-16T16:57:10.532Z"
   },
   {
    "duration": 6,
    "start_time": "2022-09-16T16:58:13.332Z"
   },
   {
    "duration": 141,
    "start_time": "2022-09-16T16:58:13.340Z"
   },
   {
    "duration": 12,
    "start_time": "2022-09-16T16:58:13.484Z"
   },
   {
    "duration": 14,
    "start_time": "2022-09-16T16:58:13.498Z"
   },
   {
    "duration": 57,
    "start_time": "2022-09-16T16:58:13.515Z"
   },
   {
    "duration": 9,
    "start_time": "2022-09-16T16:58:13.574Z"
   },
   {
    "duration": 15,
    "start_time": "2022-09-16T16:58:13.585Z"
   },
   {
    "duration": 13,
    "start_time": "2022-09-16T16:58:13.602Z"
   },
   {
    "duration": 53,
    "start_time": "2022-09-16T16:58:13.617Z"
   },
   {
    "duration": 15,
    "start_time": "2022-09-16T16:58:13.673Z"
   },
   {
    "duration": 7,
    "start_time": "2022-09-16T16:58:13.691Z"
   },
   {
    "duration": 38,
    "start_time": "2022-09-16T16:58:13.700Z"
   },
   {
    "duration": 37,
    "start_time": "2022-09-16T16:58:13.746Z"
   },
   {
    "duration": 18,
    "start_time": "2022-09-16T16:58:13.785Z"
   },
   {
    "duration": 89,
    "start_time": "2022-09-16T16:58:13.821Z"
   },
   {
    "duration": 65,
    "start_time": "2022-09-16T16:58:13.911Z"
   },
   {
    "duration": 11,
    "start_time": "2022-09-16T16:58:13.978Z"
   },
   {
    "duration": 11,
    "start_time": "2022-09-16T16:58:13.991Z"
   },
   {
    "duration": 425,
    "start_time": "2022-09-16T16:58:14.004Z"
   },
   {
    "duration": 18,
    "start_time": "2022-09-16T16:58:14.432Z"
   },
   {
    "duration": 38,
    "start_time": "2022-09-16T16:58:14.453Z"
   },
   {
    "duration": 314,
    "start_time": "2022-09-16T16:58:14.493Z"
   },
   {
    "duration": 453,
    "start_time": "2022-09-16T16:58:14.812Z"
   },
   {
    "duration": 8,
    "start_time": "2022-09-16T16:58:15.269Z"
   },
   {
    "duration": 406,
    "start_time": "2022-09-16T16:58:15.279Z"
   },
   {
    "duration": 5,
    "start_time": "2022-09-16T16:58:15.687Z"
   },
   {
    "duration": 296,
    "start_time": "2022-09-16T16:58:15.694Z"
   },
   {
    "duration": 18,
    "start_time": "2022-09-16T16:58:15.992Z"
   },
   {
    "duration": 388,
    "start_time": "2022-09-16T16:58:16.012Z"
   },
   {
    "duration": 224,
    "start_time": "2022-09-16T16:58:16.402Z"
   },
   {
    "duration": 189,
    "start_time": "2022-09-16T16:58:16.639Z"
   },
   {
    "duration": 11,
    "start_time": "2022-09-16T16:58:16.830Z"
   },
   {
    "duration": 37,
    "start_time": "2022-09-16T16:58:16.843Z"
   },
   {
    "duration": 196,
    "start_time": "2022-09-16T16:58:16.882Z"
   },
   {
    "duration": 4,
    "start_time": "2022-09-16T16:58:17.079Z"
   },
   {
    "duration": 130,
    "start_time": "2022-09-16T16:58:17.086Z"
   },
   {
    "duration": 169,
    "start_time": "2022-09-16T16:58:17.218Z"
   },
   {
    "duration": 50,
    "start_time": "2022-09-16T16:58:17.392Z"
   },
   {
    "duration": 222,
    "start_time": "2022-09-16T16:58:17.448Z"
   },
   {
    "duration": 8,
    "start_time": "2022-09-16T16:58:17.674Z"
   },
   {
    "duration": 98,
    "start_time": "2022-09-16T16:58:17.684Z"
   },
   {
    "duration": 62,
    "start_time": "2022-09-16T16:58:17.784Z"
   },
   {
    "duration": 45,
    "start_time": "2022-09-16T16:58:17.851Z"
   },
   {
    "duration": 44,
    "start_time": "2022-09-16T16:58:17.898Z"
   },
   {
    "duration": 100,
    "start_time": "2022-09-16T16:58:17.950Z"
   },
   {
    "duration": 44,
    "start_time": "2022-09-16T16:58:18.052Z"
   },
   {
    "duration": 60,
    "start_time": "2022-09-16T16:58:18.098Z"
   },
   {
    "duration": 58,
    "start_time": "2022-09-16T16:58:18.164Z"
   },
   {
    "duration": 14,
    "start_time": "2022-09-16T16:58:59.440Z"
   },
   {
    "duration": 138,
    "start_time": "2022-09-16T16:58:59.456Z"
   },
   {
    "duration": 33,
    "start_time": "2022-09-16T16:58:59.596Z"
   },
   {
    "duration": 45,
    "start_time": "2022-09-16T16:58:59.639Z"
   },
   {
    "duration": 7,
    "start_time": "2022-09-16T16:58:59.686Z"
   },
   {
    "duration": 17,
    "start_time": "2022-09-16T16:58:59.695Z"
   },
   {
    "duration": 66,
    "start_time": "2022-09-16T16:58:59.714Z"
   },
   {
    "duration": 12,
    "start_time": "2022-09-16T16:58:59.782Z"
   },
   {
    "duration": 8,
    "start_time": "2022-09-16T16:58:59.796Z"
   },
   {
    "duration": 66,
    "start_time": "2022-09-16T16:58:59.806Z"
   },
   {
    "duration": 15,
    "start_time": "2022-09-16T16:58:59.875Z"
   },
   {
    "duration": 38,
    "start_time": "2022-09-16T16:58:59.892Z"
   },
   {
    "duration": 24,
    "start_time": "2022-09-16T16:58:59.931Z"
   },
   {
    "duration": 22,
    "start_time": "2022-09-16T16:58:59.957Z"
   },
   {
    "duration": 8,
    "start_time": "2022-09-16T16:58:59.981Z"
   },
   {
    "duration": 12,
    "start_time": "2022-09-16T16:58:59.992Z"
   },
   {
    "duration": 72,
    "start_time": "2022-09-16T16:59:00.006Z"
   },
   {
    "duration": 15,
    "start_time": "2022-09-16T16:59:00.080Z"
   },
   {
    "duration": 441,
    "start_time": "2022-09-16T16:59:00.097Z"
   },
   {
    "duration": 12,
    "start_time": "2022-09-16T16:59:00.541Z"
   },
   {
    "duration": 46,
    "start_time": "2022-09-16T16:59:00.555Z"
   },
   {
    "duration": 374,
    "start_time": "2022-09-16T16:59:00.603Z"
   },
   {
    "duration": 410,
    "start_time": "2022-09-16T16:59:00.979Z"
   },
   {
    "duration": 15,
    "start_time": "2022-09-16T16:59:01.395Z"
   },
   {
    "duration": 432,
    "start_time": "2022-09-16T16:59:01.414Z"
   },
   {
    "duration": 17,
    "start_time": "2022-09-16T16:59:01.848Z"
   },
   {
    "duration": 316,
    "start_time": "2022-09-16T16:59:01.871Z"
   },
   {
    "duration": 11,
    "start_time": "2022-09-16T16:59:02.189Z"
   },
   {
    "duration": 617,
    "start_time": "2022-09-16T16:59:02.203Z"
   },
   {
    "duration": 251,
    "start_time": "2022-09-16T16:59:02.823Z"
   },
   {
    "duration": 236,
    "start_time": "2022-09-16T16:59:03.076Z"
   },
   {
    "duration": 5,
    "start_time": "2022-09-16T16:59:03.314Z"
   },
   {
    "duration": 57,
    "start_time": "2022-09-16T16:59:03.321Z"
   },
   {
    "duration": 185,
    "start_time": "2022-09-16T16:59:03.380Z"
   },
   {
    "duration": 4,
    "start_time": "2022-09-16T16:59:03.566Z"
   },
   {
    "duration": 118,
    "start_time": "2022-09-16T16:59:03.572Z"
   },
   {
    "duration": 144,
    "start_time": "2022-09-16T16:59:03.692Z"
   },
   {
    "duration": 37,
    "start_time": "2022-09-16T16:59:03.837Z"
   },
   {
    "duration": 215,
    "start_time": "2022-09-16T16:59:03.876Z"
   },
   {
    "duration": 7,
    "start_time": "2022-09-16T16:59:04.093Z"
   },
   {
    "duration": 96,
    "start_time": "2022-09-16T16:59:04.101Z"
   },
   {
    "duration": 50,
    "start_time": "2022-09-16T16:59:04.200Z"
   },
   {
    "duration": 28,
    "start_time": "2022-09-16T16:59:04.262Z"
   },
   {
    "duration": 87,
    "start_time": "2022-09-16T16:59:04.292Z"
   },
   {
    "duration": 90,
    "start_time": "2022-09-16T16:59:04.381Z"
   },
   {
    "duration": 73,
    "start_time": "2022-09-16T16:59:04.473Z"
   },
   {
    "duration": 36,
    "start_time": "2022-09-16T16:59:04.547Z"
   },
   {
    "duration": 61,
    "start_time": "2022-09-16T16:59:04.585Z"
   },
   {
    "duration": 20,
    "start_time": "2022-09-16T16:59:51.505Z"
   },
   {
    "duration": 6,
    "start_time": "2022-09-16T17:00:14.505Z"
   },
   {
    "duration": 208,
    "start_time": "2022-09-16T17:00:14.522Z"
   },
   {
    "duration": 19,
    "start_time": "2022-09-16T17:00:14.732Z"
   },
   {
    "duration": 63,
    "start_time": "2022-09-16T17:00:14.753Z"
   },
   {
    "duration": 70,
    "start_time": "2022-09-16T17:00:14.821Z"
   },
   {
    "duration": 11,
    "start_time": "2022-09-16T17:00:14.893Z"
   },
   {
    "duration": 64,
    "start_time": "2022-09-16T17:00:14.906Z"
   },
   {
    "duration": 15,
    "start_time": "2022-09-16T17:00:14.973Z"
   },
   {
    "duration": 14,
    "start_time": "2022-09-16T17:00:14.990Z"
   },
   {
    "duration": 56,
    "start_time": "2022-09-16T17:00:15.007Z"
   },
   {
    "duration": 14,
    "start_time": "2022-09-16T17:00:15.067Z"
   },
   {
    "duration": 26,
    "start_time": "2022-09-16T17:00:15.083Z"
   },
   {
    "duration": 32,
    "start_time": "2022-09-16T17:00:15.113Z"
   },
   {
    "duration": 8,
    "start_time": "2022-09-16T17:00:15.147Z"
   },
   {
    "duration": 21,
    "start_time": "2022-09-16T17:00:15.158Z"
   },
   {
    "duration": 11,
    "start_time": "2022-09-16T17:00:15.180Z"
   },
   {
    "duration": 31,
    "start_time": "2022-09-16T17:00:15.193Z"
   },
   {
    "duration": 30,
    "start_time": "2022-09-16T17:00:15.231Z"
   },
   {
    "duration": 453,
    "start_time": "2022-09-16T17:00:15.267Z"
   },
   {
    "duration": 14,
    "start_time": "2022-09-16T17:00:15.727Z"
   },
   {
    "duration": 52,
    "start_time": "2022-09-16T17:00:15.747Z"
   },
   {
    "duration": 385,
    "start_time": "2022-09-16T17:00:15.801Z"
   },
   {
    "duration": 326,
    "start_time": "2022-09-16T17:00:16.188Z"
   },
   {
    "duration": 14,
    "start_time": "2022-09-16T17:00:16.518Z"
   },
   {
    "duration": 527,
    "start_time": "2022-09-16T17:00:16.537Z"
   },
   {
    "duration": 7,
    "start_time": "2022-09-16T17:00:17.069Z"
   },
   {
    "duration": 336,
    "start_time": "2022-09-16T17:00:17.083Z"
   },
   {
    "duration": 10,
    "start_time": "2022-09-16T17:00:17.425Z"
   },
   {
    "duration": 458,
    "start_time": "2022-09-16T17:00:17.444Z"
   },
   {
    "duration": 245,
    "start_time": "2022-09-16T17:00:17.904Z"
   },
   {
    "duration": 216,
    "start_time": "2022-09-16T17:00:18.159Z"
   },
   {
    "duration": 14,
    "start_time": "2022-09-16T17:00:18.377Z"
   },
   {
    "duration": 94,
    "start_time": "2022-09-16T17:00:18.397Z"
   },
   {
    "duration": 207,
    "start_time": "2022-09-16T17:00:18.493Z"
   },
   {
    "duration": 8,
    "start_time": "2022-09-16T17:00:18.709Z"
   },
   {
    "duration": 240,
    "start_time": "2022-09-16T17:00:18.718Z"
   },
   {
    "duration": 172,
    "start_time": "2022-09-16T17:00:18.960Z"
   },
   {
    "duration": 34,
    "start_time": "2022-09-16T17:00:19.135Z"
   },
   {
    "duration": 220,
    "start_time": "2022-09-16T17:00:19.171Z"
   },
   {
    "duration": 13,
    "start_time": "2022-09-16T17:00:19.393Z"
   },
   {
    "duration": 73,
    "start_time": "2022-09-16T17:00:19.409Z"
   },
   {
    "duration": 36,
    "start_time": "2022-09-16T17:00:19.484Z"
   },
   {
    "duration": 13,
    "start_time": "2022-09-16T17:00:19.526Z"
   },
   {
    "duration": 38,
    "start_time": "2022-09-16T17:00:19.542Z"
   },
   {
    "duration": 35,
    "start_time": "2022-09-16T17:00:19.582Z"
   },
   {
    "duration": 34,
    "start_time": "2022-09-16T17:00:19.622Z"
   },
   {
    "duration": 26,
    "start_time": "2022-09-16T17:00:19.661Z"
   },
   {
    "duration": 12,
    "start_time": "2022-09-16T17:00:19.688Z"
   },
   {
    "duration": 7,
    "start_time": "2022-09-16T17:00:59.404Z"
   },
   {
    "duration": 118,
    "start_time": "2022-09-16T17:00:59.434Z"
   },
   {
    "duration": 16,
    "start_time": "2022-09-16T17:00:59.555Z"
   },
   {
    "duration": 12,
    "start_time": "2022-09-16T17:00:59.574Z"
   },
   {
    "duration": 5,
    "start_time": "2022-09-16T17:00:59.588Z"
   },
   {
    "duration": 8,
    "start_time": "2022-09-16T17:00:59.596Z"
   },
   {
    "duration": 86,
    "start_time": "2022-09-16T17:00:59.606Z"
   },
   {
    "duration": 23,
    "start_time": "2022-09-16T17:00:59.693Z"
   },
   {
    "duration": 30,
    "start_time": "2022-09-16T17:00:59.718Z"
   },
   {
    "duration": 10,
    "start_time": "2022-09-16T17:00:59.749Z"
   },
   {
    "duration": 27,
    "start_time": "2022-09-16T17:00:59.762Z"
   },
   {
    "duration": 21,
    "start_time": "2022-09-16T17:00:59.791Z"
   },
   {
    "duration": 24,
    "start_time": "2022-09-16T17:00:59.814Z"
   },
   {
    "duration": 35,
    "start_time": "2022-09-16T17:00:59.841Z"
   },
   {
    "duration": 18,
    "start_time": "2022-09-16T17:00:59.879Z"
   },
   {
    "duration": 83,
    "start_time": "2022-09-16T17:00:59.900Z"
   },
   {
    "duration": 26,
    "start_time": "2022-09-16T17:00:59.986Z"
   },
   {
    "duration": 57,
    "start_time": "2022-09-16T17:01:00.015Z"
   },
   {
    "duration": 406,
    "start_time": "2022-09-16T17:01:00.078Z"
   },
   {
    "duration": 11,
    "start_time": "2022-09-16T17:01:00.486Z"
   },
   {
    "duration": 83,
    "start_time": "2022-09-16T17:01:00.499Z"
   },
   {
    "duration": 455,
    "start_time": "2022-09-16T17:01:00.587Z"
   },
   {
    "duration": 295,
    "start_time": "2022-09-16T17:01:01.048Z"
   },
   {
    "duration": 9,
    "start_time": "2022-09-16T17:01:01.345Z"
   },
   {
    "duration": 310,
    "start_time": "2022-09-16T17:01:01.358Z"
   },
   {
    "duration": 8,
    "start_time": "2022-09-16T17:01:01.677Z"
   },
   {
    "duration": 259,
    "start_time": "2022-09-16T17:01:01.686Z"
   },
   {
    "duration": 8,
    "start_time": "2022-09-16T17:01:01.947Z"
   },
   {
    "duration": 405,
    "start_time": "2022-09-16T17:01:01.957Z"
   },
   {
    "duration": 146,
    "start_time": "2022-09-16T17:01:02.372Z"
   },
   {
    "duration": 162,
    "start_time": "2022-09-16T17:01:02.523Z"
   },
   {
    "duration": 5,
    "start_time": "2022-09-16T17:01:02.688Z"
   },
   {
    "duration": 60,
    "start_time": "2022-09-16T17:01:02.706Z"
   },
   {
    "duration": 174,
    "start_time": "2022-09-16T17:01:02.768Z"
   },
   {
    "duration": 5,
    "start_time": "2022-09-16T17:01:02.944Z"
   },
   {
    "duration": 127,
    "start_time": "2022-09-16T17:01:02.951Z"
   },
   {
    "duration": 120,
    "start_time": "2022-09-16T17:01:03.082Z"
   },
   {
    "duration": 59,
    "start_time": "2022-09-16T17:01:03.204Z"
   },
   {
    "duration": 191,
    "start_time": "2022-09-16T17:01:03.271Z"
   },
   {
    "duration": 10,
    "start_time": "2022-09-16T17:01:03.464Z"
   },
   {
    "duration": 31,
    "start_time": "2022-09-16T17:01:03.482Z"
   },
   {
    "duration": 37,
    "start_time": "2022-09-16T17:01:03.519Z"
   },
   {
    "duration": 21,
    "start_time": "2022-09-16T17:01:03.559Z"
   },
   {
    "duration": 27,
    "start_time": "2022-09-16T17:01:03.584Z"
   },
   {
    "duration": 96,
    "start_time": "2022-09-16T17:01:03.618Z"
   },
   {
    "duration": 47,
    "start_time": "2022-09-16T17:01:03.716Z"
   },
   {
    "duration": 22,
    "start_time": "2022-09-16T17:01:03.765Z"
   },
   {
    "duration": 13,
    "start_time": "2022-09-16T17:01:03.789Z"
   },
   {
    "duration": 5,
    "start_time": "2022-09-16T17:13:29.568Z"
   },
   {
    "duration": 164,
    "start_time": "2022-09-16T17:13:29.580Z"
   },
   {
    "duration": 25,
    "start_time": "2022-09-16T17:13:29.748Z"
   },
   {
    "duration": 23,
    "start_time": "2022-09-16T17:13:29.775Z"
   },
   {
    "duration": 45,
    "start_time": "2022-09-16T17:13:29.800Z"
   },
   {
    "duration": 100,
    "start_time": "2022-09-16T17:13:29.847Z"
   },
   {
    "duration": 183,
    "start_time": "2022-09-16T17:13:29.949Z"
   },
   {
    "duration": 141,
    "start_time": "2022-09-16T17:13:30.136Z"
   },
   {
    "duration": 133,
    "start_time": "2022-09-16T17:13:30.286Z"
   },
   {
    "duration": 66,
    "start_time": "2022-09-16T17:13:30.424Z"
   },
   {
    "duration": 22,
    "start_time": "2022-09-16T17:13:30.493Z"
   },
   {
    "duration": 82,
    "start_time": "2022-09-16T17:13:30.517Z"
   },
   {
    "duration": 20,
    "start_time": "2022-09-16T17:13:30.602Z"
   },
   {
    "duration": 73,
    "start_time": "2022-09-16T17:13:30.624Z"
   },
   {
    "duration": 78,
    "start_time": "2022-09-16T17:13:30.699Z"
   },
   {
    "duration": 18,
    "start_time": "2022-09-16T17:13:30.779Z"
   },
   {
    "duration": 99,
    "start_time": "2022-09-16T17:13:30.799Z"
   },
   {
    "duration": 37,
    "start_time": "2022-09-16T17:13:30.900Z"
   },
   {
    "duration": 360,
    "start_time": "2022-09-16T17:13:30.939Z"
   },
   {
    "duration": 13,
    "start_time": "2022-09-16T17:13:31.306Z"
   },
   {
    "duration": 45,
    "start_time": "2022-09-16T17:13:31.323Z"
   },
   {
    "duration": 412,
    "start_time": "2022-09-16T17:13:31.376Z"
   },
   {
    "duration": 354,
    "start_time": "2022-09-16T17:13:31.797Z"
   },
   {
    "duration": 11,
    "start_time": "2022-09-16T17:13:32.157Z"
   },
   {
    "duration": 432,
    "start_time": "2022-09-16T17:13:32.174Z"
   },
   {
    "duration": 6,
    "start_time": "2022-09-16T17:13:32.608Z"
   },
   {
    "duration": 346,
    "start_time": "2022-09-16T17:13:32.616Z"
   },
   {
    "duration": 11,
    "start_time": "2022-09-16T17:13:32.968Z"
   },
   {
    "duration": 584,
    "start_time": "2022-09-16T17:13:32.986Z"
   },
   {
    "duration": 193,
    "start_time": "2022-09-16T17:13:33.575Z"
   },
   {
    "duration": 203,
    "start_time": "2022-09-16T17:13:33.775Z"
   },
   {
    "duration": 8,
    "start_time": "2022-09-16T17:13:33.984Z"
   },
   {
    "duration": 15,
    "start_time": "2022-09-16T17:13:33.996Z"
   },
   {
    "duration": 238,
    "start_time": "2022-09-16T17:13:34.017Z"
   },
   {
    "duration": 6,
    "start_time": "2022-09-16T17:13:34.267Z"
   },
   {
    "duration": 240,
    "start_time": "2022-09-16T17:13:34.277Z"
   },
   {
    "duration": 150,
    "start_time": "2022-09-16T17:13:34.523Z"
   },
   {
    "duration": 42,
    "start_time": "2022-09-16T17:13:34.679Z"
   },
   {
    "duration": 251,
    "start_time": "2022-09-16T17:13:34.726Z"
   },
   {
    "duration": 9,
    "start_time": "2022-09-16T17:13:34.983Z"
   },
   {
    "duration": 89,
    "start_time": "2022-09-16T17:13:34.998Z"
   },
   {
    "duration": 60,
    "start_time": "2022-09-16T17:13:35.089Z"
   },
   {
    "duration": 40,
    "start_time": "2022-09-16T17:13:35.156Z"
   },
   {
    "duration": 86,
    "start_time": "2022-09-16T17:13:35.199Z"
   },
   {
    "duration": 53,
    "start_time": "2022-09-16T17:13:35.287Z"
   },
   {
    "duration": 85,
    "start_time": "2022-09-16T17:13:35.342Z"
   },
   {
    "duration": 23,
    "start_time": "2022-09-16T17:13:35.429Z"
   },
   {
    "duration": 54,
    "start_time": "2022-09-16T17:13:35.458Z"
   },
   {
    "duration": 1088,
    "start_time": "2022-09-17T10:19:21.866Z"
   },
   {
    "duration": 134,
    "start_time": "2022-09-17T10:19:22.956Z"
   },
   {
    "duration": 11,
    "start_time": "2022-09-17T10:19:23.092Z"
   },
   {
    "duration": 19,
    "start_time": "2022-09-17T10:19:23.105Z"
   },
   {
    "duration": 7,
    "start_time": "2022-09-17T10:19:23.126Z"
   },
   {
    "duration": 12,
    "start_time": "2022-09-17T10:19:23.134Z"
   },
   {
    "duration": 27,
    "start_time": "2022-09-17T10:19:23.148Z"
   },
   {
    "duration": 15,
    "start_time": "2022-09-17T10:19:23.186Z"
   },
   {
    "duration": 14,
    "start_time": "2022-09-17T10:19:23.203Z"
   },
   {
    "duration": 5,
    "start_time": "2022-09-17T10:19:23.219Z"
   },
   {
    "duration": 11,
    "start_time": "2022-09-17T10:19:23.226Z"
   },
   {
    "duration": 14,
    "start_time": "2022-09-17T10:19:23.238Z"
   },
   {
    "duration": 14,
    "start_time": "2022-09-17T10:19:23.253Z"
   },
   {
    "duration": 19,
    "start_time": "2022-09-17T10:19:23.268Z"
   },
   {
    "duration": 17,
    "start_time": "2022-09-17T10:19:23.289Z"
   },
   {
    "duration": 10,
    "start_time": "2022-09-17T10:19:23.308Z"
   },
   {
    "duration": 16,
    "start_time": "2022-09-17T10:19:23.320Z"
   },
   {
    "duration": 15,
    "start_time": "2022-09-17T10:19:23.337Z"
   },
   {
    "duration": 310,
    "start_time": "2022-09-17T10:19:23.354Z"
   },
   {
    "duration": 8,
    "start_time": "2022-09-17T10:19:23.665Z"
   },
   {
    "duration": 22,
    "start_time": "2022-09-17T10:19:23.675Z"
   },
   {
    "duration": 343,
    "start_time": "2022-09-17T10:19:23.699Z"
   },
   {
    "duration": 263,
    "start_time": "2022-09-17T10:19:24.043Z"
   },
   {
    "duration": 6,
    "start_time": "2022-09-17T10:19:24.308Z"
   },
   {
    "duration": 310,
    "start_time": "2022-09-17T10:19:24.316Z"
   },
   {
    "duration": 4,
    "start_time": "2022-09-17T10:19:24.627Z"
   },
   {
    "duration": 225,
    "start_time": "2022-09-17T10:19:24.633Z"
   },
   {
    "duration": 8,
    "start_time": "2022-09-17T10:19:24.861Z"
   },
   {
    "duration": 354,
    "start_time": "2022-09-17T10:19:24.871Z"
   },
   {
    "duration": 169,
    "start_time": "2022-09-17T10:19:25.227Z"
   },
   {
    "duration": 159,
    "start_time": "2022-09-17T10:19:25.398Z"
   },
   {
    "duration": 4,
    "start_time": "2022-09-17T10:19:25.559Z"
   },
   {
    "duration": 31,
    "start_time": "2022-09-17T10:19:25.564Z"
   },
   {
    "duration": 153,
    "start_time": "2022-09-17T10:19:25.596Z"
   },
   {
    "duration": 5,
    "start_time": "2022-09-17T10:19:25.750Z"
   },
   {
    "duration": 132,
    "start_time": "2022-09-17T10:19:25.756Z"
   },
   {
    "duration": 149,
    "start_time": "2022-09-17T10:19:25.890Z"
   },
   {
    "duration": 27,
    "start_time": "2022-09-17T10:19:26.041Z"
   },
   {
    "duration": 179,
    "start_time": "2022-09-17T10:19:26.070Z"
   },
   {
    "duration": 6,
    "start_time": "2022-09-17T10:19:26.251Z"
   },
   {
    "duration": 39,
    "start_time": "2022-09-17T10:19:26.259Z"
   },
   {
    "duration": 21,
    "start_time": "2022-09-17T10:19:26.299Z"
   },
   {
    "duration": 9,
    "start_time": "2022-09-17T10:19:26.322Z"
   },
   {
    "duration": 15,
    "start_time": "2022-09-17T10:19:26.333Z"
   },
   {
    "duration": 48,
    "start_time": "2022-09-17T10:19:26.349Z"
   },
   {
    "duration": 19,
    "start_time": "2022-09-17T10:19:26.398Z"
   },
   {
    "duration": 12,
    "start_time": "2022-09-17T10:19:26.419Z"
   },
   {
    "duration": 24,
    "start_time": "2022-09-17T10:19:26.432Z"
   },
   {
    "duration": 1054,
    "start_time": "2022-09-17T10:20:05.392Z"
   },
   {
    "duration": 145,
    "start_time": "2022-09-17T10:20:06.448Z"
   },
   {
    "duration": 13,
    "start_time": "2022-09-17T10:20:06.595Z"
   },
   {
    "duration": 23,
    "start_time": "2022-09-17T10:20:06.610Z"
   },
   {
    "duration": 10,
    "start_time": "2022-09-17T10:20:06.635Z"
   },
   {
    "duration": 23,
    "start_time": "2022-09-17T10:20:06.647Z"
   },
   {
    "duration": 40,
    "start_time": "2022-09-17T10:20:06.672Z"
   },
   {
    "duration": 34,
    "start_time": "2022-09-17T10:20:06.713Z"
   },
   {
    "duration": 24,
    "start_time": "2022-09-17T10:20:06.748Z"
   },
   {
    "duration": 28,
    "start_time": "2022-09-17T10:20:06.774Z"
   },
   {
    "duration": 22,
    "start_time": "2022-09-17T10:20:06.804Z"
   },
   {
    "duration": 46,
    "start_time": "2022-09-17T10:20:06.827Z"
   },
   {
    "duration": 32,
    "start_time": "2022-09-17T10:20:06.875Z"
   },
   {
    "duration": 32,
    "start_time": "2022-09-17T10:20:06.910Z"
   },
   {
    "duration": 37,
    "start_time": "2022-09-17T10:20:06.944Z"
   },
   {
    "duration": 54,
    "start_time": "2022-09-17T10:20:06.984Z"
   },
   {
    "duration": 27,
    "start_time": "2022-09-17T10:20:07.040Z"
   },
   {
    "duration": 54,
    "start_time": "2022-09-17T10:20:07.068Z"
   },
   {
    "duration": 296,
    "start_time": "2022-09-17T10:20:07.124Z"
   },
   {
    "duration": 8,
    "start_time": "2022-09-17T10:20:07.421Z"
   },
   {
    "duration": 13,
    "start_time": "2022-09-17T10:20:07.430Z"
   },
   {
    "duration": 343,
    "start_time": "2022-09-17T10:20:07.445Z"
   },
   {
    "duration": 270,
    "start_time": "2022-09-17T10:20:07.792Z"
   },
   {
    "duration": 6,
    "start_time": "2022-09-17T10:20:08.064Z"
   },
   {
    "duration": 328,
    "start_time": "2022-09-17T10:20:08.076Z"
   },
   {
    "duration": 4,
    "start_time": "2022-09-17T10:20:08.406Z"
   },
   {
    "duration": 222,
    "start_time": "2022-09-17T10:20:08.411Z"
   },
   {
    "duration": 8,
    "start_time": "2022-09-17T10:20:08.635Z"
   },
   {
    "duration": 353,
    "start_time": "2022-09-17T10:20:08.645Z"
   },
   {
    "duration": 140,
    "start_time": "2022-09-17T10:20:09.000Z"
   },
   {
    "duration": 167,
    "start_time": "2022-09-17T10:20:09.141Z"
   },
   {
    "duration": 4,
    "start_time": "2022-09-17T10:20:09.310Z"
   },
   {
    "duration": 10,
    "start_time": "2022-09-17T10:20:09.316Z"
   },
   {
    "duration": 166,
    "start_time": "2022-09-17T10:20:09.328Z"
   },
   {
    "duration": 5,
    "start_time": "2022-09-17T10:20:09.496Z"
   },
   {
    "duration": 99,
    "start_time": "2022-09-17T10:20:09.502Z"
   },
   {
    "duration": 123,
    "start_time": "2022-09-17T10:20:09.603Z"
   },
   {
    "duration": 31,
    "start_time": "2022-09-17T10:20:09.727Z"
   },
   {
    "duration": 163,
    "start_time": "2022-09-17T10:20:09.760Z"
   },
   {
    "duration": 6,
    "start_time": "2022-09-17T10:20:09.925Z"
   },
   {
    "duration": 22,
    "start_time": "2022-09-17T10:20:09.934Z"
   },
   {
    "duration": 44,
    "start_time": "2022-09-17T10:20:09.958Z"
   },
   {
    "duration": 9,
    "start_time": "2022-09-17T10:20:10.004Z"
   },
   {
    "duration": 16,
    "start_time": "2022-09-17T10:20:10.014Z"
   },
   {
    "duration": 56,
    "start_time": "2022-09-17T10:20:10.032Z"
   },
   {
    "duration": 23,
    "start_time": "2022-09-17T10:20:10.090Z"
   },
   {
    "duration": 14,
    "start_time": "2022-09-17T10:20:10.114Z"
   },
   {
    "duration": 12,
    "start_time": "2022-09-17T10:20:10.130Z"
   }
  ],
  "kernelspec": {
   "display_name": "Python 3 (ipykernel)",
   "language": "python",
   "name": "python3"
  },
  "language_info": {
   "codemirror_mode": {
    "name": "ipython",
    "version": 3
   },
   "file_extension": ".py",
   "mimetype": "text/x-python",
   "name": "python",
   "nbconvert_exporter": "python",
   "pygments_lexer": "ipython3",
   "version": "3.9.5"
  },
  "toc": {
   "base_numbering": 1,
   "nav_menu": {},
   "number_sections": true,
   "sideBar": true,
   "skip_h1_title": true,
   "title_cell": "Table of Contents",
   "title_sidebar": "Contents",
   "toc_cell": false,
   "toc_position": {},
   "toc_section_display": true,
   "toc_window_display": false
  }
 },
 "nbformat": 4,
 "nbformat_minor": 2
}
