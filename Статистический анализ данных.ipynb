{
 "cells": [
  {
   "cell_type": "markdown",
   "metadata": {},
   "source": [
    "  # Введение\n",
    "Заказчик — коммерческий департамент компании «Мегалайн». Исследование направленное на определение тарифа, сильнее всего влияющего на доход компании. Сравнение будет проводиться между тарифами «Смарт» и «Ультра». Результат исследования будет использоваться для корректирования рекламного бюджета.\n",
    "  \n",
    "                                                  \n",
    "                                                  \n",
    "**Тариф «Смарт»**                                                    \n",
    "\n",
    "Ежемесячная плата: 550 рублей                        \n",
    "В тариф включено:                                     \n",
    "\n",
    "- 500 минут разговора                                    \n",
    "\n",
    "- 50 сообщений\n",
    "\n",
    "- 15 Гб интернет-трафика\n",
    "\n",
    "Стоимость услуг сверх тарифного пакета:\n",
    "\n",
    "- минута разговора: 3 рубля\n",
    "\n",
    "- сообщение: 3 рубля\n",
    "\n",
    "- 1 Гб интернет-трафика: 200 рублей\n",
    "\n",
    "\n",
    "**Тариф «Ультра»**\n",
    "\n",
    "Ежемесячная плата: 1950 рублей\n",
    "В тариф включено:\n",
    "\n",
    "- 3000 минут разговора\n",
    "- 1000 сообщений\n",
    "- 30 Гб интернет-трафика\n",
    "\n",
    "Стоимость услуг сверх тарифного пакета:\n",
    "\n",
    "- минута разговора: 1 рубль\n",
    "- сообщение: 1 рубль\n",
    "- 1 Гб интернет-трафика: 150 рублей\n",
    "\n",
    " **Примечание:**\n",
    "\n",
    "«Мегалайн» всегда округляет секунды до минут, а мегабайты — до гигабайт.\n",
    " Если пользователь проговорил всего 1 секунду, в тарифе засчитывается целая минута."
   ]
  },
  {
   "cell_type": "markdown",
   "metadata": {},
   "source": [
    "                                        \n",
    "   **Задача:**\n",
    "\n",
    "1. Провести первичный анализ данных\n",
    "2. Провести предобработку данных (привести к нужным типам и исправить ошибки)\n",
    "3. Добавить необходимые данные в таблицы (количество сделанных звонков и израсходованных минут разговора по месяцам; количество отправленных сообщений по месяцам; объем израсходованного интернет-трафика по месяцам; помесячную выручку с каждого пользователя)\n",
    "4. Описать поведение клиентов (среднее кол-во сообщений, минут разговора, объем трафика)\n",
    "5. Проверить гипотезы: средняя выручка пользователей тарифов «Ультра» и «Смарт» различается; средняя выручка пользователей из Москвы отличается от выручки пользователей из других регионов"
   ]
  },
  {
   "cell_type": "markdown",
   "metadata": {},
   "source": [
    "\n",
    "### Откроем файлы с данными и изучим общую информацию\n",
    "\n",
    "   **Импортирование необходимых данных**"
   ]
  },
  {
   "cell_type": "code",
   "execution_count": 846,
   "metadata": {},
   "outputs": [],
   "source": [
    "import pandas as pd\n",
    "from IPython.display import display\n",
    "import numpy as np\n",
    "from scipy import stats as st\n",
    "import matplotlib.pyplot as plt\n",
    "import seaborn as sns\n",
    "\n",
    "calls = pd.read_csv('/datasets/calls.csv')\n",
    "internet = pd.read_csv('/datasets/internet.csv')\n",
    "messages = pd.read_csv('/datasets/messages.csv')\n",
    "tariffs = pd.read_csv('/datasets/tariffs.csv')\n",
    "users = pd.read_csv('/datasets/users.csv')"
   ]
  },
  {
   "cell_type": "markdown",
   "metadata": {},
   "source": [
    "**Изучим данные из файла tariffs**"
   ]
  },
  {
   "cell_type": "code",
   "execution_count": 847,
   "metadata": {
    "scrolled": false
   },
   "outputs": [
    {
     "name": "stdout",
     "output_type": "stream",
     "text": [
      "<class 'pandas.core.frame.DataFrame'>\n",
      "RangeIndex: 2 entries, 0 to 1\n",
      "Data columns (total 8 columns):\n",
      " #   Column                 Non-Null Count  Dtype \n",
      "---  ------                 --------------  ----- \n",
      " 0   messages_included      2 non-null      int64 \n",
      " 1   mb_per_month_included  2 non-null      int64 \n",
      " 2   minutes_included       2 non-null      int64 \n",
      " 3   rub_monthly_fee        2 non-null      int64 \n",
      " 4   rub_per_gb             2 non-null      int64 \n",
      " 5   rub_per_message        2 non-null      int64 \n",
      " 6   rub_per_minute         2 non-null      int64 \n",
      " 7   tariff_name            2 non-null      object\n",
      "dtypes: int64(7), object(1)\n",
      "memory usage: 256.0+ bytes\n"
     ]
    },
    {
     "data": {
      "text/html": [
       "<div>\n",
       "<style scoped>\n",
       "    .dataframe tbody tr th:only-of-type {\n",
       "        vertical-align: middle;\n",
       "    }\n",
       "\n",
       "    .dataframe tbody tr th {\n",
       "        vertical-align: top;\n",
       "    }\n",
       "\n",
       "    .dataframe thead th {\n",
       "        text-align: right;\n",
       "    }\n",
       "</style>\n",
       "<table border=\"1\" class=\"dataframe\">\n",
       "  <thead>\n",
       "    <tr style=\"text-align: right;\">\n",
       "      <th></th>\n",
       "      <th>messages_included</th>\n",
       "      <th>mb_per_month_included</th>\n",
       "      <th>minutes_included</th>\n",
       "      <th>rub_monthly_fee</th>\n",
       "      <th>rub_per_gb</th>\n",
       "      <th>rub_per_message</th>\n",
       "      <th>rub_per_minute</th>\n",
       "      <th>tariff_name</th>\n",
       "    </tr>\n",
       "  </thead>\n",
       "  <tbody>\n",
       "    <tr>\n",
       "      <th>0</th>\n",
       "      <td>50</td>\n",
       "      <td>15360</td>\n",
       "      <td>500</td>\n",
       "      <td>550</td>\n",
       "      <td>200</td>\n",
       "      <td>3</td>\n",
       "      <td>3</td>\n",
       "      <td>smart</td>\n",
       "    </tr>\n",
       "    <tr>\n",
       "      <th>1</th>\n",
       "      <td>1000</td>\n",
       "      <td>30720</td>\n",
       "      <td>3000</td>\n",
       "      <td>1950</td>\n",
       "      <td>150</td>\n",
       "      <td>1</td>\n",
       "      <td>1</td>\n",
       "      <td>ultra</td>\n",
       "    </tr>\n",
       "  </tbody>\n",
       "</table>\n",
       "</div>"
      ],
      "text/plain": [
       "   messages_included  mb_per_month_included  minutes_included  \\\n",
       "0                 50                  15360               500   \n",
       "1               1000                  30720              3000   \n",
       "\n",
       "   rub_monthly_fee  rub_per_gb  rub_per_message  rub_per_minute tariff_name  \n",
       "0              550         200                3               3       smart  \n",
       "1             1950         150                1               1       ultra  "
      ]
     },
     "execution_count": 847,
     "metadata": {},
     "output_type": "execute_result"
    }
   ],
   "source": [
    "tariffs.info()\n",
    "tariffs.head()"
   ]
  },
  {
   "cell_type": "markdown",
   "metadata": {},
   "source": [
    "1. Для удобства переведем мегабайты в гигабайты, чтобы вести все дальнейшие расчеты в ГБ, т.к. сверх тарифа идет ст-ть ГБ. 2. Поменяем  порядок столбцов для наглядности."
   ]
  },
  {
   "cell_type": "code",
   "execution_count": 848,
   "metadata": {},
   "outputs": [
    {
     "data": {
      "text/html": [
       "<div>\n",
       "<style scoped>\n",
       "    .dataframe tbody tr th:only-of-type {\n",
       "        vertical-align: middle;\n",
       "    }\n",
       "\n",
       "    .dataframe tbody tr th {\n",
       "        vertical-align: top;\n",
       "    }\n",
       "\n",
       "    .dataframe thead th {\n",
       "        text-align: right;\n",
       "    }\n",
       "</style>\n",
       "<table border=\"1\" class=\"dataframe\">\n",
       "  <thead>\n",
       "    <tr style=\"text-align: right;\">\n",
       "      <th></th>\n",
       "      <th>tariff_name</th>\n",
       "      <th>messages_included</th>\n",
       "      <th>gb_included</th>\n",
       "      <th>minutes_included</th>\n",
       "      <th>rub_monthly_fee</th>\n",
       "      <th>rub_per_gb</th>\n",
       "      <th>rub_per_message</th>\n",
       "      <th>rub_per_minute</th>\n",
       "    </tr>\n",
       "  </thead>\n",
       "  <tbody>\n",
       "    <tr>\n",
       "      <th>0</th>\n",
       "      <td>smart</td>\n",
       "      <td>50</td>\n",
       "      <td>15</td>\n",
       "      <td>500</td>\n",
       "      <td>550</td>\n",
       "      <td>200</td>\n",
       "      <td>3</td>\n",
       "      <td>3</td>\n",
       "    </tr>\n",
       "    <tr>\n",
       "      <th>1</th>\n",
       "      <td>ultra</td>\n",
       "      <td>1000</td>\n",
       "      <td>30</td>\n",
       "      <td>3000</td>\n",
       "      <td>1950</td>\n",
       "      <td>150</td>\n",
       "      <td>1</td>\n",
       "      <td>1</td>\n",
       "    </tr>\n",
       "  </tbody>\n",
       "</table>\n",
       "</div>"
      ],
      "text/plain": [
       "  tariff_name  messages_included  gb_included  minutes_included  \\\n",
       "0       smart                 50           15               500   \n",
       "1       ultra               1000           30              3000   \n",
       "\n",
       "   rub_monthly_fee  rub_per_gb  rub_per_message  rub_per_minute  \n",
       "0              550         200                3               3  \n",
       "1             1950         150                1               1  "
      ]
     },
     "metadata": {},
     "output_type": "display_data"
    }
   ],
   "source": [
    "tariffs['gb_included']=(tariffs['mb_per_month_included']/1024).astype('int64')\n",
    "tariffs=tariffs[['tariff_name', 'messages_included', 'gb_included', 'minutes_included', 'rub_monthly_fee', 'rub_per_gb', 'rub_per_message', 'rub_per_minute']]\n",
    "display(tariffs.head())"
   ]
  },
  {
   "cell_type": "markdown",
   "metadata": {},
   "source": [
    "**Изучим данных из файла calls**"
   ]
  },
  {
   "cell_type": "code",
   "execution_count": 849,
   "metadata": {
    "scrolled": true
   },
   "outputs": [
    {
     "name": "stdout",
     "output_type": "stream",
     "text": [
      "<class 'pandas.core.frame.DataFrame'>\n",
      "RangeIndex: 202607 entries, 0 to 202606\n",
      "Data columns (total 4 columns):\n",
      " #   Column     Non-Null Count   Dtype  \n",
      "---  ------     --------------   -----  \n",
      " 0   id         202607 non-null  object \n",
      " 1   call_date  202607 non-null  object \n",
      " 2   duration   202607 non-null  float64\n",
      " 3   user_id    202607 non-null  int64  \n",
      "dtypes: float64(1), int64(1), object(2)\n",
      "memory usage: 6.2+ MB\n"
     ]
    },
    {
     "data": {
      "text/html": [
       "<div>\n",
       "<style scoped>\n",
       "    .dataframe tbody tr th:only-of-type {\n",
       "        vertical-align: middle;\n",
       "    }\n",
       "\n",
       "    .dataframe tbody tr th {\n",
       "        vertical-align: top;\n",
       "    }\n",
       "\n",
       "    .dataframe thead th {\n",
       "        text-align: right;\n",
       "    }\n",
       "</style>\n",
       "<table border=\"1\" class=\"dataframe\">\n",
       "  <thead>\n",
       "    <tr style=\"text-align: right;\">\n",
       "      <th></th>\n",
       "      <th>duration</th>\n",
       "      <th>user_id</th>\n",
       "    </tr>\n",
       "  </thead>\n",
       "  <tbody>\n",
       "    <tr>\n",
       "      <th>count</th>\n",
       "      <td>202607.000000</td>\n",
       "      <td>202607.000000</td>\n",
       "    </tr>\n",
       "    <tr>\n",
       "      <th>mean</th>\n",
       "      <td>6.755887</td>\n",
       "      <td>1253.940619</td>\n",
       "    </tr>\n",
       "    <tr>\n",
       "      <th>std</th>\n",
       "      <td>5.843365</td>\n",
       "      <td>144.722751</td>\n",
       "    </tr>\n",
       "    <tr>\n",
       "      <th>min</th>\n",
       "      <td>0.000000</td>\n",
       "      <td>1000.000000</td>\n",
       "    </tr>\n",
       "    <tr>\n",
       "      <th>25%</th>\n",
       "      <td>1.300000</td>\n",
       "      <td>1126.000000</td>\n",
       "    </tr>\n",
       "    <tr>\n",
       "      <th>50%</th>\n",
       "      <td>6.000000</td>\n",
       "      <td>1260.000000</td>\n",
       "    </tr>\n",
       "    <tr>\n",
       "      <th>75%</th>\n",
       "      <td>10.700000</td>\n",
       "      <td>1379.000000</td>\n",
       "    </tr>\n",
       "    <tr>\n",
       "      <th>max</th>\n",
       "      <td>38.000000</td>\n",
       "      <td>1499.000000</td>\n",
       "    </tr>\n",
       "  </tbody>\n",
       "</table>\n",
       "</div>"
      ],
      "text/plain": [
       "            duration        user_id\n",
       "count  202607.000000  202607.000000\n",
       "mean        6.755887    1253.940619\n",
       "std         5.843365     144.722751\n",
       "min         0.000000    1000.000000\n",
       "25%         1.300000    1126.000000\n",
       "50%         6.000000    1260.000000\n",
       "75%        10.700000    1379.000000\n",
       "max        38.000000    1499.000000"
      ]
     },
     "execution_count": 849,
     "metadata": {},
     "output_type": "execute_result"
    }
   ],
   "source": [
    "calls.info()\n",
    "calls.describe() \n"
   ]
  },
  {
   "cell_type": "code",
   "execution_count": 850,
   "metadata": {},
   "outputs": [
    {
     "data": {
      "text/html": [
       "<div>\n",
       "<style scoped>\n",
       "    .dataframe tbody tr th:only-of-type {\n",
       "        vertical-align: middle;\n",
       "    }\n",
       "\n",
       "    .dataframe tbody tr th {\n",
       "        vertical-align: top;\n",
       "    }\n",
       "\n",
       "    .dataframe thead th {\n",
       "        text-align: right;\n",
       "    }\n",
       "</style>\n",
       "<table border=\"1\" class=\"dataframe\">\n",
       "  <thead>\n",
       "    <tr style=\"text-align: right;\">\n",
       "      <th></th>\n",
       "      <th>id</th>\n",
       "      <th>call_date</th>\n",
       "      <th>duration</th>\n",
       "      <th>user_id</th>\n",
       "    </tr>\n",
       "  </thead>\n",
       "  <tbody>\n",
       "    <tr>\n",
       "      <th>0</th>\n",
       "      <td>1000_0</td>\n",
       "      <td>2018-07-25</td>\n",
       "      <td>0.00</td>\n",
       "      <td>1000</td>\n",
       "    </tr>\n",
       "    <tr>\n",
       "      <th>1</th>\n",
       "      <td>1000_1</td>\n",
       "      <td>2018-08-17</td>\n",
       "      <td>0.00</td>\n",
       "      <td>1000</td>\n",
       "    </tr>\n",
       "    <tr>\n",
       "      <th>2</th>\n",
       "      <td>1000_2</td>\n",
       "      <td>2018-06-11</td>\n",
       "      <td>2.85</td>\n",
       "      <td>1000</td>\n",
       "    </tr>\n",
       "    <tr>\n",
       "      <th>3</th>\n",
       "      <td>1000_3</td>\n",
       "      <td>2018-09-21</td>\n",
       "      <td>13.80</td>\n",
       "      <td>1000</td>\n",
       "    </tr>\n",
       "    <tr>\n",
       "      <th>4</th>\n",
       "      <td>1000_4</td>\n",
       "      <td>2018-12-15</td>\n",
       "      <td>5.18</td>\n",
       "      <td>1000</td>\n",
       "    </tr>\n",
       "  </tbody>\n",
       "</table>\n",
       "</div>"
      ],
      "text/plain": [
       "       id   call_date  duration  user_id\n",
       "0  1000_0  2018-07-25      0.00     1000\n",
       "1  1000_1  2018-08-17      0.00     1000\n",
       "2  1000_2  2018-06-11      2.85     1000\n",
       "3  1000_3  2018-09-21     13.80     1000\n",
       "4  1000_4  2018-12-15      5.18     1000"
      ]
     },
     "metadata": {},
     "output_type": "display_data"
    }
   ],
   "source": [
    "display(calls.head()) \n"
   ]
  },
  {
   "cell_type": "markdown",
   "metadata": {},
   "source": [
    " Есть звонки продолжительностью 0 минут, это, скорее всего, неотвеченные. Не будем их убирать, они никак не повлияют. Пропущенных значений нет."
   ]
  },
  {
   "cell_type": "code",
   "execution_count": 851,
   "metadata": {},
   "outputs": [],
   "source": [
    "#переведем время в формат даты\n",
    "#добавим месяц\n",
    "calls['call_date'] = pd.to_datetime(calls['call_date'], format='%Y-%m-%d')\n",
    "calls['month'] = calls['call_date'].astype('datetime64[M]')\n",
    "calls['duration'] = np.ceil(calls['duration']).astype('Int64') #округляем до целого в большую сторону"
   ]
  },
  {
   "cell_type": "code",
   "execution_count": 852,
   "metadata": {},
   "outputs": [
    {
     "data": {
      "text/html": [
       "<div>\n",
       "<style scoped>\n",
       "    .dataframe tbody tr th:only-of-type {\n",
       "        vertical-align: middle;\n",
       "    }\n",
       "\n",
       "    .dataframe tbody tr th {\n",
       "        vertical-align: top;\n",
       "    }\n",
       "\n",
       "    .dataframe thead th {\n",
       "        text-align: right;\n",
       "    }\n",
       "</style>\n",
       "<table border=\"1\" class=\"dataframe\">\n",
       "  <thead>\n",
       "    <tr style=\"text-align: right;\">\n",
       "      <th></th>\n",
       "      <th>id</th>\n",
       "      <th>call_date</th>\n",
       "      <th>duration</th>\n",
       "      <th>user_id</th>\n",
       "      <th>month</th>\n",
       "    </tr>\n",
       "  </thead>\n",
       "  <tbody>\n",
       "    <tr>\n",
       "      <th>0</th>\n",
       "      <td>1000_0</td>\n",
       "      <td>2018-07-25</td>\n",
       "      <td>0</td>\n",
       "      <td>1000</td>\n",
       "      <td>2018-07-01</td>\n",
       "    </tr>\n",
       "    <tr>\n",
       "      <th>1</th>\n",
       "      <td>1000_1</td>\n",
       "      <td>2018-08-17</td>\n",
       "      <td>0</td>\n",
       "      <td>1000</td>\n",
       "      <td>2018-08-01</td>\n",
       "    </tr>\n",
       "    <tr>\n",
       "      <th>2</th>\n",
       "      <td>1000_2</td>\n",
       "      <td>2018-06-11</td>\n",
       "      <td>3</td>\n",
       "      <td>1000</td>\n",
       "      <td>2018-06-01</td>\n",
       "    </tr>\n",
       "    <tr>\n",
       "      <th>3</th>\n",
       "      <td>1000_3</td>\n",
       "      <td>2018-09-21</td>\n",
       "      <td>14</td>\n",
       "      <td>1000</td>\n",
       "      <td>2018-09-01</td>\n",
       "    </tr>\n",
       "    <tr>\n",
       "      <th>4</th>\n",
       "      <td>1000_4</td>\n",
       "      <td>2018-12-15</td>\n",
       "      <td>6</td>\n",
       "      <td>1000</td>\n",
       "      <td>2018-12-01</td>\n",
       "    </tr>\n",
       "  </tbody>\n",
       "</table>\n",
       "</div>"
      ],
      "text/plain": [
       "       id  call_date  duration  user_id      month\n",
       "0  1000_0 2018-07-25         0     1000 2018-07-01\n",
       "1  1000_1 2018-08-17         0     1000 2018-08-01\n",
       "2  1000_2 2018-06-11         3     1000 2018-06-01\n",
       "3  1000_3 2018-09-21        14     1000 2018-09-01\n",
       "4  1000_4 2018-12-15         6     1000 2018-12-01"
      ]
     },
     "metadata": {},
     "output_type": "display_data"
    },
    {
     "name": "stdout",
     "output_type": "stream",
     "text": [
      "<class 'pandas.core.frame.DataFrame'>\n",
      "RangeIndex: 202607 entries, 0 to 202606\n",
      "Data columns (total 5 columns):\n",
      " #   Column     Non-Null Count   Dtype         \n",
      "---  ------     --------------   -----         \n",
      " 0   id         202607 non-null  object        \n",
      " 1   call_date  202607 non-null  datetime64[ns]\n",
      " 2   duration   202607 non-null  Int64         \n",
      " 3   user_id    202607 non-null  int64         \n",
      " 4   month      202607 non-null  datetime64[ns]\n",
      "dtypes: Int64(1), datetime64[ns](2), int64(1), object(1)\n",
      "memory usage: 7.9+ MB\n"
     ]
    }
   ],
   "source": [
    "display(calls.head())\n",
    "calls.info()"
   ]
  },
  {
   "cell_type": "markdown",
   "metadata": {},
   "source": [
    "Оставим только нужные столбцы - идентиф.пользователя, месяц и время звонка. Сгруппируем полученную таблицу по id пользователя и месяца."
   ]
  },
  {
   "cell_type": "code",
   "execution_count": 853,
   "metadata": {},
   "outputs": [
    {
     "data": {
      "text/html": [
       "<div>\n",
       "<style scoped>\n",
       "    .dataframe tbody tr th:only-of-type {\n",
       "        vertical-align: middle;\n",
       "    }\n",
       "\n",
       "    .dataframe tbody tr th {\n",
       "        vertical-align: top;\n",
       "    }\n",
       "\n",
       "    .dataframe thead th {\n",
       "        text-align: right;\n",
       "    }\n",
       "</style>\n",
       "<table border=\"1\" class=\"dataframe\">\n",
       "  <thead>\n",
       "    <tr style=\"text-align: right;\">\n",
       "      <th></th>\n",
       "      <th>user_id</th>\n",
       "      <th>month</th>\n",
       "      <th>sum_minut</th>\n",
       "    </tr>\n",
       "  </thead>\n",
       "  <tbody>\n",
       "    <tr>\n",
       "      <th>0</th>\n",
       "      <td>1000</td>\n",
       "      <td>2018-05-01</td>\n",
       "      <td>159</td>\n",
       "    </tr>\n",
       "    <tr>\n",
       "      <th>1</th>\n",
       "      <td>1000</td>\n",
       "      <td>2018-06-01</td>\n",
       "      <td>172</td>\n",
       "    </tr>\n",
       "    <tr>\n",
       "      <th>2</th>\n",
       "      <td>1000</td>\n",
       "      <td>2018-07-01</td>\n",
       "      <td>340</td>\n",
       "    </tr>\n",
       "    <tr>\n",
       "      <th>3</th>\n",
       "      <td>1000</td>\n",
       "      <td>2018-08-01</td>\n",
       "      <td>408</td>\n",
       "    </tr>\n",
       "    <tr>\n",
       "      <th>4</th>\n",
       "      <td>1000</td>\n",
       "      <td>2018-09-01</td>\n",
       "      <td>466</td>\n",
       "    </tr>\n",
       "  </tbody>\n",
       "</table>\n",
       "</div>"
      ],
      "text/plain": [
       "   user_id      month  sum_minut\n",
       "0     1000 2018-05-01        159\n",
       "1     1000 2018-06-01        172\n",
       "2     1000 2018-07-01        340\n",
       "3     1000 2018-08-01        408\n",
       "4     1000 2018-09-01        466"
      ]
     },
     "metadata": {},
     "output_type": "display_data"
    },
    {
     "name": "stdout",
     "output_type": "stream",
     "text": [
      "<class 'pandas.core.frame.DataFrame'>\n",
      "RangeIndex: 3174 entries, 0 to 3173\n",
      "Data columns (total 3 columns):\n",
      " #   Column     Non-Null Count  Dtype         \n",
      "---  ------     --------------  -----         \n",
      " 0   user_id    3174 non-null   int64         \n",
      " 1   month      3174 non-null   datetime64[ns]\n",
      " 2   sum_minut  3174 non-null   Int64         \n",
      "dtypes: Int64(1), datetime64[ns](1), int64(1)\n",
      "memory usage: 77.6 KB\n"
     ]
    }
   ],
   "source": [
    "calls_pivot = calls.pivot_table(index=['user_id', 'month'], values='duration', aggfunc='sum').reset_index()     \n",
    "calls_pivot = calls_pivot.rename(columns={'duration': 'sum_minut'})\n",
    "display(calls_pivot.head())\n",
    "calls_pivot.info()"
   ]
  },
  {
   "cell_type": "markdown",
   "metadata": {},
   "source": [
    "**Изучим данные из файла internet**"
   ]
  },
  {
   "cell_type": "code",
   "execution_count": 854,
   "metadata": {
    "scrolled": true
   },
   "outputs": [
    {
     "name": "stdout",
     "output_type": "stream",
     "text": [
      "<class 'pandas.core.frame.DataFrame'>\n",
      "RangeIndex: 149396 entries, 0 to 149395\n",
      "Data columns (total 5 columns):\n",
      " #   Column        Non-Null Count   Dtype  \n",
      "---  ------        --------------   -----  \n",
      " 0   Unnamed: 0    149396 non-null  int64  \n",
      " 1   id            149396 non-null  object \n",
      " 2   mb_used       149396 non-null  float64\n",
      " 3   session_date  149396 non-null  object \n",
      " 4   user_id       149396 non-null  int64  \n",
      "dtypes: float64(1), int64(2), object(2)\n",
      "memory usage: 5.7+ MB\n"
     ]
    },
    {
     "data": {
      "text/html": [
       "<div>\n",
       "<style scoped>\n",
       "    .dataframe tbody tr th:only-of-type {\n",
       "        vertical-align: middle;\n",
       "    }\n",
       "\n",
       "    .dataframe tbody tr th {\n",
       "        vertical-align: top;\n",
       "    }\n",
       "\n",
       "    .dataframe thead th {\n",
       "        text-align: right;\n",
       "    }\n",
       "</style>\n",
       "<table border=\"1\" class=\"dataframe\">\n",
       "  <thead>\n",
       "    <tr style=\"text-align: right;\">\n",
       "      <th></th>\n",
       "      <th>Unnamed: 0</th>\n",
       "      <th>id</th>\n",
       "      <th>mb_used</th>\n",
       "      <th>session_date</th>\n",
       "      <th>user_id</th>\n",
       "    </tr>\n",
       "  </thead>\n",
       "  <tbody>\n",
       "    <tr>\n",
       "      <th>0</th>\n",
       "      <td>0</td>\n",
       "      <td>1000_0</td>\n",
       "      <td>112.95</td>\n",
       "      <td>2018-11-25</td>\n",
       "      <td>1000</td>\n",
       "    </tr>\n",
       "    <tr>\n",
       "      <th>1</th>\n",
       "      <td>1</td>\n",
       "      <td>1000_1</td>\n",
       "      <td>1052.81</td>\n",
       "      <td>2018-09-07</td>\n",
       "      <td>1000</td>\n",
       "    </tr>\n",
       "    <tr>\n",
       "      <th>2</th>\n",
       "      <td>2</td>\n",
       "      <td>1000_2</td>\n",
       "      <td>1197.26</td>\n",
       "      <td>2018-06-25</td>\n",
       "      <td>1000</td>\n",
       "    </tr>\n",
       "    <tr>\n",
       "      <th>3</th>\n",
       "      <td>3</td>\n",
       "      <td>1000_3</td>\n",
       "      <td>550.27</td>\n",
       "      <td>2018-08-22</td>\n",
       "      <td>1000</td>\n",
       "    </tr>\n",
       "    <tr>\n",
       "      <th>4</th>\n",
       "      <td>4</td>\n",
       "      <td>1000_4</td>\n",
       "      <td>302.56</td>\n",
       "      <td>2018-09-24</td>\n",
       "      <td>1000</td>\n",
       "    </tr>\n",
       "  </tbody>\n",
       "</table>\n",
       "</div>"
      ],
      "text/plain": [
       "   Unnamed: 0      id  mb_used session_date  user_id\n",
       "0           0  1000_0   112.95   2018-11-25     1000\n",
       "1           1  1000_1  1052.81   2018-09-07     1000\n",
       "2           2  1000_2  1197.26   2018-06-25     1000\n",
       "3           3  1000_3   550.27   2018-08-22     1000\n",
       "4           4  1000_4   302.56   2018-09-24     1000"
      ]
     },
     "execution_count": 854,
     "metadata": {},
     "output_type": "execute_result"
    }
   ],
   "source": [
    "internet.info()\n",
    "internet.head()\n"
   ]
  },
  {
   "cell_type": "markdown",
   "metadata": {},
   "source": [
    "Пропущенных значений нет. "
   ]
  },
  {
   "cell_type": "code",
   "execution_count": 855,
   "metadata": {
    "scrolled": true
   },
   "outputs": [
    {
     "data": {
      "text/html": [
       "<div>\n",
       "<style scoped>\n",
       "    .dataframe tbody tr th:only-of-type {\n",
       "        vertical-align: middle;\n",
       "    }\n",
       "\n",
       "    .dataframe tbody tr th {\n",
       "        vertical-align: top;\n",
       "    }\n",
       "\n",
       "    .dataframe thead th {\n",
       "        text-align: right;\n",
       "    }\n",
       "</style>\n",
       "<table border=\"1\" class=\"dataframe\">\n",
       "  <thead>\n",
       "    <tr style=\"text-align: right;\">\n",
       "      <th></th>\n",
       "      <th>Unnamed: 0</th>\n",
       "      <th>id</th>\n",
       "      <th>mb_used</th>\n",
       "      <th>session_date</th>\n",
       "      <th>user_id</th>\n",
       "      <th>month</th>\n",
       "      <th>gb_used</th>\n",
       "    </tr>\n",
       "  </thead>\n",
       "  <tbody>\n",
       "    <tr>\n",
       "      <th>0</th>\n",
       "      <td>0</td>\n",
       "      <td>1000_0</td>\n",
       "      <td>112.95</td>\n",
       "      <td>2018-11-25</td>\n",
       "      <td>1000</td>\n",
       "      <td>2018-11-01</td>\n",
       "      <td>0.110303</td>\n",
       "    </tr>\n",
       "    <tr>\n",
       "      <th>1</th>\n",
       "      <td>1</td>\n",
       "      <td>1000_1</td>\n",
       "      <td>1052.81</td>\n",
       "      <td>2018-09-07</td>\n",
       "      <td>1000</td>\n",
       "      <td>2018-09-01</td>\n",
       "      <td>1.028135</td>\n",
       "    </tr>\n",
       "    <tr>\n",
       "      <th>2</th>\n",
       "      <td>2</td>\n",
       "      <td>1000_2</td>\n",
       "      <td>1197.26</td>\n",
       "      <td>2018-06-25</td>\n",
       "      <td>1000</td>\n",
       "      <td>2018-06-01</td>\n",
       "      <td>1.169199</td>\n",
       "    </tr>\n",
       "    <tr>\n",
       "      <th>3</th>\n",
       "      <td>3</td>\n",
       "      <td>1000_3</td>\n",
       "      <td>550.27</td>\n",
       "      <td>2018-08-22</td>\n",
       "      <td>1000</td>\n",
       "      <td>2018-08-01</td>\n",
       "      <td>0.537373</td>\n",
       "    </tr>\n",
       "    <tr>\n",
       "      <th>4</th>\n",
       "      <td>4</td>\n",
       "      <td>1000_4</td>\n",
       "      <td>302.56</td>\n",
       "      <td>2018-09-24</td>\n",
       "      <td>1000</td>\n",
       "      <td>2018-09-01</td>\n",
       "      <td>0.295469</td>\n",
       "    </tr>\n",
       "  </tbody>\n",
       "</table>\n",
       "</div>"
      ],
      "text/plain": [
       "   Unnamed: 0      id  mb_used session_date  user_id      month   gb_used\n",
       "0           0  1000_0   112.95   2018-11-25     1000 2018-11-01  0.110303\n",
       "1           1  1000_1  1052.81   2018-09-07     1000 2018-09-01  1.028135\n",
       "2           2  1000_2  1197.26   2018-06-25     1000 2018-06-01  1.169199\n",
       "3           3  1000_3   550.27   2018-08-22     1000 2018-08-01  0.537373\n",
       "4           4  1000_4   302.56   2018-09-24     1000 2018-09-01  0.295469"
      ]
     },
     "execution_count": 855,
     "metadata": {},
     "output_type": "execute_result"
    }
   ],
   "source": [
    "# переведем время в формат даты\n",
    "#добавим месяц\n",
    "#Интернет переведем в ГБ \n",
    "internet['session_date'] = pd.to_datetime(internet['session_date'], format='%Y-%m-%d')\n",
    "internet['month'] = internet['session_date'].astype('datetime64[M]') \n",
    "internet['gb_used']=internet['mb_used'] / 1024\n",
    "\n",
    "internet.head()"
   ]
  },
  {
   "cell_type": "code",
   "execution_count": 856,
   "metadata": {},
   "outputs": [
    {
     "data": {
      "text/html": [
       "<div>\n",
       "<style scoped>\n",
       "    .dataframe tbody tr th:only-of-type {\n",
       "        vertical-align: middle;\n",
       "    }\n",
       "\n",
       "    .dataframe tbody tr th {\n",
       "        vertical-align: top;\n",
       "    }\n",
       "\n",
       "    .dataframe thead th {\n",
       "        text-align: right;\n",
       "    }\n",
       "</style>\n",
       "<table border=\"1\" class=\"dataframe\">\n",
       "  <thead>\n",
       "    <tr style=\"text-align: right;\">\n",
       "      <th></th>\n",
       "      <th>user_id</th>\n",
       "      <th>month</th>\n",
       "      <th>gb_used</th>\n",
       "    </tr>\n",
       "  </thead>\n",
       "  <tbody>\n",
       "    <tr>\n",
       "      <th>0</th>\n",
       "      <td>1000</td>\n",
       "      <td>2018-05-01</td>\n",
       "      <td>3</td>\n",
       "    </tr>\n",
       "    <tr>\n",
       "      <th>1</th>\n",
       "      <td>1000</td>\n",
       "      <td>2018-06-01</td>\n",
       "      <td>23</td>\n",
       "    </tr>\n",
       "    <tr>\n",
       "      <th>2</th>\n",
       "      <td>1000</td>\n",
       "      <td>2018-07-01</td>\n",
       "      <td>14</td>\n",
       "    </tr>\n",
       "    <tr>\n",
       "      <th>3</th>\n",
       "      <td>1000</td>\n",
       "      <td>2018-08-01</td>\n",
       "      <td>14</td>\n",
       "    </tr>\n",
       "    <tr>\n",
       "      <th>4</th>\n",
       "      <td>1000</td>\n",
       "      <td>2018-09-01</td>\n",
       "      <td>15</td>\n",
       "    </tr>\n",
       "  </tbody>\n",
       "</table>\n",
       "</div>"
      ],
      "text/plain": [
       "   user_id      month  gb_used\n",
       "0     1000 2018-05-01        3\n",
       "1     1000 2018-06-01       23\n",
       "2     1000 2018-07-01       14\n",
       "3     1000 2018-08-01       14\n",
       "4     1000 2018-09-01       15"
      ]
     },
     "metadata": {},
     "output_type": "display_data"
    },
    {
     "name": "stdout",
     "output_type": "stream",
     "text": [
      "<class 'pandas.core.frame.DataFrame'>\n",
      "RangeIndex: 3203 entries, 0 to 3202\n",
      "Data columns (total 3 columns):\n",
      " #   Column   Non-Null Count  Dtype         \n",
      "---  ------   --------------  -----         \n",
      " 0   user_id  3203 non-null   int64         \n",
      " 1   month    3203 non-null   datetime64[ns]\n",
      " 2   gb_used  3203 non-null   Int64         \n",
      "dtypes: Int64(1), datetime64[ns](1), int64(1)\n",
      "memory usage: 78.3 KB\n"
     ]
    }
   ],
   "source": [
    "internet_pivot = internet.pivot_table(index=['user_id', 'month'], values='gb_used', aggfunc='sum').reset_index()     \n",
    "internet_pivot['gb_used'] = np.ceil(internet_pivot['gb_used']).astype('Int64')# преобразуем в int с округлением в большую сторону\n",
    "display(internet_pivot.head())\n",
    "internet_pivot.info()"
   ]
  },
  {
   "cell_type": "markdown",
   "metadata": {},
   "source": [
    "**Изучим данные из файла messages**"
   ]
  },
  {
   "cell_type": "code",
   "execution_count": 857,
   "metadata": {},
   "outputs": [
    {
     "name": "stdout",
     "output_type": "stream",
     "text": [
      "<class 'pandas.core.frame.DataFrame'>\n",
      "RangeIndex: 123036 entries, 0 to 123035\n",
      "Data columns (total 3 columns):\n",
      " #   Column        Non-Null Count   Dtype \n",
      "---  ------        --------------   ----- \n",
      " 0   id            123036 non-null  object\n",
      " 1   message_date  123036 non-null  object\n",
      " 2   user_id       123036 non-null  int64 \n",
      "dtypes: int64(1), object(2)\n",
      "memory usage: 2.8+ MB\n"
     ]
    },
    {
     "data": {
      "text/html": [
       "<div>\n",
       "<style scoped>\n",
       "    .dataframe tbody tr th:only-of-type {\n",
       "        vertical-align: middle;\n",
       "    }\n",
       "\n",
       "    .dataframe tbody tr th {\n",
       "        vertical-align: top;\n",
       "    }\n",
       "\n",
       "    .dataframe thead th {\n",
       "        text-align: right;\n",
       "    }\n",
       "</style>\n",
       "<table border=\"1\" class=\"dataframe\">\n",
       "  <thead>\n",
       "    <tr style=\"text-align: right;\">\n",
       "      <th></th>\n",
       "      <th>id</th>\n",
       "      <th>message_date</th>\n",
       "      <th>user_id</th>\n",
       "    </tr>\n",
       "  </thead>\n",
       "  <tbody>\n",
       "    <tr>\n",
       "      <th>0</th>\n",
       "      <td>1000_0</td>\n",
       "      <td>2018-06-27</td>\n",
       "      <td>1000</td>\n",
       "    </tr>\n",
       "    <tr>\n",
       "      <th>1</th>\n",
       "      <td>1000_1</td>\n",
       "      <td>2018-10-08</td>\n",
       "      <td>1000</td>\n",
       "    </tr>\n",
       "    <tr>\n",
       "      <th>2</th>\n",
       "      <td>1000_2</td>\n",
       "      <td>2018-08-04</td>\n",
       "      <td>1000</td>\n",
       "    </tr>\n",
       "    <tr>\n",
       "      <th>3</th>\n",
       "      <td>1000_3</td>\n",
       "      <td>2018-06-16</td>\n",
       "      <td>1000</td>\n",
       "    </tr>\n",
       "    <tr>\n",
       "      <th>4</th>\n",
       "      <td>1000_4</td>\n",
       "      <td>2018-12-05</td>\n",
       "      <td>1000</td>\n",
       "    </tr>\n",
       "  </tbody>\n",
       "</table>\n",
       "</div>"
      ],
      "text/plain": [
       "       id message_date  user_id\n",
       "0  1000_0   2018-06-27     1000\n",
       "1  1000_1   2018-10-08     1000\n",
       "2  1000_2   2018-08-04     1000\n",
       "3  1000_3   2018-06-16     1000\n",
       "4  1000_4   2018-12-05     1000"
      ]
     },
     "execution_count": 857,
     "metadata": {},
     "output_type": "execute_result"
    }
   ],
   "source": [
    "messages.info()\n",
    "messages.head()\n",
    "\n"
   ]
  },
  {
   "cell_type": "markdown",
   "metadata": {},
   "source": [
    " Пропущенных значений нет. "
   ]
  },
  {
   "cell_type": "code",
   "execution_count": 858,
   "metadata": {},
   "outputs": [
    {
     "data": {
      "text/html": [
       "<div>\n",
       "<style scoped>\n",
       "    .dataframe tbody tr th:only-of-type {\n",
       "        vertical-align: middle;\n",
       "    }\n",
       "\n",
       "    .dataframe tbody tr th {\n",
       "        vertical-align: top;\n",
       "    }\n",
       "\n",
       "    .dataframe thead th {\n",
       "        text-align: right;\n",
       "    }\n",
       "</style>\n",
       "<table border=\"1\" class=\"dataframe\">\n",
       "  <thead>\n",
       "    <tr style=\"text-align: right;\">\n",
       "      <th></th>\n",
       "      <th>id</th>\n",
       "      <th>message_date</th>\n",
       "      <th>user_id</th>\n",
       "      <th>month</th>\n",
       "    </tr>\n",
       "  </thead>\n",
       "  <tbody>\n",
       "    <tr>\n",
       "      <th>0</th>\n",
       "      <td>1000_0</td>\n",
       "      <td>2018-06-27</td>\n",
       "      <td>1000</td>\n",
       "      <td>2018-06-01</td>\n",
       "    </tr>\n",
       "    <tr>\n",
       "      <th>1</th>\n",
       "      <td>1000_1</td>\n",
       "      <td>2018-10-08</td>\n",
       "      <td>1000</td>\n",
       "      <td>2018-10-01</td>\n",
       "    </tr>\n",
       "    <tr>\n",
       "      <th>2</th>\n",
       "      <td>1000_2</td>\n",
       "      <td>2018-08-04</td>\n",
       "      <td>1000</td>\n",
       "      <td>2018-08-01</td>\n",
       "    </tr>\n",
       "    <tr>\n",
       "      <th>3</th>\n",
       "      <td>1000_3</td>\n",
       "      <td>2018-06-16</td>\n",
       "      <td>1000</td>\n",
       "      <td>2018-06-01</td>\n",
       "    </tr>\n",
       "    <tr>\n",
       "      <th>4</th>\n",
       "      <td>1000_4</td>\n",
       "      <td>2018-12-05</td>\n",
       "      <td>1000</td>\n",
       "      <td>2018-12-01</td>\n",
       "    </tr>\n",
       "  </tbody>\n",
       "</table>\n",
       "</div>"
      ],
      "text/plain": [
       "       id message_date  user_id      month\n",
       "0  1000_0   2018-06-27     1000 2018-06-01\n",
       "1  1000_1   2018-10-08     1000 2018-10-01\n",
       "2  1000_2   2018-08-04     1000 2018-08-01\n",
       "3  1000_3   2018-06-16     1000 2018-06-01\n",
       "4  1000_4   2018-12-05     1000 2018-12-01"
      ]
     },
     "metadata": {},
     "output_type": "display_data"
    },
    {
     "name": "stdout",
     "output_type": "stream",
     "text": [
      "<class 'pandas.core.frame.DataFrame'>\n",
      "RangeIndex: 123036 entries, 0 to 123035\n",
      "Data columns (total 4 columns):\n",
      " #   Column        Non-Null Count   Dtype         \n",
      "---  ------        --------------   -----         \n",
      " 0   id            123036 non-null  object        \n",
      " 1   message_date  123036 non-null  datetime64[ns]\n",
      " 2   user_id       123036 non-null  int64         \n",
      " 3   month         123036 non-null  datetime64[ns]\n",
      "dtypes: datetime64[ns](2), int64(1), object(1)\n",
      "memory usage: 3.8+ MB\n"
     ]
    }
   ],
   "source": [
    "messages['message_date'] = pd.to_datetime(messages['message_date'], format='%Y-%m-%d')#переведем время в формат даты\n",
    "messages['month'] = messages['message_date'].astype('datetime64[M]') #добавим месяц\n",
    "display(messages.head())\n",
    "messages.info()"
   ]
  },
  {
   "cell_type": "code",
   "execution_count": 859,
   "metadata": {},
   "outputs": [
    {
     "data": {
      "text/html": [
       "<div>\n",
       "<style scoped>\n",
       "    .dataframe tbody tr th:only-of-type {\n",
       "        vertical-align: middle;\n",
       "    }\n",
       "\n",
       "    .dataframe tbody tr th {\n",
       "        vertical-align: top;\n",
       "    }\n",
       "\n",
       "    .dataframe thead th {\n",
       "        text-align: right;\n",
       "    }\n",
       "</style>\n",
       "<table border=\"1\" class=\"dataframe\">\n",
       "  <thead>\n",
       "    <tr style=\"text-align: right;\">\n",
       "      <th></th>\n",
       "      <th>user_id</th>\n",
       "      <th>month</th>\n",
       "      <th>sum_message</th>\n",
       "    </tr>\n",
       "  </thead>\n",
       "  <tbody>\n",
       "    <tr>\n",
       "      <th>0</th>\n",
       "      <td>1000</td>\n",
       "      <td>2018-05-01</td>\n",
       "      <td>22</td>\n",
       "    </tr>\n",
       "    <tr>\n",
       "      <th>1</th>\n",
       "      <td>1000</td>\n",
       "      <td>2018-06-01</td>\n",
       "      <td>60</td>\n",
       "    </tr>\n",
       "    <tr>\n",
       "      <th>2</th>\n",
       "      <td>1000</td>\n",
       "      <td>2018-07-01</td>\n",
       "      <td>75</td>\n",
       "    </tr>\n",
       "    <tr>\n",
       "      <th>3</th>\n",
       "      <td>1000</td>\n",
       "      <td>2018-08-01</td>\n",
       "      <td>81</td>\n",
       "    </tr>\n",
       "    <tr>\n",
       "      <th>4</th>\n",
       "      <td>1000</td>\n",
       "      <td>2018-09-01</td>\n",
       "      <td>57</td>\n",
       "    </tr>\n",
       "  </tbody>\n",
       "</table>\n",
       "</div>"
      ],
      "text/plain": [
       "   user_id      month  sum_message\n",
       "0     1000 2018-05-01           22\n",
       "1     1000 2018-06-01           60\n",
       "2     1000 2018-07-01           75\n",
       "3     1000 2018-08-01           81\n",
       "4     1000 2018-09-01           57"
      ]
     },
     "metadata": {},
     "output_type": "display_data"
    },
    {
     "name": "stdout",
     "output_type": "stream",
     "text": [
      "<class 'pandas.core.frame.DataFrame'>\n",
      "RangeIndex: 2717 entries, 0 to 2716\n",
      "Data columns (total 3 columns):\n",
      " #   Column       Non-Null Count  Dtype         \n",
      "---  ------       --------------  -----         \n",
      " 0   user_id      2717 non-null   int64         \n",
      " 1   month        2717 non-null   datetime64[ns]\n",
      " 2   sum_message  2717 non-null   int64         \n",
      "dtypes: datetime64[ns](1), int64(2)\n",
      "memory usage: 63.8 KB\n"
     ]
    }
   ],
   "source": [
    "messages_pivot = messages.pivot_table(index=['user_id', 'month'], values='message_date', aggfunc='count').reset_index()     \n",
    "messages_pivot = messages_pivot.rename(columns={'message_date': 'sum_message'}) #поменяем название для удобства\n",
    "display(messages_pivot.head())\n",
    "messages_pivot.info()"
   ]
  },
  {
   "cell_type": "markdown",
   "metadata": {},
   "source": [
    "**Изучим данные из файла users**"
   ]
  },
  {
   "cell_type": "code",
   "execution_count": 860,
   "metadata": {
    "scrolled": true
   },
   "outputs": [
    {
     "name": "stdout",
     "output_type": "stream",
     "text": [
      "<class 'pandas.core.frame.DataFrame'>\n",
      "RangeIndex: 500 entries, 0 to 499\n",
      "Data columns (total 8 columns):\n",
      " #   Column      Non-Null Count  Dtype \n",
      "---  ------      --------------  ----- \n",
      " 0   user_id     500 non-null    int64 \n",
      " 1   age         500 non-null    int64 \n",
      " 2   churn_date  38 non-null     object\n",
      " 3   city        500 non-null    object\n",
      " 4   first_name  500 non-null    object\n",
      " 5   last_name   500 non-null    object\n",
      " 6   reg_date    500 non-null    object\n",
      " 7   tariff      500 non-null    object\n",
      "dtypes: int64(2), object(6)\n",
      "memory usage: 31.4+ KB\n"
     ]
    },
    {
     "data": {
      "text/html": [
       "<div>\n",
       "<style scoped>\n",
       "    .dataframe tbody tr th:only-of-type {\n",
       "        vertical-align: middle;\n",
       "    }\n",
       "\n",
       "    .dataframe tbody tr th {\n",
       "        vertical-align: top;\n",
       "    }\n",
       "\n",
       "    .dataframe thead th {\n",
       "        text-align: right;\n",
       "    }\n",
       "</style>\n",
       "<table border=\"1\" class=\"dataframe\">\n",
       "  <thead>\n",
       "    <tr style=\"text-align: right;\">\n",
       "      <th></th>\n",
       "      <th>user_id</th>\n",
       "      <th>age</th>\n",
       "      <th>churn_date</th>\n",
       "      <th>city</th>\n",
       "      <th>first_name</th>\n",
       "      <th>last_name</th>\n",
       "      <th>reg_date</th>\n",
       "      <th>tariff</th>\n",
       "    </tr>\n",
       "  </thead>\n",
       "  <tbody>\n",
       "    <tr>\n",
       "      <th>0</th>\n",
       "      <td>1000</td>\n",
       "      <td>52</td>\n",
       "      <td>NaN</td>\n",
       "      <td>Краснодар</td>\n",
       "      <td>Рафаил</td>\n",
       "      <td>Верещагин</td>\n",
       "      <td>2018-05-25</td>\n",
       "      <td>ultra</td>\n",
       "    </tr>\n",
       "    <tr>\n",
       "      <th>1</th>\n",
       "      <td>1001</td>\n",
       "      <td>41</td>\n",
       "      <td>NaN</td>\n",
       "      <td>Москва</td>\n",
       "      <td>Иван</td>\n",
       "      <td>Ежов</td>\n",
       "      <td>2018-11-01</td>\n",
       "      <td>smart</td>\n",
       "    </tr>\n",
       "    <tr>\n",
       "      <th>2</th>\n",
       "      <td>1002</td>\n",
       "      <td>59</td>\n",
       "      <td>NaN</td>\n",
       "      <td>Стерлитамак</td>\n",
       "      <td>Евгений</td>\n",
       "      <td>Абрамович</td>\n",
       "      <td>2018-06-17</td>\n",
       "      <td>smart</td>\n",
       "    </tr>\n",
       "    <tr>\n",
       "      <th>3</th>\n",
       "      <td>1003</td>\n",
       "      <td>23</td>\n",
       "      <td>NaN</td>\n",
       "      <td>Москва</td>\n",
       "      <td>Белла</td>\n",
       "      <td>Белякова</td>\n",
       "      <td>2018-08-17</td>\n",
       "      <td>ultra</td>\n",
       "    </tr>\n",
       "    <tr>\n",
       "      <th>4</th>\n",
       "      <td>1004</td>\n",
       "      <td>68</td>\n",
       "      <td>NaN</td>\n",
       "      <td>Новокузнецк</td>\n",
       "      <td>Татьяна</td>\n",
       "      <td>Авдеенко</td>\n",
       "      <td>2018-05-14</td>\n",
       "      <td>ultra</td>\n",
       "    </tr>\n",
       "  </tbody>\n",
       "</table>\n",
       "</div>"
      ],
      "text/plain": [
       "   user_id  age churn_date         city first_name  last_name    reg_date  \\\n",
       "0     1000   52        NaN    Краснодар     Рафаил  Верещагин  2018-05-25   \n",
       "1     1001   41        NaN       Москва       Иван       Ежов  2018-11-01   \n",
       "2     1002   59        NaN  Стерлитамак    Евгений  Абрамович  2018-06-17   \n",
       "3     1003   23        NaN       Москва      Белла   Белякова  2018-08-17   \n",
       "4     1004   68        NaN  Новокузнецк    Татьяна   Авдеенко  2018-05-14   \n",
       "\n",
       "  tariff  \n",
       "0  ultra  \n",
       "1  smart  \n",
       "2  smart  \n",
       "3  ultra  \n",
       "4  ultra  "
      ]
     },
     "execution_count": 860,
     "metadata": {},
     "output_type": "execute_result"
    }
   ],
   "source": [
    "users.info()\n",
    "users.head()"
   ]
  },
  {
   "cell_type": "markdown",
   "metadata": {},
   "source": [
    "Есть пропущенные значения в дате прекращения тарифа, т.к. большинство тарифов еще действовало."
   ]
  },
  {
   "cell_type": "code",
   "execution_count": 861,
   "metadata": {},
   "outputs": [
    {
     "data": {
      "text/html": [
       "<div>\n",
       "<style scoped>\n",
       "    .dataframe tbody tr th:only-of-type {\n",
       "        vertical-align: middle;\n",
       "    }\n",
       "\n",
       "    .dataframe tbody tr th {\n",
       "        vertical-align: top;\n",
       "    }\n",
       "\n",
       "    .dataframe thead th {\n",
       "        text-align: right;\n",
       "    }\n",
       "</style>\n",
       "<table border=\"1\" class=\"dataframe\">\n",
       "  <thead>\n",
       "    <tr style=\"text-align: right;\">\n",
       "      <th></th>\n",
       "      <th>user_id</th>\n",
       "      <th>tariff</th>\n",
       "      <th>city</th>\n",
       "    </tr>\n",
       "  </thead>\n",
       "  <tbody>\n",
       "    <tr>\n",
       "      <th>0</th>\n",
       "      <td>1000</td>\n",
       "      <td>ultra</td>\n",
       "      <td>Краснодар</td>\n",
       "    </tr>\n",
       "    <tr>\n",
       "      <th>1</th>\n",
       "      <td>1001</td>\n",
       "      <td>smart</td>\n",
       "      <td>Москва</td>\n",
       "    </tr>\n",
       "    <tr>\n",
       "      <th>2</th>\n",
       "      <td>1002</td>\n",
       "      <td>smart</td>\n",
       "      <td>Стерлитамак</td>\n",
       "    </tr>\n",
       "    <tr>\n",
       "      <th>3</th>\n",
       "      <td>1003</td>\n",
       "      <td>ultra</td>\n",
       "      <td>Москва</td>\n",
       "    </tr>\n",
       "    <tr>\n",
       "      <th>4</th>\n",
       "      <td>1004</td>\n",
       "      <td>ultra</td>\n",
       "      <td>Новокузнецк</td>\n",
       "    </tr>\n",
       "  </tbody>\n",
       "</table>\n",
       "</div>"
      ],
      "text/plain": [
       "   user_id tariff         city\n",
       "0     1000  ultra    Краснодар\n",
       "1     1001  smart       Москва\n",
       "2     1002  smart  Стерлитамак\n",
       "3     1003  ultra       Москва\n",
       "4     1004  ultra  Новокузнецк"
      ]
     },
     "metadata": {},
     "output_type": "display_data"
    },
    {
     "name": "stdout",
     "output_type": "stream",
     "text": [
      "<class 'pandas.core.frame.DataFrame'>\n",
      "RangeIndex: 500 entries, 0 to 499\n",
      "Data columns (total 3 columns):\n",
      " #   Column   Non-Null Count  Dtype \n",
      "---  ------   --------------  ----- \n",
      " 0   user_id  500 non-null    int64 \n",
      " 1   tariff   500 non-null    object\n",
      " 2   city     500 non-null    object\n",
      "dtypes: int64(1), object(2)\n",
      "memory usage: 11.8+ KB\n"
     ]
    }
   ],
   "source": [
    "#Оставляем только нужные для анализа столбцы - идентиф.абонента, тариф и город.\n",
    "users=users[['user_id', 'tariff', 'city']]\n",
    "display(users.head())\n",
    "users.info()"
   ]
  },
  {
   "cell_type": "markdown",
   "metadata": {},
   "source": [
    "### Подготовим данные"
   ]
  },
  {
   "cell_type": "markdown",
   "metadata": {},
   "source": [
    "**Объединим таблицы**"
   ]
  },
  {
   "cell_type": "code",
   "execution_count": 862,
   "metadata": {},
   "outputs": [
    {
     "data": {
      "text/html": [
       "<div>\n",
       "<style scoped>\n",
       "    .dataframe tbody tr th:only-of-type {\n",
       "        vertical-align: middle;\n",
       "    }\n",
       "\n",
       "    .dataframe tbody tr th {\n",
       "        vertical-align: top;\n",
       "    }\n",
       "\n",
       "    .dataframe thead th {\n",
       "        text-align: right;\n",
       "    }\n",
       "</style>\n",
       "<table border=\"1\" class=\"dataframe\">\n",
       "  <thead>\n",
       "    <tr style=\"text-align: right;\">\n",
       "      <th></th>\n",
       "      <th>user_id</th>\n",
       "      <th>month</th>\n",
       "      <th>sum_minut</th>\n",
       "      <th>sum_message</th>\n",
       "    </tr>\n",
       "  </thead>\n",
       "  <tbody>\n",
       "    <tr>\n",
       "      <th>0</th>\n",
       "      <td>1000</td>\n",
       "      <td>2018-05-01</td>\n",
       "      <td>159</td>\n",
       "      <td>22.0</td>\n",
       "    </tr>\n",
       "    <tr>\n",
       "      <th>1</th>\n",
       "      <td>1000</td>\n",
       "      <td>2018-06-01</td>\n",
       "      <td>172</td>\n",
       "      <td>60.0</td>\n",
       "    </tr>\n",
       "    <tr>\n",
       "      <th>2</th>\n",
       "      <td>1000</td>\n",
       "      <td>2018-07-01</td>\n",
       "      <td>340</td>\n",
       "      <td>75.0</td>\n",
       "    </tr>\n",
       "    <tr>\n",
       "      <th>3</th>\n",
       "      <td>1000</td>\n",
       "      <td>2018-08-01</td>\n",
       "      <td>408</td>\n",
       "      <td>81.0</td>\n",
       "    </tr>\n",
       "    <tr>\n",
       "      <th>4</th>\n",
       "      <td>1000</td>\n",
       "      <td>2018-09-01</td>\n",
       "      <td>466</td>\n",
       "      <td>57.0</td>\n",
       "    </tr>\n",
       "  </tbody>\n",
       "</table>\n",
       "</div>"
      ],
      "text/plain": [
       "   user_id      month  sum_minut  sum_message\n",
       "0     1000 2018-05-01        159         22.0\n",
       "1     1000 2018-06-01        172         60.0\n",
       "2     1000 2018-07-01        340         75.0\n",
       "3     1000 2018-08-01        408         81.0\n",
       "4     1000 2018-09-01        466         57.0"
      ]
     },
     "metadata": {},
     "output_type": "display_data"
    },
    {
     "data": {
      "text/html": [
       "<div>\n",
       "<style scoped>\n",
       "    .dataframe tbody tr th:only-of-type {\n",
       "        vertical-align: middle;\n",
       "    }\n",
       "\n",
       "    .dataframe tbody tr th {\n",
       "        vertical-align: top;\n",
       "    }\n",
       "\n",
       "    .dataframe thead th {\n",
       "        text-align: right;\n",
       "    }\n",
       "</style>\n",
       "<table border=\"1\" class=\"dataframe\">\n",
       "  <thead>\n",
       "    <tr style=\"text-align: right;\">\n",
       "      <th></th>\n",
       "      <th>user_id</th>\n",
       "      <th>month</th>\n",
       "      <th>sum_minut</th>\n",
       "      <th>sum_message</th>\n",
       "      <th>gb_used</th>\n",
       "    </tr>\n",
       "  </thead>\n",
       "  <tbody>\n",
       "    <tr>\n",
       "      <th>0</th>\n",
       "      <td>1000</td>\n",
       "      <td>2018-05-01</td>\n",
       "      <td>159</td>\n",
       "      <td>22.0</td>\n",
       "      <td>3</td>\n",
       "    </tr>\n",
       "    <tr>\n",
       "      <th>1</th>\n",
       "      <td>1000</td>\n",
       "      <td>2018-06-01</td>\n",
       "      <td>172</td>\n",
       "      <td>60.0</td>\n",
       "      <td>23</td>\n",
       "    </tr>\n",
       "    <tr>\n",
       "      <th>2</th>\n",
       "      <td>1000</td>\n",
       "      <td>2018-07-01</td>\n",
       "      <td>340</td>\n",
       "      <td>75.0</td>\n",
       "      <td>14</td>\n",
       "    </tr>\n",
       "    <tr>\n",
       "      <th>3</th>\n",
       "      <td>1000</td>\n",
       "      <td>2018-08-01</td>\n",
       "      <td>408</td>\n",
       "      <td>81.0</td>\n",
       "      <td>14</td>\n",
       "    </tr>\n",
       "    <tr>\n",
       "      <th>4</th>\n",
       "      <td>1000</td>\n",
       "      <td>2018-09-01</td>\n",
       "      <td>466</td>\n",
       "      <td>57.0</td>\n",
       "      <td>15</td>\n",
       "    </tr>\n",
       "  </tbody>\n",
       "</table>\n",
       "</div>"
      ],
      "text/plain": [
       "   user_id      month  sum_minut  sum_message  gb_used\n",
       "0     1000 2018-05-01        159         22.0        3\n",
       "1     1000 2018-06-01        172         60.0       23\n",
       "2     1000 2018-07-01        340         75.0       14\n",
       "3     1000 2018-08-01        408         81.0       14\n",
       "4     1000 2018-09-01        466         57.0       15"
      ]
     },
     "metadata": {},
     "output_type": "display_data"
    },
    {
     "data": {
      "text/html": [
       "<div>\n",
       "<style scoped>\n",
       "    .dataframe tbody tr th:only-of-type {\n",
       "        vertical-align: middle;\n",
       "    }\n",
       "\n",
       "    .dataframe tbody tr th {\n",
       "        vertical-align: top;\n",
       "    }\n",
       "\n",
       "    .dataframe thead th {\n",
       "        text-align: right;\n",
       "    }\n",
       "</style>\n",
       "<table border=\"1\" class=\"dataframe\">\n",
       "  <thead>\n",
       "    <tr style=\"text-align: right;\">\n",
       "      <th></th>\n",
       "      <th>user_id</th>\n",
       "      <th>month</th>\n",
       "      <th>sum_minut</th>\n",
       "      <th>sum_message</th>\n",
       "      <th>gb_used</th>\n",
       "      <th>tariff</th>\n",
       "      <th>city</th>\n",
       "    </tr>\n",
       "  </thead>\n",
       "  <tbody>\n",
       "    <tr>\n",
       "      <th>0</th>\n",
       "      <td>1000</td>\n",
       "      <td>2018-05-01</td>\n",
       "      <td>159</td>\n",
       "      <td>22.0</td>\n",
       "      <td>3</td>\n",
       "      <td>ultra</td>\n",
       "      <td>Краснодар</td>\n",
       "    </tr>\n",
       "    <tr>\n",
       "      <th>1</th>\n",
       "      <td>1000</td>\n",
       "      <td>2018-06-01</td>\n",
       "      <td>172</td>\n",
       "      <td>60.0</td>\n",
       "      <td>23</td>\n",
       "      <td>ultra</td>\n",
       "      <td>Краснодар</td>\n",
       "    </tr>\n",
       "    <tr>\n",
       "      <th>2</th>\n",
       "      <td>1000</td>\n",
       "      <td>2018-07-01</td>\n",
       "      <td>340</td>\n",
       "      <td>75.0</td>\n",
       "      <td>14</td>\n",
       "      <td>ultra</td>\n",
       "      <td>Краснодар</td>\n",
       "    </tr>\n",
       "    <tr>\n",
       "      <th>3</th>\n",
       "      <td>1000</td>\n",
       "      <td>2018-08-01</td>\n",
       "      <td>408</td>\n",
       "      <td>81.0</td>\n",
       "      <td>14</td>\n",
       "      <td>ultra</td>\n",
       "      <td>Краснодар</td>\n",
       "    </tr>\n",
       "    <tr>\n",
       "      <th>4</th>\n",
       "      <td>1000</td>\n",
       "      <td>2018-09-01</td>\n",
       "      <td>466</td>\n",
       "      <td>57.0</td>\n",
       "      <td>15</td>\n",
       "      <td>ultra</td>\n",
       "      <td>Краснодар</td>\n",
       "    </tr>\n",
       "  </tbody>\n",
       "</table>\n",
       "</div>"
      ],
      "text/plain": [
       "   user_id      month  sum_minut  sum_message  gb_used tariff       city\n",
       "0     1000 2018-05-01        159         22.0        3  ultra  Краснодар\n",
       "1     1000 2018-06-01        172         60.0       23  ultra  Краснодар\n",
       "2     1000 2018-07-01        340         75.0       14  ultra  Краснодар\n",
       "3     1000 2018-08-01        408         81.0       14  ultra  Краснодар\n",
       "4     1000 2018-09-01        466         57.0       15  ultra  Краснодар"
      ]
     },
     "metadata": {},
     "output_type": "display_data"
    },
    {
     "name": "stdout",
     "output_type": "stream",
     "text": [
      "<class 'pandas.core.frame.DataFrame'>\n",
      "Int64Index: 3216 entries, 0 to 3215\n",
      "Data columns (total 7 columns):\n",
      " #   Column       Non-Null Count  Dtype         \n",
      "---  ------       --------------  -----         \n",
      " 0   user_id      3216 non-null   int64         \n",
      " 1   month        3214 non-null   datetime64[ns]\n",
      " 2   sum_minut    3174 non-null   Int64         \n",
      " 3   sum_message  2717 non-null   float64       \n",
      " 4   gb_used      3203 non-null   Int64         \n",
      " 5   tariff       3216 non-null   object        \n",
      " 6   city         3216 non-null   object        \n",
      "dtypes: Int64(2), datetime64[ns](1), float64(1), int64(1), object(2)\n",
      "memory usage: 207.3+ KB\n"
     ]
    }
   ],
   "source": [
    "data=calls_pivot.merge(messages_pivot, on=['user_id', 'month'], how='outer')\n",
    "display(data.head())\n",
    "data=data.merge(internet_pivot, on=['user_id', 'month'], how='outer')\n",
    "display(data.head())\n",
    "data=data.merge(users, on=['user_id'], how='outer')\n",
    "display(data.head())\n",
    "data.info()"
   ]
  },
  {
   "cell_type": "markdown",
   "metadata": {},
   "source": [
    "В итоговой таблице есть попущенные значения и float - Заменим отсутствующие значения на 0 и переведем количественные столбцы в int"
   ]
  },
  {
   "cell_type": "code",
   "execution_count": 863,
   "metadata": {},
   "outputs": [],
   "source": [
    "data = data.fillna(\n",
    "    {\n",
    "        'sum_message':0,\n",
    "        'sum_minut':0,\n",
    "        'gb_used':0,\n",
    "        'month':0,\n",
    "    }\n",
    ")\n",
    "\n",
    "data = data.astype(\n",
    "    {\n",
    "        'sum_message':'int',\n",
    "        }\n",
    ")\n",
    "data=data.query('user_id > 0')\n"
   ]
  },
  {
   "cell_type": "code",
   "execution_count": 864,
   "metadata": {},
   "outputs": [
    {
     "data": {
      "text/html": [
       "<div>\n",
       "<style scoped>\n",
       "    .dataframe tbody tr th:only-of-type {\n",
       "        vertical-align: middle;\n",
       "    }\n",
       "\n",
       "    .dataframe tbody tr th {\n",
       "        vertical-align: top;\n",
       "    }\n",
       "\n",
       "    .dataframe thead th {\n",
       "        text-align: right;\n",
       "    }\n",
       "</style>\n",
       "<table border=\"1\" class=\"dataframe\">\n",
       "  <thead>\n",
       "    <tr style=\"text-align: right;\">\n",
       "      <th></th>\n",
       "      <th>user_id</th>\n",
       "      <th>month</th>\n",
       "      <th>sum_minut</th>\n",
       "      <th>sum_message</th>\n",
       "      <th>gb_used</th>\n",
       "      <th>tariff</th>\n",
       "      <th>city</th>\n",
       "    </tr>\n",
       "  </thead>\n",
       "  <tbody>\n",
       "    <tr>\n",
       "      <th>0</th>\n",
       "      <td>1000</td>\n",
       "      <td>2018-05-01 00:00:00</td>\n",
       "      <td>159</td>\n",
       "      <td>22</td>\n",
       "      <td>3</td>\n",
       "      <td>ultra</td>\n",
       "      <td>Краснодар</td>\n",
       "    </tr>\n",
       "    <tr>\n",
       "      <th>1</th>\n",
       "      <td>1000</td>\n",
       "      <td>2018-06-01 00:00:00</td>\n",
       "      <td>172</td>\n",
       "      <td>60</td>\n",
       "      <td>23</td>\n",
       "      <td>ultra</td>\n",
       "      <td>Краснодар</td>\n",
       "    </tr>\n",
       "    <tr>\n",
       "      <th>2</th>\n",
       "      <td>1000</td>\n",
       "      <td>2018-07-01 00:00:00</td>\n",
       "      <td>340</td>\n",
       "      <td>75</td>\n",
       "      <td>14</td>\n",
       "      <td>ultra</td>\n",
       "      <td>Краснодар</td>\n",
       "    </tr>\n",
       "    <tr>\n",
       "      <th>3</th>\n",
       "      <td>1000</td>\n",
       "      <td>2018-08-01 00:00:00</td>\n",
       "      <td>408</td>\n",
       "      <td>81</td>\n",
       "      <td>14</td>\n",
       "      <td>ultra</td>\n",
       "      <td>Краснодар</td>\n",
       "    </tr>\n",
       "    <tr>\n",
       "      <th>4</th>\n",
       "      <td>1000</td>\n",
       "      <td>2018-09-01 00:00:00</td>\n",
       "      <td>466</td>\n",
       "      <td>57</td>\n",
       "      <td>15</td>\n",
       "      <td>ultra</td>\n",
       "      <td>Краснодар</td>\n",
       "    </tr>\n",
       "  </tbody>\n",
       "</table>\n",
       "</div>"
      ],
      "text/plain": [
       "   user_id                month  sum_minut  sum_message  gb_used tariff  \\\n",
       "0     1000  2018-05-01 00:00:00        159           22        3  ultra   \n",
       "1     1000  2018-06-01 00:00:00        172           60       23  ultra   \n",
       "2     1000  2018-07-01 00:00:00        340           75       14  ultra   \n",
       "3     1000  2018-08-01 00:00:00        408           81       14  ultra   \n",
       "4     1000  2018-09-01 00:00:00        466           57       15  ultra   \n",
       "\n",
       "        city  \n",
       "0  Краснодар  \n",
       "1  Краснодар  \n",
       "2  Краснодар  \n",
       "3  Краснодар  \n",
       "4  Краснодар  "
      ]
     },
     "metadata": {},
     "output_type": "display_data"
    },
    {
     "name": "stdout",
     "output_type": "stream",
     "text": [
      "<class 'pandas.core.frame.DataFrame'>\n",
      "Int64Index: 3216 entries, 0 to 3215\n",
      "Data columns (total 7 columns):\n",
      " #   Column       Non-Null Count  Dtype \n",
      "---  ------       --------------  ----- \n",
      " 0   user_id      3216 non-null   int64 \n",
      " 1   month        3216 non-null   object\n",
      " 2   sum_minut    3216 non-null   Int64 \n",
      " 3   sum_message  3216 non-null   int64 \n",
      " 4   gb_used      3216 non-null   Int64 \n",
      " 5   tariff       3216 non-null   object\n",
      " 6   city         3216 non-null   object\n",
      "dtypes: Int64(2), int64(2), object(3)\n",
      "memory usage: 207.3+ KB\n"
     ]
    }
   ],
   "source": [
    "display(data.head())\n",
    "data.info()"
   ]
  },
  {
   "cell_type": "markdown",
   "metadata": {},
   "source": [
    "**Помесячная выручка с каждого пользователя**"
   ]
  },
  {
   "cell_type": "code",
   "execution_count": 865,
   "metadata": {},
   "outputs": [
    {
     "data": {
      "text/html": [
       "<div>\n",
       "<style scoped>\n",
       "    .dataframe tbody tr th:only-of-type {\n",
       "        vertical-align: middle;\n",
       "    }\n",
       "\n",
       "    .dataframe tbody tr th {\n",
       "        vertical-align: top;\n",
       "    }\n",
       "\n",
       "    .dataframe thead th {\n",
       "        text-align: right;\n",
       "    }\n",
       "</style>\n",
       "<table border=\"1\" class=\"dataframe\">\n",
       "  <thead>\n",
       "    <tr style=\"text-align: right;\">\n",
       "      <th></th>\n",
       "      <th>tariff_name</th>\n",
       "      <th>messages_included</th>\n",
       "      <th>gb_included</th>\n",
       "      <th>minutes_included</th>\n",
       "      <th>rub_monthly_fee</th>\n",
       "      <th>rub_per_gb</th>\n",
       "      <th>rub_per_message</th>\n",
       "      <th>rub_per_minute</th>\n",
       "    </tr>\n",
       "  </thead>\n",
       "  <tbody>\n",
       "    <tr>\n",
       "      <th>0</th>\n",
       "      <td>smart</td>\n",
       "      <td>50</td>\n",
       "      <td>15</td>\n",
       "      <td>500</td>\n",
       "      <td>550</td>\n",
       "      <td>200</td>\n",
       "      <td>3</td>\n",
       "      <td>3</td>\n",
       "    </tr>\n",
       "    <tr>\n",
       "      <th>1</th>\n",
       "      <td>ultra</td>\n",
       "      <td>1000</td>\n",
       "      <td>30</td>\n",
       "      <td>3000</td>\n",
       "      <td>1950</td>\n",
       "      <td>150</td>\n",
       "      <td>1</td>\n",
       "      <td>1</td>\n",
       "    </tr>\n",
       "  </tbody>\n",
       "</table>\n",
       "</div>"
      ],
      "text/plain": [
       "  tariff_name  messages_included  gb_included  minutes_included  \\\n",
       "0       smart                 50           15               500   \n",
       "1       ultra               1000           30              3000   \n",
       "\n",
       "   rub_monthly_fee  rub_per_gb  rub_per_message  rub_per_minute  \n",
       "0              550         200                3               3  \n",
       "1             1950         150                1               1  "
      ]
     },
     "execution_count": 865,
     "metadata": {},
     "output_type": "execute_result"
    }
   ],
   "source": [
    "tariffs.head()"
   ]
  },
  {
   "cell_type": "code",
   "execution_count": 866,
   "metadata": {},
   "outputs": [],
   "source": [
    "def price(df):\n",
    "    sum_minut = df['sum_minut']\n",
    "    sum_message = df['sum_message']\n",
    "    gb_used  = df['gb_used']\n",
    "    tariff = df['tariff']\n",
    "    if tariff == 'smart':\n",
    "        if sum_minut > 500:\n",
    "            price_min=(sum_minut-500)*3 #стоимость минут потраченных сверх тарифа\n",
    "        else:\n",
    "            price_min = 0\n",
    "        if sum_message > 50:\n",
    "            price_message=(sum_message-50)*3 #стоимость сообщений потраченных сверх тарифа\n",
    "        else:\n",
    "            price_message = 0\n",
    "        if  gb_used > 15:\n",
    "            price_gb=(gb_used-15)*200 #стоимость гб потраченных сверх тарифа\n",
    "        else:\n",
    "            price_gb = 0\n",
    "        return price_min + price_message + price_gb + 550 #цена за месяц: тариф + потраченное сверху\n",
    "    elif tariff == 'ultra':\n",
    "        if sum_minut > 3000:\n",
    "            price_min=sum_minut-3000 #стоимость минут потраченных сверх тарифа\n",
    "        else:\n",
    "            price_min = 0\n",
    "        if sum_message > 1000:\n",
    "            price_message=sum_message-1000 #стоимость сообщений потраченных сверх тарифа\n",
    "        else:\n",
    "            price_message = 0\n",
    "        if gb_used > 30:\n",
    "            price_gb=(gb_used-30)*150 #стоимость гб потраченных сверх тарифа\n",
    "        else:\n",
    "            price_gb = 0\n",
    "        return price_min + price_message + price_gb + 1950 #цена за месяц: тариф + потраченное сверху\n",
    "            \n",
    "  \n",
    "   \n",
    "data['price_month'] =  data.apply(price, axis=1) #новый столбец, функцию ко всей строке"
   ]
  },
  {
   "cell_type": "code",
   "execution_count": 867,
   "metadata": {},
   "outputs": [
    {
     "data": {
      "text/html": [
       "<div>\n",
       "<style scoped>\n",
       "    .dataframe tbody tr th:only-of-type {\n",
       "        vertical-align: middle;\n",
       "    }\n",
       "\n",
       "    .dataframe tbody tr th {\n",
       "        vertical-align: top;\n",
       "    }\n",
       "\n",
       "    .dataframe thead th {\n",
       "        text-align: right;\n",
       "    }\n",
       "</style>\n",
       "<table border=\"1\" class=\"dataframe\">\n",
       "  <thead>\n",
       "    <tr style=\"text-align: right;\">\n",
       "      <th></th>\n",
       "      <th>user_id</th>\n",
       "      <th>month</th>\n",
       "      <th>sum_minut</th>\n",
       "      <th>sum_message</th>\n",
       "      <th>gb_used</th>\n",
       "      <th>tariff</th>\n",
       "      <th>city</th>\n",
       "      <th>price_month</th>\n",
       "    </tr>\n",
       "  </thead>\n",
       "  <tbody>\n",
       "    <tr>\n",
       "      <th>0</th>\n",
       "      <td>1000</td>\n",
       "      <td>2018-05-01 00:00:00</td>\n",
       "      <td>159</td>\n",
       "      <td>22</td>\n",
       "      <td>3</td>\n",
       "      <td>ultra</td>\n",
       "      <td>Краснодар</td>\n",
       "      <td>1950</td>\n",
       "    </tr>\n",
       "    <tr>\n",
       "      <th>1</th>\n",
       "      <td>1000</td>\n",
       "      <td>2018-06-01 00:00:00</td>\n",
       "      <td>172</td>\n",
       "      <td>60</td>\n",
       "      <td>23</td>\n",
       "      <td>ultra</td>\n",
       "      <td>Краснодар</td>\n",
       "      <td>1950</td>\n",
       "    </tr>\n",
       "    <tr>\n",
       "      <th>2</th>\n",
       "      <td>1000</td>\n",
       "      <td>2018-07-01 00:00:00</td>\n",
       "      <td>340</td>\n",
       "      <td>75</td>\n",
       "      <td>14</td>\n",
       "      <td>ultra</td>\n",
       "      <td>Краснодар</td>\n",
       "      <td>1950</td>\n",
       "    </tr>\n",
       "    <tr>\n",
       "      <th>3</th>\n",
       "      <td>1000</td>\n",
       "      <td>2018-08-01 00:00:00</td>\n",
       "      <td>408</td>\n",
       "      <td>81</td>\n",
       "      <td>14</td>\n",
       "      <td>ultra</td>\n",
       "      <td>Краснодар</td>\n",
       "      <td>1950</td>\n",
       "    </tr>\n",
       "    <tr>\n",
       "      <th>4</th>\n",
       "      <td>1000</td>\n",
       "      <td>2018-09-01 00:00:00</td>\n",
       "      <td>466</td>\n",
       "      <td>57</td>\n",
       "      <td>15</td>\n",
       "      <td>ultra</td>\n",
       "      <td>Краснодар</td>\n",
       "      <td>1950</td>\n",
       "    </tr>\n",
       "  </tbody>\n",
       "</table>\n",
       "</div>"
      ],
      "text/plain": [
       "   user_id                month  sum_minut  sum_message  gb_used tariff  \\\n",
       "0     1000  2018-05-01 00:00:00        159           22        3  ultra   \n",
       "1     1000  2018-06-01 00:00:00        172           60       23  ultra   \n",
       "2     1000  2018-07-01 00:00:00        340           75       14  ultra   \n",
       "3     1000  2018-08-01 00:00:00        408           81       14  ultra   \n",
       "4     1000  2018-09-01 00:00:00        466           57       15  ultra   \n",
       "\n",
       "        city  price_month  \n",
       "0  Краснодар         1950  \n",
       "1  Краснодар         1950  \n",
       "2  Краснодар         1950  \n",
       "3  Краснодар         1950  \n",
       "4  Краснодар         1950  "
      ]
     },
     "metadata": {},
     "output_type": "display_data"
    },
    {
     "name": "stdout",
     "output_type": "stream",
     "text": [
      "<class 'pandas.core.frame.DataFrame'>\n",
      "Int64Index: 3216 entries, 0 to 3215\n",
      "Data columns (total 8 columns):\n",
      " #   Column       Non-Null Count  Dtype \n",
      "---  ------       --------------  ----- \n",
      " 0   user_id      3216 non-null   int64 \n",
      " 1   month        3216 non-null   object\n",
      " 2   sum_minut    3216 non-null   Int64 \n",
      " 3   sum_message  3216 non-null   int64 \n",
      " 4   gb_used      3216 non-null   Int64 \n",
      " 5   tariff       3216 non-null   object\n",
      " 6   city         3216 non-null   object\n",
      " 7   price_month  3216 non-null   int64 \n",
      "dtypes: Int64(2), int64(3), object(3)\n",
      "memory usage: 232.4+ KB\n"
     ]
    }
   ],
   "source": [
    "display(data.head()) #проверим результат\n",
    "data.info()"
   ]
  },
  {
   "cell_type": "markdown",
   "metadata": {},
   "source": [
    "### Проанализируем данные"
   ]
  },
  {
   "cell_type": "markdown",
   "metadata": {},
   "source": [
    "**Тариф- ULTRA**"
   ]
  },
  {
   "cell_type": "code",
   "execution_count": 868,
   "metadata": {},
   "outputs": [
    {
     "data": {
      "text/html": [
       "<div>\n",
       "<style scoped>\n",
       "    .dataframe tbody tr th:only-of-type {\n",
       "        vertical-align: middle;\n",
       "    }\n",
       "\n",
       "    .dataframe tbody tr th {\n",
       "        vertical-align: top;\n",
       "    }\n",
       "\n",
       "    .dataframe thead th {\n",
       "        text-align: right;\n",
       "    }\n",
       "</style>\n",
       "<table border=\"1\" class=\"dataframe\">\n",
       "  <thead>\n",
       "    <tr style=\"text-align: right;\">\n",
       "      <th></th>\n",
       "      <th>user_id</th>\n",
       "      <th>sum_minut</th>\n",
       "      <th>sum_message</th>\n",
       "      <th>gb_used</th>\n",
       "      <th>price_month</th>\n",
       "    </tr>\n",
       "  </thead>\n",
       "  <tbody>\n",
       "    <tr>\n",
       "      <th>count</th>\n",
       "      <td>986.000000</td>\n",
       "      <td>986.000000</td>\n",
       "      <td>986.000000</td>\n",
       "      <td>986.000000</td>\n",
       "      <td>986.000000</td>\n",
       "    </tr>\n",
       "    <tr>\n",
       "      <th>mean</th>\n",
       "      <td>1262.957404</td>\n",
       "      <td>526.089249</td>\n",
       "      <td>49.313387</td>\n",
       "      <td>19.474645</td>\n",
       "      <td>2070.030426</td>\n",
       "    </tr>\n",
       "    <tr>\n",
       "      <th>std</th>\n",
       "      <td>140.689268</td>\n",
       "      <td>317.887549</td>\n",
       "      <td>47.806040</td>\n",
       "      <td>9.868057</td>\n",
       "      <td>376.015578</td>\n",
       "    </tr>\n",
       "    <tr>\n",
       "      <th>min</th>\n",
       "      <td>1000.000000</td>\n",
       "      <td>0.000000</td>\n",
       "      <td>0.000000</td>\n",
       "      <td>0.000000</td>\n",
       "      <td>1950.000000</td>\n",
       "    </tr>\n",
       "    <tr>\n",
       "      <th>25%</th>\n",
       "      <td>1143.000000</td>\n",
       "      <td>282.500000</td>\n",
       "      <td>6.000000</td>\n",
       "      <td>12.000000</td>\n",
       "      <td>1950.000000</td>\n",
       "    </tr>\n",
       "    <tr>\n",
       "      <th>50%</th>\n",
       "      <td>1277.000000</td>\n",
       "      <td>518.000000</td>\n",
       "      <td>38.000000</td>\n",
       "      <td>19.000000</td>\n",
       "      <td>1950.000000</td>\n",
       "    </tr>\n",
       "    <tr>\n",
       "      <th>75%</th>\n",
       "      <td>1381.000000</td>\n",
       "      <td>751.750000</td>\n",
       "      <td>78.750000</td>\n",
       "      <td>27.000000</td>\n",
       "      <td>1950.000000</td>\n",
       "    </tr>\n",
       "    <tr>\n",
       "      <th>max</th>\n",
       "      <td>1495.000000</td>\n",
       "      <td>1673.000000</td>\n",
       "      <td>224.000000</td>\n",
       "      <td>49.000000</td>\n",
       "      <td>4800.000000</td>\n",
       "    </tr>\n",
       "  </tbody>\n",
       "</table>\n",
       "</div>"
      ],
      "text/plain": [
       "           user_id    sum_minut  sum_message     gb_used  price_month\n",
       "count   986.000000   986.000000   986.000000  986.000000   986.000000\n",
       "mean   1262.957404   526.089249    49.313387   19.474645  2070.030426\n",
       "std     140.689268   317.887549    47.806040    9.868057   376.015578\n",
       "min    1000.000000     0.000000     0.000000    0.000000  1950.000000\n",
       "25%    1143.000000   282.500000     6.000000   12.000000  1950.000000\n",
       "50%    1277.000000   518.000000    38.000000   19.000000  1950.000000\n",
       "75%    1381.000000   751.750000    78.750000   27.000000  1950.000000\n",
       "max    1495.000000  1673.000000   224.000000   49.000000  4800.000000"
      ]
     },
     "execution_count": 868,
     "metadata": {},
     "output_type": "execute_result"
    }
   ],
   "source": [
    "ultra=data.query('tariff == \"ultra\"')\n",
    "ultra.describe()"
   ]
  },
  {
   "cell_type": "code",
   "execution_count": 869,
   "metadata": {},
   "outputs": [
    {
     "data": {
      "text/plain": [
       "134"
      ]
     },
     "execution_count": 869,
     "metadata": {},
     "output_type": "execute_result"
    }
   ],
   "source": [
    "user_ultra = ultra.query('gb_used>30')['gb_used'].count()\n",
    "user_ultra"
   ]
  },
  {
   "cell_type": "code",
   "execution_count": 870,
   "metadata": {},
   "outputs": [
    {
     "data": {
      "text/plain": [
       "0.13604060913705585"
      ]
     },
     "execution_count": 870,
     "metadata": {},
     "output_type": "execute_result"
    }
   ],
   "source": [
    "user_ultra / 985"
   ]
  },
  {
   "cell_type": "markdown",
   "metadata": {},
   "source": [
    "**В тариф УЛЬТРА входит 1000 сообщений, 30 гб, 3000 минут, абонет.плата - 1950р.** - Максимальное кол-во в месяц сообщений было 224, минут 1673, что не превышает лимит. - А максимальное кол-во гб в месяц было 98, причем более 50% от всех месяцев лимит превышался. - Только 25% абонентов укладываются в лимит, остальные платят больше за счет интернета. - Средний ежемесячный чек - 3844р., что почти в 2 раза больше абоненской платы. - 63% наблюдений превышает лимит интернета в 30 ГБ"
   ]
  },
  {
   "cell_type": "markdown",
   "metadata": {},
   "source": [
    "**Тариф SMART**"
   ]
  },
  {
   "cell_type": "code",
   "execution_count": 871,
   "metadata": {
    "scrolled": true
   },
   "outputs": [
    {
     "data": {
      "text/html": [
       "<div>\n",
       "<style scoped>\n",
       "    .dataframe tbody tr th:only-of-type {\n",
       "        vertical-align: middle;\n",
       "    }\n",
       "\n",
       "    .dataframe tbody tr th {\n",
       "        vertical-align: top;\n",
       "    }\n",
       "\n",
       "    .dataframe thead th {\n",
       "        text-align: right;\n",
       "    }\n",
       "</style>\n",
       "<table border=\"1\" class=\"dataframe\">\n",
       "  <thead>\n",
       "    <tr style=\"text-align: right;\">\n",
       "      <th></th>\n",
       "      <th>tariff_name</th>\n",
       "      <th>messages_included</th>\n",
       "      <th>gb_included</th>\n",
       "      <th>minutes_included</th>\n",
       "      <th>rub_monthly_fee</th>\n",
       "      <th>rub_per_gb</th>\n",
       "      <th>rub_per_message</th>\n",
       "      <th>rub_per_minute</th>\n",
       "    </tr>\n",
       "  </thead>\n",
       "  <tbody>\n",
       "    <tr>\n",
       "      <th>0</th>\n",
       "      <td>smart</td>\n",
       "      <td>50</td>\n",
       "      <td>15</td>\n",
       "      <td>500</td>\n",
       "      <td>550</td>\n",
       "      <td>200</td>\n",
       "      <td>3</td>\n",
       "      <td>3</td>\n",
       "    </tr>\n",
       "    <tr>\n",
       "      <th>1</th>\n",
       "      <td>ultra</td>\n",
       "      <td>1000</td>\n",
       "      <td>30</td>\n",
       "      <td>3000</td>\n",
       "      <td>1950</td>\n",
       "      <td>150</td>\n",
       "      <td>1</td>\n",
       "      <td>1</td>\n",
       "    </tr>\n",
       "  </tbody>\n",
       "</table>\n",
       "</div>"
      ],
      "text/plain": [
       "  tariff_name  messages_included  gb_included  minutes_included  \\\n",
       "0       smart                 50           15               500   \n",
       "1       ultra               1000           30              3000   \n",
       "\n",
       "   rub_monthly_fee  rub_per_gb  rub_per_message  rub_per_minute  \n",
       "0              550         200                3               3  \n",
       "1             1950         150                1               1  "
      ]
     },
     "execution_count": 871,
     "metadata": {},
     "output_type": "execute_result"
    }
   ],
   "source": [
    "tariffs"
   ]
  },
  {
   "cell_type": "code",
   "execution_count": 872,
   "metadata": {
    "scrolled": true
   },
   "outputs": [
    {
     "data": {
      "text/html": [
       "<div>\n",
       "<style scoped>\n",
       "    .dataframe tbody tr th:only-of-type {\n",
       "        vertical-align: middle;\n",
       "    }\n",
       "\n",
       "    .dataframe tbody tr th {\n",
       "        vertical-align: top;\n",
       "    }\n",
       "\n",
       "    .dataframe thead th {\n",
       "        text-align: right;\n",
       "    }\n",
       "</style>\n",
       "<table border=\"1\" class=\"dataframe\">\n",
       "  <thead>\n",
       "    <tr style=\"text-align: right;\">\n",
       "      <th></th>\n",
       "      <th>user_id</th>\n",
       "      <th>sum_minut</th>\n",
       "      <th>sum_message</th>\n",
       "      <th>gb_used</th>\n",
       "      <th>price_month</th>\n",
       "    </tr>\n",
       "  </thead>\n",
       "  <tbody>\n",
       "    <tr>\n",
       "      <th>count</th>\n",
       "      <td>2230.000000</td>\n",
       "      <td>2230.000000</td>\n",
       "      <td>2230.000000</td>\n",
       "      <td>2230.000000</td>\n",
       "      <td>2230.000000</td>\n",
       "    </tr>\n",
       "    <tr>\n",
       "      <th>mean</th>\n",
       "      <td>1246.562332</td>\n",
       "      <td>417.747534</td>\n",
       "      <td>33.369058</td>\n",
       "      <td>16.321525</td>\n",
       "      <td>1289.641704</td>\n",
       "    </tr>\n",
       "    <tr>\n",
       "      <th>std</th>\n",
       "      <td>146.110501</td>\n",
       "      <td>190.476754</td>\n",
       "      <td>28.230396</td>\n",
       "      <td>5.756167</td>\n",
       "      <td>818.370799</td>\n",
       "    </tr>\n",
       "    <tr>\n",
       "      <th>min</th>\n",
       "      <td>1001.000000</td>\n",
       "      <td>0.000000</td>\n",
       "      <td>0.000000</td>\n",
       "      <td>0.000000</td>\n",
       "      <td>550.000000</td>\n",
       "    </tr>\n",
       "    <tr>\n",
       "      <th>25%</th>\n",
       "      <td>1121.000000</td>\n",
       "      <td>282.000000</td>\n",
       "      <td>10.000000</td>\n",
       "      <td>13.000000</td>\n",
       "      <td>550.000000</td>\n",
       "    </tr>\n",
       "    <tr>\n",
       "      <th>50%</th>\n",
       "      <td>1240.000000</td>\n",
       "      <td>421.500000</td>\n",
       "      <td>28.000000</td>\n",
       "      <td>17.000000</td>\n",
       "      <td>1021.000000</td>\n",
       "    </tr>\n",
       "    <tr>\n",
       "      <th>75%</th>\n",
       "      <td>1376.000000</td>\n",
       "      <td>545.000000</td>\n",
       "      <td>51.000000</td>\n",
       "      <td>20.000000</td>\n",
       "      <td>1750.000000</td>\n",
       "    </tr>\n",
       "    <tr>\n",
       "      <th>max</th>\n",
       "      <td>1499.000000</td>\n",
       "      <td>1435.000000</td>\n",
       "      <td>143.000000</td>\n",
       "      <td>38.000000</td>\n",
       "      <td>6770.000000</td>\n",
       "    </tr>\n",
       "  </tbody>\n",
       "</table>\n",
       "</div>"
      ],
      "text/plain": [
       "           user_id    sum_minut  sum_message      gb_used  price_month\n",
       "count  2230.000000  2230.000000  2230.000000  2230.000000  2230.000000\n",
       "mean   1246.562332   417.747534    33.369058    16.321525  1289.641704\n",
       "std     146.110501   190.476754    28.230396     5.756167   818.370799\n",
       "min    1001.000000     0.000000     0.000000     0.000000   550.000000\n",
       "25%    1121.000000   282.000000    10.000000    13.000000   550.000000\n",
       "50%    1240.000000   421.500000    28.000000    17.000000  1021.000000\n",
       "75%    1376.000000   545.000000    51.000000    20.000000  1750.000000\n",
       "max    1499.000000  1435.000000   143.000000    38.000000  6770.000000"
      ]
     },
     "execution_count": 872,
     "metadata": {},
     "output_type": "execute_result"
    }
   ],
   "source": [
    "smart=data.query('tariff == \"smart\"')\n",
    "smart.describe()"
   ]
  },
  {
   "cell_type": "code",
   "execution_count": 873,
   "metadata": {},
   "outputs": [
    {
     "data": {
      "text/html": [
       "<div>\n",
       "<style scoped>\n",
       "    .dataframe tbody tr th:only-of-type {\n",
       "        vertical-align: middle;\n",
       "    }\n",
       "\n",
       "    .dataframe tbody tr th {\n",
       "        vertical-align: top;\n",
       "    }\n",
       "\n",
       "    .dataframe thead tr th {\n",
       "        text-align: left;\n",
       "    }\n",
       "\n",
       "    .dataframe thead tr:last-of-type th {\n",
       "        text-align: right;\n",
       "    }\n",
       "</style>\n",
       "<table border=\"1\" class=\"dataframe\">\n",
       "  <thead>\n",
       "    <tr>\n",
       "      <th></th>\n",
       "      <th>mean</th>\n",
       "      <th>var</th>\n",
       "      <th>std</th>\n",
       "      <th>median</th>\n",
       "    </tr>\n",
       "    <tr>\n",
       "      <th></th>\n",
       "      <th>price_month</th>\n",
       "      <th>price_month</th>\n",
       "      <th>price_month</th>\n",
       "      <th>price_month</th>\n",
       "    </tr>\n",
       "    <tr>\n",
       "      <th>tariff</th>\n",
       "      <th></th>\n",
       "      <th></th>\n",
       "      <th></th>\n",
       "      <th></th>\n",
       "    </tr>\n",
       "  </thead>\n",
       "  <tbody>\n",
       "    <tr>\n",
       "      <th>smart</th>\n",
       "      <td>1289.641704</td>\n",
       "      <td>669730.763895</td>\n",
       "      <td>818.370799</td>\n",
       "      <td>1021</td>\n",
       "    </tr>\n",
       "    <tr>\n",
       "      <th>ultra</th>\n",
       "      <td>2070.030426</td>\n",
       "      <td>141387.714809</td>\n",
       "      <td>376.015578</td>\n",
       "      <td>1950</td>\n",
       "    </tr>\n",
       "  </tbody>\n",
       "</table>\n",
       "</div>"
      ],
      "text/plain": [
       "               mean            var         std      median\n",
       "        price_month    price_month price_month price_month\n",
       "tariff                                                    \n",
       "smart   1289.641704  669730.763895  818.370799        1021\n",
       "ultra   2070.030426  141387.714809  376.015578        1950"
      ]
     },
     "execution_count": 873,
     "metadata": {},
     "output_type": "execute_result"
    }
   ],
   "source": [
    "data.pivot_table(index= 'tariff', values= 'price_month', aggfunc= ['mean', 'var','std', 'median'])"
   ]
  },
  {
   "cell_type": "code",
   "execution_count": 874,
   "metadata": {},
   "outputs": [
    {
     "data": {
      "text/plain": [
       "1304"
      ]
     },
     "execution_count": 874,
     "metadata": {},
     "output_type": "execute_result"
    }
   ],
   "source": [
    "user_smart = smart.query('gb_used>15')['gb_used'].count()\n",
    "user_smart"
   ]
  },
  {
   "cell_type": "markdown",
   "metadata": {},
   "source": [
    "2113 раз был превышен лимит 15 ГБ     "
   ]
  },
  {
   "cell_type": "code",
   "execution_count": 875,
   "metadata": {},
   "outputs": [
    {
     "data": {
      "text/plain": [
       "0.5850157021085689"
      ]
     },
     "execution_count": 875,
     "metadata": {},
     "output_type": "execute_result"
    }
   ],
   "source": [
    "user_smart/2229"
   ]
  },
  {
   "cell_type": "markdown",
   "metadata": {},
   "source": [
    "в 95% наблюдений был превышен лимит 15 ГБ   "
   ]
  },
  {
   "cell_type": "markdown",
   "metadata": {},
   "source": [
    "**В тариф СМАРТ входит 50 сообщений, 15 ГБ, 500 минут, абонент плата - 550 руб.**      - 25% абонентов используют доп.сообщения, - Больше 75% абонентов используют дополнительный интернет, - Средний показатель ежемес.объема интернета почти в 3 раза превышает лимит. - Более 25% абонентов используют дополнительные минуты. - Средний ежемесячный чек в 11 раз превышает абонентскую плату. - 94% наблюдений - больше 15 ГБ     "
   ]
  },
  {
   "cell_type": "markdown",
   "metadata": {},
   "source": [
    "**Проанализируем минуты**"
   ]
  },
  {
   "cell_type": "code",
   "execution_count": 876,
   "metadata": {},
   "outputs": [
    {
     "data": {
      "image/png": "[encoded data removed]",
      "text/plain": [
       "<Figure size 720x360 with 1 Axes>"
      ]
     },
     "metadata": {
      "needs_background": "light"
     },
     "output_type": "display_data"
    },
    {
     "data": {
      "image/png": "[encoded data removed]",
      "text/plain": [
       "<Figure size 720x360 with 1 Axes>"
      ]
     },
     "metadata": {
      "needs_background": "light"
     },
     "output_type": "display_data"
    },
    {
     "data": {
      "image/png": "[encoded data removed]",
      "text/plain": [
       "<Figure size 720x360 with 1 Axes>"
      ]
     },
     "metadata": {
      "needs_background": "light"
     },
     "output_type": "display_data"
    },
    {
     "data": {
      "image/png": "[encoded data removed]",
      "text/plain": [
       "<Figure size 720x360 with 1 Axes>"
      ]
     },
     "metadata": {
      "needs_background": "light"
     },
     "output_type": "display_data"
    }
   ],
   "source": [
    "list_of_columns=['sum_minut', 'sum_message', 'gb_used', 'price_month']\n",
    "tariffs = ['ultra','smart']\n",
    "for column in list_of_columns:\n",
    "        data.loc[data.loc[:,'tariff'] == 'smart'][column].plot(\n",
    "                                                                            kind = 'hist',\n",
    "                                                                            bins = 30,\n",
    "                                                                            label = 'smart', figsize = (10,5)\n",
    "                                                                           )\n",
    "        data.loc[data.loc[:,'tariff'] == \"ultra\"][column].plot(\n",
    "                                                                            kind = 'hist',\n",
    "                                                                            bins = 30,\n",
    "                                                                            alpha =0.7,\n",
    "                                                                            label = 'ultra',figsize = (10,5)\n",
    "                                                                           )\n",
    "        plt.title(column)\n",
    "        plt.legend()\n",
    "        plt.show()"
   ]
  },
  {
   "cell_type": "markdown",
   "metadata": {},
   "source": [
    "На гистограммах можно заметить что,у тарифа ultra гистограммы скошены вправо, а в тарифе smart гистограммы скошены влево. Это так же подтверждают данные медианы и среднего, приведенные в сводной таблице. Кроме этого можно заметить, что пользователи тарифа ultra не тратят весь базовый пакет минут и количества смс, в отличие от тарифа smart"
   ]
  },
  {
   "cell_type": "markdown",
   "metadata": {},
   "source": [
    "### Проверка гипотез"
   ]
  },
  {
   "cell_type": "markdown",
   "metadata": {},
   "source": [
    "#### **Средняя выручка пользователей тарифов «Ультра» и «Смарт» различаются.**\n",
    "Пусть нулевая гипотеза звучит так - средние выручки равны - Альтернативная - не равны   "
   ]
  },
  {
   "cell_type": "code",
   "execution_count": 877,
   "metadata": {},
   "outputs": [
    {
     "name": "stdout",
     "output_type": "stream",
     "text": [
      "p-значение: 1.927011394420941e-250\n",
      "Отвергаем нулевую гипотезу\n"
     ]
    }
   ],
   "source": [
    "alpha = 0.05\n",
    "\n",
    "results = st.ttest_ind(ultra['price_month'], smart['price_month'], equal_var = False)\n",
    "\n",
    "print('p-значение:', results.pvalue)\n",
    "\n",
    "if results.pvalue < alpha:\n",
    "    print('Отвергаем нулевую гипотезу')\n",
    "else:\n",
    "    print('Не получилось отвергнуть нулевую гипотезу') "
   ]
  },
  {
   "cell_type": "markdown",
   "metadata": {},
   "source": [
    "**Вывод: средняя выручка пользователей тарифов «Ультра» и «Смарт» различается.**"
   ]
  },
  {
   "cell_type": "markdown",
   "metadata": {},
   "source": [
    " ####  **средняя выручка пользователей из Москвы отличается от выручки пользователей из других регионов.**"
   ]
  },
  {
   "cell_type": "code",
   "execution_count": 878,
   "metadata": {},
   "outputs": [
    {
     "data": {
      "text/html": [
       "<div>\n",
       "<style scoped>\n",
       "    .dataframe tbody tr th:only-of-type {\n",
       "        vertical-align: middle;\n",
       "    }\n",
       "\n",
       "    .dataframe tbody tr th {\n",
       "        vertical-align: top;\n",
       "    }\n",
       "\n",
       "    .dataframe thead th {\n",
       "        text-align: right;\n",
       "    }\n",
       "</style>\n",
       "<table border=\"1\" class=\"dataframe\">\n",
       "  <thead>\n",
       "    <tr style=\"text-align: right;\">\n",
       "      <th></th>\n",
       "      <th>user_id</th>\n",
       "      <th>sum_minut</th>\n",
       "      <th>sum_message</th>\n",
       "      <th>gb_used</th>\n",
       "      <th>price_month</th>\n",
       "    </tr>\n",
       "  </thead>\n",
       "  <tbody>\n",
       "    <tr>\n",
       "      <th>count</th>\n",
       "      <td>611.000000</td>\n",
       "      <td>611.000000</td>\n",
       "      <td>611.000000</td>\n",
       "      <td>611.000000</td>\n",
       "      <td>611.000000</td>\n",
       "    </tr>\n",
       "    <tr>\n",
       "      <th>mean</th>\n",
       "      <td>1268.872340</td>\n",
       "      <td>469.150573</td>\n",
       "      <td>37.877250</td>\n",
       "      <td>18.050736</td>\n",
       "      <td>1546.713584</td>\n",
       "    </tr>\n",
       "    <tr>\n",
       "      <th>std</th>\n",
       "      <td>137.530432</td>\n",
       "      <td>241.535044</td>\n",
       "      <td>37.160304</td>\n",
       "      <td>7.645788</td>\n",
       "      <td>752.088071</td>\n",
       "    </tr>\n",
       "    <tr>\n",
       "      <th>min</th>\n",
       "      <td>1001.000000</td>\n",
       "      <td>0.000000</td>\n",
       "      <td>0.000000</td>\n",
       "      <td>1.000000</td>\n",
       "      <td>550.000000</td>\n",
       "    </tr>\n",
       "    <tr>\n",
       "      <th>25%</th>\n",
       "      <td>1171.000000</td>\n",
       "      <td>304.000000</td>\n",
       "      <td>6.500000</td>\n",
       "      <td>13.000000</td>\n",
       "      <td>780.500000</td>\n",
       "    </tr>\n",
       "    <tr>\n",
       "      <th>50%</th>\n",
       "      <td>1291.000000</td>\n",
       "      <td>453.000000</td>\n",
       "      <td>29.000000</td>\n",
       "      <td>18.000000</td>\n",
       "      <td>1750.000000</td>\n",
       "    </tr>\n",
       "    <tr>\n",
       "      <th>75%</th>\n",
       "      <td>1385.000000</td>\n",
       "      <td>620.500000</td>\n",
       "      <td>57.000000</td>\n",
       "      <td>22.000000</td>\n",
       "      <td>1950.000000</td>\n",
       "    </tr>\n",
       "    <tr>\n",
       "      <th>max</th>\n",
       "      <td>1490.000000</td>\n",
       "      <td>1321.000000</td>\n",
       "      <td>191.000000</td>\n",
       "      <td>44.000000</td>\n",
       "      <td>5321.000000</td>\n",
       "    </tr>\n",
       "  </tbody>\n",
       "</table>\n",
       "</div>"
      ],
      "text/plain": [
       "           user_id    sum_minut  sum_message     gb_used  price_month\n",
       "count   611.000000   611.000000   611.000000  611.000000   611.000000\n",
       "mean   1268.872340   469.150573    37.877250   18.050736  1546.713584\n",
       "std     137.530432   241.535044    37.160304    7.645788   752.088071\n",
       "min    1001.000000     0.000000     0.000000    1.000000   550.000000\n",
       "25%    1171.000000   304.000000     6.500000   13.000000   780.500000\n",
       "50%    1291.000000   453.000000    29.000000   18.000000  1750.000000\n",
       "75%    1385.000000   620.500000    57.000000   22.000000  1950.000000\n",
       "max    1490.000000  1321.000000   191.000000   44.000000  5321.000000"
      ]
     },
     "execution_count": 878,
     "metadata": {},
     "output_type": "execute_result"
    }
   ],
   "source": [
    "data_msk=data.query('city == \"Москва\"')\n",
    "data_msk.describe()"
   ]
  },
  {
   "cell_type": "code",
   "execution_count": 879,
   "metadata": {},
   "outputs": [
    {
     "data": {
      "text/html": [
       "<div>\n",
       "<style scoped>\n",
       "    .dataframe tbody tr th:only-of-type {\n",
       "        vertical-align: middle;\n",
       "    }\n",
       "\n",
       "    .dataframe tbody tr th {\n",
       "        vertical-align: top;\n",
       "    }\n",
       "\n",
       "    .dataframe thead th {\n",
       "        text-align: right;\n",
       "    }\n",
       "</style>\n",
       "<table border=\"1\" class=\"dataframe\">\n",
       "  <thead>\n",
       "    <tr style=\"text-align: right;\">\n",
       "      <th></th>\n",
       "      <th>user_id</th>\n",
       "      <th>sum_minut</th>\n",
       "      <th>sum_message</th>\n",
       "      <th>gb_used</th>\n",
       "      <th>price_month</th>\n",
       "    </tr>\n",
       "  </thead>\n",
       "  <tbody>\n",
       "    <tr>\n",
       "      <th>count</th>\n",
       "      <td>2605.000000</td>\n",
       "      <td>2605.000000</td>\n",
       "      <td>2605.000000</td>\n",
       "      <td>2605.000000</td>\n",
       "      <td>2605.000000</td>\n",
       "    </tr>\n",
       "    <tr>\n",
       "      <th>mean</th>\n",
       "      <td>1247.535125</td>\n",
       "      <td>446.698656</td>\n",
       "      <td>38.346641</td>\n",
       "      <td>17.109405</td>\n",
       "      <td>1524.725144</td>\n",
       "    </tr>\n",
       "    <tr>\n",
       "      <th>std</th>\n",
       "      <td>145.994150</td>\n",
       "      <td>242.076254</td>\n",
       "      <td>35.915233</td>\n",
       "      <td>7.344701</td>\n",
       "      <td>808.745680</td>\n",
       "    </tr>\n",
       "    <tr>\n",
       "      <th>min</th>\n",
       "      <td>1000.000000</td>\n",
       "      <td>0.000000</td>\n",
       "      <td>0.000000</td>\n",
       "      <td>0.000000</td>\n",
       "      <td>550.000000</td>\n",
       "    </tr>\n",
       "    <tr>\n",
       "      <th>25%</th>\n",
       "      <td>1120.000000</td>\n",
       "      <td>280.000000</td>\n",
       "      <td>9.000000</td>\n",
       "      <td>13.000000</td>\n",
       "      <td>750.000000</td>\n",
       "    </tr>\n",
       "    <tr>\n",
       "      <th>50%</th>\n",
       "      <td>1241.000000</td>\n",
       "      <td>440.000000</td>\n",
       "      <td>30.000000</td>\n",
       "      <td>17.000000</td>\n",
       "      <td>1583.000000</td>\n",
       "    </tr>\n",
       "    <tr>\n",
       "      <th>75%</th>\n",
       "      <td>1377.000000</td>\n",
       "      <td>584.000000</td>\n",
       "      <td>57.000000</td>\n",
       "      <td>21.000000</td>\n",
       "      <td>1950.000000</td>\n",
       "    </tr>\n",
       "    <tr>\n",
       "      <th>max</th>\n",
       "      <td>1499.000000</td>\n",
       "      <td>1673.000000</td>\n",
       "      <td>224.000000</td>\n",
       "      <td>49.000000</td>\n",
       "      <td>6770.000000</td>\n",
       "    </tr>\n",
       "  </tbody>\n",
       "</table>\n",
       "</div>"
      ],
      "text/plain": [
       "           user_id    sum_minut  sum_message      gb_used  price_month\n",
       "count  2605.000000  2605.000000  2605.000000  2605.000000  2605.000000\n",
       "mean   1247.535125   446.698656    38.346641    17.109405  1524.725144\n",
       "std     145.994150   242.076254    35.915233     7.344701   808.745680\n",
       "min    1000.000000     0.000000     0.000000     0.000000   550.000000\n",
       "25%    1120.000000   280.000000     9.000000    13.000000   750.000000\n",
       "50%    1241.000000   440.000000    30.000000    17.000000  1583.000000\n",
       "75%    1377.000000   584.000000    57.000000    21.000000  1950.000000\n",
       "max    1499.000000  1673.000000   224.000000    49.000000  6770.000000"
      ]
     },
     "execution_count": 879,
     "metadata": {},
     "output_type": "execute_result"
    }
   ],
   "source": [
    "data_other=data.query('city != \"Москва\"')\n",
    "data_other.describe()"
   ]
  },
  {
   "cell_type": "markdown",
   "metadata": {},
   "source": [
    "Средние выручки и действительно равны, есть небольшое различие - Пусть нулевая гипотеза звучит так - средние выручки равны - Альтернативная - не равны   "
   ]
  },
  {
   "cell_type": "code",
   "execution_count": 880,
   "metadata": {},
   "outputs": [
    {
     "name": "stdout",
     "output_type": "stream",
     "text": [
      "p-значение: 0.5400751614511182\n",
      "Не получилось отвергнуть нулевую гипотезу\n"
     ]
    }
   ],
   "source": [
    "alpha = 0.05\n",
    "\n",
    "results = st.ttest_ind(data_msk['price_month'], data_other['price_month'])\n",
    "\n",
    "print('p-значение:', results.pvalue)\n",
    "\n",
    "if results.pvalue < alpha:\n",
    "    print('Отвергаем нулевую гипотезу')\n",
    "else:\n",
    "    print('Не получилось отвергнуть нулевую гипотезу') "
   ]
  },
  {
   "cell_type": "markdown",
   "metadata": {},
   "source": [
    "# Общий вывод"
   ]
  },
  {
   "cell_type": "markdown",
   "metadata": {},
   "source": [
    "1. Данные  не содержали пропущенных значений, дубликатов не было. В таблице calls была продолжительность 0.0 минут,это не ошибки: нулями обозначены пропущенные звонки, поэтому их не нужно удалять. \n",
    "2. Было проанализировано два тарифа Смарт и Ультра. - В СМАРТ входит 50 сообщений, 500 минут, 15 ГБ, абон.плата – 550 руб. - В УЛЬТРА входит 1000 сообщений, 3000 минут, 30 ГБ, абон.плата – 1950 руб. \n",
    "**Анализ тарифов сотового оператора** \n",
    " Абоненты в обоих тарифах используют интернет значительно больше лимита.\n",
    " Т.е. в лимиты обоих тарифов входит существенная разница по минутам и сообщениям, а интернет отличатся на 15ГБ. Фактически      абоненты обоих тарифов тратят похожее кол-во минут, сообщений абоненты Ультра тратят в среднем немного больше. А интернет абоненты Смарта тратят больше и при этом он для них по более дорогой цене. Более 81% месяцев по тарифу Смарт превышают лимит ГБ в два раза, т.е. за дополнительные 15 ГБ платят 3000. А это значит, что эти 81% - как минимум приносят оператору 3550 рублей при тех же условиях что и тариф УЛЬТРА. Т.е. вместо 1950 получается 3550. А если еще рассмотреть превышение 30 ГБ, то для сотового оператора абоненты Смарта становятся еще более выгодными, ведь они платят по 200 руб. за ГБ, а Ультра 150 руб. за ГБ.  Доп.минуты от абонентов Смарт также приносят прибыль сотовому оператору, а именно 22% от выручке по абон.плате. Получается что тариф, который дешевле почти в 4 раза выручки приносит больше, - средняя выручка от абонента в месяц: - УЛЬТРА – 3844 руб. - СМАРТ – 6247 руб\n",
    " \n",
    "3. Проверка гипотез показывает, что различие это не случайное, а закономерное. Поведение пользователей двух тарифов мало отличается , а расценки разные, отсюда и разность в выручке. Средняя выручка по Москве и другим регионам практически не отличается. \n",
    "\n",
    "**Рекомендации** 1. Тариф Смарт приносит больше денег, а значит и корректировать рекламный бюджет надо в его пользу. 2. Сотовому оператору выгоднее подключать абонентов к тарифу Смарт, а так как бОльшую долю выручки приносит доп.интернет, можно уменьшить абон.плату или добавить в этот тариф минуты и сообщения, для привлечения клиентов."
   ]
  }
 ],
 "metadata": {
  "ExecuteTimeLog": [
   {
    "duration": 2382,
    "start_time": "2022-04-15T11:53:36.309Z"
   },
   {
    "duration": 249,
    "start_time": "2022-04-15T11:53:38.694Z"
   },
   {
    "duration": 118,
    "start_time": "2022-04-15T11:54:49.988Z"
   },
   {
    "duration": 129,
    "start_time": "2022-04-15T11:56:57.439Z"
   },
   {
    "duration": 562,
    "start_time": "2022-04-15T11:57:45.081Z"
   },
   {
    "duration": 37,
    "start_time": "2022-04-15T11:57:45.645Z"
   },
   {
    "duration": 44,
    "start_time": "2022-04-15T11:58:20.256Z"
   },
   {
    "duration": 646,
    "start_time": "2022-04-15T11:59:43.003Z"
   },
   {
    "duration": 47,
    "start_time": "2022-04-15T11:59:43.652Z"
   },
   {
    "duration": 58,
    "start_time": "2022-04-15T11:59:43.701Z"
   },
   {
    "duration": 54,
    "start_time": "2022-04-15T11:59:43.762Z"
   },
   {
    "duration": 52,
    "start_time": "2022-04-15T11:59:43.819Z"
   },
   {
    "duration": 31,
    "start_time": "2022-04-15T11:59:43.873Z"
   },
   {
    "duration": 469,
    "start_time": "2022-04-15T12:02:49.083Z"
   },
   {
    "duration": 40,
    "start_time": "2022-04-15T12:02:49.555Z"
   },
   {
    "duration": 62,
    "start_time": "2022-04-15T12:02:49.598Z"
   },
   {
    "duration": 40,
    "start_time": "2022-04-15T12:02:49.663Z"
   },
   {
    "duration": 24,
    "start_time": "2022-04-15T12:02:49.706Z"
   },
   {
    "duration": 36,
    "start_time": "2022-04-15T12:02:49.752Z"
   },
   {
    "duration": 545,
    "start_time": "2022-04-15T12:15:26.481Z"
   },
   {
    "duration": 23,
    "start_time": "2022-04-15T12:15:27.029Z"
   },
   {
    "duration": 71,
    "start_time": "2022-04-15T12:15:27.055Z"
   },
   {
    "duration": 73,
    "start_time": "2022-04-15T12:15:27.130Z"
   },
   {
    "duration": 50,
    "start_time": "2022-04-15T12:15:27.206Z"
   },
   {
    "duration": 26,
    "start_time": "2022-04-15T12:15:27.258Z"
   },
   {
    "duration": 27,
    "start_time": "2022-04-15T12:15:27.286Z"
   },
   {
    "duration": 492,
    "start_time": "2022-04-15T12:16:31.194Z"
   },
   {
    "duration": 24,
    "start_time": "2022-04-15T12:16:31.689Z"
   },
   {
    "duration": 50,
    "start_time": "2022-04-15T12:16:31.715Z"
   },
   {
    "duration": 41,
    "start_time": "2022-04-15T12:16:31.769Z"
   },
   {
    "duration": 58,
    "start_time": "2022-04-15T12:16:31.813Z"
   },
   {
    "duration": 23,
    "start_time": "2022-04-15T12:16:31.874Z"
   },
   {
    "duration": 79,
    "start_time": "2022-04-15T12:16:31.899Z"
   },
   {
    "duration": 527,
    "start_time": "2022-04-15T12:21:30.549Z"
   },
   {
    "duration": 25,
    "start_time": "2022-04-15T12:21:31.079Z"
   },
   {
    "duration": 34,
    "start_time": "2022-04-15T12:21:31.107Z"
   },
   {
    "duration": 57,
    "start_time": "2022-04-15T12:21:31.145Z"
   },
   {
    "duration": 50,
    "start_time": "2022-04-15T12:21:31.204Z"
   },
   {
    "duration": 38,
    "start_time": "2022-04-15T12:21:31.256Z"
   },
   {
    "duration": 59,
    "start_time": "2022-04-15T12:21:31.297Z"
   },
   {
    "duration": 29,
    "start_time": "2022-04-15T12:21:31.359Z"
   },
   {
    "duration": 516,
    "start_time": "2022-04-15T12:23:24.478Z"
   },
   {
    "duration": 24,
    "start_time": "2022-04-15T12:23:24.997Z"
   },
   {
    "duration": 30,
    "start_time": "2022-04-15T12:23:25.023Z"
   },
   {
    "duration": 45,
    "start_time": "2022-04-15T12:23:25.056Z"
   },
   {
    "duration": 65,
    "start_time": "2022-04-15T12:23:25.104Z"
   },
   {
    "duration": 34,
    "start_time": "2022-04-15T12:23:25.171Z"
   },
   {
    "duration": 66,
    "start_time": "2022-04-15T12:23:25.207Z"
   },
   {
    "duration": 34,
    "start_time": "2022-04-15T12:23:25.275Z"
   },
   {
    "duration": 529,
    "start_time": "2022-04-15T12:24:36.618Z"
   },
   {
    "duration": 24,
    "start_time": "2022-04-15T12:24:37.150Z"
   },
   {
    "duration": 17,
    "start_time": "2022-04-15T12:24:37.177Z"
   },
   {
    "duration": 73,
    "start_time": "2022-04-15T12:24:37.197Z"
   },
   {
    "duration": 37,
    "start_time": "2022-04-15T12:24:37.273Z"
   },
   {
    "duration": 56,
    "start_time": "2022-04-15T12:24:37.312Z"
   },
   {
    "duration": 25,
    "start_time": "2022-04-15T12:24:37.370Z"
   },
   {
    "duration": 62,
    "start_time": "2022-04-15T12:24:37.397Z"
   },
   {
    "duration": 40,
    "start_time": "2022-04-15T12:25:40.508Z"
   },
   {
    "duration": 60,
    "start_time": "2022-04-15T12:28:07.478Z"
   },
   {
    "duration": 478,
    "start_time": "2022-04-15T12:35:07.313Z"
   },
   {
    "duration": 26,
    "start_time": "2022-04-15T12:35:07.793Z"
   },
   {
    "duration": 17,
    "start_time": "2022-04-15T12:35:07.821Z"
   },
   {
    "duration": 51,
    "start_time": "2022-04-15T12:35:07.841Z"
   },
   {
    "duration": 102,
    "start_time": "2022-04-15T12:35:07.895Z"
   },
   {
    "duration": 0,
    "start_time": "2022-04-15T12:35:07.999Z"
   },
   {
    "duration": 0,
    "start_time": "2022-04-15T12:35:08.001Z"
   },
   {
    "duration": 0,
    "start_time": "2022-04-15T12:35:08.002Z"
   },
   {
    "duration": 1,
    "start_time": "2022-04-15T12:35:08.004Z"
   },
   {
    "duration": 517,
    "start_time": "2022-04-15T12:36:06.638Z"
   },
   {
    "duration": 23,
    "start_time": "2022-04-15T12:36:07.157Z"
   },
   {
    "duration": 18,
    "start_time": "2022-04-15T12:36:07.182Z"
   },
   {
    "duration": 71,
    "start_time": "2022-04-15T12:36:07.203Z"
   },
   {
    "duration": 97,
    "start_time": "2022-04-15T12:36:07.276Z"
   },
   {
    "duration": 202,
    "start_time": "2022-04-15T12:36:07.375Z"
   },
   {
    "duration": 33,
    "start_time": "2022-04-15T12:36:07.579Z"
   },
   {
    "duration": 47,
    "start_time": "2022-04-15T12:36:07.613Z"
   },
   {
    "duration": 26,
    "start_time": "2022-04-15T12:36:07.662Z"
   },
   {
    "duration": 508,
    "start_time": "2022-04-15T12:37:25.773Z"
   },
   {
    "duration": 26,
    "start_time": "2022-04-15T12:37:26.283Z"
   },
   {
    "duration": 17,
    "start_time": "2022-04-15T12:37:26.312Z"
   },
   {
    "duration": 74,
    "start_time": "2022-04-15T12:37:26.332Z"
   },
   {
    "duration": 96,
    "start_time": "2022-04-15T12:37:26.408Z"
   },
   {
    "duration": 50,
    "start_time": "2022-04-15T12:37:26.506Z"
   },
   {
    "duration": 32,
    "start_time": "2022-04-15T12:37:26.559Z"
   },
   {
    "duration": 23,
    "start_time": "2022-04-15T12:37:26.594Z"
   },
   {
    "duration": 56,
    "start_time": "2022-04-15T12:37:26.620Z"
   },
   {
    "duration": 462,
    "start_time": "2022-04-15T12:38:17.735Z"
   },
   {
    "duration": 23,
    "start_time": "2022-04-15T12:38:18.201Z"
   },
   {
    "duration": 24,
    "start_time": "2022-04-15T12:38:18.226Z"
   },
   {
    "duration": 63,
    "start_time": "2022-04-15T12:38:18.254Z"
   },
   {
    "duration": 98,
    "start_time": "2022-04-15T12:38:18.319Z"
   },
   {
    "duration": 52,
    "start_time": "2022-04-15T12:38:18.419Z"
   },
   {
    "duration": 48,
    "start_time": "2022-04-15T12:38:18.474Z"
   },
   {
    "duration": 77,
    "start_time": "2022-04-15T12:38:18.524Z"
   },
   {
    "duration": 51,
    "start_time": "2022-04-15T12:38:18.603Z"
   },
   {
    "duration": 39,
    "start_time": "2022-04-15T12:38:18.659Z"
   },
   {
    "duration": 555,
    "start_time": "2022-04-15T12:51:23.859Z"
   },
   {
    "duration": 24,
    "start_time": "2022-04-15T12:51:24.417Z"
   },
   {
    "duration": 37,
    "start_time": "2022-04-15T12:51:24.444Z"
   },
   {
    "duration": 92,
    "start_time": "2022-04-15T12:51:24.485Z"
   },
   {
    "duration": 116,
    "start_time": "2022-04-15T12:51:24.579Z"
   },
   {
    "duration": 38,
    "start_time": "2022-04-15T12:51:24.697Z"
   },
   {
    "duration": 66,
    "start_time": "2022-04-15T12:51:24.737Z"
   },
   {
    "duration": 58,
    "start_time": "2022-04-15T12:51:24.805Z"
   },
   {
    "duration": 36,
    "start_time": "2022-04-15T12:51:24.866Z"
   },
   {
    "duration": 55,
    "start_time": "2022-04-15T12:51:24.906Z"
   },
   {
    "duration": 27,
    "start_time": "2022-04-15T12:51:24.964Z"
   },
   {
    "duration": 545,
    "start_time": "2022-04-15T12:54:31.724Z"
   },
   {
    "duration": 23,
    "start_time": "2022-04-15T12:54:32.271Z"
   },
   {
    "duration": 33,
    "start_time": "2022-04-15T12:54:32.296Z"
   },
   {
    "duration": 88,
    "start_time": "2022-04-15T12:54:32.333Z"
   },
   {
    "duration": 88,
    "start_time": "2022-04-15T12:54:32.423Z"
   },
   {
    "duration": 48,
    "start_time": "2022-04-15T12:54:32.514Z"
   },
   {
    "duration": 59,
    "start_time": "2022-04-15T12:54:32.565Z"
   },
   {
    "duration": 56,
    "start_time": "2022-04-15T12:54:32.626Z"
   },
   {
    "duration": 44,
    "start_time": "2022-04-15T12:54:32.684Z"
   },
   {
    "duration": 41,
    "start_time": "2022-04-15T12:54:32.731Z"
   },
   {
    "duration": 51,
    "start_time": "2022-04-15T12:54:32.774Z"
   },
   {
    "duration": 51,
    "start_time": "2022-04-15T12:56:11.832Z"
   },
   {
    "duration": 35,
    "start_time": "2022-04-15T12:56:29.084Z"
   },
   {
    "duration": 32,
    "start_time": "2022-04-15T12:58:06.633Z"
   },
   {
    "duration": 43,
    "start_time": "2022-04-15T12:59:44.476Z"
   },
   {
    "duration": 477,
    "start_time": "2022-04-15T12:59:55.294Z"
   },
   {
    "duration": 22,
    "start_time": "2022-04-15T12:59:55.773Z"
   },
   {
    "duration": 25,
    "start_time": "2022-04-15T12:59:55.798Z"
   },
   {
    "duration": 79,
    "start_time": "2022-04-15T12:59:55.826Z"
   },
   {
    "duration": 90,
    "start_time": "2022-04-15T12:59:55.907Z"
   },
   {
    "duration": 53,
    "start_time": "2022-04-15T12:59:55.999Z"
   },
   {
    "duration": 74,
    "start_time": "2022-04-15T12:59:56.055Z"
   },
   {
    "duration": 57,
    "start_time": "2022-04-15T12:59:56.131Z"
   },
   {
    "duration": 39,
    "start_time": "2022-04-15T12:59:56.191Z"
   },
   {
    "duration": 0,
    "start_time": "2022-04-15T12:59:56.252Z"
   },
   {
    "duration": 0,
    "start_time": "2022-04-15T12:59:56.254Z"
   },
   {
    "duration": 34,
    "start_time": "2022-04-15T13:00:08.136Z"
   },
   {
    "duration": 58,
    "start_time": "2022-04-15T13:03:06.131Z"
   },
   {
    "duration": 184,
    "start_time": "2022-04-15T13:03:55.263Z"
   },
   {
    "duration": 14,
    "start_time": "2022-04-15T13:04:18.895Z"
   },
   {
    "duration": 503,
    "start_time": "2022-04-15T13:04:21.365Z"
   },
   {
    "duration": 26,
    "start_time": "2022-04-15T13:04:21.871Z"
   },
   {
    "duration": 17,
    "start_time": "2022-04-15T13:04:21.899Z"
   },
   {
    "duration": 90,
    "start_time": "2022-04-15T13:04:21.919Z"
   },
   {
    "duration": 11,
    "start_time": "2022-04-15T13:04:22.011Z"
   },
   {
    "duration": 99,
    "start_time": "2022-04-15T13:04:22.024Z"
   },
   {
    "duration": 40,
    "start_time": "2022-04-15T13:04:22.126Z"
   },
   {
    "duration": 84,
    "start_time": "2022-04-15T13:04:22.168Z"
   },
   {
    "duration": 50,
    "start_time": "2022-04-15T13:04:22.254Z"
   },
   {
    "duration": 56,
    "start_time": "2022-04-15T13:04:22.308Z"
   },
   {
    "duration": 60,
    "start_time": "2022-04-15T13:04:22.366Z"
   },
   {
    "duration": 0,
    "start_time": "2022-04-15T13:04:22.428Z"
   },
   {
    "duration": 0,
    "start_time": "2022-04-15T13:04:22.429Z"
   },
   {
    "duration": 62,
    "start_time": "2022-04-15T13:06:11.168Z"
   },
   {
    "duration": 43,
    "start_time": "2022-04-15T13:07:13.034Z"
   },
   {
    "duration": 51,
    "start_time": "2022-04-15T13:10:32.487Z"
   },
   {
    "duration": 72,
    "start_time": "2022-04-15T13:14:17.149Z"
   },
   {
    "duration": 505,
    "start_time": "2022-04-15T13:16:38.872Z"
   },
   {
    "duration": 24,
    "start_time": "2022-04-15T13:16:39.380Z"
   },
   {
    "duration": 25,
    "start_time": "2022-04-15T13:16:39.406Z"
   },
   {
    "duration": 78,
    "start_time": "2022-04-15T13:16:39.435Z"
   },
   {
    "duration": 14,
    "start_time": "2022-04-15T13:16:39.516Z"
   },
   {
    "duration": 110,
    "start_time": "2022-04-15T13:16:39.552Z"
   },
   {
    "duration": 39,
    "start_time": "2022-04-15T13:16:39.665Z"
   },
   {
    "duration": 97,
    "start_time": "2022-04-15T13:16:39.707Z"
   },
   {
    "duration": 55,
    "start_time": "2022-04-15T13:16:39.807Z"
   },
   {
    "duration": 71,
    "start_time": "2022-04-15T13:16:39.865Z"
   },
   {
    "duration": 52,
    "start_time": "2022-04-15T13:16:39.952Z"
   },
   {
    "duration": 66,
    "start_time": "2022-04-15T13:16:40.007Z"
   },
   {
    "duration": 91,
    "start_time": "2022-04-15T13:16:40.076Z"
   },
   {
    "duration": 48,
    "start_time": "2022-04-15T13:16:40.170Z"
   },
   {
    "duration": 60,
    "start_time": "2022-04-15T13:16:40.220Z"
   },
   {
    "duration": 40,
    "start_time": "2022-04-15T13:16:40.283Z"
   },
   {
    "duration": 490,
    "start_time": "2022-04-15T13:22:28.270Z"
   },
   {
    "duration": 32,
    "start_time": "2022-04-15T13:22:28.762Z"
   },
   {
    "duration": 21,
    "start_time": "2022-04-15T13:22:28.797Z"
   },
   {
    "duration": 88,
    "start_time": "2022-04-15T13:22:28.821Z"
   },
   {
    "duration": 11,
    "start_time": "2022-04-15T13:22:28.911Z"
   },
   {
    "duration": 98,
    "start_time": "2022-04-15T13:22:28.925Z"
   },
   {
    "duration": 48,
    "start_time": "2022-04-15T13:22:29.026Z"
   },
   {
    "duration": 85,
    "start_time": "2022-04-15T13:22:29.076Z"
   },
   {
    "duration": 61,
    "start_time": "2022-04-15T13:22:29.164Z"
   },
   {
    "duration": 89,
    "start_time": "2022-04-15T13:22:29.229Z"
   },
   {
    "duration": 65,
    "start_time": "2022-04-15T13:22:29.320Z"
   },
   {
    "duration": 32,
    "start_time": "2022-04-15T13:22:29.388Z"
   },
   {
    "duration": 112,
    "start_time": "2022-04-15T13:22:29.422Z"
   },
   {
    "duration": 63,
    "start_time": "2022-04-15T13:22:29.536Z"
   },
   {
    "duration": 51,
    "start_time": "2022-04-15T13:22:29.602Z"
   },
   {
    "duration": 30,
    "start_time": "2022-04-15T13:22:29.656Z"
   },
   {
    "duration": 32,
    "start_time": "2022-04-15T13:22:40.465Z"
   },
   {
    "duration": 13,
    "start_time": "2022-04-15T13:25:30.883Z"
   },
   {
    "duration": 29,
    "start_time": "2022-04-15T13:25:37.952Z"
   },
   {
    "duration": 67,
    "start_time": "2022-04-15T13:30:54.010Z"
   },
   {
    "duration": 18,
    "start_time": "2022-04-15T13:33:57.298Z"
   },
   {
    "duration": 563,
    "start_time": "2022-04-15T13:34:44.349Z"
   },
   {
    "duration": 23,
    "start_time": "2022-04-15T13:34:44.915Z"
   },
   {
    "duration": 24,
    "start_time": "2022-04-15T13:34:44.941Z"
   },
   {
    "duration": 91,
    "start_time": "2022-04-15T13:34:44.969Z"
   },
   {
    "duration": 13,
    "start_time": "2022-04-15T13:34:45.064Z"
   },
   {
    "duration": 115,
    "start_time": "2022-04-15T13:34:45.079Z"
   },
   {
    "duration": 34,
    "start_time": "2022-04-15T13:34:45.196Z"
   },
   {
    "duration": 73,
    "start_time": "2022-04-15T13:34:45.233Z"
   },
   {
    "duration": 54,
    "start_time": "2022-04-15T13:34:45.309Z"
   },
   {
    "duration": 90,
    "start_time": "2022-04-15T13:34:45.368Z"
   },
   {
    "duration": 47,
    "start_time": "2022-04-15T13:34:45.461Z"
   },
   {
    "duration": 60,
    "start_time": "2022-04-15T13:34:45.510Z"
   },
   {
    "duration": 91,
    "start_time": "2022-04-15T13:34:45.573Z"
   },
   {
    "duration": 55,
    "start_time": "2022-04-15T13:34:45.671Z"
   },
   {
    "duration": 50,
    "start_time": "2022-04-15T13:34:45.728Z"
   },
   {
    "duration": 32,
    "start_time": "2022-04-15T13:34:45.781Z"
   },
   {
    "duration": 37,
    "start_time": "2022-04-15T13:34:45.816Z"
   },
   {
    "duration": 74,
    "start_time": "2022-04-15T13:34:45.858Z"
   },
   {
    "duration": 17,
    "start_time": "2022-04-15T13:34:45.956Z"
   },
   {
    "duration": 7,
    "start_time": "2022-04-15T13:37:10.577Z"
   },
   {
    "duration": 12,
    "start_time": "2022-04-15T13:37:19.637Z"
   },
   {
    "duration": 497,
    "start_time": "2022-04-15T13:45:28.646Z"
   },
   {
    "duration": 33,
    "start_time": "2022-04-15T13:45:29.146Z"
   },
   {
    "duration": 23,
    "start_time": "2022-04-15T13:45:29.182Z"
   },
   {
    "duration": 86,
    "start_time": "2022-04-15T13:45:29.208Z"
   },
   {
    "duration": 13,
    "start_time": "2022-04-15T13:45:29.296Z"
   },
   {
    "duration": 106,
    "start_time": "2022-04-15T13:45:29.312Z"
   },
   {
    "duration": 50,
    "start_time": "2022-04-15T13:45:29.421Z"
   },
   {
    "duration": 52,
    "start_time": "2022-04-15T13:45:29.474Z"
   },
   {
    "duration": 61,
    "start_time": "2022-04-15T13:45:29.528Z"
   },
   {
    "duration": 107,
    "start_time": "2022-04-15T13:45:29.594Z"
   },
   {
    "duration": 70,
    "start_time": "2022-04-15T13:45:29.703Z"
   },
   {
    "duration": 38,
    "start_time": "2022-04-15T13:45:29.776Z"
   },
   {
    "duration": 97,
    "start_time": "2022-04-15T13:45:29.817Z"
   },
   {
    "duration": 63,
    "start_time": "2022-04-15T13:45:29.916Z"
   },
   {
    "duration": 31,
    "start_time": "2022-04-15T13:45:29.982Z"
   },
   {
    "duration": 59,
    "start_time": "2022-04-15T13:45:30.016Z"
   },
   {
    "duration": 31,
    "start_time": "2022-04-15T13:45:30.077Z"
   },
   {
    "duration": 117,
    "start_time": "2022-04-15T13:45:30.111Z"
   },
   {
    "duration": 33,
    "start_time": "2022-04-15T13:45:30.231Z"
   },
   {
    "duration": 21,
    "start_time": "2022-04-15T13:45:30.267Z"
   },
   {
    "duration": 25,
    "start_time": "2022-04-15T13:45:58.558Z"
   },
   {
    "duration": 11,
    "start_time": "2022-04-15T13:51:05.621Z"
   },
   {
    "duration": 644,
    "start_time": "2022-04-15T13:54:34.496Z"
   },
   {
    "duration": 24,
    "start_time": "2022-04-15T13:54:35.142Z"
   },
   {
    "duration": 21,
    "start_time": "2022-04-15T13:54:35.169Z"
   },
   {
    "duration": 83,
    "start_time": "2022-04-15T13:54:35.192Z"
   },
   {
    "duration": 12,
    "start_time": "2022-04-15T13:54:35.279Z"
   },
   {
    "duration": 101,
    "start_time": "2022-04-15T13:54:35.293Z"
   },
   {
    "duration": 34,
    "start_time": "2022-04-15T13:54:35.396Z"
   },
   {
    "duration": 54,
    "start_time": "2022-04-15T13:54:35.452Z"
   },
   {
    "duration": 80,
    "start_time": "2022-04-15T13:54:35.509Z"
   },
   {
    "duration": 93,
    "start_time": "2022-04-15T13:54:35.592Z"
   },
   {
    "duration": 46,
    "start_time": "2022-04-15T13:54:35.687Z"
   },
   {
    "duration": 53,
    "start_time": "2022-04-15T13:54:35.735Z"
   },
   {
    "duration": 114,
    "start_time": "2022-04-15T13:54:35.791Z"
   },
   {
    "duration": 61,
    "start_time": "2022-04-15T13:54:35.909Z"
   },
   {
    "duration": 32,
    "start_time": "2022-04-15T13:54:35.976Z"
   },
   {
    "duration": 66,
    "start_time": "2022-04-15T13:54:36.011Z"
   },
   {
    "duration": 45,
    "start_time": "2022-04-15T13:54:36.079Z"
   },
   {
    "duration": 110,
    "start_time": "2022-04-15T13:54:36.126Z"
   },
   {
    "duration": 26,
    "start_time": "2022-04-15T13:54:36.237Z"
   },
   {
    "duration": 31,
    "start_time": "2022-04-15T13:54:36.265Z"
   },
   {
    "duration": 12,
    "start_time": "2022-04-15T13:54:36.298Z"
   },
   {
    "duration": 1780,
    "start_time": "2022-04-15T13:54:36.312Z"
   },
   {
    "duration": 98,
    "start_time": "2022-04-15T13:55:06.353Z"
   },
   {
    "duration": 94,
    "start_time": "2022-04-15T13:55:29.735Z"
   },
   {
    "duration": 24,
    "start_time": "2022-04-15T13:55:51.228Z"
   },
   {
    "duration": 46,
    "start_time": "2022-04-15T14:00:39.298Z"
   },
   {
    "duration": 9,
    "start_time": "2022-04-15T14:02:11.556Z"
   },
   {
    "duration": 6,
    "start_time": "2022-04-15T14:02:27.230Z"
   },
   {
    "duration": 567,
    "start_time": "2022-04-15T14:04:54.911Z"
   },
   {
    "duration": 26,
    "start_time": "2022-04-15T14:04:55.480Z"
   },
   {
    "duration": 17,
    "start_time": "2022-04-15T14:04:55.509Z"
   },
   {
    "duration": 89,
    "start_time": "2022-04-15T14:04:55.530Z"
   },
   {
    "duration": 12,
    "start_time": "2022-04-15T14:04:55.621Z"
   },
   {
    "duration": 78,
    "start_time": "2022-04-15T14:04:55.652Z"
   },
   {
    "duration": 49,
    "start_time": "2022-04-15T14:04:55.732Z"
   },
   {
    "duration": 78,
    "start_time": "2022-04-15T14:04:55.785Z"
   },
   {
    "duration": 62,
    "start_time": "2022-04-15T14:04:55.866Z"
   },
   {
    "duration": 69,
    "start_time": "2022-04-15T14:04:55.953Z"
   },
   {
    "duration": 69,
    "start_time": "2022-04-15T14:04:56.024Z"
   },
   {
    "duration": 32,
    "start_time": "2022-04-15T14:04:56.095Z"
   },
   {
    "duration": 91,
    "start_time": "2022-04-15T14:04:56.129Z"
   },
   {
    "duration": 73,
    "start_time": "2022-04-15T14:04:56.222Z"
   },
   {
    "duration": 26,
    "start_time": "2022-04-15T14:04:56.297Z"
   },
   {
    "duration": 54,
    "start_time": "2022-04-15T14:04:56.325Z"
   },
   {
    "duration": 27,
    "start_time": "2022-04-15T14:04:56.381Z"
   },
   {
    "duration": 104,
    "start_time": "2022-04-15T14:04:56.410Z"
   },
   {
    "duration": 36,
    "start_time": "2022-04-15T14:04:56.516Z"
   },
   {
    "duration": 24,
    "start_time": "2022-04-15T14:04:56.554Z"
   },
   {
    "duration": 12,
    "start_time": "2022-04-15T14:04:56.580Z"
   },
   {
    "duration": 138,
    "start_time": "2022-04-15T14:04:56.594Z"
   },
   {
    "duration": 31,
    "start_time": "2022-04-15T14:04:56.734Z"
   },
   {
    "duration": 39,
    "start_time": "2022-04-15T14:04:56.767Z"
   },
   {
    "duration": 44,
    "start_time": "2022-04-15T14:04:56.808Z"
   },
   {
    "duration": 6,
    "start_time": "2022-04-15T14:04:56.854Z"
   },
   {
    "duration": 12,
    "start_time": "2022-04-15T14:15:08.725Z"
   },
   {
    "duration": 9,
    "start_time": "2022-04-15T14:15:27.795Z"
   },
   {
    "duration": 473,
    "start_time": "2022-04-15T14:17:03.836Z"
   },
   {
    "duration": 17,
    "start_time": "2022-04-15T14:26:22.953Z"
   },
   {
    "duration": 13,
    "start_time": "2022-04-15T14:26:28.312Z"
   },
   {
    "duration": 41,
    "start_time": "2022-04-15T14:26:57.373Z"
   },
   {
    "duration": 12,
    "start_time": "2022-04-15T14:27:53.662Z"
   },
   {
    "duration": 559,
    "start_time": "2022-04-15T14:29:02.611Z"
   },
   {
    "duration": 27,
    "start_time": "2022-04-15T14:29:03.173Z"
   },
   {
    "duration": 25,
    "start_time": "2022-04-15T14:29:03.202Z"
   },
   {
    "duration": 79,
    "start_time": "2022-04-15T14:29:03.230Z"
   },
   {
    "duration": 12,
    "start_time": "2022-04-15T14:29:03.311Z"
   },
   {
    "duration": 115,
    "start_time": "2022-04-15T14:29:03.325Z"
   },
   {
    "duration": 38,
    "start_time": "2022-04-15T14:29:03.442Z"
   },
   {
    "duration": 77,
    "start_time": "2022-04-15T14:29:03.482Z"
   },
   {
    "duration": 38,
    "start_time": "2022-04-15T14:29:03.561Z"
   },
   {
    "duration": 98,
    "start_time": "2022-04-15T14:29:03.605Z"
   },
   {
    "duration": 59,
    "start_time": "2022-04-15T14:29:03.706Z"
   },
   {
    "duration": 42,
    "start_time": "2022-04-15T14:29:03.771Z"
   },
   {
    "duration": 98,
    "start_time": "2022-04-15T14:29:03.815Z"
   },
   {
    "duration": 77,
    "start_time": "2022-04-15T14:29:03.915Z"
   },
   {
    "duration": 24,
    "start_time": "2022-04-15T14:29:03.994Z"
   },
   {
    "duration": 52,
    "start_time": "2022-04-15T14:29:04.020Z"
   },
   {
    "duration": 47,
    "start_time": "2022-04-15T14:29:04.075Z"
   },
   {
    "duration": 91,
    "start_time": "2022-04-15T14:29:04.124Z"
   },
   {
    "duration": 13,
    "start_time": "2022-04-15T14:29:04.218Z"
   },
   {
    "duration": 53,
    "start_time": "2022-04-15T14:29:04.233Z"
   },
   {
    "duration": 21,
    "start_time": "2022-04-15T14:29:04.289Z"
   },
   {
    "duration": 120,
    "start_time": "2022-04-15T14:29:04.312Z"
   },
   {
    "duration": 32,
    "start_time": "2022-04-15T14:29:04.435Z"
   },
   {
    "duration": 44,
    "start_time": "2022-04-15T14:29:04.469Z"
   },
   {
    "duration": 13,
    "start_time": "2022-04-15T14:29:04.515Z"
   },
   {
    "duration": 5,
    "start_time": "2022-04-15T14:29:04.553Z"
   },
   {
    "duration": 28,
    "start_time": "2022-04-15T14:29:04.561Z"
   },
   {
    "duration": 46,
    "start_time": "2022-04-15T14:29:04.594Z"
   },
   {
    "duration": 10,
    "start_time": "2022-04-15T14:29:04.652Z"
   },
   {
    "duration": 28,
    "start_time": "2022-04-15T14:29:04.664Z"
   },
   {
    "duration": 25,
    "start_time": "2022-04-15T14:29:04.694Z"
   },
   {
    "duration": 361,
    "start_time": "2022-04-15T14:29:04.721Z"
   },
   {
    "duration": 7,
    "start_time": "2022-04-15T14:36:09.809Z"
   },
   {
    "duration": 626,
    "start_time": "2022-04-15T14:36:19.299Z"
   },
   {
    "duration": 22,
    "start_time": "2022-04-15T14:36:19.928Z"
   },
   {
    "duration": 23,
    "start_time": "2022-04-15T14:36:19.953Z"
   },
   {
    "duration": 81,
    "start_time": "2022-04-15T14:36:19.980Z"
   },
   {
    "duration": 11,
    "start_time": "2022-04-15T14:36:20.063Z"
   },
   {
    "duration": 134,
    "start_time": "2022-04-15T14:36:20.077Z"
   },
   {
    "duration": 43,
    "start_time": "2022-04-15T14:36:20.214Z"
   },
   {
    "duration": 49,
    "start_time": "2022-04-15T14:36:20.259Z"
   },
   {
    "duration": 61,
    "start_time": "2022-04-15T14:36:20.310Z"
   },
   {
    "duration": 85,
    "start_time": "2022-04-15T14:36:20.375Z"
   },
   {
    "duration": 44,
    "start_time": "2022-04-15T14:36:20.463Z"
   },
   {
    "duration": 57,
    "start_time": "2022-04-15T14:36:20.509Z"
   },
   {
    "duration": 91,
    "start_time": "2022-04-15T14:36:20.569Z"
   },
   {
    "duration": 40,
    "start_time": "2022-04-15T14:36:20.662Z"
   },
   {
    "duration": 49,
    "start_time": "2022-04-15T14:36:20.705Z"
   },
   {
    "duration": 26,
    "start_time": "2022-04-15T14:36:20.756Z"
   },
   {
    "duration": 25,
    "start_time": "2022-04-15T14:36:20.785Z"
   },
   {
    "duration": 68,
    "start_time": "2022-04-15T14:36:20.853Z"
   },
   {
    "duration": 44,
    "start_time": "2022-04-15T14:36:20.924Z"
   },
   {
    "duration": 31,
    "start_time": "2022-04-15T14:36:20.970Z"
   },
   {
    "duration": 13,
    "start_time": "2022-04-15T14:36:21.004Z"
   },
   {
    "duration": 181,
    "start_time": "2022-04-15T14:36:21.019Z"
   },
   {
    "duration": 24,
    "start_time": "2022-04-15T14:36:21.203Z"
   },
   {
    "duration": 57,
    "start_time": "2022-04-15T14:36:21.229Z"
   },
   {
    "duration": 11,
    "start_time": "2022-04-15T14:36:21.289Z"
   },
   {
    "duration": 10,
    "start_time": "2022-04-15T14:36:21.303Z"
   },
   {
    "duration": 44,
    "start_time": "2022-04-15T14:36:21.316Z"
   },
   {
    "duration": 43,
    "start_time": "2022-04-15T14:36:21.366Z"
   },
   {
    "duration": 41,
    "start_time": "2022-04-15T14:36:21.411Z"
   },
   {
    "duration": 12,
    "start_time": "2022-04-15T14:36:21.455Z"
   },
   {
    "duration": 11,
    "start_time": "2022-04-15T14:36:21.469Z"
   },
   {
    "duration": 542,
    "start_time": "2022-04-15T14:37:46.148Z"
   },
   {
    "duration": 25,
    "start_time": "2022-04-15T14:37:46.693Z"
   },
   {
    "duration": 18,
    "start_time": "2022-04-15T14:37:46.721Z"
   },
   {
    "duration": 63,
    "start_time": "2022-04-15T14:37:46.751Z"
   },
   {
    "duration": 35,
    "start_time": "2022-04-15T14:37:46.817Z"
   },
   {
    "duration": 119,
    "start_time": "2022-04-15T14:37:46.855Z"
   },
   {
    "duration": 50,
    "start_time": "2022-04-15T14:37:46.977Z"
   },
   {
    "duration": 98,
    "start_time": "2022-04-15T14:37:47.029Z"
   },
   {
    "duration": 52,
    "start_time": "2022-04-15T14:37:47.130Z"
   },
   {
    "duration": 100,
    "start_time": "2022-04-15T14:37:47.188Z"
   },
   {
    "duration": 68,
    "start_time": "2022-04-15T14:37:47.291Z"
   },
   {
    "duration": 36,
    "start_time": "2022-04-15T14:37:47.361Z"
   },
   {
    "duration": 106,
    "start_time": "2022-04-15T14:37:47.400Z"
   },
   {
    "duration": 64,
    "start_time": "2022-04-15T14:37:47.508Z"
   },
   {
    "duration": 28,
    "start_time": "2022-04-15T14:37:47.574Z"
   },
   {
    "duration": 51,
    "start_time": "2022-04-15T14:37:47.605Z"
   },
   {
    "duration": 31,
    "start_time": "2022-04-15T14:37:47.658Z"
   },
   {
    "duration": 101,
    "start_time": "2022-04-15T14:37:47.691Z"
   },
   {
    "duration": 15,
    "start_time": "2022-04-15T14:37:47.794Z"
   },
   {
    "duration": 56,
    "start_time": "2022-04-15T14:37:47.812Z"
   },
   {
    "duration": 18,
    "start_time": "2022-04-15T14:37:47.870Z"
   },
   {
    "duration": 124,
    "start_time": "2022-04-15T14:37:47.890Z"
   },
   {
    "duration": 38,
    "start_time": "2022-04-15T14:37:48.016Z"
   },
   {
    "duration": 40,
    "start_time": "2022-04-15T14:37:48.057Z"
   },
   {
    "duration": 10,
    "start_time": "2022-04-15T14:37:48.100Z"
   },
   {
    "duration": 8,
    "start_time": "2022-04-15T14:37:48.112Z"
   },
   {
    "duration": 13,
    "start_time": "2022-04-15T14:37:48.152Z"
   },
   {
    "duration": 45,
    "start_time": "2022-04-15T14:37:48.169Z"
   },
   {
    "duration": 10,
    "start_time": "2022-04-15T14:37:48.216Z"
   },
   {
    "duration": 9,
    "start_time": "2022-04-15T14:37:48.252Z"
   },
   {
    "duration": 7,
    "start_time": "2022-04-15T14:37:48.263Z"
   },
   {
    "duration": 1985,
    "start_time": "2022-04-15T14:37:48.272Z"
   },
   {
    "duration": 328,
    "start_time": "2022-04-15T14:48:07.039Z"
   },
   {
    "duration": 624,
    "start_time": "2022-04-15T14:54:55.948Z"
   },
   {
    "duration": 41,
    "start_time": "2022-04-15T14:54:56.575Z"
   },
   {
    "duration": 32,
    "start_time": "2022-04-15T14:54:56.619Z"
   },
   {
    "duration": 0,
    "start_time": "2022-04-15T14:54:56.657Z"
   },
   {
    "duration": 0,
    "start_time": "2022-04-15T14:54:56.659Z"
   },
   {
    "duration": 0,
    "start_time": "2022-04-15T14:54:56.661Z"
   },
   {
    "duration": 0,
    "start_time": "2022-04-15T14:54:56.663Z"
   },
   {
    "duration": 0,
    "start_time": "2022-04-15T14:54:56.665Z"
   },
   {
    "duration": 0,
    "start_time": "2022-04-15T14:54:56.667Z"
   },
   {
    "duration": 0,
    "start_time": "2022-04-15T14:54:56.669Z"
   },
   {
    "duration": 0,
    "start_time": "2022-04-15T14:54:56.671Z"
   },
   {
    "duration": 0,
    "start_time": "2022-04-15T14:54:56.815Z"
   },
   {
    "duration": 0,
    "start_time": "2022-04-15T14:54:56.817Z"
   },
   {
    "duration": 0,
    "start_time": "2022-04-15T14:54:56.819Z"
   },
   {
    "duration": 0,
    "start_time": "2022-04-15T14:54:56.821Z"
   },
   {
    "duration": 0,
    "start_time": "2022-04-15T14:54:56.824Z"
   },
   {
    "duration": 0,
    "start_time": "2022-04-15T14:54:56.826Z"
   },
   {
    "duration": 0,
    "start_time": "2022-04-15T14:54:56.828Z"
   },
   {
    "duration": 0,
    "start_time": "2022-04-15T14:54:56.852Z"
   },
   {
    "duration": 0,
    "start_time": "2022-04-15T14:54:56.854Z"
   },
   {
    "duration": 0,
    "start_time": "2022-04-15T14:54:56.857Z"
   },
   {
    "duration": 0,
    "start_time": "2022-04-15T14:54:56.859Z"
   },
   {
    "duration": 0,
    "start_time": "2022-04-15T14:54:56.861Z"
   },
   {
    "duration": 0,
    "start_time": "2022-04-15T14:54:56.864Z"
   },
   {
    "duration": 1,
    "start_time": "2022-04-15T14:54:56.865Z"
   },
   {
    "duration": 0,
    "start_time": "2022-04-15T14:54:56.868Z"
   },
   {
    "duration": 0,
    "start_time": "2022-04-15T14:54:56.872Z"
   },
   {
    "duration": 0,
    "start_time": "2022-04-15T14:54:56.874Z"
   },
   {
    "duration": 0,
    "start_time": "2022-04-15T14:54:56.875Z"
   },
   {
    "duration": 0,
    "start_time": "2022-04-15T14:54:56.876Z"
   },
   {
    "duration": 0,
    "start_time": "2022-04-15T14:54:56.879Z"
   },
   {
    "duration": 0,
    "start_time": "2022-04-15T14:54:56.883Z"
   },
   {
    "duration": 557,
    "start_time": "2022-04-15T14:56:41.158Z"
   },
   {
    "duration": 23,
    "start_time": "2022-04-15T14:56:41.718Z"
   },
   {
    "duration": 16,
    "start_time": "2022-04-15T14:56:41.744Z"
   },
   {
    "duration": 0,
    "start_time": "2022-04-15T14:56:41.764Z"
   },
   {
    "duration": 0,
    "start_time": "2022-04-15T14:56:41.767Z"
   },
   {
    "duration": 0,
    "start_time": "2022-04-15T14:56:41.768Z"
   },
   {
    "duration": 0,
    "start_time": "2022-04-15T14:56:41.770Z"
   },
   {
    "duration": 0,
    "start_time": "2022-04-15T14:56:41.771Z"
   },
   {
    "duration": 0,
    "start_time": "2022-04-15T14:56:41.773Z"
   },
   {
    "duration": 0,
    "start_time": "2022-04-15T14:56:41.776Z"
   },
   {
    "duration": 0,
    "start_time": "2022-04-15T14:56:41.777Z"
   },
   {
    "duration": 0,
    "start_time": "2022-04-15T14:56:41.780Z"
   },
   {
    "duration": 0,
    "start_time": "2022-04-15T14:56:41.782Z"
   },
   {
    "duration": 0,
    "start_time": "2022-04-15T14:56:41.784Z"
   },
   {
    "duration": 0,
    "start_time": "2022-04-15T14:56:41.786Z"
   },
   {
    "duration": 0,
    "start_time": "2022-04-15T14:56:41.788Z"
   },
   {
    "duration": 0,
    "start_time": "2022-04-15T14:56:41.789Z"
   },
   {
    "duration": 0,
    "start_time": "2022-04-15T14:56:41.791Z"
   },
   {
    "duration": 0,
    "start_time": "2022-04-15T14:56:41.793Z"
   },
   {
    "duration": 0,
    "start_time": "2022-04-15T14:56:41.795Z"
   },
   {
    "duration": 0,
    "start_time": "2022-04-15T14:56:41.852Z"
   },
   {
    "duration": 0,
    "start_time": "2022-04-15T14:56:41.854Z"
   },
   {
    "duration": 0,
    "start_time": "2022-04-15T14:56:41.855Z"
   },
   {
    "duration": 0,
    "start_time": "2022-04-15T14:56:41.856Z"
   },
   {
    "duration": 0,
    "start_time": "2022-04-15T14:56:41.857Z"
   },
   {
    "duration": 0,
    "start_time": "2022-04-15T14:56:41.858Z"
   },
   {
    "duration": 0,
    "start_time": "2022-04-15T14:56:41.860Z"
   },
   {
    "duration": 0,
    "start_time": "2022-04-15T14:56:41.861Z"
   },
   {
    "duration": 0,
    "start_time": "2022-04-15T14:56:41.862Z"
   },
   {
    "duration": 0,
    "start_time": "2022-04-15T14:56:41.864Z"
   },
   {
    "duration": 0,
    "start_time": "2022-04-15T14:56:41.865Z"
   },
   {
    "duration": 0,
    "start_time": "2022-04-15T14:56:41.868Z"
   },
   {
    "duration": 534,
    "start_time": "2022-04-15T14:57:46.731Z"
   },
   {
    "duration": 23,
    "start_time": "2022-04-15T14:57:47.267Z"
   },
   {
    "duration": 22,
    "start_time": "2022-04-15T14:57:47.293Z"
   },
   {
    "duration": 82,
    "start_time": "2022-04-15T14:57:47.319Z"
   },
   {
    "duration": 12,
    "start_time": "2022-04-15T14:57:47.403Z"
   },
   {
    "duration": 102,
    "start_time": "2022-04-15T14:57:47.417Z"
   },
   {
    "duration": 42,
    "start_time": "2022-04-15T14:57:47.521Z"
   },
   {
    "duration": 50,
    "start_time": "2022-04-15T14:57:47.565Z"
   },
   {
    "duration": 65,
    "start_time": "2022-04-15T14:57:47.618Z"
   },
   {
    "duration": 94,
    "start_time": "2022-04-15T14:57:47.687Z"
   },
   {
    "duration": 52,
    "start_time": "2022-04-15T14:57:47.784Z"
   },
   {
    "duration": 44,
    "start_time": "2022-04-15T14:57:47.838Z"
   },
   {
    "duration": 98,
    "start_time": "2022-04-15T14:57:47.885Z"
   },
   {
    "duration": 44,
    "start_time": "2022-04-15T14:57:47.986Z"
   },
   {
    "duration": 24,
    "start_time": "2022-04-15T14:57:48.052Z"
   },
   {
    "duration": 33,
    "start_time": "2022-04-15T14:57:48.078Z"
   },
   {
    "duration": 51,
    "start_time": "2022-04-15T14:57:48.114Z"
   },
   {
    "duration": 91,
    "start_time": "2022-04-15T14:57:48.167Z"
   },
   {
    "duration": 14,
    "start_time": "2022-04-15T14:57:48.261Z"
   },
   {
    "duration": 26,
    "start_time": "2022-04-15T14:57:48.277Z"
   },
   {
    "duration": 47,
    "start_time": "2022-04-15T14:57:48.305Z"
   },
   {
    "duration": 107,
    "start_time": "2022-04-15T14:57:48.354Z"
   },
   {
    "duration": 28,
    "start_time": "2022-04-15T14:57:48.464Z"
   },
   {
    "duration": 59,
    "start_time": "2022-04-15T14:57:48.494Z"
   },
   {
    "duration": 9,
    "start_time": "2022-04-15T14:57:48.556Z"
   },
   {
    "duration": 16,
    "start_time": "2022-04-15T14:57:48.568Z"
   },
   {
    "duration": 21,
    "start_time": "2022-04-15T14:57:48.587Z"
   },
   {
    "duration": 74,
    "start_time": "2022-04-15T14:57:48.615Z"
   },
   {
    "duration": 9,
    "start_time": "2022-04-15T14:57:48.692Z"
   },
   {
    "duration": 12,
    "start_time": "2022-04-15T14:57:48.703Z"
   },
   {
    "duration": 6,
    "start_time": "2022-04-15T14:57:48.718Z"
   },
   {
    "duration": 304,
    "start_time": "2022-04-15T14:57:48.752Z"
   },
   {
    "duration": 5,
    "start_time": "2022-04-15T15:24:21.224Z"
   },
   {
    "duration": 358,
    "start_time": "2022-04-15T15:24:26.003Z"
   },
   {
    "duration": 5,
    "start_time": "2022-04-15T15:24:39.735Z"
   },
   {
    "duration": 6,
    "start_time": "2022-04-15T15:24:43.281Z"
   },
   {
    "duration": 291,
    "start_time": "2022-04-15T15:24:45.550Z"
   },
   {
    "duration": 5,
    "start_time": "2022-04-15T15:29:36.763Z"
   },
   {
    "duration": 373,
    "start_time": "2022-04-15T15:29:38.299Z"
   },
   {
    "duration": 5,
    "start_time": "2022-04-15T15:29:59.084Z"
   },
   {
    "duration": 318,
    "start_time": "2022-04-15T15:30:00.519Z"
   },
   {
    "duration": 343,
    "start_time": "2022-04-15T16:10:41.671Z"
   },
   {
    "duration": 272,
    "start_time": "2022-04-15T16:11:59.590Z"
   },
   {
    "duration": 267,
    "start_time": "2022-04-15T16:14:12.403Z"
   },
   {
    "duration": 243,
    "start_time": "2022-04-15T16:14:38.687Z"
   },
   {
    "duration": 8,
    "start_time": "2022-04-15T16:32:13.054Z"
   },
   {
    "duration": 42,
    "start_time": "2022-04-15T16:39:00.189Z"
   },
   {
    "duration": 44,
    "start_time": "2022-04-15T16:39:51.036Z"
   },
   {
    "duration": 6,
    "start_time": "2022-04-15T16:42:24.834Z"
   },
   {
    "duration": 562,
    "start_time": "2022-04-15T17:00:10.184Z"
   },
   {
    "duration": 24,
    "start_time": "2022-04-15T17:00:10.749Z"
   },
   {
    "duration": 35,
    "start_time": "2022-04-15T17:00:10.776Z"
   },
   {
    "duration": 73,
    "start_time": "2022-04-15T17:00:10.814Z"
   },
   {
    "duration": 14,
    "start_time": "2022-04-15T17:00:10.889Z"
   },
   {
    "duration": 109,
    "start_time": "2022-04-15T17:00:10.906Z"
   },
   {
    "duration": 42,
    "start_time": "2022-04-15T17:00:11.018Z"
   },
   {
    "duration": 52,
    "start_time": "2022-04-15T17:00:11.064Z"
   },
   {
    "duration": 76,
    "start_time": "2022-04-15T17:00:11.119Z"
   },
   {
    "duration": 89,
    "start_time": "2022-04-15T17:00:11.199Z"
   },
   {
    "duration": 66,
    "start_time": "2022-04-15T17:00:11.290Z"
   },
   {
    "duration": 34,
    "start_time": "2022-04-15T17:00:11.358Z"
   },
   {
    "duration": 112,
    "start_time": "2022-04-15T17:00:11.395Z"
   },
   {
    "duration": 51,
    "start_time": "2022-04-15T17:00:11.509Z"
   },
   {
    "duration": 27,
    "start_time": "2022-04-15T17:00:11.562Z"
   },
   {
    "duration": 29,
    "start_time": "2022-04-15T17:00:11.591Z"
   },
   {
    "duration": 86,
    "start_time": "2022-04-15T17:00:11.623Z"
   },
   {
    "duration": 45,
    "start_time": "2022-04-15T17:00:11.712Z"
   },
   {
    "duration": 31,
    "start_time": "2022-04-15T17:00:11.760Z"
   },
   {
    "duration": 17,
    "start_time": "2022-04-15T17:00:11.794Z"
   },
   {
    "duration": 147,
    "start_time": "2022-04-15T17:00:11.813Z"
   },
   {
    "duration": 28,
    "start_time": "2022-04-15T17:00:11.963Z"
   },
   {
    "duration": 61,
    "start_time": "2022-04-15T17:00:11.993Z"
   },
   {
    "duration": 13,
    "start_time": "2022-04-15T17:00:12.057Z"
   },
   {
    "duration": 8,
    "start_time": "2022-04-15T17:00:12.073Z"
   },
   {
    "duration": 16,
    "start_time": "2022-04-15T17:00:12.083Z"
   },
   {
    "duration": 88,
    "start_time": "2022-04-15T17:00:12.101Z"
   },
   {
    "duration": 10,
    "start_time": "2022-04-15T17:00:12.196Z"
   },
   {
    "duration": 13,
    "start_time": "2022-04-15T17:00:12.208Z"
   },
   {
    "duration": 28,
    "start_time": "2022-04-15T17:00:12.224Z"
   },
   {
    "duration": 299,
    "start_time": "2022-04-15T17:00:12.254Z"
   },
   {
    "duration": 334,
    "start_time": "2022-04-15T17:00:12.555Z"
   },
   {
    "duration": 391,
    "start_time": "2022-04-15T17:00:12.892Z"
   },
   {
    "duration": 262,
    "start_time": "2022-04-15T17:00:13.285Z"
   },
   {
    "duration": 8,
    "start_time": "2022-04-15T17:00:13.552Z"
   },
   {
    "duration": 46,
    "start_time": "2022-04-15T17:00:13.563Z"
   },
   {
    "duration": 63,
    "start_time": "2022-04-15T17:00:13.612Z"
   },
   {
    "duration": 6,
    "start_time": "2022-04-15T17:00:13.677Z"
   },
   {
    "duration": 2471,
    "start_time": "2022-04-24T11:27:45.299Z"
   },
   {
    "duration": 37,
    "start_time": "2022-04-24T11:27:47.774Z"
   },
   {
    "duration": 27,
    "start_time": "2022-04-24T11:27:47.814Z"
   },
   {
    "duration": 123,
    "start_time": "2022-04-24T11:27:47.843Z"
   },
   {
    "duration": 17,
    "start_time": "2022-04-24T11:27:47.986Z"
   },
   {
    "duration": 107,
    "start_time": "2022-04-24T11:27:48.006Z"
   },
   {
    "duration": 35,
    "start_time": "2022-04-24T11:27:48.115Z"
   },
   {
    "duration": 71,
    "start_time": "2022-04-24T11:27:48.152Z"
   },
   {
    "duration": 65,
    "start_time": "2022-04-24T11:27:48.226Z"
   },
   {
    "duration": 115,
    "start_time": "2022-04-24T11:27:48.294Z"
   },
   {
    "duration": 51,
    "start_time": "2022-04-24T11:27:48.412Z"
   },
   {
    "duration": 46,
    "start_time": "2022-04-24T11:27:48.465Z"
   },
   {
    "duration": 92,
    "start_time": "2022-04-24T11:27:48.514Z"
   },
   {
    "duration": 44,
    "start_time": "2022-04-24T11:27:48.611Z"
   },
   {
    "duration": 33,
    "start_time": "2022-04-24T11:27:48.682Z"
   },
   {
    "duration": 25,
    "start_time": "2022-04-24T11:27:48.718Z"
   },
   {
    "duration": 91,
    "start_time": "2022-04-24T11:27:48.745Z"
   },
   {
    "duration": 44,
    "start_time": "2022-04-24T11:27:48.838Z"
   },
   {
    "duration": 31,
    "start_time": "2022-04-24T11:27:48.885Z"
   },
   {
    "duration": 15,
    "start_time": "2022-04-24T11:27:48.918Z"
   },
   {
    "duration": 153,
    "start_time": "2022-04-24T11:27:48.935Z"
   },
   {
    "duration": 25,
    "start_time": "2022-04-24T11:27:49.091Z"
   },
   {
    "duration": 74,
    "start_time": "2022-04-24T11:27:49.119Z"
   },
   {
    "duration": 11,
    "start_time": "2022-04-24T11:27:49.196Z"
   },
   {
    "duration": 6,
    "start_time": "2022-04-24T11:27:49.213Z"
   },
   {
    "duration": 18,
    "start_time": "2022-04-24T11:27:49.221Z"
   },
   {
    "duration": 69,
    "start_time": "2022-04-24T11:27:49.242Z"
   },
   {
    "duration": 9,
    "start_time": "2022-04-24T11:27:49.313Z"
   },
   {
    "duration": 13,
    "start_time": "2022-04-24T11:27:49.324Z"
   },
   {
    "duration": 11,
    "start_time": "2022-04-24T11:27:49.339Z"
   },
   {
    "duration": 307,
    "start_time": "2022-04-24T11:27:49.352Z"
   },
   {
    "duration": 370,
    "start_time": "2022-04-24T11:27:49.662Z"
   },
   {
    "duration": 411,
    "start_time": "2022-04-24T11:27:50.035Z"
   },
   {
    "duration": 251,
    "start_time": "2022-04-24T11:27:50.449Z"
   },
   {
    "duration": 158,
    "start_time": "2022-04-24T11:27:50.702Z"
   },
   {
    "duration": 0,
    "start_time": "2022-04-24T11:27:50.862Z"
   },
   {
    "duration": 0,
    "start_time": "2022-04-24T11:27:50.864Z"
   },
   {
    "duration": 0,
    "start_time": "2022-04-24T11:27:50.882Z"
   },
   {
    "duration": 58,
    "start_time": "2022-04-24T11:31:12.199Z"
   },
   {
    "duration": 38,
    "start_time": "2022-04-24T11:31:12.824Z"
   },
   {
    "duration": 13,
    "start_time": "2022-04-24T11:31:13.653Z"
   },
   {
    "duration": 14,
    "start_time": "2022-04-24T11:33:31.716Z"
   },
   {
    "duration": 2618,
    "start_time": "2022-05-06T15:32:11.292Z"
   },
   {
    "duration": 31,
    "start_time": "2022-05-06T15:32:13.914Z"
   },
   {
    "duration": 31,
    "start_time": "2022-05-06T15:32:13.953Z"
   },
   {
    "duration": 83,
    "start_time": "2022-05-06T15:32:13.987Z"
   },
   {
    "duration": 12,
    "start_time": "2022-05-06T15:32:14.072Z"
   },
   {
    "duration": 115,
    "start_time": "2022-05-06T15:32:14.086Z"
   },
   {
    "duration": 50,
    "start_time": "2022-05-06T15:32:14.204Z"
   },
   {
    "duration": 60,
    "start_time": "2022-05-06T15:32:14.257Z"
   },
   {
    "duration": 70,
    "start_time": "2022-05-06T15:32:14.319Z"
   },
   {
    "duration": 94,
    "start_time": "2022-05-06T15:32:14.392Z"
   },
   {
    "duration": 52,
    "start_time": "2022-05-06T15:32:14.489Z"
   },
   {
    "duration": 40,
    "start_time": "2022-05-06T15:32:14.557Z"
   },
   {
    "duration": 102,
    "start_time": "2022-05-06T15:32:14.600Z"
   },
   {
    "duration": 69,
    "start_time": "2022-05-06T15:32:14.704Z"
   },
   {
    "duration": 25,
    "start_time": "2022-05-06T15:32:14.776Z"
   },
   {
    "duration": 52,
    "start_time": "2022-05-06T15:32:14.803Z"
   },
   {
    "duration": 270,
    "start_time": "2022-05-06T15:32:14.858Z"
   },
   {
    "duration": 0,
    "start_time": "2022-05-06T15:32:15.130Z"
   },
   {
    "duration": 0,
    "start_time": "2022-05-06T15:32:15.133Z"
   },
   {
    "duration": 1,
    "start_time": "2022-05-06T15:32:15.134Z"
   },
   {
    "duration": 0,
    "start_time": "2022-05-06T15:32:15.156Z"
   },
   {
    "duration": 0,
    "start_time": "2022-05-06T15:32:15.158Z"
   },
   {
    "duration": 0,
    "start_time": "2022-05-06T15:32:15.160Z"
   },
   {
    "duration": 0,
    "start_time": "2022-05-06T15:32:15.162Z"
   },
   {
    "duration": 0,
    "start_time": "2022-05-06T15:32:15.164Z"
   },
   {
    "duration": 0,
    "start_time": "2022-05-06T15:32:15.166Z"
   },
   {
    "duration": 0,
    "start_time": "2022-05-06T15:32:15.168Z"
   },
   {
    "duration": 0,
    "start_time": "2022-05-06T15:32:15.170Z"
   },
   {
    "duration": 0,
    "start_time": "2022-05-06T15:32:15.173Z"
   },
   {
    "duration": 0,
    "start_time": "2022-05-06T15:32:15.174Z"
   },
   {
    "duration": 0,
    "start_time": "2022-05-06T15:32:15.176Z"
   },
   {
    "duration": 0,
    "start_time": "2022-05-06T15:32:15.178Z"
   },
   {
    "duration": 0,
    "start_time": "2022-05-06T15:32:15.181Z"
   },
   {
    "duration": 0,
    "start_time": "2022-05-06T15:32:15.183Z"
   },
   {
    "duration": 0,
    "start_time": "2022-05-06T15:32:15.185Z"
   },
   {
    "duration": 0,
    "start_time": "2022-05-06T15:32:15.186Z"
   },
   {
    "duration": 0,
    "start_time": "2022-05-06T15:32:15.187Z"
   },
   {
    "duration": 0,
    "start_time": "2022-05-06T15:32:15.189Z"
   },
   {
    "duration": 544,
    "start_time": "2022-05-06T15:37:37.165Z"
   },
   {
    "duration": 25,
    "start_time": "2022-05-06T15:37:37.712Z"
   },
   {
    "duration": 23,
    "start_time": "2022-05-06T15:37:37.739Z"
   },
   {
    "duration": 88,
    "start_time": "2022-05-06T15:37:37.765Z"
   },
   {
    "duration": 18,
    "start_time": "2022-05-06T15:37:37.856Z"
   },
   {
    "duration": 107,
    "start_time": "2022-05-06T15:37:37.879Z"
   },
   {
    "duration": 36,
    "start_time": "2022-05-06T15:37:37.988Z"
   },
   {
    "duration": 72,
    "start_time": "2022-05-06T15:37:38.026Z"
   },
   {
    "duration": 66,
    "start_time": "2022-05-06T15:37:38.100Z"
   },
   {
    "duration": 121,
    "start_time": "2022-05-06T15:37:38.171Z"
   },
   {
    "duration": 58,
    "start_time": "2022-05-06T15:37:38.294Z"
   },
   {
    "duration": 38,
    "start_time": "2022-05-06T15:37:38.359Z"
   },
   {
    "duration": 104,
    "start_time": "2022-05-06T15:37:38.401Z"
   },
   {
    "duration": 67,
    "start_time": "2022-05-06T15:37:38.507Z"
   },
   {
    "duration": 25,
    "start_time": "2022-05-06T15:37:38.576Z"
   },
   {
    "duration": 57,
    "start_time": "2022-05-06T15:37:38.604Z"
   },
   {
    "duration": 23,
    "start_time": "2022-05-06T15:37:38.663Z"
   },
   {
    "duration": 0,
    "start_time": "2022-05-06T15:37:38.689Z"
   },
   {
    "duration": 0,
    "start_time": "2022-05-06T15:37:38.690Z"
   },
   {
    "duration": 0,
    "start_time": "2022-05-06T15:37:38.693Z"
   },
   {
    "duration": 0,
    "start_time": "2022-05-06T15:37:38.694Z"
   },
   {
    "duration": 0,
    "start_time": "2022-05-06T15:37:38.696Z"
   },
   {
    "duration": 0,
    "start_time": "2022-05-06T15:37:38.697Z"
   },
   {
    "duration": 1,
    "start_time": "2022-05-06T15:37:38.699Z"
   },
   {
    "duration": 0,
    "start_time": "2022-05-06T15:37:38.701Z"
   },
   {
    "duration": 0,
    "start_time": "2022-05-06T15:37:38.702Z"
   },
   {
    "duration": 0,
    "start_time": "2022-05-06T15:37:38.704Z"
   },
   {
    "duration": 0,
    "start_time": "2022-05-06T15:37:38.705Z"
   },
   {
    "duration": 0,
    "start_time": "2022-05-06T15:37:38.759Z"
   },
   {
    "duration": 0,
    "start_time": "2022-05-06T15:37:38.764Z"
   },
   {
    "duration": 0,
    "start_time": "2022-05-06T15:37:38.768Z"
   },
   {
    "duration": 1,
    "start_time": "2022-05-06T15:37:38.774Z"
   },
   {
    "duration": 0,
    "start_time": "2022-05-06T15:37:38.776Z"
   },
   {
    "duration": 0,
    "start_time": "2022-05-06T15:37:38.778Z"
   },
   {
    "duration": 0,
    "start_time": "2022-05-06T15:37:38.780Z"
   },
   {
    "duration": 0,
    "start_time": "2022-05-06T15:37:38.782Z"
   },
   {
    "duration": 0,
    "start_time": "2022-05-06T15:37:38.784Z"
   },
   {
    "duration": 0,
    "start_time": "2022-05-06T15:37:38.786Z"
   },
   {
    "duration": 549,
    "start_time": "2022-05-06T15:39:29.316Z"
   },
   {
    "duration": 31,
    "start_time": "2022-05-06T15:39:29.869Z"
   },
   {
    "duration": 22,
    "start_time": "2022-05-06T15:39:29.903Z"
   },
   {
    "duration": 128,
    "start_time": "2022-05-06T15:39:29.929Z"
   },
   {
    "duration": 15,
    "start_time": "2022-05-06T15:39:30.059Z"
   },
   {
    "duration": 146,
    "start_time": "2022-05-06T15:39:30.077Z"
   },
   {
    "duration": 57,
    "start_time": "2022-05-06T15:39:30.226Z"
   },
   {
    "duration": 93,
    "start_time": "2022-05-06T15:39:30.286Z"
   },
   {
    "duration": 73,
    "start_time": "2022-05-06T15:39:30.382Z"
   },
   {
    "duration": 66,
    "start_time": "2022-05-06T15:39:30.462Z"
   },
   {
    "duration": 38,
    "start_time": "2022-05-06T15:39:30.530Z"
   },
   {
    "duration": 0,
    "start_time": "2022-05-06T15:39:30.571Z"
   },
   {
    "duration": 0,
    "start_time": "2022-05-06T15:39:30.573Z"
   },
   {
    "duration": 0,
    "start_time": "2022-05-06T15:39:30.575Z"
   },
   {
    "duration": 0,
    "start_time": "2022-05-06T15:39:30.577Z"
   },
   {
    "duration": 0,
    "start_time": "2022-05-06T15:39:30.579Z"
   },
   {
    "duration": 0,
    "start_time": "2022-05-06T15:39:30.581Z"
   },
   {
    "duration": 0,
    "start_time": "2022-05-06T15:39:30.582Z"
   },
   {
    "duration": 0,
    "start_time": "2022-05-06T15:39:30.585Z"
   },
   {
    "duration": 0,
    "start_time": "2022-05-06T15:39:30.587Z"
   },
   {
    "duration": 0,
    "start_time": "2022-05-06T15:39:30.589Z"
   },
   {
    "duration": 0,
    "start_time": "2022-05-06T15:39:30.591Z"
   },
   {
    "duration": 0,
    "start_time": "2022-05-06T15:39:30.592Z"
   },
   {
    "duration": 0,
    "start_time": "2022-05-06T15:39:30.594Z"
   },
   {
    "duration": 0,
    "start_time": "2022-05-06T15:39:30.595Z"
   },
   {
    "duration": 0,
    "start_time": "2022-05-06T15:39:30.596Z"
   },
   {
    "duration": 0,
    "start_time": "2022-05-06T15:39:30.599Z"
   },
   {
    "duration": 0,
    "start_time": "2022-05-06T15:39:30.601Z"
   },
   {
    "duration": 0,
    "start_time": "2022-05-06T15:39:30.602Z"
   },
   {
    "duration": 0,
    "start_time": "2022-05-06T15:39:30.604Z"
   },
   {
    "duration": 0,
    "start_time": "2022-05-06T15:39:30.655Z"
   },
   {
    "duration": 0,
    "start_time": "2022-05-06T15:39:30.656Z"
   },
   {
    "duration": 0,
    "start_time": "2022-05-06T15:39:30.658Z"
   },
   {
    "duration": 0,
    "start_time": "2022-05-06T15:39:30.660Z"
   },
   {
    "duration": 0,
    "start_time": "2022-05-06T15:39:30.662Z"
   },
   {
    "duration": 0,
    "start_time": "2022-05-06T15:39:30.664Z"
   },
   {
    "duration": 0,
    "start_time": "2022-05-06T15:39:30.666Z"
   },
   {
    "duration": 0,
    "start_time": "2022-05-06T15:39:30.667Z"
   },
   {
    "duration": 15,
    "start_time": "2022-05-06T15:40:34.882Z"
   },
   {
    "duration": 541,
    "start_time": "2022-05-06T15:40:37.800Z"
   },
   {
    "duration": 28,
    "start_time": "2022-05-06T15:40:38.344Z"
   },
   {
    "duration": 30,
    "start_time": "2022-05-06T15:40:38.374Z"
   },
   {
    "duration": 100,
    "start_time": "2022-05-06T15:40:38.408Z"
   },
   {
    "duration": 11,
    "start_time": "2022-05-06T15:40:38.510Z"
   },
   {
    "duration": 101,
    "start_time": "2022-05-06T15:40:38.524Z"
   },
   {
    "duration": 54,
    "start_time": "2022-05-06T15:40:38.627Z"
   },
   {
    "duration": 76,
    "start_time": "2022-05-06T15:40:38.683Z"
   },
   {
    "duration": 47,
    "start_time": "2022-05-06T15:40:38.761Z"
   },
   {
    "duration": 94,
    "start_time": "2022-05-06T15:40:38.814Z"
   },
   {
    "duration": 14,
    "start_time": "2022-05-06T15:40:38.911Z"
   },
   {
    "duration": 0,
    "start_time": "2022-05-06T15:40:38.928Z"
   },
   {
    "duration": 0,
    "start_time": "2022-05-06T15:40:38.930Z"
   },
   {
    "duration": 0,
    "start_time": "2022-05-06T15:40:38.931Z"
   },
   {
    "duration": 0,
    "start_time": "2022-05-06T15:40:38.933Z"
   },
   {
    "duration": 0,
    "start_time": "2022-05-06T15:40:38.934Z"
   },
   {
    "duration": 0,
    "start_time": "2022-05-06T15:40:38.952Z"
   },
   {
    "duration": 0,
    "start_time": "2022-05-06T15:40:38.954Z"
   },
   {
    "duration": 0,
    "start_time": "2022-05-06T15:40:38.956Z"
   },
   {
    "duration": 0,
    "start_time": "2022-05-06T15:40:38.960Z"
   },
   {
    "duration": 0,
    "start_time": "2022-05-06T15:40:38.966Z"
   },
   {
    "duration": 0,
    "start_time": "2022-05-06T15:40:38.968Z"
   },
   {
    "duration": 0,
    "start_time": "2022-05-06T15:40:38.971Z"
   },
   {
    "duration": 0,
    "start_time": "2022-05-06T15:40:38.975Z"
   },
   {
    "duration": 0,
    "start_time": "2022-05-06T15:40:38.977Z"
   },
   {
    "duration": 0,
    "start_time": "2022-05-06T15:40:38.979Z"
   },
   {
    "duration": 0,
    "start_time": "2022-05-06T15:40:38.982Z"
   },
   {
    "duration": 0,
    "start_time": "2022-05-06T15:40:38.984Z"
   },
   {
    "duration": 0,
    "start_time": "2022-05-06T15:40:38.986Z"
   },
   {
    "duration": 0,
    "start_time": "2022-05-06T15:40:38.988Z"
   },
   {
    "duration": 0,
    "start_time": "2022-05-06T15:40:38.991Z"
   },
   {
    "duration": 0,
    "start_time": "2022-05-06T15:40:38.993Z"
   },
   {
    "duration": 0,
    "start_time": "2022-05-06T15:40:38.995Z"
   },
   {
    "duration": 0,
    "start_time": "2022-05-06T15:40:38.997Z"
   },
   {
    "duration": 0,
    "start_time": "2022-05-06T15:40:39.052Z"
   },
   {
    "duration": 0,
    "start_time": "2022-05-06T15:40:39.054Z"
   },
   {
    "duration": 0,
    "start_time": "2022-05-06T15:40:39.057Z"
   },
   {
    "duration": 0,
    "start_time": "2022-05-06T15:40:39.058Z"
   },
   {
    "duration": 536,
    "start_time": "2022-05-06T15:41:24.007Z"
   },
   {
    "duration": 27,
    "start_time": "2022-05-06T15:41:24.546Z"
   },
   {
    "duration": 21,
    "start_time": "2022-05-06T15:41:24.576Z"
   },
   {
    "duration": 92,
    "start_time": "2022-05-06T15:41:24.601Z"
   },
   {
    "duration": 11,
    "start_time": "2022-05-06T15:41:24.695Z"
   },
   {
    "duration": 117,
    "start_time": "2022-05-06T15:41:24.708Z"
   },
   {
    "duration": 53,
    "start_time": "2022-05-06T15:41:24.827Z"
   },
   {
    "duration": 53,
    "start_time": "2022-05-06T15:41:24.882Z"
   },
   {
    "duration": 46,
    "start_time": "2022-05-06T15:41:24.952Z"
   },
   {
    "duration": 104,
    "start_time": "2022-05-06T15:41:25.002Z"
   },
   {
    "duration": 69,
    "start_time": "2022-05-06T15:41:25.109Z"
   },
   {
    "duration": 35,
    "start_time": "2022-05-06T15:41:25.181Z"
   },
   {
    "duration": 104,
    "start_time": "2022-05-06T15:41:25.219Z"
   },
   {
    "duration": 65,
    "start_time": "2022-05-06T15:41:25.326Z"
   },
   {
    "duration": 26,
    "start_time": "2022-05-06T15:41:25.393Z"
   },
   {
    "duration": 51,
    "start_time": "2022-05-06T15:41:25.422Z"
   },
   {
    "duration": 21,
    "start_time": "2022-05-06T15:41:25.476Z"
   },
   {
    "duration": 0,
    "start_time": "2022-05-06T15:41:25.500Z"
   },
   {
    "duration": 0,
    "start_time": "2022-05-06T15:41:25.502Z"
   },
   {
    "duration": 0,
    "start_time": "2022-05-06T15:41:25.503Z"
   },
   {
    "duration": 0,
    "start_time": "2022-05-06T15:41:25.504Z"
   },
   {
    "duration": 0,
    "start_time": "2022-05-06T15:41:25.506Z"
   },
   {
    "duration": 0,
    "start_time": "2022-05-06T15:41:25.508Z"
   },
   {
    "duration": 0,
    "start_time": "2022-05-06T15:41:25.509Z"
   },
   {
    "duration": 0,
    "start_time": "2022-05-06T15:41:25.511Z"
   },
   {
    "duration": 1,
    "start_time": "2022-05-06T15:41:25.552Z"
   },
   {
    "duration": 0,
    "start_time": "2022-05-06T15:41:25.554Z"
   },
   {
    "duration": 0,
    "start_time": "2022-05-06T15:41:25.556Z"
   },
   {
    "duration": 0,
    "start_time": "2022-05-06T15:41:25.557Z"
   },
   {
    "duration": 0,
    "start_time": "2022-05-06T15:41:25.558Z"
   },
   {
    "duration": 0,
    "start_time": "2022-05-06T15:41:25.560Z"
   },
   {
    "duration": 0,
    "start_time": "2022-05-06T15:41:25.563Z"
   },
   {
    "duration": 0,
    "start_time": "2022-05-06T15:41:25.564Z"
   },
   {
    "duration": 0,
    "start_time": "2022-05-06T15:41:25.566Z"
   },
   {
    "duration": 0,
    "start_time": "2022-05-06T15:41:25.568Z"
   },
   {
    "duration": 0,
    "start_time": "2022-05-06T15:41:25.569Z"
   },
   {
    "duration": 0,
    "start_time": "2022-05-06T15:41:25.571Z"
   },
   {
    "duration": 0,
    "start_time": "2022-05-06T15:41:25.573Z"
   },
   {
    "duration": 533,
    "start_time": "2022-05-06T15:41:50.040Z"
   },
   {
    "duration": 25,
    "start_time": "2022-05-06T15:41:50.576Z"
   },
   {
    "duration": 20,
    "start_time": "2022-05-06T15:41:50.603Z"
   },
   {
    "duration": 84,
    "start_time": "2022-05-06T15:41:50.626Z"
   },
   {
    "duration": 12,
    "start_time": "2022-05-06T15:41:50.712Z"
   },
   {
    "duration": 109,
    "start_time": "2022-05-06T15:41:50.727Z"
   },
   {
    "duration": 54,
    "start_time": "2022-05-06T15:41:50.838Z"
   },
   {
    "duration": 73,
    "start_time": "2022-05-06T15:41:50.895Z"
   },
   {
    "duration": 38,
    "start_time": "2022-05-06T15:41:50.971Z"
   },
   {
    "duration": 93,
    "start_time": "2022-05-06T15:41:51.013Z"
   },
   {
    "duration": 78,
    "start_time": "2022-05-06T15:41:51.108Z"
   },
   {
    "duration": 32,
    "start_time": "2022-05-06T15:41:51.189Z"
   },
   {
    "duration": 103,
    "start_time": "2022-05-06T15:41:51.223Z"
   },
   {
    "duration": 67,
    "start_time": "2022-05-06T15:41:51.328Z"
   },
   {
    "duration": 55,
    "start_time": "2022-05-06T15:41:51.398Z"
   },
   {
    "duration": 27,
    "start_time": "2022-05-06T15:41:51.460Z"
   },
   {
    "duration": 22,
    "start_time": "2022-05-06T15:41:51.490Z"
   },
   {
    "duration": 0,
    "start_time": "2022-05-06T15:41:51.515Z"
   },
   {
    "duration": 0,
    "start_time": "2022-05-06T15:41:51.517Z"
   },
   {
    "duration": 0,
    "start_time": "2022-05-06T15:41:51.519Z"
   },
   {
    "duration": 0,
    "start_time": "2022-05-06T15:41:51.521Z"
   },
   {
    "duration": 1,
    "start_time": "2022-05-06T15:41:51.556Z"
   },
   {
    "duration": 0,
    "start_time": "2022-05-06T15:41:51.561Z"
   },
   {
    "duration": 0,
    "start_time": "2022-05-06T15:41:51.562Z"
   },
   {
    "duration": 0,
    "start_time": "2022-05-06T15:41:51.563Z"
   },
   {
    "duration": 0,
    "start_time": "2022-05-06T15:41:51.565Z"
   },
   {
    "duration": 0,
    "start_time": "2022-05-06T15:41:51.567Z"
   },
   {
    "duration": 1,
    "start_time": "2022-05-06T15:41:51.568Z"
   },
   {
    "duration": 0,
    "start_time": "2022-05-06T15:41:51.570Z"
   },
   {
    "duration": 0,
    "start_time": "2022-05-06T15:41:51.572Z"
   },
   {
    "duration": 0,
    "start_time": "2022-05-06T15:41:51.574Z"
   },
   {
    "duration": 0,
    "start_time": "2022-05-06T15:41:51.577Z"
   },
   {
    "duration": 0,
    "start_time": "2022-05-06T15:41:51.579Z"
   },
   {
    "duration": 0,
    "start_time": "2022-05-06T15:41:51.580Z"
   },
   {
    "duration": 0,
    "start_time": "2022-05-06T15:41:51.582Z"
   },
   {
    "duration": 0,
    "start_time": "2022-05-06T15:41:51.584Z"
   },
   {
    "duration": 0,
    "start_time": "2022-05-06T15:41:51.585Z"
   },
   {
    "duration": 0,
    "start_time": "2022-05-06T15:41:51.587Z"
   },
   {
    "duration": 546,
    "start_time": "2022-05-06T15:42:57.568Z"
   },
   {
    "duration": 24,
    "start_time": "2022-05-06T15:42:58.116Z"
   },
   {
    "duration": 41,
    "start_time": "2022-05-06T15:42:58.142Z"
   },
   {
    "duration": 75,
    "start_time": "2022-05-06T15:42:58.186Z"
   },
   {
    "duration": 14,
    "start_time": "2022-05-06T15:42:58.266Z"
   },
   {
    "duration": 106,
    "start_time": "2022-05-06T15:42:58.282Z"
   },
   {
    "duration": 36,
    "start_time": "2022-05-06T15:42:58.390Z"
   },
   {
    "duration": 75,
    "start_time": "2022-05-06T15:42:58.429Z"
   },
   {
    "duration": 61,
    "start_time": "2022-05-06T15:42:58.507Z"
   },
   {
    "duration": 75,
    "start_time": "2022-05-06T15:42:58.577Z"
   },
   {
    "duration": 60,
    "start_time": "2022-05-06T15:42:58.654Z"
   },
   {
    "duration": 61,
    "start_time": "2022-05-06T15:42:58.716Z"
   },
   {
    "duration": 116,
    "start_time": "2022-05-06T15:42:58.780Z"
   },
   {
    "duration": 80,
    "start_time": "2022-05-06T15:42:58.899Z"
   },
   {
    "duration": 36,
    "start_time": "2022-05-06T15:42:58.982Z"
   },
   {
    "duration": 54,
    "start_time": "2022-05-06T15:42:59.021Z"
   },
   {
    "duration": 30,
    "start_time": "2022-05-06T15:42:59.077Z"
   },
   {
    "duration": 0,
    "start_time": "2022-05-06T15:42:59.110Z"
   },
   {
    "duration": 0,
    "start_time": "2022-05-06T15:42:59.112Z"
   },
   {
    "duration": 0,
    "start_time": "2022-05-06T15:42:59.113Z"
   },
   {
    "duration": 0,
    "start_time": "2022-05-06T15:42:59.115Z"
   },
   {
    "duration": 0,
    "start_time": "2022-05-06T15:42:59.116Z"
   },
   {
    "duration": 0,
    "start_time": "2022-05-06T15:42:59.117Z"
   },
   {
    "duration": 0,
    "start_time": "2022-05-06T15:42:59.118Z"
   },
   {
    "duration": 0,
    "start_time": "2022-05-06T15:42:59.120Z"
   },
   {
    "duration": 0,
    "start_time": "2022-05-06T15:42:59.121Z"
   },
   {
    "duration": 0,
    "start_time": "2022-05-06T15:42:59.122Z"
   },
   {
    "duration": 0,
    "start_time": "2022-05-06T15:42:59.165Z"
   },
   {
    "duration": 0,
    "start_time": "2022-05-06T15:42:59.166Z"
   },
   {
    "duration": 0,
    "start_time": "2022-05-06T15:42:59.170Z"
   },
   {
    "duration": 0,
    "start_time": "2022-05-06T15:42:59.171Z"
   },
   {
    "duration": 0,
    "start_time": "2022-05-06T15:42:59.172Z"
   },
   {
    "duration": 0,
    "start_time": "2022-05-06T15:42:59.174Z"
   },
   {
    "duration": 0,
    "start_time": "2022-05-06T15:42:59.175Z"
   },
   {
    "duration": 0,
    "start_time": "2022-05-06T15:42:59.176Z"
   },
   {
    "duration": 0,
    "start_time": "2022-05-06T15:42:59.178Z"
   },
   {
    "duration": 0,
    "start_time": "2022-05-06T15:42:59.179Z"
   },
   {
    "duration": 0,
    "start_time": "2022-05-06T15:42:59.180Z"
   },
   {
    "duration": 523,
    "start_time": "2022-05-06T15:45:41.182Z"
   },
   {
    "duration": 24,
    "start_time": "2022-05-06T15:45:41.708Z"
   },
   {
    "duration": 34,
    "start_time": "2022-05-06T15:45:41.734Z"
   },
   {
    "duration": 97,
    "start_time": "2022-05-06T15:45:41.772Z"
   },
   {
    "duration": 12,
    "start_time": "2022-05-06T15:45:41.871Z"
   },
   {
    "duration": 103,
    "start_time": "2022-05-06T15:45:41.886Z"
   },
   {
    "duration": 35,
    "start_time": "2022-05-06T15:45:41.991Z"
   },
   {
    "duration": 77,
    "start_time": "2022-05-06T15:45:42.028Z"
   },
   {
    "duration": 62,
    "start_time": "2022-05-06T15:45:42.107Z"
   },
   {
    "duration": 80,
    "start_time": "2022-05-06T15:45:42.176Z"
   },
   {
    "duration": 65,
    "start_time": "2022-05-06T15:45:42.260Z"
   },
   {
    "duration": 49,
    "start_time": "2022-05-06T15:45:42.327Z"
   },
   {
    "duration": 100,
    "start_time": "2022-05-06T15:45:42.378Z"
   },
   {
    "duration": 44,
    "start_time": "2022-05-06T15:45:42.480Z"
   },
   {
    "duration": 46,
    "start_time": "2022-05-06T15:45:42.527Z"
   },
   {
    "duration": 23,
    "start_time": "2022-05-06T15:45:42.576Z"
   },
   {
    "duration": 60,
    "start_time": "2022-05-06T15:45:42.601Z"
   },
   {
    "duration": 0,
    "start_time": "2022-05-06T15:45:42.665Z"
   },
   {
    "duration": 0,
    "start_time": "2022-05-06T15:45:42.667Z"
   },
   {
    "duration": 0,
    "start_time": "2022-05-06T15:45:42.668Z"
   },
   {
    "duration": 0,
    "start_time": "2022-05-06T15:45:42.670Z"
   },
   {
    "duration": 0,
    "start_time": "2022-05-06T15:45:42.671Z"
   },
   {
    "duration": 0,
    "start_time": "2022-05-06T15:45:42.673Z"
   },
   {
    "duration": 0,
    "start_time": "2022-05-06T15:45:42.674Z"
   },
   {
    "duration": 0,
    "start_time": "2022-05-06T15:45:42.676Z"
   },
   {
    "duration": 0,
    "start_time": "2022-05-06T15:45:42.678Z"
   },
   {
    "duration": 0,
    "start_time": "2022-05-06T15:45:42.680Z"
   },
   {
    "duration": 0,
    "start_time": "2022-05-06T15:45:42.681Z"
   },
   {
    "duration": 0,
    "start_time": "2022-05-06T15:45:42.683Z"
   },
   {
    "duration": 0,
    "start_time": "2022-05-06T15:45:42.685Z"
   },
   {
    "duration": 0,
    "start_time": "2022-05-06T15:45:42.687Z"
   },
   {
    "duration": 0,
    "start_time": "2022-05-06T15:45:42.689Z"
   },
   {
    "duration": 0,
    "start_time": "2022-05-06T15:45:42.691Z"
   },
   {
    "duration": 0,
    "start_time": "2022-05-06T15:45:42.693Z"
   },
   {
    "duration": 0,
    "start_time": "2022-05-06T15:45:42.695Z"
   },
   {
    "duration": 0,
    "start_time": "2022-05-06T15:45:42.696Z"
   },
   {
    "duration": 0,
    "start_time": "2022-05-06T15:45:42.698Z"
   },
   {
    "duration": 0,
    "start_time": "2022-05-06T15:45:42.700Z"
   },
   {
    "duration": 527,
    "start_time": "2022-05-06T15:53:01.766Z"
   },
   {
    "duration": 23,
    "start_time": "2022-05-06T15:53:02.296Z"
   },
   {
    "duration": 30,
    "start_time": "2022-05-06T15:53:02.321Z"
   },
   {
    "duration": 73,
    "start_time": "2022-05-06T15:53:02.355Z"
   },
   {
    "duration": 34,
    "start_time": "2022-05-06T15:53:02.431Z"
   },
   {
    "duration": 93,
    "start_time": "2022-05-06T15:53:02.467Z"
   },
   {
    "duration": 37,
    "start_time": "2022-05-06T15:53:02.563Z"
   },
   {
    "duration": 78,
    "start_time": "2022-05-06T15:53:02.602Z"
   },
   {
    "duration": 38,
    "start_time": "2022-05-06T15:53:02.682Z"
   },
   {
    "duration": 96,
    "start_time": "2022-05-06T15:53:02.726Z"
   },
   {
    "duration": 63,
    "start_time": "2022-05-06T15:53:02.824Z"
   },
   {
    "duration": 68,
    "start_time": "2022-05-06T15:53:02.889Z"
   },
   {
    "duration": 115,
    "start_time": "2022-05-06T15:53:02.960Z"
   },
   {
    "duration": 45,
    "start_time": "2022-05-06T15:53:03.078Z"
   },
   {
    "duration": 29,
    "start_time": "2022-05-06T15:53:03.152Z"
   },
   {
    "duration": 28,
    "start_time": "2022-05-06T15:53:03.183Z"
   },
   {
    "duration": 100,
    "start_time": "2022-05-06T15:53:03.213Z"
   },
   {
    "duration": 447,
    "start_time": "2022-05-06T15:53:03.315Z"
   },
   {
    "duration": 0,
    "start_time": "2022-05-06T15:53:03.767Z"
   },
   {
    "duration": 0,
    "start_time": "2022-05-06T15:53:03.772Z"
   },
   {
    "duration": 0,
    "start_time": "2022-05-06T15:53:03.774Z"
   },
   {
    "duration": 0,
    "start_time": "2022-05-06T15:53:03.776Z"
   },
   {
    "duration": 0,
    "start_time": "2022-05-06T15:53:03.777Z"
   },
   {
    "duration": 0,
    "start_time": "2022-05-06T15:53:03.779Z"
   },
   {
    "duration": 0,
    "start_time": "2022-05-06T15:53:03.781Z"
   },
   {
    "duration": 0,
    "start_time": "2022-05-06T15:53:03.783Z"
   },
   {
    "duration": 0,
    "start_time": "2022-05-06T15:53:03.784Z"
   },
   {
    "duration": 0,
    "start_time": "2022-05-06T15:53:03.785Z"
   },
   {
    "duration": 0,
    "start_time": "2022-05-06T15:53:03.787Z"
   },
   {
    "duration": 0,
    "start_time": "2022-05-06T15:53:03.789Z"
   },
   {
    "duration": 0,
    "start_time": "2022-05-06T15:53:03.790Z"
   },
   {
    "duration": 0,
    "start_time": "2022-05-06T15:53:03.792Z"
   },
   {
    "duration": 0,
    "start_time": "2022-05-06T15:53:03.793Z"
   },
   {
    "duration": 0,
    "start_time": "2022-05-06T15:53:03.795Z"
   },
   {
    "duration": 0,
    "start_time": "2022-05-06T15:53:03.796Z"
   },
   {
    "duration": 0,
    "start_time": "2022-05-06T15:53:03.798Z"
   },
   {
    "duration": 0,
    "start_time": "2022-05-06T15:53:03.799Z"
   },
   {
    "duration": 0,
    "start_time": "2022-05-06T15:53:03.800Z"
   },
   {
    "duration": 527,
    "start_time": "2022-05-06T15:57:13.758Z"
   },
   {
    "duration": 23,
    "start_time": "2022-05-06T15:57:14.287Z"
   },
   {
    "duration": 19,
    "start_time": "2022-05-06T15:57:14.312Z"
   },
   {
    "duration": 85,
    "start_time": "2022-05-06T15:57:14.334Z"
   },
   {
    "duration": 31,
    "start_time": "2022-05-06T15:57:14.422Z"
   },
   {
    "duration": 78,
    "start_time": "2022-05-06T15:57:14.456Z"
   },
   {
    "duration": 56,
    "start_time": "2022-05-06T15:57:14.537Z"
   },
   {
    "duration": 70,
    "start_time": "2022-05-06T15:57:14.595Z"
   },
   {
    "duration": 38,
    "start_time": "2022-05-06T15:57:14.670Z"
   },
   {
    "duration": 97,
    "start_time": "2022-05-06T15:57:14.712Z"
   },
   {
    "duration": 66,
    "start_time": "2022-05-06T15:57:14.811Z"
   },
   {
    "duration": 32,
    "start_time": "2022-05-06T15:57:14.879Z"
   },
   {
    "duration": 100,
    "start_time": "2022-05-06T15:57:14.914Z"
   },
   {
    "duration": 56,
    "start_time": "2022-05-06T15:57:15.016Z"
   },
   {
    "duration": 26,
    "start_time": "2022-05-06T15:57:15.074Z"
   },
   {
    "duration": 53,
    "start_time": "2022-05-06T15:57:15.103Z"
   },
   {
    "duration": 72,
    "start_time": "2022-05-06T15:57:15.162Z"
   },
   {
    "duration": 659,
    "start_time": "2022-05-06T15:57:15.255Z"
   },
   {
    "duration": 0,
    "start_time": "2022-05-06T15:57:15.917Z"
   },
   {
    "duration": 0,
    "start_time": "2022-05-06T15:57:15.919Z"
   },
   {
    "duration": 0,
    "start_time": "2022-05-06T15:57:15.921Z"
   },
   {
    "duration": 0,
    "start_time": "2022-05-06T15:57:15.922Z"
   },
   {
    "duration": 0,
    "start_time": "2022-05-06T15:57:15.924Z"
   },
   {
    "duration": 0,
    "start_time": "2022-05-06T15:57:15.926Z"
   },
   {
    "duration": 0,
    "start_time": "2022-05-06T15:57:15.927Z"
   },
   {
    "duration": 0,
    "start_time": "2022-05-06T15:57:15.929Z"
   },
   {
    "duration": 0,
    "start_time": "2022-05-06T15:57:15.931Z"
   },
   {
    "duration": 0,
    "start_time": "2022-05-06T15:57:15.932Z"
   },
   {
    "duration": 0,
    "start_time": "2022-05-06T15:57:15.934Z"
   },
   {
    "duration": 0,
    "start_time": "2022-05-06T15:57:15.935Z"
   },
   {
    "duration": 0,
    "start_time": "2022-05-06T15:57:15.937Z"
   },
   {
    "duration": 0,
    "start_time": "2022-05-06T15:57:15.938Z"
   },
   {
    "duration": 1,
    "start_time": "2022-05-06T15:57:15.939Z"
   },
   {
    "duration": 0,
    "start_time": "2022-05-06T15:57:15.941Z"
   },
   {
    "duration": 0,
    "start_time": "2022-05-06T15:57:15.943Z"
   },
   {
    "duration": 0,
    "start_time": "2022-05-06T15:57:15.944Z"
   },
   {
    "duration": 0,
    "start_time": "2022-05-06T15:57:15.946Z"
   },
   {
    "duration": 0,
    "start_time": "2022-05-06T15:57:15.947Z"
   },
   {
    "duration": 561,
    "start_time": "2022-05-06T15:58:37.341Z"
   },
   {
    "duration": 25,
    "start_time": "2022-05-06T15:58:37.905Z"
   },
   {
    "duration": 38,
    "start_time": "2022-05-06T15:58:37.933Z"
   },
   {
    "duration": 65,
    "start_time": "2022-05-06T15:58:37.974Z"
   },
   {
    "duration": 26,
    "start_time": "2022-05-06T15:58:38.042Z"
   },
   {
    "duration": 91,
    "start_time": "2022-05-06T15:58:38.070Z"
   },
   {
    "duration": 49,
    "start_time": "2022-05-06T15:58:38.163Z"
   },
   {
    "duration": 96,
    "start_time": "2022-05-06T15:58:38.215Z"
   },
   {
    "duration": 78,
    "start_time": "2022-05-06T15:58:38.314Z"
   },
   {
    "duration": 113,
    "start_time": "2022-05-06T15:58:38.394Z"
   },
   {
    "duration": 91,
    "start_time": "2022-05-06T15:58:38.509Z"
   },
   {
    "duration": 65,
    "start_time": "2022-05-06T15:58:38.603Z"
   },
   {
    "duration": 94,
    "start_time": "2022-05-06T15:58:38.671Z"
   },
   {
    "duration": 45,
    "start_time": "2022-05-06T15:58:38.770Z"
   },
   {
    "duration": 62,
    "start_time": "2022-05-06T15:58:38.817Z"
   },
   {
    "duration": 22,
    "start_time": "2022-05-06T15:58:38.881Z"
   },
   {
    "duration": 100,
    "start_time": "2022-05-06T15:58:38.905Z"
   },
   {
    "duration": 2100,
    "start_time": "2022-05-06T15:58:39.007Z"
   },
   {
    "duration": 0,
    "start_time": "2022-05-06T15:58:41.109Z"
   },
   {
    "duration": 0,
    "start_time": "2022-05-06T15:58:41.111Z"
   },
   {
    "duration": 0,
    "start_time": "2022-05-06T15:58:41.113Z"
   },
   {
    "duration": 0,
    "start_time": "2022-05-06T15:58:41.114Z"
   },
   {
    "duration": 0,
    "start_time": "2022-05-06T15:58:41.116Z"
   },
   {
    "duration": 0,
    "start_time": "2022-05-06T15:58:41.117Z"
   },
   {
    "duration": 0,
    "start_time": "2022-05-06T15:58:41.119Z"
   },
   {
    "duration": 0,
    "start_time": "2022-05-06T15:58:41.121Z"
   },
   {
    "duration": 0,
    "start_time": "2022-05-06T15:58:41.122Z"
   },
   {
    "duration": 0,
    "start_time": "2022-05-06T15:58:41.124Z"
   },
   {
    "duration": 0,
    "start_time": "2022-05-06T15:58:41.126Z"
   },
   {
    "duration": 0,
    "start_time": "2022-05-06T15:58:41.127Z"
   },
   {
    "duration": 0,
    "start_time": "2022-05-06T15:58:41.129Z"
   },
   {
    "duration": 0,
    "start_time": "2022-05-06T15:58:41.131Z"
   },
   {
    "duration": 0,
    "start_time": "2022-05-06T15:58:41.132Z"
   },
   {
    "duration": 0,
    "start_time": "2022-05-06T15:58:41.134Z"
   },
   {
    "duration": 0,
    "start_time": "2022-05-06T15:58:41.135Z"
   },
   {
    "duration": 0,
    "start_time": "2022-05-06T15:58:41.137Z"
   },
   {
    "duration": 1,
    "start_time": "2022-05-06T15:58:41.138Z"
   },
   {
    "duration": 0,
    "start_time": "2022-05-06T15:58:41.140Z"
   },
   {
    "duration": 551,
    "start_time": "2022-05-06T16:04:25.248Z"
   },
   {
    "duration": 23,
    "start_time": "2022-05-06T16:04:25.802Z"
   },
   {
    "duration": 38,
    "start_time": "2022-05-06T16:04:25.828Z"
   },
   {
    "duration": 69,
    "start_time": "2022-05-06T16:04:25.870Z"
   },
   {
    "duration": 15,
    "start_time": "2022-05-06T16:04:25.952Z"
   },
   {
    "duration": 100,
    "start_time": "2022-05-06T16:04:25.970Z"
   },
   {
    "duration": 35,
    "start_time": "2022-05-06T16:04:26.072Z"
   },
   {
    "duration": 95,
    "start_time": "2022-05-06T16:04:26.110Z"
   },
   {
    "duration": 58,
    "start_time": "2022-05-06T16:04:26.207Z"
   },
   {
    "duration": 67,
    "start_time": "2022-05-06T16:04:26.270Z"
   },
   {
    "duration": 56,
    "start_time": "2022-05-06T16:04:26.353Z"
   },
   {
    "duration": 64,
    "start_time": "2022-05-06T16:04:26.412Z"
   },
   {
    "duration": 124,
    "start_time": "2022-05-06T16:04:26.479Z"
   },
   {
    "duration": 75,
    "start_time": "2022-05-06T16:04:26.606Z"
   },
   {
    "duration": 35,
    "start_time": "2022-05-06T16:04:26.683Z"
   },
   {
    "duration": 55,
    "start_time": "2022-05-06T16:04:26.721Z"
   },
   {
    "duration": 91,
    "start_time": "2022-05-06T16:04:26.779Z"
   },
   {
    "duration": 472,
    "start_time": "2022-05-06T16:04:26.873Z"
   },
   {
    "duration": 0,
    "start_time": "2022-05-06T16:04:27.348Z"
   },
   {
    "duration": 0,
    "start_time": "2022-05-06T16:04:27.350Z"
   },
   {
    "duration": 0,
    "start_time": "2022-05-06T16:04:27.351Z"
   },
   {
    "duration": 0,
    "start_time": "2022-05-06T16:04:27.353Z"
   },
   {
    "duration": 0,
    "start_time": "2022-05-06T16:04:27.354Z"
   },
   {
    "duration": 0,
    "start_time": "2022-05-06T16:04:27.356Z"
   },
   {
    "duration": 0,
    "start_time": "2022-05-06T16:04:27.357Z"
   },
   {
    "duration": 0,
    "start_time": "2022-05-06T16:04:27.359Z"
   },
   {
    "duration": 0,
    "start_time": "2022-05-06T16:04:27.360Z"
   },
   {
    "duration": 0,
    "start_time": "2022-05-06T16:04:27.361Z"
   },
   {
    "duration": 0,
    "start_time": "2022-05-06T16:04:27.363Z"
   },
   {
    "duration": 0,
    "start_time": "2022-05-06T16:04:27.365Z"
   },
   {
    "duration": 0,
    "start_time": "2022-05-06T16:04:27.366Z"
   },
   {
    "duration": 0,
    "start_time": "2022-05-06T16:04:27.368Z"
   },
   {
    "duration": 0,
    "start_time": "2022-05-06T16:04:27.370Z"
   },
   {
    "duration": 0,
    "start_time": "2022-05-06T16:04:27.373Z"
   },
   {
    "duration": 0,
    "start_time": "2022-05-06T16:04:27.375Z"
   },
   {
    "duration": 0,
    "start_time": "2022-05-06T16:04:27.376Z"
   },
   {
    "duration": 0,
    "start_time": "2022-05-06T16:04:27.378Z"
   },
   {
    "duration": 0,
    "start_time": "2022-05-06T16:04:27.379Z"
   },
   {
    "duration": 488,
    "start_time": "2022-05-06T16:05:51.769Z"
   },
   {
    "duration": 24,
    "start_time": "2022-05-06T16:05:52.260Z"
   },
   {
    "duration": 15,
    "start_time": "2022-05-06T16:05:52.286Z"
   },
   {
    "duration": 101,
    "start_time": "2022-05-06T16:05:52.304Z"
   },
   {
    "duration": 10,
    "start_time": "2022-05-06T16:05:52.407Z"
   },
   {
    "duration": 103,
    "start_time": "2022-05-06T16:05:52.419Z"
   },
   {
    "duration": 49,
    "start_time": "2022-05-06T16:05:52.525Z"
   },
   {
    "duration": 54,
    "start_time": "2022-05-06T16:05:52.577Z"
   },
   {
    "duration": 43,
    "start_time": "2022-05-06T16:05:52.655Z"
   },
   {
    "duration": 86,
    "start_time": "2022-05-06T16:05:52.702Z"
   },
   {
    "duration": 70,
    "start_time": "2022-05-06T16:05:52.790Z"
   },
   {
    "duration": 36,
    "start_time": "2022-05-06T16:05:52.863Z"
   },
   {
    "duration": 106,
    "start_time": "2022-05-06T16:05:52.901Z"
   },
   {
    "duration": 54,
    "start_time": "2022-05-06T16:05:53.009Z"
   },
   {
    "duration": 28,
    "start_time": "2022-05-06T16:05:53.065Z"
   },
   {
    "duration": 23,
    "start_time": "2022-05-06T16:05:53.095Z"
   },
   {
    "duration": 139,
    "start_time": "2022-05-06T16:05:53.120Z"
   },
   {
    "duration": 104,
    "start_time": "2022-05-06T16:05:53.261Z"
   },
   {
    "duration": 0,
    "start_time": "2022-05-06T16:05:53.367Z"
   },
   {
    "duration": 0,
    "start_time": "2022-05-06T16:05:53.369Z"
   },
   {
    "duration": 0,
    "start_time": "2022-05-06T16:05:53.371Z"
   },
   {
    "duration": 0,
    "start_time": "2022-05-06T16:05:53.373Z"
   },
   {
    "duration": 0,
    "start_time": "2022-05-06T16:05:53.374Z"
   },
   {
    "duration": 0,
    "start_time": "2022-05-06T16:05:53.376Z"
   },
   {
    "duration": 0,
    "start_time": "2022-05-06T16:05:53.377Z"
   },
   {
    "duration": 0,
    "start_time": "2022-05-06T16:05:53.379Z"
   },
   {
    "duration": 0,
    "start_time": "2022-05-06T16:05:53.380Z"
   },
   {
    "duration": 0,
    "start_time": "2022-05-06T16:05:53.382Z"
   },
   {
    "duration": 0,
    "start_time": "2022-05-06T16:05:53.383Z"
   },
   {
    "duration": 0,
    "start_time": "2022-05-06T16:05:53.384Z"
   },
   {
    "duration": 0,
    "start_time": "2022-05-06T16:05:53.386Z"
   },
   {
    "duration": 0,
    "start_time": "2022-05-06T16:05:53.387Z"
   },
   {
    "duration": 0,
    "start_time": "2022-05-06T16:05:53.388Z"
   },
   {
    "duration": 0,
    "start_time": "2022-05-06T16:05:53.390Z"
   },
   {
    "duration": 0,
    "start_time": "2022-05-06T16:05:53.393Z"
   },
   {
    "duration": 1,
    "start_time": "2022-05-06T16:05:53.394Z"
   },
   {
    "duration": 0,
    "start_time": "2022-05-06T16:05:53.396Z"
   },
   {
    "duration": 0,
    "start_time": "2022-05-06T16:05:53.397Z"
   },
   {
    "duration": 552,
    "start_time": "2022-05-06T16:06:26.917Z"
   },
   {
    "duration": 23,
    "start_time": "2022-05-06T16:06:27.472Z"
   },
   {
    "duration": 15,
    "start_time": "2022-05-06T16:06:27.498Z"
   },
   {
    "duration": 79,
    "start_time": "2022-05-06T16:06:27.517Z"
   },
   {
    "duration": 12,
    "start_time": "2022-05-06T16:06:27.598Z"
   },
   {
    "duration": 103,
    "start_time": "2022-05-06T16:06:27.612Z"
   },
   {
    "duration": 47,
    "start_time": "2022-05-06T16:06:27.718Z"
   },
   {
    "duration": 52,
    "start_time": "2022-05-06T16:06:27.768Z"
   },
   {
    "duration": 65,
    "start_time": "2022-05-06T16:06:27.823Z"
   },
   {
    "duration": 97,
    "start_time": "2022-05-06T16:06:27.893Z"
   },
   {
    "duration": 67,
    "start_time": "2022-05-06T16:06:27.992Z"
   },
   {
    "duration": 37,
    "start_time": "2022-05-06T16:06:28.061Z"
   },
   {
    "duration": 104,
    "start_time": "2022-05-06T16:06:28.100Z"
   },
   {
    "duration": 63,
    "start_time": "2022-05-06T16:06:28.206Z"
   },
   {
    "duration": 28,
    "start_time": "2022-05-06T16:06:28.271Z"
   },
   {
    "duration": 52,
    "start_time": "2022-05-06T16:06:28.302Z"
   },
   {
    "duration": 116,
    "start_time": "2022-05-06T16:06:28.361Z"
   },
   {
    "duration": 14,
    "start_time": "2022-05-06T16:06:28.479Z"
   },
   {
    "duration": 27,
    "start_time": "2022-05-06T16:06:28.495Z"
   },
   {
    "duration": 30,
    "start_time": "2022-05-06T16:06:28.525Z"
   },
   {
    "duration": 130,
    "start_time": "2022-05-06T16:06:28.557Z"
   },
   {
    "duration": 28,
    "start_time": "2022-05-06T16:06:28.689Z"
   },
   {
    "duration": 67,
    "start_time": "2022-05-06T16:06:28.719Z"
   },
   {
    "duration": 9,
    "start_time": "2022-05-06T16:06:28.789Z"
   },
   {
    "duration": 8,
    "start_time": "2022-05-06T16:06:28.800Z"
   },
   {
    "duration": 48,
    "start_time": "2022-05-06T16:06:28.810Z"
   },
   {
    "duration": 38,
    "start_time": "2022-05-06T16:06:28.861Z"
   },
   {
    "duration": 10,
    "start_time": "2022-05-06T16:06:28.904Z"
   },
   {
    "duration": 37,
    "start_time": "2022-05-06T16:06:28.916Z"
   },
   {
    "duration": 8,
    "start_time": "2022-05-06T16:06:28.956Z"
   },
   {
    "duration": 278,
    "start_time": "2022-05-06T16:06:28.966Z"
   },
   {
    "duration": 0,
    "start_time": "2022-05-06T16:06:29.247Z"
   },
   {
    "duration": 0,
    "start_time": "2022-05-06T16:06:29.248Z"
   },
   {
    "duration": 0,
    "start_time": "2022-05-06T16:06:29.254Z"
   },
   {
    "duration": 0,
    "start_time": "2022-05-06T16:06:29.258Z"
   },
   {
    "duration": 0,
    "start_time": "2022-05-06T16:06:29.262Z"
   },
   {
    "duration": 0,
    "start_time": "2022-05-06T16:06:29.266Z"
   },
   {
    "duration": 0,
    "start_time": "2022-05-06T16:06:29.268Z"
   },
   {
    "duration": 532,
    "start_time": "2022-05-06T16:09:04.298Z"
   },
   {
    "duration": 27,
    "start_time": "2022-05-06T16:09:04.833Z"
   },
   {
    "duration": 26,
    "start_time": "2022-05-06T16:09:04.863Z"
   },
   {
    "duration": 82,
    "start_time": "2022-05-06T16:09:04.892Z"
   },
   {
    "duration": 11,
    "start_time": "2022-05-06T16:09:04.977Z"
   },
   {
    "duration": 100,
    "start_time": "2022-05-06T16:09:04.990Z"
   },
   {
    "duration": 35,
    "start_time": "2022-05-06T16:09:05.092Z"
   },
   {
    "duration": 69,
    "start_time": "2022-05-06T16:09:05.129Z"
   },
   {
    "duration": 67,
    "start_time": "2022-05-06T16:09:05.200Z"
   },
   {
    "duration": 67,
    "start_time": "2022-05-06T16:09:05.271Z"
   },
   {
    "duration": 65,
    "start_time": "2022-05-06T16:09:05.341Z"
   },
   {
    "duration": 61,
    "start_time": "2022-05-06T16:09:05.408Z"
   },
   {
    "duration": 85,
    "start_time": "2022-05-06T16:09:05.471Z"
   },
   {
    "duration": 51,
    "start_time": "2022-05-06T16:09:05.558Z"
   },
   {
    "duration": 52,
    "start_time": "2022-05-06T16:09:05.612Z"
   },
   {
    "duration": 30,
    "start_time": "2022-05-06T16:09:05.667Z"
   },
   {
    "duration": 98,
    "start_time": "2022-05-06T16:09:05.699Z"
   },
   {
    "duration": 33,
    "start_time": "2022-05-06T16:09:05.800Z"
   },
   {
    "duration": 28,
    "start_time": "2022-05-06T16:09:05.853Z"
   },
   {
    "duration": 12,
    "start_time": "2022-05-06T16:09:05.883Z"
   },
   {
    "duration": 121,
    "start_time": "2022-05-06T16:09:05.897Z"
   },
   {
    "duration": 40,
    "start_time": "2022-05-06T16:09:06.021Z"
   },
   {
    "duration": 38,
    "start_time": "2022-05-06T16:09:06.063Z"
   },
   {
    "duration": 10,
    "start_time": "2022-05-06T16:09:06.104Z"
   },
   {
    "duration": 9,
    "start_time": "2022-05-06T16:09:06.116Z"
   },
   {
    "duration": 13,
    "start_time": "2022-05-06T16:09:06.159Z"
   },
   {
    "duration": 38,
    "start_time": "2022-05-06T16:09:06.175Z"
   },
   {
    "duration": 10,
    "start_time": "2022-05-06T16:09:06.217Z"
   },
   {
    "duration": 14,
    "start_time": "2022-05-06T16:09:06.255Z"
   },
   {
    "duration": 12,
    "start_time": "2022-05-06T16:09:06.271Z"
   },
   {
    "duration": 263,
    "start_time": "2022-05-06T16:09:06.285Z"
   },
   {
    "duration": 0,
    "start_time": "2022-05-06T16:09:06.552Z"
   },
   {
    "duration": 0,
    "start_time": "2022-05-06T16:09:06.555Z"
   },
   {
    "duration": 0,
    "start_time": "2022-05-06T16:09:06.557Z"
   },
   {
    "duration": 0,
    "start_time": "2022-05-06T16:09:06.559Z"
   },
   {
    "duration": 0,
    "start_time": "2022-05-06T16:09:06.561Z"
   },
   {
    "duration": 0,
    "start_time": "2022-05-06T16:09:06.562Z"
   },
   {
    "duration": 0,
    "start_time": "2022-05-06T16:09:06.564Z"
   },
   {
    "duration": 701,
    "start_time": "2022-05-06T16:17:29.793Z"
   },
   {
    "duration": 32,
    "start_time": "2022-05-06T16:17:30.498Z"
   },
   {
    "duration": 41,
    "start_time": "2022-05-06T16:17:30.532Z"
   },
   {
    "duration": 107,
    "start_time": "2022-05-06T16:17:30.577Z"
   },
   {
    "duration": 14,
    "start_time": "2022-05-06T16:17:30.688Z"
   },
   {
    "duration": 107,
    "start_time": "2022-05-06T16:17:30.704Z"
   },
   {
    "duration": 55,
    "start_time": "2022-05-06T16:17:30.813Z"
   },
   {
    "duration": 51,
    "start_time": "2022-05-06T16:17:30.870Z"
   },
   {
    "duration": 64,
    "start_time": "2022-05-06T16:17:30.923Z"
   },
   {
    "duration": 85,
    "start_time": "2022-05-06T16:17:30.991Z"
   },
   {
    "duration": 52,
    "start_time": "2022-05-06T16:17:31.078Z"
   },
   {
    "duration": 58,
    "start_time": "2022-05-06T16:17:31.132Z"
   },
   {
    "duration": 99,
    "start_time": "2022-05-06T16:17:31.192Z"
   },
   {
    "duration": 59,
    "start_time": "2022-05-06T16:17:31.293Z"
   },
   {
    "duration": 31,
    "start_time": "2022-05-06T16:17:31.354Z"
   },
   {
    "duration": 29,
    "start_time": "2022-05-06T16:17:31.388Z"
   },
   {
    "duration": 106,
    "start_time": "2022-05-06T16:17:31.420Z"
   },
   {
    "duration": 59,
    "start_time": "2022-05-06T16:17:31.528Z"
   },
   {
    "duration": 29,
    "start_time": "2022-05-06T16:17:31.589Z"
   },
   {
    "duration": 36,
    "start_time": "2022-05-06T16:17:31.620Z"
   },
   {
    "duration": 101,
    "start_time": "2022-05-06T16:17:31.666Z"
   },
   {
    "duration": 29,
    "start_time": "2022-05-06T16:17:31.769Z"
   },
   {
    "duration": 71,
    "start_time": "2022-05-06T16:17:31.800Z"
   },
   {
    "duration": 9,
    "start_time": "2022-05-06T16:17:31.877Z"
   },
   {
    "duration": 14,
    "start_time": "2022-05-06T16:17:31.888Z"
   },
   {
    "duration": 14,
    "start_time": "2022-05-06T16:17:31.904Z"
   },
   {
    "duration": 66,
    "start_time": "2022-05-06T16:17:31.920Z"
   },
   {
    "duration": 6,
    "start_time": "2022-05-06T16:17:31.991Z"
   },
   {
    "duration": 15,
    "start_time": "2022-05-06T16:17:31.999Z"
   },
   {
    "duration": 38,
    "start_time": "2022-05-06T16:17:32.017Z"
   },
   {
    "duration": 21,
    "start_time": "2022-05-06T16:17:32.057Z"
   },
   {
    "duration": 248,
    "start_time": "2022-05-06T16:17:32.081Z"
   },
   {
    "duration": 0,
    "start_time": "2022-05-06T16:17:32.331Z"
   },
   {
    "duration": 0,
    "start_time": "2022-05-06T16:17:32.333Z"
   },
   {
    "duration": 0,
    "start_time": "2022-05-06T16:17:32.334Z"
   },
   {
    "duration": 0,
    "start_time": "2022-05-06T16:17:32.336Z"
   },
   {
    "duration": 0,
    "start_time": "2022-05-06T16:17:32.337Z"
   },
   {
    "duration": 0,
    "start_time": "2022-05-06T16:17:32.351Z"
   },
   {
    "duration": 0,
    "start_time": "2022-05-06T16:17:32.353Z"
   },
   {
    "duration": 515,
    "start_time": "2022-05-06T16:23:48.969Z"
   },
   {
    "duration": 25,
    "start_time": "2022-05-06T16:23:49.487Z"
   },
   {
    "duration": 26,
    "start_time": "2022-05-06T16:23:49.514Z"
   },
   {
    "duration": 86,
    "start_time": "2022-05-06T16:23:49.543Z"
   },
   {
    "duration": 20,
    "start_time": "2022-05-06T16:23:49.632Z"
   },
   {
    "duration": 129,
    "start_time": "2022-05-06T16:23:49.654Z"
   },
   {
    "duration": 69,
    "start_time": "2022-05-06T16:23:49.786Z"
   },
   {
    "duration": 58,
    "start_time": "2022-05-06T16:23:49.858Z"
   },
   {
    "duration": 57,
    "start_time": "2022-05-06T16:23:49.919Z"
   },
   {
    "duration": 93,
    "start_time": "2022-05-06T16:23:49.979Z"
   },
   {
    "duration": 53,
    "start_time": "2022-05-06T16:23:50.076Z"
   },
   {
    "duration": 69,
    "start_time": "2022-05-06T16:23:50.131Z"
   },
   {
    "duration": 101,
    "start_time": "2022-05-06T16:23:50.202Z"
   },
   {
    "duration": 90,
    "start_time": "2022-05-06T16:23:50.310Z"
   },
   {
    "duration": 37,
    "start_time": "2022-05-06T16:23:50.403Z"
   },
   {
    "duration": 47,
    "start_time": "2022-05-06T16:23:50.451Z"
   },
   {
    "duration": 80,
    "start_time": "2022-05-06T16:23:50.501Z"
   },
   {
    "duration": 30,
    "start_time": "2022-05-06T16:23:50.584Z"
   },
   {
    "duration": 57,
    "start_time": "2022-05-06T16:23:50.616Z"
   },
   {
    "duration": 18,
    "start_time": "2022-05-06T16:23:50.675Z"
   },
   {
    "duration": 111,
    "start_time": "2022-05-06T16:23:50.696Z"
   },
   {
    "duration": 27,
    "start_time": "2022-05-06T16:23:50.809Z"
   },
   {
    "duration": 54,
    "start_time": "2022-05-06T16:23:50.839Z"
   },
   {
    "duration": 9,
    "start_time": "2022-05-06T16:23:50.895Z"
   },
   {
    "duration": 13,
    "start_time": "2022-05-06T16:23:50.907Z"
   },
   {
    "duration": 42,
    "start_time": "2022-05-06T16:23:50.923Z"
   },
   {
    "duration": 48,
    "start_time": "2022-05-06T16:23:50.967Z"
   },
   {
    "duration": 16,
    "start_time": "2022-05-06T16:23:51.018Z"
   },
   {
    "duration": 0,
    "start_time": "2022-05-06T16:23:51.063Z"
   },
   {
    "duration": 0,
    "start_time": "2022-05-06T16:23:51.065Z"
   },
   {
    "duration": 0,
    "start_time": "2022-05-06T16:23:51.067Z"
   },
   {
    "duration": 0,
    "start_time": "2022-05-06T16:23:51.069Z"
   },
   {
    "duration": 0,
    "start_time": "2022-05-06T16:23:51.071Z"
   },
   {
    "duration": 0,
    "start_time": "2022-05-06T16:23:51.072Z"
   },
   {
    "duration": 0,
    "start_time": "2022-05-06T16:23:51.074Z"
   },
   {
    "duration": 0,
    "start_time": "2022-05-06T16:23:51.076Z"
   },
   {
    "duration": 0,
    "start_time": "2022-05-06T16:23:51.078Z"
   },
   {
    "duration": 0,
    "start_time": "2022-05-06T16:23:51.080Z"
   },
   {
    "duration": 0,
    "start_time": "2022-05-06T16:23:51.081Z"
   },
   {
    "duration": 0,
    "start_time": "2022-05-06T16:23:51.082Z"
   },
   {
    "duration": 517,
    "start_time": "2022-05-06T16:25:01.974Z"
   },
   {
    "duration": 23,
    "start_time": "2022-05-06T16:25:02.494Z"
   },
   {
    "duration": 18,
    "start_time": "2022-05-06T16:25:02.519Z"
   },
   {
    "duration": 75,
    "start_time": "2022-05-06T16:25:02.551Z"
   },
   {
    "duration": 26,
    "start_time": "2022-05-06T16:25:02.629Z"
   },
   {
    "duration": 99,
    "start_time": "2022-05-06T16:25:02.657Z"
   },
   {
    "duration": 38,
    "start_time": "2022-05-06T16:25:02.760Z"
   },
   {
    "duration": 77,
    "start_time": "2022-05-06T16:25:02.801Z"
   },
   {
    "duration": 73,
    "start_time": "2022-05-06T16:25:02.880Z"
   },
   {
    "duration": 69,
    "start_time": "2022-05-06T16:25:02.967Z"
   },
   {
    "duration": 73,
    "start_time": "2022-05-06T16:25:03.038Z"
   },
   {
    "duration": 60,
    "start_time": "2022-05-06T16:25:03.114Z"
   },
   {
    "duration": 84,
    "start_time": "2022-05-06T16:25:03.176Z"
   },
   {
    "duration": 46,
    "start_time": "2022-05-06T16:25:03.262Z"
   },
   {
    "duration": 59,
    "start_time": "2022-05-06T16:25:03.310Z"
   },
   {
    "duration": 30,
    "start_time": "2022-05-06T16:25:03.371Z"
   },
   {
    "duration": 91,
    "start_time": "2022-05-06T16:25:03.403Z"
   },
   {
    "duration": 143,
    "start_time": "2022-05-06T16:25:03.496Z"
   },
   {
    "duration": 41,
    "start_time": "2022-05-06T16:25:03.641Z"
   },
   {
    "duration": 12,
    "start_time": "2022-05-06T16:25:03.684Z"
   },
   {
    "duration": 124,
    "start_time": "2022-05-06T16:25:03.699Z"
   },
   {
    "duration": 43,
    "start_time": "2022-05-06T16:25:03.825Z"
   },
   {
    "duration": 34,
    "start_time": "2022-05-06T16:25:03.871Z"
   },
   {
    "duration": 10,
    "start_time": "2022-05-06T16:25:03.907Z"
   },
   {
    "duration": 38,
    "start_time": "2022-05-06T16:25:03.919Z"
   },
   {
    "duration": 23,
    "start_time": "2022-05-06T16:25:03.960Z"
   },
   {
    "duration": 37,
    "start_time": "2022-05-06T16:25:03.985Z"
   },
   {
    "duration": 43,
    "start_time": "2022-05-06T16:25:04.027Z"
   },
   {
    "duration": 0,
    "start_time": "2022-05-06T16:25:04.073Z"
   },
   {
    "duration": 0,
    "start_time": "2022-05-06T16:25:04.075Z"
   },
   {
    "duration": 0,
    "start_time": "2022-05-06T16:25:04.078Z"
   },
   {
    "duration": 0,
    "start_time": "2022-05-06T16:25:04.080Z"
   },
   {
    "duration": 0,
    "start_time": "2022-05-06T16:25:04.082Z"
   },
   {
    "duration": 0,
    "start_time": "2022-05-06T16:25:04.084Z"
   },
   {
    "duration": 0,
    "start_time": "2022-05-06T16:25:04.086Z"
   },
   {
    "duration": 0,
    "start_time": "2022-05-06T16:25:04.088Z"
   },
   {
    "duration": 0,
    "start_time": "2022-05-06T16:25:04.090Z"
   },
   {
    "duration": 0,
    "start_time": "2022-05-06T16:25:04.092Z"
   },
   {
    "duration": 0,
    "start_time": "2022-05-06T16:25:04.094Z"
   },
   {
    "duration": 0,
    "start_time": "2022-05-06T16:25:04.096Z"
   },
   {
    "duration": 532,
    "start_time": "2022-05-06T16:25:36.404Z"
   },
   {
    "duration": 27,
    "start_time": "2022-05-06T16:25:36.939Z"
   },
   {
    "duration": 24,
    "start_time": "2022-05-06T16:25:36.969Z"
   },
   {
    "duration": 83,
    "start_time": "2022-05-06T16:25:36.996Z"
   },
   {
    "duration": 12,
    "start_time": "2022-05-06T16:25:37.081Z"
   },
   {
    "duration": 96,
    "start_time": "2022-05-06T16:25:37.096Z"
   },
   {
    "duration": 35,
    "start_time": "2022-05-06T16:25:37.195Z"
   },
   {
    "duration": 69,
    "start_time": "2022-05-06T16:25:37.232Z"
   },
   {
    "duration": 70,
    "start_time": "2022-05-06T16:25:37.304Z"
   },
   {
    "duration": 75,
    "start_time": "2022-05-06T16:25:37.378Z"
   },
   {
    "duration": 50,
    "start_time": "2022-05-06T16:25:37.461Z"
   },
   {
    "duration": 60,
    "start_time": "2022-05-06T16:25:37.514Z"
   },
   {
    "duration": 96,
    "start_time": "2022-05-06T16:25:37.577Z"
   },
   {
    "duration": 43,
    "start_time": "2022-05-06T16:25:37.676Z"
   },
   {
    "duration": 58,
    "start_time": "2022-05-06T16:25:37.721Z"
   },
   {
    "duration": 31,
    "start_time": "2022-05-06T16:25:37.781Z"
   },
   {
    "duration": 96,
    "start_time": "2022-05-06T16:25:37.814Z"
   },
   {
    "duration": 64,
    "start_time": "2022-05-06T16:25:37.912Z"
   },
   {
    "duration": 27,
    "start_time": "2022-05-06T16:25:37.978Z"
   },
   {
    "duration": 12,
    "start_time": "2022-05-06T16:25:38.008Z"
   },
   {
    "duration": 125,
    "start_time": "2022-05-06T16:25:38.022Z"
   },
   {
    "duration": 32,
    "start_time": "2022-05-06T16:25:38.150Z"
   },
   {
    "duration": 37,
    "start_time": "2022-05-06T16:25:38.185Z"
   },
   {
    "duration": 42,
    "start_time": "2022-05-06T16:25:38.224Z"
   },
   {
    "duration": 6,
    "start_time": "2022-05-06T16:25:38.269Z"
   },
   {
    "duration": 22,
    "start_time": "2022-05-06T16:25:38.277Z"
   },
   {
    "duration": 71,
    "start_time": "2022-05-06T16:25:38.302Z"
   },
   {
    "duration": 53,
    "start_time": "2022-05-06T16:25:38.380Z"
   },
   {
    "duration": 9,
    "start_time": "2022-05-06T16:25:38.452Z"
   },
   {
    "duration": 24,
    "start_time": "2022-05-06T16:25:38.463Z"
   },
   {
    "duration": 6,
    "start_time": "2022-05-06T16:25:38.490Z"
   },
   {
    "duration": 5,
    "start_time": "2022-05-06T16:25:38.498Z"
   },
   {
    "duration": 289,
    "start_time": "2022-05-06T16:25:38.505Z"
   },
   {
    "duration": 0,
    "start_time": "2022-05-06T16:25:38.796Z"
   },
   {
    "duration": 0,
    "start_time": "2022-05-06T16:25:38.798Z"
   },
   {
    "duration": 0,
    "start_time": "2022-05-06T16:25:38.800Z"
   },
   {
    "duration": 0,
    "start_time": "2022-05-06T16:25:38.801Z"
   },
   {
    "duration": 0,
    "start_time": "2022-05-06T16:25:38.803Z"
   },
   {
    "duration": 0,
    "start_time": "2022-05-06T16:25:38.805Z"
   },
   {
    "duration": 0,
    "start_time": "2022-05-06T16:25:38.806Z"
   },
   {
    "duration": 511,
    "start_time": "2022-05-06T16:40:01.414Z"
   },
   {
    "duration": 27,
    "start_time": "2022-05-06T16:40:01.927Z"
   },
   {
    "duration": 42,
    "start_time": "2022-05-06T16:40:01.956Z"
   },
   {
    "duration": 118,
    "start_time": "2022-05-06T16:40:02.002Z"
   },
   {
    "duration": 32,
    "start_time": "2022-05-06T16:40:02.123Z"
   },
   {
    "duration": 133,
    "start_time": "2022-05-06T16:40:02.158Z"
   },
   {
    "duration": 41,
    "start_time": "2022-05-06T16:40:02.293Z"
   },
   {
    "duration": 47,
    "start_time": "2022-05-06T16:40:02.353Z"
   },
   {
    "duration": 66,
    "start_time": "2022-05-06T16:40:02.403Z"
   },
   {
    "duration": 82,
    "start_time": "2022-05-06T16:40:02.476Z"
   },
   {
    "duration": 71,
    "start_time": "2022-05-06T16:40:02.561Z"
   },
   {
    "duration": 48,
    "start_time": "2022-05-06T16:40:02.653Z"
   },
   {
    "duration": 95,
    "start_time": "2022-05-06T16:40:02.704Z"
   },
   {
    "duration": 60,
    "start_time": "2022-05-06T16:40:02.802Z"
   },
   {
    "duration": 35,
    "start_time": "2022-05-06T16:40:02.864Z"
   },
   {
    "duration": 54,
    "start_time": "2022-05-06T16:40:02.902Z"
   },
   {
    "duration": 93,
    "start_time": "2022-05-06T16:40:02.960Z"
   },
   {
    "duration": 31,
    "start_time": "2022-05-06T16:40:03.056Z"
   },
   {
    "duration": 27,
    "start_time": "2022-05-06T16:40:03.089Z"
   },
   {
    "duration": 43,
    "start_time": "2022-05-06T16:40:03.120Z"
   },
   {
    "duration": 112,
    "start_time": "2022-05-06T16:40:03.166Z"
   },
   {
    "duration": 30,
    "start_time": "2022-05-06T16:40:03.280Z"
   },
   {
    "duration": 76,
    "start_time": "2022-05-06T16:40:03.315Z"
   },
   {
    "duration": 10,
    "start_time": "2022-05-06T16:40:03.393Z"
   },
   {
    "duration": 15,
    "start_time": "2022-05-06T16:40:03.405Z"
   },
   {
    "duration": 33,
    "start_time": "2022-05-06T16:40:03.422Z"
   },
   {
    "duration": 41,
    "start_time": "2022-05-06T16:40:03.458Z"
   },
   {
    "duration": 155,
    "start_time": "2022-05-06T16:40:03.504Z"
   },
   {
    "duration": 26,
    "start_time": "2022-05-06T16:40:03.661Z"
   },
   {
    "duration": 80,
    "start_time": "2022-05-06T16:40:03.690Z"
   },
   {
    "duration": 14,
    "start_time": "2022-05-06T16:40:03.773Z"
   },
   {
    "duration": 262,
    "start_time": "2022-05-06T16:40:03.793Z"
   },
   {
    "duration": 0,
    "start_time": "2022-05-06T16:40:04.058Z"
   },
   {
    "duration": 0,
    "start_time": "2022-05-06T16:40:04.059Z"
   },
   {
    "duration": 0,
    "start_time": "2022-05-06T16:40:04.061Z"
   },
   {
    "duration": 0,
    "start_time": "2022-05-06T16:40:04.062Z"
   },
   {
    "duration": 0,
    "start_time": "2022-05-06T16:40:04.064Z"
   },
   {
    "duration": 0,
    "start_time": "2022-05-06T16:40:04.065Z"
   },
   {
    "duration": 0,
    "start_time": "2022-05-06T16:40:04.066Z"
   },
   {
    "duration": 547,
    "start_time": "2022-05-06T17:08:08.737Z"
   },
   {
    "duration": 23,
    "start_time": "2022-05-06T17:08:09.286Z"
   },
   {
    "duration": 18,
    "start_time": "2022-05-06T17:08:09.312Z"
   },
   {
    "duration": 80,
    "start_time": "2022-05-06T17:08:09.334Z"
   },
   {
    "duration": 36,
    "start_time": "2022-05-06T17:08:09.416Z"
   },
   {
    "duration": 77,
    "start_time": "2022-05-06T17:08:09.454Z"
   },
   {
    "duration": 44,
    "start_time": "2022-05-06T17:08:09.533Z"
   },
   {
    "duration": 79,
    "start_time": "2022-05-06T17:08:09.579Z"
   },
   {
    "duration": 38,
    "start_time": "2022-05-06T17:08:09.661Z"
   },
   {
    "duration": 96,
    "start_time": "2022-05-06T17:08:09.703Z"
   },
   {
    "duration": 69,
    "start_time": "2022-05-06T17:08:09.801Z"
   },
   {
    "duration": 35,
    "start_time": "2022-05-06T17:08:09.873Z"
   },
   {
    "duration": 108,
    "start_time": "2022-05-06T17:08:09.910Z"
   },
   {
    "duration": 71,
    "start_time": "2022-05-06T17:08:10.020Z"
   },
   {
    "duration": 28,
    "start_time": "2022-05-06T17:08:10.093Z"
   },
   {
    "duration": 47,
    "start_time": "2022-05-06T17:08:10.124Z"
   },
   {
    "duration": 107,
    "start_time": "2022-05-06T17:08:10.174Z"
   },
   {
    "duration": 31,
    "start_time": "2022-05-06T17:08:10.284Z"
   },
   {
    "duration": 56,
    "start_time": "2022-05-06T17:08:10.317Z"
   },
   {
    "duration": 14,
    "start_time": "2022-05-06T17:08:10.376Z"
   },
   {
    "duration": 121,
    "start_time": "2022-05-06T17:08:10.393Z"
   },
   {
    "duration": 42,
    "start_time": "2022-05-06T17:08:10.516Z"
   },
   {
    "duration": 38,
    "start_time": "2022-05-06T17:08:10.560Z"
   },
   {
    "duration": 10,
    "start_time": "2022-05-06T17:08:10.600Z"
   },
   {
    "duration": 40,
    "start_time": "2022-05-06T17:08:10.612Z"
   },
   {
    "duration": 12,
    "start_time": "2022-05-06T17:08:10.655Z"
   },
   {
    "duration": 44,
    "start_time": "2022-05-06T17:08:10.669Z"
   },
   {
    "duration": 84,
    "start_time": "2022-05-06T17:08:10.718Z"
   },
   {
    "duration": 15,
    "start_time": "2022-05-06T17:08:10.806Z"
   },
   {
    "duration": 7,
    "start_time": "2022-05-06T17:08:10.852Z"
   },
   {
    "duration": 127,
    "start_time": "2022-05-06T17:08:10.862Z"
   },
   {
    "duration": 0,
    "start_time": "2022-05-06T17:08:10.991Z"
   },
   {
    "duration": 0,
    "start_time": "2022-05-06T17:08:10.993Z"
   },
   {
    "duration": 0,
    "start_time": "2022-05-06T17:08:10.995Z"
   },
   {
    "duration": 0,
    "start_time": "2022-05-06T17:08:10.996Z"
   },
   {
    "duration": 0,
    "start_time": "2022-05-06T17:08:10.998Z"
   },
   {
    "duration": 0,
    "start_time": "2022-05-06T17:08:11.000Z"
   },
   {
    "duration": 0,
    "start_time": "2022-05-06T17:08:11.003Z"
   },
   {
    "duration": 0,
    "start_time": "2022-05-06T17:08:11.005Z"
   },
   {
    "duration": 527,
    "start_time": "2022-05-06T17:08:48.711Z"
   },
   {
    "duration": 27,
    "start_time": "2022-05-06T17:08:49.241Z"
   },
   {
    "duration": 20,
    "start_time": "2022-05-06T17:08:49.271Z"
   },
   {
    "duration": 93,
    "start_time": "2022-05-06T17:08:49.295Z"
   },
   {
    "duration": 13,
    "start_time": "2022-05-06T17:08:49.391Z"
   },
   {
    "duration": 108,
    "start_time": "2022-05-06T17:08:49.407Z"
   },
   {
    "duration": 51,
    "start_time": "2022-05-06T17:08:49.517Z"
   },
   {
    "duration": 53,
    "start_time": "2022-05-06T17:08:49.570Z"
   },
   {
    "duration": 55,
    "start_time": "2022-05-06T17:08:49.626Z"
   },
   {
    "duration": 91,
    "start_time": "2022-05-06T17:08:49.685Z"
   },
   {
    "duration": 51,
    "start_time": "2022-05-06T17:08:49.778Z"
   },
   {
    "duration": 50,
    "start_time": "2022-05-06T17:08:49.832Z"
   },
   {
    "duration": 94,
    "start_time": "2022-05-06T17:08:49.884Z"
   },
   {
    "duration": 46,
    "start_time": "2022-05-06T17:08:49.980Z"
   },
   {
    "duration": 49,
    "start_time": "2022-05-06T17:08:50.028Z"
   },
   {
    "duration": 29,
    "start_time": "2022-05-06T17:08:50.079Z"
   },
   {
    "duration": 100,
    "start_time": "2022-05-06T17:08:50.110Z"
   },
   {
    "duration": 56,
    "start_time": "2022-05-06T17:08:50.213Z"
   },
   {
    "duration": 28,
    "start_time": "2022-05-06T17:08:50.271Z"
   },
   {
    "duration": 12,
    "start_time": "2022-05-06T17:08:50.301Z"
   },
   {
    "duration": 116,
    "start_time": "2022-05-06T17:08:50.315Z"
   },
   {
    "duration": 36,
    "start_time": "2022-05-06T17:08:50.433Z"
   },
   {
    "duration": 35,
    "start_time": "2022-05-06T17:08:50.472Z"
   },
   {
    "duration": 43,
    "start_time": "2022-05-06T17:08:50.509Z"
   },
   {
    "duration": 6,
    "start_time": "2022-05-06T17:08:50.554Z"
   },
   {
    "duration": 15,
    "start_time": "2022-05-06T17:08:50.562Z"
   },
   {
    "duration": 42,
    "start_time": "2022-05-06T17:08:50.579Z"
   },
   {
    "duration": 74,
    "start_time": "2022-05-06T17:08:50.626Z"
   },
   {
    "duration": 11,
    "start_time": "2022-05-06T17:08:50.702Z"
   },
   {
    "duration": 39,
    "start_time": "2022-05-06T17:08:50.716Z"
   },
   {
    "duration": 8,
    "start_time": "2022-05-06T17:08:50.757Z"
   },
   {
    "duration": 261,
    "start_time": "2022-05-06T17:08:50.768Z"
   },
   {
    "duration": 0,
    "start_time": "2022-05-06T17:08:51.031Z"
   },
   {
    "duration": 0,
    "start_time": "2022-05-06T17:08:51.034Z"
   },
   {
    "duration": 0,
    "start_time": "2022-05-06T17:08:51.035Z"
   },
   {
    "duration": 0,
    "start_time": "2022-05-06T17:08:51.052Z"
   },
   {
    "duration": 0,
    "start_time": "2022-05-06T17:08:51.054Z"
   },
   {
    "duration": 0,
    "start_time": "2022-05-06T17:08:51.056Z"
   },
   {
    "duration": 0,
    "start_time": "2022-05-06T17:08:51.057Z"
   },
   {
    "duration": 514,
    "start_time": "2022-05-06T17:09:17.244Z"
   },
   {
    "duration": 25,
    "start_time": "2022-05-06T17:09:17.762Z"
   },
   {
    "duration": 21,
    "start_time": "2022-05-06T17:09:17.790Z"
   },
   {
    "duration": 66,
    "start_time": "2022-05-06T17:09:17.851Z"
   },
   {
    "duration": 32,
    "start_time": "2022-05-06T17:09:17.920Z"
   },
   {
    "duration": 75,
    "start_time": "2022-05-06T17:09:17.954Z"
   },
   {
    "duration": 51,
    "start_time": "2022-05-06T17:09:18.031Z"
   },
   {
    "duration": 71,
    "start_time": "2022-05-06T17:09:18.084Z"
   },
   {
    "duration": 37,
    "start_time": "2022-05-06T17:09:18.157Z"
   },
   {
    "duration": 89,
    "start_time": "2022-05-06T17:09:18.198Z"
   },
   {
    "duration": 64,
    "start_time": "2022-05-06T17:09:18.289Z"
   },
   {
    "duration": 34,
    "start_time": "2022-05-06T17:09:18.355Z"
   },
   {
    "duration": 94,
    "start_time": "2022-05-06T17:09:18.392Z"
   },
   {
    "duration": 68,
    "start_time": "2022-05-06T17:09:18.489Z"
   },
   {
    "duration": 27,
    "start_time": "2022-05-06T17:09:18.559Z"
   },
   {
    "duration": 27,
    "start_time": "2022-05-06T17:09:18.589Z"
   },
   {
    "duration": 96,
    "start_time": "2022-05-06T17:09:18.619Z"
   },
   {
    "duration": 57,
    "start_time": "2022-05-06T17:09:18.717Z"
   },
   {
    "duration": 27,
    "start_time": "2022-05-06T17:09:18.776Z"
   },
   {
    "duration": 12,
    "start_time": "2022-05-06T17:09:18.805Z"
   },
   {
    "duration": 112,
    "start_time": "2022-05-06T17:09:18.819Z"
   },
   {
    "duration": 38,
    "start_time": "2022-05-06T17:09:18.933Z"
   },
   {
    "duration": 38,
    "start_time": "2022-05-06T17:09:18.973Z"
   },
   {
    "duration": 41,
    "start_time": "2022-05-06T17:09:19.013Z"
   },
   {
    "duration": 7,
    "start_time": "2022-05-06T17:09:19.057Z"
   },
   {
    "duration": 21,
    "start_time": "2022-05-06T17:09:19.067Z"
   },
   {
    "duration": 78,
    "start_time": "2022-05-06T17:09:19.090Z"
   },
   {
    "duration": 79,
    "start_time": "2022-05-06T17:09:19.175Z"
   },
   {
    "duration": 14,
    "start_time": "2022-05-06T17:09:19.256Z"
   },
   {
    "duration": 6,
    "start_time": "2022-05-06T17:09:19.272Z"
   },
   {
    "duration": 8,
    "start_time": "2022-05-06T17:09:19.281Z"
   },
   {
    "duration": 273,
    "start_time": "2022-05-06T17:09:19.291Z"
   },
   {
    "duration": 0,
    "start_time": "2022-05-06T17:09:19.566Z"
   },
   {
    "duration": 0,
    "start_time": "2022-05-06T17:09:19.568Z"
   },
   {
    "duration": 0,
    "start_time": "2022-05-06T17:09:19.569Z"
   },
   {
    "duration": 0,
    "start_time": "2022-05-06T17:09:19.571Z"
   },
   {
    "duration": 0,
    "start_time": "2022-05-06T17:09:19.572Z"
   },
   {
    "duration": 0,
    "start_time": "2022-05-06T17:09:19.573Z"
   },
   {
    "duration": 0,
    "start_time": "2022-05-06T17:09:19.575Z"
   },
   {
    "duration": 528,
    "start_time": "2022-05-06T17:10:30.270Z"
   },
   {
    "duration": 24,
    "start_time": "2022-05-06T17:10:30.801Z"
   },
   {
    "duration": 28,
    "start_time": "2022-05-06T17:10:30.828Z"
   },
   {
    "duration": 67,
    "start_time": "2022-05-06T17:10:30.860Z"
   },
   {
    "duration": 29,
    "start_time": "2022-05-06T17:10:30.929Z"
   },
   {
    "duration": 96,
    "start_time": "2022-05-06T17:10:30.961Z"
   },
   {
    "duration": 36,
    "start_time": "2022-05-06T17:10:31.059Z"
   },
   {
    "duration": 87,
    "start_time": "2022-05-06T17:10:31.097Z"
   },
   {
    "duration": 40,
    "start_time": "2022-05-06T17:10:31.186Z"
   },
   {
    "duration": 69,
    "start_time": "2022-05-06T17:10:31.251Z"
   },
   {
    "duration": 82,
    "start_time": "2022-05-06T17:10:31.322Z"
   },
   {
    "duration": 54,
    "start_time": "2022-05-06T17:10:31.406Z"
   },
   {
    "duration": 103,
    "start_time": "2022-05-06T17:10:31.462Z"
   },
   {
    "duration": 65,
    "start_time": "2022-05-06T17:10:31.568Z"
   },
   {
    "duration": 49,
    "start_time": "2022-05-06T17:10:31.636Z"
   },
   {
    "duration": 31,
    "start_time": "2022-05-06T17:10:31.687Z"
   },
   {
    "duration": 117,
    "start_time": "2022-05-06T17:10:31.753Z"
   },
   {
    "duration": 46,
    "start_time": "2022-05-06T17:10:31.872Z"
   },
   {
    "duration": 57,
    "start_time": "2022-05-06T17:10:31.920Z"
   },
   {
    "duration": 16,
    "start_time": "2022-05-06T17:10:31.979Z"
   },
   {
    "duration": 125,
    "start_time": "2022-05-06T17:10:31.998Z"
   },
   {
    "duration": 37,
    "start_time": "2022-05-06T17:10:32.125Z"
   },
   {
    "duration": 38,
    "start_time": "2022-05-06T17:10:32.164Z"
   },
   {
    "duration": 11,
    "start_time": "2022-05-06T17:10:32.205Z"
   },
   {
    "duration": 13,
    "start_time": "2022-05-06T17:10:32.251Z"
   },
   {
    "duration": 18,
    "start_time": "2022-05-06T17:10:32.266Z"
   },
   {
    "duration": 43,
    "start_time": "2022-05-06T17:10:32.286Z"
   },
   {
    "duration": 62,
    "start_time": "2022-05-06T17:10:32.335Z"
   },
   {
    "duration": 11,
    "start_time": "2022-05-06T17:10:32.399Z"
   },
   {
    "duration": 7,
    "start_time": "2022-05-06T17:10:32.412Z"
   },
   {
    "duration": 6,
    "start_time": "2022-05-06T17:10:32.453Z"
   },
   {
    "duration": 1722,
    "start_time": "2022-05-06T17:10:32.462Z"
   },
   {
    "duration": 0,
    "start_time": "2022-05-06T17:10:34.186Z"
   },
   {
    "duration": 0,
    "start_time": "2022-05-06T17:10:34.188Z"
   },
   {
    "duration": 1,
    "start_time": "2022-05-06T17:10:34.189Z"
   },
   {
    "duration": 0,
    "start_time": "2022-05-06T17:10:34.191Z"
   },
   {
    "duration": 0,
    "start_time": "2022-05-06T17:10:34.192Z"
   },
   {
    "duration": 0,
    "start_time": "2022-05-06T17:10:34.194Z"
   },
   {
    "duration": 0,
    "start_time": "2022-05-06T17:10:34.195Z"
   },
   {
    "duration": 499,
    "start_time": "2022-05-06T17:11:55.900Z"
   },
   {
    "duration": 24,
    "start_time": "2022-05-06T17:11:56.401Z"
   },
   {
    "duration": 26,
    "start_time": "2022-05-06T17:11:56.427Z"
   },
   {
    "duration": 62,
    "start_time": "2022-05-06T17:11:56.456Z"
   },
   {
    "duration": 37,
    "start_time": "2022-05-06T17:11:56.520Z"
   },
   {
    "duration": 76,
    "start_time": "2022-05-06T17:11:56.560Z"
   },
   {
    "duration": 52,
    "start_time": "2022-05-06T17:11:56.638Z"
   },
   {
    "duration": 82,
    "start_time": "2022-05-06T17:11:56.693Z"
   },
   {
    "duration": 39,
    "start_time": "2022-05-06T17:11:56.778Z"
   },
   {
    "duration": 90,
    "start_time": "2022-05-06T17:11:56.823Z"
   },
   {
    "duration": 79,
    "start_time": "2022-05-06T17:11:56.916Z"
   },
   {
    "duration": 32,
    "start_time": "2022-05-06T17:11:56.997Z"
   },
   {
    "duration": 84,
    "start_time": "2022-05-06T17:11:57.031Z"
   },
   {
    "duration": 68,
    "start_time": "2022-05-06T17:11:57.118Z"
   },
   {
    "duration": 26,
    "start_time": "2022-05-06T17:11:57.189Z"
   },
   {
    "duration": 62,
    "start_time": "2022-05-06T17:11:57.217Z"
   },
   {
    "duration": 96,
    "start_time": "2022-05-06T17:11:57.281Z"
   },
   {
    "duration": 32,
    "start_time": "2022-05-06T17:11:57.380Z"
   },
   {
    "duration": 54,
    "start_time": "2022-05-06T17:11:57.414Z"
   },
   {
    "duration": 12,
    "start_time": "2022-05-06T17:11:57.470Z"
   },
   {
    "duration": 107,
    "start_time": "2022-05-06T17:11:57.484Z"
   },
   {
    "duration": 26,
    "start_time": "2022-05-06T17:11:57.593Z"
   },
   {
    "duration": 56,
    "start_time": "2022-05-06T17:11:57.622Z"
   },
   {
    "duration": 9,
    "start_time": "2022-05-06T17:11:57.680Z"
   },
   {
    "duration": 15,
    "start_time": "2022-05-06T17:11:57.691Z"
   },
   {
    "duration": 31,
    "start_time": "2022-05-06T17:11:57.708Z"
   },
   {
    "duration": 53,
    "start_time": "2022-05-06T17:11:57.741Z"
   },
   {
    "duration": 57,
    "start_time": "2022-05-06T17:11:57.799Z"
   },
   {
    "duration": 10,
    "start_time": "2022-05-06T17:11:57.858Z"
   },
   {
    "duration": 21,
    "start_time": "2022-05-06T17:11:57.870Z"
   },
   {
    "duration": 9,
    "start_time": "2022-05-06T17:11:57.893Z"
   },
   {
    "duration": 265,
    "start_time": "2022-05-06T17:11:57.904Z"
   },
   {
    "duration": 0,
    "start_time": "2022-05-06T17:11:58.172Z"
   },
   {
    "duration": 0,
    "start_time": "2022-05-06T17:11:58.173Z"
   },
   {
    "duration": 0,
    "start_time": "2022-05-06T17:11:58.175Z"
   },
   {
    "duration": 0,
    "start_time": "2022-05-06T17:11:58.177Z"
   },
   {
    "duration": 0,
    "start_time": "2022-05-06T17:11:58.178Z"
   },
   {
    "duration": 0,
    "start_time": "2022-05-06T17:11:58.180Z"
   },
   {
    "duration": 0,
    "start_time": "2022-05-06T17:11:58.182Z"
   },
   {
    "duration": 583,
    "start_time": "2022-05-06T17:26:06.819Z"
   },
   {
    "duration": 25,
    "start_time": "2022-05-06T17:26:07.405Z"
   },
   {
    "duration": 36,
    "start_time": "2022-05-06T17:26:07.432Z"
   },
   {
    "duration": 70,
    "start_time": "2022-05-06T17:26:07.472Z"
   },
   {
    "duration": 16,
    "start_time": "2022-05-06T17:26:07.553Z"
   },
   {
    "duration": 100,
    "start_time": "2022-05-06T17:26:07.572Z"
   },
   {
    "duration": 42,
    "start_time": "2022-05-06T17:26:07.676Z"
   },
   {
    "duration": 81,
    "start_time": "2022-05-06T17:26:07.720Z"
   },
   {
    "duration": 68,
    "start_time": "2022-05-06T17:26:07.804Z"
   },
   {
    "duration": 92,
    "start_time": "2022-05-06T17:26:07.878Z"
   },
   {
    "duration": 53,
    "start_time": "2022-05-06T17:26:07.972Z"
   },
   {
    "duration": 64,
    "start_time": "2022-05-06T17:26:08.027Z"
   },
   {
    "duration": 97,
    "start_time": "2022-05-06T17:26:08.093Z"
   },
   {
    "duration": 63,
    "start_time": "2022-05-06T17:26:08.192Z"
   },
   {
    "duration": 31,
    "start_time": "2022-05-06T17:26:08.259Z"
   },
   {
    "duration": 34,
    "start_time": "2022-05-06T17:26:08.293Z"
   },
   {
    "duration": 72,
    "start_time": "2022-05-06T17:26:08.353Z"
   },
   {
    "duration": 58,
    "start_time": "2022-05-06T17:26:08.427Z"
   },
   {
    "duration": 28,
    "start_time": "2022-05-06T17:26:08.487Z"
   },
   {
    "duration": 42,
    "start_time": "2022-05-06T17:26:08.517Z"
   },
   {
    "duration": 116,
    "start_time": "2022-05-06T17:26:08.563Z"
   },
   {
    "duration": 27,
    "start_time": "2022-05-06T17:26:08.682Z"
   },
   {
    "duration": 58,
    "start_time": "2022-05-06T17:26:08.711Z"
   },
   {
    "duration": 10,
    "start_time": "2022-05-06T17:26:08.772Z"
   },
   {
    "duration": 11,
    "start_time": "2022-05-06T17:26:08.784Z"
   },
   {
    "duration": 14,
    "start_time": "2022-05-06T17:26:08.797Z"
   },
   {
    "duration": 78,
    "start_time": "2022-05-06T17:26:08.813Z"
   },
   {
    "duration": 65,
    "start_time": "2022-05-06T17:26:08.896Z"
   },
   {
    "duration": 11,
    "start_time": "2022-05-06T17:26:08.965Z"
   },
   {
    "duration": 6,
    "start_time": "2022-05-06T17:26:08.978Z"
   },
   {
    "duration": 68,
    "start_time": "2022-05-06T17:26:08.986Z"
   },
   {
    "duration": 0,
    "start_time": "2022-05-06T17:26:09.057Z"
   },
   {
    "duration": 0,
    "start_time": "2022-05-06T17:26:09.059Z"
   },
   {
    "duration": 0,
    "start_time": "2022-05-06T17:26:09.061Z"
   },
   {
    "duration": 0,
    "start_time": "2022-05-06T17:26:09.064Z"
   },
   {
    "duration": 0,
    "start_time": "2022-05-06T17:26:09.066Z"
   },
   {
    "duration": 0,
    "start_time": "2022-05-06T17:26:09.067Z"
   },
   {
    "duration": 0,
    "start_time": "2022-05-06T17:26:09.069Z"
   },
   {
    "duration": 0,
    "start_time": "2022-05-06T17:26:09.071Z"
   },
   {
    "duration": 0,
    "start_time": "2022-05-06T17:26:09.073Z"
   },
   {
    "duration": 519,
    "start_time": "2022-05-06T17:27:52.213Z"
   },
   {
    "duration": 22,
    "start_time": "2022-05-06T17:27:52.735Z"
   },
   {
    "duration": 26,
    "start_time": "2022-05-06T17:27:52.760Z"
   },
   {
    "duration": 79,
    "start_time": "2022-05-06T17:27:52.789Z"
   },
   {
    "duration": 11,
    "start_time": "2022-05-06T17:27:52.871Z"
   },
   {
    "duration": 99,
    "start_time": "2022-05-06T17:27:52.884Z"
   },
   {
    "duration": 35,
    "start_time": "2022-05-06T17:27:52.985Z"
   },
   {
    "duration": 76,
    "start_time": "2022-05-06T17:27:53.023Z"
   },
   {
    "duration": 64,
    "start_time": "2022-05-06T17:27:53.102Z"
   },
   {
    "duration": 80,
    "start_time": "2022-05-06T17:27:53.172Z"
   },
   {
    "duration": 57,
    "start_time": "2022-05-06T17:27:53.255Z"
   },
   {
    "duration": 62,
    "start_time": "2022-05-06T17:27:53.315Z"
   },
   {
    "duration": 88,
    "start_time": "2022-05-06T17:27:53.380Z"
   },
   {
    "duration": 42,
    "start_time": "2022-05-06T17:27:53.471Z"
   },
   {
    "duration": 55,
    "start_time": "2022-05-06T17:27:53.515Z"
   },
   {
    "duration": 25,
    "start_time": "2022-05-06T17:27:53.574Z"
   },
   {
    "duration": 105,
    "start_time": "2022-05-06T17:27:53.601Z"
   },
   {
    "duration": 55,
    "start_time": "2022-05-06T17:27:53.708Z"
   },
   {
    "duration": 28,
    "start_time": "2022-05-06T17:27:53.766Z"
   },
   {
    "duration": 11,
    "start_time": "2022-05-06T17:27:53.797Z"
   },
   {
    "duration": 126,
    "start_time": "2022-05-06T17:27:53.810Z"
   },
   {
    "duration": 39,
    "start_time": "2022-05-06T17:27:53.938Z"
   },
   {
    "duration": 38,
    "start_time": "2022-05-06T17:27:53.979Z"
   },
   {
    "duration": 43,
    "start_time": "2022-05-06T17:27:54.020Z"
   },
   {
    "duration": 15,
    "start_time": "2022-05-06T17:27:54.066Z"
   },
   {
    "duration": 14,
    "start_time": "2022-05-06T17:27:54.083Z"
   },
   {
    "duration": 63,
    "start_time": "2022-05-06T17:27:54.100Z"
   },
   {
    "duration": 51,
    "start_time": "2022-05-06T17:27:54.170Z"
   },
   {
    "duration": 42,
    "start_time": "2022-05-06T17:27:54.224Z"
   },
   {
    "duration": 7,
    "start_time": "2022-05-06T17:27:54.269Z"
   },
   {
    "duration": 35,
    "start_time": "2022-05-06T17:27:54.278Z"
   },
   {
    "duration": 41,
    "start_time": "2022-05-06T17:27:54.316Z"
   },
   {
    "duration": 275,
    "start_time": "2022-05-06T17:27:54.360Z"
   },
   {
    "duration": 0,
    "start_time": "2022-05-06T17:27:54.637Z"
   },
   {
    "duration": 0,
    "start_time": "2022-05-06T17:27:54.639Z"
   },
   {
    "duration": 0,
    "start_time": "2022-05-06T17:27:54.656Z"
   },
   {
    "duration": 0,
    "start_time": "2022-05-06T17:27:54.659Z"
   },
   {
    "duration": 0,
    "start_time": "2022-05-06T17:27:54.662Z"
   },
   {
    "duration": 0,
    "start_time": "2022-05-06T17:27:54.664Z"
   },
   {
    "duration": 0,
    "start_time": "2022-05-06T17:27:54.666Z"
   },
   {
    "duration": 491,
    "start_time": "2022-05-06T17:37:31.348Z"
   },
   {
    "duration": 24,
    "start_time": "2022-05-06T17:37:31.842Z"
   },
   {
    "duration": 17,
    "start_time": "2022-05-06T17:37:31.868Z"
   },
   {
    "duration": 89,
    "start_time": "2022-05-06T17:37:31.888Z"
   },
   {
    "duration": 12,
    "start_time": "2022-05-06T17:37:31.979Z"
   },
   {
    "duration": 98,
    "start_time": "2022-05-06T17:37:31.993Z"
   },
   {
    "duration": 34,
    "start_time": "2022-05-06T17:37:32.094Z"
   },
   {
    "duration": 74,
    "start_time": "2022-05-06T17:37:32.130Z"
   },
   {
    "duration": 54,
    "start_time": "2022-05-06T17:37:32.206Z"
   },
   {
    "duration": 63,
    "start_time": "2022-05-06T17:37:32.264Z"
   },
   {
    "duration": 72,
    "start_time": "2022-05-06T17:37:32.330Z"
   },
   {
    "duration": 54,
    "start_time": "2022-05-06T17:37:32.405Z"
   },
   {
    "duration": 67,
    "start_time": "2022-05-06T17:37:32.461Z"
   },
   {
    "duration": 59,
    "start_time": "2022-05-06T17:37:32.531Z"
   },
   {
    "duration": 25,
    "start_time": "2022-05-06T17:37:32.592Z"
   },
   {
    "duration": 51,
    "start_time": "2022-05-06T17:37:32.619Z"
   },
   {
    "duration": 99,
    "start_time": "2022-05-06T17:37:32.673Z"
   },
   {
    "duration": 30,
    "start_time": "2022-05-06T17:37:32.774Z"
   },
   {
    "duration": 49,
    "start_time": "2022-05-06T17:37:32.807Z"
   },
   {
    "duration": 13,
    "start_time": "2022-05-06T17:37:32.858Z"
   },
   {
    "duration": 170,
    "start_time": "2022-05-06T17:37:32.874Z"
   },
   {
    "duration": 34,
    "start_time": "2022-05-06T17:37:33.051Z"
   },
   {
    "duration": 35,
    "start_time": "2022-05-06T17:37:33.088Z"
   },
   {
    "duration": 35,
    "start_time": "2022-05-06T17:37:33.125Z"
   },
   {
    "duration": 8,
    "start_time": "2022-05-06T17:37:33.162Z"
   },
   {
    "duration": 15,
    "start_time": "2022-05-06T17:37:33.173Z"
   },
   {
    "duration": 76,
    "start_time": "2022-05-06T17:37:33.191Z"
   },
   {
    "duration": 49,
    "start_time": "2022-05-06T17:37:33.274Z"
   },
   {
    "duration": 34,
    "start_time": "2022-05-06T17:37:33.325Z"
   },
   {
    "duration": 19,
    "start_time": "2022-05-06T17:37:33.361Z"
   },
   {
    "duration": 1746,
    "start_time": "2022-05-06T17:37:33.382Z"
   },
   {
    "duration": 42,
    "start_time": "2022-05-06T17:37:35.131Z"
   },
   {
    "duration": 6,
    "start_time": "2022-05-06T17:37:35.175Z"
   },
   {
    "duration": 293,
    "start_time": "2022-05-06T17:37:35.183Z"
   },
   {
    "duration": 0,
    "start_time": "2022-05-06T17:37:35.478Z"
   },
   {
    "duration": 0,
    "start_time": "2022-05-06T17:37:35.480Z"
   },
   {
    "duration": 0,
    "start_time": "2022-05-06T17:37:35.482Z"
   },
   {
    "duration": 0,
    "start_time": "2022-05-06T17:37:35.483Z"
   },
   {
    "duration": 0,
    "start_time": "2022-05-06T17:37:35.484Z"
   },
   {
    "duration": 0,
    "start_time": "2022-05-06T17:37:35.485Z"
   },
   {
    "duration": 0,
    "start_time": "2022-05-06T17:37:35.487Z"
   },
   {
    "duration": 610,
    "start_time": "2022-05-06T17:40:42.108Z"
   },
   {
    "duration": 23,
    "start_time": "2022-05-06T17:40:42.720Z"
   },
   {
    "duration": 31,
    "start_time": "2022-05-06T17:40:42.746Z"
   },
   {
    "duration": 78,
    "start_time": "2022-05-06T17:40:42.780Z"
   },
   {
    "duration": 14,
    "start_time": "2022-05-06T17:40:42.862Z"
   },
   {
    "duration": 107,
    "start_time": "2022-05-06T17:40:42.878Z"
   },
   {
    "duration": 37,
    "start_time": "2022-05-06T17:40:42.987Z"
   },
   {
    "duration": 78,
    "start_time": "2022-05-06T17:40:43.026Z"
   },
   {
    "duration": 60,
    "start_time": "2022-05-06T17:40:43.107Z"
   },
   {
    "duration": 71,
    "start_time": "2022-05-06T17:40:43.171Z"
   },
   {
    "duration": 62,
    "start_time": "2022-05-06T17:40:43.261Z"
   },
   {
    "duration": 56,
    "start_time": "2022-05-06T17:40:43.326Z"
   },
   {
    "duration": 104,
    "start_time": "2022-05-06T17:40:43.384Z"
   },
   {
    "duration": 45,
    "start_time": "2022-05-06T17:40:43.494Z"
   },
   {
    "duration": 36,
    "start_time": "2022-05-06T17:40:43.552Z"
   },
   {
    "duration": 26,
    "start_time": "2022-05-06T17:40:43.590Z"
   },
   {
    "duration": 110,
    "start_time": "2022-05-06T17:40:43.618Z"
   },
   {
    "duration": 58,
    "start_time": "2022-05-06T17:40:43.731Z"
   },
   {
    "duration": 29,
    "start_time": "2022-05-06T17:40:43.792Z"
   },
   {
    "duration": 60,
    "start_time": "2022-05-06T17:40:43.823Z"
   },
   {
    "duration": 102,
    "start_time": "2022-05-06T17:40:43.886Z"
   },
   {
    "duration": 28,
    "start_time": "2022-05-06T17:40:43.990Z"
   },
   {
    "duration": 78,
    "start_time": "2022-05-06T17:40:44.020Z"
   },
   {
    "duration": 10,
    "start_time": "2022-05-06T17:40:44.101Z"
   },
   {
    "duration": 7,
    "start_time": "2022-05-06T17:40:44.113Z"
   },
   {
    "duration": 53,
    "start_time": "2022-05-06T17:40:44.122Z"
   },
   {
    "duration": 50,
    "start_time": "2022-05-06T17:40:44.178Z"
   },
   {
    "duration": 56,
    "start_time": "2022-05-06T17:40:44.230Z"
   },
   {
    "duration": 10,
    "start_time": "2022-05-06T17:40:44.288Z"
   },
   {
    "duration": 6,
    "start_time": "2022-05-06T17:40:44.300Z"
   },
   {
    "duration": 2659,
    "start_time": "2022-05-06T17:40:44.307Z"
   },
   {
    "duration": 16,
    "start_time": "2022-05-06T17:40:46.971Z"
   },
   {
    "duration": 0,
    "start_time": "2022-05-06T17:40:46.991Z"
   },
   {
    "duration": 0,
    "start_time": "2022-05-06T17:40:46.993Z"
   },
   {
    "duration": 0,
    "start_time": "2022-05-06T17:40:46.995Z"
   },
   {
    "duration": 520,
    "start_time": "2022-05-06T17:42:42.043Z"
   },
   {
    "duration": 29,
    "start_time": "2022-05-06T17:42:42.567Z"
   },
   {
    "duration": 16,
    "start_time": "2022-05-06T17:42:42.599Z"
   },
   {
    "duration": 102,
    "start_time": "2022-05-06T17:42:42.618Z"
   },
   {
    "duration": 29,
    "start_time": "2022-05-06T17:42:42.725Z"
   },
   {
    "duration": 79,
    "start_time": "2022-05-06T17:42:42.763Z"
   },
   {
    "duration": 52,
    "start_time": "2022-05-06T17:42:42.845Z"
   },
   {
    "duration": 91,
    "start_time": "2022-05-06T17:42:42.899Z"
   },
   {
    "duration": 38,
    "start_time": "2022-05-06T17:42:42.992Z"
   },
   {
    "duration": 91,
    "start_time": "2022-05-06T17:42:43.032Z"
   },
   {
    "duration": 83,
    "start_time": "2022-05-06T17:42:43.125Z"
   },
   {
    "duration": 43,
    "start_time": "2022-05-06T17:42:43.210Z"
   },
   {
    "duration": 104,
    "start_time": "2022-05-06T17:42:43.256Z"
   },
   {
    "duration": 51,
    "start_time": "2022-05-06T17:42:43.365Z"
   },
   {
    "duration": 49,
    "start_time": "2022-05-06T17:42:43.419Z"
   },
   {
    "duration": 27,
    "start_time": "2022-05-06T17:42:43.471Z"
   },
   {
    "duration": 109,
    "start_time": "2022-05-06T17:42:43.500Z"
   },
   {
    "duration": 54,
    "start_time": "2022-05-06T17:42:43.611Z"
   },
   {
    "duration": 27,
    "start_time": "2022-05-06T17:42:43.676Z"
   },
   {
    "duration": 11,
    "start_time": "2022-05-06T17:42:43.705Z"
   },
   {
    "duration": 123,
    "start_time": "2022-05-06T17:42:43.718Z"
   },
   {
    "duration": 46,
    "start_time": "2022-05-06T17:42:43.844Z"
   },
   {
    "duration": 35,
    "start_time": "2022-05-06T17:42:43.892Z"
   },
   {
    "duration": 32,
    "start_time": "2022-05-06T17:42:43.929Z"
   },
   {
    "duration": 20,
    "start_time": "2022-05-06T17:42:43.969Z"
   },
   {
    "duration": 12,
    "start_time": "2022-05-06T17:42:43.992Z"
   },
   {
    "duration": 58,
    "start_time": "2022-05-06T17:42:44.006Z"
   },
   {
    "duration": 58,
    "start_time": "2022-05-06T17:42:44.066Z"
   },
   {
    "duration": 10,
    "start_time": "2022-05-06T17:42:44.127Z"
   },
   {
    "duration": 19,
    "start_time": "2022-05-06T17:42:44.138Z"
   },
   {
    "duration": 1885,
    "start_time": "2022-05-06T17:42:44.162Z"
   },
   {
    "duration": 10,
    "start_time": "2022-05-06T17:42:46.053Z"
   },
   {
    "duration": 56,
    "start_time": "2022-05-06T17:42:46.066Z"
   },
   {
    "duration": 55,
    "start_time": "2022-05-06T17:42:46.124Z"
   },
   {
    "duration": 9,
    "start_time": "2022-05-06T17:42:46.182Z"
   },
   {
    "duration": 583,
    "start_time": "2022-05-06T17:43:42.213Z"
   },
   {
    "duration": 24,
    "start_time": "2022-05-06T17:43:42.798Z"
   },
   {
    "duration": 18,
    "start_time": "2022-05-06T17:43:42.824Z"
   },
   {
    "duration": 91,
    "start_time": "2022-05-06T17:43:42.845Z"
   },
   {
    "duration": 29,
    "start_time": "2022-05-06T17:43:42.938Z"
   },
   {
    "duration": 119,
    "start_time": "2022-05-06T17:43:42.970Z"
   },
   {
    "duration": 38,
    "start_time": "2022-05-06T17:43:43.092Z"
   },
   {
    "duration": 88,
    "start_time": "2022-05-06T17:43:43.133Z"
   },
   {
    "duration": 52,
    "start_time": "2022-05-06T17:43:43.224Z"
   },
   {
    "duration": 105,
    "start_time": "2022-05-06T17:43:43.285Z"
   },
   {
    "duration": 57,
    "start_time": "2022-05-06T17:43:43.392Z"
   },
   {
    "duration": 60,
    "start_time": "2022-05-06T17:43:43.451Z"
   },
   {
    "duration": 96,
    "start_time": "2022-05-06T17:43:43.514Z"
   },
   {
    "duration": 72,
    "start_time": "2022-05-06T17:43:43.613Z"
   },
   {
    "duration": 34,
    "start_time": "2022-05-06T17:43:43.688Z"
   },
   {
    "duration": 73,
    "start_time": "2022-05-06T17:43:43.725Z"
   },
   {
    "duration": 87,
    "start_time": "2022-05-06T17:43:43.800Z"
   },
   {
    "duration": 31,
    "start_time": "2022-05-06T17:43:43.891Z"
   },
   {
    "duration": 48,
    "start_time": "2022-05-06T17:43:43.924Z"
   },
   {
    "duration": 26,
    "start_time": "2022-05-06T17:43:43.979Z"
   },
   {
    "duration": 112,
    "start_time": "2022-05-06T17:43:44.008Z"
   },
   {
    "duration": 52,
    "start_time": "2022-05-06T17:43:44.122Z"
   },
   {
    "duration": 39,
    "start_time": "2022-05-06T17:43:44.176Z"
   },
   {
    "duration": 11,
    "start_time": "2022-05-06T17:43:44.218Z"
   },
   {
    "duration": 40,
    "start_time": "2022-05-06T17:43:44.232Z"
   },
   {
    "duration": 32,
    "start_time": "2022-05-06T17:43:44.275Z"
   },
   {
    "duration": 39,
    "start_time": "2022-05-06T17:43:44.310Z"
   },
   {
    "duration": 56,
    "start_time": "2022-05-06T17:43:44.363Z"
   },
   {
    "duration": 10,
    "start_time": "2022-05-06T17:43:44.421Z"
   },
   {
    "duration": 23,
    "start_time": "2022-05-06T17:43:44.433Z"
   },
   {
    "duration": 1926,
    "start_time": "2022-05-06T17:43:44.458Z"
   },
   {
    "duration": 10,
    "start_time": "2022-05-06T17:43:46.387Z"
   },
   {
    "duration": 72,
    "start_time": "2022-05-06T17:43:46.399Z"
   },
   {
    "duration": 42,
    "start_time": "2022-05-06T17:43:46.474Z"
   },
   {
    "duration": 8,
    "start_time": "2022-05-06T17:43:46.519Z"
   },
   {
    "duration": 616,
    "start_time": "2022-05-06T17:47:21.907Z"
   },
   {
    "duration": 25,
    "start_time": "2022-05-06T17:47:22.525Z"
   },
   {
    "duration": 47,
    "start_time": "2022-05-06T17:47:22.554Z"
   },
   {
    "duration": 91,
    "start_time": "2022-05-06T17:47:22.603Z"
   },
   {
    "duration": 15,
    "start_time": "2022-05-06T17:47:22.697Z"
   },
   {
    "duration": 113,
    "start_time": "2022-05-06T17:47:22.714Z"
   },
   {
    "duration": 111,
    "start_time": "2022-05-06T17:47:22.848Z"
   },
   {
    "duration": 129,
    "start_time": "2022-05-06T17:47:22.969Z"
   },
   {
    "duration": 53,
    "start_time": "2022-05-06T17:47:23.101Z"
   },
   {
    "duration": 82,
    "start_time": "2022-05-06T17:47:23.163Z"
   },
   {
    "duration": 66,
    "start_time": "2022-05-06T17:47:23.247Z"
   },
   {
    "duration": 75,
    "start_time": "2022-05-06T17:47:23.316Z"
   },
   {
    "duration": 111,
    "start_time": "2022-05-06T17:47:23.393Z"
   },
   {
    "duration": 66,
    "start_time": "2022-05-06T17:47:23.506Z"
   },
   {
    "duration": 33,
    "start_time": "2022-05-06T17:47:23.574Z"
   },
   {
    "duration": 57,
    "start_time": "2022-05-06T17:47:23.611Z"
   },
   {
    "duration": 133,
    "start_time": "2022-05-06T17:47:23.671Z"
   },
   {
    "duration": 31,
    "start_time": "2022-05-06T17:47:23.807Z"
   },
   {
    "duration": 55,
    "start_time": "2022-05-06T17:47:23.840Z"
   },
   {
    "duration": 22,
    "start_time": "2022-05-06T17:47:23.897Z"
   },
   {
    "duration": 133,
    "start_time": "2022-05-06T17:47:23.922Z"
   },
   {
    "duration": 44,
    "start_time": "2022-05-06T17:47:24.057Z"
   },
   {
    "duration": 56,
    "start_time": "2022-05-06T17:47:24.104Z"
   },
   {
    "duration": 17,
    "start_time": "2022-05-06T17:47:24.163Z"
   },
   {
    "duration": 24,
    "start_time": "2022-05-06T17:47:24.184Z"
   },
   {
    "duration": 14,
    "start_time": "2022-05-06T17:47:24.211Z"
   },
   {
    "duration": 77,
    "start_time": "2022-05-06T17:47:24.228Z"
   },
   {
    "duration": 24,
    "start_time": "2022-05-06T17:47:24.313Z"
   },
   {
    "duration": 0,
    "start_time": "2022-05-06T17:47:24.340Z"
   },
   {
    "duration": 0,
    "start_time": "2022-05-06T17:47:24.342Z"
   },
   {
    "duration": 0,
    "start_time": "2022-05-06T17:47:24.345Z"
   },
   {
    "duration": 0,
    "start_time": "2022-05-06T17:47:24.347Z"
   },
   {
    "duration": 0,
    "start_time": "2022-05-06T17:47:24.360Z"
   },
   {
    "duration": 0,
    "start_time": "2022-05-06T17:47:24.362Z"
   },
   {
    "duration": 0,
    "start_time": "2022-05-06T17:47:24.363Z"
   },
   {
    "duration": 618,
    "start_time": "2022-05-06T17:48:42.484Z"
   },
   {
    "duration": 23,
    "start_time": "2022-05-06T17:48:43.104Z"
   },
   {
    "duration": 19,
    "start_time": "2022-05-06T17:48:43.129Z"
   },
   {
    "duration": 110,
    "start_time": "2022-05-06T17:48:43.151Z"
   },
   {
    "duration": 19,
    "start_time": "2022-05-06T17:48:43.269Z"
   },
   {
    "duration": 97,
    "start_time": "2022-05-06T17:48:43.291Z"
   },
   {
    "duration": 36,
    "start_time": "2022-05-06T17:48:43.391Z"
   },
   {
    "duration": 75,
    "start_time": "2022-05-06T17:48:43.429Z"
   },
   {
    "duration": 54,
    "start_time": "2022-05-06T17:48:43.507Z"
   },
   {
    "duration": 81,
    "start_time": "2022-05-06T17:48:43.567Z"
   },
   {
    "duration": 76,
    "start_time": "2022-05-06T17:48:43.650Z"
   },
   {
    "duration": 50,
    "start_time": "2022-05-06T17:48:43.729Z"
   },
   {
    "duration": 110,
    "start_time": "2022-05-06T17:48:43.782Z"
   },
   {
    "duration": 44,
    "start_time": "2022-05-06T17:48:43.895Z"
   },
   {
    "duration": 57,
    "start_time": "2022-05-06T17:48:43.942Z"
   },
   {
    "duration": 24,
    "start_time": "2022-05-06T17:48:44.002Z"
   },
   {
    "duration": 98,
    "start_time": "2022-05-06T17:48:44.028Z"
   },
   {
    "duration": 167,
    "start_time": "2022-05-06T17:48:44.128Z"
   },
   {
    "duration": 27,
    "start_time": "2022-05-06T17:48:44.298Z"
   },
   {
    "duration": 11,
    "start_time": "2022-05-06T17:48:44.327Z"
   },
   {
    "duration": 105,
    "start_time": "2022-05-06T17:48:44.371Z"
   },
   {
    "duration": 31,
    "start_time": "2022-05-06T17:48:44.479Z"
   },
   {
    "duration": 82,
    "start_time": "2022-05-06T17:48:44.512Z"
   },
   {
    "duration": 10,
    "start_time": "2022-05-06T17:48:44.596Z"
   },
   {
    "duration": 6,
    "start_time": "2022-05-06T17:48:44.608Z"
   },
   {
    "duration": 12,
    "start_time": "2022-05-06T17:48:44.616Z"
   },
   {
    "duration": 76,
    "start_time": "2022-05-06T17:48:44.630Z"
   },
   {
    "duration": 15,
    "start_time": "2022-05-06T17:48:44.711Z"
   },
   {
    "duration": 0,
    "start_time": "2022-05-06T17:48:44.728Z"
   },
   {
    "duration": 0,
    "start_time": "2022-05-06T17:48:44.730Z"
   },
   {
    "duration": 0,
    "start_time": "2022-05-06T17:48:44.732Z"
   },
   {
    "duration": 0,
    "start_time": "2022-05-06T17:48:44.733Z"
   },
   {
    "duration": 0,
    "start_time": "2022-05-06T17:48:44.734Z"
   },
   {
    "duration": 0,
    "start_time": "2022-05-06T17:48:44.755Z"
   },
   {
    "duration": 0,
    "start_time": "2022-05-06T17:48:44.756Z"
   },
   {
    "duration": 629,
    "start_time": "2022-05-06T17:49:36.377Z"
   },
   {
    "duration": 24,
    "start_time": "2022-05-06T17:49:37.008Z"
   },
   {
    "duration": 21,
    "start_time": "2022-05-06T17:49:37.034Z"
   },
   {
    "duration": 101,
    "start_time": "2022-05-06T17:49:37.058Z"
   },
   {
    "duration": 17,
    "start_time": "2022-05-06T17:49:37.164Z"
   },
   {
    "duration": 117,
    "start_time": "2022-05-06T17:49:37.184Z"
   },
   {
    "duration": 37,
    "start_time": "2022-05-06T17:49:37.304Z"
   },
   {
    "duration": 73,
    "start_time": "2022-05-06T17:49:37.344Z"
   },
   {
    "duration": 58,
    "start_time": "2022-05-06T17:49:37.420Z"
   },
   {
    "duration": 100,
    "start_time": "2022-05-06T17:49:37.480Z"
   },
   {
    "duration": 62,
    "start_time": "2022-05-06T17:49:37.582Z"
   },
   {
    "duration": 60,
    "start_time": "2022-05-06T17:49:37.647Z"
   },
   {
    "duration": 108,
    "start_time": "2022-05-06T17:49:37.709Z"
   },
   {
    "duration": 71,
    "start_time": "2022-05-06T17:49:37.821Z"
   },
   {
    "duration": 29,
    "start_time": "2022-05-06T17:49:37.895Z"
   },
   {
    "duration": 43,
    "start_time": "2022-05-06T17:49:37.926Z"
   },
   {
    "duration": 102,
    "start_time": "2022-05-06T17:49:37.971Z"
   },
   {
    "duration": 37,
    "start_time": "2022-05-06T17:49:38.076Z"
   },
   {
    "duration": 61,
    "start_time": "2022-05-06T17:49:38.116Z"
   },
   {
    "duration": 18,
    "start_time": "2022-05-06T17:49:38.179Z"
   },
   {
    "duration": 123,
    "start_time": "2022-05-06T17:49:38.199Z"
   },
   {
    "duration": 30,
    "start_time": "2022-05-06T17:49:38.325Z"
   },
   {
    "duration": 69,
    "start_time": "2022-05-06T17:49:38.364Z"
   },
   {
    "duration": 10,
    "start_time": "2022-05-06T17:49:38.436Z"
   },
   {
    "duration": 47,
    "start_time": "2022-05-06T17:49:38.448Z"
   },
   {
    "duration": 22,
    "start_time": "2022-05-06T17:49:38.497Z"
   },
   {
    "duration": 69,
    "start_time": "2022-05-06T17:49:38.521Z"
   },
   {
    "duration": 50,
    "start_time": "2022-05-06T17:49:38.592Z"
   },
   {
    "duration": 22,
    "start_time": "2022-05-06T17:49:38.644Z"
   },
   {
    "duration": 26,
    "start_time": "2022-05-06T17:49:38.669Z"
   },
   {
    "duration": 1908,
    "start_time": "2022-05-06T17:49:38.698Z"
   },
   {
    "duration": 7,
    "start_time": "2022-05-06T17:49:40.608Z"
   },
   {
    "duration": 64,
    "start_time": "2022-05-06T17:49:40.617Z"
   },
   {
    "duration": 41,
    "start_time": "2022-05-06T17:49:40.684Z"
   },
   {
    "duration": 32,
    "start_time": "2022-05-06T17:49:40.728Z"
   }
  ],
  "kernelspec": {
   "display_name": "Python 3 (ipykernel)",
   "language": "python",
   "name": "python3"
  },
  "language_info": {
   "codemirror_mode": {
    "name": "ipython",
    "version": 3
   },
   "file_extension": ".py",
   "mimetype": "text/x-python",
   "name": "python",
   "nbconvert_exporter": "python",
   "pygments_lexer": "ipython3",
   "version": "3.9.5"
  },
  "toc": {
   "base_numbering": 1,
   "nav_menu": {},
   "number_sections": true,
   "sideBar": true,
   "skip_h1_title": true,
   "title_cell": "Table of Contents",
   "title_sidebar": "Contents",
   "toc_cell": false,
   "toc_position": {},
   "toc_section_display": true,
   "toc_window_display": false
  }
 },
 "nbformat": 4,
 "nbformat_minor": 2
}
